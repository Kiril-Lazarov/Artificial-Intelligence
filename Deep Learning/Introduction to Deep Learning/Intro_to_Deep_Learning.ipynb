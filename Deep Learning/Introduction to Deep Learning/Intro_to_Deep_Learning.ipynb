{
  "nbformat": 4,
  "nbformat_minor": 0,
  "metadata": {
    "colab": {
      "provenance": []
    },
    "kernelspec": {
      "name": "python3",
      "display_name": "Python 3"
    },
    "language_info": {
      "name": "python"
    }
  },
  "cells": [
    {
      "cell_type": "code",
      "execution_count": 10,
      "metadata": {
        "id": "-fEi11CNEXUL",
        "colab": {
          "base_uri": "https://localhost:8080/"
        },
        "outputId": "0271d5fc-4dec-4869-c605-d8d9d4d13c42"
      },
      "outputs": [
        {
          "output_type": "stream",
          "name": "stdout",
          "text": [
            "/bin/bash: line 1: nvidia-smi: command not found\n"
          ]
        }
      ],
      "source": [
        "!nvidia-smi"
      ]
    },
    {
      "cell_type": "markdown",
      "source": [
        "# Introduction to Deep Learning"
      ],
      "metadata": {
        "id": "VDNh-bGWubAw"
      }
    },
    {
      "cell_type": "code",
      "source": [
        "import tensorflow as tf\n",
        "\n",
        "from tensorflow.keras.models import Sequential\n",
        "from tensorflow.keras.layers import Input, Dense\n",
        "\n",
        "from sklearn.datasets import load_iris"
      ],
      "metadata": {
        "id": "HJiLs6LTLyKp"
      },
      "execution_count": 11,
      "outputs": []
    },
    {
      "cell_type": "code",
      "source": [
        "tf.config.list_physical_devices()"
      ],
      "metadata": {
        "colab": {
          "base_uri": "https://localhost:8080/"
        },
        "id": "Yfb30gU5L3YX",
        "outputId": "6cc61dc4-3cfb-4a38-f860-eb98561dd10b"
      },
      "execution_count": 12,
      "outputs": [
        {
          "output_type": "execute_result",
          "data": {
            "text/plain": [
              "[PhysicalDevice(name='/physical_device:CPU:0', device_type='CPU')]"
            ]
          },
          "metadata": {},
          "execution_count": 12
        }
      ]
    },
    {
      "cell_type": "code",
      "source": [
        "gpu = tf.config.list_physical_devices('GPU')[0]"
      ],
      "metadata": {
        "colab": {
          "base_uri": "https://localhost:8080/",
          "height": 146
        },
        "id": "DUvUvjNgMaeJ",
        "outputId": "65c3ab6f-b06f-4b0e-868e-de8a2bf92c0b"
      },
      "execution_count": 13,
      "outputs": [
        {
          "output_type": "error",
          "ename": "IndexError",
          "evalue": "list index out of range",
          "traceback": [
            "\u001b[0;31m---------------------------------------------------------------------------\u001b[0m",
            "\u001b[0;31mIndexError\u001b[0m                                Traceback (most recent call last)",
            "\u001b[0;32m<ipython-input-13-d666324c16f4>\u001b[0m in \u001b[0;36m<cell line: 1>\u001b[0;34m()\u001b[0m\n\u001b[0;32m----> 1\u001b[0;31m \u001b[0mgpu\u001b[0m \u001b[0;34m=\u001b[0m \u001b[0mtf\u001b[0m\u001b[0;34m.\u001b[0m\u001b[0mconfig\u001b[0m\u001b[0;34m.\u001b[0m\u001b[0mlist_physical_devices\u001b[0m\u001b[0;34m(\u001b[0m\u001b[0;34m'GPU'\u001b[0m\u001b[0;34m)\u001b[0m\u001b[0;34m[\u001b[0m\u001b[0;36m0\u001b[0m\u001b[0;34m]\u001b[0m\u001b[0;34m\u001b[0m\u001b[0;34m\u001b[0m\u001b[0m\n\u001b[0m",
            "\u001b[0;31mIndexError\u001b[0m: list index out of range"
          ]
        }
      ]
    },
    {
      "cell_type": "code",
      "source": [
        "# Get a small part of the memory\n",
        "tf.config.experimental.set_memory_growth(gpu, True)"
      ],
      "metadata": {
        "id": "HrMaQhnQL-IL",
        "colab": {
          "base_uri": "https://localhost:8080/",
          "height": 164
        },
        "outputId": "a2572841-2202-4bfb-a7c5-9b2cec64c576"
      },
      "execution_count": 14,
      "outputs": [
        {
          "output_type": "error",
          "ename": "NameError",
          "evalue": "name 'gpu' is not defined",
          "traceback": [
            "\u001b[0;31m---------------------------------------------------------------------------\u001b[0m",
            "\u001b[0;31mNameError\u001b[0m                                 Traceback (most recent call last)",
            "\u001b[0;32m<ipython-input-14-6a144e519698>\u001b[0m in \u001b[0;36m<cell line: 2>\u001b[0;34m()\u001b[0m\n\u001b[1;32m      1\u001b[0m \u001b[0;31m# Get a small part of the memory\u001b[0m\u001b[0;34m\u001b[0m\u001b[0;34m\u001b[0m\u001b[0m\n\u001b[0;32m----> 2\u001b[0;31m \u001b[0mtf\u001b[0m\u001b[0;34m.\u001b[0m\u001b[0mconfig\u001b[0m\u001b[0;34m.\u001b[0m\u001b[0mexperimental\u001b[0m\u001b[0;34m.\u001b[0m\u001b[0mset_memory_growth\u001b[0m\u001b[0;34m(\u001b[0m\u001b[0mgpu\u001b[0m\u001b[0;34m,\u001b[0m \u001b[0;32mTrue\u001b[0m\u001b[0;34m)\u001b[0m\u001b[0;34m\u001b[0m\u001b[0;34m\u001b[0m\u001b[0m\n\u001b[0m",
            "\u001b[0;31mNameError\u001b[0m: name 'gpu' is not defined"
          ]
        }
      ]
    },
    {
      "cell_type": "code",
      "source": [
        "a = tf.constant(15)\n",
        "b = tf.constant(38)"
      ],
      "metadata": {
        "id": "p_O9rmBkTcT4"
      },
      "execution_count": 15,
      "outputs": []
    },
    {
      "cell_type": "code",
      "source": [
        "tf.pow(tf.add(tf.multiply(2, a), tf.multiply(3, b)), 2)"
      ],
      "metadata": {
        "id": "sV8f5-q6vfJS",
        "colab": {
          "base_uri": "https://localhost:8080/"
        },
        "outputId": "337cfb0c-6bad-421f-f5db-ee3411ba8f99"
      },
      "execution_count": 16,
      "outputs": [
        {
          "output_type": "execute_result",
          "data": {
            "text/plain": [
              "<tf.Tensor: shape=(), dtype=int32, numpy=20736>"
            ]
          },
          "metadata": {},
          "execution_count": 16
        }
      ]
    },
    {
      "cell_type": "code",
      "source": [
        "a = tf.constant([2, 15, 21, -244, 0, 4])\n",
        "b = tf.constant([3, 2, 20, 200, 18, 15])"
      ],
      "metadata": {
        "id": "NQdv5TeLvgKO"
      },
      "execution_count": 17,
      "outputs": []
    },
    {
      "cell_type": "code",
      "source": [
        "tf.pow(tf.add(tf.multiply(2, a), tf.multiply(3, b)), 2)"
      ],
      "metadata": {
        "id": "c-vUx0VrwV5g",
        "colab": {
          "base_uri": "https://localhost:8080/"
        },
        "outputId": "8a244191-96a9-457b-8bd3-a7461d809c17"
      },
      "execution_count": 18,
      "outputs": [
        {
          "output_type": "execute_result",
          "data": {
            "text/plain": [
              "<tf.Tensor: shape=(6,), dtype=int32, numpy=array([  169,  1296, 10404, 12544,  2916,  2809], dtype=int32)>"
            ]
          },
          "metadata": {},
          "execution_count": 18
        }
      ]
    },
    {
      "cell_type": "code",
      "source": [
        "(2 * a + 3 * b) ** 2"
      ],
      "metadata": {
        "id": "aGoVAWIqwXgv",
        "colab": {
          "base_uri": "https://localhost:8080/"
        },
        "outputId": "d89df09f-f35d-4ff9-9407-a1b2da2351b1"
      },
      "execution_count": 19,
      "outputs": [
        {
          "output_type": "execute_result",
          "data": {
            "text/plain": [
              "<tf.Tensor: shape=(6,), dtype=int32, numpy=array([  169,  1296, 10404, 12544,  2916,  2809], dtype=int32)>"
            ]
          },
          "metadata": {},
          "execution_count": 19
        }
      ]
    },
    {
      "cell_type": "code",
      "source": [
        "a = tf.random.uniform([5, 8], 0, 20)\n",
        "b = tf.random.uniform([5, 8], 0, 20)"
      ],
      "metadata": {
        "id": "0CmpGqgjyj12"
      },
      "execution_count": 20,
      "outputs": []
    },
    {
      "cell_type": "code",
      "source": [
        "a, b"
      ],
      "metadata": {
        "id": "KIHVSwRsytkG",
        "colab": {
          "base_uri": "https://localhost:8080/"
        },
        "outputId": "85281de0-0eb4-4a3b-a94a-b963883a2802"
      },
      "execution_count": 21,
      "outputs": [
        {
          "output_type": "execute_result",
          "data": {
            "text/plain": [
              "(<tf.Tensor: shape=(5, 8), dtype=float32, numpy=\n",
              " array([[ 2.525394 , 14.110312 , 15.842509 ,  1.6108727, 17.60418  ,\n",
              "          8.688843 ,  1.9765782,  4.3224382],\n",
              "        [19.195843 , 19.384838 , 15.11945  , 19.057732 , 13.940056 ,\n",
              "         17.644417 ,  0.9425044,  1.2906456],\n",
              "        [13.665662 , 11.985825 , 17.408348 , 13.843908 ,  5.8288884,\n",
              "          3.650589 , 11.01506  ,  8.827801 ],\n",
              "        [ 5.806763 , 13.07097  ,  6.3495517,  9.8624115,  0.3851843,\n",
              "          7.0407844, 18.324032 , 13.048868 ],\n",
              "        [ 6.9619584, 15.1429   , 12.577834 , 17.048513 , 15.323179 ,\n",
              "         14.9272995,  8.643372 ,  2.2662306]], dtype=float32)>,\n",
              " <tf.Tensor: shape=(5, 8), dtype=float32, numpy=\n",
              " array([[19.659939  , 18.65444   ,  8.771887  , 14.973288  , 14.007961  ,\n",
              "          2.2310638 ,  0.46063662,  5.3653812 ],\n",
              "        [ 1.2681055 ,  8.214447  ,  9.126382  , 17.466383  , 16.243118  ,\n",
              "          5.7319546 , 14.762244  , 11.222507  ],\n",
              "        [10.19146   , 14.621094  ,  3.7354112 , 10.491764  , 11.013926  ,\n",
              "         15.318968  , 16.941113  , 10.382767  ],\n",
              "        [17.91613   ,  6.729789  ,  2.9527783 ,  7.666366  , 18.722479  ,\n",
              "          0.20184278, 11.637447  ,  9.675362  ],\n",
              "        [ 5.3941917 , 12.715831  ,  8.137655  , 19.171192  , 16.235363  ,\n",
              "          6.1587405 ,  4.8087835 , 18.342133  ]], dtype=float32)>)"
            ]
          },
          "metadata": {},
          "execution_count": 21
        }
      ]
    },
    {
      "cell_type": "code",
      "source": [
        "(2 * a + 3 * b) ** 2"
      ],
      "metadata": {
        "id": "CGUPDsoMy2rp",
        "colab": {
          "base_uri": "https://localhost:8080/"
        },
        "outputId": "40c527c4-ace0-4249-a014-8c2f494a27e7"
      },
      "execution_count": 22,
      "outputs": [
        {
          "output_type": "execute_result",
          "data": {
            "text/plain": [
              "<tf.Tensor: shape=(5, 8), dtype=float32, numpy=\n",
              "array([[4099.918   , 7086.9365  , 3364.0789  , 2317.6143  , 5964.819   ,\n",
              "         579.4071  ,   28.462933,  612.1181  ],\n",
              "       [1780.5027  , 4021.2107  , 3319.839   , 8192.895   , 5869.0103  ,\n",
              "        2754.6433  , 2131.8298  , 1313.9764  ],\n",
              "       [3353.0703  , 4601.5776  , 2118.11    , 3500.2734  , 1998.0502  ,\n",
              "        2836.423   , 5307.626   , 2381.8208  ],\n",
              "       [4272.18    , 2146.5898  ,  464.72314 , 1825.3336  , 3241.9136  ,\n",
              "         215.71083 , 5120.892   , 3038.6357  ],\n",
              "       [ 906.4008  , 4683.1147  , 2457.0496  , 8392.503   , 6296.811   ,\n",
              "        2335.868   , 1005.7203  , 3547.2578  ]], dtype=float32)>"
            ]
          },
          "metadata": {},
          "execution_count": 22
        }
      ]
    },
    {
      "cell_type": "code",
      "source": [
        "# Declare a function with tf\n",
        "@tf.function\n",
        "def compute(a, b):\n",
        "  return (2 * a + 3 * b) ** 2"
      ],
      "metadata": {
        "id": "eC8-6D3szHBg"
      },
      "execution_count": 23,
      "outputs": []
    },
    {
      "cell_type": "code",
      "source": [
        "compute(a, b)"
      ],
      "metadata": {
        "id": "jZfbwJvazUR8",
        "colab": {
          "base_uri": "https://localhost:8080/"
        },
        "outputId": "6c99f4d4-612b-4073-c820-e239af795abe"
      },
      "execution_count": 24,
      "outputs": [
        {
          "output_type": "execute_result",
          "data": {
            "text/plain": [
              "<tf.Tensor: shape=(5, 8), dtype=float32, numpy=\n",
              "array([[4099.918   , 7086.9365  , 3364.0789  , 2317.6143  , 5964.819   ,\n",
              "         579.4071  ,   28.462933,  612.1181  ],\n",
              "       [1780.5027  , 4021.2107  , 3319.839   , 8192.895   , 5869.0103  ,\n",
              "        2754.6433  , 2131.8296  , 1313.9764  ],\n",
              "       [3353.07    , 4601.5776  , 2118.11    , 3500.2734  , 1998.0502  ,\n",
              "        2836.423   , 5307.626   , 2381.8208  ],\n",
              "       [4272.18    , 2146.5898  ,  464.7231  , 1825.3336  , 3241.9136  ,\n",
              "         215.71083 , 5120.892   , 3038.6357  ],\n",
              "       [ 906.4008  , 4683.1147  , 2457.0496  , 8392.503   , 6296.811   ,\n",
              "        2335.868   , 1005.7203  , 3547.2578  ]], dtype=float32)>"
            ]
          },
          "metadata": {},
          "execution_count": 24
        }
      ]
    },
    {
      "cell_type": "code",
      "source": [
        "compute(2, 3)"
      ],
      "metadata": {
        "id": "wVG3_0J6zhZP",
        "colab": {
          "base_uri": "https://localhost:8080/"
        },
        "outputId": "81ce99c7-2ef7-4f34-dabf-da960d9af1b9"
      },
      "execution_count": 25,
      "outputs": [
        {
          "output_type": "execute_result",
          "data": {
            "text/plain": [
              "<tf.Tensor: shape=(), dtype=int32, numpy=169>"
            ]
          },
          "metadata": {},
          "execution_count": 25
        }
      ]
    },
    {
      "cell_type": "code",
      "source": [
        "compute(tf.constant([2]), tf.constant([3]))"
      ],
      "metadata": {
        "id": "i5drq-otzjTb",
        "colab": {
          "base_uri": "https://localhost:8080/"
        },
        "outputId": "847bd887-6948-4ad2-84b0-1086b76bb7d0"
      },
      "execution_count": 26,
      "outputs": [
        {
          "output_type": "execute_result",
          "data": {
            "text/plain": [
              "<tf.Tensor: shape=(1,), dtype=int32, numpy=array([169], dtype=int32)>"
            ]
          },
          "metadata": {},
          "execution_count": 26
        }
      ]
    },
    {
      "cell_type": "code",
      "source": [
        "# Extract the value\n",
        "compute(tf.constant([2]), tf.constant([3])).numpy()[0]"
      ],
      "metadata": {
        "id": "ZQHqXzUF0KB4",
        "colab": {
          "base_uri": "https://localhost:8080/"
        },
        "outputId": "d9a49d85-fb38-4106-9c80-07c6078f75ed"
      },
      "execution_count": 27,
      "outputs": [
        {
          "output_type": "execute_result",
          "data": {
            "text/plain": [
              "169"
            ]
          },
          "metadata": {},
          "execution_count": 27
        }
      ]
    },
    {
      "cell_type": "code",
      "source": [
        "compute(a, b) / 100000"
      ],
      "metadata": {
        "id": "S2D2vyzA0PSn",
        "colab": {
          "base_uri": "https://localhost:8080/"
        },
        "outputId": "b3c1bb9b-f9e1-4ae4-e0ec-f3c20ce7e32b"
      },
      "execution_count": 28,
      "outputs": [
        {
          "output_type": "execute_result",
          "data": {
            "text/plain": [
              "<tf.Tensor: shape=(5, 8), dtype=float32, numpy=\n",
              "array([[0.04099918, 0.07086936, 0.03364079, 0.02317614, 0.05964819,\n",
              "        0.00579407, 0.00028463, 0.00612118],\n",
              "       [0.01780503, 0.04021211, 0.03319839, 0.08192895, 0.0586901 ,\n",
              "        0.02754643, 0.0213183 , 0.01313976],\n",
              "       [0.0335307 , 0.04601578, 0.0211811 , 0.03500273, 0.0199805 ,\n",
              "        0.02836423, 0.05307626, 0.02381821],\n",
              "       [0.0427218 , 0.0214659 , 0.00464723, 0.01825334, 0.03241913,\n",
              "        0.00215711, 0.05120892, 0.03038636],\n",
              "       [0.00906401, 0.04683115, 0.02457049, 0.08392503, 0.06296811,\n",
              "        0.02335868, 0.0100572 , 0.03547258]], dtype=float32)>"
            ]
          },
          "metadata": {},
          "execution_count": 28
        }
      ]
    },
    {
      "cell_type": "code",
      "source": [
        "x = tf.constant(5.0)"
      ],
      "metadata": {
        "id": "5_c42jLt07cg"
      },
      "execution_count": 29,
      "outputs": []
    },
    {
      "cell_type": "code",
      "source": [
        "with tf.GradientTape() as tape:\n",
        "  tape.watch(x)\n",
        "  y = x ** 2\n",
        "  grad_y = tape.gradient(y, x)"
      ],
      "metadata": {
        "id": "x9_7rOV610Uo"
      },
      "execution_count": 30,
      "outputs": []
    },
    {
      "cell_type": "code",
      "source": [
        "grad_y"
      ],
      "metadata": {
        "id": "mhiog0Gw1_-L",
        "colab": {
          "base_uri": "https://localhost:8080/"
        },
        "outputId": "971b2942-cf31-432a-a2ba-e4a08e070790"
      },
      "execution_count": 31,
      "outputs": [
        {
          "output_type": "execute_result",
          "data": {
            "text/plain": [
              "<tf.Tensor: shape=(), dtype=float32, numpy=10.0>"
            ]
          },
          "metadata": {},
          "execution_count": 31
        }
      ]
    },
    {
      "cell_type": "code",
      "source": [
        "with tf.GradientTape() as tape:\n",
        "  tape.watch(x)\n",
        "  y = tf.sin(x ** 2)\n",
        "  grad_y = tape.gradient(y, x)"
      ],
      "metadata": {
        "id": "OHGQADM12gRG"
      },
      "execution_count": 32,
      "outputs": []
    },
    {
      "cell_type": "code",
      "source": [
        "grad_y"
      ],
      "metadata": {
        "id": "cwsFc0cu21oz",
        "colab": {
          "base_uri": "https://localhost:8080/"
        },
        "outputId": "c9db809f-97b8-418c-b325-d889151b2adb"
      },
      "execution_count": 33,
      "outputs": [
        {
          "output_type": "execute_result",
          "data": {
            "text/plain": [
              "<tf.Tensor: shape=(), dtype=float32, numpy=9.912028>"
            ]
          },
          "metadata": {},
          "execution_count": 33
        }
      ]
    },
    {
      "cell_type": "markdown",
      "source": [
        "## Iris dataset"
      ],
      "metadata": {
        "id": "ld9N4VAr5ndQ"
      }
    },
    {
      "cell_type": "markdown",
      "source": [
        "### Logistic regression"
      ],
      "metadata": {
        "id": "lW8fYiYKQXUs"
      }
    },
    {
      "cell_type": "code",
      "source": [
        "X, y = load_iris().data, load_iris().target"
      ],
      "metadata": {
        "id": "kO9cLS105s2k"
      },
      "execution_count": 57,
      "outputs": []
    },
    {
      "cell_type": "code",
      "source": [
        "num_X = X.shape[1]\n",
        "num_classes = len(set(y))\n",
        "num_X, num_classes"
      ],
      "metadata": {
        "id": "xA1WbofT8dcy",
        "colab": {
          "base_uri": "https://localhost:8080/"
        },
        "outputId": "8baff0a8-cbbc-4e5d-8184-7941d7a92f1c"
      },
      "execution_count": 58,
      "outputs": [
        {
          "output_type": "execute_result",
          "data": {
            "text/plain": [
              "(4, 3)"
            ]
          },
          "metadata": {},
          "execution_count": 58
        }
      ]
    },
    {
      "cell_type": "code",
      "source": [
        "# Create a model\n",
        "logistic_regression = Sequential([\n",
        "    Input(num_X),\n",
        "    Dense(num_classes, activation = 'softmax')\n",
        "])"
      ],
      "metadata": {
        "id": "aQZKb3HY58Nw"
      },
      "execution_count": 59,
      "outputs": []
    },
    {
      "cell_type": "code",
      "source": [
        "logistic_regression.summary()"
      ],
      "metadata": {
        "id": "kUqn4ozn8zdI",
        "colab": {
          "base_uri": "https://localhost:8080/"
        },
        "outputId": "c29a6aef-969a-43f3-d833-1d2e09ae1436"
      },
      "execution_count": 60,
      "outputs": [
        {
          "output_type": "stream",
          "name": "stdout",
          "text": [
            "Model: \"sequential_2\"\n",
            "_________________________________________________________________\n",
            " Layer (type)                Output Shape              Param #   \n",
            "=================================================================\n",
            " dense_2 (Dense)             (None, 3)                 15        \n",
            "                                                                 \n",
            "=================================================================\n",
            "Total params: 15 (60.00 Byte)\n",
            "Trainable params: 15 (60.00 Byte)\n",
            "Non-trainable params: 0 (0.00 Byte)\n",
            "_________________________________________________________________\n"
          ]
        }
      ]
    },
    {
      "cell_type": "code",
      "source": [
        "# Adding loss function\n",
        "logistic_regression.compile(optimizer = 'sgd', loss = 'sparse_categorical_crossentropy')"
      ],
      "metadata": {
        "id": "OSMUZkoNHaCX"
      },
      "execution_count": 61,
      "outputs": []
    },
    {
      "cell_type": "code",
      "source": [
        "logistic_regression.fit(X, y, epochs = 100)"
      ],
      "metadata": {
        "colab": {
          "base_uri": "https://localhost:8080/"
        },
        "id": "OTW0a_TWKFao",
        "outputId": "caac12d3-b3fe-4338-b61c-f334c8e4d910"
      },
      "execution_count": 62,
      "outputs": [
        {
          "output_type": "stream",
          "name": "stdout",
          "text": [
            "Epoch 1/100\n",
            "5/5 [==============================] - 0s 2ms/step - loss: 4.2656\n",
            "Epoch 2/100\n",
            "5/5 [==============================] - 0s 2ms/step - loss: 3.0353\n",
            "Epoch 3/100\n",
            "5/5 [==============================] - 0s 2ms/step - loss: 2.3507\n",
            "Epoch 4/100\n",
            "5/5 [==============================] - 0s 2ms/step - loss: 2.1306\n",
            "Epoch 5/100\n",
            "5/5 [==============================] - 0s 2ms/step - loss: 2.0420\n",
            "Epoch 6/100\n",
            "5/5 [==============================] - 0s 2ms/step - loss: 1.9705\n",
            "Epoch 7/100\n",
            "5/5 [==============================] - 0s 1ms/step - loss: 1.9077\n",
            "Epoch 8/100\n",
            "5/5 [==============================] - 0s 2ms/step - loss: 1.8439\n",
            "Epoch 9/100\n",
            "5/5 [==============================] - 0s 2ms/step - loss: 1.7876\n",
            "Epoch 10/100\n",
            "5/5 [==============================] - 0s 2ms/step - loss: 1.7253\n",
            "Epoch 11/100\n",
            "5/5 [==============================] - 0s 2ms/step - loss: 1.6758\n",
            "Epoch 12/100\n",
            "5/5 [==============================] - 0s 2ms/step - loss: 1.6139\n",
            "Epoch 13/100\n",
            "5/5 [==============================] - 0s 2ms/step - loss: 1.5566\n",
            "Epoch 14/100\n",
            "5/5 [==============================] - 0s 2ms/step - loss: 1.5080\n",
            "Epoch 15/100\n",
            "5/5 [==============================] - 0s 2ms/step - loss: 1.4530\n",
            "Epoch 16/100\n",
            "5/5 [==============================] - 0s 2ms/step - loss: 1.4026\n",
            "Epoch 17/100\n",
            "5/5 [==============================] - 0s 2ms/step - loss: 1.3593\n",
            "Epoch 18/100\n",
            "5/5 [==============================] - 0s 2ms/step - loss: 1.3132\n",
            "Epoch 19/100\n",
            "5/5 [==============================] - 0s 2ms/step - loss: 1.2671\n",
            "Epoch 20/100\n",
            "5/5 [==============================] - 0s 2ms/step - loss: 1.2223\n",
            "Epoch 21/100\n",
            "5/5 [==============================] - 0s 2ms/step - loss: 1.1851\n",
            "Epoch 22/100\n",
            "5/5 [==============================] - 0s 2ms/step - loss: 1.1446\n",
            "Epoch 23/100\n",
            "5/5 [==============================] - 0s 2ms/step - loss: 1.1046\n",
            "Epoch 24/100\n",
            "5/5 [==============================] - 0s 2ms/step - loss: 1.0725\n",
            "Epoch 25/100\n",
            "5/5 [==============================] - 0s 2ms/step - loss: 1.0397\n",
            "Epoch 26/100\n",
            "5/5 [==============================] - 0s 2ms/step - loss: 1.0081\n",
            "Epoch 27/100\n",
            "5/5 [==============================] - 0s 2ms/step - loss: 0.9821\n",
            "Epoch 28/100\n",
            "5/5 [==============================] - 0s 3ms/step - loss: 0.9523\n",
            "Epoch 29/100\n",
            "5/5 [==============================] - 0s 2ms/step - loss: 0.9258\n",
            "Epoch 30/100\n",
            "5/5 [==============================] - 0s 1ms/step - loss: 0.9046\n",
            "Epoch 31/100\n",
            "5/5 [==============================] - 0s 1ms/step - loss: 0.8819\n",
            "Epoch 32/100\n",
            "5/5 [==============================] - 0s 2ms/step - loss: 0.8599\n",
            "Epoch 33/100\n",
            "5/5 [==============================] - 0s 2ms/step - loss: 0.8428\n",
            "Epoch 34/100\n",
            "5/5 [==============================] - 0s 2ms/step - loss: 0.8215\n",
            "Epoch 35/100\n",
            "5/5 [==============================] - 0s 2ms/step - loss: 0.8092\n",
            "Epoch 36/100\n",
            "5/5 [==============================] - 0s 2ms/step - loss: 0.7910\n",
            "Epoch 37/100\n",
            "5/5 [==============================] - 0s 2ms/step - loss: 0.7751\n",
            "Epoch 38/100\n",
            "5/5 [==============================] - 0s 2ms/step - loss: 0.7589\n",
            "Epoch 39/100\n",
            "5/5 [==============================] - 0s 2ms/step - loss: 0.7527\n",
            "Epoch 40/100\n",
            "5/5 [==============================] - 0s 2ms/step - loss: 0.7401\n",
            "Epoch 41/100\n",
            "5/5 [==============================] - 0s 2ms/step - loss: 0.7247\n",
            "Epoch 42/100\n",
            "5/5 [==============================] - 0s 2ms/step - loss: 0.7130\n",
            "Epoch 43/100\n",
            "5/5 [==============================] - 0s 2ms/step - loss: 0.7025\n",
            "Epoch 44/100\n",
            "5/5 [==============================] - 0s 2ms/step - loss: 0.6901\n",
            "Epoch 45/100\n",
            "5/5 [==============================] - 0s 2ms/step - loss: 0.6812\n",
            "Epoch 46/100\n",
            "5/5 [==============================] - 0s 2ms/step - loss: 0.6747\n",
            "Epoch 47/100\n",
            "5/5 [==============================] - 0s 2ms/step - loss: 0.6670\n",
            "Epoch 48/100\n",
            "5/5 [==============================] - 0s 2ms/step - loss: 0.6580\n",
            "Epoch 49/100\n",
            "5/5 [==============================] - 0s 2ms/step - loss: 0.6500\n",
            "Epoch 50/100\n",
            "5/5 [==============================] - 0s 2ms/step - loss: 0.6406\n",
            "Epoch 51/100\n",
            "5/5 [==============================] - 0s 2ms/step - loss: 0.6342\n",
            "Epoch 52/100\n",
            "5/5 [==============================] - 0s 2ms/step - loss: 0.6262\n",
            "Epoch 53/100\n",
            "5/5 [==============================] - 0s 2ms/step - loss: 0.6211\n",
            "Epoch 54/100\n",
            "5/5 [==============================] - 0s 2ms/step - loss: 0.6177\n",
            "Epoch 55/100\n",
            "5/5 [==============================] - 0s 2ms/step - loss: 0.6143\n",
            "Epoch 56/100\n",
            "5/5 [==============================] - 0s 2ms/step - loss: 0.6049\n",
            "Epoch 57/100\n",
            "5/5 [==============================] - 0s 2ms/step - loss: 0.5964\n",
            "Epoch 58/100\n",
            "5/5 [==============================] - 0s 2ms/step - loss: 0.5924\n",
            "Epoch 59/100\n",
            "5/5 [==============================] - 0s 2ms/step - loss: 0.5867\n",
            "Epoch 60/100\n",
            "5/5 [==============================] - 0s 2ms/step - loss: 0.5824\n",
            "Epoch 61/100\n",
            "5/5 [==============================] - 0s 2ms/step - loss: 0.5784\n",
            "Epoch 62/100\n",
            "5/5 [==============================] - 0s 2ms/step - loss: 0.5737\n",
            "Epoch 63/100\n",
            "5/5 [==============================] - 0s 2ms/step - loss: 0.5686\n",
            "Epoch 64/100\n",
            "5/5 [==============================] - 0s 2ms/step - loss: 0.5667\n",
            "Epoch 65/100\n",
            "5/5 [==============================] - 0s 2ms/step - loss: 0.5611\n",
            "Epoch 66/100\n",
            "5/5 [==============================] - 0s 2ms/step - loss: 0.5561\n",
            "Epoch 67/100\n",
            "5/5 [==============================] - 0s 2ms/step - loss: 0.5540\n",
            "Epoch 68/100\n",
            "5/5 [==============================] - 0s 2ms/step - loss: 0.5513\n",
            "Epoch 69/100\n",
            "5/5 [==============================] - 0s 2ms/step - loss: 0.5512\n",
            "Epoch 70/100\n",
            "5/5 [==============================] - 0s 2ms/step - loss: 0.5468\n",
            "Epoch 71/100\n",
            "5/5 [==============================] - 0s 2ms/step - loss: 0.5400\n",
            "Epoch 72/100\n",
            "5/5 [==============================] - 0s 2ms/step - loss: 0.5372\n",
            "Epoch 73/100\n",
            "5/5 [==============================] - 0s 2ms/step - loss: 0.5351\n",
            "Epoch 74/100\n",
            "5/5 [==============================] - 0s 3ms/step - loss: 0.5289\n",
            "Epoch 75/100\n",
            "5/5 [==============================] - 0s 2ms/step - loss: 0.5276\n",
            "Epoch 76/100\n",
            "5/5 [==============================] - 0s 3ms/step - loss: 0.5240\n",
            "Epoch 77/100\n",
            "5/5 [==============================] - 0s 2ms/step - loss: 0.5217\n",
            "Epoch 78/100\n",
            "5/5 [==============================] - 0s 2ms/step - loss: 0.5211\n",
            "Epoch 79/100\n",
            "5/5 [==============================] - 0s 2ms/step - loss: 0.5153\n",
            "Epoch 80/100\n",
            "5/5 [==============================] - 0s 2ms/step - loss: 0.5119\n",
            "Epoch 81/100\n",
            "5/5 [==============================] - 0s 2ms/step - loss: 0.5120\n",
            "Epoch 82/100\n",
            "5/5 [==============================] - 0s 2ms/step - loss: 0.5104\n",
            "Epoch 83/100\n",
            "5/5 [==============================] - 0s 2ms/step - loss: 0.5080\n",
            "Epoch 84/100\n",
            "5/5 [==============================] - 0s 2ms/step - loss: 0.5042\n",
            "Epoch 85/100\n",
            "5/5 [==============================] - 0s 3ms/step - loss: 0.4996\n",
            "Epoch 86/100\n",
            "5/5 [==============================] - 0s 3ms/step - loss: 0.4989\n",
            "Epoch 87/100\n",
            "5/5 [==============================] - 0s 3ms/step - loss: 0.4954\n",
            "Epoch 88/100\n",
            "5/5 [==============================] - 0s 2ms/step - loss: 0.4949\n",
            "Epoch 89/100\n",
            "5/5 [==============================] - 0s 2ms/step - loss: 0.4915\n",
            "Epoch 90/100\n",
            "5/5 [==============================] - 0s 2ms/step - loss: 0.4906\n",
            "Epoch 91/100\n",
            "5/5 [==============================] - 0s 2ms/step - loss: 0.4911\n",
            "Epoch 92/100\n",
            "5/5 [==============================] - 0s 2ms/step - loss: 0.4906\n",
            "Epoch 93/100\n",
            "5/5 [==============================] - 0s 2ms/step - loss: 0.4833\n",
            "Epoch 94/100\n",
            "5/5 [==============================] - 0s 3ms/step - loss: 0.4848\n",
            "Epoch 95/100\n",
            "5/5 [==============================] - 0s 2ms/step - loss: 0.4792\n",
            "Epoch 96/100\n",
            "5/5 [==============================] - 0s 2ms/step - loss: 0.4781\n",
            "Epoch 97/100\n",
            "5/5 [==============================] - 0s 3ms/step - loss: 0.4755\n",
            "Epoch 98/100\n",
            "5/5 [==============================] - 0s 3ms/step - loss: 0.4745\n",
            "Epoch 99/100\n",
            "5/5 [==============================] - 0s 2ms/step - loss: 0.4750\n",
            "Epoch 100/100\n",
            "5/5 [==============================] - 0s 2ms/step - loss: 0.4705\n"
          ]
        },
        {
          "output_type": "execute_result",
          "data": {
            "text/plain": [
              "<keras.src.callbacks.History at 0x78465031dc60>"
            ]
          },
          "metadata": {},
          "execution_count": 62
        }
      ]
    },
    {
      "cell_type": "code",
      "source": [
        "logistic_regression.predict(X)"
      ],
      "metadata": {
        "colab": {
          "base_uri": "https://localhost:8080/"
        },
        "id": "jULWy7w_OgGh",
        "outputId": "045aec0a-a04a-4033-cd5a-6dfec39c5554"
      },
      "execution_count": 63,
      "outputs": [
        {
          "output_type": "stream",
          "name": "stdout",
          "text": [
            "5/5 [==============================] - 0s 2ms/step\n"
          ]
        },
        {
          "output_type": "execute_result",
          "data": {
            "text/plain": [
              "array([[0.85859966, 0.11973038, 0.02166999],\n",
              "       [0.79012483, 0.1711419 , 0.0387332 ],\n",
              "       [0.8329215 , 0.13803068, 0.0290478 ],\n",
              "       [0.7851994 , 0.17582084, 0.03897976],\n",
              "       [0.8688054 , 0.11168563, 0.01950891],\n",
              "       [0.86295575, 0.11509357, 0.02195074],\n",
              "       [0.8404949 , 0.13080451, 0.02870064],\n",
              "       [0.83199763, 0.1411379 , 0.02686439],\n",
              "       [0.76876104, 0.18589342, 0.04534557],\n",
              "       [0.79147303, 0.17475449, 0.03377252],\n",
              "       [0.8699312 , 0.11179887, 0.01826987],\n",
              "       [0.8150045 , 0.15504232, 0.02995326],\n",
              "       [0.7925158 , 0.17253838, 0.03494588],\n",
              "       [0.8357005 , 0.13598454, 0.02831486],\n",
              "       [0.92509997, 0.06572626, 0.00917372],\n",
              "       [0.9261627 , 0.06415077, 0.00968655],\n",
              "       [0.90561724, 0.07935292, 0.01502979],\n",
              "       [0.85632324, 0.11937494, 0.0243018 ],\n",
              "       [0.8560176 , 0.12270569, 0.0212766 ],\n",
              "       [0.8763737 , 0.10479061, 0.01883566],\n",
              "       [0.80417055, 0.16511114, 0.03071829],\n",
              "       [0.8637338 , 0.11253627, 0.02372985],\n",
              "       [0.90791863, 0.07816149, 0.01391992],\n",
              "       [0.7747801 , 0.17573014, 0.04948976],\n",
              "       [0.762593  , 0.19879994, 0.03860702],\n",
              "       [0.7541725 , 0.20057397, 0.04525344],\n",
              "       [0.8105526 , 0.15262906, 0.03681838],\n",
              "       [0.8460839 , 0.13042454, 0.02349154],\n",
              "       [0.8477179 , 0.12823421, 0.02404789],\n",
              "       [0.7842319 , 0.17809395, 0.03767412],\n",
              "       [0.76902944, 0.18944658, 0.041524  ],\n",
              "       [0.82965136, 0.13798289, 0.0323656 ],\n",
              "       [0.9062935 , 0.08333857, 0.01036788],\n",
              "       [0.9219346 , 0.06900389, 0.00906152],\n",
              "       [0.78820455, 0.17397742, 0.03781804],\n",
              "       [0.84935546, 0.12491466, 0.02572981],\n",
              "       [0.8734839 , 0.10758261, 0.01893336],\n",
              "       [0.8700139 , 0.11241341, 0.01757263],\n",
              "       [0.8023345 , 0.1602505 , 0.03741494],\n",
              "       [0.8328117 , 0.14060132, 0.02658695],\n",
              "       [0.8681269 , 0.10947795, 0.02239515],\n",
              "       [0.6709537 , 0.2436935 , 0.08535264],\n",
              "       [0.8304275 , 0.13960789, 0.0299647 ],\n",
              "       [0.8175495 , 0.14114834, 0.04130211],\n",
              "       [0.82035464, 0.14925905, 0.03038634],\n",
              "       [0.7853471 , 0.17086886, 0.04378397],\n",
              "       [0.866458  , 0.11511443, 0.01842764],\n",
              "       [0.8168601 , 0.15108073, 0.03205923],\n",
              "       [0.8692835 , 0.11225166, 0.01846482],\n",
              "       [0.8337105 , 0.1387853 , 0.02750412],\n",
              "       [0.09622494, 0.5057809 , 0.3979941 ],\n",
              "       [0.10632962, 0.46606013, 0.42761025],\n",
              "       [0.06793401, 0.48232844, 0.44973752],\n",
              "       [0.07444541, 0.43784165, 0.48771292],\n",
              "       [0.06566853, 0.44910565, 0.48522586],\n",
              "       [0.07602464, 0.4866782 , 0.43729722],\n",
              "       [0.09120568, 0.45452145, 0.4542728 ],\n",
              "       [0.17481816, 0.46586302, 0.35931882],\n",
              "       [0.08109533, 0.5067186 , 0.412186  ],\n",
              "       [0.11228538, 0.4271873 , 0.46052715],\n",
              "       [0.10183004, 0.47028625, 0.42788365],\n",
              "       [0.11254194, 0.4380249 , 0.4494332 ],\n",
              "       [0.08187085, 0.5129165 , 0.40521264],\n",
              "       [0.06739961, 0.47895575, 0.45364457],\n",
              "       [0.19043404, 0.4367103 , 0.37285563],\n",
              "       [0.11398584, 0.4834451 , 0.4025691 ],\n",
              "       [0.08262841, 0.44707832, 0.47029325],\n",
              "       [0.11718217, 0.53512895, 0.34768882],\n",
              "       [0.03801537, 0.39818314, 0.5638014 ],\n",
              "       [0.11109667, 0.4930955 , 0.39580786],\n",
              "       [0.06459156, 0.39698705, 0.53842133],\n",
              "       [0.12598036, 0.46797183, 0.4060479 ],\n",
              "       [0.03502614, 0.42916873, 0.53580505],\n",
              "       [0.06755692, 0.523603  , 0.40884   ],\n",
              "       [0.10663018, 0.4908806 , 0.4024893 ],\n",
              "       [0.10303019, 0.47858316, 0.4183866 ],\n",
              "       [0.05819802, 0.48419842, 0.45760357],\n",
              "       [0.04877182, 0.4229944 , 0.5282338 ],\n",
              "       [0.07710879, 0.44612896, 0.47676224],\n",
              "       [0.18310727, 0.48767763, 0.32921514],\n",
              "       [0.11039908, 0.48314896, 0.4064519 ],\n",
              "       [0.12683845, 0.49991226, 0.3732492 ],\n",
              "       [0.12937786, 0.47858408, 0.39203817],\n",
              "       [0.03230749, 0.4168921 , 0.55080026],\n",
              "       [0.08139873, 0.4446616 , 0.47393963],\n",
              "       [0.11874872, 0.44643486, 0.4348164 ],\n",
              "       [0.08142987, 0.4731238 , 0.44544628],\n",
              "       [0.05323513, 0.45865998, 0.48810482],\n",
              "       [0.13343762, 0.47464046, 0.3919219 ],\n",
              "       [0.09074656, 0.4492351 , 0.46001828],\n",
              "       [0.07146204, 0.49417818, 0.4343597 ],\n",
              "       [0.08202942, 0.48148075, 0.43648982],\n",
              "       [0.1073964 , 0.48096883, 0.41163477],\n",
              "       [0.16126533, 0.46617794, 0.37255666],\n",
              "       [0.09159593, 0.46862683, 0.43977723],\n",
              "       [0.1280927 , 0.50382674, 0.36808065],\n",
              "       [0.1116193 , 0.47838292, 0.40999758],\n",
              "       [0.10516106, 0.4887743 , 0.4060647 ],\n",
              "       [0.2375716 , 0.41968083, 0.34274766],\n",
              "       [0.1116237 , 0.46946114, 0.41891518],\n",
              "       [0.01285384, 0.25018725, 0.73695886],\n",
              "       [0.02576651, 0.335366  , 0.63886744],\n",
              "       [0.01512602, 0.3307666 , 0.65410733],\n",
              "       [0.02146817, 0.3883489 , 0.59018296],\n",
              "       [0.01469769, 0.29769385, 0.68760854],\n",
              "       [0.00758777, 0.33790436, 0.6545079 ],\n",
              "       [0.04098944, 0.35260698, 0.60640347],\n",
              "       [0.01126421, 0.40515068, 0.583585  ],\n",
              "       [0.01159797, 0.3584159 , 0.6299861 ],\n",
              "       [0.01779589, 0.28457677, 0.6976274 ],\n",
              "       [0.04397527, 0.3596603 , 0.59636444],\n",
              "       [0.02208635, 0.34461683, 0.63329685],\n",
              "       [0.02233798, 0.32556143, 0.6521006 ],\n",
              "       [0.02094854, 0.29294243, 0.68610895],\n",
              "       [0.01918431, 0.22871812, 0.7520976 ],\n",
              "       [0.02835239, 0.2871839 , 0.68446374],\n",
              "       [0.02699419, 0.3994944 , 0.5735113 ],\n",
              "       [0.0156366 , 0.3862543 , 0.59810907],\n",
              "       [0.00298733, 0.25592503, 0.7410876 ],\n",
              "       [0.02234544, 0.3995082 , 0.5781463 ],\n",
              "       [0.01960361, 0.29509118, 0.6853051 ],\n",
              "       [0.03222336, 0.31478477, 0.65299183],\n",
              "       [0.00593234, 0.34706566, 0.647002  ],\n",
              "       [0.03554739, 0.36626306, 0.5981896 ],\n",
              "       [0.02510518, 0.3502675 , 0.6246274 ],\n",
              "       [0.02116014, 0.43094978, 0.54789007],\n",
              "       [0.04346467, 0.37168226, 0.58485305],\n",
              "       [0.04819173, 0.38713467, 0.5646735 ],\n",
              "       [0.01549597, 0.30378762, 0.68071634],\n",
              "       [0.02380819, 0.46722335, 0.5089684 ],\n",
              "       [0.01169532, 0.36974847, 0.61855626],\n",
              "       [0.02479245, 0.4429314 , 0.5322761 ],\n",
              "       [0.0142872 , 0.2800013 , 0.70571154],\n",
              "       [0.03911744, 0.4566408 , 0.50424176],\n",
              "       [0.01979146, 0.46867198, 0.51153654],\n",
              "       [0.01105861, 0.28971413, 0.6992272 ],\n",
              "       [0.02380968, 0.27942288, 0.69676745],\n",
              "       [0.02981069, 0.40669954, 0.56348974],\n",
              "       [0.0528593 , 0.38413048, 0.56301016],\n",
              "       [0.02793373, 0.33466506, 0.6374012 ],\n",
              "       [0.01754599, 0.26159194, 0.72086215],\n",
              "       [0.03259325, 0.2847734 , 0.6826333 ],\n",
              "       [0.02576651, 0.335366  , 0.63886744],\n",
              "       [0.01576454, 0.29417276, 0.69006264],\n",
              "       [0.01827911, 0.25470564, 0.7270153 ],\n",
              "       [0.02578627, 0.27538905, 0.6988247 ],\n",
              "       [0.02392284, 0.32516697, 0.6509102 ],\n",
              "       [0.03195572, 0.34488896, 0.62315536],\n",
              "       [0.03142361, 0.30044118, 0.6681353 ],\n",
              "       [0.03869125, 0.38715258, 0.57415617]], dtype=float32)"
            ]
          },
          "metadata": {},
          "execution_count": 63
        }
      ]
    },
    {
      "cell_type": "code",
      "source": [],
      "metadata": {
        "id": "jZyYVoyOPdop"
      },
      "execution_count": null,
      "outputs": []
    }
  ]
}