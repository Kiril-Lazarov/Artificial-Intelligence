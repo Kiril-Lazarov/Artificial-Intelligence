{
  "nbformat": 4,
  "nbformat_minor": 0,
  "metadata": {
    "colab": {
      "provenance": [],
      "gpuType": "T4"
    },
    "kernelspec": {
      "name": "python3",
      "display_name": "Python 3"
    },
    "language_info": {
      "name": "python"
    },
    "accelerator": "GPU"
  },
  "cells": [
    {
      "cell_type": "markdown",
      "source": [
        "# Introduction to Deep Learning"
      ],
      "metadata": {
        "id": "VDNh-bGWubAw"
      }
    },
    {
      "cell_type": "code",
      "execution_count": 1,
      "metadata": {
        "id": "-fEi11CNEXUL",
        "colab": {
          "base_uri": "https://localhost:8080/"
        },
        "outputId": "33f2349d-841d-427f-8786-78a6cb17a466"
      },
      "outputs": [
        {
          "output_type": "stream",
          "name": "stdout",
          "text": [
            "Mon Feb 26 23:14:22 2024       \n",
            "+---------------------------------------------------------------------------------------+\n",
            "| NVIDIA-SMI 535.104.05             Driver Version: 535.104.05   CUDA Version: 12.2     |\n",
            "|-----------------------------------------+----------------------+----------------------+\n",
            "| GPU  Name                 Persistence-M | Bus-Id        Disp.A | Volatile Uncorr. ECC |\n",
            "| Fan  Temp   Perf          Pwr:Usage/Cap |         Memory-Usage | GPU-Util  Compute M. |\n",
            "|                                         |                      |               MIG M. |\n",
            "|=========================================+======================+======================|\n",
            "|   0  Tesla T4                       Off | 00000000:00:04.0 Off |                    0 |\n",
            "| N/A   49C    P8               9W /  70W |      0MiB / 15360MiB |      0%      Default |\n",
            "|                                         |                      |                  N/A |\n",
            "+-----------------------------------------+----------------------+----------------------+\n",
            "                                                                                         \n",
            "+---------------------------------------------------------------------------------------+\n",
            "| Processes:                                                                            |\n",
            "|  GPU   GI   CI        PID   Type   Process name                            GPU Memory |\n",
            "|        ID   ID                                                             Usage      |\n",
            "|=======================================================================================|\n",
            "|  No running processes found                                                           |\n",
            "+---------------------------------------------------------------------------------------+\n"
          ]
        }
      ],
      "source": [
        "!nvidia-smi"
      ]
    },
    {
      "cell_type": "code",
      "source": [
        "import tensorflow as tf\n"
      ],
      "metadata": {
        "id": "HJiLs6LTLyKp"
      },
      "execution_count": 2,
      "outputs": []
    },
    {
      "cell_type": "code",
      "source": [
        "tf.config.list_physical_devices()"
      ],
      "metadata": {
        "colab": {
          "base_uri": "https://localhost:8080/"
        },
        "id": "Yfb30gU5L3YX",
        "outputId": "ad59dc76-d441-435f-8172-ad985d2caab6"
      },
      "execution_count": 3,
      "outputs": [
        {
          "output_type": "execute_result",
          "data": {
            "text/plain": [
              "[PhysicalDevice(name='/physical_device:CPU:0', device_type='CPU'),\n",
              " PhysicalDevice(name='/physical_device:GPU:0', device_type='GPU')]"
            ]
          },
          "metadata": {},
          "execution_count": 3
        }
      ]
    },
    {
      "cell_type": "code",
      "source": [
        "gpu = tf.config.list_physical_devices('GPU')[0]"
      ],
      "metadata": {
        "id": "DUvUvjNgMaeJ"
      },
      "execution_count": 4,
      "outputs": []
    },
    {
      "cell_type": "code",
      "source": [
        "# Get a small part of the memory\n",
        "tf.config.experimental.set_memory_growth(gpu, True)"
      ],
      "metadata": {
        "id": "HrMaQhnQL-IL"
      },
      "execution_count": 5,
      "outputs": []
    },
    {
      "cell_type": "code",
      "source": [
        "a = tf.constant(15)\n",
        "b = tf.constant(38)"
      ],
      "metadata": {
        "id": "p_O9rmBkTcT4"
      },
      "execution_count": 9,
      "outputs": []
    },
    {
      "cell_type": "code",
      "source": [
        "tf.pow(tf.add(tf.multiply(2, a), tf.multiply(3, b)), 2)"
      ],
      "metadata": {
        "colab": {
          "base_uri": "https://localhost:8080/"
        },
        "id": "sV8f5-q6vfJS",
        "outputId": "00e133c0-04aa-49b7-ab06-c3f46d88a707"
      },
      "execution_count": 12,
      "outputs": [
        {
          "output_type": "execute_result",
          "data": {
            "text/plain": [
              "<tf.Tensor: shape=(), dtype=int32, numpy=20736>"
            ]
          },
          "metadata": {},
          "execution_count": 12
        }
      ]
    },
    {
      "cell_type": "code",
      "source": [
        "a = tf.constant([2, 15, 21, -244, 0, 4])\n",
        "b = tf.constant([3, 2, 20, 200, 18, 15])"
      ],
      "metadata": {
        "id": "NQdv5TeLvgKO"
      },
      "execution_count": 13,
      "outputs": []
    },
    {
      "cell_type": "code",
      "source": [
        "tf.pow(tf.add(tf.multiply(2, a), tf.multiply(3, b)), 2)"
      ],
      "metadata": {
        "colab": {
          "base_uri": "https://localhost:8080/"
        },
        "id": "c-vUx0VrwV5g",
        "outputId": "e108feb4-cd89-48e2-93cf-000c60ffa69a"
      },
      "execution_count": 14,
      "outputs": [
        {
          "output_type": "execute_result",
          "data": {
            "text/plain": [
              "<tf.Tensor: shape=(6,), dtype=int32, numpy=array([  169,  1296, 10404, 12544,  2916,  2809], dtype=int32)>"
            ]
          },
          "metadata": {},
          "execution_count": 14
        }
      ]
    },
    {
      "cell_type": "code",
      "source": [
        "(2 * a + 3 * b) ** 2"
      ],
      "metadata": {
        "colab": {
          "base_uri": "https://localhost:8080/"
        },
        "id": "aGoVAWIqwXgv",
        "outputId": "78be459f-8fc3-4d92-f318-6a9f4f96d8f3"
      },
      "execution_count": 15,
      "outputs": [
        {
          "output_type": "execute_result",
          "data": {
            "text/plain": [
              "<tf.Tensor: shape=(6,), dtype=int32, numpy=array([  169,  1296, 10404, 12544,  2916,  2809], dtype=int32)>"
            ]
          },
          "metadata": {},
          "execution_count": 15
        }
      ]
    },
    {
      "cell_type": "code",
      "source": [
        "a = tf.random.uniform([5, 8], 0, 20)\n",
        "b = tf.random.uniform([5, 8], 0, 20)"
      ],
      "metadata": {
        "id": "0CmpGqgjyj12"
      },
      "execution_count": 17,
      "outputs": []
    },
    {
      "cell_type": "code",
      "source": [
        "a, b"
      ],
      "metadata": {
        "colab": {
          "base_uri": "https://localhost:8080/"
        },
        "id": "KIHVSwRsytkG",
        "outputId": "ea16d8dc-de55-4999-eb7f-3f5fa9382c2f"
      },
      "execution_count": 18,
      "outputs": [
        {
          "output_type": "execute_result",
          "data": {
            "text/plain": [
              "(<tf.Tensor: shape=(5, 8), dtype=float32, numpy=\n",
              " array([[10.329475  , 14.882553  ,  3.1123567 , 12.624414  ,  6.8871546 ,\n",
              "         16.96988   ,  6.120496  ,  0.842731  ],\n",
              "        [ 6.9967723 ,  5.3284216 , 19.504156  , 15.07062   ,  8.162853  ,\n",
              "         18.249884  , 12.471697  ,  5.7844687 ],\n",
              "        [10.017109  ,  0.3657055 , 18.204697  , 18.6186    ,  8.557596  ,\n",
              "          0.74575424,  8.018217  , 16.45938   ],\n",
              "        [10.702402  , 19.177185  ,  0.51934004, 13.245251  ,  7.655487  ,\n",
              "          0.7800293 , 16.261942  ,  5.3403735 ],\n",
              "        [16.97992   , 17.654772  ,  1.3704967 ,  9.546871  ,  4.9511456 ,\n",
              "          7.674792  ,  0.19906044, 14.660659  ]], dtype=float32)>,\n",
              " <tf.Tensor: shape=(5, 8), dtype=float32, numpy=\n",
              " array([[ 0.9586477 , 18.4577    ,  6.856458  ,  2.1390057 , 19.386139  ,\n",
              "          4.7993517 ,  3.6928415 , 12.038586  ],\n",
              "        [12.529228  , 18.606602  ,  0.67641497, 10.475294  , 16.382856  ,\n",
              "         15.649717  , 10.575075  ,  0.758574  ],\n",
              "        [11.265772  ,  3.4023833 ,  6.349659  , 14.999638  , 11.719522  ,\n",
              "         18.421726  ,  3.3058977 , 16.765236  ],\n",
              "        [13.796053  , 19.856413  , 10.872254  , 16.637161  , 12.638516  ,\n",
              "         19.18179   ,  0.09781837,  8.278177  ],\n",
              "        [13.029345  ,  1.0262585 , 15.06695   ,  0.7124424 ,  9.540232  ,\n",
              "         16.105158  , 11.914213  ,  6.9084644 ]], dtype=float32)>)"
            ]
          },
          "metadata": {},
          "execution_count": 18
        }
      ]
    },
    {
      "cell_type": "code",
      "source": [
        "(2 * a + 3 * b) ** 2"
      ],
      "metadata": {
        "colab": {
          "base_uri": "https://localhost:8080/"
        },
        "id": "CGUPDsoMy2rp",
        "outputId": "ffbfac2b-4b38-4b0e-b936-db49c6ac0277"
      },
      "execution_count": 19,
      "outputs": [
        {
          "output_type": "execute_result",
          "data": {
            "text/plain": [
              "<tf.Tensor: shape=(5, 8), dtype=float32, numpy=\n",
              "array([[ 553.89124, 7248.514  ,  717.9231 , 1002.72577, 5174.317  ,\n",
              "        2336.5442 ,  543.7998 , 1428.9323 ],\n",
              "       [2660.6233 , 4419.1445 , 1684.0809 , 3790.5107 , 4286.8804 ,\n",
              "        6963.721  , 3211.332  ,  191.6746 ],\n",
              "       [2897.8342 ,  119.65211, 3075.6309 , 6762.779  , 2732.5461 ,\n",
              "        3221.3215 ,  673.61676, 6924.647  ],\n",
              "       [3942.9565 , 9589.033  , 1132.689  , 5837.2637 , 2833.0627 ,\n",
              "        3493.4514 , 1076.9777 , 1261.335  ],\n",
              "       [5335.9917 , 1473.6632 , 2298.4204 ,  450.7583 , 1484.0206 ,\n",
              "        4053.2397 , 1306.1544 , 2504.6733 ]], dtype=float32)>"
            ]
          },
          "metadata": {},
          "execution_count": 19
        }
      ]
    },
    {
      "cell_type": "code",
      "source": [
        "# Declare a function with tf\n",
        "@tf.function\n",
        "def compute(a, b):\n",
        "  return (2 * a + 3 * b) ** 2"
      ],
      "metadata": {
        "id": "eC8-6D3szHBg"
      },
      "execution_count": 20,
      "outputs": []
    },
    {
      "cell_type": "code",
      "source": [
        "compute(a, b)"
      ],
      "metadata": {
        "colab": {
          "base_uri": "https://localhost:8080/"
        },
        "id": "jZfbwJvazUR8",
        "outputId": "7638535a-f21a-43b6-9604-9034bea5c62b"
      },
      "execution_count": 21,
      "outputs": [
        {
          "output_type": "execute_result",
          "data": {
            "text/plain": [
              "<tf.Tensor: shape=(5, 8), dtype=float32, numpy=\n",
              "array([[ 553.8912 , 7248.514  ,  717.9231 , 1002.72577, 5174.317  ,\n",
              "        2336.5442 ,  543.7998 , 1428.9323 ],\n",
              "       [2660.6233 , 4419.1445 , 1684.0809 , 3790.5107 , 4286.8804 ,\n",
              "        6963.721  , 3211.3323 ,  191.6746 ],\n",
              "       [2897.8342 ,  119.65211, 3075.6309 , 6762.7783 , 2732.5461 ,\n",
              "        3221.3215 ,  673.61676, 6924.647  ],\n",
              "       [3942.9565 , 9589.033  , 1132.689  , 5837.263  , 2833.063  ,\n",
              "        3493.4514 , 1076.9777 , 1261.335  ],\n",
              "       [5335.992  , 1473.6632 , 2298.4204 ,  450.7583 , 1484.0205 ,\n",
              "        4053.2397 , 1306.1544 , 2504.6733 ]], dtype=float32)>"
            ]
          },
          "metadata": {},
          "execution_count": 21
        }
      ]
    },
    {
      "cell_type": "code",
      "source": [
        "compute(2, 3)"
      ],
      "metadata": {
        "colab": {
          "base_uri": "https://localhost:8080/"
        },
        "id": "wVG3_0J6zhZP",
        "outputId": "eb47064b-d61b-42ad-8769-e00377567c3a"
      },
      "execution_count": 22,
      "outputs": [
        {
          "output_type": "execute_result",
          "data": {
            "text/plain": [
              "<tf.Tensor: shape=(), dtype=int32, numpy=169>"
            ]
          },
          "metadata": {},
          "execution_count": 22
        }
      ]
    },
    {
      "cell_type": "code",
      "source": [
        "compute(tf.constant([2]), tf.constant([3]))"
      ],
      "metadata": {
        "colab": {
          "base_uri": "https://localhost:8080/"
        },
        "id": "i5drq-otzjTb",
        "outputId": "675f197f-ba58-4f95-f842-50ff996bd230"
      },
      "execution_count": 26,
      "outputs": [
        {
          "output_type": "execute_result",
          "data": {
            "text/plain": [
              "<tf.Tensor: shape=(1,), dtype=int32, numpy=array([169], dtype=int32)>"
            ]
          },
          "metadata": {},
          "execution_count": 26
        }
      ]
    },
    {
      "cell_type": "code",
      "source": [
        "# Extract the value\n",
        "compute(tf.constant([2]), tf.constant([3])).numpy()[0]"
      ],
      "metadata": {
        "colab": {
          "base_uri": "https://localhost:8080/"
        },
        "id": "ZQHqXzUF0KB4",
        "outputId": "b9c62775-9989-46bb-88ca-e3e3fb2663c1"
      },
      "execution_count": 27,
      "outputs": [
        {
          "output_type": "execute_result",
          "data": {
            "text/plain": [
              "169"
            ]
          },
          "metadata": {},
          "execution_count": 27
        }
      ]
    },
    {
      "cell_type": "code",
      "source": [
        "compute(a, b) / 100000"
      ],
      "metadata": {
        "colab": {
          "base_uri": "https://localhost:8080/"
        },
        "id": "S2D2vyzA0PSn",
        "outputId": "23799734-c3e9-4303-c5b2-5703e58cebf3"
      },
      "execution_count": 28,
      "outputs": [
        {
          "output_type": "execute_result",
          "data": {
            "text/plain": [
              "<tf.Tensor: shape=(5, 8), dtype=float32, numpy=\n",
              "array([[0.00553891, 0.07248514, 0.00717923, 0.01002726, 0.05174317,\n",
              "        0.02336544, 0.005438  , 0.01428932],\n",
              "       [0.02660623, 0.04419145, 0.01684081, 0.03790511, 0.0428688 ,\n",
              "        0.06963721, 0.03211332, 0.00191675],\n",
              "       [0.02897834, 0.00119652, 0.03075631, 0.06762778, 0.02732546,\n",
              "        0.03221321, 0.00673617, 0.06924647],\n",
              "       [0.03942956, 0.09589034, 0.01132689, 0.05837263, 0.02833063,\n",
              "        0.03493451, 0.01076978, 0.01261335],\n",
              "       [0.05335992, 0.01473663, 0.0229842 , 0.00450758, 0.01484021,\n",
              "        0.0405324 , 0.01306154, 0.02504673]], dtype=float32)>"
            ]
          },
          "metadata": {},
          "execution_count": 28
        }
      ]
    },
    {
      "cell_type": "code",
      "source": [
        "x = tf.constant(5.0)"
      ],
      "metadata": {
        "id": "5_c42jLt07cg"
      },
      "execution_count": 38,
      "outputs": []
    },
    {
      "cell_type": "code",
      "source": [
        "with tf.GradientTape() as tape:\n",
        "  tape.watch(x)\n",
        "  y = x ** 2\n",
        "  grad_y = tape.gradient(y, x)"
      ],
      "metadata": {
        "id": "x9_7rOV610Uo"
      },
      "execution_count": 41,
      "outputs": []
    },
    {
      "cell_type": "code",
      "source": [
        "grad_y"
      ],
      "metadata": {
        "colab": {
          "base_uri": "https://localhost:8080/"
        },
        "id": "mhiog0Gw1_-L",
        "outputId": "da027826-8204-4ad0-d26d-13031439513f"
      },
      "execution_count": 42,
      "outputs": [
        {
          "output_type": "execute_result",
          "data": {
            "text/plain": [
              "<tf.Tensor: shape=(), dtype=float32, numpy=10.0>"
            ]
          },
          "metadata": {},
          "execution_count": 42
        }
      ]
    },
    {
      "cell_type": "code",
      "source": [
        "with tf.GradientTape() as tape:\n",
        "  tape.watch(x)\n",
        "  y = tf.sin(x ** 2)\n",
        "  grad_y = tape.gradient(y, x)"
      ],
      "metadata": {
        "id": "OHGQADM12gRG"
      },
      "execution_count": 43,
      "outputs": []
    },
    {
      "cell_type": "code",
      "source": [
        "grad_y"
      ],
      "metadata": {
        "colab": {
          "base_uri": "https://localhost:8080/"
        },
        "id": "cwsFc0cu21oz",
        "outputId": "ef17bb3a-a263-4468-a3f9-5eeb8e41ca92"
      },
      "execution_count": 44,
      "outputs": [
        {
          "output_type": "execute_result",
          "data": {
            "text/plain": [
              "<tf.Tensor: shape=(), dtype=float32, numpy=9.912028>"
            ]
          },
          "metadata": {},
          "execution_count": 44
        }
      ]
    }
  ]
}