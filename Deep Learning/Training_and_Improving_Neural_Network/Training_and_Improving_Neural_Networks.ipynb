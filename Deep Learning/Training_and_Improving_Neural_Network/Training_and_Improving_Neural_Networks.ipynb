{
  "nbformat": 4,
  "nbformat_minor": 0,
  "metadata": {
    "colab": {
      "provenance": []
    },
    "kernelspec": {
      "name": "python3",
      "display_name": "Python 3"
    },
    "language_info": {
      "name": "python"
    }
  },
  "cells": [
    {
      "cell_type": "code",
      "execution_count": 20,
      "metadata": {
        "id": "yDjvkUPw3XsB"
      },
      "outputs": [],
      "source": [
        "import pandas as pd\n",
        "\n",
        "from sklearn.model_selection import train_test_split\n",
        "\n",
        "from sklearn.preprocessing import MinMaxScaler\n",
        "\n",
        "import tensorflow as tf\n",
        "\n",
        "from tensorflow.keras.models import Sequential\n",
        "\n",
        "from tensorflow.keras.layers import Input, Dense"
      ]
    },
    {
      "cell_type": "code",
      "source": [
        "housing_data = pd.read_csv('sample_data/california_housing_train.csv')"
      ],
      "metadata": {
        "id": "3_kGxxL_l-bU"
      },
      "execution_count": 2,
      "outputs": []
    },
    {
      "cell_type": "code",
      "source": [
        "housing_data.describe().T"
      ],
      "metadata": {
        "colab": {
          "base_uri": "https://localhost:8080/",
          "height": 331
        },
        "id": "XXKtPdk4mQFk",
        "outputId": "5463b0bc-efaf-4f28-caa8-ed1fc7bdcbe7"
      },
      "execution_count": 3,
      "outputs": [
        {
          "output_type": "execute_result",
          "data": {
            "text/plain": [
              "                      count           mean            std         min  \\\n",
              "longitude           17000.0    -119.562108       2.005166   -124.3500   \n",
              "latitude            17000.0      35.625225       2.137340     32.5400   \n",
              "housing_median_age  17000.0      28.589353      12.586937      1.0000   \n",
              "total_rooms         17000.0    2643.664412    2179.947071      2.0000   \n",
              "total_bedrooms      17000.0     539.410824     421.499452      1.0000   \n",
              "population          17000.0    1429.573941    1147.852959      3.0000   \n",
              "households          17000.0     501.221941     384.520841      1.0000   \n",
              "median_income       17000.0       3.883578       1.908157      0.4999   \n",
              "median_house_value  17000.0  207300.912353  115983.764387  14999.0000   \n",
              "\n",
              "                              25%          50%         75%          max  \n",
              "longitude             -121.790000    -118.4900    -118.000    -114.3100  \n",
              "latitude                33.930000      34.2500      37.720      41.9500  \n",
              "housing_median_age      18.000000      29.0000      37.000      52.0000  \n",
              "total_rooms           1462.000000    2127.0000    3151.250   37937.0000  \n",
              "total_bedrooms         297.000000     434.0000     648.250    6445.0000  \n",
              "population             790.000000    1167.0000    1721.000   35682.0000  \n",
              "households             282.000000     409.0000     605.250    6082.0000  \n",
              "median_income            2.566375       3.5446       4.767      15.0001  \n",
              "median_house_value  119400.000000  180400.0000  265000.000  500001.0000  "
            ],
            "text/html": [
              "\n",
              "  <div id=\"df-2eb355db-10d5-472c-ab30-a37990658c4b\" class=\"colab-df-container\">\n",
              "    <div>\n",
              "<style scoped>\n",
              "    .dataframe tbody tr th:only-of-type {\n",
              "        vertical-align: middle;\n",
              "    }\n",
              "\n",
              "    .dataframe tbody tr th {\n",
              "        vertical-align: top;\n",
              "    }\n",
              "\n",
              "    .dataframe thead th {\n",
              "        text-align: right;\n",
              "    }\n",
              "</style>\n",
              "<table border=\"1\" class=\"dataframe\">\n",
              "  <thead>\n",
              "    <tr style=\"text-align: right;\">\n",
              "      <th></th>\n",
              "      <th>count</th>\n",
              "      <th>mean</th>\n",
              "      <th>std</th>\n",
              "      <th>min</th>\n",
              "      <th>25%</th>\n",
              "      <th>50%</th>\n",
              "      <th>75%</th>\n",
              "      <th>max</th>\n",
              "    </tr>\n",
              "  </thead>\n",
              "  <tbody>\n",
              "    <tr>\n",
              "      <th>longitude</th>\n",
              "      <td>17000.0</td>\n",
              "      <td>-119.562108</td>\n",
              "      <td>2.005166</td>\n",
              "      <td>-124.3500</td>\n",
              "      <td>-121.790000</td>\n",
              "      <td>-118.4900</td>\n",
              "      <td>-118.000</td>\n",
              "      <td>-114.3100</td>\n",
              "    </tr>\n",
              "    <tr>\n",
              "      <th>latitude</th>\n",
              "      <td>17000.0</td>\n",
              "      <td>35.625225</td>\n",
              "      <td>2.137340</td>\n",
              "      <td>32.5400</td>\n",
              "      <td>33.930000</td>\n",
              "      <td>34.2500</td>\n",
              "      <td>37.720</td>\n",
              "      <td>41.9500</td>\n",
              "    </tr>\n",
              "    <tr>\n",
              "      <th>housing_median_age</th>\n",
              "      <td>17000.0</td>\n",
              "      <td>28.589353</td>\n",
              "      <td>12.586937</td>\n",
              "      <td>1.0000</td>\n",
              "      <td>18.000000</td>\n",
              "      <td>29.0000</td>\n",
              "      <td>37.000</td>\n",
              "      <td>52.0000</td>\n",
              "    </tr>\n",
              "    <tr>\n",
              "      <th>total_rooms</th>\n",
              "      <td>17000.0</td>\n",
              "      <td>2643.664412</td>\n",
              "      <td>2179.947071</td>\n",
              "      <td>2.0000</td>\n",
              "      <td>1462.000000</td>\n",
              "      <td>2127.0000</td>\n",
              "      <td>3151.250</td>\n",
              "      <td>37937.0000</td>\n",
              "    </tr>\n",
              "    <tr>\n",
              "      <th>total_bedrooms</th>\n",
              "      <td>17000.0</td>\n",
              "      <td>539.410824</td>\n",
              "      <td>421.499452</td>\n",
              "      <td>1.0000</td>\n",
              "      <td>297.000000</td>\n",
              "      <td>434.0000</td>\n",
              "      <td>648.250</td>\n",
              "      <td>6445.0000</td>\n",
              "    </tr>\n",
              "    <tr>\n",
              "      <th>population</th>\n",
              "      <td>17000.0</td>\n",
              "      <td>1429.573941</td>\n",
              "      <td>1147.852959</td>\n",
              "      <td>3.0000</td>\n",
              "      <td>790.000000</td>\n",
              "      <td>1167.0000</td>\n",
              "      <td>1721.000</td>\n",
              "      <td>35682.0000</td>\n",
              "    </tr>\n",
              "    <tr>\n",
              "      <th>households</th>\n",
              "      <td>17000.0</td>\n",
              "      <td>501.221941</td>\n",
              "      <td>384.520841</td>\n",
              "      <td>1.0000</td>\n",
              "      <td>282.000000</td>\n",
              "      <td>409.0000</td>\n",
              "      <td>605.250</td>\n",
              "      <td>6082.0000</td>\n",
              "    </tr>\n",
              "    <tr>\n",
              "      <th>median_income</th>\n",
              "      <td>17000.0</td>\n",
              "      <td>3.883578</td>\n",
              "      <td>1.908157</td>\n",
              "      <td>0.4999</td>\n",
              "      <td>2.566375</td>\n",
              "      <td>3.5446</td>\n",
              "      <td>4.767</td>\n",
              "      <td>15.0001</td>\n",
              "    </tr>\n",
              "    <tr>\n",
              "      <th>median_house_value</th>\n",
              "      <td>17000.0</td>\n",
              "      <td>207300.912353</td>\n",
              "      <td>115983.764387</td>\n",
              "      <td>14999.0000</td>\n",
              "      <td>119400.000000</td>\n",
              "      <td>180400.0000</td>\n",
              "      <td>265000.000</td>\n",
              "      <td>500001.0000</td>\n",
              "    </tr>\n",
              "  </tbody>\n",
              "</table>\n",
              "</div>\n",
              "    <div class=\"colab-df-buttons\">\n",
              "\n",
              "  <div class=\"colab-df-container\">\n",
              "    <button class=\"colab-df-convert\" onclick=\"convertToInteractive('df-2eb355db-10d5-472c-ab30-a37990658c4b')\"\n",
              "            title=\"Convert this dataframe to an interactive table.\"\n",
              "            style=\"display:none;\">\n",
              "\n",
              "  <svg xmlns=\"http://www.w3.org/2000/svg\" height=\"24px\" viewBox=\"0 -960 960 960\">\n",
              "    <path d=\"M120-120v-720h720v720H120Zm60-500h600v-160H180v160Zm220 220h160v-160H400v160Zm0 220h160v-160H400v160ZM180-400h160v-160H180v160Zm440 0h160v-160H620v160ZM180-180h160v-160H180v160Zm440 0h160v-160H620v160Z\"/>\n",
              "  </svg>\n",
              "    </button>\n",
              "\n",
              "  <style>\n",
              "    .colab-df-container {\n",
              "      display:flex;\n",
              "      gap: 12px;\n",
              "    }\n",
              "\n",
              "    .colab-df-convert {\n",
              "      background-color: #E8F0FE;\n",
              "      border: none;\n",
              "      border-radius: 50%;\n",
              "      cursor: pointer;\n",
              "      display: none;\n",
              "      fill: #1967D2;\n",
              "      height: 32px;\n",
              "      padding: 0 0 0 0;\n",
              "      width: 32px;\n",
              "    }\n",
              "\n",
              "    .colab-df-convert:hover {\n",
              "      background-color: #E2EBFA;\n",
              "      box-shadow: 0px 1px 2px rgba(60, 64, 67, 0.3), 0px 1px 3px 1px rgba(60, 64, 67, 0.15);\n",
              "      fill: #174EA6;\n",
              "    }\n",
              "\n",
              "    .colab-df-buttons div {\n",
              "      margin-bottom: 4px;\n",
              "    }\n",
              "\n",
              "    [theme=dark] .colab-df-convert {\n",
              "      background-color: #3B4455;\n",
              "      fill: #D2E3FC;\n",
              "    }\n",
              "\n",
              "    [theme=dark] .colab-df-convert:hover {\n",
              "      background-color: #434B5C;\n",
              "      box-shadow: 0px 1px 3px 1px rgba(0, 0, 0, 0.15);\n",
              "      filter: drop-shadow(0px 1px 2px rgba(0, 0, 0, 0.3));\n",
              "      fill: #FFFFFF;\n",
              "    }\n",
              "  </style>\n",
              "\n",
              "    <script>\n",
              "      const buttonEl =\n",
              "        document.querySelector('#df-2eb355db-10d5-472c-ab30-a37990658c4b button.colab-df-convert');\n",
              "      buttonEl.style.display =\n",
              "        google.colab.kernel.accessAllowed ? 'block' : 'none';\n",
              "\n",
              "      async function convertToInteractive(key) {\n",
              "        const element = document.querySelector('#df-2eb355db-10d5-472c-ab30-a37990658c4b');\n",
              "        const dataTable =\n",
              "          await google.colab.kernel.invokeFunction('convertToInteractive',\n",
              "                                                    [key], {});\n",
              "        if (!dataTable) return;\n",
              "\n",
              "        const docLinkHtml = 'Like what you see? Visit the ' +\n",
              "          '<a target=\"_blank\" href=https://colab.research.google.com/notebooks/data_table.ipynb>data table notebook</a>'\n",
              "          + ' to learn more about interactive tables.';\n",
              "        element.innerHTML = '';\n",
              "        dataTable['output_type'] = 'display_data';\n",
              "        await google.colab.output.renderOutput(dataTable, element);\n",
              "        const docLink = document.createElement('div');\n",
              "        docLink.innerHTML = docLinkHtml;\n",
              "        element.appendChild(docLink);\n",
              "      }\n",
              "    </script>\n",
              "  </div>\n",
              "\n",
              "\n",
              "<div id=\"df-75d01ebd-8ee7-4982-9f64-8e5e48d55714\">\n",
              "  <button class=\"colab-df-quickchart\" onclick=\"quickchart('df-75d01ebd-8ee7-4982-9f64-8e5e48d55714')\"\n",
              "            title=\"Suggest charts\"\n",
              "            style=\"display:none;\">\n",
              "\n",
              "<svg xmlns=\"http://www.w3.org/2000/svg\" height=\"24px\"viewBox=\"0 0 24 24\"\n",
              "     width=\"24px\">\n",
              "    <g>\n",
              "        <path d=\"M19 3H5c-1.1 0-2 .9-2 2v14c0 1.1.9 2 2 2h14c1.1 0 2-.9 2-2V5c0-1.1-.9-2-2-2zM9 17H7v-7h2v7zm4 0h-2V7h2v10zm4 0h-2v-4h2v4z\"/>\n",
              "    </g>\n",
              "</svg>\n",
              "  </button>\n",
              "\n",
              "<style>\n",
              "  .colab-df-quickchart {\n",
              "      --bg-color: #E8F0FE;\n",
              "      --fill-color: #1967D2;\n",
              "      --hover-bg-color: #E2EBFA;\n",
              "      --hover-fill-color: #174EA6;\n",
              "      --disabled-fill-color: #AAA;\n",
              "      --disabled-bg-color: #DDD;\n",
              "  }\n",
              "\n",
              "  [theme=dark] .colab-df-quickchart {\n",
              "      --bg-color: #3B4455;\n",
              "      --fill-color: #D2E3FC;\n",
              "      --hover-bg-color: #434B5C;\n",
              "      --hover-fill-color: #FFFFFF;\n",
              "      --disabled-bg-color: #3B4455;\n",
              "      --disabled-fill-color: #666;\n",
              "  }\n",
              "\n",
              "  .colab-df-quickchart {\n",
              "    background-color: var(--bg-color);\n",
              "    border: none;\n",
              "    border-radius: 50%;\n",
              "    cursor: pointer;\n",
              "    display: none;\n",
              "    fill: var(--fill-color);\n",
              "    height: 32px;\n",
              "    padding: 0;\n",
              "    width: 32px;\n",
              "  }\n",
              "\n",
              "  .colab-df-quickchart:hover {\n",
              "    background-color: var(--hover-bg-color);\n",
              "    box-shadow: 0 1px 2px rgba(60, 64, 67, 0.3), 0 1px 3px 1px rgba(60, 64, 67, 0.15);\n",
              "    fill: var(--button-hover-fill-color);\n",
              "  }\n",
              "\n",
              "  .colab-df-quickchart-complete:disabled,\n",
              "  .colab-df-quickchart-complete:disabled:hover {\n",
              "    background-color: var(--disabled-bg-color);\n",
              "    fill: var(--disabled-fill-color);\n",
              "    box-shadow: none;\n",
              "  }\n",
              "\n",
              "  .colab-df-spinner {\n",
              "    border: 2px solid var(--fill-color);\n",
              "    border-color: transparent;\n",
              "    border-bottom-color: var(--fill-color);\n",
              "    animation:\n",
              "      spin 1s steps(1) infinite;\n",
              "  }\n",
              "\n",
              "  @keyframes spin {\n",
              "    0% {\n",
              "      border-color: transparent;\n",
              "      border-bottom-color: var(--fill-color);\n",
              "      border-left-color: var(--fill-color);\n",
              "    }\n",
              "    20% {\n",
              "      border-color: transparent;\n",
              "      border-left-color: var(--fill-color);\n",
              "      border-top-color: var(--fill-color);\n",
              "    }\n",
              "    30% {\n",
              "      border-color: transparent;\n",
              "      border-left-color: var(--fill-color);\n",
              "      border-top-color: var(--fill-color);\n",
              "      border-right-color: var(--fill-color);\n",
              "    }\n",
              "    40% {\n",
              "      border-color: transparent;\n",
              "      border-right-color: var(--fill-color);\n",
              "      border-top-color: var(--fill-color);\n",
              "    }\n",
              "    60% {\n",
              "      border-color: transparent;\n",
              "      border-right-color: var(--fill-color);\n",
              "    }\n",
              "    80% {\n",
              "      border-color: transparent;\n",
              "      border-right-color: var(--fill-color);\n",
              "      border-bottom-color: var(--fill-color);\n",
              "    }\n",
              "    90% {\n",
              "      border-color: transparent;\n",
              "      border-bottom-color: var(--fill-color);\n",
              "    }\n",
              "  }\n",
              "</style>\n",
              "\n",
              "  <script>\n",
              "    async function quickchart(key) {\n",
              "      const quickchartButtonEl =\n",
              "        document.querySelector('#' + key + ' button');\n",
              "      quickchartButtonEl.disabled = true;  // To prevent multiple clicks.\n",
              "      quickchartButtonEl.classList.add('colab-df-spinner');\n",
              "      try {\n",
              "        const charts = await google.colab.kernel.invokeFunction(\n",
              "            'suggestCharts', [key], {});\n",
              "      } catch (error) {\n",
              "        console.error('Error during call to suggestCharts:', error);\n",
              "      }\n",
              "      quickchartButtonEl.classList.remove('colab-df-spinner');\n",
              "      quickchartButtonEl.classList.add('colab-df-quickchart-complete');\n",
              "    }\n",
              "    (() => {\n",
              "      let quickchartButtonEl =\n",
              "        document.querySelector('#df-75d01ebd-8ee7-4982-9f64-8e5e48d55714 button');\n",
              "      quickchartButtonEl.style.display =\n",
              "        google.colab.kernel.accessAllowed ? 'block' : 'none';\n",
              "    })();\n",
              "  </script>\n",
              "</div>\n",
              "    </div>\n",
              "  </div>\n"
            ],
            "application/vnd.google.colaboratory.intrinsic+json": {
              "type": "dataframe",
              "summary": "{\n  \"name\": \"housing_data\",\n  \"rows\": 9,\n  \"fields\": [\n    {\n      \"column\": \"count\",\n      \"properties\": {\n        \"dtype\": \"number\",\n        \"std\": 0.0,\n        \"min\": 17000.0,\n        \"max\": 17000.0,\n        \"num_unique_values\": 1,\n        \"samples\": [\n          17000.0\n        ],\n        \"semantic_type\": \"\",\n        \"description\": \"\"\n      }\n    },\n    {\n      \"column\": \"mean\",\n      \"properties\": {\n        \"dtype\": \"number\",\n        \"std\": 68895.1655224679,\n        \"min\": -119.5621082352941,\n        \"max\": 207300.91235294117,\n        \"num_unique_values\": 9,\n        \"samples\": [\n          3.8835781000000007\n        ],\n        \"semantic_type\": \"\",\n        \"description\": \"\"\n      }\n    },\n    {\n      \"column\": \"std\",\n      \"properties\": {\n        \"dtype\": \"number\",\n        \"std\": 38495.12041972964,\n        \"min\": 1.9081565183791036,\n        \"max\": 115983.76438720885,\n        \"num_unique_values\": 9,\n        \"samples\": [\n          1.9081565183791036\n        ],\n        \"semantic_type\": \"\",\n        \"description\": \"\"\n      }\n    },\n    {\n      \"column\": \"min\",\n      \"properties\": {\n        \"dtype\": \"number\",\n        \"std\": 5003.333674804338,\n        \"min\": -124.35,\n        \"max\": 14999.0,\n        \"num_unique_values\": 7,\n        \"samples\": [\n          -124.35\n        ],\n        \"semantic_type\": \"\",\n        \"description\": \"\"\n      }\n    },\n    {\n      \"column\": \"25%\",\n      \"properties\": {\n        \"dtype\": \"number\",\n        \"std\": 39687.980822886195,\n        \"min\": -121.79,\n        \"max\": 119400.0,\n        \"num_unique_values\": 9,\n        \"samples\": [\n          2.566375\n        ],\n        \"semantic_type\": \"\",\n        \"description\": \"\"\n      }\n    },\n    {\n      \"column\": \"50%\",\n      \"properties\": {\n        \"dtype\": \"number\",\n        \"std\": 59967.4601439312,\n        \"min\": -118.49,\n        \"max\": 180400.0,\n        \"num_unique_values\": 9,\n        \"samples\": [\n          3.5446\n        ],\n        \"semantic_type\": \"\",\n        \"description\": \"\"\n      }\n    },\n    {\n      \"column\": \"75%\",\n      \"properties\": {\n        \"dtype\": \"number\",\n        \"std\": 88086.12968922153,\n        \"min\": -118.0,\n        \"max\": 265000.0,\n        \"num_unique_values\": 9,\n        \"samples\": [\n          4.767\n        ],\n        \"semantic_type\": \"\",\n        \"description\": \"\"\n      }\n    },\n    {\n      \"column\": \"max\",\n      \"properties\": {\n        \"dtype\": \"number\",\n        \"std\": 163790.41851165728,\n        \"min\": -114.31,\n        \"max\": 500001.0,\n        \"num_unique_values\": 9,\n        \"samples\": [\n          15.0001\n        ],\n        \"semantic_type\": \"\",\n        \"description\": \"\"\n      }\n    }\n  ]\n}"
            }
          },
          "metadata": {},
          "execution_count": 3
        }
      ]
    },
    {
      "cell_type": "code",
      "source": [
        "housing_data.columns"
      ],
      "metadata": {
        "colab": {
          "base_uri": "https://localhost:8080/"
        },
        "id": "3Zud8TulngvS",
        "outputId": "6832570c-610d-4b29-c0aa-cba88f458820"
      },
      "execution_count": 4,
      "outputs": [
        {
          "output_type": "execute_result",
          "data": {
            "text/plain": [
              "Index(['longitude', 'latitude', 'housing_median_age', 'total_rooms',\n",
              "       'total_bedrooms', 'population', 'households', 'median_income',\n",
              "       'median_house_value'],\n",
              "      dtype='object')"
            ]
          },
          "metadata": {},
          "execution_count": 4
        }
      ]
    },
    {
      "cell_type": "code",
      "source": [
        "housing_data.dtypes"
      ],
      "metadata": {
        "colab": {
          "base_uri": "https://localhost:8080/"
        },
        "id": "Bp2Cr2avnilU",
        "outputId": "e5936f8c-0e29-4017-bffe-7c77853f244f"
      },
      "execution_count": 5,
      "outputs": [
        {
          "output_type": "execute_result",
          "data": {
            "text/plain": [
              "longitude             float64\n",
              "latitude              float64\n",
              "housing_median_age    float64\n",
              "total_rooms           float64\n",
              "total_bedrooms        float64\n",
              "population            float64\n",
              "households            float64\n",
              "median_income         float64\n",
              "median_house_value    float64\n",
              "dtype: object"
            ]
          },
          "metadata": {},
          "execution_count": 5
        }
      ]
    },
    {
      "cell_type": "code",
      "source": [
        "X = housing_data.drop(columns= ['median_house_value'])\n",
        "y = housing_data.median_house_value"
      ],
      "metadata": {
        "id": "-uiRpzu4qotg"
      },
      "execution_count": 6,
      "outputs": []
    },
    {
      "cell_type": "code",
      "source": [
        "X_train, X_test, y_train, y_test = train_test_split(X, y, test_size = 0.25)"
      ],
      "metadata": {
        "id": "EQ4YBcGfxTYh"
      },
      "execution_count": 7,
      "outputs": []
    },
    {
      "cell_type": "code",
      "source": [
        "num_columns = X_train.shape[1]\n",
        "num_outputs = 1"
      ],
      "metadata": {
        "id": "zXtq906_qRAa"
      },
      "execution_count": 8,
      "outputs": []
    },
    {
      "cell_type": "code",
      "source": [
        "tf.keras.backend.clear_session()"
      ],
      "metadata": {
        "id": "2YF4KqZf2OG3"
      },
      "execution_count": 9,
      "outputs": []
    },
    {
      "cell_type": "code",
      "source": [
        "model = Sequential([\n",
        "    Input(num_columns),\n",
        "    Dense(32, activation = 'relu'),\n",
        "    Dense(64, activation = 'relu'),\n",
        "    Dense(32, activation = 'relu'),\n",
        "    Dense(num_outputs, activation = None),\n",
        "])"
      ],
      "metadata": {
        "id": "Qzy-_zhynkd1"
      },
      "execution_count": 10,
      "outputs": []
    },
    {
      "cell_type": "code",
      "source": [
        "model.summary()"
      ],
      "metadata": {
        "colab": {
          "base_uri": "https://localhost:8080/"
        },
        "id": "q8owF3i-y5Cg",
        "outputId": "7a971585-9ef3-4c4d-b0cd-af2951301870"
      },
      "execution_count": 11,
      "outputs": [
        {
          "output_type": "stream",
          "name": "stdout",
          "text": [
            "Model: \"sequential\"\n",
            "_________________________________________________________________\n",
            " Layer (type)                Output Shape              Param #   \n",
            "=================================================================\n",
            " dense (Dense)               (None, 32)                288       \n",
            "                                                                 \n",
            " dense_1 (Dense)             (None, 64)                2112      \n",
            "                                                                 \n",
            " dense_2 (Dense)             (None, 32)                2080      \n",
            "                                                                 \n",
            " dense_3 (Dense)             (None, 1)                 33        \n",
            "                                                                 \n",
            "=================================================================\n",
            "Total params: 4513 (17.63 KB)\n",
            "Trainable params: 4513 (17.63 KB)\n",
            "Non-trainable params: 0 (0.00 Byte)\n",
            "_________________________________________________________________\n"
          ]
        }
      ]
    },
    {
      "cell_type": "code",
      "source": [
        "model.compile(loss = 'mse')"
      ],
      "metadata": {
        "id": "vZJA9Eor2d4H"
      },
      "execution_count": 12,
      "outputs": []
    },
    {
      "cell_type": "code",
      "source": [
        "model.fit(X_train, y_train, epochs = 100)"
      ],
      "metadata": {
        "colab": {
          "base_uri": "https://localhost:8080/"
        },
        "id": "qvDDKZ0aXrdC",
        "outputId": "85a3315b-b864-4d8c-a642-18d3b8597d52"
      },
      "execution_count": 17,
      "outputs": [
        {
          "output_type": "stream",
          "name": "stdout",
          "text": [
            "Epoch 1/100\n",
            "399/399 [==============================] - 1s 2ms/step - loss: 34179862528.0000\n",
            "Epoch 2/100\n",
            "399/399 [==============================] - 1s 2ms/step - loss: 25499168768.0000\n",
            "Epoch 3/100\n",
            "399/399 [==============================] - 1s 2ms/step - loss: 21432313856.0000\n",
            "Epoch 4/100\n",
            "399/399 [==============================] - 1s 2ms/step - loss: 13951535104.0000\n",
            "Epoch 5/100\n",
            "399/399 [==============================] - 1s 2ms/step - loss: 11223002112.0000\n",
            "Epoch 6/100\n",
            "399/399 [==============================] - 1s 2ms/step - loss: 10874833920.0000\n",
            "Epoch 7/100\n",
            "399/399 [==============================] - 1s 2ms/step - loss: 10636726272.0000\n",
            "Epoch 8/100\n",
            "399/399 [==============================] - 1s 2ms/step - loss: 10359599104.0000\n",
            "Epoch 9/100\n",
            "399/399 [==============================] - 1s 2ms/step - loss: 10075634688.0000\n",
            "Epoch 10/100\n",
            "399/399 [==============================] - 1s 2ms/step - loss: 9849947136.0000\n",
            "Epoch 11/100\n",
            "399/399 [==============================] - 1s 2ms/step - loss: 9591856128.0000\n",
            "Epoch 12/100\n",
            "399/399 [==============================] - 1s 2ms/step - loss: 9312450560.0000\n",
            "Epoch 13/100\n",
            "399/399 [==============================] - 1s 2ms/step - loss: 9003630592.0000\n",
            "Epoch 14/100\n",
            "399/399 [==============================] - 1s 2ms/step - loss: 8685386752.0000\n",
            "Epoch 15/100\n",
            "399/399 [==============================] - 1s 2ms/step - loss: 8387601920.0000\n",
            "Epoch 16/100\n",
            "399/399 [==============================] - 1s 2ms/step - loss: 8120152064.0000\n",
            "Epoch 17/100\n",
            "399/399 [==============================] - 1s 2ms/step - loss: 7898050560.0000\n",
            "Epoch 18/100\n",
            "399/399 [==============================] - 1s 2ms/step - loss: 7715511808.0000\n",
            "Epoch 19/100\n",
            "399/399 [==============================] - 1s 2ms/step - loss: 7576032256.0000\n",
            "Epoch 20/100\n",
            "399/399 [==============================] - 1s 2ms/step - loss: 7422096384.0000\n",
            "Epoch 21/100\n",
            "399/399 [==============================] - 1s 2ms/step - loss: 7278098432.0000\n",
            "Epoch 22/100\n",
            "399/399 [==============================] - 1s 2ms/step - loss: 7162645504.0000\n",
            "Epoch 23/100\n",
            "399/399 [==============================] - 1s 2ms/step - loss: 7087094272.0000\n",
            "Epoch 24/100\n",
            "399/399 [==============================] - 1s 2ms/step - loss: 6961491968.0000\n",
            "Epoch 25/100\n",
            "399/399 [==============================] - 1s 2ms/step - loss: 6857774592.0000\n",
            "Epoch 26/100\n",
            "399/399 [==============================] - 1s 2ms/step - loss: 6772159488.0000\n",
            "Epoch 27/100\n",
            "399/399 [==============================] - 1s 2ms/step - loss: 6695286784.0000\n",
            "Epoch 28/100\n",
            "399/399 [==============================] - 1s 2ms/step - loss: 6588723200.0000\n",
            "Epoch 29/100\n",
            "399/399 [==============================] - 1s 3ms/step - loss: 6471544832.0000\n",
            "Epoch 30/100\n",
            "399/399 [==============================] - 1s 2ms/step - loss: 6385202688.0000\n",
            "Epoch 31/100\n",
            "399/399 [==============================] - 1s 2ms/step - loss: 6276573184.0000\n",
            "Epoch 32/100\n",
            "399/399 [==============================] - 1s 2ms/step - loss: 6248312320.0000\n",
            "Epoch 33/100\n",
            "399/399 [==============================] - 1s 2ms/step - loss: 6137218048.0000\n",
            "Epoch 34/100\n",
            "399/399 [==============================] - 1s 2ms/step - loss: 6098696192.0000\n",
            "Epoch 35/100\n",
            "399/399 [==============================] - 1s 2ms/step - loss: 6029855744.0000\n",
            "Epoch 36/100\n",
            "399/399 [==============================] - 1s 2ms/step - loss: 5986740224.0000\n",
            "Epoch 37/100\n",
            "399/399 [==============================] - 1s 2ms/step - loss: 5898513408.0000\n",
            "Epoch 38/100\n",
            "399/399 [==============================] - 1s 2ms/step - loss: 5876530688.0000\n",
            "Epoch 39/100\n",
            "399/399 [==============================] - 1s 2ms/step - loss: 5831496704.0000\n",
            "Epoch 40/100\n",
            "399/399 [==============================] - 1s 2ms/step - loss: 5775484928.0000\n",
            "Epoch 41/100\n",
            "399/399 [==============================] - 1s 2ms/step - loss: 5764755456.0000\n",
            "Epoch 42/100\n",
            "399/399 [==============================] - 1s 2ms/step - loss: 5719745536.0000\n",
            "Epoch 43/100\n",
            "399/399 [==============================] - 1s 2ms/step - loss: 5729862144.0000\n",
            "Epoch 44/100\n",
            "399/399 [==============================] - 1s 2ms/step - loss: 5650503168.0000\n",
            "Epoch 45/100\n",
            "399/399 [==============================] - 1s 2ms/step - loss: 5651453952.0000\n",
            "Epoch 46/100\n",
            "399/399 [==============================] - 1s 3ms/step - loss: 5622520320.0000\n",
            "Epoch 47/100\n",
            "399/399 [==============================] - 1s 2ms/step - loss: 5571804160.0000\n",
            "Epoch 48/100\n",
            "399/399 [==============================] - 1s 2ms/step - loss: 5562942464.0000\n",
            "Epoch 49/100\n",
            "399/399 [==============================] - 1s 2ms/step - loss: 5515389440.0000\n",
            "Epoch 50/100\n",
            "399/399 [==============================] - 1s 2ms/step - loss: 5457363968.0000\n",
            "Epoch 51/100\n",
            "399/399 [==============================] - 1s 2ms/step - loss: 5533082624.0000\n",
            "Epoch 52/100\n",
            "399/399 [==============================] - 1s 2ms/step - loss: 5490519040.0000\n",
            "Epoch 53/100\n",
            "399/399 [==============================] - 1s 2ms/step - loss: 5463543296.0000\n",
            "Epoch 54/100\n",
            "399/399 [==============================] - 1s 2ms/step - loss: 5424765952.0000\n",
            "Epoch 55/100\n",
            "399/399 [==============================] - 1s 2ms/step - loss: 5403139072.0000\n",
            "Epoch 56/100\n",
            "399/399 [==============================] - 1s 2ms/step - loss: 5398790656.0000\n",
            "Epoch 57/100\n",
            "399/399 [==============================] - 1s 2ms/step - loss: 5419747328.0000\n",
            "Epoch 58/100\n",
            "399/399 [==============================] - 1s 2ms/step - loss: 5412140544.0000\n",
            "Epoch 59/100\n",
            "399/399 [==============================] - 1s 2ms/step - loss: 5321692672.0000\n",
            "Epoch 60/100\n",
            "399/399 [==============================] - 1s 2ms/step - loss: 5378513920.0000\n",
            "Epoch 61/100\n",
            "399/399 [==============================] - 1s 2ms/step - loss: 5342969344.0000\n",
            "Epoch 62/100\n",
            "399/399 [==============================] - 1s 2ms/step - loss: 5350324224.0000\n",
            "Epoch 63/100\n",
            "399/399 [==============================] - 1s 2ms/step - loss: 5304261120.0000\n",
            "Epoch 64/100\n",
            "399/399 [==============================] - 1s 2ms/step - loss: 5316167680.0000\n",
            "Epoch 65/100\n",
            "399/399 [==============================] - 1s 2ms/step - loss: 5259630592.0000\n",
            "Epoch 66/100\n",
            "399/399 [==============================] - 1s 2ms/step - loss: 5312251392.0000\n",
            "Epoch 67/100\n",
            "399/399 [==============================] - 1s 2ms/step - loss: 5258048000.0000\n",
            "Epoch 68/100\n",
            "399/399 [==============================] - 1s 2ms/step - loss: 5253307904.0000\n",
            "Epoch 69/100\n",
            "399/399 [==============================] - 1s 2ms/step - loss: 5218079744.0000\n",
            "Epoch 70/100\n",
            "399/399 [==============================] - 1s 2ms/step - loss: 5229491200.0000\n",
            "Epoch 71/100\n",
            "399/399 [==============================] - 1s 2ms/step - loss: 5186659328.0000\n",
            "Epoch 72/100\n",
            "399/399 [==============================] - 1s 2ms/step - loss: 5169797632.0000\n",
            "Epoch 73/100\n",
            "399/399 [==============================] - 1s 2ms/step - loss: 5171781632.0000\n",
            "Epoch 74/100\n",
            "399/399 [==============================] - 1s 2ms/step - loss: 5204820480.0000\n",
            "Epoch 75/100\n",
            "399/399 [==============================] - 1s 2ms/step - loss: 5120956416.0000\n",
            "Epoch 76/100\n",
            "399/399 [==============================] - 1s 2ms/step - loss: 5149827584.0000\n",
            "Epoch 77/100\n",
            "399/399 [==============================] - 1s 2ms/step - loss: 5124235776.0000\n",
            "Epoch 78/100\n",
            "399/399 [==============================] - 1s 2ms/step - loss: 5139774464.0000\n",
            "Epoch 79/100\n",
            "399/399 [==============================] - 1s 3ms/step - loss: 5092560896.0000\n",
            "Epoch 80/100\n",
            "399/399 [==============================] - 1s 3ms/step - loss: 5099585024.0000\n",
            "Epoch 81/100\n",
            "399/399 [==============================] - 1s 3ms/step - loss: 5108444672.0000\n",
            "Epoch 82/100\n",
            "399/399 [==============================] - 1s 2ms/step - loss: 5033679872.0000\n",
            "Epoch 83/100\n",
            "399/399 [==============================] - 1s 2ms/step - loss: 5034705920.0000\n",
            "Epoch 84/100\n",
            "399/399 [==============================] - 1s 2ms/step - loss: 5065759232.0000\n",
            "Epoch 85/100\n",
            "399/399 [==============================] - 1s 2ms/step - loss: 5036935168.0000\n",
            "Epoch 86/100\n",
            "399/399 [==============================] - 1s 2ms/step - loss: 5072349696.0000\n",
            "Epoch 87/100\n",
            "399/399 [==============================] - 1s 2ms/step - loss: 5038641664.0000\n",
            "Epoch 88/100\n",
            "399/399 [==============================] - 1s 2ms/step - loss: 4989703680.0000\n",
            "Epoch 89/100\n",
            "399/399 [==============================] - 1s 2ms/step - loss: 4987939328.0000\n",
            "Epoch 90/100\n",
            "399/399 [==============================] - 1s 2ms/step - loss: 4982168576.0000\n",
            "Epoch 91/100\n",
            "399/399 [==============================] - 1s 2ms/step - loss: 4990989312.0000\n",
            "Epoch 92/100\n",
            "399/399 [==============================] - 1s 2ms/step - loss: 4972132864.0000\n",
            "Epoch 93/100\n",
            "399/399 [==============================] - 1s 2ms/step - loss: 4970440704.0000\n",
            "Epoch 94/100\n",
            "399/399 [==============================] - 1s 2ms/step - loss: 4941146112.0000\n",
            "Epoch 95/100\n",
            "399/399 [==============================] - 1s 3ms/step - loss: 4969430016.0000\n",
            "Epoch 96/100\n",
            "399/399 [==============================] - 1s 3ms/step - loss: 4887582720.0000\n",
            "Epoch 97/100\n",
            "399/399 [==============================] - 1s 2ms/step - loss: 4897436672.0000\n",
            "Epoch 98/100\n",
            "399/399 [==============================] - 1s 2ms/step - loss: 4907096576.0000\n",
            "Epoch 99/100\n",
            "399/399 [==============================] - 1s 2ms/step - loss: 4927988224.0000\n",
            "Epoch 100/100\n",
            "399/399 [==============================] - 1s 2ms/step - loss: 4937844224.0000\n"
          ]
        },
        {
          "output_type": "execute_result",
          "data": {
            "text/plain": [
              "<keras.src.callbacks.History at 0x7e6d84943c70>"
            ]
          },
          "metadata": {},
          "execution_count": 17
        }
      ]
    },
    {
      "cell_type": "code",
      "source": [
        "model.predict(X_train)"
      ],
      "metadata": {
        "colab": {
          "base_uri": "https://localhost:8080/"
        },
        "id": "Pdcj6Cpl2UBN",
        "outputId": "b048e30a-1a2a-48d4-aa76-f12a77723bf1"
      },
      "execution_count": 18,
      "outputs": [
        {
          "output_type": "stream",
          "name": "stdout",
          "text": [
            "399/399 [==============================] - 1s 2ms/step\n"
          ]
        },
        {
          "output_type": "execute_result",
          "data": {
            "text/plain": [
              "array([[229958.77],\n",
              "       [196695.06],\n",
              "       [ 90719.99],\n",
              "       ...,\n",
              "       [428139.84],\n",
              "       [223400.73],\n",
              "       [217011.98]], dtype=float32)"
            ]
          },
          "metadata": {},
          "execution_count": 18
        }
      ]
    },
    {
      "cell_type": "code",
      "source": [
        "model.evaluate(X_train, y_train)"
      ],
      "metadata": {
        "colab": {
          "base_uri": "https://localhost:8080/"
        },
        "id": "NUn2zzqEZOpK",
        "outputId": "02e7eedf-55c4-4256-fdb5-f2143608c5d1"
      },
      "execution_count": 19,
      "outputs": [
        {
          "output_type": "stream",
          "name": "stdout",
          "text": [
            "399/399 [==============================] - 1s 2ms/step - loss: 4745190400.0000\n"
          ]
        },
        {
          "output_type": "execute_result",
          "data": {
            "text/plain": [
              "4745190400.0"
            ]
          },
          "metadata": {},
          "execution_count": 19
        }
      ]
    },
    {
      "cell_type": "code",
      "source": [
        "model.evaluate(X_test, y_test)"
      ],
      "metadata": {
        "colab": {
          "base_uri": "https://localhost:8080/"
        },
        "id": "RQjFF4QK2uLW",
        "outputId": "98732e7c-7676-4504-af23-07bcbdc65a25"
      },
      "execution_count": 15,
      "outputs": [
        {
          "output_type": "stream",
          "name": "stdout",
          "text": [
            "133/133 [==============================] - 1s 3ms/step - loss: 56258543616.0000\n"
          ]
        },
        {
          "output_type": "execute_result",
          "data": {
            "text/plain": [
              "56258543616.0"
            ]
          },
          "metadata": {},
          "execution_count": 15
        }
      ]
    },
    {
      "cell_type": "code",
      "source": [
        "model.weights[0].numpy()"
      ],
      "metadata": {
        "colab": {
          "base_uri": "https://localhost:8080/"
        },
        "id": "WjFKip2mzd_I",
        "outputId": "ac7d931c-7a74-4761-c49d-7e1ec1a19118"
      },
      "execution_count": 16,
      "outputs": [
        {
          "output_type": "execute_result",
          "data": {
            "text/plain": [
              "array([[-0.17121612,  0.11935109, -0.33163208, -0.02003056, -0.15144041,\n",
              "        -0.13558367,  0.17186755,  0.09474787,  0.09587395, -0.20533866,\n",
              "         0.24416226, -0.35407132, -0.12514353,  0.02801052, -0.2380389 ,\n",
              "         0.03494141,  0.3566001 ,  0.37491852,  0.03308603, -0.08834943,\n",
              "         0.26434827,  0.09708047,  0.37260395, -0.3035655 ,  0.19573998,\n",
              "         0.17499596,  0.25944608,  0.11916149,  0.02892819, -0.06065193,\n",
              "        -0.25952047, -0.02270913],\n",
              "       [-0.37929237, -0.1398391 , -0.27266413, -0.3677312 , -0.03335279,\n",
              "        -0.18786375, -0.13433337, -0.24878523,  0.22643924, -0.19543317,\n",
              "         0.0513207 ,  0.10415447,  0.22842991,  0.21110958,  0.21214128,\n",
              "         0.3794192 ,  0.12516284,  0.38475156, -0.33126494,  0.2963587 ,\n",
              "         0.08368945, -0.16211906, -0.24024332, -0.3488572 , -0.06014639,\n",
              "        -0.21767978, -0.04106587, -0.02355811,  0.33294064, -0.15068683,\n",
              "         0.16065723,  0.1427005 ],\n",
              "       [ 0.2719934 , -0.19526003,  0.26538688,  0.12695038, -0.23248045,\n",
              "         0.20733875, -0.34236622, -0.3348005 , -0.26327482,  0.33685333,\n",
              "        -0.3852306 , -0.17044048, -0.3784457 ,  0.21916264,  0.34216964,\n",
              "        -0.28473496, -0.07209709, -0.22353843,  0.3408516 ,  0.12388659,\n",
              "        -0.2389114 , -0.09355688, -0.0386298 , -0.07040432,  0.27067274,\n",
              "         0.09312677, -0.24190015, -0.332473  , -0.21991983,  0.25187212,\n",
              "         0.24274588,  0.17509657],\n",
              "       [ 0.16089326, -0.06719157,  0.1726436 ,  0.06199583,  0.35133052,\n",
              "         0.36180294, -0.01535949, -0.3503046 , -0.3647086 ,  0.01889536,\n",
              "        -0.3027243 , -0.34663588, -0.04613051,  0.054423  ,  0.3678472 ,\n",
              "        -0.02385813, -0.34914464, -0.24960946, -0.05200401, -0.0387429 ,\n",
              "        -0.30022633,  0.27928984, -0.06149453,  0.21017402,  0.3629166 ,\n",
              "         0.22734374,  0.34000832, -0.0275383 , -0.3769478 ,  0.08729631,\n",
              "        -0.09235299, -0.36977524],\n",
              "       [-0.3522153 , -0.38578722, -0.12291077, -0.12143987, -0.02193487,\n",
              "        -0.31730556, -0.09276   ,  0.04526481, -0.34754044, -0.04938611,\n",
              "         0.3311025 ,  0.01382205, -0.25088188, -0.17188974, -0.09375671,\n",
              "        -0.33442506,  0.37982625, -0.00043041, -0.03353286,  0.3115955 ,\n",
              "         0.3641867 ,  0.15801668,  0.01824197,  0.01452023,  0.3378781 ,\n",
              "        -0.3265042 , -0.00537941,  0.24511552, -0.05179635, -0.2364224 ,\n",
              "        -0.08893937,  0.28494096],\n",
              "       [ 0.18399078,  0.02234322,  0.15574074, -0.36344633, -0.27910432,\n",
              "        -0.23494342,  0.07855833,  0.3169847 ,  0.0851337 , -0.16423297,\n",
              "        -0.37000102,  0.3165303 , -0.09757483, -0.03257716, -0.06804007,\n",
              "        -0.00508383, -0.00877747, -0.23070838,  0.33560127, -0.15030852,\n",
              "         0.28937107,  0.30390912, -0.11934268, -0.2698707 ,  0.25294936,\n",
              "        -0.13079494, -0.27331412, -0.15987088, -0.14324614,  0.16993475,\n",
              "         0.15721971,  0.09892318],\n",
              "       [-0.23254167, -0.3628381 , -0.12892213, -0.3171123 , -0.29694545,\n",
              "         0.09325716,  0.30533832,  0.1993379 , -0.00770515,  0.2655745 ,\n",
              "         0.33672994, -0.34332082,  0.29435402,  0.03252092, -0.32930937,\n",
              "        -0.22717094, -0.24372588, -0.2800604 , -0.30013633, -0.36445725,\n",
              "        -0.12471831,  0.12593585, -0.23053099, -0.31987834,  0.04341704,\n",
              "        -0.36283106, -0.14818443, -0.09171695,  0.27342594, -0.1027486 ,\n",
              "         0.14239192, -0.31508785],\n",
              "       [ 0.18983418,  0.30395275, -0.30161357, -0.0006026 , -0.30552733,\n",
              "         0.02872965,  0.14587593, -0.09291551, -0.23603994, -0.09866205,\n",
              "         0.33028746,  0.15178555, -0.09504226, -0.0194    ,  0.31605327,\n",
              "        -0.21675889, -0.15004331, -0.01644015, -0.19615304,  0.07706818,\n",
              "        -0.25843024,  0.2335068 ,  0.27919626, -0.05511492, -0.14705679,\n",
              "         0.04197145, -0.02159989, -0.31715912,  0.16205102, -0.2979511 ,\n",
              "         0.37975144, -0.07771251]], dtype=float32)"
            ]
          },
          "metadata": {},
          "execution_count": 16
        }
      ]
    },
    {
      "cell_type": "code",
      "source": [],
      "metadata": {
        "id": "7C2qTAhSzhXQ"
      },
      "execution_count": 16,
      "outputs": []
    }
  ]
}