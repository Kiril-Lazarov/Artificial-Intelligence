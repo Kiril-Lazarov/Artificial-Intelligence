{
  "nbformat": 4,
  "nbformat_minor": 0,
  "metadata": {
    "colab": {
      "provenance": []
    },
    "kernelspec": {
      "name": "python3",
      "display_name": "Python 3"
    },
    "language_info": {
      "name": "python"
    }
  },
  "cells": [
    {
      "cell_type": "code",
      "execution_count": 1,
      "metadata": {
        "id": "yDjvkUPw3XsB"
      },
      "outputs": [],
      "source": [
        "import numpy as np\n",
        "import pandas as pd\n",
        "import matplotlib.pyplot as plt\n",
        "\n",
        "from sklearn.model_selection import train_test_split\n",
        "\n",
        "from sklearn.preprocessing import MinMaxScaler\n",
        "\n",
        "import tensorflow as tf\n",
        "\n",
        "from tensorflow.keras.models import Sequential\n",
        "\n",
        "from tensorflow.keras.layers import Input, Dense"
      ]
    },
    {
      "cell_type": "code",
      "source": [
        "housing_data = pd.read_csv('sample_data/california_housing_train.csv')"
      ],
      "metadata": {
        "id": "3_kGxxL_l-bU"
      },
      "execution_count": 2,
      "outputs": []
    },
    {
      "cell_type": "code",
      "source": [
        "housing_data.describe().T"
      ],
      "metadata": {
        "colab": {
          "base_uri": "https://localhost:8080/",
          "height": 331
        },
        "id": "XXKtPdk4mQFk",
        "outputId": "d9388e60-d8bc-47ab-83e4-fbbd196d8d96"
      },
      "execution_count": 3,
      "outputs": [
        {
          "output_type": "execute_result",
          "data": {
            "text/plain": [
              "                      count           mean            std         min  \\\n",
              "longitude           17000.0    -119.562108       2.005166   -124.3500   \n",
              "latitude            17000.0      35.625225       2.137340     32.5400   \n",
              "housing_median_age  17000.0      28.589353      12.586937      1.0000   \n",
              "total_rooms         17000.0    2643.664412    2179.947071      2.0000   \n",
              "total_bedrooms      17000.0     539.410824     421.499452      1.0000   \n",
              "population          17000.0    1429.573941    1147.852959      3.0000   \n",
              "households          17000.0     501.221941     384.520841      1.0000   \n",
              "median_income       17000.0       3.883578       1.908157      0.4999   \n",
              "median_house_value  17000.0  207300.912353  115983.764387  14999.0000   \n",
              "\n",
              "                              25%          50%         75%          max  \n",
              "longitude             -121.790000    -118.4900    -118.000    -114.3100  \n",
              "latitude                33.930000      34.2500      37.720      41.9500  \n",
              "housing_median_age      18.000000      29.0000      37.000      52.0000  \n",
              "total_rooms           1462.000000    2127.0000    3151.250   37937.0000  \n",
              "total_bedrooms         297.000000     434.0000     648.250    6445.0000  \n",
              "population             790.000000    1167.0000    1721.000   35682.0000  \n",
              "households             282.000000     409.0000     605.250    6082.0000  \n",
              "median_income            2.566375       3.5446       4.767      15.0001  \n",
              "median_house_value  119400.000000  180400.0000  265000.000  500001.0000  "
            ],
            "text/html": [
              "\n",
              "  <div id=\"df-f4938753-85ef-45f3-8422-2d6ec23871b2\" class=\"colab-df-container\">\n",
              "    <div>\n",
              "<style scoped>\n",
              "    .dataframe tbody tr th:only-of-type {\n",
              "        vertical-align: middle;\n",
              "    }\n",
              "\n",
              "    .dataframe tbody tr th {\n",
              "        vertical-align: top;\n",
              "    }\n",
              "\n",
              "    .dataframe thead th {\n",
              "        text-align: right;\n",
              "    }\n",
              "</style>\n",
              "<table border=\"1\" class=\"dataframe\">\n",
              "  <thead>\n",
              "    <tr style=\"text-align: right;\">\n",
              "      <th></th>\n",
              "      <th>count</th>\n",
              "      <th>mean</th>\n",
              "      <th>std</th>\n",
              "      <th>min</th>\n",
              "      <th>25%</th>\n",
              "      <th>50%</th>\n",
              "      <th>75%</th>\n",
              "      <th>max</th>\n",
              "    </tr>\n",
              "  </thead>\n",
              "  <tbody>\n",
              "    <tr>\n",
              "      <th>longitude</th>\n",
              "      <td>17000.0</td>\n",
              "      <td>-119.562108</td>\n",
              "      <td>2.005166</td>\n",
              "      <td>-124.3500</td>\n",
              "      <td>-121.790000</td>\n",
              "      <td>-118.4900</td>\n",
              "      <td>-118.000</td>\n",
              "      <td>-114.3100</td>\n",
              "    </tr>\n",
              "    <tr>\n",
              "      <th>latitude</th>\n",
              "      <td>17000.0</td>\n",
              "      <td>35.625225</td>\n",
              "      <td>2.137340</td>\n",
              "      <td>32.5400</td>\n",
              "      <td>33.930000</td>\n",
              "      <td>34.2500</td>\n",
              "      <td>37.720</td>\n",
              "      <td>41.9500</td>\n",
              "    </tr>\n",
              "    <tr>\n",
              "      <th>housing_median_age</th>\n",
              "      <td>17000.0</td>\n",
              "      <td>28.589353</td>\n",
              "      <td>12.586937</td>\n",
              "      <td>1.0000</td>\n",
              "      <td>18.000000</td>\n",
              "      <td>29.0000</td>\n",
              "      <td>37.000</td>\n",
              "      <td>52.0000</td>\n",
              "    </tr>\n",
              "    <tr>\n",
              "      <th>total_rooms</th>\n",
              "      <td>17000.0</td>\n",
              "      <td>2643.664412</td>\n",
              "      <td>2179.947071</td>\n",
              "      <td>2.0000</td>\n",
              "      <td>1462.000000</td>\n",
              "      <td>2127.0000</td>\n",
              "      <td>3151.250</td>\n",
              "      <td>37937.0000</td>\n",
              "    </tr>\n",
              "    <tr>\n",
              "      <th>total_bedrooms</th>\n",
              "      <td>17000.0</td>\n",
              "      <td>539.410824</td>\n",
              "      <td>421.499452</td>\n",
              "      <td>1.0000</td>\n",
              "      <td>297.000000</td>\n",
              "      <td>434.0000</td>\n",
              "      <td>648.250</td>\n",
              "      <td>6445.0000</td>\n",
              "    </tr>\n",
              "    <tr>\n",
              "      <th>population</th>\n",
              "      <td>17000.0</td>\n",
              "      <td>1429.573941</td>\n",
              "      <td>1147.852959</td>\n",
              "      <td>3.0000</td>\n",
              "      <td>790.000000</td>\n",
              "      <td>1167.0000</td>\n",
              "      <td>1721.000</td>\n",
              "      <td>35682.0000</td>\n",
              "    </tr>\n",
              "    <tr>\n",
              "      <th>households</th>\n",
              "      <td>17000.0</td>\n",
              "      <td>501.221941</td>\n",
              "      <td>384.520841</td>\n",
              "      <td>1.0000</td>\n",
              "      <td>282.000000</td>\n",
              "      <td>409.0000</td>\n",
              "      <td>605.250</td>\n",
              "      <td>6082.0000</td>\n",
              "    </tr>\n",
              "    <tr>\n",
              "      <th>median_income</th>\n",
              "      <td>17000.0</td>\n",
              "      <td>3.883578</td>\n",
              "      <td>1.908157</td>\n",
              "      <td>0.4999</td>\n",
              "      <td>2.566375</td>\n",
              "      <td>3.5446</td>\n",
              "      <td>4.767</td>\n",
              "      <td>15.0001</td>\n",
              "    </tr>\n",
              "    <tr>\n",
              "      <th>median_house_value</th>\n",
              "      <td>17000.0</td>\n",
              "      <td>207300.912353</td>\n",
              "      <td>115983.764387</td>\n",
              "      <td>14999.0000</td>\n",
              "      <td>119400.000000</td>\n",
              "      <td>180400.0000</td>\n",
              "      <td>265000.000</td>\n",
              "      <td>500001.0000</td>\n",
              "    </tr>\n",
              "  </tbody>\n",
              "</table>\n",
              "</div>\n",
              "    <div class=\"colab-df-buttons\">\n",
              "\n",
              "  <div class=\"colab-df-container\">\n",
              "    <button class=\"colab-df-convert\" onclick=\"convertToInteractive('df-f4938753-85ef-45f3-8422-2d6ec23871b2')\"\n",
              "            title=\"Convert this dataframe to an interactive table.\"\n",
              "            style=\"display:none;\">\n",
              "\n",
              "  <svg xmlns=\"http://www.w3.org/2000/svg\" height=\"24px\" viewBox=\"0 -960 960 960\">\n",
              "    <path d=\"M120-120v-720h720v720H120Zm60-500h600v-160H180v160Zm220 220h160v-160H400v160Zm0 220h160v-160H400v160ZM180-400h160v-160H180v160Zm440 0h160v-160H620v160ZM180-180h160v-160H180v160Zm440 0h160v-160H620v160Z\"/>\n",
              "  </svg>\n",
              "    </button>\n",
              "\n",
              "  <style>\n",
              "    .colab-df-container {\n",
              "      display:flex;\n",
              "      gap: 12px;\n",
              "    }\n",
              "\n",
              "    .colab-df-convert {\n",
              "      background-color: #E8F0FE;\n",
              "      border: none;\n",
              "      border-radius: 50%;\n",
              "      cursor: pointer;\n",
              "      display: none;\n",
              "      fill: #1967D2;\n",
              "      height: 32px;\n",
              "      padding: 0 0 0 0;\n",
              "      width: 32px;\n",
              "    }\n",
              "\n",
              "    .colab-df-convert:hover {\n",
              "      background-color: #E2EBFA;\n",
              "      box-shadow: 0px 1px 2px rgba(60, 64, 67, 0.3), 0px 1px 3px 1px rgba(60, 64, 67, 0.15);\n",
              "      fill: #174EA6;\n",
              "    }\n",
              "\n",
              "    .colab-df-buttons div {\n",
              "      margin-bottom: 4px;\n",
              "    }\n",
              "\n",
              "    [theme=dark] .colab-df-convert {\n",
              "      background-color: #3B4455;\n",
              "      fill: #D2E3FC;\n",
              "    }\n",
              "\n",
              "    [theme=dark] .colab-df-convert:hover {\n",
              "      background-color: #434B5C;\n",
              "      box-shadow: 0px 1px 3px 1px rgba(0, 0, 0, 0.15);\n",
              "      filter: drop-shadow(0px 1px 2px rgba(0, 0, 0, 0.3));\n",
              "      fill: #FFFFFF;\n",
              "    }\n",
              "  </style>\n",
              "\n",
              "    <script>\n",
              "      const buttonEl =\n",
              "        document.querySelector('#df-f4938753-85ef-45f3-8422-2d6ec23871b2 button.colab-df-convert');\n",
              "      buttonEl.style.display =\n",
              "        google.colab.kernel.accessAllowed ? 'block' : 'none';\n",
              "\n",
              "      async function convertToInteractive(key) {\n",
              "        const element = document.querySelector('#df-f4938753-85ef-45f3-8422-2d6ec23871b2');\n",
              "        const dataTable =\n",
              "          await google.colab.kernel.invokeFunction('convertToInteractive',\n",
              "                                                    [key], {});\n",
              "        if (!dataTable) return;\n",
              "\n",
              "        const docLinkHtml = 'Like what you see? Visit the ' +\n",
              "          '<a target=\"_blank\" href=https://colab.research.google.com/notebooks/data_table.ipynb>data table notebook</a>'\n",
              "          + ' to learn more about interactive tables.';\n",
              "        element.innerHTML = '';\n",
              "        dataTable['output_type'] = 'display_data';\n",
              "        await google.colab.output.renderOutput(dataTable, element);\n",
              "        const docLink = document.createElement('div');\n",
              "        docLink.innerHTML = docLinkHtml;\n",
              "        element.appendChild(docLink);\n",
              "      }\n",
              "    </script>\n",
              "  </div>\n",
              "\n",
              "\n",
              "<div id=\"df-02e0da94-eb09-4f61-8676-3279f7cd81a9\">\n",
              "  <button class=\"colab-df-quickchart\" onclick=\"quickchart('df-02e0da94-eb09-4f61-8676-3279f7cd81a9')\"\n",
              "            title=\"Suggest charts\"\n",
              "            style=\"display:none;\">\n",
              "\n",
              "<svg xmlns=\"http://www.w3.org/2000/svg\" height=\"24px\"viewBox=\"0 0 24 24\"\n",
              "     width=\"24px\">\n",
              "    <g>\n",
              "        <path d=\"M19 3H5c-1.1 0-2 .9-2 2v14c0 1.1.9 2 2 2h14c1.1 0 2-.9 2-2V5c0-1.1-.9-2-2-2zM9 17H7v-7h2v7zm4 0h-2V7h2v10zm4 0h-2v-4h2v4z\"/>\n",
              "    </g>\n",
              "</svg>\n",
              "  </button>\n",
              "\n",
              "<style>\n",
              "  .colab-df-quickchart {\n",
              "      --bg-color: #E8F0FE;\n",
              "      --fill-color: #1967D2;\n",
              "      --hover-bg-color: #E2EBFA;\n",
              "      --hover-fill-color: #174EA6;\n",
              "      --disabled-fill-color: #AAA;\n",
              "      --disabled-bg-color: #DDD;\n",
              "  }\n",
              "\n",
              "  [theme=dark] .colab-df-quickchart {\n",
              "      --bg-color: #3B4455;\n",
              "      --fill-color: #D2E3FC;\n",
              "      --hover-bg-color: #434B5C;\n",
              "      --hover-fill-color: #FFFFFF;\n",
              "      --disabled-bg-color: #3B4455;\n",
              "      --disabled-fill-color: #666;\n",
              "  }\n",
              "\n",
              "  .colab-df-quickchart {\n",
              "    background-color: var(--bg-color);\n",
              "    border: none;\n",
              "    border-radius: 50%;\n",
              "    cursor: pointer;\n",
              "    display: none;\n",
              "    fill: var(--fill-color);\n",
              "    height: 32px;\n",
              "    padding: 0;\n",
              "    width: 32px;\n",
              "  }\n",
              "\n",
              "  .colab-df-quickchart:hover {\n",
              "    background-color: var(--hover-bg-color);\n",
              "    box-shadow: 0 1px 2px rgba(60, 64, 67, 0.3), 0 1px 3px 1px rgba(60, 64, 67, 0.15);\n",
              "    fill: var(--button-hover-fill-color);\n",
              "  }\n",
              "\n",
              "  .colab-df-quickchart-complete:disabled,\n",
              "  .colab-df-quickchart-complete:disabled:hover {\n",
              "    background-color: var(--disabled-bg-color);\n",
              "    fill: var(--disabled-fill-color);\n",
              "    box-shadow: none;\n",
              "  }\n",
              "\n",
              "  .colab-df-spinner {\n",
              "    border: 2px solid var(--fill-color);\n",
              "    border-color: transparent;\n",
              "    border-bottom-color: var(--fill-color);\n",
              "    animation:\n",
              "      spin 1s steps(1) infinite;\n",
              "  }\n",
              "\n",
              "  @keyframes spin {\n",
              "    0% {\n",
              "      border-color: transparent;\n",
              "      border-bottom-color: var(--fill-color);\n",
              "      border-left-color: var(--fill-color);\n",
              "    }\n",
              "    20% {\n",
              "      border-color: transparent;\n",
              "      border-left-color: var(--fill-color);\n",
              "      border-top-color: var(--fill-color);\n",
              "    }\n",
              "    30% {\n",
              "      border-color: transparent;\n",
              "      border-left-color: var(--fill-color);\n",
              "      border-top-color: var(--fill-color);\n",
              "      border-right-color: var(--fill-color);\n",
              "    }\n",
              "    40% {\n",
              "      border-color: transparent;\n",
              "      border-right-color: var(--fill-color);\n",
              "      border-top-color: var(--fill-color);\n",
              "    }\n",
              "    60% {\n",
              "      border-color: transparent;\n",
              "      border-right-color: var(--fill-color);\n",
              "    }\n",
              "    80% {\n",
              "      border-color: transparent;\n",
              "      border-right-color: var(--fill-color);\n",
              "      border-bottom-color: var(--fill-color);\n",
              "    }\n",
              "    90% {\n",
              "      border-color: transparent;\n",
              "      border-bottom-color: var(--fill-color);\n",
              "    }\n",
              "  }\n",
              "</style>\n",
              "\n",
              "  <script>\n",
              "    async function quickchart(key) {\n",
              "      const quickchartButtonEl =\n",
              "        document.querySelector('#' + key + ' button');\n",
              "      quickchartButtonEl.disabled = true;  // To prevent multiple clicks.\n",
              "      quickchartButtonEl.classList.add('colab-df-spinner');\n",
              "      try {\n",
              "        const charts = await google.colab.kernel.invokeFunction(\n",
              "            'suggestCharts', [key], {});\n",
              "      } catch (error) {\n",
              "        console.error('Error during call to suggestCharts:', error);\n",
              "      }\n",
              "      quickchartButtonEl.classList.remove('colab-df-spinner');\n",
              "      quickchartButtonEl.classList.add('colab-df-quickchart-complete');\n",
              "    }\n",
              "    (() => {\n",
              "      let quickchartButtonEl =\n",
              "        document.querySelector('#df-02e0da94-eb09-4f61-8676-3279f7cd81a9 button');\n",
              "      quickchartButtonEl.style.display =\n",
              "        google.colab.kernel.accessAllowed ? 'block' : 'none';\n",
              "    })();\n",
              "  </script>\n",
              "</div>\n",
              "    </div>\n",
              "  </div>\n"
            ],
            "application/vnd.google.colaboratory.intrinsic+json": {
              "type": "dataframe",
              "summary": "{\n  \"name\": \"housing_data\",\n  \"rows\": 9,\n  \"fields\": [\n    {\n      \"column\": \"count\",\n      \"properties\": {\n        \"dtype\": \"number\",\n        \"std\": 0.0,\n        \"min\": 17000.0,\n        \"max\": 17000.0,\n        \"num_unique_values\": 1,\n        \"samples\": [\n          17000.0\n        ],\n        \"semantic_type\": \"\",\n        \"description\": \"\"\n      }\n    },\n    {\n      \"column\": \"mean\",\n      \"properties\": {\n        \"dtype\": \"number\",\n        \"std\": 68895.1655224679,\n        \"min\": -119.5621082352941,\n        \"max\": 207300.91235294117,\n        \"num_unique_values\": 9,\n        \"samples\": [\n          3.8835781000000007\n        ],\n        \"semantic_type\": \"\",\n        \"description\": \"\"\n      }\n    },\n    {\n      \"column\": \"std\",\n      \"properties\": {\n        \"dtype\": \"number\",\n        \"std\": 38495.12041972964,\n        \"min\": 1.9081565183791036,\n        \"max\": 115983.76438720885,\n        \"num_unique_values\": 9,\n        \"samples\": [\n          1.9081565183791036\n        ],\n        \"semantic_type\": \"\",\n        \"description\": \"\"\n      }\n    },\n    {\n      \"column\": \"min\",\n      \"properties\": {\n        \"dtype\": \"number\",\n        \"std\": 5003.333674804338,\n        \"min\": -124.35,\n        \"max\": 14999.0,\n        \"num_unique_values\": 7,\n        \"samples\": [\n          -124.35\n        ],\n        \"semantic_type\": \"\",\n        \"description\": \"\"\n      }\n    },\n    {\n      \"column\": \"25%\",\n      \"properties\": {\n        \"dtype\": \"number\",\n        \"std\": 39687.980822886195,\n        \"min\": -121.79,\n        \"max\": 119400.0,\n        \"num_unique_values\": 9,\n        \"samples\": [\n          2.566375\n        ],\n        \"semantic_type\": \"\",\n        \"description\": \"\"\n      }\n    },\n    {\n      \"column\": \"50%\",\n      \"properties\": {\n        \"dtype\": \"number\",\n        \"std\": 59967.4601439312,\n        \"min\": -118.49,\n        \"max\": 180400.0,\n        \"num_unique_values\": 9,\n        \"samples\": [\n          3.5446\n        ],\n        \"semantic_type\": \"\",\n        \"description\": \"\"\n      }\n    },\n    {\n      \"column\": \"75%\",\n      \"properties\": {\n        \"dtype\": \"number\",\n        \"std\": 88086.12968922153,\n        \"min\": -118.0,\n        \"max\": 265000.0,\n        \"num_unique_values\": 9,\n        \"samples\": [\n          4.767\n        ],\n        \"semantic_type\": \"\",\n        \"description\": \"\"\n      }\n    },\n    {\n      \"column\": \"max\",\n      \"properties\": {\n        \"dtype\": \"number\",\n        \"std\": 163790.41851165728,\n        \"min\": -114.31,\n        \"max\": 500001.0,\n        \"num_unique_values\": 9,\n        \"samples\": [\n          15.0001\n        ],\n        \"semantic_type\": \"\",\n        \"description\": \"\"\n      }\n    }\n  ]\n}"
            }
          },
          "metadata": {},
          "execution_count": 3
        }
      ]
    },
    {
      "cell_type": "code",
      "source": [
        "housing_data.columns"
      ],
      "metadata": {
        "colab": {
          "base_uri": "https://localhost:8080/"
        },
        "id": "3Zud8TulngvS",
        "outputId": "0ce69353-a314-47c3-cb49-8ff2aa2a33d0"
      },
      "execution_count": 4,
      "outputs": [
        {
          "output_type": "execute_result",
          "data": {
            "text/plain": [
              "Index(['longitude', 'latitude', 'housing_median_age', 'total_rooms',\n",
              "       'total_bedrooms', 'population', 'households', 'median_income',\n",
              "       'median_house_value'],\n",
              "      dtype='object')"
            ]
          },
          "metadata": {},
          "execution_count": 4
        }
      ]
    },
    {
      "cell_type": "code",
      "source": [
        "housing_data.dtypes"
      ],
      "metadata": {
        "colab": {
          "base_uri": "https://localhost:8080/"
        },
        "id": "Bp2Cr2avnilU",
        "outputId": "45ce9b32-b25c-4c78-f28b-0120f3f42da8"
      },
      "execution_count": 5,
      "outputs": [
        {
          "output_type": "execute_result",
          "data": {
            "text/plain": [
              "longitude             float64\n",
              "latitude              float64\n",
              "housing_median_age    float64\n",
              "total_rooms           float64\n",
              "total_bedrooms        float64\n",
              "population            float64\n",
              "households            float64\n",
              "median_income         float64\n",
              "median_house_value    float64\n",
              "dtype: object"
            ]
          },
          "metadata": {},
          "execution_count": 5
        }
      ]
    },
    {
      "cell_type": "code",
      "source": [
        "X = housing_data.drop(columns= ['median_house_value'])\n",
        "y = housing_data.median_house_value"
      ],
      "metadata": {
        "id": "-uiRpzu4qotg"
      },
      "execution_count": 6,
      "outputs": []
    },
    {
      "cell_type": "code",
      "source": [
        "X_train, X_test, y_train, y_test = train_test_split(X, y, test_size = 0.25)"
      ],
      "metadata": {
        "id": "EQ4YBcGfxTYh"
      },
      "execution_count": 7,
      "outputs": []
    },
    {
      "cell_type": "code",
      "source": [
        "scaler = MinMaxScaler()\n",
        "X_train = scaler.fit_transform(X_train)\n",
        "X_test = scaler.transform(X_test)"
      ],
      "metadata": {
        "id": "dDBBFSGVbEoS"
      },
      "execution_count": 8,
      "outputs": []
    },
    {
      "cell_type": "code",
      "source": [
        "X_train.max(axis = 0), X_train.min(axis = 0)"
      ],
      "metadata": {
        "colab": {
          "base_uri": "https://localhost:8080/"
        },
        "id": "odTlDUvYcooM",
        "outputId": "363b91fe-f0a9-4c7f-e210-dc867d365fd4"
      },
      "execution_count": 9,
      "outputs": [
        {
          "output_type": "execute_result",
          "data": {
            "text/plain": [
              "(array([1., 1., 1., 1., 1., 1., 1., 1.]),\n",
              " array([0., 0., 0., 0., 0., 0., 0., 0.]))"
            ]
          },
          "metadata": {},
          "execution_count": 9
        }
      ]
    },
    {
      "cell_type": "code",
      "source": [
        "num_columns = X_train.shape[1]\n",
        "num_outputs = 1"
      ],
      "metadata": {
        "id": "zXtq906_qRAa"
      },
      "execution_count": 10,
      "outputs": []
    },
    {
      "cell_type": "code",
      "source": [
        "tf.keras.backend.clear_session()"
      ],
      "metadata": {
        "id": "2YF4KqZf2OG3"
      },
      "execution_count": 11,
      "outputs": []
    },
    {
      "cell_type": "code",
      "source": [
        "model = Sequential([\n",
        "    Input(num_columns),\n",
        "    Dense(32, activation = 'relu'),\n",
        "    Dense(64, activation = 'relu'),\n",
        "    Dense(32, activation = 'relu'),\n",
        "    Dense(num_outputs, activation = None),\n",
        "])"
      ],
      "metadata": {
        "id": "Qzy-_zhynkd1"
      },
      "execution_count": 12,
      "outputs": []
    },
    {
      "cell_type": "code",
      "source": [
        "model.summary()"
      ],
      "metadata": {
        "colab": {
          "base_uri": "https://localhost:8080/"
        },
        "id": "q8owF3i-y5Cg",
        "outputId": "ff1d7a52-b196-4c8e-8945-4f916ed32502"
      },
      "execution_count": 13,
      "outputs": [
        {
          "output_type": "stream",
          "name": "stdout",
          "text": [
            "Model: \"sequential\"\n",
            "_________________________________________________________________\n",
            " Layer (type)                Output Shape              Param #   \n",
            "=================================================================\n",
            " dense (Dense)               (None, 32)                288       \n",
            "                                                                 \n",
            " dense_1 (Dense)             (None, 64)                2112      \n",
            "                                                                 \n",
            " dense_2 (Dense)             (None, 32)                2080      \n",
            "                                                                 \n",
            " dense_3 (Dense)             (None, 1)                 33        \n",
            "                                                                 \n",
            "=================================================================\n",
            "Total params: 4513 (17.63 KB)\n",
            "Trainable params: 4513 (17.63 KB)\n",
            "Non-trainable params: 0 (0.00 Byte)\n",
            "_________________________________________________________________\n"
          ]
        }
      ]
    },
    {
      "cell_type": "code",
      "source": [
        "model.compile(loss = 'mse')"
      ],
      "metadata": {
        "id": "vZJA9Eor2d4H"
      },
      "execution_count": 14,
      "outputs": []
    },
    {
      "cell_type": "code",
      "source": [
        "history = model.fit(X_train, y_train, epochs = 100)"
      ],
      "metadata": {
        "colab": {
          "base_uri": "https://localhost:8080/"
        },
        "id": "qvDDKZ0aXrdC",
        "outputId": "79ef6a78-955f-4abf-f18e-717b8ad822b7"
      },
      "execution_count": 17,
      "outputs": [
        {
          "output_type": "stream",
          "name": "stdout",
          "text": [
            "Epoch 1/100\n",
            "399/399 [==============================] - 1s 2ms/step - loss: 5723020800.0000\n",
            "Epoch 2/100\n",
            "399/399 [==============================] - 1s 2ms/step - loss: 5691096576.0000\n",
            "Epoch 3/100\n",
            "399/399 [==============================] - 1s 2ms/step - loss: 5664705024.0000\n",
            "Epoch 4/100\n",
            "399/399 [==============================] - 1s 2ms/step - loss: 5634547200.0000\n",
            "Epoch 5/100\n",
            "399/399 [==============================] - 1s 2ms/step - loss: 5606623744.0000\n",
            "Epoch 6/100\n",
            "399/399 [==============================] - 1s 2ms/step - loss: 5577445888.0000\n",
            "Epoch 7/100\n",
            "399/399 [==============================] - 1s 2ms/step - loss: 5552374784.0000\n",
            "Epoch 8/100\n",
            "399/399 [==============================] - 1s 2ms/step - loss: 5522675200.0000\n",
            "Epoch 9/100\n",
            "399/399 [==============================] - 1s 2ms/step - loss: 5493958144.0000\n",
            "Epoch 10/100\n",
            "399/399 [==============================] - 1s 2ms/step - loss: 5464340480.0000\n",
            "Epoch 11/100\n",
            "399/399 [==============================] - 1s 2ms/step - loss: 5436685312.0000\n",
            "Epoch 12/100\n",
            "399/399 [==============================] - 1s 2ms/step - loss: 5408756224.0000\n",
            "Epoch 13/100\n",
            "399/399 [==============================] - 1s 2ms/step - loss: 5381740544.0000\n",
            "Epoch 14/100\n",
            "399/399 [==============================] - 1s 2ms/step - loss: 5353274368.0000\n",
            "Epoch 15/100\n",
            "399/399 [==============================] - 1s 2ms/step - loss: 5325605376.0000\n",
            "Epoch 16/100\n",
            "399/399 [==============================] - 1s 2ms/step - loss: 5298647040.0000\n",
            "Epoch 17/100\n",
            "399/399 [==============================] - 1s 2ms/step - loss: 5272673280.0000\n",
            "Epoch 18/100\n",
            "399/399 [==============================] - 1s 1ms/step - loss: 5246112256.0000\n",
            "Epoch 19/100\n",
            "399/399 [==============================] - 1s 2ms/step - loss: 5217886720.0000\n",
            "Epoch 20/100\n",
            "399/399 [==============================] - 1s 2ms/step - loss: 5190578688.0000\n",
            "Epoch 21/100\n",
            "399/399 [==============================] - 1s 2ms/step - loss: 5165234176.0000\n",
            "Epoch 22/100\n",
            "399/399 [==============================] - 1s 2ms/step - loss: 5139795968.0000\n",
            "Epoch 23/100\n",
            "399/399 [==============================] - 1s 2ms/step - loss: 5114058240.0000\n",
            "Epoch 24/100\n",
            "399/399 [==============================] - 1s 2ms/step - loss: 5086637056.0000\n",
            "Epoch 25/100\n",
            "399/399 [==============================] - 1s 2ms/step - loss: 5061023744.0000\n",
            "Epoch 26/100\n",
            "399/399 [==============================] - 1s 2ms/step - loss: 5036846592.0000\n",
            "Epoch 27/100\n",
            "399/399 [==============================] - 1s 1ms/step - loss: 5012943872.0000\n",
            "Epoch 28/100\n",
            "399/399 [==============================] - 1s 2ms/step - loss: 4993572352.0000\n",
            "Epoch 29/100\n",
            "399/399 [==============================] - 1s 2ms/step - loss: 4965502464.0000\n",
            "Epoch 30/100\n",
            "399/399 [==============================] - 1s 2ms/step - loss: 4942988288.0000\n",
            "Epoch 31/100\n",
            "399/399 [==============================] - 1s 2ms/step - loss: 4920278016.0000\n",
            "Epoch 32/100\n",
            "399/399 [==============================] - 1s 2ms/step - loss: 4896562688.0000\n",
            "Epoch 33/100\n",
            "399/399 [==============================] - 1s 2ms/step - loss: 4875542528.0000\n",
            "Epoch 34/100\n",
            "399/399 [==============================] - 1s 2ms/step - loss: 4853943808.0000\n",
            "Epoch 35/100\n",
            "399/399 [==============================] - 1s 1ms/step - loss: 4833424384.0000\n",
            "Epoch 36/100\n",
            "399/399 [==============================] - 1s 2ms/step - loss: 4814738944.0000\n",
            "Epoch 37/100\n",
            "399/399 [==============================] - 1s 2ms/step - loss: 4794383872.0000\n",
            "Epoch 38/100\n",
            "399/399 [==============================] - 1s 2ms/step - loss: 4773597696.0000\n",
            "Epoch 39/100\n",
            "399/399 [==============================] - 1s 2ms/step - loss: 4756320256.0000\n",
            "Epoch 40/100\n",
            "399/399 [==============================] - 1s 2ms/step - loss: 4739407872.0000\n",
            "Epoch 41/100\n",
            "399/399 [==============================] - 1s 2ms/step - loss: 4722771456.0000\n",
            "Epoch 42/100\n",
            "399/399 [==============================] - 1s 2ms/step - loss: 4706705920.0000\n",
            "Epoch 43/100\n",
            "399/399 [==============================] - 1s 2ms/step - loss: 4688823296.0000\n",
            "Epoch 44/100\n",
            "399/399 [==============================] - 1s 2ms/step - loss: 4678089728.0000\n",
            "Epoch 45/100\n",
            "399/399 [==============================] - 1s 2ms/step - loss: 4663227392.0000\n",
            "Epoch 46/100\n",
            "399/399 [==============================] - 1s 2ms/step - loss: 4647965696.0000\n",
            "Epoch 47/100\n",
            "399/399 [==============================] - 1s 1ms/step - loss: 4639283712.0000\n",
            "Epoch 48/100\n",
            "399/399 [==============================] - 1s 2ms/step - loss: 4623841280.0000\n",
            "Epoch 49/100\n",
            "399/399 [==============================] - 1s 2ms/step - loss: 4615737344.0000\n",
            "Epoch 50/100\n",
            "399/399 [==============================] - 1s 1ms/step - loss: 4601319424.0000\n",
            "Epoch 51/100\n",
            "399/399 [==============================] - 1s 2ms/step - loss: 4592436224.0000\n",
            "Epoch 52/100\n",
            "399/399 [==============================] - 1s 2ms/step - loss: 4576912896.0000\n",
            "Epoch 53/100\n",
            "399/399 [==============================] - 1s 2ms/step - loss: 4568159744.0000\n",
            "Epoch 54/100\n",
            "399/399 [==============================] - 1s 2ms/step - loss: 4562072576.0000\n",
            "Epoch 55/100\n",
            "399/399 [==============================] - 1s 2ms/step - loss: 4552297472.0000\n",
            "Epoch 56/100\n",
            "399/399 [==============================] - 1s 2ms/step - loss: 4542859776.0000\n",
            "Epoch 57/100\n",
            "399/399 [==============================] - 1s 2ms/step - loss: 4538230784.0000\n",
            "Epoch 58/100\n",
            "399/399 [==============================] - 1s 2ms/step - loss: 4527262208.0000\n",
            "Epoch 59/100\n",
            "399/399 [==============================] - 1s 2ms/step - loss: 4523734016.0000\n",
            "Epoch 60/100\n",
            "399/399 [==============================] - 1s 2ms/step - loss: 4516195840.0000\n",
            "Epoch 61/100\n",
            "399/399 [==============================] - 1s 2ms/step - loss: 4510821888.0000\n",
            "Epoch 62/100\n",
            "399/399 [==============================] - 1s 2ms/step - loss: 4506461696.0000\n",
            "Epoch 63/100\n",
            "399/399 [==============================] - 1s 2ms/step - loss: 4501008384.0000\n",
            "Epoch 64/100\n",
            "399/399 [==============================] - 1s 2ms/step - loss: 4487462912.0000\n",
            "Epoch 65/100\n",
            "399/399 [==============================] - 1s 2ms/step - loss: 4488747520.0000\n",
            "Epoch 66/100\n",
            "399/399 [==============================] - 1s 2ms/step - loss: 4481414144.0000\n",
            "Epoch 67/100\n",
            "399/399 [==============================] - 1s 2ms/step - loss: 4482190336.0000\n",
            "Epoch 68/100\n",
            "399/399 [==============================] - 1s 2ms/step - loss: 4477443072.0000\n",
            "Epoch 69/100\n",
            "399/399 [==============================] - 1s 2ms/step - loss: 4473804288.0000\n",
            "Epoch 70/100\n",
            "399/399 [==============================] - 1s 2ms/step - loss: 4467032064.0000\n",
            "Epoch 71/100\n",
            "399/399 [==============================] - 1s 2ms/step - loss: 4466036224.0000\n",
            "Epoch 72/100\n",
            "399/399 [==============================] - 1s 2ms/step - loss: 4460984320.0000\n",
            "Epoch 73/100\n",
            "399/399 [==============================] - 1s 1ms/step - loss: 4459772928.0000\n",
            "Epoch 74/100\n",
            "399/399 [==============================] - 1s 1ms/step - loss: 4452978688.0000\n",
            "Epoch 75/100\n",
            "399/399 [==============================] - 1s 2ms/step - loss: 4453038080.0000\n",
            "Epoch 76/100\n",
            "399/399 [==============================] - 1s 2ms/step - loss: 4449674752.0000\n",
            "Epoch 77/100\n",
            "399/399 [==============================] - 1s 2ms/step - loss: 4444814336.0000\n",
            "Epoch 78/100\n",
            "399/399 [==============================] - 1s 2ms/step - loss: 4442120704.0000\n",
            "Epoch 79/100\n",
            "399/399 [==============================] - 1s 2ms/step - loss: 4436372992.0000\n",
            "Epoch 80/100\n",
            "399/399 [==============================] - 1s 2ms/step - loss: 4437252608.0000\n",
            "Epoch 81/100\n",
            "399/399 [==============================] - 1s 1ms/step - loss: 4435958784.0000\n",
            "Epoch 82/100\n",
            "399/399 [==============================] - 1s 2ms/step - loss: 4434133504.0000\n",
            "Epoch 83/100\n",
            "399/399 [==============================] - 1s 2ms/step - loss: 4430308864.0000\n",
            "Epoch 84/100\n",
            "399/399 [==============================] - 1s 2ms/step - loss: 4430028800.0000\n",
            "Epoch 85/100\n",
            "399/399 [==============================] - 1s 2ms/step - loss: 4423431680.0000\n",
            "Epoch 86/100\n",
            "399/399 [==============================] - 1s 2ms/step - loss: 4424648704.0000\n",
            "Epoch 87/100\n",
            "399/399 [==============================] - 1s 2ms/step - loss: 4419566592.0000\n",
            "Epoch 88/100\n",
            "399/399 [==============================] - 1s 2ms/step - loss: 4412602368.0000\n",
            "Epoch 89/100\n",
            "399/399 [==============================] - 1s 2ms/step - loss: 4415290368.0000\n",
            "Epoch 90/100\n",
            "399/399 [==============================] - 1s 2ms/step - loss: 4414914560.0000\n",
            "Epoch 91/100\n",
            "399/399 [==============================] - 1s 2ms/step - loss: 4413438976.0000\n",
            "Epoch 92/100\n",
            "399/399 [==============================] - 1s 1ms/step - loss: 4408626688.0000\n",
            "Epoch 93/100\n",
            "399/399 [==============================] - 1s 2ms/step - loss: 4408656384.0000\n",
            "Epoch 94/100\n",
            "399/399 [==============================] - 1s 2ms/step - loss: 4407413248.0000\n",
            "Epoch 95/100\n",
            "399/399 [==============================] - 1s 1ms/step - loss: 4404207104.0000\n",
            "Epoch 96/100\n",
            "399/399 [==============================] - 1s 2ms/step - loss: 4403213824.0000\n",
            "Epoch 97/100\n",
            "399/399 [==============================] - 1s 2ms/step - loss: 4400593920.0000\n",
            "Epoch 98/100\n",
            "399/399 [==============================] - 1s 2ms/step - loss: 4396831744.0000\n",
            "Epoch 99/100\n",
            "399/399 [==============================] - 1s 2ms/step - loss: 4394842624.0000\n",
            "Epoch 100/100\n",
            "399/399 [==============================] - 1s 1ms/step - loss: 4392456704.0000\n"
          ]
        }
      ]
    },
    {
      "cell_type": "code",
      "source": [
        "plt.plot(history.history['loss'])\n",
        "plt.semilogy()\n",
        "plt.show()"
      ],
      "metadata": {
        "colab": {
          "base_uri": "https://localhost:8080/",
          "height": 430
        },
        "id": "jZp0FdM_iYXi",
        "outputId": "a5a0b11c-91b2-445f-ed11-1b82f6e7ec7a"
      },
      "execution_count": 18,
      "outputs": [
        {
          "output_type": "display_data",
          "data": {
            "text/plain": [
              "<Figure size 640x480 with 1 Axes>"
            ],
            "image/png": "[encoded data removed]"
          },
          "metadata": {}
        }
      ]
    },
    {
      "cell_type": "code",
      "source": [
        "model.predict(X_train)"
      ],
      "metadata": {
        "colab": {
          "base_uri": "https://localhost:8080/"
        },
        "id": "Pdcj6Cpl2UBN",
        "outputId": "03abe9ef-8142-4598-9273-1f1d0a44593d"
      },
      "execution_count": 19,
      "outputs": [
        {
          "output_type": "stream",
          "name": "stdout",
          "text": [
            "399/399 [==============================] - 1s 2ms/step\n"
          ]
        },
        {
          "output_type": "execute_result",
          "data": {
            "text/plain": [
              "array([[105794.41],\n",
              "       [154821.77],\n",
              "       [289394.56],\n",
              "       ...,\n",
              "       [205177.5 ],\n",
              "       [166493.6 ],\n",
              "       [213424.05]], dtype=float32)"
            ]
          },
          "metadata": {},
          "execution_count": 19
        }
      ]
    },
    {
      "cell_type": "code",
      "source": [
        "model.evaluate(X_train, y_train)"
      ],
      "metadata": {
        "colab": {
          "base_uri": "https://localhost:8080/"
        },
        "id": "NUn2zzqEZOpK",
        "outputId": "5854845c-4615-44ff-b812-765a05d5f464"
      },
      "execution_count": 20,
      "outputs": [
        {
          "output_type": "stream",
          "name": "stdout",
          "text": [
            "399/399 [==============================] - 1s 1ms/step - loss: 4398811648.0000\n"
          ]
        },
        {
          "output_type": "execute_result",
          "data": {
            "text/plain": [
              "4398811648.0"
            ]
          },
          "metadata": {},
          "execution_count": 20
        }
      ]
    },
    {
      "cell_type": "code",
      "source": [
        "model.evaluate(X_test, y_test)"
      ],
      "metadata": {
        "colab": {
          "base_uri": "https://localhost:8080/"
        },
        "id": "RQjFF4QK2uLW",
        "outputId": "4d3ced26-5a84-4223-b746-4e12dcf829da"
      },
      "execution_count": 21,
      "outputs": [
        {
          "output_type": "stream",
          "name": "stdout",
          "text": [
            "133/133 [==============================] - 0s 1ms/step - loss: 4181871616.0000\n"
          ]
        },
        {
          "output_type": "execute_result",
          "data": {
            "text/plain": [
              "4181871616.0"
            ]
          },
          "metadata": {},
          "execution_count": 21
        }
      ]
    },
    {
      "cell_type": "code",
      "source": [],
      "metadata": {
        "id": "7C2qTAhSzhXQ"
      },
      "execution_count": null,
      "outputs": []
    }
  ]
}