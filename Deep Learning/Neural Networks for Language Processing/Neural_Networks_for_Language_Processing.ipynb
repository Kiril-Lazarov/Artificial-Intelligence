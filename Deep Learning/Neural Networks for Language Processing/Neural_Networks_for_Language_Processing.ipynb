{
  "nbformat": 4,
  "nbformat_minor": 0,
  "metadata": {
    "colab": {
      "provenance": [],
      "gpuType": "T4"
    },
    "kernelspec": {
      "name": "python3",
      "display_name": "Python 3"
    },
    "language_info": {
      "name": "python"
    },
    "accelerator": "GPU"
  },
  "cells": [
    {
      "cell_type": "code",
      "source": [
        "import numpy as np\n",
        "import pandas as pd\n",
        "import tensorflow as ts\n",
        "\n",
        "from tensorflow.keras.datasets import imdb"
      ],
      "metadata": {
        "id": "DBYI1f9uxP6_"
      },
      "execution_count": 2,
      "outputs": []
    },
    {
      "cell_type": "markdown",
      "source": [
        "# Neural Networks for Language Processing\n"
      ],
      "metadata": {
        "id": "q6yjXtSlxBlu"
      }
    },
    {
      "cell_type": "markdown",
      "source": [
        "### Live demos"
      ],
      "metadata": {
        "id": "04qF-OS8xJh9"
      }
    },
    {
      "cell_type": "code",
      "source": [
        "(X_train, y_train),(X_test, y_tesg) = imdb.load_data(num_words = 10000)"
      ],
      "metadata": {
        "id": "Y7FApnf8xKzU"
      },
      "execution_count": 4,
      "outputs": []
    },
    {
      "cell_type": "code",
      "source": [],
      "metadata": {
        "id": "oPWRRfN_xqF1"
      },
      "execution_count": null,
      "outputs": []
    }
  ]
}