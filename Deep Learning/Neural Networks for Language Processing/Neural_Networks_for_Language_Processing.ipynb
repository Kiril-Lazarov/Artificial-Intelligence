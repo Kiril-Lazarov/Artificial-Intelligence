{
  "nbformat": 4,
  "nbformat_minor": 0,
  "metadata": {
    "colab": {
      "provenance": [],
      "toc_visible": true
    },
    "kernelspec": {
      "name": "python3",
      "display_name": "Python 3"
    },
    "language_info": {
      "name": "python"
    }
  },
  "cells": [
    {
      "cell_type": "code",
      "source": [
        "import numpy as np\n",
        "import pandas as pd\n",
        "import tensorflow as tf\n",
        "\n",
        "from tensorflow.keras.datasets import imdb\n",
        "\n",
        "from tensorflow.keras.models import Sequential\n",
        "from tensorflow.keras.layers import Input, Dense, Flatten, LSTM, Dropout, GRU, Bidirectional"
      ],
      "metadata": {
        "id": "DBYI1f9uxP6_"
      },
      "execution_count": 37,
      "outputs": []
    },
    {
      "cell_type": "markdown",
      "source": [
        "# Neural Networks for Language Processing\n"
      ],
      "metadata": {
        "id": "q6yjXtSlxBlu"
      }
    },
    {
      "cell_type": "markdown",
      "source": [
        "### Live demos"
      ],
      "metadata": {
        "id": "04qF-OS8xJh9"
      }
    },
    {
      "cell_type": "code",
      "source": [
        "VOCABULARY_SIZE = 10000\n",
        "OOV = -1\n",
        "SEQUENCE_LENGTH = 800"
      ],
      "metadata": {
        "id": "_HisETFsOJtG"
      },
      "execution_count": 2,
      "outputs": []
    },
    {
      "cell_type": "code",
      "source": [
        "(X_train, y_train),(X_test, y_tesg) = imdb.load_data(num_words = VOCABULARY_SIZE, oov_char = OOV)"
      ],
      "metadata": {
        "colab": {
          "base_uri": "https://localhost:8080/"
        },
        "id": "Y7FApnf8xKzU",
        "outputId": "58b95ecc-6c01-497f-9fbf-da3a236890eb"
      },
      "execution_count": 3,
      "outputs": [
        {
          "output_type": "stream",
          "name": "stdout",
          "text": [
            "Downloading data from https://storage.googleapis.com/tensorflow/tf-keras-datasets/imdb.npz\n",
            "17464789/17464789 [==============================] - 0s 0us/step\n"
          ]
        }
      ]
    },
    {
      "cell_type": "code",
      "source": [
        "X_train.shape"
      ],
      "metadata": {
        "colab": {
          "base_uri": "https://localhost:8080/"
        },
        "id": "oPWRRfN_xqF1",
        "outputId": "87f10327-4ddc-4dc9-f108-12162dcf6acf"
      },
      "execution_count": 4,
      "outputs": [
        {
          "output_type": "execute_result",
          "data": {
            "text/plain": [
              "(25000,)"
            ]
          },
          "metadata": {},
          "execution_count": 4
        }
      ]
    },
    {
      "cell_type": "code",
      "source": [
        "# Tokens\n",
        "X_train[0][:10]"
      ],
      "metadata": {
        "colab": {
          "base_uri": "https://localhost:8080/"
        },
        "id": "nTGcM_JLz0MO",
        "outputId": "ccbb6814-05a7-49c8-f316-16e7e72f40e3"
      },
      "execution_count": 5,
      "outputs": [
        {
          "output_type": "execute_result",
          "data": {
            "text/plain": [
              "[1, 14, 22, 16, 43, 530, 973, 1622, 1385, 65]"
            ]
          },
          "metadata": {},
          "execution_count": 5
        }
      ]
    },
    {
      "cell_type": "code",
      "source": [
        "# Add padding\n",
        "tf.keras.utils.pad_sequences(X_train[0:5], maxlen = SEQUENCE_LENGTH, padding= 'post')"
      ],
      "metadata": {
        "colab": {
          "base_uri": "https://localhost:8080/"
        },
        "id": "KmQeGXgM1M9Y",
        "outputId": "af4532aa-c5c5-4257-b687-9e5d9b8c02f9"
      },
      "execution_count": 6,
      "outputs": [
        {
          "output_type": "execute_result",
          "data": {
            "text/plain": [
              "array([[   1,   14,   22, ...,    0,    0,    0],\n",
              "       [   1,  194, 1153, ...,    0,    0,    0],\n",
              "       [   1,   14,   47, ...,    0,    0,    0],\n",
              "       [   1,    4,   -1, ...,    0,    0,    0],\n",
              "       [   1,  249, 1323, ...,    0,    0,    0]], dtype=int32)"
            ]
          },
          "metadata": {},
          "execution_count": 6
        }
      ]
    },
    {
      "cell_type": "code",
      "source": [
        "imdb.get_word_index()['the'], imdb.get_word_index()['in'], imdb.get_word_index()['table']"
      ],
      "metadata": {
        "colab": {
          "base_uri": "https://localhost:8080/"
        },
        "id": "8AMHzzHA1gaM",
        "outputId": "5b592949-c973-4b81-eba8-ce87ce59ff24"
      },
      "execution_count": 7,
      "outputs": [
        {
          "output_type": "stream",
          "name": "stdout",
          "text": [
            "Downloading data from https://storage.googleapis.com/tensorflow/tf-keras-datasets/imdb_word_index.json\n",
            "1641221/1641221 [==============================] - 0s 0us/step\n"
          ]
        },
        {
          "output_type": "execute_result",
          "data": {
            "text/plain": [
              "(1, 8, 2699)"
            ]
          },
          "metadata": {},
          "execution_count": 7
        }
      ]
    },
    {
      "cell_type": "code",
      "source": [
        "indices = imdb.get_word_index()"
      ],
      "metadata": {
        "id": "Khy4bxaV2TiA"
      },
      "execution_count": 8,
      "outputs": []
    },
    {
      "cell_type": "code",
      "source": [
        "words = {v : k for k, v in indices.items()}"
      ],
      "metadata": {
        "id": "SXFqwL0_3QVg"
      },
      "execution_count": 9,
      "outputs": []
    },
    {
      "cell_type": "code",
      "source": [
        "words[14]"
      ],
      "metadata": {
        "colab": {
          "base_uri": "https://localhost:8080/",
          "height": 36
        },
        "id": "nrqtg7zW3a58",
        "outputId": "b3783e28-2f75-4794-8752-9bef285b6ebc"
      },
      "execution_count": 10,
      "outputs": [
        {
          "output_type": "execute_result",
          "data": {
            "text/plain": [
              "'as'"
            ],
            "application/vnd.google.colaboratory.intrinsic+json": {
              "type": "string"
            }
          },
          "metadata": {},
          "execution_count": 10
        }
      ]
    },
    {
      "cell_type": "code",
      "source": [
        "[words[x] for x in X_train[0][:10]]"
      ],
      "metadata": {
        "colab": {
          "base_uri": "https://localhost:8080/"
        },
        "id": "s_YhNc_R3daV",
        "outputId": "4883db5b-2642-4933-b196-5962c04bedc3"
      },
      "execution_count": 11,
      "outputs": [
        {
          "output_type": "execute_result",
          "data": {
            "text/plain": [
              "['the',\n",
              " 'as',\n",
              " 'you',\n",
              " 'with',\n",
              " 'out',\n",
              " 'themselves',\n",
              " 'powerful',\n",
              " 'lets',\n",
              " 'loves',\n",
              " 'their']"
            ]
          },
          "metadata": {},
          "execution_count": 11
        }
      ]
    },
    {
      "cell_type": "code",
      "source": [
        "tf.keras.backend.clear_session()"
      ],
      "metadata": {
        "id": "7E1IiaIH0Uu6"
      },
      "execution_count": 32,
      "outputs": []
    },
    {
      "cell_type": "code",
      "source": [
        "model = Sequential([\n",
        "    Input((SEQUENCE_LENGTH, 32)),\n",
        "    LSTM(5, return_sequences = True),\n",
        "    LSTM(10, return_sequences = True),\n",
        "    LSTM(5),\n",
        "    Flatten(),\n",
        "\n",
        "    Dense(VOCABULARY_SIZE, activation = 'sigmoid')\n",
        "])"
      ],
      "metadata": {
        "id": "URO4NCRS45BZ"
      },
      "execution_count": 35,
      "outputs": []
    },
    {
      "cell_type": "code",
      "source": [
        "model.summary()"
      ],
      "metadata": {
        "colab": {
          "base_uri": "https://localhost:8080/"
        },
        "id": "u91fy-8v0QG5",
        "outputId": "e46985dd-d15f-4fc4-fbd7-cdcb7b99bb9c"
      },
      "execution_count": 36,
      "outputs": [
        {
          "output_type": "stream",
          "name": "stdout",
          "text": [
            "Model: \"sequential_1\"\n",
            "_________________________________________________________________\n",
            " Layer (type)                Output Shape              Param #   \n",
            "=================================================================\n",
            " lstm_2 (LSTM)               (None, 800, 5)            760       \n",
            "                                                                 \n",
            " lstm_3 (LSTM)               (None, 800, 10)           640       \n",
            "                                                                 \n",
            " lstm_4 (LSTM)               (None, 5)                 320       \n",
            "                                                                 \n",
            " flatten_1 (Flatten)         (None, 5)                 0         \n",
            "                                                                 \n",
            " dense_1 (Dense)             (None, 10000)             60000     \n",
            "                                                                 \n",
            "=================================================================\n",
            "Total params: 61720 (241.09 KB)\n",
            "Trainable params: 61720 (241.09 KB)\n",
            "Non-trainable params: 0 (0.00 Byte)\n",
            "_________________________________________________________________\n"
          ]
        }
      ]
    },
    {
      "cell_type": "code",
      "source": [
        "result = model.predict(tf.random.uniform((8, SEQUENCE_LENGTH, 32)))"
      ],
      "metadata": {
        "colab": {
          "base_uri": "https://localhost:8080/"
        },
        "id": "HAMuorP70Stv",
        "outputId": "c1c1d3ba-c6f3-460c-80ff-914de2c7ebae"
      },
      "execution_count": 26,
      "outputs": [
        {
          "output_type": "stream",
          "name": "stdout",
          "text": [
            "1/1 [==============================] - 1s 849ms/step\n"
          ]
        }
      ]
    },
    {
      "cell_type": "code",
      "source": [
        "result[:, -1, :]"
      ],
      "metadata": {
        "colab": {
          "base_uri": "https://localhost:8080/"
        },
        "id": "Acg-ntz01KkP",
        "outputId": "e4b25fa4-fcd4-479a-8be1-3fb671e11ed0"
      },
      "execution_count": 27,
      "outputs": [
        {
          "output_type": "execute_result",
          "data": {
            "text/plain": [
              "array([[-0.14611295,  0.05316133, -0.12258671, -0.251388  ,  0.18120152,\n",
              "        -0.01242162,  0.12644134,  0.08739218,  0.01126338, -0.11866633],\n",
              "       [-0.20747215,  0.07647247, -0.17439966, -0.27277955,  0.13246548,\n",
              "         0.00483407,  0.10315726,  0.09722485, -0.04257786, -0.09272692],\n",
              "       [-0.13763303,  0.04947582, -0.12502146, -0.22137845,  0.17251582,\n",
              "        -0.0043946 ,  0.11614415,  0.09656259, -0.02113449, -0.10541159],\n",
              "       [-0.1866539 ,  0.05802964, -0.1590902 , -0.26024818,  0.15599081,\n",
              "         0.00179216,  0.12791266,  0.09878547, -0.04061526, -0.1081463 ],\n",
              "       [-0.20871742,  0.10185578, -0.17021753, -0.297816  ,  0.15523706,\n",
              "         0.01090729,  0.12743008,  0.11002985, -0.02715253, -0.12974916],\n",
              "       [-0.17752571,  0.08694539, -0.15014464, -0.2786307 ,  0.16349144,\n",
              "        -0.00081053,  0.12258483,  0.08657756, -0.01352062, -0.1125991 ],\n",
              "       [-0.19700857,  0.05817133, -0.18600684, -0.29967293,  0.12924203,\n",
              "        -0.01454302,  0.09667588,  0.11077305, -0.03542736, -0.09607003],\n",
              "       [-0.21010008,  0.08739604, -0.17888498, -0.32518733,  0.16774711,\n",
              "        -0.00527679,  0.13150962,  0.10799582, -0.01223208, -0.12463818]],\n",
              "      dtype=float32)"
            ]
          },
          "metadata": {},
          "execution_count": 27
        }
      ]
    },
    {
      "cell_type": "code",
      "source": [],
      "metadata": {
        "id": "4DG5do3o3VfW"
      },
      "execution_count": null,
      "outputs": []
    }
  ]
}