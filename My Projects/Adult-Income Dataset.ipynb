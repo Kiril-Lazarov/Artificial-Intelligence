{
 "cells": [
  {
   "cell_type": "code",
   "execution_count": 1,
   "id": "d615efe4-31f4-4226-8af6-f9b8172becf7",
   "metadata": {},
   "outputs": [],
   "source": [
    "%matplotlib inline"
   ]
  },
  {
   "cell_type": "code",
   "execution_count": 56,
   "id": "a0708f6d-0388-4457-aec3-d291cd9102a9",
   "metadata": {},
   "outputs": [],
   "source": [
    "import pandas as pd\n",
    "import matplotlib.pyplot as plt\n",
    "import numpy as np\n",
    "\n",
    "import seaborn as sns"
   ]
  },
  {
   "cell_type": "markdown",
   "id": "230f5fc4-41cf-40e3-80c9-b10d56c3ff78",
   "metadata": {},
   "source": [
    "#### Functions used in the study."
   ]
  },
  {
   "cell_type": "code",
   "execution_count": 92,
   "id": "8b06d830-2992-4cef-b756-90e2bfb6a79e",
   "metadata": {},
   "outputs": [],
   "source": [
    "# Dataset overview function\n",
    "def check_df(dataframe, head=5):\n",
    "    print(\"######################### SHAPE #########################\")\n",
    "    print(dataframe.shape)\n",
    "    print(\"######################### DTYPES #########################\")\n",
    "    print(dataframe.dtypes)\n",
    "    print(\"######################### NULL VALUES #########################\")\n",
    "    print(dataframe.isnull().sum())\n",
    "    print(\"######################### INFO #########################\")\n",
    "    print(dataframe.info())\n",
    "    print(\"######################### HEAD #########################\")\n",
    "    print(dataframe.head(head))\n",
    "    print(\"######################### TAIL #########################\")\n",
    "    print(dataframe.tail(head))\n",
    "    print(\"######################### DESCRIBE #########################\")\n",
    "    print(dataframe.describe().T)\n",
    "    \n",
    "# Check for unique values function\n",
    "def check_uniques(dataframe):\n",
    "    for col in dataframe.columns:\n",
    "        print(' '*20)\n",
    "        print(col.upper())\n",
    "        print(dataframe[col].unique())\n",
    "        \n",
    "# Plot histogram function\n",
    "def view_histogram(dataframe, columns = None):    \n",
    "    num_columns = dataframe.select_dtypes(include=['int64','float64']).columns if columns is None else \\\n",
    "    columns\n",
    "    \n",
    "    for col in num_columns:    \n",
    "        mean_value = dataframe[col]. mean()\n",
    "        \n",
    "        plt.figure(figsize=(5,5))\n",
    "        plt.grid(True)\n",
    "        plt.title(dataframe[col].name)\n",
    "        sns.histplot(dataframe[col], kde=True)\n",
    "        plt.axvline(mean_value, color='red', linestyle='dashed', linewidth=2, label='Mean')\n",
    "        plt.legend()\n",
    "        plt.show()\n",
    "        \n",
    "        print('Min:', dataframe[col].min())\n",
    "        print('Max:', dataframe[col].max())\n",
    "        print('Mean:', mean_value)\n",
    "        print('Std:', dataframe[col].std())\n",
    "        print('Skewness:', dataframe[col].skew())\n",
    "        print('Kurtosis', dataframe[col].kurt())"
   ]
  },
  {
   "cell_type": "markdown",
   "id": "1ba05dfc-0969-4183-bb02-0aac4082a93c",
   "metadata": {},
   "source": [
    "# Adult Income Dataset"
   ]
  },
  {
   "cell_type": "markdown",
   "id": "588cd6ae-ab6a-4947-9a67-666ffc3b20d1",
   "metadata": {},
   "source": [
    "## Exploratory and Data Analysis"
   ]
  },
  {
   "cell_type": "code",
   "execution_count": 3,
   "id": "7cbe7dc8-6138-442f-a73e-3a27edd2dde3",
   "metadata": {},
   "outputs": [],
   "source": [
    "adult_income = pd.read_csv('data/adult.csv')"
   ]
  },
  {
   "cell_type": "code",
   "execution_count": 113,
   "id": "06b0844e-728c-4f4c-8213-bdf48dcc57f5",
   "metadata": {},
   "outputs": [
    {
     "data": {
      "text/html": [
       "<div>\n",
       "<style scoped>\n",
       "    .dataframe tbody tr th:only-of-type {\n",
       "        vertical-align: middle;\n",
       "    }\n",
       "\n",
       "    .dataframe tbody tr th {\n",
       "        vertical-align: top;\n",
       "    }\n",
       "\n",
       "    .dataframe thead th {\n",
       "        text-align: right;\n",
       "    }\n",
       "</style>\n",
       "<table border=\"1\" class=\"dataframe\">\n",
       "  <thead>\n",
       "    <tr style=\"text-align: right;\">\n",
       "      <th></th>\n",
       "      <th>age</th>\n",
       "      <th>workclass</th>\n",
       "      <th>fnlwgt</th>\n",
       "      <th>education</th>\n",
       "      <th>educational_num</th>\n",
       "      <th>marital_status</th>\n",
       "      <th>occupation</th>\n",
       "      <th>relationship</th>\n",
       "      <th>race</th>\n",
       "      <th>gender</th>\n",
       "      <th>capital_gain</th>\n",
       "      <th>capital_loss</th>\n",
       "      <th>hours_per_week</th>\n",
       "      <th>native_country</th>\n",
       "      <th>income</th>\n",
       "    </tr>\n",
       "  </thead>\n",
       "  <tbody>\n",
       "    <tr>\n",
       "      <th>0</th>\n",
       "      <td>25</td>\n",
       "      <td>Private</td>\n",
       "      <td>226802</td>\n",
       "      <td>11th</td>\n",
       "      <td>7</td>\n",
       "      <td>Never-married</td>\n",
       "      <td>Machine-op-inspct</td>\n",
       "      <td>Own-child</td>\n",
       "      <td>Black</td>\n",
       "      <td>Male</td>\n",
       "      <td>0</td>\n",
       "      <td>0</td>\n",
       "      <td>40</td>\n",
       "      <td>United-States</td>\n",
       "      <td>&lt;=50K</td>\n",
       "    </tr>\n",
       "    <tr>\n",
       "      <th>1</th>\n",
       "      <td>38</td>\n",
       "      <td>Private</td>\n",
       "      <td>89814</td>\n",
       "      <td>HS-grad</td>\n",
       "      <td>9</td>\n",
       "      <td>Married-civ-spouse</td>\n",
       "      <td>Farming-fishing</td>\n",
       "      <td>Husband</td>\n",
       "      <td>White</td>\n",
       "      <td>Male</td>\n",
       "      <td>0</td>\n",
       "      <td>0</td>\n",
       "      <td>50</td>\n",
       "      <td>United-States</td>\n",
       "      <td>&lt;=50K</td>\n",
       "    </tr>\n",
       "    <tr>\n",
       "      <th>2</th>\n",
       "      <td>28</td>\n",
       "      <td>Local-gov</td>\n",
       "      <td>336951</td>\n",
       "      <td>Assoc-acdm</td>\n",
       "      <td>12</td>\n",
       "      <td>Married-civ-spouse</td>\n",
       "      <td>Protective-serv</td>\n",
       "      <td>Husband</td>\n",
       "      <td>White</td>\n",
       "      <td>Male</td>\n",
       "      <td>0</td>\n",
       "      <td>0</td>\n",
       "      <td>40</td>\n",
       "      <td>United-States</td>\n",
       "      <td>&gt;50K</td>\n",
       "    </tr>\n",
       "    <tr>\n",
       "      <th>3</th>\n",
       "      <td>44</td>\n",
       "      <td>Private</td>\n",
       "      <td>160323</td>\n",
       "      <td>Some-college</td>\n",
       "      <td>10</td>\n",
       "      <td>Married-civ-spouse</td>\n",
       "      <td>Machine-op-inspct</td>\n",
       "      <td>Husband</td>\n",
       "      <td>Black</td>\n",
       "      <td>Male</td>\n",
       "      <td>7688</td>\n",
       "      <td>0</td>\n",
       "      <td>40</td>\n",
       "      <td>United-States</td>\n",
       "      <td>&gt;50K</td>\n",
       "    </tr>\n",
       "    <tr>\n",
       "      <th>4</th>\n",
       "      <td>18</td>\n",
       "      <td>?</td>\n",
       "      <td>103497</td>\n",
       "      <td>Some-college</td>\n",
       "      <td>10</td>\n",
       "      <td>Never-married</td>\n",
       "      <td>?</td>\n",
       "      <td>Own-child</td>\n",
       "      <td>White</td>\n",
       "      <td>Female</td>\n",
       "      <td>0</td>\n",
       "      <td>0</td>\n",
       "      <td>30</td>\n",
       "      <td>United-States</td>\n",
       "      <td>&lt;=50K</td>\n",
       "    </tr>\n",
       "    <tr>\n",
       "      <th>...</th>\n",
       "      <td>...</td>\n",
       "      <td>...</td>\n",
       "      <td>...</td>\n",
       "      <td>...</td>\n",
       "      <td>...</td>\n",
       "      <td>...</td>\n",
       "      <td>...</td>\n",
       "      <td>...</td>\n",
       "      <td>...</td>\n",
       "      <td>...</td>\n",
       "      <td>...</td>\n",
       "      <td>...</td>\n",
       "      <td>...</td>\n",
       "      <td>...</td>\n",
       "      <td>...</td>\n",
       "    </tr>\n",
       "    <tr>\n",
       "      <th>48837</th>\n",
       "      <td>27</td>\n",
       "      <td>Private</td>\n",
       "      <td>257302</td>\n",
       "      <td>Assoc-acdm</td>\n",
       "      <td>12</td>\n",
       "      <td>Married-civ-spouse</td>\n",
       "      <td>Tech-support</td>\n",
       "      <td>Wife</td>\n",
       "      <td>White</td>\n",
       "      <td>Female</td>\n",
       "      <td>0</td>\n",
       "      <td>0</td>\n",
       "      <td>38</td>\n",
       "      <td>United-States</td>\n",
       "      <td>&lt;=50K</td>\n",
       "    </tr>\n",
       "    <tr>\n",
       "      <th>48838</th>\n",
       "      <td>40</td>\n",
       "      <td>Private</td>\n",
       "      <td>154374</td>\n",
       "      <td>HS-grad</td>\n",
       "      <td>9</td>\n",
       "      <td>Married-civ-spouse</td>\n",
       "      <td>Machine-op-inspct</td>\n",
       "      <td>Husband</td>\n",
       "      <td>White</td>\n",
       "      <td>Male</td>\n",
       "      <td>0</td>\n",
       "      <td>0</td>\n",
       "      <td>40</td>\n",
       "      <td>United-States</td>\n",
       "      <td>&gt;50K</td>\n",
       "    </tr>\n",
       "    <tr>\n",
       "      <th>48839</th>\n",
       "      <td>58</td>\n",
       "      <td>Private</td>\n",
       "      <td>151910</td>\n",
       "      <td>HS-grad</td>\n",
       "      <td>9</td>\n",
       "      <td>Widowed</td>\n",
       "      <td>Adm-clerical</td>\n",
       "      <td>Unmarried</td>\n",
       "      <td>White</td>\n",
       "      <td>Female</td>\n",
       "      <td>0</td>\n",
       "      <td>0</td>\n",
       "      <td>40</td>\n",
       "      <td>United-States</td>\n",
       "      <td>&lt;=50K</td>\n",
       "    </tr>\n",
       "    <tr>\n",
       "      <th>48840</th>\n",
       "      <td>22</td>\n",
       "      <td>Private</td>\n",
       "      <td>201490</td>\n",
       "      <td>HS-grad</td>\n",
       "      <td>9</td>\n",
       "      <td>Never-married</td>\n",
       "      <td>Adm-clerical</td>\n",
       "      <td>Own-child</td>\n",
       "      <td>White</td>\n",
       "      <td>Male</td>\n",
       "      <td>0</td>\n",
       "      <td>0</td>\n",
       "      <td>20</td>\n",
       "      <td>United-States</td>\n",
       "      <td>&lt;=50K</td>\n",
       "    </tr>\n",
       "    <tr>\n",
       "      <th>48841</th>\n",
       "      <td>52</td>\n",
       "      <td>Self-emp-inc</td>\n",
       "      <td>287927</td>\n",
       "      <td>HS-grad</td>\n",
       "      <td>9</td>\n",
       "      <td>Married-civ-spouse</td>\n",
       "      <td>Exec-managerial</td>\n",
       "      <td>Wife</td>\n",
       "      <td>White</td>\n",
       "      <td>Female</td>\n",
       "      <td>15024</td>\n",
       "      <td>0</td>\n",
       "      <td>40</td>\n",
       "      <td>United-States</td>\n",
       "      <td>&gt;50K</td>\n",
       "    </tr>\n",
       "  </tbody>\n",
       "</table>\n",
       "<p>48842 rows × 15 columns</p>\n",
       "</div>"
      ],
      "text/plain": [
       "       age     workclass  fnlwgt     education  educational_num  \\\n",
       "0       25       Private  226802          11th                7   \n",
       "1       38       Private   89814       HS-grad                9   \n",
       "2       28     Local-gov  336951    Assoc-acdm               12   \n",
       "3       44       Private  160323  Some-college               10   \n",
       "4       18             ?  103497  Some-college               10   \n",
       "...    ...           ...     ...           ...              ...   \n",
       "48837   27       Private  257302    Assoc-acdm               12   \n",
       "48838   40       Private  154374       HS-grad                9   \n",
       "48839   58       Private  151910       HS-grad                9   \n",
       "48840   22       Private  201490       HS-grad                9   \n",
       "48841   52  Self-emp-inc  287927       HS-grad                9   \n",
       "\n",
       "           marital_status         occupation relationship   race  gender  \\\n",
       "0           Never-married  Machine-op-inspct    Own-child  Black    Male   \n",
       "1      Married-civ-spouse    Farming-fishing      Husband  White    Male   \n",
       "2      Married-civ-spouse    Protective-serv      Husband  White    Male   \n",
       "3      Married-civ-spouse  Machine-op-inspct      Husband  Black    Male   \n",
       "4           Never-married                  ?    Own-child  White  Female   \n",
       "...                   ...                ...          ...    ...     ...   \n",
       "48837  Married-civ-spouse       Tech-support         Wife  White  Female   \n",
       "48838  Married-civ-spouse  Machine-op-inspct      Husband  White    Male   \n",
       "48839             Widowed       Adm-clerical    Unmarried  White  Female   \n",
       "48840       Never-married       Adm-clerical    Own-child  White    Male   \n",
       "48841  Married-civ-spouse    Exec-managerial         Wife  White  Female   \n",
       "\n",
       "       capital_gain  capital_loss  hours_per_week native_country income  \n",
       "0                 0             0              40  United-States  <=50K  \n",
       "1                 0             0              50  United-States  <=50K  \n",
       "2                 0             0              40  United-States   >50K  \n",
       "3              7688             0              40  United-States   >50K  \n",
       "4                 0             0              30  United-States  <=50K  \n",
       "...             ...           ...             ...            ...    ...  \n",
       "48837             0             0              38  United-States  <=50K  \n",
       "48838             0             0              40  United-States   >50K  \n",
       "48839             0             0              40  United-States  <=50K  \n",
       "48840             0             0              20  United-States  <=50K  \n",
       "48841         15024             0              40  United-States   >50K  \n",
       "\n",
       "[48842 rows x 15 columns]"
      ]
     },
     "execution_count": 113,
     "metadata": {},
     "output_type": "execute_result"
    }
   ],
   "source": [
    "adult_income"
   ]
  },
  {
   "cell_type": "code",
   "execution_count": 89,
   "id": "a2b4f279-b678-42f1-bd5b-46c4842d4cc3",
   "metadata": {
    "tags": []
   },
   "outputs": [
    {
     "name": "stdout",
     "output_type": "stream",
     "text": [
      "Adult Income dataset overview\n",
      "\n",
      "######################### SHAPE #########################\n",
      "(48842, 15)\n",
      "######################### DTYPES #########################\n",
      "age                 int64\n",
      "workclass          object\n",
      "fnlwgt              int64\n",
      "education          object\n",
      "educational_num     int64\n",
      "marital_status     object\n",
      "occupation         object\n",
      "relationship       object\n",
      "race               object\n",
      "gender             object\n",
      "capital_gain        int64\n",
      "capital_loss        int64\n",
      "hours_per_week      int64\n",
      "native_country     object\n",
      "income             object\n",
      "dtype: object\n",
      "######################### NULL VALUES #########################\n",
      "age                0\n",
      "workclass          0\n",
      "fnlwgt             0\n",
      "education          0\n",
      "educational_num    0\n",
      "marital_status     0\n",
      "occupation         0\n",
      "relationship       0\n",
      "race               0\n",
      "gender             0\n",
      "capital_gain       0\n",
      "capital_loss       0\n",
      "hours_per_week     0\n",
      "native_country     0\n",
      "income             0\n",
      "dtype: int64\n",
      "######################### INFO #########################\n",
      "<class 'pandas.core.frame.DataFrame'>\n",
      "RangeIndex: 48842 entries, 0 to 48841\n",
      "Data columns (total 15 columns):\n",
      " #   Column           Non-Null Count  Dtype \n",
      "---  ------           --------------  ----- \n",
      " 0   age              48842 non-null  int64 \n",
      " 1   workclass        48842 non-null  object\n",
      " 2   fnlwgt           48842 non-null  int64 \n",
      " 3   education        48842 non-null  object\n",
      " 4   educational_num  48842 non-null  int64 \n",
      " 5   marital_status   48842 non-null  object\n",
      " 6   occupation       48842 non-null  object\n",
      " 7   relationship     48842 non-null  object\n",
      " 8   race             48842 non-null  object\n",
      " 9   gender           48842 non-null  object\n",
      " 10  capital_gain     48842 non-null  int64 \n",
      " 11  capital_loss     48842 non-null  int64 \n",
      " 12  hours_per_week   48842 non-null  int64 \n",
      " 13  native_country   48842 non-null  object\n",
      " 14  income           48842 non-null  object\n",
      "dtypes: int64(6), object(9)\n",
      "memory usage: 5.6+ MB\n",
      "None\n",
      "######################### HEAD #########################\n",
      "   age  workclass  fnlwgt     education  educational_num      marital_status  \\\n",
      "0   25    Private  226802          11th                7       Never-married   \n",
      "1   38    Private   89814       HS-grad                9  Married-civ-spouse   \n",
      "2   28  Local-gov  336951    Assoc-acdm               12  Married-civ-spouse   \n",
      "3   44    Private  160323  Some-college               10  Married-civ-spouse   \n",
      "4   18          ?  103497  Some-college               10       Never-married   \n",
      "\n",
      "          occupation relationship   race  gender  capital_gain  capital_loss  \\\n",
      "0  Machine-op-inspct    Own-child  Black    Male             0             0   \n",
      "1    Farming-fishing      Husband  White    Male             0             0   \n",
      "2    Protective-serv      Husband  White    Male             0             0   \n",
      "3  Machine-op-inspct      Husband  Black    Male          7688             0   \n",
      "4                  ?    Own-child  White  Female             0             0   \n",
      "\n",
      "   hours_per_week native_country income  \n",
      "0              40  United-States  <=50K  \n",
      "1              50  United-States  <=50K  \n",
      "2              40  United-States   >50K  \n",
      "3              40  United-States   >50K  \n",
      "4              30  United-States  <=50K  \n",
      "######################### TAIL #########################\n",
      "       age     workclass  fnlwgt   education  educational_num  \\\n",
      "48837   27       Private  257302  Assoc-acdm               12   \n",
      "48838   40       Private  154374     HS-grad                9   \n",
      "48839   58       Private  151910     HS-grad                9   \n",
      "48840   22       Private  201490     HS-grad                9   \n",
      "48841   52  Self-emp-inc  287927     HS-grad                9   \n",
      "\n",
      "           marital_status         occupation relationship   race  gender  \\\n",
      "48837  Married-civ-spouse       Tech-support         Wife  White  Female   \n",
      "48838  Married-civ-spouse  Machine-op-inspct      Husband  White    Male   \n",
      "48839             Widowed       Adm-clerical    Unmarried  White  Female   \n",
      "48840       Never-married       Adm-clerical    Own-child  White    Male   \n",
      "48841  Married-civ-spouse    Exec-managerial         Wife  White  Female   \n",
      "\n",
      "       capital_gain  capital_loss  hours_per_week native_country income  \n",
      "48837             0             0              38  United-States  <=50K  \n",
      "48838             0             0              40  United-States   >50K  \n",
      "48839             0             0              40  United-States  <=50K  \n",
      "48840             0             0              20  United-States  <=50K  \n",
      "48841         15024             0              40  United-States   >50K  \n",
      "######################### DESCRIBE #########################\n",
      "                   count           mean            std      min       25%  \\\n",
      "age              48842.0      38.643585      13.710510     17.0      28.0   \n",
      "fnlwgt           48842.0  189664.134597  105604.025423  12285.0  117550.5   \n",
      "educational_num  48842.0      10.078089       2.570973      1.0       9.0   \n",
      "capital_gain     48842.0    1079.067626    7452.019058      0.0       0.0   \n",
      "capital_loss     48842.0      87.502314     403.004552      0.0       0.0   \n",
      "hours_per_week   48842.0      40.422382      12.391444      1.0      40.0   \n",
      "\n",
      "                      50%       75%        max  \n",
      "age                  37.0      48.0       90.0  \n",
      "fnlwgt           178144.5  237642.0  1490400.0  \n",
      "educational_num      10.0      12.0       16.0  \n",
      "capital_gain          0.0       0.0    99999.0  \n",
      "capital_loss          0.0       0.0     4356.0  \n",
      "hours_per_week       40.0      45.0       99.0  \n"
     ]
    }
   ],
   "source": [
    "print('Adult Income dataset overview\\n')\n",
    "check_df(adult_income)"
   ]
  },
  {
   "cell_type": "code",
   "execution_count": 90,
   "id": "f24ae37e-806b-414d-8921-36cd434d9ca3",
   "metadata": {},
   "outputs": [],
   "source": [
    "# Rename the columns contains '-'\n",
    "adult_income.columns = [col.replace('-', '_') for col in adult_income.columns]"
   ]
  },
  {
   "cell_type": "code",
   "execution_count": 91,
   "id": "3f4fd80c-ff3c-419a-ad74-405ad77d4e12",
   "metadata": {
    "tags": []
   },
   "outputs": [
    {
     "name": "stdout",
     "output_type": "stream",
     "text": [
      "Check for unique values\n",
      "                    \n",
      "AGE\n",
      "[25 38 28 44 18 34 29 63 24 55 65 36 26 58 48 43 20 37 40 72 45 22 23 54\n",
      " 32 46 56 17 39 52 21 42 33 30 47 41 19 69 50 31 59 49 51 27 57 61 64 79\n",
      " 73 53 77 80 62 35 68 66 75 60 67 71 70 90 81 74 78 82 83 85 76 84 89 88\n",
      " 87 86]\n",
      "                    \n",
      "WORKCLASS\n",
      "['Private' 'Local-gov' '?' 'Self-emp-not-inc' 'Federal-gov' 'State-gov'\n",
      " 'Self-emp-inc' 'Without-pay' 'Never-worked']\n",
      "                    \n",
      "FNLWGT\n",
      "[226802  89814 336951 ... 129912 255835 257302]\n",
      "                    \n",
      "EDUCATION\n",
      "['11th' 'HS-grad' 'Assoc-acdm' 'Some-college' '10th' 'Prof-school'\n",
      " '7th-8th' 'Bachelors' 'Masters' 'Doctorate' '5th-6th' 'Assoc-voc' '9th'\n",
      " '12th' '1st-4th' 'Preschool']\n",
      "                    \n",
      "EDUCATIONAL_NUM\n",
      "[ 7  9 12 10  6 15  4 13 14 16  3 11  5  8  2  1]\n",
      "                    \n",
      "MARITAL_STATUS\n",
      "['Never-married' 'Married-civ-spouse' 'Widowed' 'Divorced' 'Separated'\n",
      " 'Married-spouse-absent' 'Married-AF-spouse']\n",
      "                    \n",
      "OCCUPATION\n",
      "['Machine-op-inspct' 'Farming-fishing' 'Protective-serv' '?'\n",
      " 'Other-service' 'Prof-specialty' 'Craft-repair' 'Adm-clerical'\n",
      " 'Exec-managerial' 'Tech-support' 'Sales' 'Priv-house-serv'\n",
      " 'Transport-moving' 'Handlers-cleaners' 'Armed-Forces']\n",
      "                    \n",
      "RELATIONSHIP\n",
      "['Own-child' 'Husband' 'Not-in-family' 'Unmarried' 'Wife' 'Other-relative']\n",
      "                    \n",
      "RACE\n",
      "['Black' 'White' 'Asian-Pac-Islander' 'Other' 'Amer-Indian-Eskimo']\n",
      "                    \n",
      "GENDER\n",
      "['Male' 'Female']\n",
      "                    \n",
      "CAPITAL_GAIN\n",
      "[    0  7688  3103  6418  7298  3908 14084  5178 15024 99999  2597  2907\n",
      "  4650  6497  1055  5013 27828  4934  4064  3674  2174 10605  3418   114\n",
      "  2580  3411  4508  4386  8614 13550  6849  2463  3137  2885  2964  1471\n",
      " 10566  2354  1424  1455  3325  4416 25236   594  2105  4787  2829   401\n",
      "  4865  1264  1506 10520  3464  2653 20051  4101  1797  2407  3471  1086\n",
      "  1848 14344  1151  2993  2290 15020  9386  2202  3818  2176  5455 11678\n",
      "  7978  7262  6514 41310  3456  7430  2414  2062 34095  1831  6723  5060\n",
      " 15831  2977  2346  3273  2329  9562  2635  4931  1731  6097   914  7896\n",
      "  5556  1409  3781  3942  2538  3887 25124  7443  5721  1173  4687  6612\n",
      "  6767  2961   991  2036  2936  2050  1111  2228 22040  3432  6360  2009\n",
      "  1639 18481  2387]\n",
      "                    \n",
      "CAPITAL_LOSS\n",
      "[   0 1721 1876 2415 1887  625 1977 2057 1429 1590 1485 2051 2377 1672\n",
      " 1628 1902 1602 1741 2444 1408 2001 2042 1740 1825 1848 1719 3004 2179\n",
      " 1573 2205 1258 2339 1726 2258 1340 1504 2559 1668 1974 1980 1564 2547\n",
      " 2002 1669 1617  323 3175 2472 2174 1579 2129 1510 1735 2282 1870 1411\n",
      " 1911 1651 1092 1762 2457 2231 2238  653 1138 2246 2603 2392 1944 1380\n",
      " 2465 1421 3770 1594  213 2149 2824 1844 2467 2163 1816 1648 2206 2352\n",
      "  419 1539  880  810  974 4356 2489 1755 3683 2267 2080  155 3900 2201\n",
      " 2754]\n",
      "                    \n",
      "HOURS_PER_WEEK\n",
      "[40 50 30 32 10 39 35 48 25 20 45 47  6 43 90 54 60 38 36 18 24 44 56 28\n",
      " 16 41 22 55 14 33 37  8 12 70 15 75 52 84 42 80 68 99 65  5 17 72 53 29\n",
      " 96 21 46  3  1 23 49 67 76  7  2 58 26 34  4 51 78 63 31 92 77 27 85 13\n",
      " 19 98 62 66 57 11 86 59  9 64 73 61 88 79 89 74 69 87 97 94 82 91 81 95]\n",
      "                    \n",
      "NATIVE_COUNTRY\n",
      "['United-States' '?' 'Peru' 'Guatemala' 'Mexico' 'Dominican-Republic'\n",
      " 'Ireland' 'Germany' 'Philippines' 'Thailand' 'Haiti' 'El-Salvador'\n",
      " 'Puerto-Rico' 'Vietnam' 'South' 'Columbia' 'Japan' 'India' 'Cambodia'\n",
      " 'Poland' 'Laos' 'England' 'Cuba' 'Taiwan' 'Italy' 'Canada' 'Portugal'\n",
      " 'China' 'Nicaragua' 'Honduras' 'Iran' 'Scotland' 'Jamaica' 'Ecuador'\n",
      " 'Yugoslavia' 'Hungary' 'Hong' 'Greece' 'Trinadad&Tobago'\n",
      " 'Outlying-US(Guam-USVI-etc)' 'France' 'Holand-Netherlands']\n",
      "                    \n",
      "INCOME\n",
      "['<=50K' '>50K']\n"
     ]
    }
   ],
   "source": [
    "print('Check for unique values')\n",
    "check_uniques(adult_income)"
   ]
  },
  {
   "cell_type": "markdown",
   "id": "6494734a-da68-4f9d-8a9d-92fb6701a9a9",
   "metadata": {},
   "source": [
    "### Cleaning dataset"
   ]
  },
  {
   "cell_type": "markdown",
   "id": "30c4fa36-f887-4ef7-8591-7e538aabcf6c",
   "metadata": {},
   "source": [
    "In three features - workclass, occupation, and native_country - there are values '?'."
   ]
  },
  {
   "cell_type": "code",
   "execution_count": 62,
   "id": "380d5a73-953d-43f6-a6bf-dff7956cbc20",
   "metadata": {},
   "outputs": [],
   "source": [
    "rows_with_questionmark = adult_income[adult_income.apply(lambda row: '?' in row.values, axis=1)]"
   ]
  },
  {
   "cell_type": "code",
   "execution_count": 81,
   "id": "b70f6e75-bdd5-4ab9-9316-492a01789a58",
   "metadata": {},
   "outputs": [
    {
     "data": {
      "text/plain": [
       "7.4117"
      ]
     },
     "execution_count": 81,
     "metadata": {},
     "output_type": "execute_result"
    }
   ],
   "source": [
    "round(len(rows_with_questionmark)/len(adult_income)*100, 4)"
   ]
  },
  {
   "cell_type": "markdown",
   "id": "013d70b3-4316-45fd-b477-bb2abe7a44b2",
   "metadata": {},
   "source": [
    "There are 7.4117 percent with '?' symbols as values. The dataset is large enough, so we can remove these rows."
   ]
  },
  {
   "cell_type": "code",
   "execution_count": 69,
   "id": "1d152a6f-afb9-461c-af2b-134499803e79",
   "metadata": {},
   "outputs": [],
   "source": [
    "# Replace '?' with 'NaN'\n",
    "clean_adult_income = adult_income.replace('?',pd.NA,)"
   ]
  },
  {
   "cell_type": "code",
   "execution_count": 75,
   "id": "78b968cb-c189-48ac-af71-311bc20e34fd",
   "metadata": {},
   "outputs": [
    {
     "data": {
      "text/plain": [
       "age                   0\n",
       "workclass          2799\n",
       "fnlwgt                0\n",
       "education             0\n",
       "educational_num       0\n",
       "marital_status        0\n",
       "occupation         2809\n",
       "relationship          0\n",
       "race                  0\n",
       "gender                0\n",
       "capital_gain          0\n",
       "capital_loss          0\n",
       "hours_per_week        0\n",
       "native_country      857\n",
       "income                0\n",
       "dtype: int64"
      ]
     },
     "execution_count": 75,
     "metadata": {},
     "output_type": "execute_result"
    }
   ],
   "source": [
    "clean_adult_income.isna().sum()"
   ]
  },
  {
   "cell_type": "code",
   "execution_count": 82,
   "id": "79843c87-d62c-43a0-a844-fc0942247968",
   "metadata": {},
   "outputs": [],
   "source": [
    "# Remove 'NaN' values from dataset\n",
    "clean_adult_income.dropna(inplace = True)"
   ]
  },
  {
   "cell_type": "code",
   "execution_count": 83,
   "id": "2da11e54-8ab3-47d4-b436-0ea3f77af365",
   "metadata": {},
   "outputs": [
    {
     "data": {
      "text/plain": [
       "age                0\n",
       "workclass          0\n",
       "fnlwgt             0\n",
       "education          0\n",
       "educational_num    0\n",
       "marital_status     0\n",
       "occupation         0\n",
       "relationship       0\n",
       "race               0\n",
       "gender             0\n",
       "capital_gain       0\n",
       "capital_loss       0\n",
       "hours_per_week     0\n",
       "native_country     0\n",
       "income             0\n",
       "dtype: int64"
      ]
     },
     "execution_count": 83,
     "metadata": {},
     "output_type": "execute_result"
    }
   ],
   "source": [
    "clean_adult_income.isna().sum()"
   ]
  },
  {
   "cell_type": "code",
   "execution_count": 78,
   "id": "c91ac0a4-a60c-483c-83e4-e6b3d4f40cd1",
   "metadata": {},
   "outputs": [
    {
     "data": {
      "text/plain": [
       "(45222, 15)"
      ]
     },
     "execution_count": 78,
     "metadata": {},
     "output_type": "execute_result"
    }
   ],
   "source": [
    "clean_adult_income.shape"
   ]
  },
  {
   "cell_type": "markdown",
   "id": "fb3d55c8-1ed9-49ae-8b10-8dca0aa0cf57",
   "metadata": {},
   "source": [
    "###  Extracting interesting information from the dataset."
   ]
  },
  {
   "cell_type": "markdown",
   "id": "c7d85675-9ec8-404d-aa26-8031ce50ae8f",
   "metadata": {},
   "source": [
    "#### Age"
   ]
  },
  {
   "cell_type": "code",
   "execution_count": 95,
   "id": "d8aea6d7-ac38-4d57-9bf8-4da9aaa70b06",
   "metadata": {},
   "outputs": [
    {
     "data": {
      "image/png": "[encoded data removed]",
      "text/plain": [
       "<Figure size 500x500 with 1 Axes>"
      ]
     },
     "metadata": {},
     "output_type": "display_data"
    },
    {
     "name": "stdout",
     "output_type": "stream",
     "text": [
      "Min: 17\n",
      "Max: 90\n",
      "Mean: 38.547941267524656\n",
      "Std: 13.217870219055524\n",
      "Skewness: 0.5328158942555791\n",
      "Kurtosis -0.15587445202596317\n"
     ]
    }
   ],
   "source": [
    "# View age histogram of the cleaned dataset\n",
    "view_histogram(clean_adult_imcome, columns=['age'])"
   ]
  },
  {
   "cell_type": "code",
   "execution_count": 97,
   "id": "2bb6885c-92d3-4b1f-8b98-ed75695fb6a5",
   "metadata": {},
   "outputs": [
    {
     "data": {
      "image/png": "[encoded data removed]",
      "text/plain": [
       "<Figure size 500x500 with 1 Axes>"
      ]
     },
     "metadata": {},
     "output_type": "display_data"
    },
    {
     "name": "stdout",
     "output_type": "stream",
     "text": [
      "Min: 17\n",
      "Max: 90\n",
      "Mean: 38.64358543876172\n",
      "Std: 13.71050993444322\n",
      "Skewness: 0.5575803166133181\n",
      "Kurtosis -0.18426874062387766\n"
     ]
    }
   ],
   "source": [
    "# View age histogram of the original dataset\n",
    "view_histogram(adult_income, columns=['age'])"
   ]
  },
  {
   "cell_type": "markdown",
   "id": "d67e919a-7f7a-4aef-ba1b-276533173f91",
   "metadata": {},
   "source": [
    "The comparison between the original and cleaned dataset shows insignificant statistical differences."
   ]
  },
  {
   "cell_type": "code",
   "execution_count": 104,
   "id": "a2001ee6-1564-462f-ae2e-5c9a793fe228",
   "metadata": {},
   "outputs": [
    {
     "name": "stdout",
     "output_type": "stream",
     "text": [
      "Number of people:\n",
      "Below mean age -> 24238\n",
      "Above mean age -> 20984\n",
      "Ratio -> 1.1550705299275639\n"
     ]
    }
   ],
   "source": [
    "# Splitting the data by the mean value.\n",
    "mean_age = clean_adult_imcome['age'].mean()\n",
    "below_mean_age = clean_adult_imcome[clean_adult_imcome['age'] < mean_age]\n",
    "above_mean_age = clean_adult_imcome[clean_adult_imcome['age'] > mean_age]\n",
    "\n",
    "print('Number of people:')\n",
    "print('Below mean age ->', len(below_mean_age))\n",
    "print('Above mean age ->', len(above_mean_age))\n",
    "print('Ratio ->', len(below_mean_age)/len(above_mean_age))"
   ]
  },
  {
   "cell_type": "markdown",
   "id": "e3408aff-60a1-49b6-9d6b-eca237554b24",
   "metadata": {},
   "source": [
    "More (around 15.5%) of the working individuals are below the average age.\n",
    "\n",
    "The distribution has a slight positive skewness, despite the fact that most of the workers are below the average age. This is due to the presence of a certain portion of workers who are in the age range of 60 to 90 years."
   ]
  },
  {
   "cell_type": "code",
   "execution_count": 112,
   "id": "26b46460-ec92-404d-809d-44fd2e9532d3",
   "metadata": {},
   "outputs": [
    {
     "name": "stderr",
     "output_type": "stream",
     "text": [
      "No artists with labels found to put in legend.  Note that artists whose label start with an underscore are ignored when legend() is called with no argument.\n"
     ]
    },
    {
     "data": {
      "image/png": "[encoded data removed]",
      "text/plain": [
       "<Figure size 500x500 with 1 Axes>"
      ]
     },
     "metadata": {},
     "output_type": "display_data"
    }
   ],
   "source": [
    "bins = [17, 20, 30, 40, 50, 60, 70, 80, 90]\n",
    "labels = ['17-20', '21-30', '31-40', '41-50', '51-60', '61-70', '71-80', '81-90',]\n",
    "\n",
    "sns.set(style=\"whitegrid\")\n",
    "plt.figure(figsize=(5, 5))\n",
    "sns.histplot(data=adult_income, x=pd.cut(adult_income['age'], bins=bins, labels=labels, right=False), hue=pd.cut(adult_income['age'], bins=bins, labels=labels, right=False), multiple=\"stack\", palette=\"pastel\")\n",
    "\n",
    "plt.legend(title='Age Group')\n",
    "plt.title('Distribution of People Across Age Groups')\n",
    "plt.xlabel('Age')\n",
    "plt.ylabel('Count')\n",
    "\n",
    "plt.show()"
   ]
  },
  {
   "cell_type": "code",
   "execution_count": null,
   "id": "01d8040d-4387-4495-a72a-0c7a2bfdce30",
   "metadata": {},
   "outputs": [],
   "source": []
  }
 ],
 "metadata": {
  "kernelspec": {
   "display_name": "Python 3 (ipykernel)",
   "language": "python",
   "name": "python3"
  },
  "language_info": {
   "codemirror_mode": {
    "name": "ipython",
    "version": 3
   },
   "file_extension": ".py",
   "mimetype": "text/x-python",
   "name": "python",
   "nbconvert_exporter": "python",
   "pygments_lexer": "ipython3",
   "version": "3.9.13"
  }
 },
 "nbformat": 4,
 "nbformat_minor": 5
}
