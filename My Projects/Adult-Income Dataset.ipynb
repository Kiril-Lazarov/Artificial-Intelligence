{
 "cells": [
  {
   "cell_type": "code",
   "execution_count": 1,
   "id": "d615efe4-31f4-4226-8af6-f9b8172becf7",
   "metadata": {},
   "outputs": [],
   "source": [
    "%matplotlib inline"
   ]
  },
  {
   "cell_type": "code",
   "execution_count": 56,
   "id": "a0708f6d-0388-4457-aec3-d291cd9102a9",
   "metadata": {},
   "outputs": [],
   "source": [
    "import pandas as pd\n",
    "import matplotlib.pyplot as plt\n",
    "import numpy as np\n",
    "\n",
    "import seaborn as sns"
   ]
  },
  {
   "cell_type": "markdown",
   "id": "1ba05dfc-0969-4183-bb02-0aac4082a93c",
   "metadata": {},
   "source": [
    "# Adult Income Dataset"
   ]
  },
  {
   "cell_type": "markdown",
   "id": "588cd6ae-ab6a-4947-9a67-666ffc3b20d1",
   "metadata": {},
   "source": [
    "## Exploratory and Data Analysis"
   ]
  },
  {
   "cell_type": "code",
   "execution_count": 3,
   "id": "7cbe7dc8-6138-442f-a73e-3a27edd2dde3",
   "metadata": {},
   "outputs": [],
   "source": [
    "adult_income = pd.read_csv('data/adult.csv')"
   ]
  },
  {
   "cell_type": "code",
   "execution_count": 5,
   "id": "a2b4f279-b678-42f1-bd5b-46c4842d4cc3",
   "metadata": {
    "tags": []
   },
   "outputs": [
    {
     "name": "stdout",
     "output_type": "stream",
     "text": [
      "######################### SHAPE #########################\n",
      "(48842, 15)\n",
      "######################### DTYPES #########################\n",
      "age                 int64\n",
      "workclass          object\n",
      "fnlwgt              int64\n",
      "education          object\n",
      "educational-num     int64\n",
      "marital-status     object\n",
      "occupation         object\n",
      "relationship       object\n",
      "race               object\n",
      "gender             object\n",
      "capital-gain        int64\n",
      "capital-loss        int64\n",
      "hours-per-week      int64\n",
      "native-country     object\n",
      "income             object\n",
      "dtype: object\n",
      "######################### NULL VALUES #########################\n",
      "age                0\n",
      "workclass          0\n",
      "fnlwgt             0\n",
      "education          0\n",
      "educational-num    0\n",
      "marital-status     0\n",
      "occupation         0\n",
      "relationship       0\n",
      "race               0\n",
      "gender             0\n",
      "capital-gain       0\n",
      "capital-loss       0\n",
      "hours-per-week     0\n",
      "native-country     0\n",
      "income             0\n",
      "dtype: int64\n",
      "######################### INFO #########################\n",
      "<class 'pandas.core.frame.DataFrame'>\n",
      "RangeIndex: 48842 entries, 0 to 48841\n",
      "Data columns (total 15 columns):\n",
      " #   Column           Non-Null Count  Dtype \n",
      "---  ------           --------------  ----- \n",
      " 0   age              48842 non-null  int64 \n",
      " 1   workclass        48842 non-null  object\n",
      " 2   fnlwgt           48842 non-null  int64 \n",
      " 3   education        48842 non-null  object\n",
      " 4   educational-num  48842 non-null  int64 \n",
      " 5   marital-status   48842 non-null  object\n",
      " 6   occupation       48842 non-null  object\n",
      " 7   relationship     48842 non-null  object\n",
      " 8   race             48842 non-null  object\n",
      " 9   gender           48842 non-null  object\n",
      " 10  capital-gain     48842 non-null  int64 \n",
      " 11  capital-loss     48842 non-null  int64 \n",
      " 12  hours-per-week   48842 non-null  int64 \n",
      " 13  native-country   48842 non-null  object\n",
      " 14  income           48842 non-null  object\n",
      "dtypes: int64(6), object(9)\n",
      "memory usage: 5.6+ MB\n",
      "None\n",
      "######################### HEAD #########################\n",
      "   age  workclass  fnlwgt     education  educational-num      marital-status  \\\n",
      "0   25    Private  226802          11th                7       Never-married   \n",
      "1   38    Private   89814       HS-grad                9  Married-civ-spouse   \n",
      "2   28  Local-gov  336951    Assoc-acdm               12  Married-civ-spouse   \n",
      "3   44    Private  160323  Some-college               10  Married-civ-spouse   \n",
      "4   18          ?  103497  Some-college               10       Never-married   \n",
      "\n",
      "          occupation relationship   race  gender  capital-gain  capital-loss  \\\n",
      "0  Machine-op-inspct    Own-child  Black    Male             0             0   \n",
      "1    Farming-fishing      Husband  White    Male             0             0   \n",
      "2    Protective-serv      Husband  White    Male             0             0   \n",
      "3  Machine-op-inspct      Husband  Black    Male          7688             0   \n",
      "4                  ?    Own-child  White  Female             0             0   \n",
      "\n",
      "   hours-per-week native-country income  \n",
      "0              40  United-States  <=50K  \n",
      "1              50  United-States  <=50K  \n",
      "2              40  United-States   >50K  \n",
      "3              40  United-States   >50K  \n",
      "4              30  United-States  <=50K  \n",
      "######################### TAIL #########################\n",
      "       age     workclass  fnlwgt   education  educational-num  \\\n",
      "48837   27       Private  257302  Assoc-acdm               12   \n",
      "48838   40       Private  154374     HS-grad                9   \n",
      "48839   58       Private  151910     HS-grad                9   \n",
      "48840   22       Private  201490     HS-grad                9   \n",
      "48841   52  Self-emp-inc  287927     HS-grad                9   \n",
      "\n",
      "           marital-status         occupation relationship   race  gender  \\\n",
      "48837  Married-civ-spouse       Tech-support         Wife  White  Female   \n",
      "48838  Married-civ-spouse  Machine-op-inspct      Husband  White    Male   \n",
      "48839             Widowed       Adm-clerical    Unmarried  White  Female   \n",
      "48840       Never-married       Adm-clerical    Own-child  White    Male   \n",
      "48841  Married-civ-spouse    Exec-managerial         Wife  White  Female   \n",
      "\n",
      "       capital-gain  capital-loss  hours-per-week native-country income  \n",
      "48837             0             0              38  United-States  <=50K  \n",
      "48838             0             0              40  United-States   >50K  \n",
      "48839             0             0              40  United-States  <=50K  \n",
      "48840             0             0              20  United-States  <=50K  \n",
      "48841         15024             0              40  United-States   >50K  \n",
      "######################### DESCRIBE #########################\n",
      "                   count           mean            std      min       25%  \\\n",
      "age              48842.0      38.643585      13.710510     17.0      28.0   \n",
      "fnlwgt           48842.0  189664.134597  105604.025423  12285.0  117550.5   \n",
      "educational-num  48842.0      10.078089       2.570973      1.0       9.0   \n",
      "capital-gain     48842.0    1079.067626    7452.019058      0.0       0.0   \n",
      "capital-loss     48842.0      87.502314     403.004552      0.0       0.0   \n",
      "hours-per-week   48842.0      40.422382      12.391444      1.0      40.0   \n",
      "\n",
      "                      50%       75%        max  \n",
      "age                  37.0      48.0       90.0  \n",
      "fnlwgt           178144.5  237642.0  1490400.0  \n",
      "educational-num      10.0      12.0       16.0  \n",
      "capital-gain          0.0       0.0    99999.0  \n",
      "capital-loss          0.0       0.0     4356.0  \n",
      "hours-per-week       40.0      45.0       99.0  \n"
     ]
    }
   ],
   "source": [
    "def check_df(dataframe, head=5):\n",
    "    print(\"######################### SHAPE #########################\")\n",
    "    print(dataframe.shape)\n",
    "    print(\"######################### DTYPES #########################\")\n",
    "    print(dataframe.dtypes)\n",
    "    print(\"######################### NULL VALUES #########################\")\n",
    "    print(dataframe.isnull().sum())\n",
    "    print(\"######################### INFO #########################\")\n",
    "    print(dataframe.info())\n",
    "    print(\"######################### HEAD #########################\")\n",
    "    print(dataframe.head(head))\n",
    "    print(\"######################### TAIL #########################\")\n",
    "    print(dataframe.tail(head))\n",
    "    print(\"######################### DESCRIBE #########################\")\n",
    "    print(dataframe.describe().T)\n",
    "    \n",
    "check_df(adult_income)"
   ]
  },
  {
   "cell_type": "code",
   "execution_count": 7,
   "id": "f24ae37e-806b-414d-8921-36cd434d9ca3",
   "metadata": {},
   "outputs": [],
   "source": [
    "# Rename the columns contains '-'\n",
    "adult_income.columns = [col.replace('-', '_') for col in adult_income.columns]"
   ]
  },
  {
   "cell_type": "code",
   "execution_count": 26,
   "id": "3f4fd80c-ff3c-419a-ad74-405ad77d4e12",
   "metadata": {
    "collapsed": true,
    "jupyter": {
     "outputs_hidden": true
    },
    "tags": []
   },
   "outputs": [
    {
     "name": "stdout",
     "output_type": "stream",
     "text": [
      "                    \n",
      "AGE\n",
      "[25 38 28 44 18 34 29 63 24 55 65 36 26 58 48 43 20 37 40 72 45 22 23 54\n",
      " 32 46 56 17 39 52 21 42 33 30 47 41 19 69 50 31 59 49 51 27 57 61 64 79\n",
      " 73 53 77 80 62 35 68 66 75 60 67 71 70 90 81 74 78 82 83 85 76 84 89 88\n",
      " 87 86]\n",
      "                    \n",
      "WORKCLASS\n",
      "['Private' 'Local-gov' '?' 'Self-emp-not-inc' 'Federal-gov' 'State-gov'\n",
      " 'Self-emp-inc' 'Without-pay' 'Never-worked']\n",
      "                    \n",
      "FNLWGT\n",
      "[226802  89814 336951 ... 129912 255835 257302]\n",
      "                    \n",
      "EDUCATION\n",
      "['11th' 'HS-grad' 'Assoc-acdm' 'Some-college' '10th' 'Prof-school'\n",
      " '7th-8th' 'Bachelors' 'Masters' 'Doctorate' '5th-6th' 'Assoc-voc' '9th'\n",
      " '12th' '1st-4th' 'Preschool']\n",
      "                    \n",
      "EDUCATIONAL_NUM\n",
      "[ 7  9 12 10  6 15  4 13 14 16  3 11  5  8  2  1]\n",
      "                    \n",
      "MARITAL_STATUS\n",
      "['Never-married' 'Married-civ-spouse' 'Widowed' 'Divorced' 'Separated'\n",
      " 'Married-spouse-absent' 'Married-AF-spouse']\n",
      "                    \n",
      "OCCUPATION\n",
      "['Machine-op-inspct' 'Farming-fishing' 'Protective-serv' '?'\n",
      " 'Other-service' 'Prof-specialty' 'Craft-repair' 'Adm-clerical'\n",
      " 'Exec-managerial' 'Tech-support' 'Sales' 'Priv-house-serv'\n",
      " 'Transport-moving' 'Handlers-cleaners' 'Armed-Forces']\n",
      "                    \n",
      "RELATIONSHIP\n",
      "['Own-child' 'Husband' 'Not-in-family' 'Unmarried' 'Wife' 'Other-relative']\n",
      "                    \n",
      "RACE\n",
      "['Black' 'White' 'Asian-Pac-Islander' 'Other' 'Amer-Indian-Eskimo']\n",
      "                    \n",
      "GENDER\n",
      "['Male' 'Female']\n",
      "                    \n",
      "CAPITAL_GAIN\n",
      "[    0  7688  3103  6418  7298  3908 14084  5178 15024 99999  2597  2907\n",
      "  4650  6497  1055  5013 27828  4934  4064  3674  2174 10605  3418   114\n",
      "  2580  3411  4508  4386  8614 13550  6849  2463  3137  2885  2964  1471\n",
      " 10566  2354  1424  1455  3325  4416 25236   594  2105  4787  2829   401\n",
      "  4865  1264  1506 10520  3464  2653 20051  4101  1797  2407  3471  1086\n",
      "  1848 14344  1151  2993  2290 15020  9386  2202  3818  2176  5455 11678\n",
      "  7978  7262  6514 41310  3456  7430  2414  2062 34095  1831  6723  5060\n",
      " 15831  2977  2346  3273  2329  9562  2635  4931  1731  6097   914  7896\n",
      "  5556  1409  3781  3942  2538  3887 25124  7443  5721  1173  4687  6612\n",
      "  6767  2961   991  2036  2936  2050  1111  2228 22040  3432  6360  2009\n",
      "  1639 18481  2387]\n",
      "                    \n",
      "CAPITAL_LOSS\n",
      "[   0 1721 1876 2415 1887  625 1977 2057 1429 1590 1485 2051 2377 1672\n",
      " 1628 1902 1602 1741 2444 1408 2001 2042 1740 1825 1848 1719 3004 2179\n",
      " 1573 2205 1258 2339 1726 2258 1340 1504 2559 1668 1974 1980 1564 2547\n",
      " 2002 1669 1617  323 3175 2472 2174 1579 2129 1510 1735 2282 1870 1411\n",
      " 1911 1651 1092 1762 2457 2231 2238  653 1138 2246 2603 2392 1944 1380\n",
      " 2465 1421 3770 1594  213 2149 2824 1844 2467 2163 1816 1648 2206 2352\n",
      "  419 1539  880  810  974 4356 2489 1755 3683 2267 2080  155 3900 2201\n",
      " 2754]\n",
      "                    \n",
      "HOURS_PER_WEEK\n",
      "[40 50 30 32 10 39 35 48 25 20 45 47  6 43 90 54 60 38 36 18 24 44 56 28\n",
      " 16 41 22 55 14 33 37  8 12 70 15 75 52 84 42 80 68 99 65  5 17 72 53 29\n",
      " 96 21 46  3  1 23 49 67 76  7  2 58 26 34  4 51 78 63 31 92 77 27 85 13\n",
      " 19 98 62 66 57 11 86 59  9 64 73 61 88 79 89 74 69 87 97 94 82 91 81 95]\n",
      "                    \n",
      "NATIVE_COUNTRY\n",
      "['United-States' '?' 'Peru' 'Guatemala' 'Mexico' 'Dominican-Republic'\n",
      " 'Ireland' 'Germany' 'Philippines' 'Thailand' 'Haiti' 'El-Salvador'\n",
      " 'Puerto-Rico' 'Vietnam' 'South' 'Columbia' 'Japan' 'India' 'Cambodia'\n",
      " 'Poland' 'Laos' 'England' 'Cuba' 'Taiwan' 'Italy' 'Canada' 'Portugal'\n",
      " 'China' 'Nicaragua' 'Honduras' 'Iran' 'Scotland' 'Jamaica' 'Ecuador'\n",
      " 'Yugoslavia' 'Hungary' 'Hong' 'Greece' 'Trinadad&Tobago'\n",
      " 'Outlying-US(Guam-USVI-etc)' 'France' 'Holand-Netherlands']\n",
      "                    \n",
      "INCOME\n",
      "['<=50K' '>50K']\n"
     ]
    }
   ],
   "source": [
    "def check_uniques(dataframe):\n",
    "    for col in dataframe.columns:\n",
    "        print(' '*20)\n",
    "        print(col.upper())\n",
    "        print(dataframe[col].unique())\n",
    "check_uniques(adult_income)"
   ]
  },
  {
   "cell_type": "code",
   "execution_count": 54,
   "id": "511e5094-ac14-441c-b177-ccfb082460c7",
   "metadata": {},
   "outputs": [
    {
     "data": {
      "image/png": "[encoded data removed]",
      "text/plain": [
       "<Figure size 500x500 with 1 Axes>"
      ]
     },
     "metadata": {},
     "output_type": "display_data"
    },
    {
     "name": "stdout",
     "output_type": "stream",
     "text": [
      "Mean: 38.64358543876172\n",
      "Std: 13.71050993444322\n",
      "Skewness: 0.5575803166133181\n",
      "Kurtosis -0.18426874062387766\n"
     ]
    },
    {
     "data": {
      "image/png": "[encoded data removed]",
      "text/plain": [
       "<Figure size 500x500 with 1 Axes>"
      ]
     },
     "metadata": {},
     "output_type": "display_data"
    },
    {
     "name": "stdout",
     "output_type": "stream",
     "text": [
      "Mean: 189664.13459727284\n",
      "Std: 105604.02542315713\n",
      "Skewness: 1.4388918785218416\n",
      "Kurtosis 6.05784821246471\n"
     ]
    }
   ],
   "source": [
    "def view_histogram(dataframe, columns = None):    \n",
    "    num_columns = dataframe.select_dtypes(include=['int64','float64']).columns if columns is None else \\\n",
    "    columns\n",
    "    \n",
    "    for col in num_columns:    \n",
    "        mean_value = dataframe[col]. mean()\n",
    "        \n",
    "        plt.figure(figsize=(5,5))\n",
    "        plt.grid(True)\n",
    "        plt.title(dataframe[col].name)\n",
    "        sns.histplot(dataframe[col], kde=True)\n",
    "        plt.axvline(mean_value, color='red', linestyle='dashed', linewidth=2, label='Mean')\n",
    "        plt.legend()\n",
    "        plt.show()\n",
    "        \n",
    "        print('Mean:', mean_value)\n",
    "        print('Std:', dataframe[col].std())\n",
    "        print('Skewness:', dataframe[col].skew())\n",
    "        print('Kurtosis', dataframe[col].kurt())\n",
    "        \n",
    "view_histogram(adult_income, columns=['age', 'fnlwgt'])"
   ]
  },
  {
   "cell_type": "markdown",
   "id": "6494734a-da68-4f9d-8a9d-92fb6701a9a9",
   "metadata": {},
   "source": [
    "### Cleaning dataset"
   ]
  },
  {
   "cell_type": "markdown",
   "id": "30c4fa36-f887-4ef7-8591-7e538aabcf6c",
   "metadata": {},
   "source": [
    "In three features - workclass, occupation, and native_country - there are values '?'."
   ]
  },
  {
   "cell_type": "code",
   "execution_count": 62,
   "id": "380d5a73-953d-43f6-a6bf-dff7956cbc20",
   "metadata": {},
   "outputs": [],
   "source": [
    "rows_with_questionmark = adult_income[adult_income.apply(lambda row: '?' in row.values, axis=1)]"
   ]
  },
  {
   "cell_type": "code",
   "execution_count": 81,
   "id": "b70f6e75-bdd5-4ab9-9316-492a01789a58",
   "metadata": {},
   "outputs": [
    {
     "data": {
      "text/plain": [
       "7.4117"
      ]
     },
     "execution_count": 81,
     "metadata": {},
     "output_type": "execute_result"
    }
   ],
   "source": [
    "round(len(rows_with_questionmark)/len(adult_income)*100, 4)"
   ]
  },
  {
   "cell_type": "markdown",
   "id": "013d70b3-4316-45fd-b477-bb2abe7a44b2",
   "metadata": {},
   "source": [
    "There are 7.4117 percent "
   ]
  },
  {
   "cell_type": "code",
   "execution_count": 69,
   "id": "1d152a6f-afb9-461c-af2b-134499803e79",
   "metadata": {},
   "outputs": [],
   "source": [
    "# Replace '?' with 'NaN'\n",
    "clean_adult_imcome = adult_income.replace('?',pd.NA,)"
   ]
  },
  {
   "cell_type": "code",
   "execution_count": 75,
   "id": "78b968cb-c189-48ac-af71-311bc20e34fd",
   "metadata": {},
   "outputs": [
    {
     "data": {
      "text/plain": [
       "age                   0\n",
       "workclass          2799\n",
       "fnlwgt                0\n",
       "education             0\n",
       "educational_num       0\n",
       "marital_status        0\n",
       "occupation         2809\n",
       "relationship          0\n",
       "race                  0\n",
       "gender                0\n",
       "capital_gain          0\n",
       "capital_loss          0\n",
       "hours_per_week        0\n",
       "native_country      857\n",
       "income                0\n",
       "dtype: int64"
      ]
     },
     "execution_count": 75,
     "metadata": {},
     "output_type": "execute_result"
    }
   ],
   "source": [
    "clean_adult_imcome.isna().sum()"
   ]
  },
  {
   "cell_type": "code",
   "execution_count": 76,
   "id": "79843c87-d62c-43a0-a844-fc0942247968",
   "metadata": {},
   "outputs": [],
   "source": [
    "clean_adult_imcome.dropna(inplace = True)"
   ]
  },
  {
   "cell_type": "code",
   "execution_count": 77,
   "id": "2da11e54-8ab3-47d4-b436-0ea3f77af365",
   "metadata": {},
   "outputs": [
    {
     "data": {
      "text/plain": [
       "age                0\n",
       "workclass          0\n",
       "fnlwgt             0\n",
       "education          0\n",
       "educational_num    0\n",
       "marital_status     0\n",
       "occupation         0\n",
       "relationship       0\n",
       "race               0\n",
       "gender             0\n",
       "capital_gain       0\n",
       "capital_loss       0\n",
       "hours_per_week     0\n",
       "native_country     0\n",
       "income             0\n",
       "dtype: int64"
      ]
     },
     "execution_count": 77,
     "metadata": {},
     "output_type": "execute_result"
    }
   ],
   "source": [
    "clean_adult_imcome.isna().sum()"
   ]
  },
  {
   "cell_type": "code",
   "execution_count": 78,
   "id": "c91ac0a4-a60c-483c-83e4-e6b3d4f40cd1",
   "metadata": {},
   "outputs": [
    {
     "data": {
      "text/plain": [
       "(45222, 15)"
      ]
     },
     "execution_count": 78,
     "metadata": {},
     "output_type": "execute_result"
    }
   ],
   "source": [
    "clean_adult_imcome.shape"
   ]
  },
  {
   "cell_type": "code",
   "execution_count": null,
   "id": "5428a3fb-ec52-4b5e-a746-759acb39088a",
   "metadata": {},
   "outputs": [],
   "source": []
  }
 ],
 "metadata": {
  "kernelspec": {
   "display_name": "Python 3 (ipykernel)",
   "language": "python",
   "name": "python3"
  },
  "language_info": {
   "codemirror_mode": {
    "name": "ipython",
    "version": 3
   },
   "file_extension": ".py",
   "mimetype": "text/x-python",
   "name": "python",
   "nbconvert_exporter": "python",
   "pygments_lexer": "ipython3",
   "version": "3.9.13"
  }
 },
 "nbformat": 4,
 "nbformat_minor": 5
}
