{
 "cells": [
  {
   "cell_type": "code",
   "execution_count": 1,
   "id": "4986fcb4-4d0a-4a41-b514-475ffb8a9877",
   "metadata": {},
   "outputs": [],
   "source": [
    "%matplotlib inline"
   ]
  },
  {
   "cell_type": "code",
   "execution_count": 48,
   "id": "86ead1d0-ec8b-45d4-85c1-f40b0feafcad",
   "metadata": {},
   "outputs": [],
   "source": [
    "import numpy as np\n",
    "import matplotlib.pyplot as plt\n",
    "import pandas as pd\n",
    "\n",
    "import seaborn as sns\n",
    "\n",
    "from scipy.stats import skew, kurtosis"
   ]
  },
  {
   "cell_type": "markdown",
   "id": "f880769f-9e96-4fb9-b5c4-46dcc211d184",
   "metadata": {},
   "source": [
    "# Books Dataset"
   ]
  },
  {
   "cell_type": "markdown",
   "id": "855f9922-b6b2-4809-b30c-f7a7a149a2f3",
   "metadata": {},
   "source": [
    "### Read and clean data"
   ]
  },
  {
   "cell_type": "code",
   "execution_count": 3,
   "id": "29d4fbbc-f95b-4b4e-8a06-4ea283f80b55",
   "metadata": {},
   "outputs": [],
   "source": [
    "books_rates = pd.read_csv('data/Books_Data_Clean.csv')"
   ]
  },
  {
   "cell_type": "code",
   "execution_count": 4,
   "id": "40071922-029b-4e67-b039-de4bf9b970b8",
   "metadata": {},
   "outputs": [
    {
     "data": {
      "text/html": [
       "<div>\n",
       "<style scoped>\n",
       "    .dataframe tbody tr th:only-of-type {\n",
       "        vertical-align: middle;\n",
       "    }\n",
       "\n",
       "    .dataframe tbody tr th {\n",
       "        vertical-align: top;\n",
       "    }\n",
       "\n",
       "    .dataframe thead th {\n",
       "        text-align: right;\n",
       "    }\n",
       "</style>\n",
       "<table border=\"1\" class=\"dataframe\">\n",
       "  <thead>\n",
       "    <tr style=\"text-align: right;\">\n",
       "      <th></th>\n",
       "      <th>index</th>\n",
       "      <th>Publishing Year</th>\n",
       "      <th>Book Name</th>\n",
       "      <th>Author</th>\n",
       "      <th>language_code</th>\n",
       "      <th>Author_Rating</th>\n",
       "      <th>Book_average_rating</th>\n",
       "      <th>Book_ratings_count</th>\n",
       "      <th>genre</th>\n",
       "      <th>gross sales</th>\n",
       "      <th>publisher revenue</th>\n",
       "      <th>sale price</th>\n",
       "      <th>sales rank</th>\n",
       "      <th>Publisher</th>\n",
       "      <th>units sold</th>\n",
       "    </tr>\n",
       "  </thead>\n",
       "  <tbody>\n",
       "    <tr>\n",
       "      <th>0</th>\n",
       "      <td>0</td>\n",
       "      <td>1975.0</td>\n",
       "      <td>Beowulf</td>\n",
       "      <td>Unknown, Seamus Heaney</td>\n",
       "      <td>en-US</td>\n",
       "      <td>Novice</td>\n",
       "      <td>3.42</td>\n",
       "      <td>155903</td>\n",
       "      <td>genre fiction</td>\n",
       "      <td>34160.0</td>\n",
       "      <td>20496.0</td>\n",
       "      <td>4.88</td>\n",
       "      <td>1</td>\n",
       "      <td>HarperCollins Publishers</td>\n",
       "      <td>7000</td>\n",
       "    </tr>\n",
       "    <tr>\n",
       "      <th>1</th>\n",
       "      <td>1</td>\n",
       "      <td>1987.0</td>\n",
       "      <td>Batman: Year One</td>\n",
       "      <td>Frank Miller, David Mazzucchelli, Richmond Lew...</td>\n",
       "      <td>eng</td>\n",
       "      <td>Intermediate</td>\n",
       "      <td>4.23</td>\n",
       "      <td>145267</td>\n",
       "      <td>genre fiction</td>\n",
       "      <td>12437.5</td>\n",
       "      <td>7462.5</td>\n",
       "      <td>1.99</td>\n",
       "      <td>2</td>\n",
       "      <td>HarperCollins Publishers</td>\n",
       "      <td>6250</td>\n",
       "    </tr>\n",
       "    <tr>\n",
       "      <th>2</th>\n",
       "      <td>2</td>\n",
       "      <td>2015.0</td>\n",
       "      <td>Go Set a Watchman</td>\n",
       "      <td>Harper Lee</td>\n",
       "      <td>eng</td>\n",
       "      <td>Novice</td>\n",
       "      <td>3.31</td>\n",
       "      <td>138669</td>\n",
       "      <td>genre fiction</td>\n",
       "      <td>47795.0</td>\n",
       "      <td>28677.0</td>\n",
       "      <td>8.69</td>\n",
       "      <td>3</td>\n",
       "      <td>Amazon Digital Services,  Inc.</td>\n",
       "      <td>5500</td>\n",
       "    </tr>\n",
       "    <tr>\n",
       "      <th>3</th>\n",
       "      <td>3</td>\n",
       "      <td>2008.0</td>\n",
       "      <td>When You Are Engulfed in Flames</td>\n",
       "      <td>David Sedaris</td>\n",
       "      <td>en-US</td>\n",
       "      <td>Intermediate</td>\n",
       "      <td>4.04</td>\n",
       "      <td>150898</td>\n",
       "      <td>fiction</td>\n",
       "      <td>41250.0</td>\n",
       "      <td>24750.0</td>\n",
       "      <td>7.50</td>\n",
       "      <td>3</td>\n",
       "      <td>Hachette Book Group</td>\n",
       "      <td>5500</td>\n",
       "    </tr>\n",
       "    <tr>\n",
       "      <th>4</th>\n",
       "      <td>4</td>\n",
       "      <td>2011.0</td>\n",
       "      <td>Daughter of Smoke &amp; Bone</td>\n",
       "      <td>Laini Taylor</td>\n",
       "      <td>eng</td>\n",
       "      <td>Intermediate</td>\n",
       "      <td>4.04</td>\n",
       "      <td>198283</td>\n",
       "      <td>genre fiction</td>\n",
       "      <td>37952.5</td>\n",
       "      <td>22771.5</td>\n",
       "      <td>7.99</td>\n",
       "      <td>4</td>\n",
       "      <td>Penguin Group (USA) LLC</td>\n",
       "      <td>4750</td>\n",
       "    </tr>\n",
       "  </tbody>\n",
       "</table>\n",
       "</div>"
      ],
      "text/plain": [
       "   index  Publishing Year                        Book Name  \\\n",
       "0      0           1975.0                          Beowulf   \n",
       "1      1           1987.0                 Batman: Year One   \n",
       "2      2           2015.0                Go Set a Watchman   \n",
       "3      3           2008.0  When You Are Engulfed in Flames   \n",
       "4      4           2011.0         Daughter of Smoke & Bone   \n",
       "\n",
       "                                              Author language_code  \\\n",
       "0                             Unknown, Seamus Heaney         en-US   \n",
       "1  Frank Miller, David Mazzucchelli, Richmond Lew...           eng   \n",
       "2                                         Harper Lee           eng   \n",
       "3                                      David Sedaris         en-US   \n",
       "4                                       Laini Taylor           eng   \n",
       "\n",
       "  Author_Rating  Book_average_rating  Book_ratings_count          genre  \\\n",
       "0        Novice                 3.42              155903  genre fiction   \n",
       "1  Intermediate                 4.23              145267  genre fiction   \n",
       "2        Novice                 3.31              138669  genre fiction   \n",
       "3  Intermediate                 4.04              150898        fiction   \n",
       "4  Intermediate                 4.04              198283  genre fiction   \n",
       "\n",
       "   gross sales  publisher revenue  sale price  sales rank  \\\n",
       "0      34160.0            20496.0        4.88           1   \n",
       "1      12437.5             7462.5        1.99           2   \n",
       "2      47795.0            28677.0        8.69           3   \n",
       "3      41250.0            24750.0        7.50           3   \n",
       "4      37952.5            22771.5        7.99           4   \n",
       "\n",
       "                       Publisher   units sold  \n",
       "0        HarperCollins Publishers        7000  \n",
       "1        HarperCollins Publishers        6250  \n",
       "2  Amazon Digital Services,  Inc.        5500  \n",
       "3             Hachette Book Group        5500  \n",
       "4         Penguin Group (USA) LLC        4750  "
      ]
     },
     "execution_count": 4,
     "metadata": {},
     "output_type": "execute_result"
    }
   ],
   "source": [
    "books_rates.head()"
   ]
  },
  {
   "cell_type": "code",
   "execution_count": 5,
   "id": "566346d9-acde-4a46-8cf7-b1c9af8fab52",
   "metadata": {},
   "outputs": [],
   "source": [
    "# Rename columns\n",
    "books_rates.columns = books_rates.columns.str.strip().str.lower().str.replace(' ', '_')"
   ]
  },
  {
   "cell_type": "code",
   "execution_count": 6,
   "id": "c6f7c011-ff03-4089-b7a8-72be540f6fe6",
   "metadata": {},
   "outputs": [
    {
     "data": {
      "text/plain": [
       "Index(['index', 'publishing_year', 'book_name', 'author', 'language_code',\n",
       "       'author_rating', 'book_average_rating', 'book_ratings_count', 'genre',\n",
       "       'gross_sales', 'publisher_revenue', 'sale_price', 'sales_rank',\n",
       "       'publisher', 'units_sold'],\n",
       "      dtype='object')"
      ]
     },
     "execution_count": 6,
     "metadata": {},
     "output_type": "execute_result"
    }
   ],
   "source": [
    "books_rates.columns"
   ]
  },
  {
   "cell_type": "code",
   "execution_count": 7,
   "id": "0e6b6d3f-20b9-4fa2-bde7-e6551eeb3ed7",
   "metadata": {},
   "outputs": [],
   "source": [
    "# Convert publisher_year from float to int\n",
    "books_rates['publishing_year'] = books_rates['publishing_year'].astype('Int64', errors='ignore')\n"
   ]
  },
  {
   "cell_type": "code",
   "execution_count": 8,
   "id": "c2573a24-64f3-4bb9-93bf-318a623ef69e",
   "metadata": {},
   "outputs": [
    {
     "data": {
      "text/plain": [
       "0       1975\n",
       "1       1987\n",
       "2       2015\n",
       "3       2008\n",
       "4       2011\n",
       "        ... \n",
       "1065    2014\n",
       "1066    1989\n",
       "1067    1930\n",
       "1068    2011\n",
       "1069    1999\n",
       "Name: publishing_year, Length: 1070, dtype: Int64"
      ]
     },
     "execution_count": 8,
     "metadata": {},
     "output_type": "execute_result"
    }
   ],
   "source": [
    "books_rates.publishing_year"
   ]
  },
  {
   "cell_type": "code",
   "execution_count": 9,
   "id": "dd1df810-912d-436c-98ed-f9411da0a0ff",
   "metadata": {},
   "outputs": [
    {
     "name": "stdout",
     "output_type": "stream",
     "text": [
      "<class 'pandas.core.frame.DataFrame'>\n",
      "RangeIndex: 1070 entries, 0 to 1069\n",
      "Data columns (total 15 columns):\n",
      " #   Column               Non-Null Count  Dtype  \n",
      "---  ------               --------------  -----  \n",
      " 0   index                1070 non-null   int64  \n",
      " 1   publishing_year      1069 non-null   Int64  \n",
      " 2   book_name            1047 non-null   object \n",
      " 3   author               1070 non-null   object \n",
      " 4   language_code        1017 non-null   object \n",
      " 5   author_rating        1070 non-null   object \n",
      " 6   book_average_rating  1070 non-null   float64\n",
      " 7   book_ratings_count   1070 non-null   int64  \n",
      " 8   genre                1070 non-null   object \n",
      " 9   gross_sales          1070 non-null   float64\n",
      " 10  publisher_revenue    1070 non-null   float64\n",
      " 11  sale_price           1070 non-null   float64\n",
      " 12  sales_rank           1070 non-null   int64  \n",
      " 13  publisher            1070 non-null   object \n",
      " 14  units_sold           1070 non-null   int64  \n",
      "dtypes: Int64(1), float64(4), int64(4), object(6)\n",
      "memory usage: 126.6+ KB\n"
     ]
    }
   ],
   "source": [
    "books_rates.info()"
   ]
  },
  {
   "cell_type": "code",
   "execution_count": 10,
   "id": "c7a6bd8e-d5ba-42cc-af54-3fb396c11519",
   "metadata": {},
   "outputs": [
    {
     "data": {
      "text/html": [
       "<div>\n",
       "<style scoped>\n",
       "    .dataframe tbody tr th:only-of-type {\n",
       "        vertical-align: middle;\n",
       "    }\n",
       "\n",
       "    .dataframe tbody tr th {\n",
       "        vertical-align: top;\n",
       "    }\n",
       "\n",
       "    .dataframe thead th {\n",
       "        text-align: right;\n",
       "    }\n",
       "</style>\n",
       "<table border=\"1\" class=\"dataframe\">\n",
       "  <thead>\n",
       "    <tr style=\"text-align: right;\">\n",
       "      <th></th>\n",
       "      <th>count</th>\n",
       "      <th>mean</th>\n",
       "      <th>std</th>\n",
       "      <th>min</th>\n",
       "      <th>25%</th>\n",
       "      <th>50%</th>\n",
       "      <th>75%</th>\n",
       "      <th>max</th>\n",
       "    </tr>\n",
       "  </thead>\n",
       "  <tbody>\n",
       "    <tr>\n",
       "      <th>index</th>\n",
       "      <td>1070.0</td>\n",
       "      <td>534.500000</td>\n",
       "      <td>309.026698</td>\n",
       "      <td>0.00</td>\n",
       "      <td>267.250</td>\n",
       "      <td>534.500</td>\n",
       "      <td>801.7500</td>\n",
       "      <td>1069.00</td>\n",
       "    </tr>\n",
       "    <tr>\n",
       "      <th>publishing_year</th>\n",
       "      <td>1069.0</td>\n",
       "      <td>1971.377923</td>\n",
       "      <td>185.080257</td>\n",
       "      <td>-560.00</td>\n",
       "      <td>1985.000</td>\n",
       "      <td>2003.000</td>\n",
       "      <td>2010.0000</td>\n",
       "      <td>2016.00</td>\n",
       "    </tr>\n",
       "    <tr>\n",
       "      <th>book_average_rating</th>\n",
       "      <td>1070.0</td>\n",
       "      <td>4.007000</td>\n",
       "      <td>0.247244</td>\n",
       "      <td>2.97</td>\n",
       "      <td>3.850</td>\n",
       "      <td>4.015</td>\n",
       "      <td>4.1700</td>\n",
       "      <td>4.77</td>\n",
       "    </tr>\n",
       "    <tr>\n",
       "      <th>book_ratings_count</th>\n",
       "      <td>1070.0</td>\n",
       "      <td>94909.913084</td>\n",
       "      <td>31513.242518</td>\n",
       "      <td>27308.00</td>\n",
       "      <td>70398.000</td>\n",
       "      <td>89309.000</td>\n",
       "      <td>113906.5000</td>\n",
       "      <td>206792.00</td>\n",
       "    </tr>\n",
       "    <tr>\n",
       "      <th>gross_sales</th>\n",
       "      <td>1070.0</td>\n",
       "      <td>1856.622944</td>\n",
       "      <td>3936.924240</td>\n",
       "      <td>104.94</td>\n",
       "      <td>372.465</td>\n",
       "      <td>809.745</td>\n",
       "      <td>1487.9575</td>\n",
       "      <td>47795.00</td>\n",
       "    </tr>\n",
       "    <tr>\n",
       "      <th>publisher_revenue</th>\n",
       "      <td>1070.0</td>\n",
       "      <td>843.281030</td>\n",
       "      <td>2257.596743</td>\n",
       "      <td>0.00</td>\n",
       "      <td>0.000</td>\n",
       "      <td>273.078</td>\n",
       "      <td>721.1805</td>\n",
       "      <td>28677.00</td>\n",
       "    </tr>\n",
       "    <tr>\n",
       "      <th>sale_price</th>\n",
       "      <td>1070.0</td>\n",
       "      <td>4.869561</td>\n",
       "      <td>3.559919</td>\n",
       "      <td>0.99</td>\n",
       "      <td>1.990</td>\n",
       "      <td>3.990</td>\n",
       "      <td>6.9900</td>\n",
       "      <td>33.86</td>\n",
       "    </tr>\n",
       "    <tr>\n",
       "      <th>sales_rank</th>\n",
       "      <td>1070.0</td>\n",
       "      <td>611.652336</td>\n",
       "      <td>369.849830</td>\n",
       "      <td>1.00</td>\n",
       "      <td>287.500</td>\n",
       "      <td>595.500</td>\n",
       "      <td>932.5000</td>\n",
       "      <td>1273.00</td>\n",
       "    </tr>\n",
       "    <tr>\n",
       "      <th>units_sold</th>\n",
       "      <td>1070.0</td>\n",
       "      <td>9676.980374</td>\n",
       "      <td>15370.571306</td>\n",
       "      <td>106.00</td>\n",
       "      <td>551.250</td>\n",
       "      <td>3924.000</td>\n",
       "      <td>5312.2500</td>\n",
       "      <td>61560.00</td>\n",
       "    </tr>\n",
       "  </tbody>\n",
       "</table>\n",
       "</div>"
      ],
      "text/plain": [
       "                      count          mean           std       min        25%  \\\n",
       "index                1070.0    534.500000    309.026698      0.00    267.250   \n",
       "publishing_year      1069.0   1971.377923    185.080257   -560.00   1985.000   \n",
       "book_average_rating  1070.0      4.007000      0.247244      2.97      3.850   \n",
       "book_ratings_count   1070.0  94909.913084  31513.242518  27308.00  70398.000   \n",
       "gross_sales          1070.0   1856.622944   3936.924240    104.94    372.465   \n",
       "publisher_revenue    1070.0    843.281030   2257.596743      0.00      0.000   \n",
       "sale_price           1070.0      4.869561      3.559919      0.99      1.990   \n",
       "sales_rank           1070.0    611.652336    369.849830      1.00    287.500   \n",
       "units_sold           1070.0   9676.980374  15370.571306    106.00    551.250   \n",
       "\n",
       "                           50%          75%        max  \n",
       "index                  534.500     801.7500    1069.00  \n",
       "publishing_year       2003.000    2010.0000    2016.00  \n",
       "book_average_rating      4.015       4.1700       4.77  \n",
       "book_ratings_count   89309.000  113906.5000  206792.00  \n",
       "gross_sales            809.745    1487.9575   47795.00  \n",
       "publisher_revenue      273.078     721.1805   28677.00  \n",
       "sale_price               3.990       6.9900      33.86  \n",
       "sales_rank             595.500     932.5000    1273.00  \n",
       "units_sold            3924.000    5312.2500   61560.00  "
      ]
     },
     "execution_count": 10,
     "metadata": {},
     "output_type": "execute_result"
    }
   ],
   "source": [
    "books_rates.describe().T"
   ]
  },
  {
   "cell_type": "code",
   "execution_count": 11,
   "id": "220ab137-153b-462d-99c8-56d147985bfd",
   "metadata": {},
   "outputs": [
    {
     "data": {
      "text/plain": [
       "(1070, 15)"
      ]
     },
     "execution_count": 11,
     "metadata": {},
     "output_type": "execute_result"
    }
   ],
   "source": [
    "books_rates.shape"
   ]
  },
  {
   "cell_type": "code",
   "execution_count": 12,
   "id": "7cc0578e-3a1d-499f-afc5-543b0c0fa287",
   "metadata": {},
   "outputs": [
    {
     "data": {
      "text/plain": [
       "index                   0\n",
       "publishing_year         1\n",
       "book_name              23\n",
       "author                  0\n",
       "language_code          53\n",
       "author_rating           0\n",
       "book_average_rating     0\n",
       "book_ratings_count      0\n",
       "genre                   0\n",
       "gross_sales             0\n",
       "publisher_revenue       0\n",
       "sale_price              0\n",
       "sales_rank              0\n",
       "publisher               0\n",
       "units_sold              0\n",
       "dtype: int64"
      ]
     },
     "execution_count": 12,
     "metadata": {},
     "output_type": "execute_result"
    }
   ],
   "source": [
    "books_rates.isnull().sum()"
   ]
  },
  {
   "cell_type": "code",
   "execution_count": 13,
   "id": "5cffde8c-41b4-4c4c-80a9-aa5ae48907bd",
   "metadata": {},
   "outputs": [
    {
     "data": {
      "text/html": [
       "<div>\n",
       "<style scoped>\n",
       "    .dataframe tbody tr th:only-of-type {\n",
       "        vertical-align: middle;\n",
       "    }\n",
       "\n",
       "    .dataframe tbody tr th {\n",
       "        vertical-align: top;\n",
       "    }\n",
       "\n",
       "    .dataframe thead th {\n",
       "        text-align: right;\n",
       "    }\n",
       "</style>\n",
       "<table border=\"1\" class=\"dataframe\">\n",
       "  <thead>\n",
       "    <tr style=\"text-align: right;\">\n",
       "      <th></th>\n",
       "      <th>index</th>\n",
       "      <th>publishing_year</th>\n",
       "      <th>book_name</th>\n",
       "      <th>author</th>\n",
       "      <th>language_code</th>\n",
       "      <th>author_rating</th>\n",
       "      <th>book_average_rating</th>\n",
       "      <th>book_ratings_count</th>\n",
       "      <th>genre</th>\n",
       "      <th>gross_sales</th>\n",
       "      <th>publisher_revenue</th>\n",
       "      <th>sale_price</th>\n",
       "      <th>sales_rank</th>\n",
       "      <th>publisher</th>\n",
       "      <th>units_sold</th>\n",
       "    </tr>\n",
       "  </thead>\n",
       "  <tbody>\n",
       "    <tr>\n",
       "      <th>22</th>\n",
       "      <td>22</td>\n",
       "      <td>1991</td>\n",
       "      <td>Needful Things</td>\n",
       "      <td>Stephen King</td>\n",
       "      <td>NaN</td>\n",
       "      <td>Intermediate</td>\n",
       "      <td>3.87</td>\n",
       "      <td>153821</td>\n",
       "      <td>genre fiction</td>\n",
       "      <td>2772.00</td>\n",
       "      <td>0.000</td>\n",
       "      <td>0.99</td>\n",
       "      <td>23</td>\n",
       "      <td>Amazon Digital Services,  Inc.</td>\n",
       "      <td>2800</td>\n",
       "    </tr>\n",
       "    <tr>\n",
       "      <th>24</th>\n",
       "      <td>24</td>\n",
       "      <td>1996</td>\n",
       "      <td>NaN</td>\n",
       "      <td>Kenneth Branagh, William Shakespeare</td>\n",
       "      <td>eng</td>\n",
       "      <td>Intermediate</td>\n",
       "      <td>4.12</td>\n",
       "      <td>156869</td>\n",
       "      <td>genre fiction</td>\n",
       "      <td>2639.34</td>\n",
       "      <td>1583.604</td>\n",
       "      <td>0.99</td>\n",
       "      <td>25</td>\n",
       "      <td>Amazon Digital Services,  Inc.</td>\n",
       "      <td>2666</td>\n",
       "    </tr>\n",
       "    <tr>\n",
       "      <th>34</th>\n",
       "      <td>34</td>\n",
       "      <td>2007</td>\n",
       "      <td>NaN</td>\n",
       "      <td>Brandon Sanderson</td>\n",
       "      <td>eng</td>\n",
       "      <td>Intermediate</td>\n",
       "      <td>4.35</td>\n",
       "      <td>150736</td>\n",
       "      <td>genre fiction</td>\n",
       "      <td>17980.00</td>\n",
       "      <td>10788.000</td>\n",
       "      <td>8.99</td>\n",
       "      <td>35</td>\n",
       "      <td>Random House LLC</td>\n",
       "      <td>2000</td>\n",
       "    </tr>\n",
       "    <tr>\n",
       "      <th>74</th>\n",
       "      <td>74</td>\n",
       "      <td>2007</td>\n",
       "      <td>Are You There, Vodka? It's Me, Chelsea</td>\n",
       "      <td>Chelsea Handler</td>\n",
       "      <td>NaN</td>\n",
       "      <td>Intermediate</td>\n",
       "      <td>3.85</td>\n",
       "      <td>127096</td>\n",
       "      <td>genre fiction</td>\n",
       "      <td>5462.31</td>\n",
       "      <td>3277.386</td>\n",
       "      <td>3.99</td>\n",
       "      <td>76</td>\n",
       "      <td>Hachette Book Group</td>\n",
       "      <td>1369</td>\n",
       "    </tr>\n",
       "    <tr>\n",
       "      <th>105</th>\n",
       "      <td>105</td>\n",
       "      <td>2011</td>\n",
       "      <td>NaN</td>\n",
       "      <td>Mark Cotta Vaz</td>\n",
       "      <td>eng</td>\n",
       "      <td>Intermediate</td>\n",
       "      <td>4.30</td>\n",
       "      <td>188136</td>\n",
       "      <td>genre fiction</td>\n",
       "      <td>7670.40</td>\n",
       "      <td>4602.240</td>\n",
       "      <td>7.99</td>\n",
       "      <td>108</td>\n",
       "      <td>Penguin Group (USA) LLC</td>\n",
       "      <td>960</td>\n",
       "    </tr>\n",
       "    <tr>\n",
       "      <th>...</th>\n",
       "      <td>...</td>\n",
       "      <td>...</td>\n",
       "      <td>...</td>\n",
       "      <td>...</td>\n",
       "      <td>...</td>\n",
       "      <td>...</td>\n",
       "      <td>...</td>\n",
       "      <td>...</td>\n",
       "      <td>...</td>\n",
       "      <td>...</td>\n",
       "      <td>...</td>\n",
       "      <td>...</td>\n",
       "      <td>...</td>\n",
       "      <td>...</td>\n",
       "      <td>...</td>\n",
       "    </tr>\n",
       "    <tr>\n",
       "      <th>1031</th>\n",
       "      <td>1031</td>\n",
       "      <td>2015</td>\n",
       "      <td>NaN</td>\n",
       "      <td>Colleen Hoover</td>\n",
       "      <td>en-GB</td>\n",
       "      <td>Excellent</td>\n",
       "      <td>4.25</td>\n",
       "      <td>72611</td>\n",
       "      <td>nonfiction</td>\n",
       "      <td>1175.93</td>\n",
       "      <td>705.558</td>\n",
       "      <td>10.99</td>\n",
       "      <td>1218</td>\n",
       "      <td>Amazon Digital Services,  Inc.</td>\n",
       "      <td>107</td>\n",
       "    </tr>\n",
       "    <tr>\n",
       "      <th>1032</th>\n",
       "      <td>1032</td>\n",
       "      <td>2012</td>\n",
       "      <td>Pines</td>\n",
       "      <td>Blake Crouch</td>\n",
       "      <td>NaN</td>\n",
       "      <td>Intermediate</td>\n",
       "      <td>3.88</td>\n",
       "      <td>34789</td>\n",
       "      <td>genre fiction</td>\n",
       "      <td>105.93</td>\n",
       "      <td>0.000</td>\n",
       "      <td>0.99</td>\n",
       "      <td>1218</td>\n",
       "      <td>Amazon Digital Services,  Inc.</td>\n",
       "      <td>107</td>\n",
       "    </tr>\n",
       "    <tr>\n",
       "      <th>1033</th>\n",
       "      <td>1033</td>\n",
       "      <td>1994</td>\n",
       "      <td>Disclosure</td>\n",
       "      <td>Michael Crichton</td>\n",
       "      <td>NaN</td>\n",
       "      <td>Intermediate</td>\n",
       "      <td>3.76</td>\n",
       "      <td>57818</td>\n",
       "      <td>genre fiction</td>\n",
       "      <td>854.93</td>\n",
       "      <td>512.958</td>\n",
       "      <td>7.99</td>\n",
       "      <td>1219</td>\n",
       "      <td>Random House LLC</td>\n",
       "      <td>107</td>\n",
       "    </tr>\n",
       "    <tr>\n",
       "      <th>1059</th>\n",
       "      <td>1059</td>\n",
       "      <td>1955</td>\n",
       "      <td>Beezus and Ramona</td>\n",
       "      <td>Beverly Cleary</td>\n",
       "      <td>NaN</td>\n",
       "      <td>Intermediate</td>\n",
       "      <td>3.97</td>\n",
       "      <td>75987</td>\n",
       "      <td>genre fiction</td>\n",
       "      <td>740.94</td>\n",
       "      <td>444.564</td>\n",
       "      <td>6.99</td>\n",
       "      <td>1257</td>\n",
       "      <td>Random House LLC</td>\n",
       "      <td>106</td>\n",
       "    </tr>\n",
       "    <tr>\n",
       "      <th>1060</th>\n",
       "      <td>1060</td>\n",
       "      <td>1972</td>\n",
       "      <td>The Farthest Shore</td>\n",
       "      <td>Ursula K. Le Guin</td>\n",
       "      <td>NaN</td>\n",
       "      <td>Excellent</td>\n",
       "      <td>4.11</td>\n",
       "      <td>65626</td>\n",
       "      <td>nonfiction</td>\n",
       "      <td>210.94</td>\n",
       "      <td>0.000</td>\n",
       "      <td>1.99</td>\n",
       "      <td>1258</td>\n",
       "      <td>Amazon Digital Services,  Inc.</td>\n",
       "      <td>106</td>\n",
       "    </tr>\n",
       "  </tbody>\n",
       "</table>\n",
       "<p>72 rows × 15 columns</p>\n",
       "</div>"
      ],
      "text/plain": [
       "      index  publishing_year                               book_name  \\\n",
       "22       22             1991                          Needful Things   \n",
       "24       24             1996                                     NaN   \n",
       "34       34             2007                                     NaN   \n",
       "74       74             2007  Are You There, Vodka? It's Me, Chelsea   \n",
       "105     105             2011                                     NaN   \n",
       "...     ...              ...                                     ...   \n",
       "1031   1031             2015                                     NaN   \n",
       "1032   1032             2012                                   Pines   \n",
       "1033   1033             1994                              Disclosure   \n",
       "1059   1059             1955                       Beezus and Ramona   \n",
       "1060   1060             1972                      The Farthest Shore   \n",
       "\n",
       "                                    author language_code author_rating  \\\n",
       "22                            Stephen King           NaN  Intermediate   \n",
       "24    Kenneth Branagh, William Shakespeare           eng  Intermediate   \n",
       "34                       Brandon Sanderson           eng  Intermediate   \n",
       "74                         Chelsea Handler           NaN  Intermediate   \n",
       "105                         Mark Cotta Vaz           eng  Intermediate   \n",
       "...                                    ...           ...           ...   \n",
       "1031                        Colleen Hoover         en-GB     Excellent   \n",
       "1032                          Blake Crouch           NaN  Intermediate   \n",
       "1033                      Michael Crichton           NaN  Intermediate   \n",
       "1059                        Beverly Cleary           NaN  Intermediate   \n",
       "1060                     Ursula K. Le Guin           NaN     Excellent   \n",
       "\n",
       "      book_average_rating  book_ratings_count          genre  gross_sales  \\\n",
       "22                   3.87              153821  genre fiction      2772.00   \n",
       "24                   4.12              156869  genre fiction      2639.34   \n",
       "34                   4.35              150736  genre fiction     17980.00   \n",
       "74                   3.85              127096  genre fiction      5462.31   \n",
       "105                  4.30              188136  genre fiction      7670.40   \n",
       "...                   ...                 ...            ...          ...   \n",
       "1031                 4.25               72611     nonfiction      1175.93   \n",
       "1032                 3.88               34789  genre fiction       105.93   \n",
       "1033                 3.76               57818  genre fiction       854.93   \n",
       "1059                 3.97               75987  genre fiction       740.94   \n",
       "1060                 4.11               65626     nonfiction       210.94   \n",
       "\n",
       "      publisher_revenue  sale_price  sales_rank  \\\n",
       "22                0.000        0.99          23   \n",
       "24             1583.604        0.99          25   \n",
       "34            10788.000        8.99          35   \n",
       "74             3277.386        3.99          76   \n",
       "105            4602.240        7.99         108   \n",
       "...                 ...         ...         ...   \n",
       "1031            705.558       10.99        1218   \n",
       "1032              0.000        0.99        1218   \n",
       "1033            512.958        7.99        1219   \n",
       "1059            444.564        6.99        1257   \n",
       "1060              0.000        1.99        1258   \n",
       "\n",
       "                           publisher  units_sold  \n",
       "22    Amazon Digital Services,  Inc.        2800  \n",
       "24    Amazon Digital Services,  Inc.        2666  \n",
       "34                  Random House LLC        2000  \n",
       "74               Hachette Book Group        1369  \n",
       "105          Penguin Group (USA) LLC         960  \n",
       "...                              ...         ...  \n",
       "1031  Amazon Digital Services,  Inc.         107  \n",
       "1032  Amazon Digital Services,  Inc.         107  \n",
       "1033                Random House LLC         107  \n",
       "1059                Random House LLC         106  \n",
       "1060  Amazon Digital Services,  Inc.         106  \n",
       "\n",
       "[72 rows x 15 columns]"
      ]
     },
     "execution_count": 13,
     "metadata": {},
     "output_type": "execute_result"
    }
   ],
   "source": [
    "# Check how many rows will be lost if we delete NaN values – 78 or approximately 7.3%.\n",
    "books_rates[books_rates.book_name.isnull() | books_rates.publishing_year.isnull() | books_rates.language_code.isnull()]"
   ]
  },
  {
   "cell_type": "code",
   "execution_count": 14,
   "id": "3637417c-009e-4aa5-bdd6-3126df858955",
   "metadata": {},
   "outputs": [],
   "source": [
    "books_rates = books_rates.dropna()"
   ]
  },
  {
   "cell_type": "code",
   "execution_count": 15,
   "id": "433a333e-acdc-48f7-bb4b-84809084f8f4",
   "metadata": {},
   "outputs": [
    {
     "data": {
      "text/plain": [
       "(998, 15)"
      ]
     },
     "execution_count": 15,
     "metadata": {},
     "output_type": "execute_result"
    }
   ],
   "source": [
    "books_rates.shape"
   ]
  },
  {
   "cell_type": "code",
   "execution_count": 16,
   "id": "880c6862-1ef4-43dd-bd6a-014a23c2e65f",
   "metadata": {},
   "outputs": [
    {
     "name": "stdout",
     "output_type": "stream",
     "text": [
      "\n",
      " AUTHOR ****\n",
      "Stephen King                 27\n",
      "Nicholas Sparks              10\n",
      "Jim Butcher                  10\n",
      "Charlaine Harris             10\n",
      "Jodi Picoult                  9\n",
      "                             ..\n",
      "Michael Connelly              1\n",
      "Ayn Rand                      1\n",
      "Judi Barrett, Ron Barrett     1\n",
      "Helen Simonson                1\n",
      "Dashiell Hammett              1\n",
      "Name: author, Length: 698, dtype: int64\n",
      "\n",
      " LANGUAGE_CODE ****\n",
      "eng      725\n",
      "en-US    228\n",
      "en-GB     29\n",
      "en-CA      7\n",
      "fre        4\n",
      "spa        2\n",
      "ara        2\n",
      "nl         1\n",
      "Name: language_code, dtype: int64\n",
      "\n",
      " AUTHOR_RATING ****\n",
      "Intermediate    589\n",
      "Excellent       333\n",
      "Famous           47\n",
      "Novice           29\n",
      "Name: author_rating, dtype: int64\n",
      "\n",
      " GENRE ****\n",
      "genre fiction    772\n",
      "nonfiction       156\n",
      "fiction           55\n",
      "children          15\n",
      "Name: genre, dtype: int64\n",
      "\n",
      " PUBLISHER ****\n",
      "Amazon Digital Services,  Inc.          566\n",
      "Random House LLC                        111\n",
      "Penguin Group (USA) LLC                  97\n",
      "HarperCollins Publishers                 65\n",
      "Hachette Book Group                      56\n",
      "Simon and Schuster Digital Sales Inc     55\n",
      "Macmillan                                40\n",
      "HarperCollins Publishing                  4\n",
      "HarperCollins Christian Publishing        4\n",
      "Name: publisher, dtype: int64\n"
     ]
    }
   ],
   "source": [
    "cat_columns = books_rates.select_dtypes(include='object')\n",
    "\n",
    "for col in cat_columns:\n",
    "    if col != 'book_name':\n",
    "        print('\\n',col.upper(), '****')\n",
    "        print(books_rates[col].value_counts())"
   ]
  },
  {
   "cell_type": "markdown",
   "id": "fb17af50-fbd2-467a-b6dd-9ea8debb8975",
   "metadata": {},
   "source": [
    "### Exploration of the data"
   ]
  },
  {
   "cell_type": "code",
   "execution_count": 20,
   "id": "d7afe103-747d-49c3-bc21-04b1c2b86b60",
   "metadata": {},
   "outputs": [
    {
     "name": "stdout",
     "output_type": "stream",
     "text": [
      "Top ten authors by sales\n"
     ]
    },
    {
     "data": {
      "text/plain": [
       "author\n",
       "Harper Lee                47795.00\n",
       "David Sedaris             42323.41\n",
       "Charlaine Harris          39453.08\n",
       "Stephen King              39203.89\n",
       "Laini Taylor              38278.41\n",
       "Unknown, Seamus Heaney    34160.00\n",
       "Sarah Dessen              31034.85\n",
       "Colleen Hoover            29706.14\n",
       "C.S. Lewis                28972.57\n",
       "Jeffrey Eugenides         27984.38\n",
       "Name: gross_sales, dtype: float64"
      ]
     },
     "execution_count": 20,
     "metadata": {},
     "output_type": "execute_result"
    }
   ],
   "source": [
    "#Best-selling author\n",
    "total_sales_per_author  = books_rates.groupby('author')['gross_sales'].sum()\n",
    "\n",
    "top_authors = total_sales_per_author.sort_values(ascending=False).head(10)\n",
    "\n",
    "print('Top ten authors by sales')\n",
    "top_authors"
   ]
  },
  {
   "cell_type": "code",
   "execution_count": 21,
   "id": "afdfdb6d-e469-4824-8346-b5abb4b7da12",
   "metadata": {},
   "outputs": [
    {
     "name": "stdout",
     "output_type": "stream",
     "text": [
      "Top ten selling books\n"
     ]
    },
    {
     "data": {
      "text/html": [
       "<div>\n",
       "<style scoped>\n",
       "    .dataframe tbody tr th:only-of-type {\n",
       "        vertical-align: middle;\n",
       "    }\n",
       "\n",
       "    .dataframe tbody tr th {\n",
       "        vertical-align: top;\n",
       "    }\n",
       "\n",
       "    .dataframe thead th {\n",
       "        text-align: right;\n",
       "    }\n",
       "</style>\n",
       "<table border=\"1\" class=\"dataframe\">\n",
       "  <thead>\n",
       "    <tr style=\"text-align: right;\">\n",
       "      <th></th>\n",
       "      <th>book_name</th>\n",
       "      <th>gross_sales</th>\n",
       "      <th>author</th>\n",
       "    </tr>\n",
       "  </thead>\n",
       "  <tbody>\n",
       "    <tr>\n",
       "      <th>0</th>\n",
       "      <td>Night Road</td>\n",
       "      <td>104.94</td>\n",
       "      <td>Kristin Hannah</td>\n",
       "    </tr>\n",
       "    <tr>\n",
       "      <th>1</th>\n",
       "      <td>Gray Mountain</td>\n",
       "      <td>104.94</td>\n",
       "      <td>John Grisham</td>\n",
       "    </tr>\n",
       "    <tr>\n",
       "      <th>2</th>\n",
       "      <td>Airframe</td>\n",
       "      <td>104.94</td>\n",
       "      <td>Michael Crichton</td>\n",
       "    </tr>\n",
       "    <tr>\n",
       "      <th>3</th>\n",
       "      <td>Intensity</td>\n",
       "      <td>104.94</td>\n",
       "      <td>Dean Koontz</td>\n",
       "    </tr>\n",
       "    <tr>\n",
       "      <th>4</th>\n",
       "      <td>The Carnivorous Carnival</td>\n",
       "      <td>105.93</td>\n",
       "      <td>Lemony Snicket, Brett Helquist</td>\n",
       "    </tr>\n",
       "    <tr>\n",
       "      <th>5</th>\n",
       "      <td>The Killer Angels</td>\n",
       "      <td>105.93</td>\n",
       "      <td>Michael Shaara</td>\n",
       "    </tr>\n",
       "    <tr>\n",
       "      <th>6</th>\n",
       "      <td>A Painted House</td>\n",
       "      <td>105.93</td>\n",
       "      <td>John Grisham</td>\n",
       "    </tr>\n",
       "    <tr>\n",
       "      <th>7</th>\n",
       "      <td>á¼ˆÎ½Ï„Î¹Î³ÏŒÎ½Î·</td>\n",
       "      <td>106.92</td>\n",
       "      <td>Sophocles, J.E. Thomas</td>\n",
       "    </tr>\n",
       "    <tr>\n",
       "      <th>8</th>\n",
       "      <td>Blood of the Fold</td>\n",
       "      <td>106.92</td>\n",
       "      <td>Terry Goodkind</td>\n",
       "    </tr>\n",
       "    <tr>\n",
       "      <th>9</th>\n",
       "      <td>Masquerade</td>\n",
       "      <td>106.92</td>\n",
       "      <td>Melissa de la Cruz</td>\n",
       "    </tr>\n",
       "  </tbody>\n",
       "</table>\n",
       "</div>"
      ],
      "text/plain": [
       "                  book_name  gross_sales                          author\n",
       "0                Night Road       104.94                  Kristin Hannah\n",
       "1             Gray Mountain       104.94                    John Grisham\n",
       "2                  Airframe       104.94                Michael Crichton\n",
       "3                 Intensity       104.94                     Dean Koontz\n",
       "4  The Carnivorous Carnival       105.93  Lemony Snicket, Brett Helquist\n",
       "5         The Killer Angels       105.93                  Michael Shaara\n",
       "6           A Painted House       105.93                    John Grisham\n",
       "7         á¼ˆÎ½Ï„Î¹Î³ÏŒÎ½Î·       106.92          Sophocles, J.E. Thomas\n",
       "8         Blood of the Fold       106.92                  Terry Goodkind\n",
       "9                Masquerade       106.92              Melissa de la Cruz"
      ]
     },
     "execution_count": 21,
     "metadata": {},
     "output_type": "execute_result"
    }
   ],
   "source": [
    "#Best-selling books\n",
    "best_selling_books = books_rates.groupby('book_name')['gross_sales'].sum().sort_values()\n",
    "authors = []\n",
    "for title in best_selling_books.index:\n",
    "    authors.append(books_rates.loc[books_rates['book_name'] == title, 'author'].iloc[0])\n",
    "\n",
    "result_df = pd.merge(best_selling_books, books_rates[['book_name', 'author']], on='book_name', how='left')\n",
    "print('Top ten selling books')\n",
    "result_df.head(10)"
   ]
  },
  {
   "cell_type": "code",
   "execution_count": 22,
   "id": "dd311b19-c2b6-4bb8-b752-dfd8f05632e0",
   "metadata": {},
   "outputs": [
    {
     "name": "stdout",
     "output_type": "stream",
     "text": [
      "Top ten books by average rating\n"
     ]
    },
    {
     "data": {
      "text/plain": [
       "book_name                             book_average_rating\n",
       " A Monster Calls                      4.36                   1\n",
       "The Electric Kool-Aid Acid Test       3.92                   1\n",
       "The Constant Princess                 3.88                   1\n",
       "The Corrections                       3.78                   1\n",
       "The DUFF: Designated Ugly Fat Friend  3.86                   1\n",
       "The Dark Half                         3.74                   1\n",
       "The Dark Tower                        4.27                   1\n",
       "The Darkest Minds                     4.26                   1\n",
       "The Day of the Jackal                 4.25                   1\n",
       "The Dead Zone                         3.90                   1\n",
       "Name: book_average_rating, dtype: int64"
      ]
     },
     "execution_count": 22,
     "metadata": {},
     "output_type": "execute_result"
    }
   ],
   "source": [
    "average_rating_by_book_name  = books_rates.groupby('book_name')['book_average_rating'].value_counts().sort_values(ascending= False).head(10)\n",
    "print('Top ten books by average rating')\n",
    "average_rating_by_book_name"
   ]
  },
  {
   "cell_type": "code",
   "execution_count": 35,
   "id": "e28ac3f7-3831-42b5-a15f-7fba0b1ac808",
   "metadata": {},
   "outputs": [
    {
     "name": "stdout",
     "output_type": "stream",
     "text": [
      "Top ten selling books\n"
     ]
    },
    {
     "data": {
      "text/html": [
       "<div>\n",
       "<style scoped>\n",
       "    .dataframe tbody tr th:only-of-type {\n",
       "        vertical-align: middle;\n",
       "    }\n",
       "\n",
       "    .dataframe tbody tr th {\n",
       "        vertical-align: top;\n",
       "    }\n",
       "\n",
       "    .dataframe thead th {\n",
       "        text-align: right;\n",
       "    }\n",
       "</style>\n",
       "<table border=\"1\" class=\"dataframe\">\n",
       "  <thead>\n",
       "    <tr style=\"text-align: right;\">\n",
       "      <th></th>\n",
       "      <th>book_name</th>\n",
       "      <th>book_average_rating</th>\n",
       "      <th>author</th>\n",
       "    </tr>\n",
       "  </thead>\n",
       "  <tbody>\n",
       "    <tr>\n",
       "      <th>347</th>\n",
       "      <td>Words of Radiance</td>\n",
       "      <td>4.77</td>\n",
       "      <td>Brandon Sanderson</td>\n",
       "    </tr>\n",
       "    <tr>\n",
       "      <th>668</th>\n",
       "      <td>A Court of Mist and Fury</td>\n",
       "      <td>4.72</td>\n",
       "      <td>Sarah J. Maas</td>\n",
       "    </tr>\n",
       "    <tr>\n",
       "      <th>20</th>\n",
       "      <td>The Essential Calvin and Hobbes: A Calvin and ...</td>\n",
       "      <td>4.65</td>\n",
       "      <td>Bill Watterson</td>\n",
       "    </tr>\n",
       "    <tr>\n",
       "      <th>467</th>\n",
       "      <td>The Way of Kings</td>\n",
       "      <td>4.64</td>\n",
       "      <td>Brandon Sanderson</td>\n",
       "    </tr>\n",
       "    <tr>\n",
       "      <th>688</th>\n",
       "      <td>Calvin and Hobbes</td>\n",
       "      <td>4.61</td>\n",
       "      <td>Bill Watterson, G.B. Trudeau</td>\n",
       "    </tr>\n",
       "    <tr>\n",
       "      <th>499</th>\n",
       "      <td>Queen of Shadows</td>\n",
       "      <td>4.60</td>\n",
       "      <td>Sarah J. Maas</td>\n",
       "    </tr>\n",
       "    <tr>\n",
       "      <th>112</th>\n",
       "      <td>The Hobbit and The Lord of the Rings</td>\n",
       "      <td>4.59</td>\n",
       "      <td>J.R.R. Tolkien</td>\n",
       "    </tr>\n",
       "    <tr>\n",
       "      <th>628</th>\n",
       "      <td>A Storm of Swords: Part 2 Blood and Gold</td>\n",
       "      <td>4.56</td>\n",
       "      <td>George R.R. Martin</td>\n",
       "    </tr>\n",
       "    <tr>\n",
       "      <th>117</th>\n",
       "      <td>The House of Hades</td>\n",
       "      <td>4.54</td>\n",
       "      <td>Rick Riordan</td>\n",
       "    </tr>\n",
       "    <tr>\n",
       "      <th>898</th>\n",
       "      <td>Heir of Fire</td>\n",
       "      <td>4.53</td>\n",
       "      <td>Sarah J. Maas</td>\n",
       "    </tr>\n",
       "  </tbody>\n",
       "</table>\n",
       "</div>"
      ],
      "text/plain": [
       "                                             book_name  book_average_rating  \\\n",
       "347                                  Words of Radiance                 4.77   \n",
       "668                           A Court of Mist and Fury                 4.72   \n",
       "20   The Essential Calvin and Hobbes: A Calvin and ...                 4.65   \n",
       "467                                   The Way of Kings                 4.64   \n",
       "688                                  Calvin and Hobbes                 4.61   \n",
       "499                                   Queen of Shadows                 4.60   \n",
       "112               The Hobbit and The Lord of the Rings                 4.59   \n",
       "628           A Storm of Swords: Part 2 Blood and Gold                 4.56   \n",
       "117                                 The House of Hades                 4.54   \n",
       "898                                       Heir of Fire                 4.53   \n",
       "\n",
       "                           author  \n",
       "347             Brandon Sanderson  \n",
       "668                 Sarah J. Maas  \n",
       "20                 Bill Watterson  \n",
       "467             Brandon Sanderson  \n",
       "688  Bill Watterson, G.B. Trudeau  \n",
       "499                 Sarah J. Maas  \n",
       "112                J.R.R. Tolkien  \n",
       "628            George R.R. Martin  \n",
       "117                  Rick Riordan  \n",
       "898                 Sarah J. Maas  "
      ]
     },
     "execution_count": 35,
     "metadata": {},
     "output_type": "execute_result"
    }
   ],
   "source": [
    "# average_ratings = books_rates.groupby('book_name')['book_average_rating'].value_counts().sort_values(ascending=False)\n",
    "average_ratings = books_rates.groupby('book_name')['book_average_rating'].agg(['count', 'mean']).sort_values(by='count', ascending=False)\n",
    "authors = []\n",
    "for title in average_ratings.index:\n",
    "    authors.append(books_rates.loc[books_rates['book_name'] == title, 'author'])\n",
    "\n",
    "result_df = pd.merge(average_ratings, books_rates[['book_name', 'book_average_rating','author']], on='book_name', how='left', suffixes=('_average', '_original'))\n",
    "result_df = result_df[['book_name', 'book_average_rating', 'author']]\n",
    "result_df = result_df.sort_values(by='book_average_rating', ascending=False)\n",
    "print('Top ten selling books')\n",
    "result_df.head(10)"
   ]
  },
  {
   "cell_type": "code",
   "execution_count": 43,
   "id": "92285551-5808-49c8-9367-d46fdbf817a1",
   "metadata": {},
   "outputs": [
    {
     "data": {
      "image/png": "[encoded data removed]",
      "text/plain": [
       "<Figure size 640x480 with 1 Axes>"
      ]
     },
     "metadata": {},
     "output_type": "display_data"
    }
   ],
   "source": [
    "plt.title(\"Book's Rating Histogram\")\n",
    "plt.grid(True)\n",
    "sns.histplot(books_rates['book_average_rating'], kde=True)\n",
    "plt.xlabel('Rating')\n",
    "plt.ylabel('Frequency')\n",
    "plt.show()"
   ]
  },
  {
   "cell_type": "code",
   "execution_count": 61,
   "id": "34170ec1-5150-4a87-aba0-274fe93da397",
   "metadata": {},
   "outputs": [
    {
     "name": "stdout",
     "output_type": "stream",
     "text": [
      "Skewness: -0.3818552646460938 \n",
      " Mean rating: 4.003056112224446 \n",
      " Kurtosis: 0.5372955126974732\n",
      "Most of the books receive slightly below the average rating.\n"
     ]
    }
   ],
   "source": [
    "print('Skewness:',skew(books_rates['book_average_rating']),'\\n',\n",
    "      'Mean rating:',books_rates['book_average_rating'].mean(),'\\n', \n",
    "      'Kurtosis:', kurtosis(books_rates['book_average_rating']))\n",
    "print('Most of the books receive slightly above the average rating.')"
   ]
  },
  {
   "cell_type": "code",
   "execution_count": 67,
   "id": "d2c48758-f7fe-47e5-9ec2-9c4bc5608ffb",
   "metadata": {},
   "outputs": [
    {
     "data": {
      "image/png": "[encoded data removed]",
      "text/plain": [
       "<Figure size 640x480 with 1 Axes>"
      ]
     },
     "metadata": {},
     "output_type": "display_data"
    }
   ],
   "source": [
    "plt.title(\"Histogram of authors' sales.\")\n",
    "plt.grid(True)\n",
    "sns.histplot(books_rates['gross_sales'], kde=True)\n",
    "plt.xlabel('Total sales')\n",
    "plt.ylabel('Frequency')\n",
    "plt.show()"
   ]
  },
  {
   "cell_type": "code",
   "execution_count": 69,
   "id": "423799e2-74d1-4797-9189-2e723954d1eb",
   "metadata": {},
   "outputs": [
    {
     "name": "stdout",
     "output_type": "stream",
     "text": [
      "Skewness: 5.862824974902485 \n",
      " Mean sales: 1885.0851503006031 \n",
      " Kurtosis: 44.64326806018543\n",
      "Most authors have achieved sales below 2000.\n"
     ]
    }
   ],
   "source": [
    "print('Skewness:',skew(books_rates['gross_sales']),'\\n',\n",
    "      'Mean sales:',books_rates['gross_sales'].mean(),'\\n', \n",
    "      'Kurtosis:', kurtosis(books_rates['gross_sales']))\n",
    "print('Most authors have achieved sales below 2000.')"
   ]
  },
  {
   "cell_type": "code",
   "execution_count": 66,
   "id": "8dad6f54-af84-4d5f-9967-8a924dd16ce4",
   "metadata": {},
   "outputs": [
    {
     "data": {
      "image/png": "[encoded data removed]",
      "text/plain": [
       "<Figure size 640x480 with 1 Axes>"
      ]
     },
     "metadata": {},
     "output_type": "display_data"
    },
    {
     "name": "stdout",
     "output_type": "stream",
     "text": [
      "Fiction Books from Novice Authors have the highest gross sales compared to others\n"
     ]
    }
   ],
   "source": [
    "plt.title('Gross Sales by Genre')\n",
    "sns.barplot(data=books_rates, x='genre', y='gross_sales', hue='author_rating')\n",
    "plt.show()\n",
    "print(\"Fiction Books from Novice Authors have the highest gross sales compared to others\")"
   ]
  },
  {
   "cell_type": "code",
   "execution_count": 55,
   "id": "f3138fd3-e23b-4453-981d-2bca7d754332",
   "metadata": {},
   "outputs": [
    {
     "data": {
      "image/png": "[encoded data removed]",
      "text/plain": [
       "<Figure size 640x480 with 1 Axes>"
      ]
     },
     "metadata": {},
     "output_type": "display_data"
    },
    {
     "name": "stdout",
     "output_type": "stream",
     "text": [
      "'Excellent' Author tends to sold more books\n",
      "and Children Books also tends to sold more.\n"
     ]
    }
   ],
   "source": [
    "plt.title(\"Total Units Sold by Author's Rating\")\n",
    "sns.barplot(data=books_rates, x='author_rating', y='units_sold', hue='genre')\n",
    "plt.show()\n",
    "print(\"'Excellent' Author tends to sold more books\")\n",
    "print(\"and Children Books also tends to sold more.\")"
   ]
  },
  {
   "cell_type": "code",
   "execution_count": 71,
   "id": "d6772b67-7318-4f49-95f8-4bf03f5e5106",
   "metadata": {},
   "outputs": [
    {
     "data": {
      "image/png": "[encoded data removed]",
      "text/plain": [
       "<Figure size 640x480 with 1 Axes>"
      ]
     },
     "metadata": {},
     "output_type": "display_data"
    },
    {
     "name": "stdout",
     "output_type": "stream",
     "text": [
      "Famous Authors have the most average rating, and Novice Authors are lowest one\n"
     ]
    }
   ],
   "source": [
    "plt.title('Average Book Rating by Author Rating')\n",
    "sns.boxplot(data=books_rates, x = 'author_rating', y = 'book_average_rating')\n",
    "plt.show()\n",
    "print(\"Famous Authors have the most average rating, and Novice Authors are lowest one\")"
   ]
  },
  {
   "cell_type": "code",
   "execution_count": 72,
   "id": "38cb9613-7630-4d99-978e-4e9232396116",
   "metadata": {},
   "outputs": [
    {
     "data": {
      "text/plain": [
       "Index(['index', 'publishing_year', 'book_name', 'author', 'language_code',\n",
       "       'author_rating', 'book_average_rating', 'book_ratings_count', 'genre',\n",
       "       'gross_sales', 'publisher_revenue', 'sale_price', 'sales_rank',\n",
       "       'publisher', 'units_sold'],\n",
       "      dtype='object')"
      ]
     },
     "execution_count": 72,
     "metadata": {},
     "output_type": "execute_result"
    }
   ],
   "source": [
    "books_rates.columns"
   ]
  },
  {
   "cell_type": "code",
   "execution_count": 75,
   "id": "a71e6af5-221e-40a4-a3da-5f1a24d1a2c6",
   "metadata": {},
   "outputs": [
    {
     "data": {
      "image/png": "[encoded data removed]",
      "text/plain": [
       "<Figure size 640x480 with 1 Axes>"
      ]
     },
     "metadata": {},
     "output_type": "display_data"
    },
    {
     "name": "stdout",
     "output_type": "stream",
     "text": [
      "Books from Intermediate Authors are rated more\n"
     ]
    }
   ],
   "source": [
    "plt.title(\"Book Ratings Count by Author Rating\")\n",
    "sns.boxplot(data=books_rates, x='author_rating', y='book_ratings_count')\n",
    "plt.show()\n",
    "print(\"Books from Intermediate Authors are rated more\")"
   ]
  },
  {
   "cell_type": "code",
   "execution_count": null,
   "id": "191b51cc-d4ce-41e4-afe0-902b59609723",
   "metadata": {},
   "outputs": [],
   "source": []
  }
 ],
 "metadata": {
  "kernelspec": {
   "display_name": "Python 3 (ipykernel)",
   "language": "python",
   "name": "python3"
  },
  "language_info": {
   "codemirror_mode": {
    "name": "ipython",
    "version": 3
   },
   "file_extension": ".py",
   "mimetype": "text/x-python",
   "name": "python",
   "nbconvert_exporter": "python",
   "pygments_lexer": "ipython3",
   "version": "3.9.13"
  }
 },
 "nbformat": 4,
 "nbformat_minor": 5
}
