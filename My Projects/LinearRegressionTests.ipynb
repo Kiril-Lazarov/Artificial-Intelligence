{
 "cells": [
  {
   "cell_type": "code",
   "execution_count": 1,
   "id": "4f91ff93-d572-47b2-8695-987c1b6ab618",
   "metadata": {},
   "outputs": [],
   "source": [
    "%matplotlib inline"
   ]
  },
  {
   "cell_type": "code",
   "execution_count": 2,
   "id": "1e1c822d-030b-47f2-93ad-c50c328c4fcd",
   "metadata": {},
   "outputs": [],
   "source": [
    "import matplotlib.pyplot as plt\n",
    "import numpy as np"
   ]
  },
  {
   "cell_type": "code",
   "execution_count": 5,
   "id": "0946cae6-e594-4c7d-928e-2a042a40aeeb",
   "metadata": {},
   "outputs": [
    {
     "name": "stdout",
     "output_type": "stream",
     "text": [
      "RandomState(MT19937)\n"
     ]
    },
    {
     "data": {
      "image/png": "[encoded data removed]",
      "text/plain": [
       "<Figure size 640x480 with 1 Axes>"
      ]
     },
     "metadata": {},
     "output_type": "display_data"
    }
   ],
   "source": [
    "rng = np.random.RandomState(45)\n",
    "x = 10 * rng.rand(50)\n",
    "y = 2 * x - 1 + rng.randn(50)\n",
    "plt.scatter(x, y)"
   ]
  },
  {
   "cell_type": "code",
   "execution_count": 9,
   "id": "0809d02b-bcb1-4a38-a652-a0bd36f9e14a",
   "metadata": {},
   "outputs": [
    {
     "name": "stdout",
     "output_type": "stream",
     "text": [
      "0.4852200090644587 9.907216847578 4.6776317945460555 2.8749150590913586\n"
     ]
    }
   ],
   "source": [
    "print(x.min(), x.max(), x.mean(), x.std())"
   ]
  },
  {
   "cell_type": "code",
   "execution_count": 10,
   "id": "ea141af3-a29c-46f8-9cf7-0003aad55a85",
   "metadata": {},
   "outputs": [
    {
     "name": "stdout",
     "output_type": "stream",
     "text": [
      "-0.6852640940683786 18.791865933737736 8.374991952836583 5.900134330703303\n"
     ]
    }
   ],
   "source": [
    "print(y.min(), y.max(), y.mean(), y.std())"
   ]
  },
  {
   "cell_type": "code",
   "execution_count": 20,
   "id": "ae298ab2-c418-47cf-baa8-c06fabefe521",
   "metadata": {},
   "outputs": [
    {
     "data": {
      "text/plain": [
       "array([18.3399541 ,  9.56644571,  4.85702766,  1.12483549,  7.03520157,\n",
       "        7.61481906, -0.68526409,  2.11960626, -0.09296127, 11.27727683,\n",
       "       17.25294428, 10.66179035, 18.56513767, 10.17050718, 10.77393024,\n",
       "        3.74553245, 18.79186593, 12.45679831,  8.66472471,  3.20374192,\n",
       "        9.25004267,  1.35508048,  3.44825821,  7.85717004,  4.05887853,\n",
       "        7.96268219, 15.46178162,  0.65474963, 17.83674233,  3.27101479,\n",
       "       12.45615529,  1.52541901, 12.50450058,  7.78801492, 15.50401564,\n",
       "        5.18535474,  9.07570714, 11.36515484,  2.15574119,  1.42611842,\n",
       "       15.34933918,  6.94436273, 15.45460152,  7.44378268,  0.06074899,\n",
       "       16.6918466 , 13.74984509,  1.86969834, 15.92070187, -0.32182599])"
      ]
     },
     "execution_count": 20,
     "metadata": {},
     "output_type": "execute_result"
    }
   ],
   "source": [
    "y"
   ]
  },
  {
   "cell_type": "code",
   "execution_count": 63,
   "id": "e0a26850-e472-4733-b3f9-d55503b97584",
   "metadata": {},
   "outputs": [],
   "source": [
    "def get_slope(point_1,point_2):\n",
    "    range_x = point_2[0] - point_1[0]\n",
    "    range_y = point_2[1] - point_1[1]\n",
    "    slope = range_y/range_x\n",
    "    print(range_x, range_y, slope)\n",
    "    return slope"
   ]
  },
  {
   "cell_type": "code",
   "execution_count": 77,
   "id": "a53d5f90-fc6a-41f5-b505-46124fe50691",
   "metadata": {},
   "outputs": [],
   "source": [
    "def get_center_point(point_1, point_2):\n",
    "    return (point_2[0],point_1[0]).mean()"
   ]
  },
  {
   "cell_type": "code",
   "execution_count": 74,
   "id": "71bb7438-f272-4479-912f-0b6220c31dc6",
   "metadata": {},
   "outputs": [],
   "source": [
    "def find_parameters(x, y):\n",
    "    points = list(zip(x, y))\n",
    "    \n",
    "    points_x_sorted = sorted(points, key= lambda x: x[0])\n",
    "    points_y_sorted = sorted(points, key= lambda x: x[1])\n",
    "    slopes_list = []\n",
    "    center_points = []\n",
    "    for i in range(len(points_x_sorted)):\n",
    "        point_1, point_2 = points_x_sorted[i],points_x_sorted[(i+1)*-1]\n",
    "        # print(points_x_sorted[i], '---------',points_x_sorted[(i+1)*-1] )\n",
    "        slopes_list.append(get_slope(point_1, point_2))\n",
    "        center_points.append(get_center_point(point_1, point_2))\n",
    "        if i == 20:\n",
    "            break\n",
    "    slopes_list = np.array(slopes_list)\n",
    "    slope = slopes_list.mean()\n",
    "    \n",
    "    center_point = np.array(center_points).mean()\n",
    "    \n",
    "    intercept =  \n",
    "    # print('Slopes list:', slopes_list)\n",
    "    print(slope)"
   ]
  },
  {
   "cell_type": "code",
   "execution_count": 75,
   "id": "45ae29b2-fdc1-403f-a7d7-b7ed1809f973",
   "metadata": {},
   "outputs": [
    {
     "name": "stdout",
     "output_type": "stream",
     "text": [
      "9.421996838513541 19.250401760966103 2.043133965220385\n",
      "9.220732422872508 18.661780085747353 2.023893464195516\n",
      "9.01462530655995 18.13711630716471 2.0119656325556114\n",
      "8.458599729484964 16.71190684198577 1.9757297160819005\n",
      "7.930643085093691 16.631097605739058 2.097067971322351\n",
      "7.459407263298918 15.826825853758043 2.1217270079390516\n",
      "7.453036149111176 14.395282859324162 1.9314655895021917\n",
      "7.2436855463606165 14.148935158622153 1.953278488977325\n",
      "7.098032539992609 15.547562793507003 2.190404553079605\n",
      "6.969411521305775 13.592083282752396 1.9502483446702559\n",
      "5.784296797523428 11.630238828005147 2.0106573426496173\n",
      "5.017411142985663 12.078324390846541 2.4072821713508628\n",
      "4.794166952657103 9.007897078373082 1.8789285328039265\n",
      "4.303098423515622 8.397919782558851 1.951598349846195\n",
      "4.000719932435935 5.47643560673599 1.3688625295501577\n",
      "3.7544148291287085 9.121535638909398 2.4295492251255153\n",
      "3.3684718161229537 5.916902580555281 1.7565539816110207\n",
      "3.18336916992019 8.758968134152092 2.7514773394540626\n",
      "2.677453624299809 8.161412921203418 3.048199545692501\n",
      "2.3947078932850303 2.622082984205373 1.0949489879571208\n",
      "1.2171716643997428 1.2873604782885328 1.0576655010477953\n",
      "2.002601820982522\n"
     ]
    }
   ],
   "source": [
    "find_parameters(x,y)"
   ]
  },
  {
   "cell_type": "code",
   "execution_count": null,
   "id": "dfe72a1c-1fa2-4b55-9483-4f2cbfe6e616",
   "metadata": {},
   "outputs": [],
   "source": []
  }
 ],
 "metadata": {
  "kernelspec": {
   "display_name": "Python 3 (ipykernel)",
   "language": "python",
   "name": "python3"
  },
  "language_info": {
   "codemirror_mode": {
    "name": "ipython",
    "version": 3
   },
   "file_extension": ".py",
   "mimetype": "text/x-python",
   "name": "python",
   "nbconvert_exporter": "python",
   "pygments_lexer": "ipython3",
   "version": "3.9.13"
  }
 },
 "nbformat": 4,
 "nbformat_minor": 5
}
