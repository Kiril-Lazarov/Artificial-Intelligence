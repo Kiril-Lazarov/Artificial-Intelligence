{
 "cells": [
  {
   "cell_type": "code",
   "execution_count": null,
   "id": "3f6c3e1f-ffa6-4e61-908d-4427bfa730b9",
   "metadata": {},
   "outputs": [],
   "source": [
    "# Dataset overview function\n",
    "def check_df(dataframe, head=5):\n",
    "    print(\"######################### SHAPE #########################\")\n",
    "    print(dataframe.shape)\n",
    "    print(\"######################### DTYPES #########################\")\n",
    "    print(dataframe.dtypes)\n",
    "    print(\"######################### NULL VALUES #########################\")\n",
    "    print(dataframe.isnull().sum())\n",
    "    print(\"######################### INFO #########################\")\n",
    "    print(dataframe.info())\n",
    "    print(\"######################### HEAD #########################\")\n",
    "    print(dataframe.head(head))\n",
    "    print(\"######################### TAIL #########################\")\n",
    "    print(dataframe.tail(head))\n",
    "    print(\"######################### DESCRIBE #########################\")\n",
    "    print(dataframe.describe().T)\n",
    "    \n",
    "check_df(dataframe)"
   ]
  },
  {
   "cell_type": "code",
   "execution_count": null,
   "id": "d0369aa1-0911-49d7-ba2f-a3fefd27baf8",
   "metadata": {},
   "outputs": [],
   "source": [
    "# Check for unique values function\n",
    "def check_uniques(dataframe):\n",
    "    for col in dataframe.columns:\n",
    "        print(' '*20)\n",
    "        print(col.upper())\n",
    "        print(dataframe[col].unique())\n",
    "check_uniques(dataframe)"
   ]
  }
 ],
 "metadata": {
  "kernelspec": {
   "display_name": "Python 3 (ipykernel)",
   "language": "python",
   "name": "python3"
  },
  "language_info": {
   "codemirror_mode": {
    "name": "ipython",
    "version": 3
   },
   "file_extension": ".py",
   "mimetype": "text/x-python",
   "name": "python",
   "nbconvert_exporter": "python",
   "pygments_lexer": "ipython3",
   "version": "3.9.13"
  }
 },
 "nbformat": 4,
 "nbformat_minor": 5
}
