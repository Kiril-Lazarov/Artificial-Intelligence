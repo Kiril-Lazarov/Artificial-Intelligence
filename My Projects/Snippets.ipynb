{
 "cells": [
  {
   "cell_type": "code",
   "execution_count": null,
   "id": "3f6c3e1f-ffa6-4e61-908d-4427bfa730b9",
   "metadata": {},
   "outputs": [],
   "source": [
    "# Dataset overview function\n",
    "def check_df(dataframe, head=5):\n",
    "    print(\"######################### SHAPE #########################\")\n",
    "    print(dataframe.shape)\n",
    "    print(\"######################### DTYPES #########################\")\n",
    "    print(dataframe.dtypes)\n",
    "    print(\"######################### NULL VALUES #########################\")\n",
    "    print(dataframe.isnull().sum())\n",
    "    print(\"######################### INFO #########################\")\n",
    "    print(dataframe.info())\n",
    "    print(\"######################### HEAD #########################\")\n",
    "    print(dataframe.head(head))\n",
    "    print(\"######################### TAIL #########################\")\n",
    "    print(dataframe.tail(head))\n",
    "    print(\"######################### DESCRIBE #########################\")\n",
    "    print(dataframe.describe().T)\n",
    "    \n",
    "check_df(dataframe)"
   ]
  },
  {
   "cell_type": "code",
   "execution_count": null,
   "id": "d0369aa1-0911-49d7-ba2f-a3fefd27baf8",
   "metadata": {},
   "outputs": [],
   "source": [
    "# Check for unique values function\n",
    "def check_uniques(dataframe):\n",
    "    for col in dataframe.columns:\n",
    "        print(' '*20)\n",
    "        print(col.upper())\n",
    "        print(dataframe[col].unique())\n",
    "check_uniques(dataframe)"
   ]
  },
  {
   "cell_type": "code",
   "execution_count": null,
   "id": "a2126a36-9b6e-49d7-be3f-bd6097ac44eb",
   "metadata": {},
   "outputs": [],
   "source": [
    "# Plot histogram function\n",
    "def view_histogram(dataframe, columns = None):    \n",
    "    num_columns = dataframe.select_dtypes(include=['int64','float64']).columns if columns is None else \\\n",
    "    columns\n",
    "    \n",
    "    for col in num_columns:    \n",
    "        mean_value = dataframe[col]. mean()\n",
    "        \n",
    "        plt.figure(figsize=(5,5))\n",
    "        plt.grid(True)\n",
    "        plt.title(dataframe[col].name)\n",
    "        sns.histplot(dataframe[col], kde=True)\n",
    "        plt.axvline(mean_value, color='red', linestyle='dashed', linewidth=2, label='Mean')\n",
    "        plt.legend()\n",
    "        plt.show()\n",
    "        \n",
    "        print('Min:', dataframe[col].min())\n",
    "        print('Max:', dataframe[col].max())\n",
    "        print('Mean:', mean_value)\n",
    "        print('Std:', dataframe[col].std())\n",
    "        print('Skewness:', dataframe[col].skew())\n",
    "        print('Kurtosis', dataframe[col].kurt())\n",
    "        \n",
    "view_histogram(dataframe)"
   ]
  },
  {
   "cell_type": "code",
   "execution_count": null,
   "id": "14820ea4-0891-4922-8eb0-14fd3cbf8e60",
   "metadata": {},
   "outputs": [],
   "source": [
    "# Plot countplot\n",
    "def show_countplot(dataframe, feature):\n",
    "    plt.figure(figsize=(15,4))\n",
    "    total = float(len(dataframe))\n",
    "    countplot = sns.countplot(x=feature, data=dataframe)\n",
    "    for p in countplot.patches:\n",
    "        height = p.get_height()\n",
    "        countplot.text(p.get_x()+p.get_width()/2.,\n",
    "                height + 3,'{:1.2f}'.format((height/total)*100),ha=\"center\")"
   ]
  }
 ],
 "metadata": {
  "kernelspec": {
   "display_name": "Python 3 (ipykernel)",
   "language": "python",
   "name": "python3"
  },
  "language_info": {
   "codemirror_mode": {
    "name": "ipython",
    "version": 3
   },
   "file_extension": ".py",
   "mimetype": "text/x-python",
   "name": "python",
   "nbconvert_exporter": "python",
   "pygments_lexer": "ipython3",
   "version": "3.9.13"
  }
 },
 "nbformat": 4,
 "nbformat_minor": 5
}
