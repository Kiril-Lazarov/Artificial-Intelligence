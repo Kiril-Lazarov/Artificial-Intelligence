{
 "cells": [
  {
   "cell_type": "code",
   "execution_count": 1,
   "id": "f4eb2f66-8e41-4cb3-b89b-d258f7ce9ba9",
   "metadata": {},
   "outputs": [],
   "source": [
    "%matplotlib inline"
   ]
  },
  {
   "cell_type": "code",
   "execution_count": 2,
   "id": "a8e01b59-da69-4898-97a3-c44834bb02f9",
   "metadata": {},
   "outputs": [],
   "source": [
    "import numpy as np\n",
    "import matplotlib.pyplot as plt\n",
    "import pandas as pd\n",
    "\n",
    "from sklearn.preprocessing import LabelEncoder"
   ]
  },
  {
   "cell_type": "markdown",
   "id": "44b86bff-3269-415e-8a4e-4afb79953a28",
   "metadata": {},
   "source": [
    "# Health Care Dataset"
   ]
  },
  {
   "cell_type": "markdown",
   "id": "1a588900-fbfd-40ee-a98f-e22ee6493f8d",
   "metadata": {},
   "source": [
    "## Understanding the data"
   ]
  },
  {
   "cell_type": "code",
   "execution_count": 3,
   "id": "f316adeb-1a42-4666-bd37-365eaf5e8776",
   "metadata": {},
   "outputs": [],
   "source": [
    "health_care = pd.read_csv('data/healthcare_dataset.csv')"
   ]
  },
  {
   "cell_type": "code",
   "execution_count": 4,
   "id": "269e2c27-96a7-4725-ac22-20dc88cd07b7",
   "metadata": {},
   "outputs": [
    {
     "data": {
      "text/html": [
       "<div>\n",
       "<style scoped>\n",
       "    .dataframe tbody tr th:only-of-type {\n",
       "        vertical-align: middle;\n",
       "    }\n",
       "\n",
       "    .dataframe tbody tr th {\n",
       "        vertical-align: top;\n",
       "    }\n",
       "\n",
       "    .dataframe thead th {\n",
       "        text-align: right;\n",
       "    }\n",
       "</style>\n",
       "<table border=\"1\" class=\"dataframe\">\n",
       "  <thead>\n",
       "    <tr style=\"text-align: right;\">\n",
       "      <th></th>\n",
       "      <th>Name</th>\n",
       "      <th>Age</th>\n",
       "      <th>Gender</th>\n",
       "      <th>Blood Type</th>\n",
       "      <th>Medical Condition</th>\n",
       "      <th>Date of Admission</th>\n",
       "      <th>Doctor</th>\n",
       "      <th>Hospital</th>\n",
       "      <th>Insurance Provider</th>\n",
       "      <th>Billing Amount</th>\n",
       "      <th>Room Number</th>\n",
       "      <th>Admission Type</th>\n",
       "      <th>Discharge Date</th>\n",
       "      <th>Medication</th>\n",
       "      <th>Test Results</th>\n",
       "    </tr>\n",
       "  </thead>\n",
       "  <tbody>\n",
       "    <tr>\n",
       "      <th>0</th>\n",
       "      <td>Tiffany Ramirez</td>\n",
       "      <td>81</td>\n",
       "      <td>Female</td>\n",
       "      <td>O-</td>\n",
       "      <td>Diabetes</td>\n",
       "      <td>2022-11-17</td>\n",
       "      <td>Patrick Parker</td>\n",
       "      <td>Wallace-Hamilton</td>\n",
       "      <td>Medicare</td>\n",
       "      <td>37490.983364</td>\n",
       "      <td>146</td>\n",
       "      <td>Elective</td>\n",
       "      <td>2022-12-01</td>\n",
       "      <td>Aspirin</td>\n",
       "      <td>Inconclusive</td>\n",
       "    </tr>\n",
       "    <tr>\n",
       "      <th>1</th>\n",
       "      <td>Ruben Burns</td>\n",
       "      <td>35</td>\n",
       "      <td>Male</td>\n",
       "      <td>O+</td>\n",
       "      <td>Asthma</td>\n",
       "      <td>2023-06-01</td>\n",
       "      <td>Diane Jackson</td>\n",
       "      <td>Burke, Griffin and Cooper</td>\n",
       "      <td>UnitedHealthcare</td>\n",
       "      <td>47304.064845</td>\n",
       "      <td>404</td>\n",
       "      <td>Emergency</td>\n",
       "      <td>2023-06-15</td>\n",
       "      <td>Lipitor</td>\n",
       "      <td>Normal</td>\n",
       "    </tr>\n",
       "    <tr>\n",
       "      <th>2</th>\n",
       "      <td>Chad Byrd</td>\n",
       "      <td>61</td>\n",
       "      <td>Male</td>\n",
       "      <td>B-</td>\n",
       "      <td>Obesity</td>\n",
       "      <td>2019-01-09</td>\n",
       "      <td>Paul Baker</td>\n",
       "      <td>Walton LLC</td>\n",
       "      <td>Medicare</td>\n",
       "      <td>36874.896997</td>\n",
       "      <td>292</td>\n",
       "      <td>Emergency</td>\n",
       "      <td>2019-02-08</td>\n",
       "      <td>Lipitor</td>\n",
       "      <td>Normal</td>\n",
       "    </tr>\n",
       "    <tr>\n",
       "      <th>3</th>\n",
       "      <td>Antonio Frederick</td>\n",
       "      <td>49</td>\n",
       "      <td>Male</td>\n",
       "      <td>B-</td>\n",
       "      <td>Asthma</td>\n",
       "      <td>2020-05-02</td>\n",
       "      <td>Brian Chandler</td>\n",
       "      <td>Garcia Ltd</td>\n",
       "      <td>Medicare</td>\n",
       "      <td>23303.322092</td>\n",
       "      <td>480</td>\n",
       "      <td>Urgent</td>\n",
       "      <td>2020-05-03</td>\n",
       "      <td>Penicillin</td>\n",
       "      <td>Abnormal</td>\n",
       "    </tr>\n",
       "    <tr>\n",
       "      <th>4</th>\n",
       "      <td>Mrs. Brandy Flowers</td>\n",
       "      <td>51</td>\n",
       "      <td>Male</td>\n",
       "      <td>O-</td>\n",
       "      <td>Arthritis</td>\n",
       "      <td>2021-07-09</td>\n",
       "      <td>Dustin Griffin</td>\n",
       "      <td>Jones, Brown and Murray</td>\n",
       "      <td>UnitedHealthcare</td>\n",
       "      <td>18086.344184</td>\n",
       "      <td>477</td>\n",
       "      <td>Urgent</td>\n",
       "      <td>2021-08-02</td>\n",
       "      <td>Paracetamol</td>\n",
       "      <td>Normal</td>\n",
       "    </tr>\n",
       "  </tbody>\n",
       "</table>\n",
       "</div>"
      ],
      "text/plain": [
       "                  Name  Age  Gender Blood Type Medical Condition  \\\n",
       "0      Tiffany Ramirez   81  Female         O-          Diabetes   \n",
       "1          Ruben Burns   35    Male         O+            Asthma   \n",
       "2            Chad Byrd   61    Male         B-           Obesity   \n",
       "3    Antonio Frederick   49    Male         B-            Asthma   \n",
       "4  Mrs. Brandy Flowers   51    Male         O-         Arthritis   \n",
       "\n",
       "  Date of Admission          Doctor                   Hospital  \\\n",
       "0        2022-11-17  Patrick Parker           Wallace-Hamilton   \n",
       "1        2023-06-01   Diane Jackson  Burke, Griffin and Cooper   \n",
       "2        2019-01-09      Paul Baker                 Walton LLC   \n",
       "3        2020-05-02  Brian Chandler                 Garcia Ltd   \n",
       "4        2021-07-09  Dustin Griffin    Jones, Brown and Murray   \n",
       "\n",
       "  Insurance Provider  Billing Amount  Room Number Admission Type  \\\n",
       "0           Medicare    37490.983364          146       Elective   \n",
       "1   UnitedHealthcare    47304.064845          404      Emergency   \n",
       "2           Medicare    36874.896997          292      Emergency   \n",
       "3           Medicare    23303.322092          480         Urgent   \n",
       "4   UnitedHealthcare    18086.344184          477         Urgent   \n",
       "\n",
       "  Discharge Date   Medication  Test Results  \n",
       "0     2022-12-01      Aspirin  Inconclusive  \n",
       "1     2023-06-15      Lipitor        Normal  \n",
       "2     2019-02-08      Lipitor        Normal  \n",
       "3     2020-05-03   Penicillin      Abnormal  \n",
       "4     2021-08-02  Paracetamol        Normal  "
      ]
     },
     "execution_count": 4,
     "metadata": {},
     "output_type": "execute_result"
    }
   ],
   "source": [
    "health_care.head()"
   ]
  },
  {
   "cell_type": "code",
   "execution_count": 5,
   "id": "bcde0574-dba2-426c-98f9-5966cf4645d3",
   "metadata": {},
   "outputs": [
    {
     "data": {
      "text/html": [
       "<div>\n",
       "<style scoped>\n",
       "    .dataframe tbody tr th:only-of-type {\n",
       "        vertical-align: middle;\n",
       "    }\n",
       "\n",
       "    .dataframe tbody tr th {\n",
       "        vertical-align: top;\n",
       "    }\n",
       "\n",
       "    .dataframe thead th {\n",
       "        text-align: right;\n",
       "    }\n",
       "</style>\n",
       "<table border=\"1\" class=\"dataframe\">\n",
       "  <thead>\n",
       "    <tr style=\"text-align: right;\">\n",
       "      <th></th>\n",
       "      <th>count</th>\n",
       "      <th>mean</th>\n",
       "      <th>std</th>\n",
       "      <th>min</th>\n",
       "      <th>25%</th>\n",
       "      <th>50%</th>\n",
       "      <th>75%</th>\n",
       "      <th>max</th>\n",
       "    </tr>\n",
       "  </thead>\n",
       "  <tbody>\n",
       "    <tr>\n",
       "      <th>Age</th>\n",
       "      <td>10000.0</td>\n",
       "      <td>51.452200</td>\n",
       "      <td>19.588974</td>\n",
       "      <td>18.000000</td>\n",
       "      <td>35.000000</td>\n",
       "      <td>52.000000</td>\n",
       "      <td>68.000000</td>\n",
       "      <td>85.000000</td>\n",
       "    </tr>\n",
       "    <tr>\n",
       "      <th>Billing Amount</th>\n",
       "      <td>10000.0</td>\n",
       "      <td>25516.806778</td>\n",
       "      <td>14067.292709</td>\n",
       "      <td>1000.180837</td>\n",
       "      <td>13506.523967</td>\n",
       "      <td>25258.112566</td>\n",
       "      <td>37733.913727</td>\n",
       "      <td>49995.902283</td>\n",
       "    </tr>\n",
       "    <tr>\n",
       "      <th>Room Number</th>\n",
       "      <td>10000.0</td>\n",
       "      <td>300.082000</td>\n",
       "      <td>115.806027</td>\n",
       "      <td>101.000000</td>\n",
       "      <td>199.000000</td>\n",
       "      <td>299.000000</td>\n",
       "      <td>400.000000</td>\n",
       "      <td>500.000000</td>\n",
       "    </tr>\n",
       "  </tbody>\n",
       "</table>\n",
       "</div>"
      ],
      "text/plain": [
       "                  count          mean           std          min  \\\n",
       "Age             10000.0     51.452200     19.588974    18.000000   \n",
       "Billing Amount  10000.0  25516.806778  14067.292709  1000.180837   \n",
       "Room Number     10000.0    300.082000    115.806027   101.000000   \n",
       "\n",
       "                         25%           50%           75%           max  \n",
       "Age                35.000000     52.000000     68.000000     85.000000  \n",
       "Billing Amount  13506.523967  25258.112566  37733.913727  49995.902283  \n",
       "Room Number       199.000000    299.000000    400.000000    500.000000  "
      ]
     },
     "execution_count": 5,
     "metadata": {},
     "output_type": "execute_result"
    }
   ],
   "source": [
    "health_care.describe().T"
   ]
  },
  {
   "cell_type": "code",
   "execution_count": 6,
   "id": "b3f8d32c-d790-41f4-b86c-b4590ff02f5d",
   "metadata": {},
   "outputs": [
    {
     "name": "stdout",
     "output_type": "stream",
     "text": [
      "<class 'pandas.core.frame.DataFrame'>\n",
      "RangeIndex: 10000 entries, 0 to 9999\n",
      "Data columns (total 15 columns):\n",
      " #   Column              Non-Null Count  Dtype  \n",
      "---  ------              --------------  -----  \n",
      " 0   Name                10000 non-null  object \n",
      " 1   Age                 10000 non-null  int64  \n",
      " 2   Gender              10000 non-null  object \n",
      " 3   Blood Type          10000 non-null  object \n",
      " 4   Medical Condition   10000 non-null  object \n",
      " 5   Date of Admission   10000 non-null  object \n",
      " 6   Doctor              10000 non-null  object \n",
      " 7   Hospital            10000 non-null  object \n",
      " 8   Insurance Provider  10000 non-null  object \n",
      " 9   Billing Amount      10000 non-null  float64\n",
      " 10  Room Number         10000 non-null  int64  \n",
      " 11  Admission Type      10000 non-null  object \n",
      " 12  Discharge Date      10000 non-null  object \n",
      " 13  Medication          10000 non-null  object \n",
      " 14  Test Results        10000 non-null  object \n",
      "dtypes: float64(1), int64(2), object(12)\n",
      "memory usage: 1.1+ MB\n"
     ]
    }
   ],
   "source": [
    "health_care.info()"
   ]
  },
  {
   "cell_type": "code",
   "execution_count": 7,
   "id": "8bf1bc38-0d0b-4468-93e6-25fddb78ae4d",
   "metadata": {},
   "outputs": [
    {
     "data": {
      "text/plain": [
       "array(['O-', 'O+', 'B-', 'AB+', 'A+', 'AB-', 'A-', 'B+'], dtype=object)"
      ]
     },
     "execution_count": 7,
     "metadata": {},
     "output_type": "execute_result"
    }
   ],
   "source": [
    "# Check the unique values in some columns\n",
    "health_care['Blood Type'].unique()"
   ]
  },
  {
   "cell_type": "code",
   "execution_count": 8,
   "id": "9fbd6c04-47bb-46b1-8ca0-50ada0f25086",
   "metadata": {},
   "outputs": [
    {
     "data": {
      "text/plain": [
       "array(['Diabetes', 'Asthma', 'Obesity', 'Arthritis', 'Hypertension',\n",
       "       'Cancer'], dtype=object)"
      ]
     },
     "execution_count": 8,
     "metadata": {},
     "output_type": "execute_result"
    }
   ],
   "source": [
    "health_care['Medical Condition'].unique()"
   ]
  },
  {
   "cell_type": "code",
   "execution_count": 9,
   "id": "9c9b83ef-4010-4940-8efa-1f44529af028",
   "metadata": {},
   "outputs": [
    {
     "data": {
      "text/plain": [
       "(array(['Patrick Parker', 'Diane Jackson', 'Paul Baker', ...,\n",
       "        'Robert Nicholson', 'Jamie Lewis', 'Tasha Avila'], dtype=object),\n",
       " 9416)"
      ]
     },
     "execution_count": 9,
     "metadata": {},
     "output_type": "execute_result"
    }
   ],
   "source": [
    "health_care.Doctor.unique(), len(health_care.Doctor.unique())"
   ]
  },
  {
   "cell_type": "code",
   "execution_count": 10,
   "id": "2832077e-29e5-43a2-b6e0-d29f40dc3e5a",
   "metadata": {},
   "outputs": [
    {
     "data": {
      "text/plain": [
       "(array(['Wallace-Hamilton', 'Burke, Griffin and Cooper', 'Walton LLC', ...,\n",
       "        'Nash-Krueger', 'Wilson-Lyons', 'Torres, Young and Stewart'],\n",
       "       dtype=object),\n",
       " 8639)"
      ]
     },
     "execution_count": 10,
     "metadata": {},
     "output_type": "execute_result"
    }
   ],
   "source": [
    "health_care.Hospital.unique(), len(health_care.Hospital.unique())"
   ]
  },
  {
   "cell_type": "code",
   "execution_count": 11,
   "id": "6ffd2f8c-662e-458c-af9e-0d3092c075ea",
   "metadata": {},
   "outputs": [
    {
     "data": {
      "text/plain": [
       "(array(['Medicare', 'UnitedHealthcare', 'Aetna', 'Cigna', 'Blue Cross'],\n",
       "       dtype=object),\n",
       " 5)"
      ]
     },
     "execution_count": 11,
     "metadata": {},
     "output_type": "execute_result"
    }
   ],
   "source": [
    "health_care['Insurance Provider'].unique(), len(health_care['Insurance Provider'].unique())"
   ]
  },
  {
   "cell_type": "code",
   "execution_count": 12,
   "id": "90f1b8d7-bf26-40aa-bddd-a403e22ba186",
   "metadata": {},
   "outputs": [
    {
     "data": {
      "text/plain": [
       "(array(['Elective', 'Emergency', 'Urgent'], dtype=object), 3)"
      ]
     },
     "execution_count": 12,
     "metadata": {},
     "output_type": "execute_result"
    }
   ],
   "source": [
    "health_care['Admission Type'].unique(), len(health_care['Admission Type'].unique())"
   ]
  },
  {
   "cell_type": "code",
   "execution_count": 13,
   "id": "2c65c6bc-8c71-452a-b914-5366bf06a498",
   "metadata": {},
   "outputs": [
    {
     "data": {
      "text/plain": [
       "(array(['Aspirin', 'Lipitor', 'Penicillin', 'Paracetamol', 'Ibuprofen'],\n",
       "       dtype=object),\n",
       " 5)"
      ]
     },
     "execution_count": 13,
     "metadata": {},
     "output_type": "execute_result"
    }
   ],
   "source": [
    "health_care.Medication.unique(), len(health_care.Medication.unique())"
   ]
  },
  {
   "cell_type": "code",
   "execution_count": 14,
   "id": "860d5971-0403-4c8c-90f8-3b85301e9201",
   "metadata": {},
   "outputs": [
    {
     "data": {
      "text/plain": [
       "(array([146, 404, 292, 480, 477, 180, 161, 384, 215, 310, 306, 126, 444,\n",
       "        492, 120, 315, 475, 125, 366, 238, 364, 130, 293, 379, 298, 392,\n",
       "        162, 456, 197, 247, 228, 137, 192, 258, 219, 414, 110, 465, 469,\n",
       "        182, 119, 388, 412, 359, 186, 437, 132, 271, 361, 303, 317, 439,\n",
       "        153, 438, 380, 194, 199, 301, 223, 410, 205, 134, 407, 188, 213,\n",
       "        405, 358, 147, 115, 436, 263, 493, 460, 356, 142, 139, 482, 141,\n",
       "        397, 347, 245, 143, 108, 268, 176, 462, 484, 329, 335, 201, 309,\n",
       "        389, 217, 299, 275, 181, 401, 214, 267, 211, 184, 140, 416, 179,\n",
       "        289, 350, 104, 220, 464, 419, 445, 398, 336, 413, 145, 148, 432,\n",
       "        430, 406, 295, 175, 409, 424, 168, 136, 459, 261, 257, 170, 451,\n",
       "        372, 202, 394, 264, 279, 260, 499, 452, 365, 340, 360, 290, 103,\n",
       "        187, 378, 334, 470, 252, 450, 106, 259, 344, 489, 276, 155, 455,\n",
       "        425, 400, 127, 333, 443, 129, 164, 486, 440, 265, 193, 222, 488,\n",
       "        472, 391, 230, 322, 272, 154, 236, 375, 221, 244, 287, 243, 370,\n",
       "        237, 234, 458, 226, 478, 204, 196, 294, 297, 280, 374, 216, 135,\n",
       "        225, 152, 270, 454, 442, 189, 487, 485, 218, 111, 105, 362, 497,\n",
       "        420, 483, 288, 133, 114, 253, 286, 109, 390, 207, 411, 324, 357,\n",
       "        283, 471, 274, 353, 311, 490, 368, 284, 242, 209, 433, 116, 278,\n",
       "        249, 498, 240, 107, 383, 338, 262, 496, 447, 246, 305, 479, 363,\n",
       "        239, 158, 369, 229, 403, 349, 476, 144, 330, 291, 325, 224, 386,\n",
       "        428, 174, 101, 382, 435, 235, 474, 467, 118, 206, 233, 269, 422,\n",
       "        441, 320, 173, 277, 423, 112, 304, 300, 227, 121, 461, 302, 266,\n",
       "        417, 231, 171, 150, 323, 457, 449, 418, 151, 195, 332, 183, 312,\n",
       "        172, 285, 250, 494, 354, 210, 308, 385, 124, 190, 163, 339, 203,\n",
       "        355, 500, 212, 415, 254, 381, 131, 191, 178, 326, 138, 241, 481,\n",
       "        313, 156, 402, 248, 331, 341, 495, 208, 377, 343, 427, 296, 165,\n",
       "        200, 123, 468, 273, 396, 351, 395, 319, 393, 491, 232, 376, 473,\n",
       "        185, 429, 453, 348, 337, 255, 434, 463, 102, 316, 345, 399, 314,\n",
       "        408, 159, 251, 157, 169, 387, 448, 431, 149, 282, 198, 307, 281,\n",
       "        373, 371, 426, 177, 352, 446, 421, 321, 256, 167, 122, 342, 113,\n",
       "        466, 346, 128, 160, 117, 328, 367, 318, 327, 166], dtype=int64),\n",
       " 400)"
      ]
     },
     "execution_count": 14,
     "metadata": {},
     "output_type": "execute_result"
    }
   ],
   "source": [
    "health_care['Room Number'].unique(), len(health_care['Room Number'].unique())"
   ]
  },
  {
   "cell_type": "code",
   "execution_count": 15,
   "id": "65fd1f8d-420e-4be3-addc-2b3df8cfbf34",
   "metadata": {},
   "outputs": [
    {
     "data": {
      "text/plain": [
       "(array(['Inconclusive', 'Normal', 'Abnormal'], dtype=object), 3)"
      ]
     },
     "execution_count": 15,
     "metadata": {},
     "output_type": "execute_result"
    }
   ],
   "source": [
    "health_care['Test Results'].unique(), len(health_care['Test Results'].unique())"
   ]
  },
  {
   "cell_type": "code",
   "execution_count": 16,
   "id": "c5700da2-d728-4654-b96b-fbd205251ec3",
   "metadata": {},
   "outputs": [
    {
     "data": {
      "text/plain": [
       "Index(['Name', 'Age', 'Gender', 'Blood Type', 'Medical Condition',\n",
       "       'Date of Admission', 'Doctor', 'Hospital', 'Insurance Provider',\n",
       "       'Billing Amount', 'Room Number', 'Admission Type', 'Discharge Date',\n",
       "       'Medication', 'Test Results'],\n",
       "      dtype='object')"
      ]
     },
     "execution_count": 16,
     "metadata": {},
     "output_type": "execute_result"
    }
   ],
   "source": [
    "health_care.columns"
   ]
  },
  {
   "cell_type": "markdown",
   "id": "52a9c751-6cb4-4046-93dd-914246887803",
   "metadata": {},
   "source": [
    "## Feature Engineering"
   ]
  },
  {
   "cell_type": "code",
   "execution_count": 17,
   "id": "ada8f924-e2f1-422b-8687-11651bd23046",
   "metadata": {},
   "outputs": [],
   "source": [
    "# Create new column for treatment period\n",
    "health_care['Treatment Period'] = (pd.to_datetime(health_care['Discharge Date']) - pd.to_datetime(health_care['Date of Admission'])).dt.days"
   ]
  },
  {
   "cell_type": "code",
   "execution_count": 18,
   "id": "83bc595d-7ab7-4ebf-ba8c-76560681b5b7",
   "metadata": {},
   "outputs": [
    {
     "data": {
      "text/html": [
       "<div>\n",
       "<style scoped>\n",
       "    .dataframe tbody tr th:only-of-type {\n",
       "        vertical-align: middle;\n",
       "    }\n",
       "\n",
       "    .dataframe tbody tr th {\n",
       "        vertical-align: top;\n",
       "    }\n",
       "\n",
       "    .dataframe thead th {\n",
       "        text-align: right;\n",
       "    }\n",
       "</style>\n",
       "<table border=\"1\" class=\"dataframe\">\n",
       "  <thead>\n",
       "    <tr style=\"text-align: right;\">\n",
       "      <th></th>\n",
       "      <th>Name</th>\n",
       "      <th>Age</th>\n",
       "      <th>Gender</th>\n",
       "      <th>Blood Type</th>\n",
       "      <th>Medical Condition</th>\n",
       "      <th>Date of Admission</th>\n",
       "      <th>Doctor</th>\n",
       "      <th>Hospital</th>\n",
       "      <th>Insurance Provider</th>\n",
       "      <th>Billing Amount</th>\n",
       "      <th>Room Number</th>\n",
       "      <th>Admission Type</th>\n",
       "      <th>Discharge Date</th>\n",
       "      <th>Medication</th>\n",
       "      <th>Test Results</th>\n",
       "      <th>Treatment Period</th>\n",
       "    </tr>\n",
       "  </thead>\n",
       "  <tbody>\n",
       "    <tr>\n",
       "      <th>0</th>\n",
       "      <td>Tiffany Ramirez</td>\n",
       "      <td>81</td>\n",
       "      <td>Female</td>\n",
       "      <td>O-</td>\n",
       "      <td>Diabetes</td>\n",
       "      <td>2022-11-17</td>\n",
       "      <td>Patrick Parker</td>\n",
       "      <td>Wallace-Hamilton</td>\n",
       "      <td>Medicare</td>\n",
       "      <td>37490.983364</td>\n",
       "      <td>146</td>\n",
       "      <td>Elective</td>\n",
       "      <td>2022-12-01</td>\n",
       "      <td>Aspirin</td>\n",
       "      <td>Inconclusive</td>\n",
       "      <td>14</td>\n",
       "    </tr>\n",
       "    <tr>\n",
       "      <th>1</th>\n",
       "      <td>Ruben Burns</td>\n",
       "      <td>35</td>\n",
       "      <td>Male</td>\n",
       "      <td>O+</td>\n",
       "      <td>Asthma</td>\n",
       "      <td>2023-06-01</td>\n",
       "      <td>Diane Jackson</td>\n",
       "      <td>Burke, Griffin and Cooper</td>\n",
       "      <td>UnitedHealthcare</td>\n",
       "      <td>47304.064845</td>\n",
       "      <td>404</td>\n",
       "      <td>Emergency</td>\n",
       "      <td>2023-06-15</td>\n",
       "      <td>Lipitor</td>\n",
       "      <td>Normal</td>\n",
       "      <td>14</td>\n",
       "    </tr>\n",
       "    <tr>\n",
       "      <th>2</th>\n",
       "      <td>Chad Byrd</td>\n",
       "      <td>61</td>\n",
       "      <td>Male</td>\n",
       "      <td>B-</td>\n",
       "      <td>Obesity</td>\n",
       "      <td>2019-01-09</td>\n",
       "      <td>Paul Baker</td>\n",
       "      <td>Walton LLC</td>\n",
       "      <td>Medicare</td>\n",
       "      <td>36874.896997</td>\n",
       "      <td>292</td>\n",
       "      <td>Emergency</td>\n",
       "      <td>2019-02-08</td>\n",
       "      <td>Lipitor</td>\n",
       "      <td>Normal</td>\n",
       "      <td>30</td>\n",
       "    </tr>\n",
       "    <tr>\n",
       "      <th>3</th>\n",
       "      <td>Antonio Frederick</td>\n",
       "      <td>49</td>\n",
       "      <td>Male</td>\n",
       "      <td>B-</td>\n",
       "      <td>Asthma</td>\n",
       "      <td>2020-05-02</td>\n",
       "      <td>Brian Chandler</td>\n",
       "      <td>Garcia Ltd</td>\n",
       "      <td>Medicare</td>\n",
       "      <td>23303.322092</td>\n",
       "      <td>480</td>\n",
       "      <td>Urgent</td>\n",
       "      <td>2020-05-03</td>\n",
       "      <td>Penicillin</td>\n",
       "      <td>Abnormal</td>\n",
       "      <td>1</td>\n",
       "    </tr>\n",
       "    <tr>\n",
       "      <th>4</th>\n",
       "      <td>Mrs. Brandy Flowers</td>\n",
       "      <td>51</td>\n",
       "      <td>Male</td>\n",
       "      <td>O-</td>\n",
       "      <td>Arthritis</td>\n",
       "      <td>2021-07-09</td>\n",
       "      <td>Dustin Griffin</td>\n",
       "      <td>Jones, Brown and Murray</td>\n",
       "      <td>UnitedHealthcare</td>\n",
       "      <td>18086.344184</td>\n",
       "      <td>477</td>\n",
       "      <td>Urgent</td>\n",
       "      <td>2021-08-02</td>\n",
       "      <td>Paracetamol</td>\n",
       "      <td>Normal</td>\n",
       "      <td>24</td>\n",
       "    </tr>\n",
       "  </tbody>\n",
       "</table>\n",
       "</div>"
      ],
      "text/plain": [
       "                  Name  Age  Gender Blood Type Medical Condition  \\\n",
       "0      Tiffany Ramirez   81  Female         O-          Diabetes   \n",
       "1          Ruben Burns   35    Male         O+            Asthma   \n",
       "2            Chad Byrd   61    Male         B-           Obesity   \n",
       "3    Antonio Frederick   49    Male         B-            Asthma   \n",
       "4  Mrs. Brandy Flowers   51    Male         O-         Arthritis   \n",
       "\n",
       "  Date of Admission          Doctor                   Hospital  \\\n",
       "0        2022-11-17  Patrick Parker           Wallace-Hamilton   \n",
       "1        2023-06-01   Diane Jackson  Burke, Griffin and Cooper   \n",
       "2        2019-01-09      Paul Baker                 Walton LLC   \n",
       "3        2020-05-02  Brian Chandler                 Garcia Ltd   \n",
       "4        2021-07-09  Dustin Griffin    Jones, Brown and Murray   \n",
       "\n",
       "  Insurance Provider  Billing Amount  Room Number Admission Type  \\\n",
       "0           Medicare    37490.983364          146       Elective   \n",
       "1   UnitedHealthcare    47304.064845          404      Emergency   \n",
       "2           Medicare    36874.896997          292      Emergency   \n",
       "3           Medicare    23303.322092          480         Urgent   \n",
       "4   UnitedHealthcare    18086.344184          477         Urgent   \n",
       "\n",
       "  Discharge Date   Medication  Test Results  Treatment Period  \n",
       "0     2022-12-01      Aspirin  Inconclusive                14  \n",
       "1     2023-06-15      Lipitor        Normal                14  \n",
       "2     2019-02-08      Lipitor        Normal                30  \n",
       "3     2020-05-03   Penicillin      Abnormal                 1  \n",
       "4     2021-08-02  Paracetamol        Normal                24  "
      ]
     },
     "execution_count": 18,
     "metadata": {},
     "output_type": "execute_result"
    }
   ],
   "source": [
    "health_care.head()"
   ]
  },
  {
   "cell_type": "code",
   "execution_count": 19,
   "id": "4c460813-7f4d-4567-a922-f04756bfd045",
   "metadata": {},
   "outputs": [],
   "source": [
    "# Leave only the usefull columns\n",
    "health_care = health_care[['Age', 'Gender', 'Blood Type', 'Medical Condition', 'Admission Type', 'Medication', 'Treatment Period', 'Test Results']]"
   ]
  },
  {
   "cell_type": "code",
   "execution_count": 20,
   "id": "2831ae86-e49e-498d-b557-87859ef27b68",
   "metadata": {},
   "outputs": [
    {
     "data": {
      "text/html": [
       "<div>\n",
       "<style scoped>\n",
       "    .dataframe tbody tr th:only-of-type {\n",
       "        vertical-align: middle;\n",
       "    }\n",
       "\n",
       "    .dataframe tbody tr th {\n",
       "        vertical-align: top;\n",
       "    }\n",
       "\n",
       "    .dataframe thead th {\n",
       "        text-align: right;\n",
       "    }\n",
       "</style>\n",
       "<table border=\"1\" class=\"dataframe\">\n",
       "  <thead>\n",
       "    <tr style=\"text-align: right;\">\n",
       "      <th></th>\n",
       "      <th>Age</th>\n",
       "      <th>Gender</th>\n",
       "      <th>Blood Type</th>\n",
       "      <th>Medical Condition</th>\n",
       "      <th>Admission Type</th>\n",
       "      <th>Medication</th>\n",
       "      <th>Treatment Period</th>\n",
       "      <th>Test Results</th>\n",
       "    </tr>\n",
       "  </thead>\n",
       "  <tbody>\n",
       "    <tr>\n",
       "      <th>0</th>\n",
       "      <td>81</td>\n",
       "      <td>Female</td>\n",
       "      <td>O-</td>\n",
       "      <td>Diabetes</td>\n",
       "      <td>Elective</td>\n",
       "      <td>Aspirin</td>\n",
       "      <td>14</td>\n",
       "      <td>Inconclusive</td>\n",
       "    </tr>\n",
       "    <tr>\n",
       "      <th>1</th>\n",
       "      <td>35</td>\n",
       "      <td>Male</td>\n",
       "      <td>O+</td>\n",
       "      <td>Asthma</td>\n",
       "      <td>Emergency</td>\n",
       "      <td>Lipitor</td>\n",
       "      <td>14</td>\n",
       "      <td>Normal</td>\n",
       "    </tr>\n",
       "    <tr>\n",
       "      <th>2</th>\n",
       "      <td>61</td>\n",
       "      <td>Male</td>\n",
       "      <td>B-</td>\n",
       "      <td>Obesity</td>\n",
       "      <td>Emergency</td>\n",
       "      <td>Lipitor</td>\n",
       "      <td>30</td>\n",
       "      <td>Normal</td>\n",
       "    </tr>\n",
       "    <tr>\n",
       "      <th>3</th>\n",
       "      <td>49</td>\n",
       "      <td>Male</td>\n",
       "      <td>B-</td>\n",
       "      <td>Asthma</td>\n",
       "      <td>Urgent</td>\n",
       "      <td>Penicillin</td>\n",
       "      <td>1</td>\n",
       "      <td>Abnormal</td>\n",
       "    </tr>\n",
       "    <tr>\n",
       "      <th>4</th>\n",
       "      <td>51</td>\n",
       "      <td>Male</td>\n",
       "      <td>O-</td>\n",
       "      <td>Arthritis</td>\n",
       "      <td>Urgent</td>\n",
       "      <td>Paracetamol</td>\n",
       "      <td>24</td>\n",
       "      <td>Normal</td>\n",
       "    </tr>\n",
       "  </tbody>\n",
       "</table>\n",
       "</div>"
      ],
      "text/plain": [
       "   Age  Gender Blood Type Medical Condition Admission Type   Medication  \\\n",
       "0   81  Female         O-          Diabetes       Elective      Aspirin   \n",
       "1   35    Male         O+            Asthma      Emergency      Lipitor   \n",
       "2   61    Male         B-           Obesity      Emergency      Lipitor   \n",
       "3   49    Male         B-            Asthma         Urgent   Penicillin   \n",
       "4   51    Male         O-         Arthritis         Urgent  Paracetamol   \n",
       "\n",
       "   Treatment Period  Test Results  \n",
       "0                14  Inconclusive  \n",
       "1                14        Normal  \n",
       "2                30        Normal  \n",
       "3                 1      Abnormal  \n",
       "4                24        Normal  "
      ]
     },
     "execution_count": 20,
     "metadata": {},
     "output_type": "execute_result"
    }
   ],
   "source": [
    "health_care.head()"
   ]
  },
  {
   "cell_type": "markdown",
   "id": "3208b32b-f514-49a8-81da-9e9e429705b9",
   "metadata": {},
   "source": [
    "## Label Encoding"
   ]
  },
  {
   "cell_type": "code",
   "execution_count": 21,
   "id": "541ed823-bbfe-4006-81ac-7b5ee31ee1f3",
   "metadata": {},
   "outputs": [
    {
     "data": {
      "text/html": [
       "<div>\n",
       "<style scoped>\n",
       "    .dataframe tbody tr th:only-of-type {\n",
       "        vertical-align: middle;\n",
       "    }\n",
       "\n",
       "    .dataframe tbody tr th {\n",
       "        vertical-align: top;\n",
       "    }\n",
       "\n",
       "    .dataframe thead th {\n",
       "        text-align: right;\n",
       "    }\n",
       "</style>\n",
       "<table border=\"1\" class=\"dataframe\">\n",
       "  <thead>\n",
       "    <tr style=\"text-align: right;\">\n",
       "      <th></th>\n",
       "      <th>Age</th>\n",
       "      <th>Gender</th>\n",
       "      <th>Blood Type</th>\n",
       "      <th>Medical Condition</th>\n",
       "      <th>Admission Type</th>\n",
       "      <th>Medication</th>\n",
       "      <th>Treatment Period</th>\n",
       "      <th>Test Results</th>\n",
       "    </tr>\n",
       "  </thead>\n",
       "  <tbody>\n",
       "    <tr>\n",
       "      <th>0</th>\n",
       "      <td>81</td>\n",
       "      <td>0</td>\n",
       "      <td>7</td>\n",
       "      <td>3</td>\n",
       "      <td>0</td>\n",
       "      <td>0</td>\n",
       "      <td>14</td>\n",
       "      <td>1</td>\n",
       "    </tr>\n",
       "    <tr>\n",
       "      <th>1</th>\n",
       "      <td>35</td>\n",
       "      <td>1</td>\n",
       "      <td>6</td>\n",
       "      <td>1</td>\n",
       "      <td>1</td>\n",
       "      <td>2</td>\n",
       "      <td>14</td>\n",
       "      <td>2</td>\n",
       "    </tr>\n",
       "    <tr>\n",
       "      <th>2</th>\n",
       "      <td>61</td>\n",
       "      <td>1</td>\n",
       "      <td>5</td>\n",
       "      <td>5</td>\n",
       "      <td>1</td>\n",
       "      <td>2</td>\n",
       "      <td>30</td>\n",
       "      <td>2</td>\n",
       "    </tr>\n",
       "    <tr>\n",
       "      <th>3</th>\n",
       "      <td>49</td>\n",
       "      <td>1</td>\n",
       "      <td>5</td>\n",
       "      <td>1</td>\n",
       "      <td>2</td>\n",
       "      <td>4</td>\n",
       "      <td>1</td>\n",
       "      <td>0</td>\n",
       "    </tr>\n",
       "    <tr>\n",
       "      <th>4</th>\n",
       "      <td>51</td>\n",
       "      <td>1</td>\n",
       "      <td>7</td>\n",
       "      <td>0</td>\n",
       "      <td>2</td>\n",
       "      <td>3</td>\n",
       "      <td>24</td>\n",
       "      <td>2</td>\n",
       "    </tr>\n",
       "  </tbody>\n",
       "</table>\n",
       "</div>"
      ],
      "text/plain": [
       "   Age  Gender  Blood Type  Medical Condition  Admission Type  Medication  \\\n",
       "0   81       0           7                  3               0           0   \n",
       "1   35       1           6                  1               1           2   \n",
       "2   61       1           5                  5               1           2   \n",
       "3   49       1           5                  1               2           4   \n",
       "4   51       1           7                  0               2           3   \n",
       "\n",
       "   Treatment Period  Test Results  \n",
       "0                14             1  \n",
       "1                14             2  \n",
       "2                30             2  \n",
       "3                 1             0  \n",
       "4                24             2  "
      ]
     },
     "execution_count": 21,
     "metadata": {},
     "output_type": "execute_result"
    }
   ],
   "source": [
    "lc = LabelEncoder()\n",
    "for col in health_care.columns:\n",
    "    if col!='Age' and col != 'Treatment Period':\n",
    "        health_care.loc[:,col]=lc.fit_transform(health_care[col])\n",
    "health_care.head()"
   ]
  },
  {
   "cell_type": "code",
   "execution_count": 22,
   "id": "a5fb6868-b471-4efc-be61-e91a48fe8b9d",
   "metadata": {},
   "outputs": [
    {
     "name": "stdout",
     "output_type": "stream",
     "text": [
      "<class 'pandas.core.frame.DataFrame'>\n",
      "RangeIndex: 10000 entries, 0 to 9999\n",
      "Data columns (total 8 columns):\n",
      " #   Column             Non-Null Count  Dtype\n",
      "---  ------             --------------  -----\n",
      " 0   Age                10000 non-null  int64\n",
      " 1   Gender             10000 non-null  int32\n",
      " 2   Blood Type         10000 non-null  int32\n",
      " 3   Medical Condition  10000 non-null  int32\n",
      " 4   Admission Type     10000 non-null  int32\n",
      " 5   Medication         10000 non-null  int32\n",
      " 6   Treatment Period   10000 non-null  int64\n",
      " 7   Test Results       10000 non-null  int32\n",
      "dtypes: int32(6), int64(2)\n",
      "memory usage: 390.8 KB\n"
     ]
    }
   ],
   "source": [
    "health_care.info()"
   ]
  },
  {
   "cell_type": "code",
   "execution_count": 28,
   "id": "68bd7b15-a737-40ff-8c22-5407527aac92",
   "metadata": {},
   "outputs": [
    {
     "data": {
      "text/html": [
       "<div>\n",
       "<style scoped>\n",
       "    .dataframe tbody tr th:only-of-type {\n",
       "        vertical-align: middle;\n",
       "    }\n",
       "\n",
       "    .dataframe tbody tr th {\n",
       "        vertical-align: top;\n",
       "    }\n",
       "\n",
       "    .dataframe thead th {\n",
       "        text-align: right;\n",
       "    }\n",
       "</style>\n",
       "<table border=\"1\" class=\"dataframe\">\n",
       "  <thead>\n",
       "    <tr style=\"text-align: right;\">\n",
       "      <th></th>\n",
       "      <th>count</th>\n",
       "      <th>mean</th>\n",
       "      <th>std</th>\n",
       "      <th>min</th>\n",
       "      <th>25%</th>\n",
       "      <th>50%</th>\n",
       "      <th>75%</th>\n",
       "      <th>max</th>\n",
       "    </tr>\n",
       "  </thead>\n",
       "  <tbody>\n",
       "    <tr>\n",
       "      <th>Age</th>\n",
       "      <td>10000.0</td>\n",
       "      <td>51.4522</td>\n",
       "      <td>19.588974</td>\n",
       "      <td>18.0</td>\n",
       "      <td>35.0</td>\n",
       "      <td>52.0</td>\n",
       "      <td>68.0</td>\n",
       "      <td>85.0</td>\n",
       "    </tr>\n",
       "    <tr>\n",
       "      <th>Gender</th>\n",
       "      <td>10000.0</td>\n",
       "      <td>0.4925</td>\n",
       "      <td>0.499969</td>\n",
       "      <td>0.0</td>\n",
       "      <td>0.0</td>\n",
       "      <td>0.0</td>\n",
       "      <td>1.0</td>\n",
       "      <td>1.0</td>\n",
       "    </tr>\n",
       "    <tr>\n",
       "      <th>Blood Type</th>\n",
       "      <td>10000.0</td>\n",
       "      <td>3.5011</td>\n",
       "      <td>2.286071</td>\n",
       "      <td>0.0</td>\n",
       "      <td>2.0</td>\n",
       "      <td>3.0</td>\n",
       "      <td>5.0</td>\n",
       "      <td>7.0</td>\n",
       "    </tr>\n",
       "    <tr>\n",
       "      <th>Medical Condition</th>\n",
       "      <td>10000.0</td>\n",
       "      <td>2.4875</td>\n",
       "      <td>1.701803</td>\n",
       "      <td>0.0</td>\n",
       "      <td>1.0</td>\n",
       "      <td>2.0</td>\n",
       "      <td>4.0</td>\n",
       "      <td>5.0</td>\n",
       "    </tr>\n",
       "    <tr>\n",
       "      <th>Admission Type</th>\n",
       "      <td>10000.0</td>\n",
       "      <td>1.0149</td>\n",
       "      <td>0.814337</td>\n",
       "      <td>0.0</td>\n",
       "      <td>0.0</td>\n",
       "      <td>1.0</td>\n",
       "      <td>2.0</td>\n",
       "      <td>2.0</td>\n",
       "    </tr>\n",
       "    <tr>\n",
       "      <th>Medication</th>\n",
       "      <td>10000.0</td>\n",
       "      <td>2.0208</td>\n",
       "      <td>1.418580</td>\n",
       "      <td>0.0</td>\n",
       "      <td>1.0</td>\n",
       "      <td>2.0</td>\n",
       "      <td>3.0</td>\n",
       "      <td>4.0</td>\n",
       "    </tr>\n",
       "    <tr>\n",
       "      <th>Treatment Period</th>\n",
       "      <td>10000.0</td>\n",
       "      <td>15.5618</td>\n",
       "      <td>8.612038</td>\n",
       "      <td>1.0</td>\n",
       "      <td>8.0</td>\n",
       "      <td>16.0</td>\n",
       "      <td>23.0</td>\n",
       "      <td>30.0</td>\n",
       "    </tr>\n",
       "    <tr>\n",
       "      <th>Test Results</th>\n",
       "      <td>10000.0</td>\n",
       "      <td>0.9811</td>\n",
       "      <td>0.819762</td>\n",
       "      <td>0.0</td>\n",
       "      <td>0.0</td>\n",
       "      <td>1.0</td>\n",
       "      <td>2.0</td>\n",
       "      <td>2.0</td>\n",
       "    </tr>\n",
       "  </tbody>\n",
       "</table>\n",
       "</div>"
      ],
      "text/plain": [
       "                     count     mean        std   min   25%   50%   75%   max\n",
       "Age                10000.0  51.4522  19.588974  18.0  35.0  52.0  68.0  85.0\n",
       "Gender             10000.0   0.4925   0.499969   0.0   0.0   0.0   1.0   1.0\n",
       "Blood Type         10000.0   3.5011   2.286071   0.0   2.0   3.0   5.0   7.0\n",
       "Medical Condition  10000.0   2.4875   1.701803   0.0   1.0   2.0   4.0   5.0\n",
       "Admission Type     10000.0   1.0149   0.814337   0.0   0.0   1.0   2.0   2.0\n",
       "Medication         10000.0   2.0208   1.418580   0.0   1.0   2.0   3.0   4.0\n",
       "Treatment Period   10000.0  15.5618   8.612038   1.0   8.0  16.0  23.0  30.0\n",
       "Test Results       10000.0   0.9811   0.819762   0.0   0.0   1.0   2.0   2.0"
      ]
     },
     "execution_count": 28,
     "metadata": {},
     "output_type": "execute_result"
    }
   ],
   "source": [
    "health_care.describe().T"
   ]
  },
  {
   "cell_type": "code",
   "execution_count": null,
   "id": "517a43ab-898a-448b-9b2e-a3954d25848e",
   "metadata": {},
   "outputs": [],
   "source": []
  }
 ],
 "metadata": {
  "kernelspec": {
   "display_name": "Python 3 (ipykernel)",
   "language": "python",
   "name": "python3"
  },
  "language_info": {
   "codemirror_mode": {
    "name": "ipython",
    "version": 3
   },
   "file_extension": ".py",
   "mimetype": "text/x-python",
   "name": "python",
   "nbconvert_exporter": "python",
   "pygments_lexer": "ipython3",
   "version": "3.9.13"
  }
 },
 "nbformat": 4,
 "nbformat_minor": 5
}
