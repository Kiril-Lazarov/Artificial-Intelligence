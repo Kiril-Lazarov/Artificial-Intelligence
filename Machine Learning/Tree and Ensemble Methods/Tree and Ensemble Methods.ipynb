{
 "cells": [
  {
   "cell_type": "code",
   "execution_count": 2,
   "id": "c4eef0a7-c092-4a38-bea1-005900635160",
   "metadata": {},
   "outputs": [],
   "source": [
    "%matplotlib inline"
   ]
  },
  {
   "cell_type": "code",
   "execution_count": 15,
   "id": "67dec268-0341-42cd-90ae-87d2d28c63e9",
   "metadata": {},
   "outputs": [],
   "source": [
    "import pandas as pd\n",
    "import matplotlib.pyplot as plt\n",
    "import numpy as np\n",
    "\n",
    "from sklearn.datasets import load_iris\n",
    "\n",
    "from sklearn.model_selection import train_test_split\n",
    "\n",
    "from sklearn.tree import DecisionTreeClassifier"
   ]
  },
  {
   "cell_type": "markdown",
   "id": "495b1136-8eea-4ef4-a89d-ca9ba1483c05",
   "metadata": {},
   "source": [
    "# Tree and Ensemble Methods"
   ]
  },
  {
   "cell_type": "markdown",
   "id": "4f4ffcf5-a14d-4e60-8bda-cb73d6566a2f",
   "metadata": {},
   "source": [
    "## Live demos"
   ]
  },
  {
   "cell_type": "code",
   "execution_count": 7,
   "id": "930047ae-5db4-4bc6-b4ec-df05fa6b49c1",
   "metadata": {},
   "outputs": [],
   "source": [
    "iris_data, iris_labels = load_iris().data, load_iris().target"
   ]
  },
  {
   "cell_type": "code",
   "execution_count": 11,
   "id": "67c1e503-ce2b-42f6-9818-f27b64112a3d",
   "metadata": {},
   "outputs": [
    {
     "data": {
      "text/plain": [
       "(150, 4)"
      ]
     },
     "execution_count": 11,
     "metadata": {},
     "output_type": "execute_result"
    }
   ],
   "source": [
    "iris_data.shape"
   ]
  },
  {
   "cell_type": "code",
   "execution_count": 13,
   "id": "e3bd2600-c9d1-47be-8171-4f964037a962",
   "metadata": {},
   "outputs": [],
   "source": [
    "X_train, X_test, y_train, y_test = train_test_split(iris_data, iris_labels, train_size = 100)"
   ]
  },
  {
   "cell_type": "code",
   "execution_count": 14,
   "id": "9cd0e30b-ae11-4afe-92ab-a2341d1c9e2e",
   "metadata": {},
   "outputs": [
    {
     "data": {
      "text/plain": [
       "((100, 4), (50, 4), (100,), (50,))"
      ]
     },
     "execution_count": 14,
     "metadata": {},
     "output_type": "execute_result"
    }
   ],
   "source": [
    "X_train.shape, X_test.shape,y_train.shape, y_test.shape"
   ]
  },
  {
   "cell_type": "code",
   "execution_count": 16,
   "id": "b31c3448-60b2-4417-bf55-bfe32636bcb6",
   "metadata": {},
   "outputs": [],
   "source": [
    "tree = DecisionTreeClassifier(\n",
    "    criterion = 'entropy'\n",
    ")"
   ]
  },
  {
   "cell_type": "code",
   "execution_count": 17,
   "id": "33544fb3-1eae-40fb-b68b-b1eb785cd559",
   "metadata": {},
   "outputs": [
    {
     "data": {
      "text/plain": [
       "DecisionTreeClassifier(criterion='entropy')"
      ]
     },
     "execution_count": 17,
     "metadata": {},
     "output_type": "execute_result"
    }
   ],
   "source": [
    "tree.fit(X_train, y_train)"
   ]
  },
  {
   "cell_type": "code",
   "execution_count": null,
   "id": "96543914-8acd-4b18-9b77-25683496ce33",
   "metadata": {},
   "outputs": [],
   "source": [
    "tree.tree_"
   ]
  }
 ],
 "metadata": {
  "kernelspec": {
   "display_name": "Python 3 (ipykernel)",
   "language": "python",
   "name": "python3"
  },
  "language_info": {
   "codemirror_mode": {
    "name": "ipython",
    "version": 3
   },
   "file_extension": ".py",
   "mimetype": "text/x-python",
   "name": "python",
   "nbconvert_exporter": "python",
   "pygments_lexer": "ipython3",
   "version": "3.9.13"
  }
 },
 "nbformat": 4,
 "nbformat_minor": 5
}
