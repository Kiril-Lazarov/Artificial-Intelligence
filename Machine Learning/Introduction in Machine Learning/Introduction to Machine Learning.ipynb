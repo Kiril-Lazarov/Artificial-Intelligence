{
 "cells": [
  {
   "cell_type": "code",
   "execution_count": 1,
   "id": "ad59cbec-008d-4984-a029-fa260bbcab73",
   "metadata": {},
   "outputs": [],
   "source": [
    "%matplotlib inline"
   ]
  },
  {
   "cell_type": "code",
   "execution_count": 80,
   "id": "d0960ff6-23f3-44c3-82ff-0fe5cc7e87c2",
   "metadata": {},
   "outputs": [],
   "source": [
    "import numpy as np\n",
    "import matplotlib.pyplot as plt\n",
    "import pandas as pd\n",
    "\n",
    "from sklearn.preprocessing import MinMaxScaler\n",
    "\n",
    "from sklearn.linear_model import LogisticRegression\n",
    "from sklearn.tree import DecisionTreeClassifier, plot_tree\n",
    "\n",
    "from sklearn.model_selection import train_test_split, GridSearchCV\n",
    "\n",
    "from sklearn.metrics import classification_report"
   ]
  },
  {
   "cell_type": "markdown",
   "id": "5dbb7acb-e6ec-41ca-a1b1-a327f13e616f",
   "metadata": {},
   "source": [
    "# Introduction to Machine Learning"
   ]
  },
  {
   "cell_type": "markdown",
   "id": "2c7afd96-7908-4ea3-8dbc-37d6a5d71efb",
   "metadata": {},
   "source": [
    "## Live Demos"
   ]
  },
  {
   "cell_type": "markdown",
   "id": "068fe916-8cc2-4f8f-b2a3-45dcd833f7ed",
   "metadata": {},
   "source": [
    "### Spaceship Titanic dataset"
   ]
  },
  {
   "cell_type": "code",
   "execution_count": 3,
   "id": "2bf7a316-4b72-4d85-a79f-e5277a5cba94",
   "metadata": {},
   "outputs": [],
   "source": [
    "passenger_data = pd.read_csv('Data/train.csv', true_values=['True'], false_values=['False'])"
   ]
  },
  {
   "cell_type": "code",
   "execution_count": 4,
   "id": "5be77dce-fc8d-494b-95d8-f9a21eb59e08",
   "metadata": {},
   "outputs": [
    {
     "data": {
      "text/html": [
       "<div>\n",
       "<style scoped>\n",
       "    .dataframe tbody tr th:only-of-type {\n",
       "        vertical-align: middle;\n",
       "    }\n",
       "\n",
       "    .dataframe tbody tr th {\n",
       "        vertical-align: top;\n",
       "    }\n",
       "\n",
       "    .dataframe thead th {\n",
       "        text-align: right;\n",
       "    }\n",
       "</style>\n",
       "<table border=\"1\" class=\"dataframe\">\n",
       "  <thead>\n",
       "    <tr style=\"text-align: right;\">\n",
       "      <th></th>\n",
       "      <th>PassengerId</th>\n",
       "      <th>HomePlanet</th>\n",
       "      <th>CryoSleep</th>\n",
       "      <th>Cabin</th>\n",
       "      <th>Destination</th>\n",
       "      <th>Age</th>\n",
       "      <th>VIP</th>\n",
       "      <th>RoomService</th>\n",
       "      <th>FoodCourt</th>\n",
       "      <th>ShoppingMall</th>\n",
       "      <th>Spa</th>\n",
       "      <th>VRDeck</th>\n",
       "      <th>Name</th>\n",
       "      <th>Transported</th>\n",
       "    </tr>\n",
       "  </thead>\n",
       "  <tbody>\n",
       "    <tr>\n",
       "      <th>0</th>\n",
       "      <td>0001_01</td>\n",
       "      <td>Europa</td>\n",
       "      <td>False</td>\n",
       "      <td>B/0/P</td>\n",
       "      <td>TRAPPIST-1e</td>\n",
       "      <td>39.0</td>\n",
       "      <td>False</td>\n",
       "      <td>0.0</td>\n",
       "      <td>0.0</td>\n",
       "      <td>0.0</td>\n",
       "      <td>0.0</td>\n",
       "      <td>0.0</td>\n",
       "      <td>Maham Ofracculy</td>\n",
       "      <td>False</td>\n",
       "    </tr>\n",
       "    <tr>\n",
       "      <th>1</th>\n",
       "      <td>0002_01</td>\n",
       "      <td>Earth</td>\n",
       "      <td>False</td>\n",
       "      <td>F/0/S</td>\n",
       "      <td>TRAPPIST-1e</td>\n",
       "      <td>24.0</td>\n",
       "      <td>False</td>\n",
       "      <td>109.0</td>\n",
       "      <td>9.0</td>\n",
       "      <td>25.0</td>\n",
       "      <td>549.0</td>\n",
       "      <td>44.0</td>\n",
       "      <td>Juanna Vines</td>\n",
       "      <td>True</td>\n",
       "    </tr>\n",
       "    <tr>\n",
       "      <th>2</th>\n",
       "      <td>0003_01</td>\n",
       "      <td>Europa</td>\n",
       "      <td>False</td>\n",
       "      <td>A/0/S</td>\n",
       "      <td>TRAPPIST-1e</td>\n",
       "      <td>58.0</td>\n",
       "      <td>True</td>\n",
       "      <td>43.0</td>\n",
       "      <td>3576.0</td>\n",
       "      <td>0.0</td>\n",
       "      <td>6715.0</td>\n",
       "      <td>49.0</td>\n",
       "      <td>Altark Susent</td>\n",
       "      <td>False</td>\n",
       "    </tr>\n",
       "    <tr>\n",
       "      <th>3</th>\n",
       "      <td>0003_02</td>\n",
       "      <td>Europa</td>\n",
       "      <td>False</td>\n",
       "      <td>A/0/S</td>\n",
       "      <td>TRAPPIST-1e</td>\n",
       "      <td>33.0</td>\n",
       "      <td>False</td>\n",
       "      <td>0.0</td>\n",
       "      <td>1283.0</td>\n",
       "      <td>371.0</td>\n",
       "      <td>3329.0</td>\n",
       "      <td>193.0</td>\n",
       "      <td>Solam Susent</td>\n",
       "      <td>False</td>\n",
       "    </tr>\n",
       "    <tr>\n",
       "      <th>4</th>\n",
       "      <td>0004_01</td>\n",
       "      <td>Earth</td>\n",
       "      <td>False</td>\n",
       "      <td>F/1/S</td>\n",
       "      <td>TRAPPIST-1e</td>\n",
       "      <td>16.0</td>\n",
       "      <td>False</td>\n",
       "      <td>303.0</td>\n",
       "      <td>70.0</td>\n",
       "      <td>151.0</td>\n",
       "      <td>565.0</td>\n",
       "      <td>2.0</td>\n",
       "      <td>Willy Santantines</td>\n",
       "      <td>True</td>\n",
       "    </tr>\n",
       "    <tr>\n",
       "      <th>...</th>\n",
       "      <td>...</td>\n",
       "      <td>...</td>\n",
       "      <td>...</td>\n",
       "      <td>...</td>\n",
       "      <td>...</td>\n",
       "      <td>...</td>\n",
       "      <td>...</td>\n",
       "      <td>...</td>\n",
       "      <td>...</td>\n",
       "      <td>...</td>\n",
       "      <td>...</td>\n",
       "      <td>...</td>\n",
       "      <td>...</td>\n",
       "      <td>...</td>\n",
       "    </tr>\n",
       "    <tr>\n",
       "      <th>8688</th>\n",
       "      <td>9276_01</td>\n",
       "      <td>Europa</td>\n",
       "      <td>False</td>\n",
       "      <td>A/98/P</td>\n",
       "      <td>55 Cancri e</td>\n",
       "      <td>41.0</td>\n",
       "      <td>True</td>\n",
       "      <td>0.0</td>\n",
       "      <td>6819.0</td>\n",
       "      <td>0.0</td>\n",
       "      <td>1643.0</td>\n",
       "      <td>74.0</td>\n",
       "      <td>Gravior Noxnuther</td>\n",
       "      <td>False</td>\n",
       "    </tr>\n",
       "    <tr>\n",
       "      <th>8689</th>\n",
       "      <td>9278_01</td>\n",
       "      <td>Earth</td>\n",
       "      <td>True</td>\n",
       "      <td>G/1499/S</td>\n",
       "      <td>PSO J318.5-22</td>\n",
       "      <td>18.0</td>\n",
       "      <td>False</td>\n",
       "      <td>0.0</td>\n",
       "      <td>0.0</td>\n",
       "      <td>0.0</td>\n",
       "      <td>0.0</td>\n",
       "      <td>0.0</td>\n",
       "      <td>Kurta Mondalley</td>\n",
       "      <td>False</td>\n",
       "    </tr>\n",
       "    <tr>\n",
       "      <th>8690</th>\n",
       "      <td>9279_01</td>\n",
       "      <td>Earth</td>\n",
       "      <td>False</td>\n",
       "      <td>G/1500/S</td>\n",
       "      <td>TRAPPIST-1e</td>\n",
       "      <td>26.0</td>\n",
       "      <td>False</td>\n",
       "      <td>0.0</td>\n",
       "      <td>0.0</td>\n",
       "      <td>1872.0</td>\n",
       "      <td>1.0</td>\n",
       "      <td>0.0</td>\n",
       "      <td>Fayey Connon</td>\n",
       "      <td>True</td>\n",
       "    </tr>\n",
       "    <tr>\n",
       "      <th>8691</th>\n",
       "      <td>9280_01</td>\n",
       "      <td>Europa</td>\n",
       "      <td>False</td>\n",
       "      <td>E/608/S</td>\n",
       "      <td>55 Cancri e</td>\n",
       "      <td>32.0</td>\n",
       "      <td>False</td>\n",
       "      <td>0.0</td>\n",
       "      <td>1049.0</td>\n",
       "      <td>0.0</td>\n",
       "      <td>353.0</td>\n",
       "      <td>3235.0</td>\n",
       "      <td>Celeon Hontichre</td>\n",
       "      <td>False</td>\n",
       "    </tr>\n",
       "    <tr>\n",
       "      <th>8692</th>\n",
       "      <td>9280_02</td>\n",
       "      <td>Europa</td>\n",
       "      <td>False</td>\n",
       "      <td>E/608/S</td>\n",
       "      <td>TRAPPIST-1e</td>\n",
       "      <td>44.0</td>\n",
       "      <td>False</td>\n",
       "      <td>126.0</td>\n",
       "      <td>4688.0</td>\n",
       "      <td>0.0</td>\n",
       "      <td>0.0</td>\n",
       "      <td>12.0</td>\n",
       "      <td>Propsh Hontichre</td>\n",
       "      <td>True</td>\n",
       "    </tr>\n",
       "  </tbody>\n",
       "</table>\n",
       "<p>8693 rows × 14 columns</p>\n",
       "</div>"
      ],
      "text/plain": [
       "     PassengerId HomePlanet CryoSleep     Cabin    Destination   Age    VIP  \\\n",
       "0        0001_01     Europa     False     B/0/P    TRAPPIST-1e  39.0  False   \n",
       "1        0002_01      Earth     False     F/0/S    TRAPPIST-1e  24.0  False   \n",
       "2        0003_01     Europa     False     A/0/S    TRAPPIST-1e  58.0   True   \n",
       "3        0003_02     Europa     False     A/0/S    TRAPPIST-1e  33.0  False   \n",
       "4        0004_01      Earth     False     F/1/S    TRAPPIST-1e  16.0  False   \n",
       "...          ...        ...       ...       ...            ...   ...    ...   \n",
       "8688     9276_01     Europa     False    A/98/P    55 Cancri e  41.0   True   \n",
       "8689     9278_01      Earth      True  G/1499/S  PSO J318.5-22  18.0  False   \n",
       "8690     9279_01      Earth     False  G/1500/S    TRAPPIST-1e  26.0  False   \n",
       "8691     9280_01     Europa     False   E/608/S    55 Cancri e  32.0  False   \n",
       "8692     9280_02     Europa     False   E/608/S    TRAPPIST-1e  44.0  False   \n",
       "\n",
       "      RoomService  FoodCourt  ShoppingMall     Spa  VRDeck               Name  \\\n",
       "0             0.0        0.0           0.0     0.0     0.0    Maham Ofracculy   \n",
       "1           109.0        9.0          25.0   549.0    44.0       Juanna Vines   \n",
       "2            43.0     3576.0           0.0  6715.0    49.0      Altark Susent   \n",
       "3             0.0     1283.0         371.0  3329.0   193.0       Solam Susent   \n",
       "4           303.0       70.0         151.0   565.0     2.0  Willy Santantines   \n",
       "...           ...        ...           ...     ...     ...                ...   \n",
       "8688          0.0     6819.0           0.0  1643.0    74.0  Gravior Noxnuther   \n",
       "8689          0.0        0.0           0.0     0.0     0.0    Kurta Mondalley   \n",
       "8690          0.0        0.0        1872.0     1.0     0.0       Fayey Connon   \n",
       "8691          0.0     1049.0           0.0   353.0  3235.0   Celeon Hontichre   \n",
       "8692        126.0     4688.0           0.0     0.0    12.0   Propsh Hontichre   \n",
       "\n",
       "      Transported  \n",
       "0           False  \n",
       "1            True  \n",
       "2           False  \n",
       "3           False  \n",
       "4            True  \n",
       "...           ...  \n",
       "8688        False  \n",
       "8689        False  \n",
       "8690         True  \n",
       "8691        False  \n",
       "8692         True  \n",
       "\n",
       "[8693 rows x 14 columns]"
      ]
     },
     "execution_count": 4,
     "metadata": {},
     "output_type": "execute_result"
    }
   ],
   "source": [
    "passenger_data"
   ]
  },
  {
   "cell_type": "code",
   "execution_count": 5,
   "id": "67c6e3d0-bd3e-406f-8308-fd8727985e0a",
   "metadata": {},
   "outputs": [
    {
     "data": {
      "text/plain": [
       "PassengerId      object\n",
       "HomePlanet       object\n",
       "CryoSleep        object\n",
       "Cabin            object\n",
       "Destination      object\n",
       "Age             float64\n",
       "VIP              object\n",
       "RoomService     float64\n",
       "FoodCourt       float64\n",
       "ShoppingMall    float64\n",
       "Spa             float64\n",
       "VRDeck          float64\n",
       "Name             object\n",
       "Transported        bool\n",
       "dtype: object"
      ]
     },
     "execution_count": 5,
     "metadata": {},
     "output_type": "execute_result"
    }
   ],
   "source": [
    "passenger_data.dtypes"
   ]
  },
  {
   "cell_type": "code",
   "execution_count": 6,
   "id": "d3761862-f8ca-4788-bc32-bf6eb645d2c4",
   "metadata": {},
   "outputs": [
    {
     "data": {
      "text/plain": [
       "327     0368_02\n",
       "8509    9081_03\n",
       "6038    6388_01\n",
       "906     0979_01\n",
       "1730    1844_01\n",
       "6356    6724_01\n",
       "3605    3871_01\n",
       "4157    4441_03\n",
       "8246    8811_01\n",
       "8033    8598_02\n",
       "3428    3699_02\n",
       "3424    3691_01\n",
       "2327    2508_01\n",
       "7959    8503_03\n",
       "5843    6182_01\n",
       "2351    2532_02\n",
       "2802    3024_01\n",
       "6861    7257_01\n",
       "8502    9077_01\n",
       "7673    8190_01\n",
       "Name: PassengerId, dtype: object"
      ]
     },
     "execution_count": 6,
     "metadata": {},
     "output_type": "execute_result"
    }
   ],
   "source": [
    "passenger_data.PassengerId.sample(20)"
   ]
  },
  {
   "cell_type": "code",
   "execution_count": 7,
   "id": "8a257b08-2803-446e-a588-57fc263f9f57",
   "metadata": {},
   "outputs": [
    {
     "data": {
      "text/plain": [
       "array(['Europa', 'Earth', 'Mars', nan], dtype=object)"
      ]
     },
     "execution_count": 7,
     "metadata": {},
     "output_type": "execute_result"
    }
   ],
   "source": [
    "passenger_data.HomePlanet.unique()"
   ]
  },
  {
   "cell_type": "code",
   "execution_count": 8,
   "id": "35c03eb7-99c9-4096-83ec-1e5a9b094b90",
   "metadata": {},
   "outputs": [
    {
     "data": {
      "text/plain": [
       "Earth     4602\n",
       "Europa    2131\n",
       "Mars      1759\n",
       "NaN        201\n",
       "Name: HomePlanet, dtype: int64"
      ]
     },
     "execution_count": 8,
     "metadata": {},
     "output_type": "execute_result"
    }
   ],
   "source": [
    "passenger_data.HomePlanet.value_counts(dropna=False)"
   ]
  },
  {
   "cell_type": "code",
   "execution_count": 9,
   "id": "18b83cdd-b001-4ce2-9b10-05524268e802",
   "metadata": {},
   "outputs": [
    {
     "data": {
      "text/html": [
       "<div>\n",
       "<style scoped>\n",
       "    .dataframe tbody tr th:only-of-type {\n",
       "        vertical-align: middle;\n",
       "    }\n",
       "\n",
       "    .dataframe tbody tr th {\n",
       "        vertical-align: top;\n",
       "    }\n",
       "\n",
       "    .dataframe thead th {\n",
       "        text-align: right;\n",
       "    }\n",
       "</style>\n",
       "<table border=\"1\" class=\"dataframe\">\n",
       "  <thead>\n",
       "    <tr style=\"text-align: right;\">\n",
       "      <th></th>\n",
       "      <th>PassengerId</th>\n",
       "      <th>HomePlanet</th>\n",
       "      <th>CryoSleep</th>\n",
       "      <th>Cabin</th>\n",
       "      <th>Destination</th>\n",
       "      <th>Age</th>\n",
       "      <th>VIP</th>\n",
       "      <th>RoomService</th>\n",
       "      <th>FoodCourt</th>\n",
       "      <th>ShoppingMall</th>\n",
       "      <th>Spa</th>\n",
       "      <th>VRDeck</th>\n",
       "      <th>Name</th>\n",
       "      <th>Transported</th>\n",
       "    </tr>\n",
       "  </thead>\n",
       "  <tbody>\n",
       "    <tr>\n",
       "      <th>59</th>\n",
       "      <td>0064_02</td>\n",
       "      <td>NaN</td>\n",
       "      <td>True</td>\n",
       "      <td>E/3/S</td>\n",
       "      <td>TRAPPIST-1e</td>\n",
       "      <td>33.0</td>\n",
       "      <td>False</td>\n",
       "      <td>0.0</td>\n",
       "      <td>0.0</td>\n",
       "      <td>NaN</td>\n",
       "      <td>0.0</td>\n",
       "      <td>0.0</td>\n",
       "      <td>Colatz Keen</td>\n",
       "      <td>True</td>\n",
       "    </tr>\n",
       "    <tr>\n",
       "      <th>113</th>\n",
       "      <td>0119_01</td>\n",
       "      <td>NaN</td>\n",
       "      <td>False</td>\n",
       "      <td>A/0/P</td>\n",
       "      <td>TRAPPIST-1e</td>\n",
       "      <td>39.0</td>\n",
       "      <td>False</td>\n",
       "      <td>0.0</td>\n",
       "      <td>2344.0</td>\n",
       "      <td>0.0</td>\n",
       "      <td>65.0</td>\n",
       "      <td>6898.0</td>\n",
       "      <td>Batan Coning</td>\n",
       "      <td>False</td>\n",
       "    </tr>\n",
       "    <tr>\n",
       "      <th>186</th>\n",
       "      <td>0210_01</td>\n",
       "      <td>NaN</td>\n",
       "      <td>True</td>\n",
       "      <td>D/6/P</td>\n",
       "      <td>55 Cancri e</td>\n",
       "      <td>24.0</td>\n",
       "      <td>False</td>\n",
       "      <td>0.0</td>\n",
       "      <td>0.0</td>\n",
       "      <td>NaN</td>\n",
       "      <td>0.0</td>\n",
       "      <td>0.0</td>\n",
       "      <td>Arraid Inicont</td>\n",
       "      <td>True</td>\n",
       "    </tr>\n",
       "    <tr>\n",
       "      <th>225</th>\n",
       "      <td>0242_01</td>\n",
       "      <td>NaN</td>\n",
       "      <td>False</td>\n",
       "      <td>F/46/S</td>\n",
       "      <td>TRAPPIST-1e</td>\n",
       "      <td>18.0</td>\n",
       "      <td>False</td>\n",
       "      <td>313.0</td>\n",
       "      <td>1.0</td>\n",
       "      <td>691.0</td>\n",
       "      <td>283.0</td>\n",
       "      <td>0.0</td>\n",
       "      <td>Almone Sté</td>\n",
       "      <td>False</td>\n",
       "    </tr>\n",
       "    <tr>\n",
       "      <th>234</th>\n",
       "      <td>0251_01</td>\n",
       "      <td>NaN</td>\n",
       "      <td>True</td>\n",
       "      <td>C/11/S</td>\n",
       "      <td>55 Cancri e</td>\n",
       "      <td>54.0</td>\n",
       "      <td>False</td>\n",
       "      <td>0.0</td>\n",
       "      <td>0.0</td>\n",
       "      <td>0.0</td>\n",
       "      <td>0.0</td>\n",
       "      <td>0.0</td>\n",
       "      <td>Diphah Amsive</td>\n",
       "      <td>True</td>\n",
       "    </tr>\n",
       "    <tr>\n",
       "      <th>...</th>\n",
       "      <td>...</td>\n",
       "      <td>...</td>\n",
       "      <td>...</td>\n",
       "      <td>...</td>\n",
       "      <td>...</td>\n",
       "      <td>...</td>\n",
       "      <td>...</td>\n",
       "      <td>...</td>\n",
       "      <td>...</td>\n",
       "      <td>...</td>\n",
       "      <td>...</td>\n",
       "      <td>...</td>\n",
       "      <td>...</td>\n",
       "      <td>...</td>\n",
       "    </tr>\n",
       "    <tr>\n",
       "      <th>8515</th>\n",
       "      <td>9084_01</td>\n",
       "      <td>NaN</td>\n",
       "      <td>False</td>\n",
       "      <td>E/582/P</td>\n",
       "      <td>TRAPPIST-1e</td>\n",
       "      <td>25.0</td>\n",
       "      <td>False</td>\n",
       "      <td>1258.0</td>\n",
       "      <td>0.0</td>\n",
       "      <td>22.0</td>\n",
       "      <td>19.0</td>\n",
       "      <td>0.0</td>\n",
       "      <td>Jurs Mone</td>\n",
       "      <td>False</td>\n",
       "    </tr>\n",
       "    <tr>\n",
       "      <th>8613</th>\n",
       "      <td>9194_01</td>\n",
       "      <td>NaN</td>\n",
       "      <td>False</td>\n",
       "      <td>E/603/S</td>\n",
       "      <td>55 Cancri e</td>\n",
       "      <td>53.0</td>\n",
       "      <td>False</td>\n",
       "      <td>0.0</td>\n",
       "      <td>4017.0</td>\n",
       "      <td>0.0</td>\n",
       "      <td>13.0</td>\n",
       "      <td>3147.0</td>\n",
       "      <td>NaN</td>\n",
       "      <td>False</td>\n",
       "    </tr>\n",
       "    <tr>\n",
       "      <th>8666</th>\n",
       "      <td>9248_01</td>\n",
       "      <td>NaN</td>\n",
       "      <td>False</td>\n",
       "      <td>F/1792/S</td>\n",
       "      <td>55 Cancri e</td>\n",
       "      <td>38.0</td>\n",
       "      <td>NaN</td>\n",
       "      <td>28.0</td>\n",
       "      <td>1208.0</td>\n",
       "      <td>973.0</td>\n",
       "      <td>207.0</td>\n",
       "      <td>0.0</td>\n",
       "      <td>Gian Perle</td>\n",
       "      <td>True</td>\n",
       "    </tr>\n",
       "    <tr>\n",
       "      <th>8674</th>\n",
       "      <td>9257_01</td>\n",
       "      <td>NaN</td>\n",
       "      <td>False</td>\n",
       "      <td>F/1892/P</td>\n",
       "      <td>TRAPPIST-1e</td>\n",
       "      <td>13.0</td>\n",
       "      <td>False</td>\n",
       "      <td>39.0</td>\n",
       "      <td>0.0</td>\n",
       "      <td>1085.0</td>\n",
       "      <td>24.0</td>\n",
       "      <td>0.0</td>\n",
       "      <td>Ties Apple</td>\n",
       "      <td>False</td>\n",
       "    </tr>\n",
       "    <tr>\n",
       "      <th>8684</th>\n",
       "      <td>9274_01</td>\n",
       "      <td>NaN</td>\n",
       "      <td>True</td>\n",
       "      <td>G/1508/P</td>\n",
       "      <td>TRAPPIST-1e</td>\n",
       "      <td>23.0</td>\n",
       "      <td>False</td>\n",
       "      <td>0.0</td>\n",
       "      <td>0.0</td>\n",
       "      <td>0.0</td>\n",
       "      <td>0.0</td>\n",
       "      <td>0.0</td>\n",
       "      <td>Chelsa Bullisey</td>\n",
       "      <td>True</td>\n",
       "    </tr>\n",
       "  </tbody>\n",
       "</table>\n",
       "<p>201 rows × 14 columns</p>\n",
       "</div>"
      ],
      "text/plain": [
       "     PassengerId HomePlanet CryoSleep     Cabin  Destination   Age    VIP  \\\n",
       "59       0064_02        NaN      True     E/3/S  TRAPPIST-1e  33.0  False   \n",
       "113      0119_01        NaN     False     A/0/P  TRAPPIST-1e  39.0  False   \n",
       "186      0210_01        NaN      True     D/6/P  55 Cancri e  24.0  False   \n",
       "225      0242_01        NaN     False    F/46/S  TRAPPIST-1e  18.0  False   \n",
       "234      0251_01        NaN      True    C/11/S  55 Cancri e  54.0  False   \n",
       "...          ...        ...       ...       ...          ...   ...    ...   \n",
       "8515     9084_01        NaN     False   E/582/P  TRAPPIST-1e  25.0  False   \n",
       "8613     9194_01        NaN     False   E/603/S  55 Cancri e  53.0  False   \n",
       "8666     9248_01        NaN     False  F/1792/S  55 Cancri e  38.0    NaN   \n",
       "8674     9257_01        NaN     False  F/1892/P  TRAPPIST-1e  13.0  False   \n",
       "8684     9274_01        NaN      True  G/1508/P  TRAPPIST-1e  23.0  False   \n",
       "\n",
       "      RoomService  FoodCourt  ShoppingMall    Spa  VRDeck             Name  \\\n",
       "59            0.0        0.0           NaN    0.0     0.0      Colatz Keen   \n",
       "113           0.0     2344.0           0.0   65.0  6898.0     Batan Coning   \n",
       "186           0.0        0.0           NaN    0.0     0.0   Arraid Inicont   \n",
       "225         313.0        1.0         691.0  283.0     0.0       Almone Sté   \n",
       "234           0.0        0.0           0.0    0.0     0.0    Diphah Amsive   \n",
       "...           ...        ...           ...    ...     ...              ...   \n",
       "8515       1258.0        0.0          22.0   19.0     0.0        Jurs Mone   \n",
       "8613          0.0     4017.0           0.0   13.0  3147.0              NaN   \n",
       "8666         28.0     1208.0         973.0  207.0     0.0       Gian Perle   \n",
       "8674         39.0        0.0        1085.0   24.0     0.0       Ties Apple   \n",
       "8684          0.0        0.0           0.0    0.0     0.0  Chelsa Bullisey   \n",
       "\n",
       "      Transported  \n",
       "59           True  \n",
       "113         False  \n",
       "186          True  \n",
       "225         False  \n",
       "234          True  \n",
       "...           ...  \n",
       "8515        False  \n",
       "8613        False  \n",
       "8666         True  \n",
       "8674        False  \n",
       "8684         True  \n",
       "\n",
       "[201 rows x 14 columns]"
      ]
     },
     "execution_count": 9,
     "metadata": {},
     "output_type": "execute_result"
    }
   ],
   "source": [
    "passenger_data[passenger_data.HomePlanet.isna()]"
   ]
  },
  {
   "cell_type": "code",
   "execution_count": 10,
   "id": "0ee3c9db-3828-49f6-aa4d-89600aae1d16",
   "metadata": {},
   "outputs": [
    {
     "data": {
      "text/plain": [
       "False    5439\n",
       "True     3037\n",
       "NaN       217\n",
       "Name: CryoSleep, dtype: int64"
      ]
     },
     "execution_count": 10,
     "metadata": {},
     "output_type": "execute_result"
    }
   ],
   "source": [
    "passenger_data.CryoSleep.value_counts(dropna=False)"
   ]
  },
  {
   "cell_type": "code",
   "execution_count": 11,
   "id": "53ed6842-0a64-4766-886d-446f9f8db3a7",
   "metadata": {},
   "outputs": [],
   "source": [
    "destinations = passenger_data.Destination.value_counts().sort_values(ascending = True)"
   ]
  },
  {
   "cell_type": "code",
   "execution_count": 12,
   "id": "d1061945-ac57-4ce7-be83-f5f4e6637d9b",
   "metadata": {},
   "outputs": [
    {
     "data": {
      "text/plain": [
       "PSO J318.5-22     796\n",
       "55 Cancri e      1800\n",
       "TRAPPIST-1e      5915\n",
       "Name: Destination, dtype: int64"
      ]
     },
     "execution_count": 12,
     "metadata": {},
     "output_type": "execute_result"
    }
   ],
   "source": [
    "destinations"
   ]
  },
  {
   "cell_type": "code",
   "execution_count": 13,
   "id": "2cae2703-51b4-440a-8bd5-ba4b6d43525e",
   "metadata": {},
   "outputs": [
    {
     "data": {
      "image/png": "[encoded data removed]",
      "text/plain": [
       "<Figure size 640x480 with 1 Axes>"
      ]
     },
     "metadata": {},
     "output_type": "display_data"
    }
   ],
   "source": [
    "plt.barh(destinations.index, destinations)\n",
    "plt.xlabel('Num passengers')\n",
    "plt.ylabel('Destination')\n",
    "plt.show()"
   ]
  },
  {
   "cell_type": "code",
   "execution_count": 14,
   "id": "c5081689-dc69-4451-98b6-353daf06226f",
   "metadata": {},
   "outputs": [],
   "source": [
    "passangers_ids = passenger_data.PassengerId.str.split('_', expand=True)"
   ]
  },
  {
   "cell_type": "code",
   "execution_count": 15,
   "id": "c3e89a90-0b3c-4441-8614-d2c11b02aab2",
   "metadata": {},
   "outputs": [
    {
     "data": {
      "text/html": [
       "<div>\n",
       "<style scoped>\n",
       "    .dataframe tbody tr th:only-of-type {\n",
       "        vertical-align: middle;\n",
       "    }\n",
       "\n",
       "    .dataframe tbody tr th {\n",
       "        vertical-align: top;\n",
       "    }\n",
       "\n",
       "    .dataframe thead th {\n",
       "        text-align: right;\n",
       "    }\n",
       "</style>\n",
       "<table border=\"1\" class=\"dataframe\">\n",
       "  <thead>\n",
       "    <tr style=\"text-align: right;\">\n",
       "      <th></th>\n",
       "      <th>0</th>\n",
       "      <th>1</th>\n",
       "    </tr>\n",
       "  </thead>\n",
       "  <tbody>\n",
       "    <tr>\n",
       "      <th>0</th>\n",
       "      <td>0001</td>\n",
       "      <td>01</td>\n",
       "    </tr>\n",
       "    <tr>\n",
       "      <th>1</th>\n",
       "      <td>0002</td>\n",
       "      <td>01</td>\n",
       "    </tr>\n",
       "    <tr>\n",
       "      <th>2</th>\n",
       "      <td>0003</td>\n",
       "      <td>01</td>\n",
       "    </tr>\n",
       "    <tr>\n",
       "      <th>3</th>\n",
       "      <td>0003</td>\n",
       "      <td>02</td>\n",
       "    </tr>\n",
       "    <tr>\n",
       "      <th>4</th>\n",
       "      <td>0004</td>\n",
       "      <td>01</td>\n",
       "    </tr>\n",
       "    <tr>\n",
       "      <th>...</th>\n",
       "      <td>...</td>\n",
       "      <td>...</td>\n",
       "    </tr>\n",
       "    <tr>\n",
       "      <th>8688</th>\n",
       "      <td>9276</td>\n",
       "      <td>01</td>\n",
       "    </tr>\n",
       "    <tr>\n",
       "      <th>8689</th>\n",
       "      <td>9278</td>\n",
       "      <td>01</td>\n",
       "    </tr>\n",
       "    <tr>\n",
       "      <th>8690</th>\n",
       "      <td>9279</td>\n",
       "      <td>01</td>\n",
       "    </tr>\n",
       "    <tr>\n",
       "      <th>8691</th>\n",
       "      <td>9280</td>\n",
       "      <td>01</td>\n",
       "    </tr>\n",
       "    <tr>\n",
       "      <th>8692</th>\n",
       "      <td>9280</td>\n",
       "      <td>02</td>\n",
       "    </tr>\n",
       "  </tbody>\n",
       "</table>\n",
       "<p>8693 rows × 2 columns</p>\n",
       "</div>"
      ],
      "text/plain": [
       "         0   1\n",
       "0     0001  01\n",
       "1     0002  01\n",
       "2     0003  01\n",
       "3     0003  02\n",
       "4     0004  01\n",
       "...    ...  ..\n",
       "8688  9276  01\n",
       "8689  9278  01\n",
       "8690  9279  01\n",
       "8691  9280  01\n",
       "8692  9280  02\n",
       "\n",
       "[8693 rows x 2 columns]"
      ]
     },
     "execution_count": 15,
     "metadata": {},
     "output_type": "execute_result"
    }
   ],
   "source": [
    "passangers_ids"
   ]
  },
  {
   "cell_type": "code",
   "execution_count": 16,
   "id": "e9ac116e-3042-4b15-b378-bf7e59c23a94",
   "metadata": {},
   "outputs": [
    {
     "data": {
      "text/plain": [
       "4498    8\n",
       "8168    8\n",
       "8728    8\n",
       "8796    8\n",
       "8956    8\n",
       "       ..\n",
       "3483    1\n",
       "3480    1\n",
       "3478    1\n",
       "3473    1\n",
       "4620    1\n",
       "Name: 0, Length: 6217, dtype: int64"
      ]
     },
     "execution_count": 16,
     "metadata": {},
     "output_type": "execute_result"
    }
   ],
   "source": [
    "passangers_ids[0].value_counts()"
   ]
  },
  {
   "cell_type": "code",
   "execution_count": 17,
   "id": "dba98ef5-9567-4d27-b81a-07415142d786",
   "metadata": {},
   "outputs": [],
   "source": [
    "num_passengers = passenger_data.PassengerId\\\n",
    "                .str.split('_', expand=True)[0]\\\n",
    "                .value_counts()\\\n",
    "                .value_counts()"
   ]
  },
  {
   "cell_type": "code",
   "execution_count": 18,
   "id": "0ad549ff-18a8-4262-b466-06adad9e6b8c",
   "metadata": {},
   "outputs": [
    {
     "data": {
      "image/png": "[encoded data removed]",
      "text/plain": [
       "<Figure size 640x480 with 1 Axes>"
      ]
     },
     "metadata": {},
     "output_type": "display_data"
    }
   ],
   "source": [
    "plt.barh(num_passengers.index, num_passengers)\n",
    "plt.xlabel('Num passengers')\n",
    "plt.ylabel('Number of passengers in cabin')\n",
    "plt.show()"
   ]
  },
  {
   "cell_type": "code",
   "execution_count": 19,
   "id": "9e3cd0f9-f0d9-4ba5-9d26-3674cfb7d290",
   "metadata": {},
   "outputs": [
    {
     "data": {
      "text/plain": [
       "True     4378\n",
       "False    4315\n",
       "Name: Transported, dtype: int64"
      ]
     },
     "execution_count": 19,
     "metadata": {},
     "output_type": "execute_result"
    }
   ],
   "source": [
    "passenger_data.Transported.value_counts(dropna=False)"
   ]
  },
  {
   "cell_type": "code",
   "execution_count": 20,
   "id": "6f779e52-cf86-442f-ae70-09a89187277a",
   "metadata": {},
   "outputs": [],
   "source": [
    "# Separate the target column\n",
    "passenger_attributes = passenger_data.drop(columns=['Transported']) # x\n",
    "passenger_labels = passenger_data.Transported # y"
   ]
  },
  {
   "cell_type": "markdown",
   "id": "dc8a4c00-915e-4d0b-9acc-722be5a87d59",
   "metadata": {},
   "source": [
    "### To enable the model to function, each value in the dataset must be a number!"
   ]
  },
  {
   "cell_type": "code",
   "execution_count": 21,
   "id": "0b6811d7-024b-4768-9cd1-cb10c720d75e",
   "metadata": {},
   "outputs": [],
   "source": [
    "passenger_attributes = passenger_attributes.drop(columns=['PassengerId', 'Name', 'Cabin'])"
   ]
  },
  {
   "cell_type": "code",
   "execution_count": 22,
   "id": "56396f5e-3b04-4c52-84bd-4ecb982eff94",
   "metadata": {},
   "outputs": [
    {
     "data": {
      "text/plain": [
       "HomePlanet       object\n",
       "CryoSleep        object\n",
       "Destination      object\n",
       "Age             float64\n",
       "VIP              object\n",
       "RoomService     float64\n",
       "FoodCourt       float64\n",
       "ShoppingMall    float64\n",
       "Spa             float64\n",
       "VRDeck          float64\n",
       "dtype: object"
      ]
     },
     "execution_count": 22,
     "metadata": {},
     "output_type": "execute_result"
    }
   ],
   "source": [
    "passenger_attributes.dtypes"
   ]
  },
  {
   "cell_type": "code",
   "execution_count": 23,
   "id": "cc8c81e3-126a-42c3-a2c7-a62cd1262cbb",
   "metadata": {},
   "outputs": [
    {
     "data": {
      "text/html": [
       "<div>\n",
       "<style scoped>\n",
       "    .dataframe tbody tr th:only-of-type {\n",
       "        vertical-align: middle;\n",
       "    }\n",
       "\n",
       "    .dataframe tbody tr th {\n",
       "        vertical-align: top;\n",
       "    }\n",
       "\n",
       "    .dataframe thead th {\n",
       "        text-align: right;\n",
       "    }\n",
       "</style>\n",
       "<table border=\"1\" class=\"dataframe\">\n",
       "  <thead>\n",
       "    <tr style=\"text-align: right;\">\n",
       "      <th></th>\n",
       "      <th>Earth</th>\n",
       "      <th>Europa</th>\n",
       "      <th>Mars</th>\n",
       "    </tr>\n",
       "  </thead>\n",
       "  <tbody>\n",
       "    <tr>\n",
       "      <th>0</th>\n",
       "      <td>0</td>\n",
       "      <td>1</td>\n",
       "      <td>0</td>\n",
       "    </tr>\n",
       "    <tr>\n",
       "      <th>1</th>\n",
       "      <td>1</td>\n",
       "      <td>0</td>\n",
       "      <td>0</td>\n",
       "    </tr>\n",
       "    <tr>\n",
       "      <th>2</th>\n",
       "      <td>0</td>\n",
       "      <td>1</td>\n",
       "      <td>0</td>\n",
       "    </tr>\n",
       "    <tr>\n",
       "      <th>3</th>\n",
       "      <td>0</td>\n",
       "      <td>1</td>\n",
       "      <td>0</td>\n",
       "    </tr>\n",
       "    <tr>\n",
       "      <th>4</th>\n",
       "      <td>1</td>\n",
       "      <td>0</td>\n",
       "      <td>0</td>\n",
       "    </tr>\n",
       "    <tr>\n",
       "      <th>...</th>\n",
       "      <td>...</td>\n",
       "      <td>...</td>\n",
       "      <td>...</td>\n",
       "    </tr>\n",
       "    <tr>\n",
       "      <th>8688</th>\n",
       "      <td>0</td>\n",
       "      <td>1</td>\n",
       "      <td>0</td>\n",
       "    </tr>\n",
       "    <tr>\n",
       "      <th>8689</th>\n",
       "      <td>1</td>\n",
       "      <td>0</td>\n",
       "      <td>0</td>\n",
       "    </tr>\n",
       "    <tr>\n",
       "      <th>8690</th>\n",
       "      <td>1</td>\n",
       "      <td>0</td>\n",
       "      <td>0</td>\n",
       "    </tr>\n",
       "    <tr>\n",
       "      <th>8691</th>\n",
       "      <td>0</td>\n",
       "      <td>1</td>\n",
       "      <td>0</td>\n",
       "    </tr>\n",
       "    <tr>\n",
       "      <th>8692</th>\n",
       "      <td>0</td>\n",
       "      <td>1</td>\n",
       "      <td>0</td>\n",
       "    </tr>\n",
       "  </tbody>\n",
       "</table>\n",
       "<p>8693 rows × 3 columns</p>\n",
       "</div>"
      ],
      "text/plain": [
       "      Earth  Europa  Mars\n",
       "0         0       1     0\n",
       "1         1       0     0\n",
       "2         0       1     0\n",
       "3         0       1     0\n",
       "4         1       0     0\n",
       "...     ...     ...   ...\n",
       "8688      0       1     0\n",
       "8689      1       0     0\n",
       "8690      1       0     0\n",
       "8691      0       1     0\n",
       "8692      0       1     0\n",
       "\n",
       "[8693 rows x 3 columns]"
      ]
     },
     "execution_count": 23,
     "metadata": {},
     "output_type": "execute_result"
    }
   ],
   "source": [
    "pd.get_dummies(passenger_attributes['HomePlanet'])"
   ]
  },
  {
   "cell_type": "code",
   "execution_count": 24,
   "id": "4edec3c3-8172-4289-b937-1954d3ca46b9",
   "metadata": {},
   "outputs": [],
   "source": [
    "passenger_attributes = pd.get_dummies(passenger_attributes, drop_first=True)"
   ]
  },
  {
   "cell_type": "code",
   "execution_count": 25,
   "id": "9d57d03f-a18a-4096-b0f6-d35fc3495c83",
   "metadata": {},
   "outputs": [],
   "source": [
    "passenger_attributes = passenger_attributes.dropna()"
   ]
  },
  {
   "cell_type": "code",
   "execution_count": 26,
   "id": "a0871ab8-8f5f-468a-835d-77669d1c3733",
   "metadata": {},
   "outputs": [
    {
     "data": {
      "text/plain": [
       "(7620, 12)"
      ]
     },
     "execution_count": 26,
     "metadata": {},
     "output_type": "execute_result"
    }
   ],
   "source": [
    "passenger_attributes.shape"
   ]
  },
  {
   "cell_type": "code",
   "execution_count": 27,
   "id": "dca8e540-23a4-40b1-815e-02056be448f7",
   "metadata": {},
   "outputs": [],
   "source": [
    "passenger_labels = passenger_labels.loc[passenger_attributes.index]"
   ]
  },
  {
   "cell_type": "code",
   "execution_count": 28,
   "id": "d280106e-b207-4fb2-95a5-d2c54cf781dd",
   "metadata": {},
   "outputs": [
    {
     "data": {
      "text/plain": [
       "(7620, 7620)"
      ]
     },
     "execution_count": 28,
     "metadata": {},
     "output_type": "execute_result"
    }
   ],
   "source": [
    "len(passenger_attributes), len(passenger_labels)"
   ]
  },
  {
   "cell_type": "code",
   "execution_count": 29,
   "id": "439e9a21-22df-44bf-b169-5c3baba3c086",
   "metadata": {},
   "outputs": [],
   "source": [
    "model = LogisticRegression(C=1e9)"
   ]
  },
  {
   "cell_type": "code",
   "execution_count": 30,
   "id": "b860e7f8-f324-451d-83a7-f9bb0db1b4f3",
   "metadata": {},
   "outputs": [
    {
     "name": "stderr",
     "output_type": "stream",
     "text": [
      "C:\\Users\\lenovo\\anaconda3\\lib\\site-packages\\sklearn\\linear_model\\_logistic.py:814: ConvergenceWarning: lbfgs failed to converge (status=1):\n",
      "STOP: TOTAL NO. of ITERATIONS REACHED LIMIT.\n",
      "\n",
      "Increase the number of iterations (max_iter) or scale the data as shown in:\n",
      "    https://scikit-learn.org/stable/modules/preprocessing.html\n",
      "Please also refer to the documentation for alternative solver options:\n",
      "    https://scikit-learn.org/stable/modules/linear_model.html#logistic-regression\n",
      "  n_iter_i = _check_optimize_result(\n"
     ]
    },
    {
     "data": {
      "text/plain": [
       "LogisticRegression(C=1000000000.0)"
      ]
     },
     "execution_count": 30,
     "metadata": {},
     "output_type": "execute_result"
    }
   ],
   "source": [
    "model.fit(passenger_attributes, passenger_labels)"
   ]
  },
  {
   "cell_type": "code",
   "execution_count": 31,
   "id": "13866ee9-79ae-4d38-8ac8-0a2bc9fc84a1",
   "metadata": {},
   "outputs": [
    {
     "data": {
      "text/plain": [
       "0.7892388451443569"
      ]
     },
     "execution_count": 31,
     "metadata": {},
     "output_type": "execute_result"
    }
   ],
   "source": [
    "model.score(passenger_attributes, passenger_labels)"
   ]
  },
  {
   "cell_type": "code",
   "execution_count": 32,
   "id": "4476e4be-0935-4c9a-a4b0-93d34657ad5b",
   "metadata": {},
   "outputs": [],
   "source": [
    "test_passenger_data = pd.read_csv('Data/test.csv')"
   ]
  },
  {
   "cell_type": "code",
   "execution_count": 33,
   "id": "76bc5f2e-413b-465d-9bf3-e7c260f20699",
   "metadata": {},
   "outputs": [],
   "source": [
    "# Apply same data transformations to the test dataset\n",
    "test_passenger_attributes = test_passenger_data\n",
    "\n",
    "test_passenger_attributes = test_passenger_attributes.drop(columns=['PassengerId', 'Name', 'Cabin'])\n",
    "test_passenger_attributes = pd.get_dummies(test_passenger_attributes, drop_first=True)\n",
    "test_passenger_attributes= test_passenger_attributes.dropna()\n"
   ]
  },
  {
   "cell_type": "code",
   "execution_count": 34,
   "id": "f2afef46-7868-45d1-8651-900ab6c097a4",
   "metadata": {},
   "outputs": [
    {
     "data": {
      "text/html": [
       "<div>\n",
       "<style scoped>\n",
       "    .dataframe tbody tr th:only-of-type {\n",
       "        vertical-align: middle;\n",
       "    }\n",
       "\n",
       "    .dataframe tbody tr th {\n",
       "        vertical-align: top;\n",
       "    }\n",
       "\n",
       "    .dataframe thead th {\n",
       "        text-align: right;\n",
       "    }\n",
       "</style>\n",
       "<table border=\"1\" class=\"dataframe\">\n",
       "  <thead>\n",
       "    <tr style=\"text-align: right;\">\n",
       "      <th></th>\n",
       "      <th>Age</th>\n",
       "      <th>RoomService</th>\n",
       "      <th>FoodCourt</th>\n",
       "      <th>ShoppingMall</th>\n",
       "      <th>Spa</th>\n",
       "      <th>VRDeck</th>\n",
       "      <th>HomePlanet_Europa</th>\n",
       "      <th>HomePlanet_Mars</th>\n",
       "      <th>CryoSleep_True</th>\n",
       "      <th>Destination_PSO J318.5-22</th>\n",
       "      <th>Destination_TRAPPIST-1e</th>\n",
       "      <th>VIP_True</th>\n",
       "    </tr>\n",
       "  </thead>\n",
       "  <tbody>\n",
       "    <tr>\n",
       "      <th>0</th>\n",
       "      <td>27.0</td>\n",
       "      <td>0.0</td>\n",
       "      <td>0.0</td>\n",
       "      <td>0.0</td>\n",
       "      <td>0.0</td>\n",
       "      <td>0.0</td>\n",
       "      <td>0</td>\n",
       "      <td>0</td>\n",
       "      <td>1</td>\n",
       "      <td>0</td>\n",
       "      <td>1</td>\n",
       "      <td>0</td>\n",
       "    </tr>\n",
       "    <tr>\n",
       "      <th>1</th>\n",
       "      <td>19.0</td>\n",
       "      <td>0.0</td>\n",
       "      <td>9.0</td>\n",
       "      <td>0.0</td>\n",
       "      <td>2823.0</td>\n",
       "      <td>0.0</td>\n",
       "      <td>0</td>\n",
       "      <td>0</td>\n",
       "      <td>0</td>\n",
       "      <td>0</td>\n",
       "      <td>1</td>\n",
       "      <td>0</td>\n",
       "    </tr>\n",
       "    <tr>\n",
       "      <th>2</th>\n",
       "      <td>31.0</td>\n",
       "      <td>0.0</td>\n",
       "      <td>0.0</td>\n",
       "      <td>0.0</td>\n",
       "      <td>0.0</td>\n",
       "      <td>0.0</td>\n",
       "      <td>1</td>\n",
       "      <td>0</td>\n",
       "      <td>1</td>\n",
       "      <td>0</td>\n",
       "      <td>0</td>\n",
       "      <td>0</td>\n",
       "    </tr>\n",
       "    <tr>\n",
       "      <th>3</th>\n",
       "      <td>38.0</td>\n",
       "      <td>0.0</td>\n",
       "      <td>6652.0</td>\n",
       "      <td>0.0</td>\n",
       "      <td>181.0</td>\n",
       "      <td>585.0</td>\n",
       "      <td>1</td>\n",
       "      <td>0</td>\n",
       "      <td>0</td>\n",
       "      <td>0</td>\n",
       "      <td>1</td>\n",
       "      <td>0</td>\n",
       "    </tr>\n",
       "    <tr>\n",
       "      <th>4</th>\n",
       "      <td>20.0</td>\n",
       "      <td>10.0</td>\n",
       "      <td>0.0</td>\n",
       "      <td>635.0</td>\n",
       "      <td>0.0</td>\n",
       "      <td>0.0</td>\n",
       "      <td>0</td>\n",
       "      <td>0</td>\n",
       "      <td>0</td>\n",
       "      <td>0</td>\n",
       "      <td>1</td>\n",
       "      <td>0</td>\n",
       "    </tr>\n",
       "    <tr>\n",
       "      <th>...</th>\n",
       "      <td>...</td>\n",
       "      <td>...</td>\n",
       "      <td>...</td>\n",
       "      <td>...</td>\n",
       "      <td>...</td>\n",
       "      <td>...</td>\n",
       "      <td>...</td>\n",
       "      <td>...</td>\n",
       "      <td>...</td>\n",
       "      <td>...</td>\n",
       "      <td>...</td>\n",
       "      <td>...</td>\n",
       "    </tr>\n",
       "    <tr>\n",
       "      <th>4270</th>\n",
       "      <td>43.0</td>\n",
       "      <td>47.0</td>\n",
       "      <td>0.0</td>\n",
       "      <td>3851.0</td>\n",
       "      <td>0.0</td>\n",
       "      <td>0.0</td>\n",
       "      <td>0</td>\n",
       "      <td>1</td>\n",
       "      <td>0</td>\n",
       "      <td>0</td>\n",
       "      <td>1</td>\n",
       "      <td>0</td>\n",
       "    </tr>\n",
       "    <tr>\n",
       "      <th>4271</th>\n",
       "      <td>40.0</td>\n",
       "      <td>0.0</td>\n",
       "      <td>865.0</td>\n",
       "      <td>0.0</td>\n",
       "      <td>3.0</td>\n",
       "      <td>0.0</td>\n",
       "      <td>0</td>\n",
       "      <td>0</td>\n",
       "      <td>0</td>\n",
       "      <td>0</td>\n",
       "      <td>1</td>\n",
       "      <td>0</td>\n",
       "    </tr>\n",
       "    <tr>\n",
       "      <th>4272</th>\n",
       "      <td>34.0</td>\n",
       "      <td>0.0</td>\n",
       "      <td>0.0</td>\n",
       "      <td>0.0</td>\n",
       "      <td>0.0</td>\n",
       "      <td>0.0</td>\n",
       "      <td>0</td>\n",
       "      <td>0</td>\n",
       "      <td>1</td>\n",
       "      <td>0</td>\n",
       "      <td>1</td>\n",
       "      <td>0</td>\n",
       "    </tr>\n",
       "    <tr>\n",
       "      <th>4273</th>\n",
       "      <td>42.0</td>\n",
       "      <td>0.0</td>\n",
       "      <td>847.0</td>\n",
       "      <td>17.0</td>\n",
       "      <td>10.0</td>\n",
       "      <td>144.0</td>\n",
       "      <td>0</td>\n",
       "      <td>0</td>\n",
       "      <td>0</td>\n",
       "      <td>0</td>\n",
       "      <td>1</td>\n",
       "      <td>0</td>\n",
       "    </tr>\n",
       "    <tr>\n",
       "      <th>4276</th>\n",
       "      <td>43.0</td>\n",
       "      <td>0.0</td>\n",
       "      <td>0.0</td>\n",
       "      <td>0.0</td>\n",
       "      <td>0.0</td>\n",
       "      <td>0.0</td>\n",
       "      <td>0</td>\n",
       "      <td>0</td>\n",
       "      <td>1</td>\n",
       "      <td>1</td>\n",
       "      <td>0</td>\n",
       "      <td>0</td>\n",
       "    </tr>\n",
       "  </tbody>\n",
       "</table>\n",
       "<p>3740 rows × 12 columns</p>\n",
       "</div>"
      ],
      "text/plain": [
       "       Age  RoomService  FoodCourt  ShoppingMall     Spa  VRDeck  \\\n",
       "0     27.0          0.0        0.0           0.0     0.0     0.0   \n",
       "1     19.0          0.0        9.0           0.0  2823.0     0.0   \n",
       "2     31.0          0.0        0.0           0.0     0.0     0.0   \n",
       "3     38.0          0.0     6652.0           0.0   181.0   585.0   \n",
       "4     20.0         10.0        0.0         635.0     0.0     0.0   \n",
       "...    ...          ...        ...           ...     ...     ...   \n",
       "4270  43.0         47.0        0.0        3851.0     0.0     0.0   \n",
       "4271  40.0          0.0      865.0           0.0     3.0     0.0   \n",
       "4272  34.0          0.0        0.0           0.0     0.0     0.0   \n",
       "4273  42.0          0.0      847.0          17.0    10.0   144.0   \n",
       "4276  43.0          0.0        0.0           0.0     0.0     0.0   \n",
       "\n",
       "      HomePlanet_Europa  HomePlanet_Mars  CryoSleep_True  \\\n",
       "0                     0                0               1   \n",
       "1                     0                0               0   \n",
       "2                     1                0               1   \n",
       "3                     1                0               0   \n",
       "4                     0                0               0   \n",
       "...                 ...              ...             ...   \n",
       "4270                  0                1               0   \n",
       "4271                  0                0               0   \n",
       "4272                  0                0               1   \n",
       "4273                  0                0               0   \n",
       "4276                  0                0               1   \n",
       "\n",
       "      Destination_PSO J318.5-22  Destination_TRAPPIST-1e  VIP_True  \n",
       "0                             0                        1         0  \n",
       "1                             0                        1         0  \n",
       "2                             0                        0         0  \n",
       "3                             0                        1         0  \n",
       "4                             0                        1         0  \n",
       "...                         ...                      ...       ...  \n",
       "4270                          0                        1         0  \n",
       "4271                          0                        1         0  \n",
       "4272                          0                        1         0  \n",
       "4273                          0                        1         0  \n",
       "4276                          1                        0         0  \n",
       "\n",
       "[3740 rows x 12 columns]"
      ]
     },
     "execution_count": 34,
     "metadata": {},
     "output_type": "execute_result"
    }
   ],
   "source": [
    "test_passenger_attributes"
   ]
  },
  {
   "cell_type": "code",
   "execution_count": 35,
   "id": "c2fae953-abd5-41bd-9a43-56591db6a210",
   "metadata": {},
   "outputs": [
    {
     "data": {
      "text/plain": [
       "array([ True, False, False, ...,  True, False,  True])"
      ]
     },
     "execution_count": 35,
     "metadata": {},
     "output_type": "execute_result"
    }
   ],
   "source": [
    "model.predict(passenger_attributes)"
   ]
  },
  {
   "cell_type": "code",
   "execution_count": 36,
   "id": "259c752f-089d-4be1-a0ee-7488eb0f0150",
   "metadata": {},
   "outputs": [
    {
     "name": "stdout",
     "output_type": "stream",
     "text": [
      "              precision    recall  f1-score   support\n",
      "\n",
      "       False       0.79      0.78      0.79      3789\n",
      "        True       0.79      0.80      0.79      3831\n",
      "\n",
      "    accuracy                           0.79      7620\n",
      "   macro avg       0.79      0.79      0.79      7620\n",
      "weighted avg       0.79      0.79      0.79      7620\n",
      "\n"
     ]
    }
   ],
   "source": [
    "print(classification_report(passenger_labels, model.predict(passenger_attributes)))"
   ]
  },
  {
   "cell_type": "code",
   "execution_count": 37,
   "id": "7ebefefb-2b33-41d8-97ef-5d84a3f5d02a",
   "metadata": {},
   "outputs": [
    {
     "data": {
      "text/plain": [
       "array([[-8.84328705e-05, -1.45704199e-03,  5.54121756e-04,\n",
       "         5.53082409e-04, -1.98408651e-03, -1.66757950e-03,\n",
       "         1.81594082e+00,  5.58020144e-01,  1.44697322e+00,\n",
       "        -3.84629893e-01, -6.42277663e-01, -1.79175244e-02]])"
      ]
     },
     "execution_count": 37,
     "metadata": {},
     "output_type": "execute_result"
    }
   ],
   "source": [
    "model.coef_"
   ]
  },
  {
   "cell_type": "code",
   "execution_count": 38,
   "id": "24251749-2e6a-4d45-a19d-0bd0588d6231",
   "metadata": {},
   "outputs": [
    {
     "data": {
      "text/plain": [
       "[('Age', -8.843287048740964e-05),\n",
       " ('RoomService', -0.0014570419863708921),\n",
       " ('FoodCourt', 0.0005541217560103471),\n",
       " ('ShoppingMall', 0.0005530824085882056),\n",
       " ('Spa', -0.0019840865090824723),\n",
       " ('VRDeck', -0.0016675794989779729),\n",
       " ('HomePlanet_Europa', 1.815940822348513),\n",
       " ('HomePlanet_Mars', 0.5580201442457036),\n",
       " ('CryoSleep_True', 1.4469732188968298),\n",
       " ('Destination_PSO J318.5-22', -0.3846298927797784),\n",
       " ('Destination_TRAPPIST-1e', -0.6422776634795424),\n",
       " ('VIP_True', -0.017917524421355628)]"
      ]
     },
     "execution_count": 38,
     "metadata": {},
     "output_type": "execute_result"
    }
   ],
   "source": [
    "list(zip(passenger_attributes.columns.tolist(), model.coef_[0].tolist()))"
   ]
  },
  {
   "cell_type": "code",
   "execution_count": 39,
   "id": "8464e31b-3c44-4bd6-9981-c7c82f068faf",
   "metadata": {},
   "outputs": [],
   "source": [
    "# Create new model with extremely small parameter C. Smaller parameter C means bigger regularisation."
   ]
  },
  {
   "cell_type": "code",
   "execution_count": 40,
   "id": "28404105-2bf8-4ae1-8ffe-b3cf191bb73a",
   "metadata": {},
   "outputs": [],
   "source": [
    "model_2 = LogisticRegression(C=1e-9)"
   ]
  },
  {
   "cell_type": "code",
   "execution_count": 41,
   "id": "e9e96e72-2fdb-4fcb-8892-88d1f8ac6d75",
   "metadata": {},
   "outputs": [
    {
     "data": {
      "text/plain": [
       "LogisticRegression(C=1e-09)"
      ]
     },
     "execution_count": 41,
     "metadata": {},
     "output_type": "execute_result"
    }
   ],
   "source": [
    "model_2.fit(passenger_attributes, passenger_labels)"
   ]
  },
  {
   "cell_type": "code",
   "execution_count": 42,
   "id": "4b8862ef-e0b1-4e37-b530-7471f4570282",
   "metadata": {},
   "outputs": [
    {
     "data": {
      "text/plain": [
       "0.7526246719160105"
      ]
     },
     "execution_count": 42,
     "metadata": {},
     "output_type": "execute_result"
    }
   ],
   "source": [
    "model_2.score(passenger_attributes, passenger_labels)"
   ]
  },
  {
   "cell_type": "code",
   "execution_count": 43,
   "id": "800ed601-c940-4b08-88bf-91aa19a846a2",
   "metadata": {},
   "outputs": [
    {
     "data": {
      "text/plain": [
       "array([[-2.52137344e-06, -3.75334556e-04,  1.45306215e-04,\n",
       "         2.39715436e-05, -3.89305312e-04, -3.53410277e-04,\n",
       "         3.47446161e-07,  3.78495341e-08,  6.88461160e-07,\n",
       "        -1.52117229e-08, -1.76473539e-07, -1.12834574e-08]])"
      ]
     },
     "execution_count": 43,
     "metadata": {},
     "output_type": "execute_result"
    }
   ],
   "source": [
    "model_2.coef_"
   ]
  },
  {
   "cell_type": "code",
   "execution_count": 44,
   "id": "4d10ce89-2391-4809-9b53-abe77a71bae3",
   "metadata": {},
   "outputs": [
    {
     "data": {
      "text/plain": [
       "[('Age', -2.5213734393012253e-06),\n",
       " ('RoomService', -0.00037533455556169323),\n",
       " ('FoodCourt', 0.0001453062152902322),\n",
       " ('ShoppingMall', 2.3971543598033592e-05),\n",
       " ('Spa', -0.0003893053121120718),\n",
       " ('VRDeck', -0.0003534102768936705),\n",
       " ('HomePlanet_Europa', 3.4744616078429724e-07),\n",
       " ('HomePlanet_Mars', 3.784953410011722e-08),\n",
       " ('CryoSleep_True', 6.884611596547063e-07),\n",
       " ('Destination_PSO J318.5-22', -1.521172290921782e-08),\n",
       " ('Destination_TRAPPIST-1e', -1.7647353899822498e-07),\n",
       " ('VIP_True', -1.1283457443199421e-08)]"
      ]
     },
     "execution_count": 44,
     "metadata": {},
     "output_type": "execute_result"
    }
   ],
   "source": [
    "list(zip(passenger_attributes.columns.tolist(), model_2.coef_[0].tolist()))"
   ]
  },
  {
   "cell_type": "code",
   "execution_count": 45,
   "id": "f9ffc772-2b57-4d2d-9c72-ede4db5b71ff",
   "metadata": {},
   "outputs": [
    {
     "data": {
      "text/plain": [
       "[('Age', -8.843287048740964e-05, -2.5213734393012253e-06),\n",
       " ('RoomService', -0.0014570419863708921, -0.00037533455556169323),\n",
       " ('FoodCourt', 0.0005541217560103471, 0.0001453062152902322),\n",
       " ('ShoppingMall', 0.0005530824085882056, 2.3971543598033592e-05),\n",
       " ('Spa', -0.0019840865090824723, -0.0003893053121120718),\n",
       " ('VRDeck', -0.0016675794989779729, -0.0003534102768936705),\n",
       " ('HomePlanet_Europa', 1.815940822348513, 3.4744616078429724e-07),\n",
       " ('HomePlanet_Mars', 0.5580201442457036, 3.784953410011722e-08),\n",
       " ('CryoSleep_True', 1.4469732188968298, 6.884611596547063e-07),\n",
       " ('Destination_PSO J318.5-22', -0.3846298927797784, -1.521172290921782e-08),\n",
       " ('Destination_TRAPPIST-1e', -0.6422776634795424, -1.7647353899822498e-07),\n",
       " ('VIP_True', -0.017917524421355628, -1.1283457443199421e-08)]"
      ]
     },
     "execution_count": 45,
     "metadata": {},
     "output_type": "execute_result"
    }
   ],
   "source": [
    "# Compare the two models coefs\n",
    "list(zip(passenger_attributes.columns.tolist(), model.coef_[0].tolist(), model_2.coef_[0].tolist()))"
   ]
  },
  {
   "cell_type": "code",
   "execution_count": null,
   "id": "be70fdd5-b277-4e4c-b09d-93abd6cc3153",
   "metadata": {},
   "outputs": [],
   "source": []
  },
  {
   "cell_type": "code",
   "execution_count": 46,
   "id": "49f362aa-6d2c-4507-ad8d-26ef158c9515",
   "metadata": {},
   "outputs": [],
   "source": [
    "model_3 = LogisticRegression(C = 1)"
   ]
  },
  {
   "cell_type": "code",
   "execution_count": 47,
   "id": "1fa78082-b733-4768-8f6e-e9642bb64d85",
   "metadata": {},
   "outputs": [
    {
     "name": "stderr",
     "output_type": "stream",
     "text": [
      "C:\\Users\\lenovo\\anaconda3\\lib\\site-packages\\sklearn\\linear_model\\_logistic.py:814: ConvergenceWarning: lbfgs failed to converge (status=1):\n",
      "STOP: TOTAL NO. of ITERATIONS REACHED LIMIT.\n",
      "\n",
      "Increase the number of iterations (max_iter) or scale the data as shown in:\n",
      "    https://scikit-learn.org/stable/modules/preprocessing.html\n",
      "Please also refer to the documentation for alternative solver options:\n",
      "    https://scikit-learn.org/stable/modules/linear_model.html#logistic-regression\n",
      "  n_iter_i = _check_optimize_result(\n"
     ]
    },
    {
     "data": {
      "text/plain": [
       "LogisticRegression(C=1)"
      ]
     },
     "execution_count": 47,
     "metadata": {},
     "output_type": "execute_result"
    }
   ],
   "source": [
    "model_3.fit(passenger_attributes, passenger_labels)"
   ]
  },
  {
   "cell_type": "code",
   "execution_count": 48,
   "id": "5b2f2cea-896a-4140-b9f1-74651fec8e72",
   "metadata": {},
   "outputs": [
    {
     "data": {
      "text/plain": [
       "0.7896325459317586"
      ]
     },
     "execution_count": 48,
     "metadata": {},
     "output_type": "execute_result"
    }
   ],
   "source": [
    "model_3.score(passenger_attributes, passenger_labels)"
   ]
  },
  {
   "cell_type": "code",
   "execution_count": 49,
   "id": "5f805b00-91dd-4620-8db4-752affd63c2f",
   "metadata": {
    "tags": []
   },
   "outputs": [
    {
     "data": {
      "text/plain": [
       "[('Age',\n",
       "  -8.843287048740964e-05,\n",
       "  -2.5213734393012253e-06,\n",
       "  -0.0010646678417629292),\n",
       " ('RoomService',\n",
       "  -0.0014570419863708921,\n",
       "  -0.00037533455556169323,\n",
       "  -0.0013893534519279986),\n",
       " ('FoodCourt',\n",
       "  0.0005541217560103471,\n",
       "  0.0001453062152902322,\n",
       "  0.0005697432823485305),\n",
       " ('ShoppingMall',\n",
       "  0.0005530824085882056,\n",
       "  2.3971543598033592e-05,\n",
       "  0.0005888972056536389),\n",
       " ('Spa',\n",
       "  -0.0019840865090824723,\n",
       "  -0.0003893053121120718,\n",
       "  -0.0018724018704421859),\n",
       " ('VRDeck',\n",
       "  -0.0016675794989779729,\n",
       "  -0.0003534102768936705,\n",
       "  -0.0016912237537479967),\n",
       " ('HomePlanet_Europa',\n",
       "  1.815940822348513,\n",
       "  3.4744616078429724e-07,\n",
       "  1.6690320543002657),\n",
       " ('HomePlanet_Mars',\n",
       "  0.5580201442457036,\n",
       "  3.784953410011722e-08,\n",
       "  0.5080210630352728),\n",
       " ('CryoSleep_True',\n",
       "  1.4469732188968298,\n",
       "  6.884611596547063e-07,\n",
       "  1.3576203984619406),\n",
       " ('Destination_PSO J318.5-22',\n",
       "  -0.3846298927797784,\n",
       "  -1.521172290921782e-08,\n",
       "  -0.3377150420372533),\n",
       " ('Destination_TRAPPIST-1e',\n",
       "  -0.6422776634795424,\n",
       "  -1.7647353899822498e-07,\n",
       "  -0.6183759199370843),\n",
       " ('VIP_True',\n",
       "  -0.017917524421355628,\n",
       "  -1.1283457443199421e-08,\n",
       "  -0.014508707256201962)]"
      ]
     },
     "execution_count": 49,
     "metadata": {},
     "output_type": "execute_result"
    }
   ],
   "source": [
    "list(zip(passenger_attributes.columns.tolist(), model.coef_[0].tolist(),model_2.coef_[0].tolist(),  model_3.coef_[0].tolist()))"
   ]
  },
  {
   "cell_type": "code",
   "execution_count": null,
   "id": "88a4461e-a889-4338-82bc-6e9d89dc47ba",
   "metadata": {},
   "outputs": [],
   "source": []
  },
  {
   "cell_type": "code",
   "execution_count": 50,
   "id": "a4e4ac10-3483-45f1-9e74-1b3e862a6514",
   "metadata": {},
   "outputs": [],
   "source": [
    "model_4 = LogisticRegression(penalty='l1', solver='liblinear', C = 1e-3)"
   ]
  },
  {
   "cell_type": "code",
   "execution_count": 51,
   "id": "da1f9fd9-e65c-4dfe-9b08-7b163a2082d8",
   "metadata": {},
   "outputs": [
    {
     "data": {
      "text/plain": [
       "LogisticRegression(C=0.001, penalty='l1', solver='liblinear')"
      ]
     },
     "execution_count": 51,
     "metadata": {},
     "output_type": "execute_result"
    }
   ],
   "source": [
    "model_4.fit(passenger_attributes, passenger_labels)"
   ]
  },
  {
   "cell_type": "code",
   "execution_count": 52,
   "id": "3a3308aa-d206-41ff-95d9-6927fba26399",
   "metadata": {},
   "outputs": [
    {
     "data": {
      "text/plain": [
       "[('Age', 0.020514587809805872),\n",
       " ('RoomService', -0.0020498023441155207),\n",
       " ('FoodCourt', 0.0007328348060624718),\n",
       " ('ShoppingMall', 0.00026009310317280383),\n",
       " ('Spa', -0.0023129280542976242),\n",
       " ('VRDeck', -0.002015527268483588),\n",
       " ('HomePlanet_Europa', 0.0),\n",
       " ('HomePlanet_Mars', 0.0),\n",
       " ('CryoSleep_True', 0.0),\n",
       " ('Destination_PSO J318.5-22', 0.0),\n",
       " ('Destination_TRAPPIST-1e', 0.0),\n",
       " ('VIP_True', 0.0)]"
      ]
     },
     "execution_count": 52,
     "metadata": {},
     "output_type": "execute_result"
    }
   ],
   "source": [
    "list(zip(passenger_attributes.columns.tolist(), model_4.coef_[0].tolist()))"
   ]
  },
  {
   "cell_type": "code",
   "execution_count": null,
   "id": "bdba29cb-dce3-4724-9588-9c7baaa50cd9",
   "metadata": {},
   "outputs": [],
   "source": []
  },
  {
   "cell_type": "markdown",
   "id": "66d55b6f-550b-41cb-8f97-7fcc878f4a6d",
   "metadata": {},
   "source": [
    "## Testing "
   ]
  },
  {
   "cell_type": "code",
   "execution_count": 53,
   "id": "28caf981-a62c-4a0b-aab4-41b7a875e67d",
   "metadata": {},
   "outputs": [
    {
     "data": {
      "text/html": [
       "<div>\n",
       "<style scoped>\n",
       "    .dataframe tbody tr th:only-of-type {\n",
       "        vertical-align: middle;\n",
       "    }\n",
       "\n",
       "    .dataframe tbody tr th {\n",
       "        vertical-align: top;\n",
       "    }\n",
       "\n",
       "    .dataframe thead th {\n",
       "        text-align: right;\n",
       "    }\n",
       "</style>\n",
       "<table border=\"1\" class=\"dataframe\">\n",
       "  <thead>\n",
       "    <tr style=\"text-align: right;\">\n",
       "      <th></th>\n",
       "      <th>Age</th>\n",
       "      <th>RoomService</th>\n",
       "      <th>FoodCourt</th>\n",
       "      <th>ShoppingMall</th>\n",
       "      <th>Spa</th>\n",
       "      <th>VRDeck</th>\n",
       "      <th>HomePlanet_Europa</th>\n",
       "      <th>HomePlanet_Mars</th>\n",
       "      <th>CryoSleep_True</th>\n",
       "      <th>Destination_PSO J318.5-22</th>\n",
       "      <th>Destination_TRAPPIST-1e</th>\n",
       "      <th>VIP_True</th>\n",
       "    </tr>\n",
       "  </thead>\n",
       "  <tbody>\n",
       "    <tr>\n",
       "      <th>0</th>\n",
       "      <td>39.0</td>\n",
       "      <td>0.0</td>\n",
       "      <td>0.0</td>\n",
       "      <td>0.0</td>\n",
       "      <td>0.0</td>\n",
       "      <td>0.0</td>\n",
       "      <td>1</td>\n",
       "      <td>0</td>\n",
       "      <td>0</td>\n",
       "      <td>0</td>\n",
       "      <td>1</td>\n",
       "      <td>0</td>\n",
       "    </tr>\n",
       "    <tr>\n",
       "      <th>1</th>\n",
       "      <td>24.0</td>\n",
       "      <td>109.0</td>\n",
       "      <td>9.0</td>\n",
       "      <td>25.0</td>\n",
       "      <td>549.0</td>\n",
       "      <td>44.0</td>\n",
       "      <td>0</td>\n",
       "      <td>0</td>\n",
       "      <td>0</td>\n",
       "      <td>0</td>\n",
       "      <td>1</td>\n",
       "      <td>0</td>\n",
       "    </tr>\n",
       "    <tr>\n",
       "      <th>2</th>\n",
       "      <td>58.0</td>\n",
       "      <td>43.0</td>\n",
       "      <td>3576.0</td>\n",
       "      <td>0.0</td>\n",
       "      <td>6715.0</td>\n",
       "      <td>49.0</td>\n",
       "      <td>1</td>\n",
       "      <td>0</td>\n",
       "      <td>0</td>\n",
       "      <td>0</td>\n",
       "      <td>1</td>\n",
       "      <td>1</td>\n",
       "    </tr>\n",
       "    <tr>\n",
       "      <th>3</th>\n",
       "      <td>33.0</td>\n",
       "      <td>0.0</td>\n",
       "      <td>1283.0</td>\n",
       "      <td>371.0</td>\n",
       "      <td>3329.0</td>\n",
       "      <td>193.0</td>\n",
       "      <td>1</td>\n",
       "      <td>0</td>\n",
       "      <td>0</td>\n",
       "      <td>0</td>\n",
       "      <td>1</td>\n",
       "      <td>0</td>\n",
       "    </tr>\n",
       "    <tr>\n",
       "      <th>4</th>\n",
       "      <td>16.0</td>\n",
       "      <td>303.0</td>\n",
       "      <td>70.0</td>\n",
       "      <td>151.0</td>\n",
       "      <td>565.0</td>\n",
       "      <td>2.0</td>\n",
       "      <td>0</td>\n",
       "      <td>0</td>\n",
       "      <td>0</td>\n",
       "      <td>0</td>\n",
       "      <td>1</td>\n",
       "      <td>0</td>\n",
       "    </tr>\n",
       "    <tr>\n",
       "      <th>...</th>\n",
       "      <td>...</td>\n",
       "      <td>...</td>\n",
       "      <td>...</td>\n",
       "      <td>...</td>\n",
       "      <td>...</td>\n",
       "      <td>...</td>\n",
       "      <td>...</td>\n",
       "      <td>...</td>\n",
       "      <td>...</td>\n",
       "      <td>...</td>\n",
       "      <td>...</td>\n",
       "      <td>...</td>\n",
       "    </tr>\n",
       "    <tr>\n",
       "      <th>8688</th>\n",
       "      <td>41.0</td>\n",
       "      <td>0.0</td>\n",
       "      <td>6819.0</td>\n",
       "      <td>0.0</td>\n",
       "      <td>1643.0</td>\n",
       "      <td>74.0</td>\n",
       "      <td>1</td>\n",
       "      <td>0</td>\n",
       "      <td>0</td>\n",
       "      <td>0</td>\n",
       "      <td>0</td>\n",
       "      <td>1</td>\n",
       "    </tr>\n",
       "    <tr>\n",
       "      <th>8689</th>\n",
       "      <td>18.0</td>\n",
       "      <td>0.0</td>\n",
       "      <td>0.0</td>\n",
       "      <td>0.0</td>\n",
       "      <td>0.0</td>\n",
       "      <td>0.0</td>\n",
       "      <td>0</td>\n",
       "      <td>0</td>\n",
       "      <td>1</td>\n",
       "      <td>1</td>\n",
       "      <td>0</td>\n",
       "      <td>0</td>\n",
       "    </tr>\n",
       "    <tr>\n",
       "      <th>8690</th>\n",
       "      <td>26.0</td>\n",
       "      <td>0.0</td>\n",
       "      <td>0.0</td>\n",
       "      <td>1872.0</td>\n",
       "      <td>1.0</td>\n",
       "      <td>0.0</td>\n",
       "      <td>0</td>\n",
       "      <td>0</td>\n",
       "      <td>0</td>\n",
       "      <td>0</td>\n",
       "      <td>1</td>\n",
       "      <td>0</td>\n",
       "    </tr>\n",
       "    <tr>\n",
       "      <th>8691</th>\n",
       "      <td>32.0</td>\n",
       "      <td>0.0</td>\n",
       "      <td>1049.0</td>\n",
       "      <td>0.0</td>\n",
       "      <td>353.0</td>\n",
       "      <td>3235.0</td>\n",
       "      <td>1</td>\n",
       "      <td>0</td>\n",
       "      <td>0</td>\n",
       "      <td>0</td>\n",
       "      <td>0</td>\n",
       "      <td>0</td>\n",
       "    </tr>\n",
       "    <tr>\n",
       "      <th>8692</th>\n",
       "      <td>44.0</td>\n",
       "      <td>126.0</td>\n",
       "      <td>4688.0</td>\n",
       "      <td>0.0</td>\n",
       "      <td>0.0</td>\n",
       "      <td>12.0</td>\n",
       "      <td>1</td>\n",
       "      <td>0</td>\n",
       "      <td>0</td>\n",
       "      <td>0</td>\n",
       "      <td>1</td>\n",
       "      <td>0</td>\n",
       "    </tr>\n",
       "  </tbody>\n",
       "</table>\n",
       "<p>7620 rows × 12 columns</p>\n",
       "</div>"
      ],
      "text/plain": [
       "       Age  RoomService  FoodCourt  ShoppingMall     Spa  VRDeck  \\\n",
       "0     39.0          0.0        0.0           0.0     0.0     0.0   \n",
       "1     24.0        109.0        9.0          25.0   549.0    44.0   \n",
       "2     58.0         43.0     3576.0           0.0  6715.0    49.0   \n",
       "3     33.0          0.0     1283.0         371.0  3329.0   193.0   \n",
       "4     16.0        303.0       70.0         151.0   565.0     2.0   \n",
       "...    ...          ...        ...           ...     ...     ...   \n",
       "8688  41.0          0.0     6819.0           0.0  1643.0    74.0   \n",
       "8689  18.0          0.0        0.0           0.0     0.0     0.0   \n",
       "8690  26.0          0.0        0.0        1872.0     1.0     0.0   \n",
       "8691  32.0          0.0     1049.0           0.0   353.0  3235.0   \n",
       "8692  44.0        126.0     4688.0           0.0     0.0    12.0   \n",
       "\n",
       "      HomePlanet_Europa  HomePlanet_Mars  CryoSleep_True  \\\n",
       "0                     1                0               0   \n",
       "1                     0                0               0   \n",
       "2                     1                0               0   \n",
       "3                     1                0               0   \n",
       "4                     0                0               0   \n",
       "...                 ...              ...             ...   \n",
       "8688                  1                0               0   \n",
       "8689                  0                0               1   \n",
       "8690                  0                0               0   \n",
       "8691                  1                0               0   \n",
       "8692                  1                0               0   \n",
       "\n",
       "      Destination_PSO J318.5-22  Destination_TRAPPIST-1e  VIP_True  \n",
       "0                             0                        1         0  \n",
       "1                             0                        1         0  \n",
       "2                             0                        1         1  \n",
       "3                             0                        1         0  \n",
       "4                             0                        1         0  \n",
       "...                         ...                      ...       ...  \n",
       "8688                          0                        0         1  \n",
       "8689                          1                        0         0  \n",
       "8690                          0                        1         0  \n",
       "8691                          0                        0         0  \n",
       "8692                          0                        1         0  \n",
       "\n",
       "[7620 rows x 12 columns]"
      ]
     },
     "execution_count": 53,
     "metadata": {},
     "output_type": "execute_result"
    }
   ],
   "source": [
    "passenger_attributes"
   ]
  },
  {
   "cell_type": "code",
   "execution_count": 54,
   "id": "56790fc9-e227-486a-ae6d-25c189b5e62f",
   "metadata": {},
   "outputs": [
    {
     "data": {
      "text/plain": [
       "0       False\n",
       "1        True\n",
       "2       False\n",
       "3       False\n",
       "4        True\n",
       "        ...  \n",
       "8688    False\n",
       "8689    False\n",
       "8690     True\n",
       "8691    False\n",
       "8692     True\n",
       "Name: Transported, Length: 7620, dtype: bool"
      ]
     },
     "execution_count": 54,
     "metadata": {},
     "output_type": "execute_result"
    }
   ],
   "source": [
    "passenger_labels"
   ]
  },
  {
   "cell_type": "code",
   "execution_count": 55,
   "id": "5de1b13a-0c7a-4aff-9e89-0664017ba35f",
   "metadata": {},
   "outputs": [],
   "source": [
    "scaler = MinMaxScaler()"
   ]
  },
  {
   "cell_type": "code",
   "execution_count": 56,
   "id": "e44bc209-f867-4ec6-a4f4-2d666a166689",
   "metadata": {},
   "outputs": [],
   "source": [
    "passenger_attributes= scaler.fit_transform(passenger_attributes)"
   ]
  },
  {
   "cell_type": "code",
   "execution_count": 57,
   "id": "ce58b488-25fe-4ff8-b5b0-6f7aa0b937c1",
   "metadata": {},
   "outputs": [
    {
     "data": {
      "text/plain": [
       "array([[4.93670886e-01, 0.00000000e+00, 0.00000000e+00, ...,\n",
       "        0.00000000e+00, 1.00000000e+00, 0.00000000e+00],\n",
       "       [3.03797468e-01, 7.60801284e-03, 3.01881729e-04, ...,\n",
       "        0.00000000e+00, 1.00000000e+00, 0.00000000e+00],\n",
       "       [7.34177215e-01, 3.00132617e-03, 1.19947674e-01, ...,\n",
       "        0.00000000e+00, 1.00000000e+00, 1.00000000e+00],\n",
       "       ...,\n",
       "       [3.29113924e-01, 0.00000000e+00, 0.00000000e+00, ...,\n",
       "        0.00000000e+00, 1.00000000e+00, 0.00000000e+00],\n",
       "       [4.05063291e-01, 0.00000000e+00, 3.51859927e-02, ...,\n",
       "        0.00000000e+00, 0.00000000e+00, 0.00000000e+00],\n",
       "       [5.56962025e-01, 8.79458365e-03, 1.57246839e-01, ...,\n",
       "        0.00000000e+00, 1.00000000e+00, 0.00000000e+00]])"
      ]
     },
     "execution_count": 57,
     "metadata": {},
     "output_type": "execute_result"
    }
   ],
   "source": [
    "passenger_attributes"
   ]
  },
  {
   "cell_type": "code",
   "execution_count": 58,
   "id": "81a414ac-0fc0-4881-a065-de3c4ce0bb14",
   "metadata": {},
   "outputs": [],
   "source": [
    "passenger_attributes_train, passenger_attributes_test, passenger_labels_train, passenger_labels_test = \\\n",
    "train_test_split(passenger_attributes, passenger_labels, test_size= 0.2, random_state=42120)"
   ]
  },
  {
   "cell_type": "code",
   "execution_count": 59,
   "id": "376f9b6e-5559-48ba-90cd-150a61327e0b",
   "metadata": {},
   "outputs": [
    {
     "data": {
      "text/plain": [
       "((6096, 12), (1524, 12), (6096,), (1524,))"
      ]
     },
     "execution_count": 59,
     "metadata": {},
     "output_type": "execute_result"
    }
   ],
   "source": [
    "passenger_attributes_train.shape, passenger_attributes_test.shape,passenger_labels_train.shape, passenger_labels_test.shape"
   ]
  },
  {
   "cell_type": "code",
   "execution_count": 60,
   "id": "982f1a77-8ebf-4ac1-94e0-c753896bbda4",
   "metadata": {},
   "outputs": [],
   "source": [
    "model = LogisticRegression(C = 2)"
   ]
  },
  {
   "cell_type": "code",
   "execution_count": 61,
   "id": "771375b9-e2c5-4770-a13b-1ba90318bfb5",
   "metadata": {},
   "outputs": [
    {
     "data": {
      "text/plain": [
       "LogisticRegression(C=2)"
      ]
     },
     "execution_count": 61,
     "metadata": {},
     "output_type": "execute_result"
    }
   ],
   "source": [
    "model.fit(passenger_attributes_train, passenger_labels_train)"
   ]
  },
  {
   "cell_type": "code",
   "execution_count": 62,
   "id": "dfd7b956-f273-4c75-91ac-946ac9b22918",
   "metadata": {},
   "outputs": [
    {
     "data": {
      "text/plain": [
       "0.7736220472440944"
      ]
     },
     "execution_count": 62,
     "metadata": {},
     "output_type": "execute_result"
    }
   ],
   "source": [
    "model.score(passenger_attributes_train, passenger_labels_train)"
   ]
  },
  {
   "cell_type": "code",
   "execution_count": 63,
   "id": "db0db763-7d75-4145-bfe3-ee1fc51cb3b2",
   "metadata": {},
   "outputs": [
    {
     "data": {
      "text/plain": [
       "0.7723097112860893"
      ]
     },
     "execution_count": 63,
     "metadata": {},
     "output_type": "execute_result"
    }
   ],
   "source": [
    "model.score(passenger_attributes_test, passenger_labels_test) # This model have high bias. "
   ]
  },
  {
   "cell_type": "code",
   "execution_count": 64,
   "id": "05a36677-374f-4822-b593-d513ef5b4711",
   "metadata": {},
   "outputs": [],
   "source": [
    "# Try with different values of C and number of ittereations\n",
    "model = LogisticRegression(C = 1e7, max_iter=1000000)"
   ]
  },
  {
   "cell_type": "code",
   "execution_count": 65,
   "id": "c9ed4aad-002c-4bc2-97ee-ae2f1cea9daf",
   "metadata": {},
   "outputs": [
    {
     "data": {
      "text/plain": [
       "LogisticRegression(C=10000000.0, max_iter=1000000)"
      ]
     },
     "execution_count": 65,
     "metadata": {},
     "output_type": "execute_result"
    }
   ],
   "source": [
    "model.fit(passenger_attributes_train, passenger_labels_train)"
   ]
  },
  {
   "cell_type": "code",
   "execution_count": 66,
   "id": "9487ee30-f294-4aa3-8e68-1ae6d8c05ee4",
   "metadata": {},
   "outputs": [
    {
     "data": {
      "text/plain": [
       "0.7900262467191601"
      ]
     },
     "execution_count": 66,
     "metadata": {},
     "output_type": "execute_result"
    }
   ],
   "source": [
    "model.score(passenger_attributes_train, passenger_labels_train)"
   ]
  },
  {
   "cell_type": "code",
   "execution_count": 67,
   "id": "f2df7653-efba-48bd-9993-c8c51dcf369b",
   "metadata": {},
   "outputs": [
    {
     "data": {
      "text/plain": [
       "0.7926509186351706"
      ]
     },
     "execution_count": 67,
     "metadata": {},
     "output_type": "execute_result"
    }
   ],
   "source": [
    "model.score(passenger_attributes_test, passenger_labels_test)"
   ]
  },
  {
   "cell_type": "code",
   "execution_count": null,
   "id": "3b2707cb-add3-48a1-83b7-395313ccc98d",
   "metadata": {},
   "outputs": [],
   "source": []
  },
  {
   "cell_type": "code",
   "execution_count": 68,
   "id": "d3e76deb-26cd-4290-9e5e-f0edf708dfae",
   "metadata": {},
   "outputs": [],
   "source": [
    "grid_search = GridSearchCV(LogisticRegression(), param_grid={\n",
    "    'C': [0.01, 0.1, 1, 10, 10000],\n",
    "    'penalty': ['l1', 'l2']\n",
    "}, cv= 4)"
   ]
  },
  {
   "cell_type": "code",
   "execution_count": 69,
   "id": "6dadc3f3-7cba-4d28-8a4c-8e950cf2244d",
   "metadata": {},
   "outputs": [
    {
     "name": "stderr",
     "output_type": "stream",
     "text": [
      "C:\\Users\\lenovo\\anaconda3\\lib\\site-packages\\sklearn\\linear_model\\_logistic.py:814: ConvergenceWarning: lbfgs failed to converge (status=1):\n",
      "STOP: TOTAL NO. of ITERATIONS REACHED LIMIT.\n",
      "\n",
      "Increase the number of iterations (max_iter) or scale the data as shown in:\n",
      "    https://scikit-learn.org/stable/modules/preprocessing.html\n",
      "Please also refer to the documentation for alternative solver options:\n",
      "    https://scikit-learn.org/stable/modules/linear_model.html#logistic-regression\n",
      "  n_iter_i = _check_optimize_result(\n",
      "C:\\Users\\lenovo\\anaconda3\\lib\\site-packages\\sklearn\\linear_model\\_logistic.py:814: ConvergenceWarning: lbfgs failed to converge (status=1):\n",
      "STOP: TOTAL NO. of ITERATIONS REACHED LIMIT.\n",
      "\n",
      "Increase the number of iterations (max_iter) or scale the data as shown in:\n",
      "    https://scikit-learn.org/stable/modules/preprocessing.html\n",
      "Please also refer to the documentation for alternative solver options:\n",
      "    https://scikit-learn.org/stable/modules/linear_model.html#logistic-regression\n",
      "  n_iter_i = _check_optimize_result(\n",
      "C:\\Users\\lenovo\\anaconda3\\lib\\site-packages\\sklearn\\linear_model\\_logistic.py:814: ConvergenceWarning: lbfgs failed to converge (status=1):\n",
      "STOP: TOTAL NO. of ITERATIONS REACHED LIMIT.\n",
      "\n",
      "Increase the number of iterations (max_iter) or scale the data as shown in:\n",
      "    https://scikit-learn.org/stable/modules/preprocessing.html\n",
      "Please also refer to the documentation for alternative solver options:\n",
      "    https://scikit-learn.org/stable/modules/linear_model.html#logistic-regression\n",
      "  n_iter_i = _check_optimize_result(\n",
      "C:\\Users\\lenovo\\anaconda3\\lib\\site-packages\\sklearn\\linear_model\\_logistic.py:814: ConvergenceWarning: lbfgs failed to converge (status=1):\n",
      "STOP: TOTAL NO. of ITERATIONS REACHED LIMIT.\n",
      "\n",
      "Increase the number of iterations (max_iter) or scale the data as shown in:\n",
      "    https://scikit-learn.org/stable/modules/preprocessing.html\n",
      "Please also refer to the documentation for alternative solver options:\n",
      "    https://scikit-learn.org/stable/modules/linear_model.html#logistic-regression\n",
      "  n_iter_i = _check_optimize_result(\n",
      "C:\\Users\\lenovo\\anaconda3\\lib\\site-packages\\sklearn\\model_selection\\_validation.py:372: FitFailedWarning: \n",
      "20 fits failed out of a total of 40.\n",
      "The score on these train-test partitions for these parameters will be set to nan.\n",
      "If these failures are not expected, you can try to debug them by setting error_score='raise'.\n",
      "\n",
      "Below are more details about the failures:\n",
      "--------------------------------------------------------------------------------\n",
      "20 fits failed with the following error:\n",
      "Traceback (most recent call last):\n",
      "  File \"C:\\Users\\lenovo\\anaconda3\\lib\\site-packages\\sklearn\\model_selection\\_validation.py\", line 680, in _fit_and_score\n",
      "    estimator.fit(X_train, y_train, **fit_params)\n",
      "  File \"C:\\Users\\lenovo\\anaconda3\\lib\\site-packages\\sklearn\\linear_model\\_logistic.py\", line 1461, in fit\n",
      "    solver = _check_solver(self.solver, self.penalty, self.dual)\n",
      "  File \"C:\\Users\\lenovo\\anaconda3\\lib\\site-packages\\sklearn\\linear_model\\_logistic.py\", line 447, in _check_solver\n",
      "    raise ValueError(\n",
      "ValueError: Solver lbfgs supports only 'l2' or 'none' penalties, got l1 penalty.\n",
      "\n",
      "  warnings.warn(some_fits_failed_message, FitFailedWarning)\n",
      "C:\\Users\\lenovo\\anaconda3\\lib\\site-packages\\sklearn\\model_selection\\_search.py:969: UserWarning: One or more of the test scores are non-finite: [       nan 0.71145013        nan 0.73786089        nan 0.75803806\n",
      "        nan 0.77952756        nan 0.7898622 ]\n",
      "  warnings.warn(\n",
      "C:\\Users\\lenovo\\anaconda3\\lib\\site-packages\\sklearn\\linear_model\\_logistic.py:814: ConvergenceWarning: lbfgs failed to converge (status=1):\n",
      "STOP: TOTAL NO. of ITERATIONS REACHED LIMIT.\n",
      "\n",
      "Increase the number of iterations (max_iter) or scale the data as shown in:\n",
      "    https://scikit-learn.org/stable/modules/preprocessing.html\n",
      "Please also refer to the documentation for alternative solver options:\n",
      "    https://scikit-learn.org/stable/modules/linear_model.html#logistic-regression\n",
      "  n_iter_i = _check_optimize_result(\n"
     ]
    },
    {
     "data": {
      "text/plain": [
       "GridSearchCV(cv=4, estimator=LogisticRegression(),\n",
       "             param_grid={'C': [0.01, 0.1, 1, 10, 10000],\n",
       "                         'penalty': ['l1', 'l2']})"
      ]
     },
     "execution_count": 69,
     "metadata": {},
     "output_type": "execute_result"
    }
   ],
   "source": [
    "grid_search.fit(passenger_attributes_train, passenger_labels_train)"
   ]
  },
  {
   "cell_type": "code",
   "execution_count": 70,
   "id": "31907fca-1b0d-4cd9-a202-40d2b316c42e",
   "metadata": {},
   "outputs": [
    {
     "data": {
      "text/plain": [
       "LogisticRegression(C=10000)"
      ]
     },
     "execution_count": 70,
     "metadata": {},
     "output_type": "execute_result"
    }
   ],
   "source": [
    "grid_search.best_estimator_"
   ]
  },
  {
   "cell_type": "code",
   "execution_count": 71,
   "id": "b764b677-1081-4d61-882c-2165a8f9f411",
   "metadata": {},
   "outputs": [
    {
     "data": {
      "text/plain": [
       "{'C': 10000, 'penalty': 'l2'}"
      ]
     },
     "execution_count": 71,
     "metadata": {},
     "output_type": "execute_result"
    }
   ],
   "source": [
    "grid_search.best_params_"
   ]
  },
  {
   "cell_type": "code",
   "execution_count": 72,
   "id": "d3713992-7a5e-49f1-bfc5-f69b3fa32aa6",
   "metadata": {},
   "outputs": [
    {
     "data": {
      "text/plain": [
       "{'mean_fit_time': array([0.00267428, 0.0127371 , 0.00050014, 0.01270568, 0.        ,\n",
       "        0.02343684, 0.00024968, 0.03513557, 0.00390887, 0.05437666]),\n",
       " 'std_fit_time': array([0.00328738, 0.00644419, 0.00050014, 0.00683185, 0.        ,\n",
       "        0.00781125, 0.00043247, 0.00672931, 0.00677037, 0.00719743]),\n",
       " 'mean_score_time': array([0.        , 0.        , 0.        , 0.00415665, 0.        ,\n",
       "        0.00390702, 0.        , 0.        , 0.        , 0.00025016]),\n",
       " 'std_score_time': array([0.        , 0.        , 0.        , 0.00663361, 0.        ,\n",
       "        0.00676717, 0.        , 0.        , 0.        , 0.00043329]),\n",
       " 'param_C': masked_array(data=[0.01, 0.01, 0.1, 0.1, 1, 1, 10, 10, 10000, 10000],\n",
       "              mask=[False, False, False, False, False, False, False, False,\n",
       "                    False, False],\n",
       "        fill_value='?',\n",
       "             dtype=object),\n",
       " 'param_penalty': masked_array(data=['l1', 'l2', 'l1', 'l2', 'l1', 'l2', 'l1', 'l2', 'l1',\n",
       "                    'l2'],\n",
       "              mask=[False, False, False, False, False, False, False, False,\n",
       "                    False, False],\n",
       "        fill_value='?',\n",
       "             dtype=object),\n",
       " 'params': [{'C': 0.01, 'penalty': 'l1'},\n",
       "  {'C': 0.01, 'penalty': 'l2'},\n",
       "  {'C': 0.1, 'penalty': 'l1'},\n",
       "  {'C': 0.1, 'penalty': 'l2'},\n",
       "  {'C': 1, 'penalty': 'l1'},\n",
       "  {'C': 1, 'penalty': 'l2'},\n",
       "  {'C': 10, 'penalty': 'l1'},\n",
       "  {'C': 10, 'penalty': 'l2'},\n",
       "  {'C': 10000, 'penalty': 'l1'},\n",
       "  {'C': 10000, 'penalty': 'l2'}],\n",
       " 'split0_test_score': array([       nan, 0.71128609,        nan, 0.74146982,        nan,\n",
       "        0.76902887,        nan, 0.79002625,        nan, 0.79265092]),\n",
       " 'split1_test_score': array([       nan, 0.71456693,        nan, 0.74212598,        nan,\n",
       "        0.75984252,        nan, 0.78346457,        nan, 0.7992126 ]),\n",
       " 'split2_test_score': array([       nan, 0.72637795,        nan, 0.7480315 ,        nan,\n",
       "        0.76049869,        nan, 0.77559055,        nan, 0.78871391]),\n",
       " 'split3_test_score': array([       nan, 0.69356955,        nan, 0.71981627,        nan,\n",
       "        0.74278215,        nan, 0.76902887,        nan, 0.77887139]),\n",
       " 'mean_test_score': array([       nan, 0.71145013,        nan, 0.73786089,        nan,\n",
       "        0.75803806,        nan, 0.77952756,        nan, 0.7898622 ]),\n",
       " 'std_test_score': array([       nan, 0.01175049,        nan, 0.01072689,        nan,\n",
       "        0.00952433,        nan, 0.00792851,        nan, 0.00737095]),\n",
       " 'rank_test_score': array([ 6,  5,  7,  4,  8,  3,  9,  2, 10,  1])}"
      ]
     },
     "execution_count": 72,
     "metadata": {},
     "output_type": "execute_result"
    }
   ],
   "source": [
    "grid_search.cv_results_"
   ]
  },
  {
   "cell_type": "code",
   "execution_count": 73,
   "id": "c8035c7d-be3b-4617-a857-1965f6b63bc0",
   "metadata": {},
   "outputs": [
    {
     "data": {
      "text/plain": [
       "0.7900262467191601"
      ]
     },
     "execution_count": 73,
     "metadata": {},
     "output_type": "execute_result"
    }
   ],
   "source": [
    "grid_search.best_estimator_.score(passenger_attributes_train, passenger_labels_train)"
   ]
  },
  {
   "cell_type": "code",
   "execution_count": 74,
   "id": "aac3b09e-44ee-4c4d-923a-8f23a7f67d58",
   "metadata": {},
   "outputs": [
    {
     "data": {
      "text/plain": [
       "0.7913385826771654"
      ]
     },
     "execution_count": 74,
     "metadata": {},
     "output_type": "execute_result"
    }
   ],
   "source": [
    "grid_search.best_estimator_.score(passenger_attributes_test, passenger_labels_test)"
   ]
  },
  {
   "cell_type": "code",
   "execution_count": 75,
   "id": "b91bff89-1955-4bb4-850e-507209390f4d",
   "metadata": {},
   "outputs": [
    {
     "name": "stdout",
     "output_type": "stream",
     "text": [
      "              precision    recall  f1-score   support\n",
      "\n",
      "       False       0.80      0.77      0.79       759\n",
      "        True       0.78      0.81      0.80       765\n",
      "\n",
      "    accuracy                           0.79      1524\n",
      "   macro avg       0.79      0.79      0.79      1524\n",
      "weighted avg       0.79      0.79      0.79      1524\n",
      "\n"
     ]
    }
   ],
   "source": [
    "print(classification_report(passenger_labels_test, grid_search.best_estimator_.predict(passenger_attributes_test)))"
   ]
  },
  {
   "cell_type": "code",
   "execution_count": null,
   "id": "2eb83664-4777-4018-abfe-234e7b949db7",
   "metadata": {},
   "outputs": [],
   "source": []
  },
  {
   "cell_type": "markdown",
   "id": "7ec770fb-d0d8-4dcf-813c-18e682f4d7d9",
   "metadata": {},
   "source": [
    "### Decision Trees"
   ]
  },
  {
   "cell_type": "code",
   "execution_count": 88,
   "id": "093adcb8-203d-4d30-8ee5-a95a7f002bf2",
   "metadata": {},
   "outputs": [],
   "source": [
    "tree = DecisionTreeClassifier(min_samples_leaf = 100)"
   ]
  },
  {
   "cell_type": "code",
   "execution_count": 89,
   "id": "e5f6aa28-22fe-492c-9bbd-c8c97ab35936",
   "metadata": {},
   "outputs": [
    {
     "data": {
      "text/plain": [
       "DecisionTreeClassifier(min_samples_leaf=100)"
      ]
     },
     "execution_count": 89,
     "metadata": {},
     "output_type": "execute_result"
    }
   ],
   "source": [
    "tree.fit(passenger_attributes_train, passenger_labels_train)"
   ]
  },
  {
   "cell_type": "code",
   "execution_count": 90,
   "id": "a1d06c79-82ff-430d-ae0e-59d33149fb31",
   "metadata": {},
   "outputs": [
    {
     "data": {
      "text/plain": [
       "0.7913385826771654"
      ]
     },
     "execution_count": 90,
     "metadata": {},
     "output_type": "execute_result"
    }
   ],
   "source": [
    "tree.score(passenger_attributes_train, passenger_labels_train)"
   ]
  },
  {
   "cell_type": "code",
   "execution_count": 91,
   "id": "d62c6d92-2c63-49f8-bb2b-06f6545780f0",
   "metadata": {},
   "outputs": [
    {
     "data": {
      "text/plain": [
       "0.7749343832020997"
      ]
     },
     "execution_count": 91,
     "metadata": {},
     "output_type": "execute_result"
    }
   ],
   "source": [
    "tree.score(passenger_attributes_test, passenger_labels_test)"
   ]
  },
  {
   "cell_type": "code",
   "execution_count": 93,
   "id": "b7f4f3bc-d819-4116-8d93-98123b2d6008",
   "metadata": {
    "tags": []
   },
   "outputs": [
    {
     "data": {
      "text/plain": [
       "[]"
      ]
     },
     "execution_count": 93,
     "metadata": {},
     "output_type": "execute_result"
    },
    {
     "data": {
      "image/png": "[encoded data removed]",
      "text/plain": [
       "<Figure size 2000x1000 with 1 Axes>"
      ]
     },
     "metadata": {},
     "output_type": "display_data"
    }
   ],
   "source": [
    "plt.figure(figsize=(20,10))\n",
    "plot_tree(tree)\n",
    "plt.plot()"
   ]
  },
  {
   "cell_type": "code",
   "execution_count": null,
   "id": "1bbdb3d8-b89b-410b-a183-414842a100b3",
   "metadata": {},
   "outputs": [],
   "source": []
  }
 ],
 "metadata": {
  "kernelspec": {
   "display_name": "Python 3 (ipykernel)",
   "language": "python",
   "name": "python3"
  },
  "language_info": {
   "codemirror_mode": {
    "name": "ipython",
    "version": 3
   },
   "file_extension": ".py",
   "mimetype": "text/x-python",
   "name": "python",
   "nbconvert_exporter": "python",
   "pygments_lexer": "ipython3",
   "version": "3.9.13"
  }
 },
 "nbformat": 4,
 "nbformat_minor": 5
}
