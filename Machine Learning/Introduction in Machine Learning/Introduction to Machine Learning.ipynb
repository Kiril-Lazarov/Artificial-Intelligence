{
 "cells": [
  {
   "cell_type": "code",
   "execution_count": 1,
   "id": "ad59cbec-008d-4984-a029-fa260bbcab73",
   "metadata": {},
   "outputs": [],
   "source": [
    "%matplotlib inline"
   ]
  },
  {
   "cell_type": "code",
   "execution_count": 80,
   "id": "d0960ff6-23f3-44c3-82ff-0fe5cc7e87c2",
   "metadata": {},
   "outputs": [],
   "source": [
    "import numpy as np\n",
    "import matplotlib.pyplot as plt\n",
    "import pandas as pd\n",
    "\n",
    "from sklearn.preprocessing import MinMaxScaler\n",
    "\n",
    "from sklearn.linear_model import LogisticRegression\n",
    "from sklearn.tree import DecisionTreeClassifier, plot_tree\n",
    "\n",
    "from sklearn.model_selection import train_test_split, GridSearchCV\n",
    "\n",
    "from sklearn.metrics import classification_report"
   ]
  },
  {
   "cell_type": "markdown",
   "id": "5dbb7acb-e6ec-41ca-a1b1-a327f13e616f",
   "metadata": {},
   "source": [
    "# Introduction to Machine Learning"
   ]
  },
  {
   "cell_type": "markdown",
   "id": "2c7afd96-7908-4ea3-8dbc-37d6a5d71efb",
   "metadata": {},
   "source": [
    "## Live Demos"
   ]
  },
  {
   "cell_type": "markdown",
   "id": "068fe916-8cc2-4f8f-b2a3-45dcd833f7ed",
   "metadata": {},
   "source": [
    "### Spaceship Titanic dataset"
   ]
  },
  {
   "cell_type": "code",
   "execution_count": 3,
   "id": "2bf7a316-4b72-4d85-a79f-e5277a5cba94",
   "metadata": {},
   "outputs": [],
   "source": [
    "passenger_data = pd.read_csv('Data/train.csv', true_values=['True'], false_values=['False'])"
   ]
  },
  {
   "cell_type": "code",
   "execution_count": 4,
   "id": "5be77dce-fc8d-494b-95d8-f9a21eb59e08",
   "metadata": {},
   "outputs": [
    {
     "data": {
      "text/html": [
       "<div>\n",
       "<style scoped>\n",
       "    .dataframe tbody tr th:only-of-type {\n",
       "        vertical-align: middle;\n",
       "    }\n",
       "\n",
       "    .dataframe tbody tr th {\n",
       "        vertical-align: top;\n",
       "    }\n",
       "\n",
       "    .dataframe thead th {\n",
       "        text-align: right;\n",
       "    }\n",
       "</style>\n",
       "<table border=\"1\" class=\"dataframe\">\n",
       "  <thead>\n",
       "    <tr style=\"text-align: right;\">\n",
       "      <th></th>\n",
       "      <th>PassengerId</th>\n",
       "      <th>HomePlanet</th>\n",
       "      <th>CryoSleep</th>\n",
       "      <th>Cabin</th>\n",
       "      <th>Destination</th>\n",
       "      <th>Age</th>\n",
       "      <th>VIP</th>\n",
       "      <th>RoomService</th>\n",
       "      <th>FoodCourt</th>\n",
       "      <th>ShoppingMall</th>\n",
       "      <th>Spa</th>\n",
       "      <th>VRDeck</th>\n",
       "      <th>Name</th>\n",
       "      <th>Transported</th>\n",
       "    </tr>\n",
       "  </thead>\n",
       "  <tbody>\n",
       "    <tr>\n",
       "      <th>0</th>\n",
       "      <td>0001_01</td>\n",
       "      <td>Europa</td>\n",
       "      <td>False</td>\n",
       "      <td>B/0/P</td>\n",
       "      <td>TRAPPIST-1e</td>\n",
       "      <td>39.0</td>\n",
       "      <td>False</td>\n",
       "      <td>0.0</td>\n",
       "      <td>0.0</td>\n",
       "      <td>0.0</td>\n",
       "      <td>0.0</td>\n",
       "      <td>0.0</td>\n",
       "      <td>Maham Ofracculy</td>\n",
       "      <td>False</td>\n",
       "    </tr>\n",
       "    <tr>\n",
       "      <th>1</th>\n",
       "      <td>0002_01</td>\n",
       "      <td>Earth</td>\n",
       "      <td>False</td>\n",
       "      <td>F/0/S</td>\n",
       "      <td>TRAPPIST-1e</td>\n",
       "      <td>24.0</td>\n",
       "      <td>False</td>\n",
       "      <td>109.0</td>\n",
       "      <td>9.0</td>\n",
       "      <td>25.0</td>\n",
       "      <td>549.0</td>\n",
       "      <td>44.0</td>\n",
       "      <td>Juanna Vines</td>\n",
       "      <td>True</td>\n",
       "    </tr>\n",
       "    <tr>\n",
       "      <th>2</th>\n",
       "      <td>0003_01</td>\n",
       "      <td>Europa</td>\n",
       "      <td>False</td>\n",
       "      <td>A/0/S</td>\n",
       "      <td>TRAPPIST-1e</td>\n",
       "      <td>58.0</td>\n",
       "      <td>True</td>\n",
       "      <td>43.0</td>\n",
       "      <td>3576.0</td>\n",
       "      <td>0.0</td>\n",
       "      <td>6715.0</td>\n",
       "      <td>49.0</td>\n",
       "      <td>Altark Susent</td>\n",
       "      <td>False</td>\n",
       "    </tr>\n",
       "    <tr>\n",
       "      <th>3</th>\n",
       "      <td>0003_02</td>\n",
       "      <td>Europa</td>\n",
       "      <td>False</td>\n",
       "      <td>A/0/S</td>\n",
       "      <td>TRAPPIST-1e</td>\n",
       "      <td>33.0</td>\n",
       "      <td>False</td>\n",
       "      <td>0.0</td>\n",
       "      <td>1283.0</td>\n",
       "      <td>371.0</td>\n",
       "      <td>3329.0</td>\n",
       "      <td>193.0</td>\n",
       "      <td>Solam Susent</td>\n",
       "      <td>False</td>\n",
       "    </tr>\n",
       "    <tr>\n",
       "      <th>4</th>\n",
       "      <td>0004_01</td>\n",
       "      <td>Earth</td>\n",
       "      <td>False</td>\n",
       "      <td>F/1/S</td>\n",
       "      <td>TRAPPIST-1e</td>\n",
       "      <td>16.0</td>\n",
       "      <td>False</td>\n",
       "      <td>303.0</td>\n",
       "      <td>70.0</td>\n",
       "      <td>151.0</td>\n",
       "      <td>565.0</td>\n",
       "      <td>2.0</td>\n",
       "      <td>Willy Santantines</td>\n",
       "      <td>True</td>\n",
       "    </tr>\n",
       "    <tr>\n",
       "      <th>...</th>\n",
       "      <td>...</td>\n",
       "      <td>...</td>\n",
       "      <td>...</td>\n",
       "      <td>...</td>\n",
       "      <td>...</td>\n",
       "      <td>...</td>\n",
       "      <td>...</td>\n",
       "      <td>...</td>\n",
       "      <td>...</td>\n",
       "      <td>...</td>\n",
       "      <td>...</td>\n",
       "      <td>...</td>\n",
       "      <td>...</td>\n",
       "      <td>...</td>\n",
       "    </tr>\n",
       "    <tr>\n",
       "      <th>8688</th>\n",
       "      <td>9276_01</td>\n",
       "      <td>Europa</td>\n",
       "      <td>False</td>\n",
       "      <td>A/98/P</td>\n",
       "      <td>55 Cancri e</td>\n",
       "      <td>41.0</td>\n",
       "      <td>True</td>\n",
       "      <td>0.0</td>\n",
       "      <td>6819.0</td>\n",
       "      <td>0.0</td>\n",
       "      <td>1643.0</td>\n",
       "      <td>74.0</td>\n",
       "      <td>Gravior Noxnuther</td>\n",
       "      <td>False</td>\n",
       "    </tr>\n",
       "    <tr>\n",
       "      <th>8689</th>\n",
       "      <td>9278_01</td>\n",
       "      <td>Earth</td>\n",
       "      <td>True</td>\n",
       "      <td>G/1499/S</td>\n",
       "      <td>PSO J318.5-22</td>\n",
       "      <td>18.0</td>\n",
       "      <td>False</td>\n",
       "      <td>0.0</td>\n",
       "      <td>0.0</td>\n",
       "      <td>0.0</td>\n",
       "      <td>0.0</td>\n",
       "      <td>0.0</td>\n",
       "      <td>Kurta Mondalley</td>\n",
       "      <td>False</td>\n",
       "    </tr>\n",
       "    <tr>\n",
       "      <th>8690</th>\n",
       "      <td>9279_01</td>\n",
       "      <td>Earth</td>\n",
       "      <td>False</td>\n",
       "      <td>G/1500/S</td>\n",
       "      <td>TRAPPIST-1e</td>\n",
       "      <td>26.0</td>\n",
       "      <td>False</td>\n",
       "      <td>0.0</td>\n",
       "      <td>0.0</td>\n",
       "      <td>1872.0</td>\n",
       "      <td>1.0</td>\n",
       "      <td>0.0</td>\n",
       "      <td>Fayey Connon</td>\n",
       "      <td>True</td>\n",
       "    </tr>\n",
       "    <tr>\n",
       "      <th>8691</th>\n",
       "      <td>9280_01</td>\n",
       "      <td>Europa</td>\n",
       "      <td>False</td>\n",
       "      <td>E/608/S</td>\n",
       "      <td>55 Cancri e</td>\n",
       "      <td>32.0</td>\n",
       "      <td>False</td>\n",
       "      <td>0.0</td>\n",
       "      <td>1049.0</td>\n",
       "      <td>0.0</td>\n",
       "      <td>353.0</td>\n",
       "      <td>3235.0</td>\n",
       "      <td>Celeon Hontichre</td>\n",
       "      <td>False</td>\n",
       "    </tr>\n",
       "    <tr>\n",
       "      <th>8692</th>\n",
       "      <td>9280_02</td>\n",
       "      <td>Europa</td>\n",
       "      <td>False</td>\n",
       "      <td>E/608/S</td>\n",
       "      <td>TRAPPIST-1e</td>\n",
       "      <td>44.0</td>\n",
       "      <td>False</td>\n",
       "      <td>126.0</td>\n",
       "      <td>4688.0</td>\n",
       "      <td>0.0</td>\n",
       "      <td>0.0</td>\n",
       "      <td>12.0</td>\n",
       "      <td>Propsh Hontichre</td>\n",
       "      <td>True</td>\n",
       "    </tr>\n",
       "  </tbody>\n",
       "</table>\n",
       "<p>8693 rows × 14 columns</p>\n",
       "</div>"
      ],
      "text/plain": [
       "     PassengerId HomePlanet CryoSleep     Cabin    Destination   Age    VIP  \\\n",
       "0        0001_01     Europa     False     B/0/P    TRAPPIST-1e  39.0  False   \n",
       "1        0002_01      Earth     False     F/0/S    TRAPPIST-1e  24.0  False   \n",
       "2        0003_01     Europa     False     A/0/S    TRAPPIST-1e  58.0   True   \n",
       "3        0003_02     Europa     False     A/0/S    TRAPPIST-1e  33.0  False   \n",
       "4        0004_01      Earth     False     F/1/S    TRAPPIST-1e  16.0  False   \n",
       "...          ...        ...       ...       ...            ...   ...    ...   \n",
       "8688     9276_01     Europa     False    A/98/P    55 Cancri e  41.0   True   \n",
       "8689     9278_01      Earth      True  G/1499/S  PSO J318.5-22  18.0  False   \n",
       "8690     9279_01      Earth     False  G/1500/S    TRAPPIST-1e  26.0  False   \n",
       "8691     9280_01     Europa     False   E/608/S    55 Cancri e  32.0  False   \n",
       "8692     9280_02     Europa     False   E/608/S    TRAPPIST-1e  44.0  False   \n",
       "\n",
       "      RoomService  FoodCourt  ShoppingMall     Spa  VRDeck               Name  \\\n",
       "0             0.0        0.0           0.0     0.0     0.0    Maham Ofracculy   \n",
       "1           109.0        9.0          25.0   549.0    44.0       Juanna Vines   \n",
       "2            43.0     3576.0           0.0  6715.0    49.0      Altark Susent   \n",
       "3             0.0     1283.0         371.0  3329.0   193.0       Solam Susent   \n",
       "4           303.0       70.0         151.0   565.0     2.0  Willy Santantines   \n",
       "...           ...        ...           ...     ...     ...                ...   \n",
       "8688          0.0     6819.0           0.0  1643.0    74.0  Gravior Noxnuther   \n",
       "8689          0.0        0.0           0.0     0.0     0.0    Kurta Mondalley   \n",
       "8690          0.0        0.0        1872.0     1.0     0.0       Fayey Connon   \n",
       "8691          0.0     1049.0           0.0   353.0  3235.0   Celeon Hontichre   \n",
       "8692        126.0     4688.0           0.0     0.0    12.0   Propsh Hontichre   \n",
       "\n",
       "      Transported  \n",
       "0           False  \n",
       "1            True  \n",
       "2           False  \n",
       "3           False  \n",
       "4            True  \n",
       "...           ...  \n",
       "8688        False  \n",
       "8689        False  \n",
       "8690         True  \n",
       "8691        False  \n",
       "8692         True  \n",
       "\n",
       "[8693 rows x 14 columns]"
      ]
     },
     "execution_count": 4,
     "metadata": {},
     "output_type": "execute_result"
    }
   ],
   "source": [
    "passenger_data"
   ]
  },
  {
   "cell_type": "code",
   "execution_count": 5,
   "id": "67c6e3d0-bd3e-406f-8308-fd8727985e0a",
   "metadata": {},
   "outputs": [
    {
     "data": {
      "text/plain": [
       "PassengerId      object\n",
       "HomePlanet       object\n",
       "CryoSleep        object\n",
       "Cabin            object\n",
       "Destination      object\n",
       "Age             float64\n",
       "VIP              object\n",
       "RoomService     float64\n",
       "FoodCourt       float64\n",
       "ShoppingMall    float64\n",
       "Spa             float64\n",
       "VRDeck          float64\n",
       "Name             object\n",
       "Transported        bool\n",
       "dtype: object"
      ]
     },
     "execution_count": 5,
     "metadata": {},
     "output_type": "execute_result"
    }
   ],
   "source": [
    "passenger_data.dtypes"
   ]
  },
  {
   "cell_type": "code",
   "execution_count": 6,
   "id": "d3761862-f8ca-4788-bc32-bf6eb645d2c4",
   "metadata": {},
   "outputs": [
    {
     "data": {
      "text/plain": [
       "327     0368_02\n",
       "8509    9081_03\n",
       "6038    6388_01\n",
       "906     0979_01\n",
       "1730    1844_01\n",
       "6356    6724_01\n",
       "3605    3871_01\n",
       "4157    4441_03\n",
       "8246    8811_01\n",
       "8033    8598_02\n",
       "3428    3699_02\n",
       "3424    3691_01\n",
       "2327    2508_01\n",
       "7959    8503_03\n",
       "5843    6182_01\n",
       "2351    2532_02\n",
       "2802    3024_01\n",
       "6861    7257_01\n",
       "8502    9077_01\n",
       "7673    8190_01\n",
       "Name: PassengerId, dtype: object"
      ]
     },
     "execution_count": 6,
     "metadata": {},
     "output_type": "execute_result"
    }
   ],
   "source": [
    "passenger_data.PassengerId.sample(20)"
   ]
  },
  {
   "cell_type": "code",
   "execution_count": 7,
   "id": "8a257b08-2803-446e-a588-57fc263f9f57",
   "metadata": {},
   "outputs": [
    {
     "data": {
      "text/plain": [
       "array(['Europa', 'Earth', 'Mars', nan], dtype=object)"
      ]
     },
     "execution_count": 7,
     "metadata": {},
     "output_type": "execute_result"
    }
   ],
   "source": [
    "passenger_data.HomePlanet.unique()"
   ]
  },
  {
   "cell_type": "code",
   "execution_count": 8,
   "id": "35c03eb7-99c9-4096-83ec-1e5a9b094b90",
   "metadata": {},
   "outputs": [
    {
     "data": {
      "text/plain": [
       "Earth     4602\n",
       "Europa    2131\n",
       "Mars      1759\n",
       "NaN        201\n",
       "Name: HomePlanet, dtype: int64"
      ]
     },
     "execution_count": 8,
     "metadata": {},
     "output_type": "execute_result"
    }
   ],
   "source": [
    "passenger_data.HomePlanet.value_counts(dropna=False)"
   ]
  },
  {
   "cell_type": "code",
   "execution_count": 9,
   "id": "18b83cdd-b001-4ce2-9b10-05524268e802",
   "metadata": {},
   "outputs": [
    {
     "data": {
      "text/html": [
       "<div>\n",
       "<style scoped>\n",
       "    .dataframe tbody tr th:only-of-type {\n",
       "        vertical-align: middle;\n",
       "    }\n",
       "\n",
       "    .dataframe tbody tr th {\n",
       "        vertical-align: top;\n",
       "    }\n",
       "\n",
       "    .dataframe thead th {\n",
       "        text-align: right;\n",
       "    }\n",
       "</style>\n",
       "<table border=\"1\" class=\"dataframe\">\n",
       "  <thead>\n",
       "    <tr style=\"text-align: right;\">\n",
       "      <th></th>\n",
       "      <th>PassengerId</th>\n",
       "      <th>HomePlanet</th>\n",
       "      <th>CryoSleep</th>\n",
       "      <th>Cabin</th>\n",
       "      <th>Destination</th>\n",
       "      <th>Age</th>\n",
       "      <th>VIP</th>\n",
       "      <th>RoomService</th>\n",
       "      <th>FoodCourt</th>\n",
       "      <th>ShoppingMall</th>\n",
       "      <th>Spa</th>\n",
       "      <th>VRDeck</th>\n",
       "      <th>Name</th>\n",
       "      <th>Transported</th>\n",
       "    </tr>\n",
       "  </thead>\n",
       "  <tbody>\n",
       "    <tr>\n",
       "      <th>59</th>\n",
       "      <td>0064_02</td>\n",
       "      <td>NaN</td>\n",
       "      <td>True</td>\n",
       "      <td>E/3/S</td>\n",
       "      <td>TRAPPIST-1e</td>\n",
       "      <td>33.0</td>\n",
       "      <td>False</td>\n",
       "      <td>0.0</td>\n",
       "      <td>0.0</td>\n",
       "      <td>NaN</td>\n",
       "      <td>0.0</td>\n",
       "      <td>0.0</td>\n",
       "      <td>Colatz Keen</td>\n",
       "      <td>True</td>\n",
       "    </tr>\n",
       "    <tr>\n",
       "      <th>113</th>\n",
       "      <td>0119_01</td>\n",
       "      <td>NaN</td>\n",
       "      <td>False</td>\n",
       "      <td>A/0/P</td>\n",
       "      <td>TRAPPIST-1e</td>\n",
       "      <td>39.0</td>\n",
       "      <td>False</td>\n",
       "      <td>0.0</td>\n",
       "      <td>2344.0</td>\n",
       "      <td>0.0</td>\n",
       "      <td>65.0</td>\n",
       "      <td>6898.0</td>\n",
       "      <td>Batan Coning</td>\n",
       "      <td>False</td>\n",
       "    </tr>\n",
       "    <tr>\n",
       "      <th>186</th>\n",
       "      <td>0210_01</td>\n",
       "      <td>NaN</td>\n",
       "      <td>True</td>\n",
       "      <td>D/6/P</td>\n",
       "      <td>55 Cancri e</td>\n",
       "      <td>24.0</td>\n",
       "      <td>False</td>\n",
       "      <td>0.0</td>\n",
       "      <td>0.0</td>\n",
       "      <td>NaN</td>\n",
       "      <td>0.0</td>\n",
       "      <td>0.0</td>\n",
       "      <td>Arraid Inicont</td>\n",
       "      <td>True</td>\n",
       "    </tr>\n",
       "    <tr>\n",
       "      <th>225</th>\n",
       "      <td>0242_01</td>\n",
       "      <td>NaN</td>\n",
       "      <td>False</td>\n",
       "      <td>F/46/S</td>\n",
       "      <td>TRAPPIST-1e</td>\n",
       "      <td>18.0</td>\n",
       "      <td>False</td>\n",
       "      <td>313.0</td>\n",
       "      <td>1.0</td>\n",
       "      <td>691.0</td>\n",
       "      <td>283.0</td>\n",
       "      <td>0.0</td>\n",
       "      <td>Almone Sté</td>\n",
       "      <td>False</td>\n",
       "    </tr>\n",
       "    <tr>\n",
       "      <th>234</th>\n",
       "      <td>0251_01</td>\n",
       "      <td>NaN</td>\n",
       "      <td>True</td>\n",
       "      <td>C/11/S</td>\n",
       "      <td>55 Cancri e</td>\n",
       "      <td>54.0</td>\n",
       "      <td>False</td>\n",
       "      <td>0.0</td>\n",
       "      <td>0.0</td>\n",
       "      <td>0.0</td>\n",
       "      <td>0.0</td>\n",
       "      <td>0.0</td>\n",
       "      <td>Diphah Amsive</td>\n",
       "      <td>True</td>\n",
       "    </tr>\n",
       "    <tr>\n",
       "      <th>...</th>\n",
       "      <td>...</td>\n",
       "      <td>...</td>\n",
       "      <td>...</td>\n",
       "      <td>...</td>\n",
       "      <td>...</td>\n",
       "      <td>...</td>\n",
       "      <td>...</td>\n",
       "      <td>...</td>\n",
       "      <td>...</td>\n",
       "      <td>...</td>\n",
       "      <td>...</td>\n",
       "      <td>...</td>\n",
       "      <td>...</td>\n",
       "      <td>...</td>\n",
       "    </tr>\n",
       "    <tr>\n",
       "      <th>8515</th>\n",
       "      <td>9084_01</td>\n",
       "      <td>NaN</td>\n",
       "      <td>False</td>\n",
       "      <td>E/582/P</td>\n",
       "      <td>TRAPPIST-1e</td>\n",
       "      <td>25.0</td>\n",
       "      <td>False</td>\n",
       "      <td>1258.0</td>\n",
       "      <td>0.0</td>\n",
       "      <td>22.0</td>\n",
       "      <td>19.0</td>\n",
       "      <td>0.0</td>\n",
       "      <td>Jurs Mone</td>\n",
       "      <td>False</td>\n",
       "    </tr>\n",
       "    <tr>\n",
       "      <th>8613</th>\n",
       "      <td>9194_01</td>\n",
       "      <td>NaN</td>\n",
       "      <td>False</td>\n",
       "      <td>E/603/S</td>\n",
       "      <td>55 Cancri e</td>\n",
       "      <td>53.0</td>\n",
       "      <td>False</td>\n",
       "      <td>0.0</td>\n",
       "      <td>4017.0</td>\n",
       "      <td>0.0</td>\n",
       "      <td>13.0</td>\n",
       "      <td>3147.0</td>\n",
       "      <td>NaN</td>\n",
       "      <td>False</td>\n",
       "    </tr>\n",
       "    <tr>\n",
       "      <th>8666</th>\n",
       "      <td>9248_01</td>\n",
       "      <td>NaN</td>\n",
       "      <td>False</td>\n",
       "      <td>F/1792/S</td>\n",
       "      <td>55 Cancri e</td>\n",
       "      <td>38.0</td>\n",
       "      <td>NaN</td>\n",
       "      <td>28.0</td>\n",
       "      <td>1208.0</td>\n",
       "      <td>973.0</td>\n",
       "      <td>207.0</td>\n",
       "      <td>0.0</td>\n",
       "      <td>Gian Perle</td>\n",
       "      <td>True</td>\n",
       "    </tr>\n",
       "    <tr>\n",
       "      <th>8674</th>\n",
       "      <td>9257_01</td>\n",
       "      <td>NaN</td>\n",
       "      <td>False</td>\n",
       "      <td>F/1892/P</td>\n",
       "      <td>TRAPPIST-1e</td>\n",
       "      <td>13.0</td>\n",
       "      <td>False</td>\n",
       "      <td>39.0</td>\n",
       "      <td>0.0</td>\n",
       "      <td>1085.0</td>\n",
       "      <td>24.0</td>\n",
       "      <td>0.0</td>\n",
       "      <td>Ties Apple</td>\n",
       "      <td>False</td>\n",
       "    </tr>\n",
       "    <tr>\n",
       "      <th>8684</th>\n",
       "      <td>9274_01</td>\n",
       "      <td>NaN</td>\n",
       "      <td>True</td>\n",
       "      <td>G/1508/P</td>\n",
       "      <td>TRAPPIST-1e</td>\n",
       "      <td>23.0</td>\n",
       "      <td>False</td>\n",
       "      <td>0.0</td>\n",
       "      <td>0.0</td>\n",
       "      <td>0.0</td>\n",
       "      <td>0.0</td>\n",
       "      <td>0.0</td>\n",
       "      <td>Chelsa Bullisey</td>\n",
       "      <td>True</td>\n",
       "    </tr>\n",
       "  </tbody>\n",
       "</table>\n",
       "<p>201 rows × 14 columns</p>\n",
       "</div>"
      ],
      "text/plain": [
       "     PassengerId HomePlanet CryoSleep     Cabin  Destination   Age    VIP  \\\n",
       "59       0064_02        NaN      True     E/3/S  TRAPPIST-1e  33.0  False   \n",
       "113      0119_01        NaN     False     A/0/P  TRAPPIST-1e  39.0  False   \n",
       "186      0210_01        NaN      True     D/6/P  55 Cancri e  24.0  False   \n",
       "225      0242_01        NaN     False    F/46/S  TRAPPIST-1e  18.0  False   \n",
       "234      0251_01        NaN      True    C/11/S  55 Cancri e  54.0  False   \n",
       "...          ...        ...       ...       ...          ...   ...    ...   \n",
       "8515     9084_01        NaN     False   E/582/P  TRAPPIST-1e  25.0  False   \n",
       "8613     9194_01        NaN     False   E/603/S  55 Cancri e  53.0  False   \n",
       "8666     9248_01        NaN     False  F/1792/S  55 Cancri e  38.0    NaN   \n",
       "8674     9257_01        NaN     False  F/1892/P  TRAPPIST-1e  13.0  False   \n",
       "8684     9274_01        NaN      True  G/1508/P  TRAPPIST-1e  23.0  False   \n",
       "\n",
       "      RoomService  FoodCourt  ShoppingMall    Spa  VRDeck             Name  \\\n",
       "59            0.0        0.0           NaN    0.0     0.0      Colatz Keen   \n",
       "113           0.0     2344.0           0.0   65.0  6898.0     Batan Coning   \n",
       "186           0.0        0.0           NaN    0.0     0.0   Arraid Inicont   \n",
       "225         313.0        1.0         691.0  283.0     0.0       Almone Sté   \n",
       "234           0.0        0.0           0.0    0.0     0.0    Diphah Amsive   \n",
       "...           ...        ...           ...    ...     ...              ...   \n",
       "8515       1258.0        0.0          22.0   19.0     0.0        Jurs Mone   \n",
       "8613          0.0     4017.0           0.0   13.0  3147.0              NaN   \n",
       "8666         28.0     1208.0         973.0  207.0     0.0       Gian Perle   \n",
       "8674         39.0        0.0        1085.0   24.0     0.0       Ties Apple   \n",
       "8684          0.0        0.0           0.0    0.0     0.0  Chelsa Bullisey   \n",
       "\n",
       "      Transported  \n",
       "59           True  \n",
       "113         False  \n",
       "186          True  \n",
       "225         False  \n",
       "234          True  \n",
       "...           ...  \n",
       "8515        False  \n",
       "8613        False  \n",
       "8666         True  \n",
       "8674        False  \n",
       "8684         True  \n",
       "\n",
       "[201 rows x 14 columns]"
      ]
     },
     "execution_count": 9,
     "metadata": {},
     "output_type": "execute_result"
    }
   ],
   "source": [
    "passenger_data[passenger_data.HomePlanet.isna()]"
   ]
  },
  {
   "cell_type": "code",
   "execution_count": 10,
   "id": "0ee3c9db-3828-49f6-aa4d-89600aae1d16",
   "metadata": {},
   "outputs": [
    {
     "data": {
      "text/plain": [
       "False    5439\n",
       "True     3037\n",
       "NaN       217\n",
       "Name: CryoSleep, dtype: int64"
      ]
     },
     "execution_count": 10,
     "metadata": {},
     "output_type": "execute_result"
    }
   ],
   "source": [
    "passenger_data.CryoSleep.value_counts(dropna=False)"
   ]
  },
  {
   "cell_type": "code",
   "execution_count": 11,
   "id": "53ed6842-0a64-4766-886d-446f9f8db3a7",
   "metadata": {},
   "outputs": [],
   "source": [
    "destinations = passenger_data.Destination.value_counts().sort_values(ascending = True)"
   ]
  },
  {
   "cell_type": "code",
   "execution_count": 12,
   "id": "d1061945-ac57-4ce7-be83-f5f4e6637d9b",
   "metadata": {},
   "outputs": [
    {
     "data": {
      "text/plain": [
       "PSO J318.5-22     796\n",
       "55 Cancri e      1800\n",
       "TRAPPIST-1e      5915\n",
       "Name: Destination, dtype: int64"
      ]
     },
     "execution_count": 12,
     "metadata": {},
     "output_type": "execute_result"
    }
   ],
   "source": [
    "destinations"
   ]
  },
  {
   "cell_type": "code",
   "execution_count": 13,
   "id": "2cae2703-51b4-440a-8bd5-ba4b6d43525e",
   "metadata": {},
   "outputs": [
    {
     "data": {
      "image/png": "[encoded data removed]",
      "text/plain": [
       "<Figure size 640x480 with 1 Axes>"
      ]
     },
     "metadata": {},
     "output_type": "display_data"
    }
   ],
   "source": [
    "plt.barh(destinations.index, destinations)\n",
    "plt.xlabel('Num passengers')\n",
    "plt.ylabel('Destination')\n",
    "plt.show()"
   ]
  },
  {
   "cell_type": "code",
   "execution_count": 14,
   "id": "c5081689-dc69-4451-98b6-353daf06226f",
   "metadata": {},
   "outputs": [],
   "source": [
    "passangers_ids = passenger_data.PassengerId.str.split('_', expand=True)"
   ]
  },
  {
   "cell_type": "code",
   "execution_count": 15,
   "id": "c3e89a90-0b3c-4441-8614-d2c11b02aab2",
   "metadata": {},
   "outputs": [
    {
     "data": {
      "text/html": [
       "<div>\n",
       "<style scoped>\n",
       "    .dataframe tbody tr th:only-of-type {\n",
       "        vertical-align: middle;\n",
       "    }\n",
       "\n",
       "    .dataframe tbody tr th {\n",
       "        vertical-align: top;\n",
       "    }\n",
       "\n",
       "    .dataframe thead th {\n",
       "        text-align: right;\n",
       "    }\n",
       "</style>\n",
       "<table border=\"1\" class=\"dataframe\">\n",
       "  <thead>\n",
       "    <tr style=\"text-align: right;\">\n",
       "      <th></th>\n",
       "      <th>0</th>\n",
       "      <th>1</th>\n",
       "    </tr>\n",
       "  </thead>\n",
       "  <tbody>\n",
       "    <tr>\n",
       "      <th>0</th>\n",
       "      <td>0001</td>\n",
       "      <td>01</td>\n",
       "    </tr>\n",
       "    <tr>\n",
       "      <th>1</th>\n",
       "      <td>0002</td>\n",
       "      <td>01</td>\n",
       "    </tr>\n",
       "    <tr>\n",
       "      <th>2</th>\n",
       "      <td>0003</td>\n",
       "      <td>01</td>\n",
       "    </tr>\n",
       "    <tr>\n",
       "      <th>3</th>\n",
       "      <td>0003</td>\n",
       "      <td>02</td>\n",
       "    </tr>\n",
       "    <tr>\n",
       "      <th>4</th>\n",
       "      <td>0004</td>\n",
       "      <td>01</td>\n",
       "    </tr>\n",
       "    <tr>\n",
       "      <th>...</th>\n",
       "      <td>...</td>\n",
       "      <td>...</td>\n",
       "    </tr>\n",
       "    <tr>\n",
       "      <th>8688</th>\n",
       "      <td>9276</td>\n",
       "      <td>01</td>\n",
       "    </tr>\n",
       "    <tr>\n",
       "      <th>8689</th>\n",
       "      <td>9278</td>\n",
       "      <td>01</td>\n",
       "    </tr>\n",
       "    <tr>\n",
       "      <th>8690</th>\n",
       "      <td>9279</td>\n",
       "      <td>01</td>\n",
       "    </tr>\n",
       "    <tr>\n",
       "      <th>8691</th>\n",
       "      <td>9280</td>\n",
       "      <td>01</td>\n",
       "    </tr>\n",
       "    <tr>\n",
       "      <th>8692</th>\n",
       "      <td>9280</td>\n",
       "      <td>02</td>\n",
       "    </tr>\n",
       "  </tbody>\n",
       "</table>\n",
       "<p>8693 rows × 2 columns</p>\n",
       "</div>"
      ],
      "text/plain": [
       "         0   1\n",
       "0     0001  01\n",
       "1     0002  01\n",
       "2     0003  01\n",
       "3     0003  02\n",
       "4     0004  01\n",
       "...    ...  ..\n",
       "8688  9276  01\n",
       "8689  9278  01\n",
       "8690  9279  01\n",
       "8691  9280  01\n",
       "8692  9280  02\n",
       "\n",
       "[8693 rows x 2 columns]"
      ]
     },
     "execution_count": 15,
     "metadata": {},
     "output_type": "execute_result"
    }
   ],
   "source": [
    "passangers_ids"
   ]
  },
  {
   "cell_type": "code",
   "execution_count": 16,
   "id": "e9ac116e-3042-4b15-b378-bf7e59c23a94",
   "metadata": {},
   "outputs": [
    {
     "data": {
      "text/plain": [
       "4498    8\n",
       "8168    8\n",
       "8728    8\n",
       "8796    8\n",
       "8956    8\n",
       "       ..\n",
       "3483    1\n",
       "3480    1\n",
       "3478    1\n",
       "3473    1\n",
       "4620    1\n",
       "Name: 0, Length: 6217, dtype: int64"
      ]
     },
     "execution_count": 16,
     "metadata": {},
     "output_type": "execute_result"
    }
   ],
   "source": [
    "passangers_ids[0].value_counts()"
   ]
  },
  {
   "cell_type": "code",
   "execution_count": 17,
   "id": "dba98ef5-9567-4d27-b81a-07415142d786",
   "metadata": {},
   "outputs": [],
   "source": [
    "num_passengers = passenger_data.PassengerId\\\n",
    "                .str.split('_', expand=True)[0]\\\n",
    "                .value_counts()\\\n",
    "                .value_counts()"
   ]
  },
  {
   "cell_type": "code",
   "execution_count": 18,
   "id": "0ad549ff-18a8-4262-b466-06adad9e6b8c",
   "metadata": {},
   "outputs": [
    {
     "data": {
      "image/png": "[encoded data removed]",
      "text/plain": [
       "<Figure size 640x480 with 1 Axes>"
      ]
     },
     "metadata": {},
     "output_type": "display_data"
    }
   ],
   "source": [
    "plt.barh(num_passengers.index, num_passengers)\n",
    "plt.xlabel('Num passengers')\n",
    "plt.ylabel('Number of passengers in cabin')\n",
    "plt.show()"
   ]
  },
  {
   "cell_type": "code",
   "execution_count": 19,
   "id": "9e3cd0f9-f0d9-4ba5-9d26-3674cfb7d290",
   "metadata": {},
   "outputs": [
    {
     "data": {
      "text/plain": [
       "True     4378\n",
       "False    4315\n",
       "Name: Transported, dtype: int64"
      ]
     },
     "execution_count": 19,
     "metadata": {},
     "output_type": "execute_result"
    }
   ],
   "source": [
    "passenger_data.Transported.value_counts(dropna=False)"
   ]
  },
  {
   "cell_type": "code",
   "execution_count": 20,
   "id": "6f779e52-cf86-442f-ae70-09a89187277a",
   "metadata": {},
   "outputs": [],
   "source": [
    "# Separate the target column\n",
    "passenger_attributes = passenger_data.drop(columns=['Transported']) # x\n",
    "passenger_labels = passenger_data.Transported # y"
   ]
  },
  {
   "cell_type": "markdown",
   "id": "dc8a4c00-915e-4d0b-9acc-722be5a87d59",
   "metadata": {},
   "source": [
    "### To enable the model to function, each value in the dataset must be a number!"
   ]
  },
  {
   "cell_type": "code",
   "execution_count": 21,
   "id": "0b6811d7-024b-4768-9cd1-cb10c720d75e",
   "metadata": {},
   "outputs": [],
   "source": [
    "passenger_attributes = passenger_attributes.drop(columns=['PassengerId', 'Name', 'Cabin'])"
   ]
  },
  {
   "cell_type": "code",
   "execution_count": 22,
   "id": "56396f5e-3b04-4c52-84bd-4ecb982eff94",
   "metadata": {},
   "outputs": [
    {
     "data": {
      "text/plain": [
       "HomePlanet       object\n",
       "CryoSleep        object\n",
       "Destination      object\n",
       "Age             float64\n",
       "VIP              object\n",
       "RoomService     float64\n",
       "FoodCourt       float64\n",
       "ShoppingMall    float64\n",
       "Spa             float64\n",
       "VRDeck          float64\n",
       "dtype: object"
      ]
     },
     "execution_count": 22,
     "metadata": {},
     "output_type": "execute_result"
    }
   ],
   "source": [
    "passenger_attributes.dtypes"
   ]
  },
  {
   "cell_type": "code",
   "execution_count": 23,
   "id": "cc8c81e3-126a-42c3-a2c7-a62cd1262cbb",
   "metadata": {},
   "outputs": [
    {
     "data": {
      "text/html": [
       "<div>\n",
       "<style scoped>\n",
       "    .dataframe tbody tr th:only-of-type {\n",
       "        vertical-align: middle;\n",
       "    }\n",
       "\n",
       "    .dataframe tbody tr th {\n",
       "        vertical-align: top;\n",
       "    }\n",
       "\n",
       "    .dataframe thead th {\n",
       "        text-align: right;\n",
       "    }\n",
       "</style>\n",
       "<table border=\"1\" class=\"dataframe\">\n",
       "  <thead>\n",
       "    <tr style=\"text-align: right;\">\n",
       "      <th></th>\n",
       "      <th>Earth</th>\n",
       "      <th>Europa</th>\n",
       "      <th>Mars</th>\n",
       "    </tr>\n",
       "  </thead>\n",
       "  <tbody>\n",
       "    <tr>\n",
       "      <th>0</th>\n",
       "      <td>0</td>\n",
       "      <td>1</td>\n",
       "      <td>0</td>\n",
       "    </tr>\n",
       "    <tr>\n",
       "      <th>1</th>\n",
       "      <td>1</td>\n",
       "      <td>0</td>\n",
       "      <td>0</td>\n",
       "    </tr>\n",
       "    <tr>\n",
       "      <th>2</th>\n",
       "      <td>0</td>\n",
       "      <td>1</td>\n",
       "      <td>0</td>\n",
       "    </tr>\n",
       "    <tr>\n",
       "      <th>3</th>\n",
       "      <td>0</td>\n",
       "      <td>1</td>\n",
       "      <td>0</td>\n",
       "    </tr>\n",
       "    <tr>\n",
       "      <th>4</th>\n",
       "      <td>1</td>\n",
       "      <td>0</td>\n",
       "      <td>0</td>\n",
       "    </tr>\n",
       "    <tr>\n",
       "      <th>...</th>\n",
       "      <td>...</td>\n",
       "      <td>...</td>\n",
       "      <td>...</td>\n",
       "    </tr>\n",
       "    <tr>\n",
       "      <th>8688</th>\n",
       "      <td>0</td>\n",
       "      <td>1</td>\n",
       "      <td>0</td>\n",
       "    </tr>\n",
       "    <tr>\n",
       "      <th>8689</th>\n",
       "      <td>1</td>\n",
       "      <td>0</td>\n",
       "      <td>0</td>\n",
       "    </tr>\n",
       "    <tr>\n",
       "      <th>8690</th>\n",
       "      <td>1</td>\n",
       "      <td>0</td>\n",
       "      <td>0</td>\n",
       "    </tr>\n",
       "    <tr>\n",
       "      <th>8691</th>\n",
       "      <td>0</td>\n",
       "      <td>1</td>\n",
       "      <td>0</td>\n",
       "    </tr>\n",
       "    <tr>\n",
       "      <th>8692</th>\n",
       "      <td>0</td>\n",
       "      <td>1</td>\n",
       "      <td>0</td>\n",
       "    </tr>\n",
       "  </tbody>\n",
       "</table>\n",
       "<p>8693 rows × 3 columns</p>\n",
       "</div>"
      ],
      "text/plain": [
       "      Earth  Europa  Mars\n",
       "0         0       1     0\n",
       "1         1       0     0\n",
       "2         0       1     0\n",
       "3         0       1     0\n",
       "4         1       0     0\n",
       "...     ...     ...   ...\n",
       "8688      0       1     0\n",
       "8689      1       0     0\n",
       "8690      1       0     0\n",
       "8691      0       1     0\n",
       "8692      0       1     0\n",
       "\n",
       "[8693 rows x 3 columns]"
      ]
     },
     "execution_count": 23,
     "metadata": {},
     "output_type": "execute_result"
    }
   ],
   "source": [
    "pd.get_dummies(passenger_attributes['HomePlanet'])"
   ]
  },
  {
   "cell_type": "code",
   "execution_count": 24,
   "id": "4edec3c3-8172-4289-b937-1954d3ca46b9",
   "metadata": {},
   "outputs": [],
   "source": [
    "passenger_attributes = pd.get_dummies(passenger_attributes, drop_first=True)"
   ]
  },
  {
   "cell_type": "code",
   "execution_count": 25,
   "id": "9d57d03f-a18a-4096-b0f6-d35fc3495c83",
   "metadata": {},
   "outputs": [],
   "source": [
    "passenger_attributes = passenger_attributes.dropna()"
   ]
  },
  {
   "cell_type": "code",
   "execution_count": 26,
   "id": "a0871ab8-8f5f-468a-835d-77669d1c3733",
   "metadata": {},
   "outputs": [
    {
     "data": {
      "text/plain": [
       "(7620, 12)"
      ]
     },
     "execution_count": 26,
     "metadata": {},
     "output_type": "execute_result"
    }
   ],
   "source": [
    "passenger_attributes.shape"
   ]
  },
  {
   "cell_type": "code",
   "execution_count": 27,
   "id": "dca8e540-23a4-40b1-815e-02056be448f7",
   "metadata": {},
   "outputs": [],
   "source": [
    "passenger_labels = passenger_labels.loc[passenger_attributes.index]"
   ]
  },
  {
   "cell_type": "code",
   "execution_count": 28,
   "id": "d280106e-b207-4fb2-95a5-d2c54cf781dd",
   "metadata": {},
   "outputs": [
    {
     "data": {
      "text/plain": [
       "(7620, 7620)"
      ]
     },
     "execution_count": 28,
     "metadata": {},
     "output_type": "execute_result"
    }
   ],
   "source": [
    "len(passenger_attributes), len(passenger_labels)"
   ]
  },
  {
   "cell_type": "code",
   "execution_count": 29,
   "id": "439e9a21-22df-44bf-b169-5c3baba3c086",
   "metadata": {},
   "outputs": [],
   "source": [
    "model = LogisticRegression(C=1e9)"
   ]
  },
  {
   "cell_type": "code",
   "execution_count": 30,
   "id": "b860e7f8-f324-451d-83a7-f9bb0db1b4f3",
   "metadata": {},
   "outputs": [
    {
     "name": "stderr",
     "output_type": "stream",
     "text": [
      "C:\\Users\\lenovo\\anaconda3\\lib\\site-packages\\sklearn\\linear_model\\_logistic.py:814: ConvergenceWarning: lbfgs failed to converge (status=1):\n",
      "STOP: TOTAL NO. of ITERATIONS REACHED LIMIT.\n",
      "\n",
      "Increase the number of iterations (max_iter) or scale the data as shown in:\n",
      "    https://scikit-learn.org/stable/modules/preprocessing.html\n",
      "Please also refer to the documentation for alternative solver options:\n",
      "    https://scikit-learn.org/stable/modules/linear_model.html#logistic-regression\n",
      "  n_iter_i = _check_optimize_result(\n"
     ]
    },
    {
     "data": {
      "text/plain": [
       "LogisticRegression(C=1000000000.0)"
      ]
     },
     "execution_count": 30,
     "metadata": {},
     "output_type": "execute_result"
    }
   ],
   "source": [
    "model.fit(passenger_attributes, passenger_labels)"
   ]
  },
  {
   "cell_type": "code",
   "execution_count": 31,
   "id": "13866ee9-79ae-4d38-8ac8-0a2bc9fc84a1",
   "metadata": {},
   "outputs": [
    {
     "data": {
      "text/plain": [
       "0.7892388451443569"
      ]
     },
     "execution_count": 31,
     "metadata": {},
     "output_type": "execute_result"
    }
   ],
   "source": [
    "model.score(passenger_attributes, passenger_labels)"
   ]
  },
  {
   "cell_type": "code",
   "execution_count": 32,
   "id": "4476e4be-0935-4c9a-a4b0-93d34657ad5b",
   "metadata": {},
   "outputs": [],
   "source": [
    "test_passenger_data = pd.read_csv('Data/test.csv')"
   ]
  },
  {
   "cell_type": "code",
   "execution_count": 33,
   "id": "76bc5f2e-413b-465d-9bf3-e7c260f20699",
   "metadata": {},
   "outputs": [],
   "source": [
    "# Apply same data transformations to the test dataset\n",
    "test_passenger_attributes = test_passenger_data\n",
    "\n",
    "test_passenger_attributes = test_passenger_attributes.drop(columns=['PassengerId', 'Name', 'Cabin'])\n",
    "test_passenger_attributes = pd.get_dummies(test_passenger_attributes, drop_first=True)\n",
    "test_passenger_attributes= test_passenger_attributes.dropna()\n"
   ]
  },
  {
   "cell_type": "code",
   "execution_count": 34,
   "id": "f2afef46-7868-45d1-8651-900ab6c097a4",
   "metadata": {},
   "outputs": [
    {
     "data": {
      "text/html": [
       "<div>\n",
       "<style scoped>\n",
       "    .dataframe tbody tr th:only-of-type {\n",
       "        vertical-align: middle;\n",
       "    }\n",
       "\n",
       "    .dataframe tbody tr th {\n",
       "        vertical-align: top;\n",
       "    }\n",
       "\n",
       "    .dataframe thead th {\n",
       "        text-align: right;\n",
       "    }\n",
       "</style>\n",
       "<table border=\"1\" class=\"dataframe\">\n",
       "  <thead>\n",
       "    <tr style=\"text-align: right;\">\n",
       "      <th></th>\n",
       "      <th>Age</th>\n",
       "      <th>RoomService</th>\n",
       "      <th>FoodCourt</th>\n",
       "      <th>ShoppingMall</th>\n",
       "      <th>Spa</th>\n",
       "      <th>VRDeck</th>\n",
       "      <th>HomePlanet_Europa</th>\n",
       "      <th>HomePlanet_Mars</th>\n",
       "      <th>CryoSleep_True</th>\n",
       "      <th>Destination_PSO J318.5-22</th>\n",
       "      <th>Destination_TRAPPIST-1e</th>\n",
       "      <th>VIP_True</th>\n",
       "    </tr>\n",
       "  </thead>\n",
       "  <tbody>\n",
       "    <tr>\n",
       "      <th>0</th>\n",
       "      <td>27.0</td>\n",
       "      <td>0.0</td>\n",
       "      <td>0.0</td>\n",
       "      <td>0.0</td>\n",
       "      <td>0.0</td>\n",
       "      <td>0.0</td>\n",
       "      <td>0</td>\n",
       "      <td>0</td>\n",
       "      <td>1</td>\n",
       "      <td>0</td>\n",
       "      <td>1</td>\n",
       "      <td>0</td>\n",
       "    </tr>\n",
       "    <tr>\n",
       "      <th>1</th>\n",
       "      <td>19.0</td>\n",
       "      <td>0.0</td>\n",
       "      <td>9.0</td>\n",
       "      <td>0.0</td>\n",
       "      <td>2823.0</td>\n",
       "      <td>0.0</td>\n",
       "      <td>0</td>\n",
       "      <td>0</td>\n",
       "      <td>0</td>\n",
       "      <td>0</td>\n",
       "      <td>1</td>\n",
       "      <td>0</td>\n",
       "    </tr>\n",
       "    <tr>\n",
       "      <th>2</th>\n",
       "      <td>31.0</td>\n",
       "      <td>0.0</td>\n",
       "      <td>0.0</td>\n",
       "      <td>0.0</td>\n",
       "      <td>0.0</td>\n",
       "      <td>0.0</td>\n",
       "      <td>1</td>\n",
       "      <td>0</td>\n",
       "      <td>1</td>\n",
       "      <td>0</td>\n",
       "      <td>0</td>\n",
       "      <td>0</td>\n",
       "    </tr>\n",
       "    <tr>\n",
       "      <th>3</th>\n",
       "      <td>38.0</td>\n",
       "      <td>0.0</td>\n",
       "      <td>6652.0</td>\n",
       "      <td>0.0</td>\n",
       "      <td>181.0</td>\n",
       "      <td>585.0</td>\n",
       "      <td>1</td>\n",
       "      <td>0</td>\n",
       "      <td>0</td>\n",
       "      <td>0</td>\n",
       "      <td>1</td>\n",
       "      <td>0</td>\n",
       "    </tr>\n",
       "    <tr>\n",
       "      <th>4</th>\n",
       "      <td>20.0</td>\n",
       "      <td>10.0</td>\n",
       "      <td>0.0</td>\n",
       "      <td>635.0</td>\n",
       "      <td>0.0</td>\n",
       "      <td>0.0</td>\n",
       "      <td>0</td>\n",
       "      <td>0</td>\n",
       "      <td>0</td>\n",
       "      <td>0</td>\n",
       "      <td>1</td>\n",
       "      <td>0</td>\n",
       "    </tr>\n",
       "    <tr>\n",
       "      <th>...</th>\n",
       "      <td>...</td>\n",
       "      <td>...</td>\n",
       "      <td>...</td>\n",
       "      <td>...</td>\n",
       "      <td>...</td>\n",
       "      <td>...</td>\n",
       "      <td>...</td>\n",
       "      <td>...</td>\n",
       "      <td>...</td>\n",
       "      <td>...</td>\n",
       "      <td>...</td>\n",
       "      <td>...</td>\n",
       "    </tr>\n",
       "    <tr>\n",
       "      <th>4270</th>\n",
       "      <td>43.0</td>\n",
       "      <td>47.0</td>\n",
       "      <td>0.0</td>\n",
       "      <td>3851.0</td>\n",
       "      <td>0.0</td>\n",
       "      <td>0.0</td>\n",
       "      <td>0</td>\n",
       "      <td>1</td>\n",
       "      <td>0</td>\n",
       "      <td>0</td>\n",
       "      <td>1</td>\n",
       "      <td>0</td>\n",
       "    </tr>\n",
       "    <tr>\n",
       "      <th>4271</th>\n",
       "      <td>40.0</td>\n",
       "      <td>0.0</td>\n",
       "      <td>865.0</td>\n",
       "      <td>0.0</td>\n",
       "      <td>3.0</td>\n",
       "      <td>0.0</td>\n",
       "      <td>0</td>\n",
       "      <td>0</td>\n",
       "      <td>0</td>\n",
       "      <td>0</td>\n",
       "      <td>1</td>\n",
       "      <td>0</td>\n",
       "    </tr>\n",
       "    <tr>\n",
       "      <th>4272</th>\n",
       "      <td>34.0</td>\n",
       "      <td>0.0</td>\n",
       "      <td>0.0</td>\n",
       "      <td>0.0</td>\n",
       "      <td>0.0</td>\n",
       "      <td>0.0</td>\n",
       "      <td>0</td>\n",
       "      <td>0</td>\n",
       "      <td>1</td>\n",
       "      <td>0</td>\n",
       "      <td>1</td>\n",
       "      <td>0</td>\n",
       "    </tr>\n",
       "    <tr>\n",
       "      <th>4273</th>\n",
       "      <td>42.0</td>\n",
       "      <td>0.0</td>\n",
       "      <td>847.0</td>\n",
       "      <td>17.0</td>\n",
       "      <td>10.0</td>\n",
       "      <td>144.0</td>\n",
       "      <td>0</td>\n",
       "      <td>0</td>\n",
       "      <td>0</td>\n",
       "      <td>0</td>\n",
       "      <td>1</td>\n",
       "      <td>0</td>\n",
       "    </tr>\n",
       "    <tr>\n",
       "      <th>4276</th>\n",
       "      <td>43.0</td>\n",
       "      <td>0.0</td>\n",
       "      <td>0.0</td>\n",
       "      <td>0.0</td>\n",
       "      <td>0.0</td>\n",
       "      <td>0.0</td>\n",
       "      <td>0</td>\n",
       "      <td>0</td>\n",
       "      <td>1</td>\n",
       "      <td>1</td>\n",
       "      <td>0</td>\n",
       "      <td>0</td>\n",
       "    </tr>\n",
       "  </tbody>\n",
       "</table>\n",
       "<p>3740 rows × 12 columns</p>\n",
       "</div>"
      ],
      "text/plain": [
       "       Age  RoomService  FoodCourt  ShoppingMall     Spa  VRDeck  \\\n",
       "0     27.0          0.0        0.0           0.0     0.0     0.0   \n",
       "1     19.0          0.0        9.0           0.0  2823.0     0.0   \n",
       "2     31.0          0.0        0.0           0.0     0.0     0.0   \n",
       "3     38.0          0.0     6652.0           0.0   181.0   585.0   \n",
       "4     20.0         10.0        0.0         635.0     0.0     0.0   \n",
       "...    ...          ...        ...           ...     ...     ...   \n",
       "4270  43.0         47.0        0.0        3851.0     0.0     0.0   \n",
       "4271  40.0          0.0      865.0           0.0     3.0     0.0   \n",
       "4272  34.0          0.0        0.0           0.0     0.0     0.0   \n",
       "4273  42.0          0.0      847.0          17.0    10.0   144.0   \n",
       "4276  43.0          0.0        0.0           0.0     0.0     0.0   \n",
       "\n",
       "      HomePlanet_Europa  HomePlanet_Mars  CryoSleep_True  \\\n",
       "0                     0                0               1   \n",
       "1                     0                0               0   \n",
       "2                     1                0               1   \n",
       "3                     1                0               0   \n",
       "4                     0                0               0   \n",
       "...                 ...              ...             ...   \n",
       "4270                  0                1               0   \n",
       "4271                  0                0               0   \n",
       "4272                  0                0               1   \n",
       "4273                  0                0               0   \n",
       "4276                  0                0               1   \n",
       "\n",
       "      Destination_PSO J318.5-22  Destination_TRAPPIST-1e  VIP_True  \n",
       "0                             0                        1         0  \n",
       "1                             0                        1         0  \n",
       "2                             0                        0         0  \n",
       "3                             0                        1         0  \n",
       "4                             0                        1         0  \n",
       "...                         ...                      ...       ...  \n",
       "4270                          0                        1         0  \n",
       "4271                          0                        1         0  \n",
       "4272                          0                        1         0  \n",
       "4273                          0                        1         0  \n",
       "4276                          1                        0         0  \n",
       "\n",
       "[3740 rows x 12 columns]"
      ]
     },
     "execution_count": 34,
     "metadata": {},
     "output_type": "execute_result"
    }
   ],
   "source": [
    "test_passenger_attributes"
   ]
  },
  {
   "cell_type": "code",
   "execution_count": 35,
   "id": "c2fae953-abd5-41bd-9a43-56591db6a210",
   "metadata": {},
   "outputs": [
    {
     "data": {
      "text/plain": [
       "array([ True, False, False, ...,  True, False,  True])"
      ]
     },
     "execution_count": 35,
     "metadata": {},
     "output_type": "execute_result"
    }
   ],
   "source": [
    "model.predict(passenger_attributes)"
   ]
  },
  {
   "cell_type": "code",
   "execution_count": 36,
   "id": "259c752f-089d-4be1-a0ee-7488eb0f0150",
   "metadata": {},
   "outputs": [
    {
     "name": "stdout",
     "output_type": "stream",
     "text": [
      "              precision    recall  f1-score   support\n",
      "\n",
      "       False       0.79      0.78      0.79      3789\n",
      "        True       0.79      0.80      0.79      3831\n",
      "\n",
      "    accuracy                           0.79      7620\n",
      "   macro avg       0.79      0.79      0.79      7620\n",
      "weighted avg       0.79      0.79      0.79      7620\n",
      "\n"
     ]
    }
   ],
   "source": [
    "print(classification_report(passenger_labels, model.predict(passenger_attributes)))"
   ]
  },
  {
   "cell_type": "code",
   "execution_count": 37,
   "id": "7ebefefb-2b33-41d8-97ef-5d84a3f5d02a",
   "metadata": {},
   "outputs": [
    {
     "data": {
      "text/plain": [
       "array([[-8.84328705e-05, -1.45704199e-03,  5.54121756e-04,\n",
       "         5.53082409e-04, -1.98408651e-03, -1.66757950e-03,\n",
       "         1.81594082e+00,  5.58020144e-01,  1.44697322e+00,\n",
       "        -3.84629893e-01, -6.42277663e-01, -1.79175244e-02]])"
      ]
     },
     "execution_count": 37,
     "metadata": {},
     "output_type": "execute_result"
    }
   ],
   "source": [
    "model.coef_"
   ]
  },
  {
   "cell_type": "code",
   "execution_count": 38,
   "id": "24251749-2e6a-4d45-a19d-0bd0588d6231",
   "metadata": {},
   "outputs": [
    {
     "data": {
      "text/plain": [
       "[('Age', -8.843287048740964e-05),\n",
       " ('RoomService', -0.0014570419863708921),\n",
       " ('FoodCourt', 0.0005541217560103471),\n",
       " ('ShoppingMall', 0.0005530824085882056),\n",
       " ('Spa', -0.0019840865090824723),\n",
       " ('VRDeck', -0.0016675794989779729),\n",
       " ('HomePlanet_Europa', 1.815940822348513),\n",
       " ('HomePlanet_Mars', 0.5580201442457036),\n",
       " ('CryoSleep_True', 1.4469732188968298),\n",
       " ('Destination_PSO J318.5-22', -0.3846298927797784),\n",
       " ('Destination_TRAPPIST-1e', -0.6422776634795424),\n",
       " ('VIP_True', -0.017917524421355628)]"
      ]
     },
     "execution_count": 38,
     "metadata": {},
     "output_type": "execute_result"
    }
   ],
   "source": [
    "list(zip(passenger_attributes.columns.tolist(), model.coef_[0].tolist()))"
   ]
  },
  {
   "cell_type": "code",
   "execution_count": 39,
   "id": "8464e31b-3c44-4bd6-9981-c7c82f068faf",
   "metadata": {},
   "outputs": [],
   "source": [
    "# Create new model with extremely small parameter C. Smaller parameter C means bigger regularisation."
   ]
  },
  {
   "cell_type": "code",
   "execution_count": 40,
   "id": "28404105-2bf8-4ae1-8ffe-b3cf191bb73a",
   "metadata": {},
   "outputs": [],
   "source": [
    "model_2 = LogisticRegression(C=1e-9)"
   ]
  },
  {
   "cell_type": "code",
   "execution_count": 41,
   "id": "e9e96e72-2fdb-4fcb-8892-88d1f8ac6d75",
   "metadata": {},
   "outputs": [
    {
     "data": {
      "text/plain": [
       "LogisticRegression(C=1e-09)"
      ]
     },
     "execution_count": 41,
     "metadata": {},
     "output_type": "execute_result"
    }
   ],
   "source": [
    "model_2.fit(passenger_attributes, passenger_labels)"
   ]
  },
  {
   "cell_type": "code",
   "execution_count": 42,
   "id": "4b8862ef-e0b1-4e37-b530-7471f4570282",
   "metadata": {},
   "outputs": [
    {
     "data": {
      "text/plain": [
       "0.7526246719160105"
      ]
     },
     "execution_count": 42,
     "metadata": {},
     "output_type": "execute_result"
    }
   ],
   "source": [
    "model_2.score(passenger_attributes, passenger_labels)"
   ]
  },
  {
   "cell_type": "code",
   "execution_count": 43,
   "id": "800ed601-c940-4b08-88bf-91aa19a846a2",
   "metadata": {},
   "outputs": [
    {
     "data": {
      "text/plain": [
       "array([[-2.52137344e-06, -3.75334556e-04,  1.45306215e-04,\n",
       "         2.39715436e-05, -3.89305312e-04, -3.53410277e-04,\n",
       "         3.47446161e-07,  3.78495341e-08,  6.88461160e-07,\n",
       "        -1.52117229e-08, -1.76473539e-07, -1.12834574e-08]])"
      ]
     },
     "execution_count": 43,
     "metadata": {},
     "output_type": "execute_result"
    }
   ],
   "source": [
    "model_2.coef_"
   ]
  },
  {
   "cell_type": "code",
   "execution_count": 44,
   "id": "4d10ce89-2391-4809-9b53-abe77a71bae3",
   "metadata": {},
   "outputs": [
    {
     "data": {
      "text/plain": [
       "[('Age', -2.5213734393012253e-06),\n",
       " ('RoomService', -0.00037533455556169323),\n",
       " ('FoodCourt', 0.0001453062152902322),\n",
       " ('ShoppingMall', 2.3971543598033592e-05),\n",
       " ('Spa', -0.0003893053121120718),\n",
       " ('VRDeck', -0.0003534102768936705),\n",
       " ('HomePlanet_Europa', 3.4744616078429724e-07),\n",
       " ('HomePlanet_Mars', 3.784953410011722e-08),\n",
       " ('CryoSleep_True', 6.884611596547063e-07),\n",
       " ('Destination_PSO J318.5-22', -1.521172290921782e-08),\n",
       " ('Destination_TRAPPIST-1e', -1.7647353899822498e-07),\n",
       " ('VIP_True', -1.1283457443199421e-08)]"
      ]
     },
     "execution_count": 44,
     "metadata": {},
     "output_type": "execute_result"
    }
   ],
   "source": [
    "list(zip(passenger_attributes.columns.tolist(), model_2.coef_[0].tolist()))"
   ]
  },
  {
   "cell_type": "code",
   "execution_count": 45,
   "id": "f9ffc772-2b57-4d2d-9c72-ede4db5b71ff",
   "metadata": {},
   "outputs": [
    {
     "data": {
      "text/plain": [
       "[('Age', -8.843287048740964e-05, -2.5213734393012253e-06),\n",
       " ('RoomService', -0.0014570419863708921, -0.00037533455556169323),\n",
       " ('FoodCourt', 0.0005541217560103471, 0.0001453062152902322),\n",
       " ('ShoppingMall', 0.0005530824085882056, 2.3971543598033592e-05),\n",
       " ('Spa', -0.0019840865090824723, -0.0003893053121120718),\n",
       " ('VRDeck', -0.0016675794989779729, -0.0003534102768936705),\n",
       " ('HomePlanet_Europa', 1.815940822348513, 3.4744616078429724e-07),\n",
       " ('HomePlanet_Mars', 0.5580201442457036, 3.784953410011722e-08),\n",
       " ('CryoSleep_True', 1.4469732188968298, 6.884611596547063e-07),\n",
       " ('Destination_PSO J318.5-22', -0.3846298927797784, -1.521172290921782e-08),\n",
       " ('Destination_TRAPPIST-1e', -0.6422776634795424, -1.7647353899822498e-07),\n",
       " ('VIP_True', -0.017917524421355628, -1.1283457443199421e-08)]"
      ]
     },
     "execution_count": 45,
     "metadata": {},
     "output_type": "execute_result"
    }
   ],
   "source": [
    "# Compare the two models coefs\n",
    "list(zip(passenger_attributes.columns.tolist(), model.coef_[0].tolist(), model_2.coef_[0].tolist()))"
   ]
  },
  {
   "cell_type": "code",
   "execution_count": null,
   "id": "be70fdd5-b277-4e4c-b09d-93abd6cc3153",
   "metadata": {},
   "outputs": [],
   "source": []
  },
  {
   "cell_type": "code",
   "execution_count": 46,
   "id": "49f362aa-6d2c-4507-ad8d-26ef158c9515",
   "metadata": {},
   "outputs": [],
   "source": [
    "model_3 = LogisticRegression(C = 1)"
   ]
  },
  {
   "cell_type": "code",
   "execution_count": 47,
   "id": "1fa78082-b733-4768-8f6e-e9642bb64d85",
   "metadata": {},
   "outputs": [
    {
     "name": "stderr",
     "output_type": "stream",
     "text": [
      "C:\\Users\\lenovo\\anaconda3\\lib\\site-packages\\sklearn\\linear_model\\_logistic.py:814: ConvergenceWarning: lbfgs failed to converge (status=1):\n",
      "STOP: TOTAL NO. of ITERATIONS REACHED LIMIT.\n",
      "\n",
      "Increase the number of iterations (max_iter) or scale the data as shown in:\n",
      "    https://scikit-learn.org/stable/modules/preprocessing.html\n",
      "Please also refer to the documentation for alternative solver options:\n",
      "    https://scikit-learn.org/stable/modules/linear_model.html#logistic-regression\n",
      "  n_iter_i = _check_optimize_result(\n"
     ]
    },
    {
     "data": {
      "text/plain": [
       "LogisticRegression(C=1)"
      ]
     },
     "execution_count": 47,
     "metadata": {},
     "output_type": "execute_result"
    }
   ],
   "source": [
    "model_3.fit(passenger_attributes, passenger_labels)"
   ]
  },
  {
   "cell_type": "code",
   "execution_count": 48,
   "id": "5b2f2cea-896a-4140-b9f1-74651fec8e72",
   "metadata": {},
   "outputs": [
    {
     "data": {
      "text/plain": [
       "0.7896325459317586"
      ]
     },
     "execution_count": 48,
     "metadata": {},
     "output_type": "execute_result"
    }
   ],
   "source": [
    "model_3.score(passenger_attributes, passenger_labels)"
   ]
  },
  {
   "cell_type": "code",
   "execution_count": 49,
   "id": "5f805b00-91dd-4620-8db4-752affd63c2f",
   "metadata": {
    "tags": []
   },
   "outputs": [
    {
     "data": {
      "text/plain": [
       "[('Age',\n",
       "  -8.843287048740964e-05,\n",
       "  -2.5213734393012253e-06,\n",
       "  -0.0010646678417629292),\n",
       " ('RoomService',\n",
       "  -0.0014570419863708921,\n",
       "  -0.00037533455556169323,\n",
       "  -0.0013893534519279986),\n",
       " ('FoodCourt',\n",
       "  0.0005541217560103471,\n",
       "  0.0001453062152902322,\n",
       "  0.0005697432823485305),\n",
       " ('ShoppingMall',\n",
       "  0.0005530824085882056,\n",
       "  2.3971543598033592e-05,\n",
       "  0.0005888972056536389),\n",
       " ('Spa',\n",
       "  -0.0019840865090824723,\n",
       "  -0.0003893053121120718,\n",
       "  -0.0018724018704421859),\n",
       " ('VRDeck',\n",
       "  -0.0016675794989779729,\n",
       "  -0.0003534102768936705,\n",
       "  -0.0016912237537479967),\n",
       " ('HomePlanet_Europa',\n",
       "  1.815940822348513,\n",
       "  3.4744616078429724e-07,\n",
       "  1.6690320543002657),\n",
       " ('HomePlanet_Mars',\n",
       "  0.5580201442457036,\n",
       "  3.784953410011722e-08,\n",
       "  0.5080210630352728),\n",
       " ('CryoSleep_True',\n",
       "  1.4469732188968298,\n",
       "  6.884611596547063e-07,\n",
       "  1.3576203984619406),\n",
       " ('Destination_PSO J318.5-22',\n",
       "  -0.3846298927797784,\n",
       "  -1.521172290921782e-08,\n",
       "  -0.3377150420372533),\n",
       " ('Destination_TRAPPIST-1e',\n",
       "  -0.6422776634795424,\n",
       "  -1.7647353899822498e-07,\n",
       "  -0.6183759199370843),\n",
       " ('VIP_True',\n",
       "  -0.017917524421355628,\n",
       "  -1.1283457443199421e-08,\n",
       "  -0.014508707256201962)]"
      ]
     },
     "execution_count": 49,
     "metadata": {},
     "output_type": "execute_result"
    }
   ],
   "source": [
    "list(zip(passenger_attributes.columns.tolist(), model.coef_[0].tolist(),model_2.coef_[0].tolist(),  model_3.coef_[0].tolist()))"
   ]
  },
  {
   "cell_type": "code",
   "execution_count": null,
   "id": "88a4461e-a889-4338-82bc-6e9d89dc47ba",
   "metadata": {},
   "outputs": [],
   "source": []
  },
  {
   "cell_type": "code",
   "execution_count": 50,
   "id": "a4e4ac10-3483-45f1-9e74-1b3e862a6514",
   "metadata": {},
   "outputs": [],
   "source": [
    "model_4 = LogisticRegression(penalty='l1', solver='liblinear', C = 1e-3)"
   ]
  },
  {
   "cell_type": "code",
   "execution_count": 51,
   "id": "da1f9fd9-e65c-4dfe-9b08-7b163a2082d8",
   "metadata": {},
   "outputs": [
    {
     "data": {
      "text/plain": [
       "LogisticRegression(C=0.001, penalty='l1', solver='liblinear')"
      ]
     },
     "execution_count": 51,
     "metadata": {},
     "output_type": "execute_result"
    }
   ],
   "source": [
    "model_4.fit(passenger_attributes, passenger_labels)"
   ]
  },
  {
   "cell_type": "code",
   "execution_count": 52,
   "id": "3a3308aa-d206-41ff-95d9-6927fba26399",
   "metadata": {},
   "outputs": [
    {
     "data": {
      "text/plain": [
       "[('Age', 0.020514587809805872),\n",
       " ('RoomService', -0.0020498023441155207),\n",
       " ('FoodCourt', 0.0007328348060624718),\n",
       " ('ShoppingMall', 0.00026009310317280383),\n",
       " ('Spa', -0.0023129280542976242),\n",
       " ('VRDeck', -0.002015527268483588),\n",
       " ('HomePlanet_Europa', 0.0),\n",
       " ('HomePlanet_Mars', 0.0),\n",
       " ('CryoSleep_True', 0.0),\n",
       " ('Destination_PSO J318.5-22', 0.0),\n",
       " ('Destination_TRAPPIST-1e', 0.0),\n",
       " ('VIP_True', 0.0)]"
      ]
     },
     "execution_count": 52,
     "metadata": {},
     "output_type": "execute_result"
    }
   ],
   "source": [
    "list(zip(passenger_attributes.columns.tolist(), model_4.coef_[0].tolist()))"
   ]
  },
  {
   "cell_type": "code",
   "execution_count": null,
   "id": "bdba29cb-dce3-4724-9588-9c7baaa50cd9",
   "metadata": {},
   "outputs": [],
   "source": []
  },
  {
   "cell_type": "markdown",
   "id": "66d55b6f-550b-41cb-8f97-7fcc878f4a6d",
   "metadata": {},
   "source": [
    "## Testing "
   ]
  },
  {
   "cell_type": "code",
   "execution_count": 53,
   "id": "28caf981-a62c-4a0b-aab4-41b7a875e67d",
   "metadata": {},
   "outputs": [
    {
     "data": {
      "text/html": [
       "<div>\n",
       "<style scoped>\n",
       "    .dataframe tbody tr th:only-of-type {\n",
       "        vertical-align: middle;\n",
       "    }\n",
       "\n",
       "    .dataframe tbody tr th {\n",
       "        vertical-align: top;\n",
       "    }\n",
       "\n",
       "    .dataframe thead th {\n",
       "        text-align: right;\n",
       "    }\n",
       "</style>\n",
       "<table border=\"1\" class=\"dataframe\">\n",
       "  <thead>\n",
       "    <tr style=\"text-align: right;\">\n",
       "      <th></th>\n",
       "      <th>Age</th>\n",
       "      <th>RoomService</th>\n",
       "      <th>FoodCourt</th>\n",
       "      <th>ShoppingMall</th>\n",
       "      <th>Spa</th>\n",
       "      <th>VRDeck</th>\n",
       "      <th>HomePlanet_Europa</th>\n",
       "      <th>HomePlanet_Mars</th>\n",
       "      <th>CryoSleep_True</th>\n",
       "      <th>Destination_PSO J318.5-22</th>\n",
       "      <th>Destination_TRAPPIST-1e</th>\n",
       "      <th>VIP_True</th>\n",
       "    </tr>\n",
       "  </thead>\n",
       "  <tbody>\n",
       "    <tr>\n",
       "      <th>0</th>\n",
       "      <td>39.0</td>\n",
       "      <td>0.0</td>\n",
       "      <td>0.0</td>\n",
       "      <td>0.0</td>\n",
       "      <td>0.0</td>\n",
       "      <td>0.0</td>\n",
       "      <td>1</td>\n",
       "      <td>0</td>\n",
       "      <td>0</td>\n",
       "      <td>0</td>\n",
       "      <td>1</td>\n",
       "      <td>0</td>\n",
       "    </tr>\n",
       "    <tr>\n",
       "      <th>1</th>\n",
       "      <td>24.0</td>\n",
       "      <td>109.0</td>\n",
       "      <td>9.0</td>\n",
       "      <td>25.0</td>\n",
       "      <td>549.0</td>\n",
       "      <td>44.0</td>\n",
       "      <td>0</td>\n",
       "      <td>0</td>\n",
       "      <td>0</td>\n",
       "      <td>0</td>\n",
       "      <td>1</td>\n",
       "      <td>0</td>\n",
       "    </tr>\n",
       "    <tr>\n",
       "      <th>2</th>\n",
       "      <td>58.0</td>\n",
       "      <td>43.0</td>\n",
       "      <td>3576.0</td>\n",
       "      <td>0.0</td>\n",
       "      <td>6715.0</td>\n",
       "      <td>49.0</td>\n",
       "      <td>1</td>\n",
       "      <td>0</td>\n",
       "      <td>0</td>\n",
       "      <td>0</td>\n",
       "      <td>1</td>\n",
       "      <td>1</td>\n",
       "    </tr>\n",
       "    <tr>\n",
       "      <th>3</th>\n",
       "      <td>33.0</td>\n",
       "      <td>0.0</td>\n",
       "      <td>1283.0</td>\n",
       "      <td>371.0</td>\n",
       "      <td>3329.0</td>\n",
       "      <td>193.0</td>\n",
       "      <td>1</td>\n",
       "      <td>0</td>\n",
       "      <td>0</td>\n",
       "      <td>0</td>\n",
       "      <td>1</td>\n",
       "      <td>0</td>\n",
       "    </tr>\n",
       "    <tr>\n",
       "      <th>4</th>\n",
       "      <td>16.0</td>\n",
       "      <td>303.0</td>\n",
       "      <td>70.0</td>\n",
       "      <td>151.0</td>\n",
       "      <td>565.0</td>\n",
       "      <td>2.0</td>\n",
       "      <td>0</td>\n",
       "      <td>0</td>\n",
       "      <td>0</td>\n",
       "      <td>0</td>\n",
       "      <td>1</td>\n",
       "      <td>0</td>\n",
       "    </tr>\n",
       "    <tr>\n",
       "      <th>...</th>\n",
       "      <td>...</td>\n",
       "      <td>...</td>\n",
       "      <td>...</td>\n",
       "      <td>...</td>\n",
       "      <td>...</td>\n",
       "      <td>...</td>\n",
       "      <td>...</td>\n",
       "      <td>...</td>\n",
       "      <td>...</td>\n",
       "      <td>...</td>\n",
       "      <td>...</td>\n",
       "      <td>...</td>\n",
       "    </tr>\n",
       "    <tr>\n",
       "      <th>8688</th>\n",
       "      <td>41.0</td>\n",
       "      <td>0.0</td>\n",
       "      <td>6819.0</td>\n",
       "      <td>0.0</td>\n",
       "      <td>1643.0</td>\n",
       "      <td>74.0</td>\n",
       "      <td>1</td>\n",
       "      <td>0</td>\n",
       "      <td>0</td>\n",
       "      <td>0</td>\n",
       "      <td>0</td>\n",
       "      <td>1</td>\n",
       "    </tr>\n",
       "    <tr>\n",
       "      <th>8689</th>\n",
       "      <td>18.0</td>\n",
       "      <td>0.0</td>\n",
       "      <td>0.0</td>\n",
       "      <td>0.0</td>\n",
       "      <td>0.0</td>\n",
       "      <td>0.0</td>\n",
       "      <td>0</td>\n",
       "      <td>0</td>\n",
       "      <td>1</td>\n",
       "      <td>1</td>\n",
       "      <td>0</td>\n",
       "      <td>0</td>\n",
       "    </tr>\n",
       "    <tr>\n",
       "      <th>8690</th>\n",
       "      <td>26.0</td>\n",
       "      <td>0.0</td>\n",
       "      <td>0.0</td>\n",
       "      <td>1872.0</td>\n",
       "      <td>1.0</td>\n",
       "      <td>0.0</td>\n",
       "      <td>0</td>\n",
       "      <td>0</td>\n",
       "      <td>0</td>\n",
       "      <td>0</td>\n",
       "      <td>1</td>\n",
       "      <td>0</td>\n",
       "    </tr>\n",
       "    <tr>\n",
       "      <th>8691</th>\n",
       "      <td>32.0</td>\n",
       "      <td>0.0</td>\n",
       "      <td>1049.0</td>\n",
       "      <td>0.0</td>\n",
       "      <td>353.0</td>\n",
       "      <td>3235.0</td>\n",
       "      <td>1</td>\n",
       "      <td>0</td>\n",
       "      <td>0</td>\n",
       "      <td>0</td>\n",
       "      <td>0</td>\n",
       "      <td>0</td>\n",
       "    </tr>\n",
       "    <tr>\n",
       "      <th>8692</th>\n",
       "      <td>44.0</td>\n",
       "      <td>126.0</td>\n",
       "      <td>4688.0</td>\n",
       "      <td>0.0</td>\n",
       "      <td>0.0</td>\n",
       "      <td>12.0</td>\n",
       "      <td>1</td>\n",
       "      <td>0</td>\n",
       "      <td>0</td>\n",
       "      <td>0</td>\n",
       "      <td>1</td>\n",
       "      <td>0</td>\n",
       "    </tr>\n",
       "  </tbody>\n",
       "</table>\n",
       "<p>7620 rows × 12 columns</p>\n",
       "</div>"
      ],
      "text/plain": [
       "       Age  RoomService  FoodCourt  ShoppingMall     Spa  VRDeck  \\\n",
       "0     39.0          0.0        0.0           0.0     0.0     0.0   \n",
       "1     24.0        109.0        9.0          25.0   549.0    44.0   \n",
       "2     58.0         43.0     3576.0           0.0  6715.0    49.0   \n",
       "3     33.0          0.0     1283.0         371.0  3329.0   193.0   \n",
       "4     16.0        303.0       70.0         151.0   565.0     2.0   \n",
       "...    ...          ...        ...           ...     ...     ...   \n",
       "8688  41.0          0.0     6819.0           0.0  1643.0    74.0   \n",
       "8689  18.0          0.0        0.0           0.0     0.0     0.0   \n",
       "8690  26.0          0.0        0.0        1872.0     1.0     0.0   \n",
       "8691  32.0          0.0     1049.0           0.0   353.0  3235.0   \n",
       "8692  44.0        126.0     4688.0           0.0     0.0    12.0   \n",
       "\n",
       "      HomePlanet_Europa  HomePlanet_Mars  CryoSleep_True  \\\n",
       "0                     1                0               0   \n",
       "1                     0                0               0   \n",
       "2                     1                0               0   \n",
       "3                     1                0               0   \n",
       "4                     0                0               0   \n",
       "...                 ...              ...             ...   \n",
       "8688                  1                0               0   \n",
       "8689                  0                0               1   \n",
       "8690                  0                0               0   \n",
       "8691                  1                0               0   \n",
       "8692                  1                0               0   \n",
       "\n",
       "      Destination_PSO J318.5-22  Destination_TRAPPIST-1e  VIP_True  \n",
       "0                             0                        1         0  \n",
       "1                             0                        1         0  \n",
       "2                             0                        1         1  \n",
       "3                             0                        1         0  \n",
       "4                             0                        1         0  \n",
       "...                         ...                      ...       ...  \n",
       "8688                          0                        0         1  \n",
       "8689                          1                        0         0  \n",
       "8690                          0                        1         0  \n",
       "8691                          0                        0         0  \n",
       "8692                          0                        1         0  \n",
       "\n",
       "[7620 rows x 12 columns]"
      ]
     },
     "execution_count": 53,
     "metadata": {},
     "output_type": "execute_result"
    }
   ],
   "source": [
    "passenger_attributes"
   ]
  },
  {
   "cell_type": "code",
   "execution_count": 54,
   "id": "56790fc9-e227-486a-ae6d-25c189b5e62f",
   "metadata": {},
   "outputs": [
    {
     "data": {
      "text/plain": [
       "0       False\n",
       "1        True\n",
       "2       False\n",
       "3       False\n",
       "4        True\n",
       "        ...  \n",
       "8688    False\n",
       "8689    False\n",
       "8690     True\n",
       "8691    False\n",
       "8692     True\n",
       "Name: Transported, Length: 7620, dtype: bool"
      ]
     },
     "execution_count": 54,
     "metadata": {},
     "output_type": "execute_result"
    }
   ],
   "source": [
    "passenger_labels"
   ]
  },
  {
   "cell_type": "code",
   "execution_count": 55,
   "id": "5de1b13a-0c7a-4aff-9e89-0664017ba35f",
   "metadata": {},
   "outputs": [],
   "source": [
    "scaler = MinMaxScaler()"
   ]
  },
  {
   "cell_type": "code",
   "execution_count": 56,
   "id": "e44bc209-f867-4ec6-a4f4-2d666a166689",
   "metadata": {},
   "outputs": [],
   "source": [
    "passenger_attributes= scaler.fit_transform(passenger_attributes)"
   ]
  },
  {
   "cell_type": "code",
   "execution_count": 57,
   "id": "ce58b488-25fe-4ff8-b5b0-6f7aa0b937c1",
   "metadata": {},
   "outputs": [
    {
     "data": {
      "text/plain": [
       "array([[4.93670886e-01, 0.00000000e+00, 0.00000000e+00, ...,\n",
       "        0.00000000e+00, 1.00000000e+00, 0.00000000e+00],\n",
       "       [3.03797468e-01, 7.60801284e-03, 3.01881729e-04, ...,\n",
       "        0.00000000e+00, 1.00000000e+00, 0.00000000e+00],\n",
       "       [7.34177215e-01, 3.00132617e-03, 1.19947674e-01, ...,\n",
       "        0.00000000e+00, 1.00000000e+00, 1.00000000e+00],\n",
       "       ...,\n",
       "       [3.29113924e-01, 0.00000000e+00, 0.00000000e+00, ...,\n",
       "        0.00000000e+00, 1.00000000e+00, 0.00000000e+00],\n",
       "       [4.05063291e-01, 0.00000000e+00, 3.51859927e-02, ...,\n",
       "        0.00000000e+00, 0.00000000e+00, 0.00000000e+00],\n",
       "       [5.56962025e-01, 8.79458365e-03, 1.57246839e-01, ...,\n",
       "        0.00000000e+00, 1.00000000e+00, 0.00000000e+00]])"
      ]
     },
     "execution_count": 57,
     "metadata": {},
     "output_type": "execute_result"
    }
   ],
   "source": [
    "passenger_attributes"
   ]
  },
  {
   "cell_type": "code",
   "execution_count": 58,
   "id": "81a414ac-0fc0-4881-a065-de3c4ce0bb14",
   "metadata": {},
   "outputs": [],
   "source": [
    "passenger_attributes_train, passenger_attributes_test, passenger_labels_train, passenger_labels_test = \\\n",
    "train_test_split(passenger_attributes, passenger_labels, test_size= 0.2, random_state=42120)"
   ]
  },
  {
   "cell_type": "code",
   "execution_count": 59,
   "id": "376f9b6e-5559-48ba-90cd-150a61327e0b",
   "metadata": {},
   "outputs": [
    {
     "data": {
      "text/plain": [
       "((6096, 12), (1524, 12), (6096,), (1524,))"
      ]
     },
     "execution_count": 59,
     "metadata": {},
     "output_type": "execute_result"
    }
   ],
   "source": [
    "passenger_attributes_train.shape, passenger_attributes_test.shape,passenger_labels_train.shape, passenger_labels_test.shape"
   ]
  },
  {
   "cell_type": "code",
   "execution_count": 60,
   "id": "982f1a77-8ebf-4ac1-94e0-c753896bbda4",
   "metadata": {},
   "outputs": [],
   "source": [
    "model = LogisticRegression(C = 2)"
   ]
  },
  {
   "cell_type": "code",
   "execution_count": 61,
   "id": "771375b9-e2c5-4770-a13b-1ba90318bfb5",
   "metadata": {},
   "outputs": [
    {
     "data": {
      "text/plain": [
       "LogisticRegression(C=2)"
      ]
     },
     "execution_count": 61,
     "metadata": {},
     "output_type": "execute_result"
    }
   ],
   "source": [
    "model.fit(passenger_attributes_train, passenger_labels_train)"
   ]
  },
  {
   "cell_type": "code",
   "execution_count": 62,
   "id": "dfd7b956-f273-4c75-91ac-946ac9b22918",
   "metadata": {},
   "outputs": [
    {
     "data": {
      "text/plain": [
       "0.7736220472440944"
      ]
     },
     "execution_count": 62,
     "metadata": {},
     "output_type": "execute_result"
    }
   ],
   "source": [
    "model.score(passenger_attributes_train, passenger_labels_train)"
   ]
  },
  {
   "cell_type": "code",
   "execution_count": 63,
   "id": "db0db763-7d75-4145-bfe3-ee1fc51cb3b2",
   "metadata": {},
   "outputs": [
    {
     "data": {
      "text/plain": [
       "0.7723097112860893"
      ]
     },
     "execution_count": 63,
     "metadata": {},
     "output_type": "execute_result"
    }
   ],
   "source": [
    "model.score(passenger_attributes_test, passenger_labels_test) # This model have high bias. "
   ]
  },
  {
   "cell_type": "code",
   "execution_count": 64,
   "id": "05a36677-374f-4822-b593-d513ef5b4711",
   "metadata": {},
   "outputs": [],
   "source": [
    "# Try with different values of C and number of ittereations\n",
    "model = LogisticRegression(C = 1e7, max_iter=1000000)"
   ]
  },
  {
   "cell_type": "code",
   "execution_count": 65,
   "id": "c9ed4aad-002c-4bc2-97ee-ae2f1cea9daf",
   "metadata": {},
   "outputs": [
    {
     "data": {
      "text/plain": [
       "LogisticRegression(C=10000000.0, max_iter=1000000)"
      ]
     },
     "execution_count": 65,
     "metadata": {},
     "output_type": "execute_result"
    }
   ],
   "source": [
    "model.fit(passenger_attributes_train, passenger_labels_train)"
   ]
  },
  {
   "cell_type": "code",
   "execution_count": 66,
   "id": "9487ee30-f294-4aa3-8e68-1ae6d8c05ee4",
   "metadata": {},
   "outputs": [
    {
     "data": {
      "text/plain": [
       "0.7900262467191601"
      ]
     },
     "execution_count": 66,
     "metadata": {},
     "output_type": "execute_result"
    }
   ],
   "source": [
    "model.score(passenger_attributes_train, passenger_labels_train)"
   ]
  },
  {
   "cell_type": "code",
   "execution_count": 67,
   "id": "f2df7653-efba-48bd-9993-c8c51dcf369b",
   "metadata": {},
   "outputs": [
    {
     "data": {
      "text/plain": [
       "0.7926509186351706"
      ]
     },
     "execution_count": 67,
     "metadata": {},
     "output_type": "execute_result"
    }
   ],
   "source": [
    "model.score(passenger_attributes_test, passenger_labels_test)"
   ]
  },
  {
   "cell_type": "code",
   "execution_count": null,
   "id": "3b2707cb-add3-48a1-83b7-395313ccc98d",
   "metadata": {},
   "outputs": [],
   "source": []
  },
  {
   "cell_type": "code",
   "execution_count": 68,
   "id": "d3e76deb-26cd-4290-9e5e-f0edf708dfae",
   "metadata": {},
   "outputs": [],
   "source": [
    "grid_search = GridSearchCV(LogisticRegression(), param_grid={\n",
    "    'C': [0.01, 0.1, 1, 10, 10000],\n",
    "    'penalty': ['l1', 'l2']\n",
    "}, cv= 4)"
   ]
  },
  {
   "cell_type": "code",
   "execution_count": 69,
   "id": "6dadc3f3-7cba-4d28-8a4c-8e950cf2244d",
   "metadata": {},
   "outputs": [
    {
     "name": "stderr",
     "output_type": "stream",
     "text": [
      "C:\\Users\\lenovo\\anaconda3\\lib\\site-packages\\sklearn\\linear_model\\_logistic.py:814: ConvergenceWarning: lbfgs failed to converge (status=1):\n",
      "STOP: TOTAL NO. of ITERATIONS REACHED LIMIT.\n",
      "\n",
      "Increase the number of iterations (max_iter) or scale the data as shown in:\n",
      "    https://scikit-learn.org/stable/modules/preprocessing.html\n",
      "Please also refer to the documentation for alternative solver options:\n",
      "    https://scikit-learn.org/stable/modules/linear_model.html#logistic-regression\n",
      "  n_iter_i = _check_optimize_result(\n",
      "C:\\Users\\lenovo\\anaconda3\\lib\\site-packages\\sklearn\\linear_model\\_logistic.py:814: ConvergenceWarning: lbfgs failed to converge (status=1):\n",
      "STOP: TOTAL NO. of ITERATIONS REACHED LIMIT.\n",
      "\n",
      "Increase the number of iterations (max_iter) or scale the data as shown in:\n",
      "    https://scikit-learn.org/stable/modules/preprocessing.html\n",
      "Please also refer to the documentation for alternative solver options:\n",
      "    https://scikit-learn.org/stable/modules/linear_model.html#logistic-regression\n",
      "  n_iter_i = _check_optimize_result(\n",
      "C:\\Users\\lenovo\\anaconda3\\lib\\site-packages\\sklearn\\linear_model\\_logistic.py:814: ConvergenceWarning: lbfgs failed to converge (status=1):\n",
      "STOP: TOTAL NO. of ITERATIONS REACHED LIMIT.\n",
      "\n",
      "Increase the number of iterations (max_iter) or scale the data as shown in:\n",
      "    https://scikit-learn.org/stable/modules/preprocessing.html\n",
      "Please also refer to the documentation for alternative solver options:\n",
      "    https://scikit-learn.org/stable/modules/linear_model.html#logistic-regression\n",
      "  n_iter_i = _check_optimize_result(\n",
      "C:\\Users\\lenovo\\anaconda3\\lib\\site-packages\\sklearn\\linear_model\\_logistic.py:814: ConvergenceWarning: lbfgs failed to converge (status=1):\n",
      "STOP: TOTAL NO. of ITERATIONS REACHED LIMIT.\n",
      "\n",
      "Increase the number of iterations (max_iter) or scale the data as shown in:\n",
      "    https://scikit-learn.org/stable/modules/preprocessing.html\n",
      "Please also refer to the documentation for alternative solver options:\n",
      "    https://scikit-learn.org/stable/modules/linear_model.html#logistic-regression\n",
      "  n_iter_i = _check_optimize_result(\n",
      "C:\\Users\\lenovo\\anaconda3\\lib\\site-packages\\sklearn\\model_selection\\_validation.py:372: FitFailedWarning: \n",
      "20 fits failed out of a total of 40.\n",
      "The score on these train-test partitions for these parameters will be set to nan.\n",
      "If these failures are not expected, you can try to debug them by setting error_score='raise'.\n",
      "\n",
      "Below are more details about the failures:\n",
      "--------------------------------------------------------------------------------\n",
      "20 fits failed with the following error:\n",
      "Traceback (most recent call last):\n",
      "  File \"C:\\Users\\lenovo\\anaconda3\\lib\\site-packages\\sklearn\\model_selection\\_validation.py\", line 680, in _fit_and_score\n",
      "    estimator.fit(X_train, y_train, **fit_params)\n",
      "  File \"C:\\Users\\lenovo\\anaconda3\\lib\\site-packages\\sklearn\\linear_model\\_logistic.py\", line 1461, in fit\n",
      "    solver = _check_solver(self.solver, self.penalty, self.dual)\n",
      "  File \"C:\\Users\\lenovo\\anaconda3\\lib\\site-packages\\sklearn\\linear_model\\_logistic.py\", line 447, in _check_solver\n",
      "    raise ValueError(\n",
      "ValueError: Solver lbfgs supports only 'l2' or 'none' penalties, got l1 penalty.\n",
      "\n",
      "  warnings.warn(some_fits_failed_message, FitFailedWarning)\n",
      "C:\\Users\\lenovo\\anaconda3\\lib\\site-packages\\sklearn\\model_selection\\_search.py:969: UserWarning: One or more of the test scores are non-finite: [       nan 0.71145013        nan 0.73786089        nan 0.75803806\n",
      "        nan 0.77952756        nan 0.7898622 ]\n",
      "  warnings.warn(\n",
      "C:\\Users\\lenovo\\anaconda3\\lib\\site-packages\\sklearn\\linear_model\\_logistic.py:814: ConvergenceWarning: lbfgs failed to converge (status=1):\n",
      "STOP: TOTAL NO. of ITERATIONS REACHED LIMIT.\n",
      "\n",
      "Increase the number of iterations (max_iter) or scale the data as shown in:\n",
      "    https://scikit-learn.org/stable/modules/preprocessing.html\n",
      "Please also refer to the documentation for alternative solver options:\n",
      "    https://scikit-learn.org/stable/modules/linear_model.html#logistic-regression\n",
      "  n_iter_i = _check_optimize_result(\n"
     ]
    },
    {
     "data": {
      "text/plain": [
       "GridSearchCV(cv=4, estimator=LogisticRegression(),\n",
       "             param_grid={'C': [0.01, 0.1, 1, 10, 10000],\n",
       "                         'penalty': ['l1', 'l2']})"
      ]
     },
     "execution_count": 69,
     "metadata": {},
     "output_type": "execute_result"
    }
   ],
   "source": [
    "grid_search.fit(passenger_attributes_train, passenger_labels_train)"
   ]
  },
  {
   "cell_type": "code",
   "execution_count": 70,
   "id": "31907fca-1b0d-4cd9-a202-40d2b316c42e",
   "metadata": {},
   "outputs": [
    {
     "data": {
      "text/plain": [
       "LogisticRegression(C=10000)"
      ]
     },
     "execution_count": 70,
     "metadata": {},
     "output_type": "execute_result"
    }
   ],
   "source": [
    "grid_search.best_estimator_"
   ]
  },
  {
   "cell_type": "code",
   "execution_count": 71,
   "id": "b764b677-1081-4d61-882c-2165a8f9f411",
   "metadata": {},
   "outputs": [
    {
     "data": {
      "text/plain": [
       "{'C': 10000, 'penalty': 'l2'}"
      ]
     },
     "execution_count": 71,
     "metadata": {},
     "output_type": "execute_result"
    }
   ],
   "source": [
    "grid_search.best_params_"
   ]
  },
  {
   "cell_type": "code",
   "execution_count": 72,
   "id": "d3713992-7a5e-49f1-bfc5-f69b3fa32aa6",
   "metadata": {},
   "outputs": [
    {
     "data": {
      "text/plain": [
       "{'mean_fit_time': array([0.00267428, 0.0127371 , 0.00050014, 0.01270568, 0.        ,\n",
       "        0.02343684, 0.00024968, 0.03513557, 0.00390887, 0.05437666]),\n",
       " 'std_fit_time': array([0.00328738, 0.00644419, 0.00050014, 0.00683185, 0.        ,\n",
       "        0.00781125, 0.00043247, 0.00672931, 0.00677037, 0.00719743]),\n",
       " 'mean_score_time': array([0.        , 0.        , 0.        , 0.00415665, 0.        ,\n",
       "        0.00390702, 0.        , 0.        , 0.        , 0.00025016]),\n",
       " 'std_score_time': array([0.        , 0.        , 0.        , 0.00663361, 0.        ,\n",
       "        0.00676717, 0.        , 0.        , 0.        , 0.00043329]),\n",
       " 'param_C': masked_array(data=[0.01, 0.01, 0.1, 0.1, 1, 1, 10, 10, 10000, 10000],\n",
       "              mask=[False, False, False, False, False, False, False, False,\n",
       "                    False, False],\n",
       "        fill_value='?',\n",
       "             dtype=object),\n",
       " 'param_penalty': masked_array(data=['l1', 'l2', 'l1', 'l2', 'l1', 'l2', 'l1', 'l2', 'l1',\n",
       "                    'l2'],\n",
       "              mask=[False, False, False, False, False, False, False, False,\n",
       "                    False, False],\n",
       "        fill_value='?',\n",
       "             dtype=object),\n",
       " 'params': [{'C': 0.01, 'penalty': 'l1'},\n",
       "  {'C': 0.01, 'penalty': 'l2'},\n",
       "  {'C': 0.1, 'penalty': 'l1'},\n",
       "  {'C': 0.1, 'penalty': 'l2'},\n",
       "  {'C': 1, 'penalty': 'l1'},\n",
       "  {'C': 1, 'penalty': 'l2'},\n",
       "  {'C': 10, 'penalty': 'l1'},\n",
       "  {'C': 10, 'penalty': 'l2'},\n",
       "  {'C': 10000, 'penalty': 'l1'},\n",
       "  {'C': 10000, 'penalty': 'l2'}],\n",
       " 'split0_test_score': array([       nan, 0.71128609,        nan, 0.74146982,        nan,\n",
       "        0.76902887,        nan, 0.79002625,        nan, 0.79265092]),\n",
       " 'split1_test_score': array([       nan, 0.71456693,        nan, 0.74212598,        nan,\n",
       "        0.75984252,        nan, 0.78346457,        nan, 0.7992126 ]),\n",
       " 'split2_test_score': array([       nan, 0.72637795,        nan, 0.7480315 ,        nan,\n",
       "        0.76049869,        nan, 0.77559055,        nan, 0.78871391]),\n",
       " 'split3_test_score': array([       nan, 0.69356955,        nan, 0.71981627,        nan,\n",
       "        0.74278215,        nan, 0.76902887,        nan, 0.77887139]),\n",
       " 'mean_test_score': array([       nan, 0.71145013,        nan, 0.73786089,        nan,\n",
       "        0.75803806,        nan, 0.77952756,        nan, 0.7898622 ]),\n",
       " 'std_test_score': array([       nan, 0.01175049,        nan, 0.01072689,        nan,\n",
       "        0.00952433,        nan, 0.00792851,        nan, 0.00737095]),\n",
       " 'rank_test_score': array([ 6,  5,  7,  4,  8,  3,  9,  2, 10,  1])}"
      ]
     },
     "execution_count": 72,
     "metadata": {},
     "output_type": "execute_result"
    }
   ],
   "source": [
    "grid_search.cv_results_"
   ]
  },
  {
   "cell_type": "code",
   "execution_count": 73,
   "id": "c8035c7d-be3b-4617-a857-1965f6b63bc0",
   "metadata": {},
   "outputs": [
    {
     "data": {
      "text/plain": [
       "0.7900262467191601"
      ]
     },
     "execution_count": 73,
     "metadata": {},
     "output_type": "execute_result"
    }
   ],
   "source": [
    "grid_search.best_estimator_.score(passenger_attributes_train, passenger_labels_train)"
   ]
  },
  {
   "cell_type": "code",
   "execution_count": 74,
   "id": "aac3b09e-44ee-4c4d-923a-8f23a7f67d58",
   "metadata": {},
   "outputs": [
    {
     "data": {
      "text/plain": [
       "0.7913385826771654"
      ]
     },
     "execution_count": 74,
     "metadata": {},
     "output_type": "execute_result"
    }
   ],
   "source": [
    "grid_search.best_estimator_.score(passenger_attributes_test, passenger_labels_test)"
   ]
  },
  {
   "cell_type": "code",
   "execution_count": 75,
   "id": "b91bff89-1955-4bb4-850e-507209390f4d",
   "metadata": {},
   "outputs": [
    {
     "name": "stdout",
     "output_type": "stream",
     "text": [
      "              precision    recall  f1-score   support\n",
      "\n",
      "       False       0.80      0.77      0.79       759\n",
      "        True       0.78      0.81      0.80       765\n",
      "\n",
      "    accuracy                           0.79      1524\n",
      "   macro avg       0.79      0.79      0.79      1524\n",
      "weighted avg       0.79      0.79      0.79      1524\n",
      "\n"
     ]
    }
   ],
   "source": [
    "print(classification_report(passenger_labels_test, grid_search.best_estimator_.predict(passenger_attributes_test)))"
   ]
  },
  {
   "cell_type": "code",
   "execution_count": null,
   "id": "2eb83664-4777-4018-abfe-234e7b949db7",
   "metadata": {},
   "outputs": [],
   "source": []
  },
  {
   "cell_type": "markdown",
   "id": "7ec770fb-d0d8-4dcf-813c-18e682f4d7d9",
   "metadata": {},
   "source": [
    "### Decision Trees"
   ]
  },
  {
   "cell_type": "code",
   "execution_count": 76,
   "id": "093adcb8-203d-4d30-8ee5-a95a7f002bf2",
   "metadata": {},
   "outputs": [],
   "source": [
    "tree = DecisionTreeClassifier()"
   ]
  },
  {
   "cell_type": "code",
   "execution_count": 77,
   "id": "e5f6aa28-22fe-492c-9bbd-c8c97ab35936",
   "metadata": {},
   "outputs": [
    {
     "data": {
      "text/plain": [
       "DecisionTreeClassifier()"
      ]
     },
     "execution_count": 77,
     "metadata": {},
     "output_type": "execute_result"
    }
   ],
   "source": [
    "tree.fit(passenger_attributes_train, passenger_labels_train)"
   ]
  },
  {
   "cell_type": "code",
   "execution_count": 78,
   "id": "a1d06c79-82ff-430d-ae0e-59d33149fb31",
   "metadata": {},
   "outputs": [
    {
     "data": {
      "text/plain": [
       "0.9335629921259843"
      ]
     },
     "execution_count": 78,
     "metadata": {},
     "output_type": "execute_result"
    }
   ],
   "source": [
    "tree.score(passenger_attributes_train, passenger_labels_train)"
   ]
  },
  {
   "cell_type": "code",
   "execution_count": 79,
   "id": "d62c6d92-2c63-49f8-bb2b-06f6545780f0",
   "metadata": {},
   "outputs": [
    {
     "data": {
      "text/plain": [
       "0.7171916010498688"
      ]
     },
     "execution_count": 79,
     "metadata": {},
     "output_type": "execute_result"
    }
   ],
   "source": [
    "tree.score(passenger_attributes_test, passenger_labels_test)"
   ]
  },
  {
   "cell_type": "code",
   "execution_count": null,
   "id": "b7f4f3bc-d819-4116-8d93-98123b2d6008",
   "metadata": {},
   "outputs": [
    {
     "data": {
      "text/plain": [
       "[Text(0.7619439763101404, 0.9857142857142858, 'X[8] <= 0.5\\ngini = 0.5\\nsamples = 6096\\nvalue = [3030, 3066]'),\n",
       " Text(0.5783508331239083, 0.9571428571428572, 'X[4] <= 0.011\\ngini = 0.448\\nsamples = 4002\\nvalue = [2646, 1356]'),\n",
       " Text(0.4452607966554787, 0.9285714285714286, 'X[1] <= 0.019\\ngini = 0.482\\nsamples = 2883\\nvalue = [1713, 1170]'),\n",
       " Text(0.3331611512933765, 0.9, 'X[5] <= 0.011\\ngini = 0.5\\nsamples = 1968\\nvalue = [964, 1004]'),\n",
       " Text(0.2662153009361445, 0.8714285714285714, 'X[2] <= 0.058\\ngini = 0.459\\nsamples = 1317\\nvalue = [469, 848]'),\n",
       " Text(0.24315187936643506, 0.8428571428571429, 'X[3] <= 0.066\\ngini = 0.475\\nsamples = 1206\\nvalue = [468, 738]'),\n",
       " Text(0.20071011549460674, 0.8142857142857143, 'X[5] <= 0.0\\ngini = 0.483\\nsamples = 1140\\nvalue = [466, 674]'),\n",
       " Text(0.1339832803923074, 0.7857142857142857, 'X[4] <= 0.002\\ngini = 0.468\\nsamples = 931\\nvalue = [348, 583]'),\n",
       " Text(0.06712974070093279, 0.7571428571428571, 'X[0] <= 0.044\\ngini = 0.455\\nsamples = 840\\nvalue = [294, 546]'),\n",
       " Text(0.00859851829104449, 0.7285714285714285, 'X[7] <= 0.5\\ngini = 0.337\\nsamples = 135\\nvalue = [29, 106]'),\n",
       " Text(0.0073701585351809915, 0.7, 'X[6] <= 0.5\\ngini = 0.414\\nsamples = 99\\nvalue = [29, 70]'),\n",
       " Text(0.006141798779317493, 0.6714285714285714, 'X[10] <= 0.5\\ngini = 0.439\\nsamples = 89\\nvalue = [29, 60]'),\n",
       " Text(0.0036850792675904957, 0.6428571428571429, 'X[0] <= 0.006\\ngini = 0.269\\nsamples = 25\\nvalue = [4, 21]'),\n",
       " Text(0.002456719511726997, 0.6142857142857143, 'gini = 0.142\\nsamples = 13\\nvalue = [1, 12]'),\n",
       " Text(0.004913439023453994, 0.6142857142857143, 'X[9] <= 0.5\\ngini = 0.375\\nsamples = 12\\nvalue = [3, 9]'),\n",
       " Text(0.0036850792675904957, 0.5857142857142857, 'X[0] <= 0.032\\ngini = 0.444\\nsamples = 9\\nvalue = [3, 6]'),\n",
       " Text(0.002456719511726997, 0.5571428571428572, 'X[0] <= 0.019\\ngini = 0.48\\nsamples = 5\\nvalue = [2, 3]'),\n",
       " Text(0.0012283597558634986, 0.5285714285714286, 'gini = 0.444\\nsamples = 3\\nvalue = [1, 2]'),\n",
       " Text(0.0036850792675904957, 0.5285714285714286, 'gini = 0.5\\nsamples = 2\\nvalue = [1, 1]'),\n",
       " Text(0.004913439023453994, 0.5571428571428572, 'gini = 0.375\\nsamples = 4\\nvalue = [1, 3]'),\n",
       " Text(0.006141798779317493, 0.5857142857142857, 'gini = 0.0\\nsamples = 3\\nvalue = [0, 3]'),\n",
       " Text(0.00859851829104449, 0.6428571428571429, 'X[0] <= 0.006\\ngini = 0.476\\nsamples = 64\\nvalue = [25, 39]'),\n",
       " Text(0.0073701585351809915, 0.6142857142857143, 'gini = 0.451\\nsamples = 35\\nvalue = [12, 23]'),\n",
       " Text(0.009826878046907989, 0.6142857142857143, 'X[0] <= 0.019\\ngini = 0.495\\nsamples = 29\\nvalue = [13, 16]'),\n",
       " Text(0.00859851829104449, 0.5857142857142857, 'gini = 0.49\\nsamples = 7\\nvalue = [4, 3]'),\n",
       " Text(0.011055237802771487, 0.5857142857142857, 'X[0] <= 0.032\\ngini = 0.483\\nsamples = 22\\nvalue = [9, 13]'),\n",
       " Text(0.009826878046907989, 0.5571428571428572, 'gini = 0.486\\nsamples = 12\\nvalue = [5, 7]'),\n",
       " Text(0.012283597558634986, 0.5571428571428572, 'gini = 0.48\\nsamples = 10\\nvalue = [4, 6]'),\n",
       " Text(0.00859851829104449, 0.6714285714285714, 'gini = 0.0\\nsamples = 10\\nvalue = [0, 10]'),\n",
       " Text(0.009826878046907989, 0.7, 'gini = 0.0\\nsamples = 36\\nvalue = [0, 36]'),\n",
       " Text(0.1256609631108211, 0.7285714285714285, 'X[2] <= 0.003\\ngini = 0.469\\nsamples = 705\\nvalue = [265, 440]'),\n",
       " Text(0.09317060765421672, 0.7, 'X[6] <= 0.5\\ngini = 0.485\\nsamples = 490\\nvalue = [203, 287]'),\n",
       " Text(0.0542157690683659, 0.6714285714285714, 'X[3] <= 0.029\\ngini = 0.494\\nsamples = 418\\nvalue = [187, 231]'),\n",
       " Text(0.034086983225212086, 0.6428571428571429, 'X[0] <= 0.095\\ngini = 0.5\\nsamples = 270\\nvalue = [134, 136]'),\n",
       " Text(0.01950021112433304, 0.6142857142857143, 'X[7] <= 0.5\\ngini = 0.46\\nsamples = 64\\nvalue = [23, 41]'),\n",
       " Text(0.018271851368469542, 0.5857142857142857, 'X[0] <= 0.057\\ngini = 0.495\\nsamples = 51\\nvalue = [23, 28]'),\n",
       " Text(0.014740317070361983, 0.5571428571428572, 'X[10] <= 0.5\\ngini = 0.484\\nsamples = 17\\nvalue = [10, 7]'),\n",
       " Text(0.013511957314498484, 0.5285714285714286, 'gini = 0.5\\nsamples = 4\\nvalue = [2, 2]'),\n",
       " Text(0.01596867682622548, 0.5285714285714286, 'gini = 0.473\\nsamples = 13\\nvalue = [8, 5]'),\n",
       " Text(0.021803385666577097, 0.5571428571428572, 'X[9] <= 0.5\\ngini = 0.472\\nsamples = 34\\nvalue = [13, 21]'),\n",
       " Text(0.01842539633795248, 0.5285714285714286, 'X[0] <= 0.082\\ngini = 0.458\\nsamples = 31\\nvalue = [11, 20]'),\n",
       " Text(0.015354496948293732, 0.5, 'X[10] <= 0.5\\ngini = 0.388\\nsamples = 19\\nvalue = [5, 14]'),\n",
       " Text(0.012897777436566735, 0.4714285714285714, 'X[0] <= 0.07\\ngini = 0.49\\nsamples = 7\\nvalue = [3, 4]'),\n",
       " Text(0.011669417680703236, 0.44285714285714284, 'gini = 0.0\\nsamples = 3\\nvalue = [0, 3]'),\n",
       " Text(0.014126137192430234, 0.44285714285714284, 'gini = 0.375\\nsamples = 4\\nvalue = [3, 1]'),\n",
       " Text(0.017811216460020728, 0.4714285714285714, 'X[0] <= 0.07\\ngini = 0.278\\nsamples = 12\\nvalue = [2, 10]'),\n",
       " Text(0.01658285670415723, 0.44285714285714284, 'gini = 0.5\\nsamples = 2\\nvalue = [1, 1]'),\n",
       " Text(0.019039576215884226, 0.44285714285714284, 'gini = 0.18\\nsamples = 10\\nvalue = [1, 9]'),\n",
       " Text(0.021496295727611223, 0.5, 'X[10] <= 0.5\\ngini = 0.5\\nsamples = 12\\nvalue = [6, 6]'),\n",
       " Text(0.020267935971747725, 0.4714285714285714, 'gini = 0.5\\nsamples = 2\\nvalue = [1, 1]'),\n",
       " Text(0.022724655483474722, 0.4714285714285714, 'gini = 0.5\\nsamples = 10\\nvalue = [5, 5]'),\n",
       " Text(0.02518137499520172, 0.5285714285714286, 'X[0] <= 0.082\\ngini = 0.444\\nsamples = 3\\nvalue = [2, 1]'),\n",
       " Text(0.02395301523933822, 0.5, 'gini = 0.0\\nsamples = 2\\nvalue = [2, 0]'),\n",
       " Text(0.026409734751065218, 0.5, 'gini = 0.0\\nsamples = 1\\nvalue = [0, 1]'),\n",
       " Text(0.02072857088019654, 0.5857142857142857, 'gini = 0.0\\nsamples = 13\\nvalue = [0, 13]'),\n",
       " Text(0.04867375532609113, 0.6142857142857143, 'X[10] <= 0.5\\ngini = 0.497\\nsamples = 206\\nvalue = [111, 95]'),\n",
       " Text(0.04145714176039308, 0.5857142857142857, 'X[3] <= 0.026\\ngini = 0.475\\nsamples = 62\\nvalue = [24, 38]'),\n",
       " Text(0.03685079267590496, 0.5571428571428572, 'X[0] <= 0.133\\ngini = 0.44\\nsamples = 55\\nvalue = [18, 37]'),\n",
       " Text(0.031323173774519215, 0.5285714285714286, 'X[0] <= 0.108\\ngini = 0.5\\nsamples = 16\\nvalue = [8, 8]'),\n",
       " Text(0.028866454262792215, 0.5, 'X[9] <= 0.5\\ngini = 0.278\\nsamples = 6\\nvalue = [1, 5]'),\n",
       " Text(0.027638094506928716, 0.4714285714285714, 'gini = 0.32\\nsamples = 5\\nvalue = [1, 4]'),\n",
       " Text(0.030094814018655713, 0.4714285714285714, 'gini = 0.0\\nsamples = 1\\nvalue = [0, 1]'),\n",
       " Text(0.03377989328624621, 0.5, 'X[0] <= 0.12\\ngini = 0.42\\nsamples = 10\\nvalue = [7, 3]'),\n",
       " Text(0.03255153353038271, 0.4714285714285714, 'gini = 0.0\\nsamples = 4\\nvalue = [4, 0]'),\n",
       " Text(0.03500825304210971, 0.4714285714285714, 'X[9] <= 0.5\\ngini = 0.5\\nsamples = 6\\nvalue = [3, 3]'),\n",
       " Text(0.03377989328624621, 0.44285714285714284, 'gini = 0.48\\nsamples = 5\\nvalue = [3, 2]'),\n",
       " Text(0.03623661279797321, 0.44285714285714284, 'gini = 0.0\\nsamples = 1\\nvalue = [0, 1]'),\n",
       " Text(0.0423784115772907, 0.5285714285714286, 'X[4] <= 0.002\\ngini = 0.381\\nsamples = 39\\nvalue = [10, 29]'),\n",
       " Text(0.0411500518214272, 0.5, 'X[0] <= 0.589\\ngini = 0.361\\nsamples = 38\\nvalue = [9, 29]'),\n",
       " Text(0.0399216920655637, 0.4714285714285714, 'X[4] <= 0.0\\ngini = 0.339\\nsamples = 37\\nvalue = [8, 29]'),\n",
       " Text(0.03869333230970021, 0.44285714285714284, 'X[3] <= 0.008\\ngini = 0.4\\nsamples = 29\\nvalue = [8, 21]'),\n",
       " Text(0.035622432920041455, 0.4142857142857143, 'X[0] <= 0.158\\ngini = 0.287\\nsamples = 23\\nvalue = [4, 19]'),\n",
       " Text(0.03316571340831446, 0.38571428571428573, 'X[9] <= 0.5\\ngini = 0.397\\nsamples = 11\\nvalue = [3, 8]'),\n",
       " Text(0.03193735365245096, 0.35714285714285715, 'X[0] <= 0.146\\ngini = 0.444\\nsamples = 9\\nvalue = [3, 6]'),\n",
       " Text(0.030708993896587464, 0.32857142857142857, 'gini = 0.444\\nsamples = 3\\nvalue = [1, 2]'),\n",
       " Text(0.03316571340831446, 0.32857142857142857, 'gini = 0.444\\nsamples = 6\\nvalue = [2, 4]'),\n",
       " Text(0.03439407316417796, 0.35714285714285715, 'gini = 0.0\\nsamples = 2\\nvalue = [0, 2]'),\n",
       " Text(0.03807915243176845, 0.38571428571428573, 'X[0] <= 0.405\\ngini = 0.153\\nsamples = 12\\nvalue = [1, 11]'),\n",
       " Text(0.03685079267590496, 0.35714285714285715, 'gini = 0.0\\nsamples = 9\\nvalue = [0, 9]'),\n",
       " Text(0.039307512187631954, 0.35714285714285715, 'X[9] <= 0.5\\ngini = 0.444\\nsamples = 3\\nvalue = [1, 2]'),\n",
       " Text(0.03807915243176845, 0.32857142857142857, 'gini = 0.0\\nsamples = 2\\nvalue = [0, 2]'),\n",
       " Text(0.04053587194349545, 0.32857142857142857, 'gini = 0.0\\nsamples = 1\\nvalue = [1, 0]'),\n",
       " Text(0.04176423169935895, 0.4142857142857143, 'X[0] <= 0.272\\ngini = 0.444\\nsamples = 6\\nvalue = [4, 2]'),\n",
       " Text(0.04053587194349545, 0.38571428571428573, 'gini = 0.0\\nsamples = 3\\nvalue = [3, 0]'),\n",
       " Text(0.04299259145522245, 0.38571428571428573, 'X[3] <= 0.018\\ngini = 0.444\\nsamples = 3\\nvalue = [1, 2]'),\n",
       " Text(0.04176423169935895, 0.35714285714285715, 'gini = 0.0\\nsamples = 1\\nvalue = [1, 0]'),\n",
       " Text(0.04422095121108595, 0.35714285714285715, 'gini = 0.0\\nsamples = 2\\nvalue = [0, 2]'),\n",
       " Text(0.0411500518214272, 0.44285714285714284, 'gini = 0.0\\nsamples = 8\\nvalue = [0, 8]'),\n",
       " Text(0.0423784115772907, 0.4714285714285714, 'gini = 0.0\\nsamples = 1\\nvalue = [1, 0]'),\n",
       " Text(0.043606771333154194, 0.5, 'gini = 0.0\\nsamples = 1\\nvalue = [1, 0]'),\n",
       " Text(0.04606349084488119, 0.5571428571428572, 'X[5] <= 0.0\\ngini = 0.245\\nsamples = 7\\nvalue = [6, 1]'),\n",
       " Text(0.044835131089017696, 0.5285714285714286, 'gini = 0.0\\nsamples = 6\\nvalue = [6, 0]'),\n",
       " Text(0.04729185060074469, 0.5285714285714286, 'gini = 0.0\\nsamples = 1\\nvalue = [0, 1]'),\n",
       " Text(0.05589036889178918, 0.5857142857142857, 'X[5] <= 0.0\\ngini = 0.478\\nsamples = 144\\nvalue = [87, 57]'),\n",
       " Text(0.054662009135925685, 0.5571428571428572, 'X[0] <= 0.652\\ngini = 0.484\\nsamples = 139\\nvalue = [82, 57]'),\n",
       " Text(0.05343364938006218, 0.5285714285714286, 'X[0] <= 0.487\\ngini = 0.489\\nsamples = 134\\nvalue = [77, 57]'),\n",
       " Text(0.05220528962419869, 0.5, 'X[0] <= 0.133\\ngini = 0.477\\nsamples = 127\\nvalue = [77, 50]'),\n",
       " Text(0.04790603047867644, 0.4714285714285714, 'X[0] <= 0.108\\ngini = 0.498\\nsamples = 34\\nvalue = [16, 18]'),\n",
       " Text(0.045449310966949444, 0.44285714285714284, 'X[7] <= 0.5\\ngini = 0.355\\nsamples = 13\\nvalue = [10, 3]'),\n",
       " Text(0.04422095121108595, 0.4142857142857143, 'gini = 0.165\\nsamples = 11\\nvalue = [10, 1]'),\n",
       " Text(0.046677670722812946, 0.4142857142857143, 'gini = 0.0\\nsamples = 2\\nvalue = [0, 2]'),\n",
       " Text(0.05036274999040344, 0.44285714285714284, 'X[7] <= 0.5\\ngini = 0.408\\nsamples = 21\\nvalue = [6, 15]'),\n",
       " Text(0.04913439023453994, 0.4142857142857143, 'X[0] <= 0.12\\ngini = 0.457\\nsamples = 17\\nvalue = [6, 11]'),\n",
       " Text(0.04790603047867644, 0.38571428571428573, 'gini = 0.463\\nsamples = 11\\nvalue = [4, 7]'),\n",
       " Text(0.05036274999040344, 0.38571428571428573, 'gini = 0.444\\nsamples = 6\\nvalue = [2, 4]'),\n",
       " Text(0.05159110974626694, 0.4142857142857143, 'gini = 0.0\\nsamples = 4\\nvalue = [0, 4]'),\n",
       " Text(0.056504548769720934, 0.4714285714285714, 'X[1] <= 0.012\\ngini = 0.451\\nsamples = 93\\nvalue = [61, 32]'),\n",
       " Text(0.05527618901385743, 0.44285714285714284, 'X[3] <= 0.028\\ngini = 0.442\\nsamples = 91\\nvalue = [61, 30]'),\n",
       " Text(0.05404782925799394, 0.4142857142857143, 'X[3] <= 0.025\\ngini = 0.437\\nsamples = 90\\nvalue = [61, 29]'),\n",
       " Text(0.052819469502130435, 0.38571428571428573, 'X[3] <= 0.023\\ngini = 0.447\\nsamples = 86\\nvalue = [57, 29]'),\n",
       " Text(0.05159110974626694, 0.35714285714285715, 'X[0] <= 0.399\\ngini = 0.436\\nsamples = 84\\nvalue = [57, 27]'),\n",
       " Text(0.04452804115005182, 0.32857142857142857, 'X[0] <= 0.361\\ngini = 0.418\\nsamples = 74\\nvalue = [52, 22]'),\n",
       " Text(0.04329968139418832, 0.3, 'X[0] <= 0.146\\ngini = 0.434\\nsamples = 69\\nvalue = [47, 22]'),\n",
       " Text(0.040228782004529576, 0.2714285714285714, 'X[7] <= 0.5\\ngini = 0.32\\nsamples = 15\\nvalue = [12, 3]'),\n",
       " Text(0.03900042224866608, 0.24285714285714285, 'gini = 0.142\\nsamples = 13\\nvalue = [12, 1]'),\n",
       " Text(0.04145714176039308, 0.24285714285714285, 'gini = 0.0\\nsamples = 2\\nvalue = [0, 2]'),\n",
       " Text(0.04637058078384707, 0.2714285714285714, 'X[0] <= 0.158\\ngini = 0.456\\nsamples = 54\\nvalue = [35, 19]'),\n",
       " Text(0.043913861272120075, 0.24285714285714285, 'X[7] <= 0.5\\ngini = 0.444\\nsamples = 9\\nvalue = [3, 6]'),\n",
       " Text(0.04268550151625657, 0.21428571428571427, 'gini = 0.469\\nsamples = 8\\nvalue = [3, 5]'),\n",
       " Text(0.04514222102798357, 0.21428571428571427, 'gini = 0.0\\nsamples = 1\\nvalue = [0, 1]'),\n",
       " Text(0.04882730029557407, 0.24285714285714285, 'X[0] <= 0.234\\ngini = 0.411\\nsamples = 45\\nvalue = [32, 13]'),\n",
       " Text(0.04759894053971057, 0.21428571428571427, 'gini = 0.0\\nsamples = 7\\nvalue = [7, 0]'),\n",
       " Text(0.050055660051437564, 0.21428571428571427, 'X[0] <= 0.259\\ngini = 0.45\\nsamples = 38\\nvalue = [25, 13]'),\n",
       " Text(0.04422095121108595, 0.18571428571428572, 'X[7] <= 0.5\\ngini = 0.498\\nsamples = 15\\nvalue = [8, 7]'),\n",
       " Text(0.04176423169935895, 0.15714285714285714, 'X[0] <= 0.247\\ngini = 0.49\\nsamples = 7\\nvalue = [3, 4]'),\n",
       " Text(0.04053587194349545, 0.12857142857142856, 'gini = 0.5\\nsamples = 4\\nvalue = [2, 2]'),\n",
       " Text(0.04299259145522245, 0.12857142857142856, 'gini = 0.444\\nsamples = 3\\nvalue = [1, 2]'),\n",
       " Text(0.046677670722812946, 0.15714285714285714, 'X[0] <= 0.247\\ngini = 0.469\\nsamples = 8\\nvalue = [5, 3]'),\n",
       " Text(0.045449310966949444, 0.12857142857142856, 'gini = 0.375\\nsamples = 4\\nvalue = [3, 1]'),\n",
       " Text(0.04790603047867644, 0.12857142857142856, 'gini = 0.5\\nsamples = 4\\nvalue = [2, 2]'),\n",
       " Text(0.05589036889178918, 0.18571428571428572, 'X[0] <= 0.285\\ngini = 0.386\\nsamples = 23\\nvalue = [17, 6]'),\n",
       " Text(0.05159110974626694, 0.15714285714285714, 'X[7] <= 0.5\\ngini = 0.165\\nsamples = 11\\nvalue = [10, 1]'),\n",
       " Text(0.05036274999040344, 0.12857142857142856, 'gini = 0.0\\nsamples = 4\\nvalue = [4, 0]'),\n",
       " Text(0.052819469502130435, 0.12857142857142856, 'X[0] <= 0.272\\ngini = 0.245\\nsamples = 7\\nvalue = [6, 1]'),\n",
       " Text(0.05159110974626694, 0.1, 'gini = 0.0\\nsamples = 3\\nvalue = [3, 0]'),\n",
       " Text(0.05404782925799394, 0.1, 'gini = 0.375\\nsamples = 4\\nvalue = [3, 1]'),\n",
       " Text(0.06018962803731143, 0.15714285714285714, 'X[7] <= 0.5\\ngini = 0.486\\nsamples = 12\\nvalue = [7, 5]'),\n",
       " Text(0.05773290852558443, 0.12857142857142856, 'X[0] <= 0.342\\ngini = 0.49\\nsamples = 7\\nvalue = [3, 4]'),\n",
       " Text(0.056504548769720934, 0.1, 'X[0] <= 0.323\\ngini = 0.5\\nsamples = 6\\nvalue = [3, 3]'),\n",
       " Text(0.05527618901385743, 0.07142857142857142, 'X[0] <= 0.31\\ngini = 0.48\\nsamples = 5\\nvalue = [2, 3]'),\n",
       " Text(0.05404782925799394, 0.04285714285714286, 'X[0] <= 0.297\\ngini = 0.5\\nsamples = 4\\nvalue = [2, 2]'),\n",
       " Text(0.052819469502130435, 0.014285714285714285, 'gini = 0.444\\nsamples = 3\\nvalue = [1, 2]'),\n",
       " Text(0.05527618901385743, 0.014285714285714285, 'gini = 0.0\\nsamples = 1\\nvalue = [1, 0]'),\n",
       " Text(0.056504548769720934, 0.04285714285714286, 'gini = 0.0\\nsamples = 1\\nvalue = [0, 1]'),\n",
       " Text(0.05773290852558443, 0.07142857142857142, 'gini = 0.0\\nsamples = 1\\nvalue = [1, 0]'),\n",
       " Text(0.05896126828144793, 0.1, 'gini = 0.0\\nsamples = 1\\nvalue = [0, 1]'),\n",
       " Text(0.06264634754903843, 0.12857142857142856, 'X[0] <= 0.335\\ngini = 0.32\\nsamples = 5\\nvalue = [4, 1]'),\n",
       " Text(0.06141798779317493, 0.1, 'gini = 0.0\\nsamples = 2\\nvalue = [2, 0]'),\n",
       " Text(0.06387470730490193, 0.1, 'X[0] <= 0.348\\ngini = 0.444\\nsamples = 3\\nvalue = [2, 1]'),\n",
       " Text(0.06264634754903843, 0.07142857142857142, 'gini = 0.0\\nsamples = 1\\nvalue = [0, 1]'),\n",
       " Text(0.06510306706076542, 0.07142857142857142, 'gini = 0.0\\nsamples = 2\\nvalue = [2, 0]'),\n",
       " Text(0.04575640090591532, 0.3, 'gini = 0.0\\nsamples = 5\\nvalue = [5, 0]'),\n",
       " Text(0.05865417834248206, 0.32857142857142857, 'X[0] <= 0.475\\ngini = 0.5\\nsamples = 10\\nvalue = [5, 5]'),\n",
       " Text(0.057425818586618556, 0.3, 'X[0] <= 0.449\\ngini = 0.494\\nsamples = 9\\nvalue = [4, 5]'),\n",
       " Text(0.05496909907489156, 0.2714285714285714, 'X[7] <= 0.5\\ngini = 0.5\\nsamples = 4\\nvalue = [2, 2]'),\n",
       " Text(0.053740739319028064, 0.24285714285714285, 'X[0] <= 0.424\\ngini = 0.444\\nsamples = 3\\nvalue = [1, 2]'),\n",
       " Text(0.05251237956316456, 0.21428571428571427, 'gini = 0.5\\nsamples = 2\\nvalue = [1, 1]'),\n",
       " Text(0.05496909907489156, 0.21428571428571427, 'gini = 0.0\\nsamples = 1\\nvalue = [0, 1]'),\n",
       " Text(0.05619745883075506, 0.24285714285714285, 'gini = 0.0\\nsamples = 1\\nvalue = [1, 0]'),\n",
       " Text(0.05988253809834555, 0.2714285714285714, 'X[0] <= 0.462\\ngini = 0.48\\nsamples = 5\\nvalue = [2, 3]'),\n",
       " Text(0.05865417834248206, 0.24285714285714285, 'gini = 0.0\\nsamples = 1\\nvalue = [0, 1]'),\n",
       " Text(0.06111089785420905, 0.24285714285714285, 'X[7] <= 0.5\\ngini = 0.5\\nsamples = 4\\nvalue = [2, 2]'),\n",
       " Text(0.05988253809834555, 0.21428571428571427, 'gini = 0.5\\nsamples = 2\\nvalue = [1, 1]'),\n",
       " Text(0.06233925761007255, 0.21428571428571427, 'gini = 0.5\\nsamples = 2\\nvalue = [1, 1]'),\n",
       " Text(0.05988253809834555, 0.3, 'gini = 0.0\\nsamples = 1\\nvalue = [1, 0]'),\n",
       " Text(0.05404782925799394, 0.35714285714285715, 'gini = 0.0\\nsamples = 2\\nvalue = [0, 2]'),\n",
       " Text(0.05527618901385743, 0.38571428571428573, 'gini = 0.0\\nsamples = 4\\nvalue = [4, 0]'),\n",
       " Text(0.056504548769720934, 0.4142857142857143, 'gini = 0.0\\nsamples = 1\\nvalue = [0, 1]'),\n",
       " Text(0.05773290852558443, 0.44285714285714284, 'gini = 0.0\\nsamples = 2\\nvalue = [0, 2]'),\n",
       " Text(0.054662009135925685, 0.5, 'gini = 0.0\\nsamples = 7\\nvalue = [0, 7]'),\n",
       " Text(0.05589036889178918, 0.5285714285714286, 'gini = 0.0\\nsamples = 5\\nvalue = [5, 0]'),\n",
       " Text(0.05711872864765268, 0.5571428571428572, 'gini = 0.0\\nsamples = 5\\nvalue = [5, 0]'),\n",
       " Text(0.07434455491151971, 0.6428571428571429, 'X[3] <= 0.032\\ngini = 0.46\\nsamples = 148\\nvalue = [53, 95]'),\n",
       " Text(0.06264634754903843, 0.6142857142857143, 'X[0] <= 0.291\\ngini = 0.26\\nsamples = 39\\nvalue = [6, 33]'),\n",
       " Text(0.06141798779317493, 0.5857142857142857, 'gini = 0.0\\nsamples = 16\\nvalue = [0, 16]'),\n",
       " Text(0.06387470730490193, 0.5857142857142857, 'X[0] <= 0.456\\ngini = 0.386\\nsamples = 23\\nvalue = [6, 17]'),\n",
       " Text(0.060803807915243174, 0.5571428571428572, 'X[0] <= 0.38\\ngini = 0.496\\nsamples = 11\\nvalue = [5, 6]'),\n",
       " Text(0.05834708840351618, 0.5285714285714286, 'X[3] <= 0.031\\ngini = 0.278\\nsamples = 6\\nvalue = [1, 5]'),\n",
       " Text(0.05711872864765268, 0.5, 'gini = 0.0\\nsamples = 5\\nvalue = [0, 5]'),\n",
       " Text(0.05957544815937968, 0.5, 'gini = 0.0\\nsamples = 1\\nvalue = [1, 0]'),\n",
       " Text(0.06326052742697018, 0.5285714285714286, 'X[10] <= 0.5\\ngini = 0.32\\nsamples = 5\\nvalue = [4, 1]'),\n",
       " Text(0.062032167671106676, 0.5, 'X[9] <= 0.5\\ngini = 0.444\\nsamples = 3\\nvalue = [2, 1]'),\n",
       " Text(0.060803807915243174, 0.4714285714285714, 'gini = 0.0\\nsamples = 1\\nvalue = [0, 1]'),\n",
       " Text(0.06326052742697018, 0.4714285714285714, 'gini = 0.0\\nsamples = 2\\nvalue = [2, 0]'),\n",
       " Text(0.06448888718283367, 0.5, 'gini = 0.0\\nsamples = 2\\nvalue = [2, 0]'),\n",
       " Text(0.06694560669456066, 0.5571428571428572, 'X[2] <= 0.0\\ngini = 0.153\\nsamples = 12\\nvalue = [1, 11]'),\n",
       " Text(0.06571724693869717, 0.5285714285714286, 'gini = 0.0\\nsamples = 11\\nvalue = [0, 11]'),\n",
       " Text(0.06817396645042417, 0.5285714285714286, 'gini = 0.0\\nsamples = 1\\nvalue = [1, 0]'),\n",
       " Text(0.086042762274001, 0.6142857142857143, 'X[0] <= 0.247\\ngini = 0.491\\nsamples = 109\\nvalue = [47, 62]'),\n",
       " Text(0.07185904571801466, 0.5857142857142857, 'X[3] <= 0.037\\ngini = 0.401\\nsamples = 18\\nvalue = [13, 5]'),\n",
       " Text(0.07063068596215116, 0.5571428571428572, 'gini = 0.0\\nsamples = 8\\nvalue = [8, 0]'),\n",
       " Text(0.07308740547387817, 0.5571428571428572, 'X[1] <= 0.002\\ngini = 0.5\\nsamples = 10\\nvalue = [5, 5]'),\n",
       " Text(0.07063068596215116, 0.5285714285714286, 'X[2] <= 0.0\\ngini = 0.32\\nsamples = 5\\nvalue = [1, 4]'),\n",
       " Text(0.06940232620628767, 0.5, 'gini = 0.0\\nsamples = 4\\nvalue = [0, 4]'),\n",
       " Text(0.07185904571801466, 0.5, 'gini = 0.0\\nsamples = 1\\nvalue = [1, 0]'),\n",
       " Text(0.07554412498560516, 0.5285714285714286, 'X[0] <= 0.222\\ngini = 0.32\\nsamples = 5\\nvalue = [4, 1]'),\n",
       " Text(0.07431576522974166, 0.5, 'gini = 0.0\\nsamples = 4\\nvalue = [4, 0]'),\n",
       " Text(0.07677248474146865, 0.5, 'gini = 0.0\\nsamples = 1\\nvalue = [0, 1]'),\n",
       " Text(0.10022647882998734, 0.5857142857142857, 'X[1] <= 0.0\\ngini = 0.468\\nsamples = 91\\nvalue = [34, 57]'),\n",
       " Text(0.0874438601205328, 0.5571428571428572, 'X[10] <= 0.5\\ngini = 0.398\\nsamples = 51\\nvalue = [14, 37]'),\n",
       " Text(0.08045756400905915, 0.5285714285714286, 'X[1] <= 0.0\\ngini = 0.133\\nsamples = 14\\nvalue = [1, 13]'),\n",
       " Text(0.07922920425319566, 0.5, 'gini = 0.0\\nsamples = 11\\nvalue = [0, 11]'),\n",
       " Text(0.08168592376492265, 0.5, 'X[4] <= 0.001\\ngini = 0.444\\nsamples = 3\\nvalue = [1, 2]'),\n",
       " Text(0.08045756400905915, 0.4714285714285714, 'gini = 0.0\\nsamples = 1\\nvalue = [1, 0]'),\n",
       " Text(0.08291428352078616, 0.4714285714285714, 'gini = 0.0\\nsamples = 2\\nvalue = [0, 2]'),\n",
       " Text(0.09443015623200644, 0.5285714285714286, 'X[3] <= 0.046\\ngini = 0.456\\nsamples = 37\\nvalue = [13, 24]'),\n",
       " Text(0.08936317223906952, 0.5, 'X[0] <= 0.487\\ngini = 0.422\\nsamples = 33\\nvalue = [10, 23]'),\n",
       " Text(0.08537100303251315, 0.4714285714285714, 'X[3] <= 0.035\\ngini = 0.476\\nsamples = 23\\nvalue = [9, 14]'),\n",
       " Text(0.0823001036428544, 0.44285714285714284, 'X[5] <= 0.0\\ngini = 0.375\\nsamples = 4\\nvalue = [3, 1]'),\n",
       " Text(0.0810717438869909, 0.4142857142857143, 'gini = 0.0\\nsamples = 3\\nvalue = [3, 0]'),\n",
       " Text(0.0835284633987179, 0.4142857142857143, 'gini = 0.0\\nsamples = 1\\nvalue = [0, 1]'),\n",
       " Text(0.0884419024221719, 0.44285714285714284, 'X[3] <= 0.038\\ngini = 0.432\\nsamples = 19\\nvalue = [6, 13]'),\n",
       " Text(0.0859851829104449, 0.4142857142857143, 'X[5] <= 0.0\\ngini = 0.278\\nsamples = 12\\nvalue = [2, 10]'),\n",
       " Text(0.0847568231545814, 0.38571428571428573, 'X[0] <= 0.443\\ngini = 0.165\\nsamples = 11\\nvalue = [1, 10]'),\n",
       " Text(0.0835284633987179, 0.35714285714285715, 'gini = 0.0\\nsamples = 10\\nvalue = [0, 10]'),\n",
       " Text(0.0859851829104449, 0.35714285714285715, 'gini = 0.0\\nsamples = 1\\nvalue = [1, 0]'),\n",
       " Text(0.08721354266630839, 0.38571428571428573, 'gini = 0.0\\nsamples = 1\\nvalue = [1, 0]'),\n",
       " Text(0.09089862193389889, 0.4142857142857143, 'X[3] <= 0.039\\ngini = 0.49\\nsamples = 7\\nvalue = [4, 3]'),\n",
       " Text(0.08967026217803539, 0.38571428571428573, 'gini = 0.0\\nsamples = 3\\nvalue = [3, 0]'),\n",
       " Text(0.09212698168976238, 0.38571428571428573, 'X[3] <= 0.043\\ngini = 0.375\\nsamples = 4\\nvalue = [1, 3]'),\n",
       " Text(0.09089862193389889, 0.35714285714285715, 'X[0] <= 0.291\\ngini = 0.5\\nsamples = 2\\nvalue = [1, 1]'),\n",
       " Text(0.08967026217803539, 0.32857142857142857, 'gini = 0.0\\nsamples = 1\\nvalue = [0, 1]'),\n",
       " Text(0.09212698168976238, 0.32857142857142857, 'gini = 0.0\\nsamples = 1\\nvalue = [1, 0]'),\n",
       " Text(0.09335534144562589, 0.35714285714285715, 'gini = 0.0\\nsamples = 2\\nvalue = [0, 2]'),\n",
       " Text(0.09335534144562589, 0.4714285714285714, 'X[4] <= 0.0\\ngini = 0.18\\nsamples = 10\\nvalue = [1, 9]'),\n",
       " Text(0.09212698168976238, 0.44285714285714284, 'gini = 0.0\\nsamples = 8\\nvalue = [0, 8]'),\n",
       " Text(0.09458370120148939, 0.44285714285714284, 'X[1] <= 0.0\\ngini = 0.5\\nsamples = 2\\nvalue = [1, 1]'),\n",
       " Text(0.09335534144562589, 0.4142857142857143, 'gini = 0.0\\nsamples = 1\\nvalue = [1, 0]'),\n",
       " Text(0.09581206095735288, 0.4142857142857143, 'gini = 0.0\\nsamples = 1\\nvalue = [0, 1]'),\n",
       " Text(0.09949714022494338, 0.5, 'X[2] <= 0.0\\ngini = 0.375\\nsamples = 4\\nvalue = [3, 1]'),\n",
       " Text(0.09826878046907989, 0.4714285714285714, 'X[3] <= 0.055\\ngini = 0.5\\nsamples = 2\\nvalue = [1, 1]'),\n",
       " Text(0.09704042071321638, 0.44285714285714284, 'gini = 0.0\\nsamples = 1\\nvalue = [0, 1]'),\n",
       " Text(0.09949714022494338, 0.44285714285714284, 'gini = 0.0\\nsamples = 1\\nvalue = [1, 0]'),\n",
       " Text(0.10072549998080688, 0.4714285714285714, 'gini = 0.0\\nsamples = 2\\nvalue = [2, 0]'),\n",
       " Text(0.11300909753944187, 0.5571428571428572, 'X[1] <= 0.001\\ngini = 0.5\\nsamples = 40\\nvalue = [20, 20]'),\n",
       " Text(0.11178073778357836, 0.5285714285714286, 'gini = 0.0\\nsamples = 3\\nvalue = [3, 0]'),\n",
       " Text(0.11423745729530536, 0.5285714285714286, 'X[3] <= 0.051\\ngini = 0.497\\nsamples = 37\\nvalue = [17, 20]'),\n",
       " Text(0.10932401827185137, 0.5, 'X[0] <= 0.361\\ngini = 0.493\\nsamples = 25\\nvalue = [14, 11]'),\n",
       " Text(0.10441057924839738, 0.4714285714285714, 'X[0] <= 0.272\\ngini = 0.397\\nsamples = 11\\nvalue = [3, 8]'),\n",
       " Text(0.10195385973667037, 0.44285714285714284, 'X[1] <= 0.003\\ngini = 0.444\\nsamples = 3\\nvalue = [2, 1]'),\n",
       " Text(0.10072549998080688, 0.4142857142857143, 'gini = 0.0\\nsamples = 1\\nvalue = [0, 1]'),\n",
       " Text(0.10318221949253388, 0.4142857142857143, 'gini = 0.0\\nsamples = 2\\nvalue = [2, 0]'),\n",
       " Text(0.10686729876012437, 0.44285714285714284, 'X[4] <= 0.001\\ngini = 0.219\\nsamples = 8\\nvalue = [1, 7]'),\n",
       " Text(0.10563893900426087, 0.4142857142857143, 'gini = 0.0\\nsamples = 7\\nvalue = [0, 7]'),\n",
       " Text(0.10809565851598787, 0.4142857142857143, 'gini = 0.0\\nsamples = 1\\nvalue = [1, 0]'),\n",
       " Text(0.11423745729530536, 0.4714285714285714, 'X[2] <= 0.0\\ngini = 0.337\\nsamples = 14\\nvalue = [11, 3]'),\n",
       " Text(0.11178073778357836, 0.44285714285714284, 'X[10] <= 0.5\\ngini = 0.165\\nsamples = 11\\nvalue = [10, 1]'),\n",
       " Text(0.11055237802771486, 0.4142857142857143, 'gini = 0.0\\nsamples = 1\\nvalue = [0, 1]'),\n",
       " Text(0.11300909753944187, 0.4142857142857143, 'gini = 0.0\\nsamples = 10\\nvalue = [10, 0]'),\n",
       " Text(0.11669417680703235, 0.44285714285714284, 'X[2] <= 0.001\\ngini = 0.444\\nsamples = 3\\nvalue = [1, 2]'),\n",
       " Text(0.11546581705116886, 0.4142857142857143, 'gini = 0.0\\nsamples = 2\\nvalue = [0, 2]'),\n",
       " Text(0.11792253656289586, 0.4142857142857143, 'gini = 0.0\\nsamples = 1\\nvalue = [1, 0]'),\n",
       " Text(0.11915089631875936, 0.5, 'X[3] <= 0.06\\ngini = 0.375\\nsamples = 12\\nvalue = [3, 9]'),\n",
       " Text(0.11792253656289586, 0.4714285714285714, 'gini = 0.0\\nsamples = 8\\nvalue = [0, 8]'),\n",
       " Text(0.12037925607462285, 0.4714285714285714, 'X[0] <= 0.437\\ngini = 0.375\\nsamples = 4\\nvalue = [3, 1]'),\n",
       " Text(0.11915089631875936, 0.44285714285714284, 'gini = 0.0\\nsamples = 3\\nvalue = [3, 0]'),\n",
       " Text(0.12160761583048635, 0.44285714285714284, 'gini = 0.0\\nsamples = 1\\nvalue = [0, 1]'),\n",
       " Text(0.13212544624006756, 0.6714285714285714, 'X[0] <= 0.386\\ngini = 0.346\\nsamples = 72\\nvalue = [16, 56]'),\n",
       " Text(0.12283597558634986, 0.6428571428571429, 'X[0] <= 0.278\\ngini = 0.142\\nsamples = 39\\nvalue = [3, 36]'),\n",
       " Text(0.12160761583048635, 0.6142857142857143, 'gini = 0.0\\nsamples = 21\\nvalue = [0, 21]'),\n",
       " Text(0.12406433534221335, 0.6142857142857143, 'X[0] <= 0.335\\ngini = 0.278\\nsamples = 18\\nvalue = [3, 15]'),\n",
       " Text(0.12283597558634986, 0.5857142857142857, 'X[11] <= 0.5\\ngini = 0.397\\nsamples = 11\\nvalue = [3, 8]'),\n",
       " Text(0.12160761583048635, 0.5571428571428572, 'X[10] <= 0.5\\ngini = 0.444\\nsamples = 9\\nvalue = [3, 6]'),\n",
       " Text(0.12037925607462285, 0.5285714285714286, 'gini = 0.0\\nsamples = 1\\nvalue = [0, 1]'),\n",
       " Text(0.12283597558634986, 0.5285714285714286, 'X[0] <= 0.31\\ngini = 0.469\\nsamples = 8\\nvalue = [3, 5]'),\n",
       " Text(0.12160761583048635, 0.5, 'gini = 0.5\\nsamples = 2\\nvalue = [1, 1]'),\n",
       " Text(0.12406433534221335, 0.5, 'X[0] <= 0.323\\ngini = 0.444\\nsamples = 6\\nvalue = [2, 4]'),\n",
       " Text(0.12283597558634986, 0.4714285714285714, 'gini = 0.444\\nsamples = 3\\nvalue = [1, 2]'),\n",
       " Text(0.12529269509807686, 0.4714285714285714, 'gini = 0.444\\nsamples = 3\\nvalue = [1, 2]'),\n",
       " Text(0.12406433534221335, 0.5571428571428572, 'gini = 0.0\\nsamples = 2\\nvalue = [0, 2]'),\n",
       " Text(0.12529269509807686, 0.5857142857142857, 'gini = 0.0\\nsamples = 7\\nvalue = [0, 7]'),\n",
       " Text(0.14141491689378527, 0.6428571428571429, 'X[0] <= 0.665\\ngini = 0.478\\nsamples = 33\\nvalue = [13, 20]'),\n",
       " Text(0.1366550228398142, 0.6142857142857143, 'X[0] <= 0.532\\ngini = 0.499\\nsamples = 23\\nvalue = [12, 11]'),\n",
       " Text(0.13327703351118958, 0.5857142857142857, 'X[0] <= 0.475\\ngini = 0.48\\nsamples = 15\\nvalue = [9, 6]'),\n",
       " Text(0.13020613412153084, 0.5571428571428572, 'X[0] <= 0.411\\ngini = 0.5\\nsamples = 10\\nvalue = [5, 5]'),\n",
       " Text(0.12774941460980385, 0.5285714285714286, 'X[0] <= 0.399\\ngini = 0.375\\nsamples = 4\\nvalue = [3, 1]'),\n",
       " Text(0.12652105485394036, 0.5, 'gini = 0.444\\nsamples = 3\\nvalue = [2, 1]'),\n",
       " Text(0.12897777436566735, 0.5, 'gini = 0.0\\nsamples = 1\\nvalue = [1, 0]'),\n",
       " Text(0.13266285363325783, 0.5285714285714286, 'X[11] <= 0.5\\ngini = 0.444\\nsamples = 6\\nvalue = [2, 4]'),\n",
       " Text(0.13143449387739434, 0.5, 'X[0] <= 0.43\\ngini = 0.32\\nsamples = 5\\nvalue = [1, 4]'),\n",
       " Text(0.13020613412153084, 0.4714285714285714, 'gini = 0.5\\nsamples = 2\\nvalue = [1, 1]'),\n",
       " Text(0.13266285363325783, 0.4714285714285714, 'gini = 0.0\\nsamples = 3\\nvalue = [0, 3]'),\n",
       " Text(0.13389121338912133, 0.5, 'gini = 0.0\\nsamples = 1\\nvalue = [1, 0]'),\n",
       " Text(0.13634793290084835, 0.5571428571428572, 'X[0] <= 0.5\\ngini = 0.32\\nsamples = 5\\nvalue = [4, 1]'),\n",
       " Text(0.13511957314498485, 0.5285714285714286, 'gini = 0.0\\nsamples = 2\\nvalue = [2, 0]'),\n",
       " Text(0.13757629265671184, 0.5285714285714286, 'X[0] <= 0.513\\ngini = 0.444\\nsamples = 3\\nvalue = [2, 1]'),\n",
       " Text(0.13634793290084835, 0.5, 'gini = 0.5\\nsamples = 2\\nvalue = [1, 1]'),\n",
       " Text(0.13880465241257534, 0.5, 'gini = 0.0\\nsamples = 1\\nvalue = [1, 0]'),\n",
       " Text(0.14003301216843883, 0.5857142857142857, 'X[0] <= 0.563\\ngini = 0.469\\nsamples = 8\\nvalue = [3, 5]'),\n",
       " Text(0.13880465241257534, 0.5571428571428572, 'gini = 0.0\\nsamples = 3\\nvalue = [0, 3]'),\n",
       " Text(0.14126137192430233, 0.5571428571428572, 'X[0] <= 0.589\\ngini = 0.48\\nsamples = 5\\nvalue = [3, 2]'),\n",
       " Text(0.14003301216843883, 0.5285714285714286, 'gini = 0.0\\nsamples = 1\\nvalue = [1, 0]'),\n",
       " Text(0.14248973168016582, 0.5285714285714286, 'X[0] <= 0.652\\ngini = 0.5\\nsamples = 4\\nvalue = [2, 2]'),\n",
       " Text(0.14126137192430233, 0.5, 'X[0] <= 0.627\\ngini = 0.444\\nsamples = 3\\nvalue = [1, 2]'),\n",
       " Text(0.14003301216843883, 0.4714285714285714, 'gini = 0.5\\nsamples = 2\\nvalue = [1, 1]'),\n",
       " Text(0.14248973168016582, 0.4714285714285714, 'gini = 0.0\\nsamples = 1\\nvalue = [0, 1]'),\n",
       " Text(0.14371809143602932, 0.5, 'gini = 0.0\\nsamples = 1\\nvalue = [1, 0]'),\n",
       " Text(0.14617481094775633, 0.6142857142857143, 'X[0] <= 0.715\\ngini = 0.18\\nsamples = 10\\nvalue = [1, 9]'),\n",
       " Text(0.14494645119189284, 0.5857142857142857, 'X[0] <= 0.696\\ngini = 0.32\\nsamples = 5\\nvalue = [1, 4]'),\n",
       " Text(0.14371809143602932, 0.5571428571428572, 'gini = 0.0\\nsamples = 4\\nvalue = [0, 4]'),\n",
       " Text(0.14617481094775633, 0.5571428571428572, 'gini = 0.0\\nsamples = 1\\nvalue = [1, 0]'),\n",
       " Text(0.14740317070361983, 0.5857142857142857, 'gini = 0.0\\nsamples = 5\\nvalue = [0, 5]'),\n",
       " Text(0.15815131856742543, 0.7, 'X[3] <= 0.025\\ngini = 0.41\\nsamples = 215\\nvalue = [62, 153]'),\n",
       " Text(0.15692295881156193, 0.6714285714285714, 'X[2] <= 0.006\\ngini = 0.435\\nsamples = 194\\nvalue = [62, 132]'),\n",
       " Text(0.1523166097270738, 0.6428571428571429, 'X[2] <= 0.004\\ngini = 0.48\\nsamples = 10\\nvalue = [6, 4]'),\n",
       " Text(0.15108824997121031, 0.6142857142857143, 'X[0] <= 0.241\\ngini = 0.444\\nsamples = 6\\nvalue = [2, 4]'),\n",
       " Text(0.14985989021534682, 0.5857142857142857, 'gini = 0.0\\nsamples = 2\\nvalue = [2, 0]'),\n",
       " Text(0.1523166097270738, 0.5857142857142857, 'gini = 0.0\\nsamples = 4\\nvalue = [0, 4]'),\n",
       " Text(0.1535449694829373, 0.6142857142857143, 'gini = 0.0\\nsamples = 4\\nvalue = [4, 0]'),\n",
       " Text(0.16152930789605005, 0.6428571428571429, 'X[2] <= 0.013\\ngini = 0.423\\nsamples = 184\\nvalue = [56, 128]'),\n",
       " Text(0.15600168899466432, 0.6142857142857143, 'X[0] <= 0.259\\ngini = 0.124\\nsamples = 15\\nvalue = [1, 14]'),\n",
       " Text(0.15477332923880083, 0.5857142857142857, 'X[2] <= 0.011\\ngini = 0.375\\nsamples = 4\\nvalue = [1, 3]'),\n",
       " Text(0.1535449694829373, 0.5571428571428572, 'X[2] <= 0.01\\ngini = 0.5\\nsamples = 2\\nvalue = [1, 1]'),\n",
       " Text(0.1523166097270738, 0.5285714285714286, 'gini = 0.0\\nsamples = 1\\nvalue = [0, 1]'),\n",
       " Text(0.15477332923880083, 0.5285714285714286, 'gini = 0.0\\nsamples = 1\\nvalue = [1, 0]'),\n",
       " Text(0.15600168899466432, 0.5571428571428572, 'gini = 0.0\\nsamples = 2\\nvalue = [0, 2]'),\n",
       " Text(0.15723004875052782, 0.5857142857142857, 'gini = 0.0\\nsamples = 11\\nvalue = [0, 11]'),\n",
       " Text(0.1670569267974358, 0.6142857142857143, 'X[2] <= 0.013\\ngini = 0.439\\nsamples = 169\\nvalue = [55, 114]'),\n",
       " Text(0.1658285670415723, 0.5857142857142857, 'gini = 0.0\\nsamples = 2\\nvalue = [2, 0]'),\n",
       " Text(0.1682852865532993, 0.5857142857142857, 'X[9] <= 0.5\\ngini = 0.433\\nsamples = 167\\nvalue = [53, 114]'),\n",
       " Text(0.1609151280181183, 0.5571428571428572, 'X[3] <= 0.002\\ngini = 0.411\\nsamples = 142\\nvalue = [41, 101]'),\n",
       " Text(0.15723004875052782, 0.5285714285714286, 'X[3] <= 0.002\\ngini = 0.435\\nsamples = 119\\nvalue = [38, 81]'),\n",
       " Text(0.15600168899466432, 0.5, 'X[5] <= 0.0\\ngini = 0.426\\nsamples = 117\\nvalue = [36, 81]'),\n",
       " Text(0.1535449694829373, 0.4714285714285714, 'X[1] <= 0.014\\ngini = 0.447\\nsamples = 104\\nvalue = [35, 69]'),\n",
       " Text(0.1523166097270738, 0.44285714285714284, 'X[2] <= 0.021\\ngini = 0.438\\nsamples = 102\\nvalue = [33, 69]'),\n",
       " Text(0.15108824997121031, 0.4142857142857143, 'gini = 0.0\\nsamples = 7\\nvalue = [0, 7]'),\n",
       " Text(0.1535449694829373, 0.4142857142857143, 'X[0] <= 0.203\\ngini = 0.453\\nsamples = 95\\nvalue = [33, 62]'),\n",
       " Text(0.1523166097270738, 0.38571428571428573, 'gini = 0.0\\nsamples = 5\\nvalue = [0, 5]'),\n",
       " Text(0.15477332923880083, 0.38571428571428573, 'X[4] <= 0.0\\ngini = 0.464\\nsamples = 90\\nvalue = [33, 57]'),\n",
       " Text(0.14801735058155158, 0.35714285714285715, 'X[1] <= 0.002\\ngini = 0.489\\nsamples = 61\\nvalue = [26, 35]'),\n",
       " Text(0.14310391155809757, 0.32857142857142857, 'X[2] <= 0.024\\ngini = 0.5\\nsamples = 44\\nvalue = [22, 22]'),\n",
       " Text(0.13941883229050708, 0.3, 'X[0] <= 0.272\\ngini = 0.245\\nsamples = 7\\nvalue = [6, 1]'),\n",
       " Text(0.1381904725346436, 0.2714285714285714, 'gini = 0.0\\nsamples = 1\\nvalue = [0, 1]'),\n",
       " Text(0.14064719204637058, 0.2714285714285714, 'gini = 0.0\\nsamples = 6\\nvalue = [6, 0]'),\n",
       " Text(0.14678899082568808, 0.3, 'X[1] <= 0.0\\ngini = 0.491\\nsamples = 37\\nvalue = [16, 21]'),\n",
       " Text(0.14310391155809757, 0.2714285714285714, 'X[2] <= 0.027\\ngini = 0.469\\nsamples = 32\\nvalue = [12, 20]'),\n",
       " Text(0.13941883229050708, 0.24285714285714285, 'X[2] <= 0.024\\ngini = 0.26\\nsamples = 13\\nvalue = [2, 11]'),\n",
       " Text(0.1369621127787801, 0.21428571428571427, 'X[0] <= 0.253\\ngini = 0.5\\nsamples = 2\\nvalue = [1, 1]'),\n",
       " Text(0.1357337530229166, 0.18571428571428572, 'gini = 0.0\\nsamples = 1\\nvalue = [0, 1]'),\n",
       " Text(0.1381904725346436, 0.18571428571428572, 'gini = 0.0\\nsamples = 1\\nvalue = [1, 0]'),\n",
       " Text(0.14187555180223407, 0.21428571428571427, 'X[0] <= 0.247\\ngini = 0.165\\nsamples = 11\\nvalue = [1, 10]'),\n",
       " Text(0.14064719204637058, 0.18571428571428572, 'X[2] <= 0.026\\ngini = 0.375\\nsamples = 4\\nvalue = [1, 3]'),\n",
       " Text(0.13941883229050708, 0.15714285714285714, 'gini = 0.0\\nsamples = 3\\nvalue = [0, 3]'),\n",
       " Text(0.14187555180223407, 0.15714285714285714, 'gini = 0.0\\nsamples = 1\\nvalue = [1, 0]'),\n",
       " Text(0.14310391155809757, 0.18571428571428572, 'gini = 0.0\\nsamples = 7\\nvalue = [0, 7]'),\n",
       " Text(0.14678899082568808, 0.24285714285714285, 'X[0] <= 0.247\\ngini = 0.499\\nsamples = 19\\nvalue = [10, 9]'),\n",
       " Text(0.1455606310698246, 0.21428571428571427, 'gini = 0.0\\nsamples = 3\\nvalue = [3, 0]'),\n",
       " Text(0.14801735058155158, 0.21428571428571427, 'X[3] <= 0.0\\ngini = 0.492\\nsamples = 16\\nvalue = [7, 9]'),\n",
       " Text(0.14678899082568808, 0.18571428571428572, 'X[0] <= 0.342\\ngini = 0.486\\nsamples = 12\\nvalue = [7, 5]'),\n",
       " Text(0.14433227131396106, 0.15714285714285714, 'X[3] <= 0.0\\ngini = 0.444\\nsamples = 6\\nvalue = [2, 4]'),\n",
       " Text(0.14310391155809757, 0.12857142857142856, 'X[0] <= 0.31\\ngini = 0.32\\nsamples = 5\\nvalue = [1, 4]'),\n",
       " Text(0.14187555180223407, 0.1, 'gini = 0.0\\nsamples = 2\\nvalue = [0, 2]'),\n",
       " Text(0.14433227131396106, 0.1, 'X[2] <= 0.034\\ngini = 0.444\\nsamples = 3\\nvalue = [1, 2]'),\n",
       " Text(0.14310391155809757, 0.07142857142857142, 'gini = 0.0\\nsamples = 1\\nvalue = [0, 1]'),\n",
       " Text(0.1455606310698246, 0.07142857142857142, 'X[10] <= 0.5\\ngini = 0.5\\nsamples = 2\\nvalue = [1, 1]'),\n",
       " Text(0.14433227131396106, 0.04285714285714286, 'gini = 0.0\\nsamples = 1\\nvalue = [0, 1]'),\n",
       " Text(0.14678899082568808, 0.04285714285714286, 'gini = 0.0\\nsamples = 1\\nvalue = [1, 0]'),\n",
       " Text(0.1455606310698246, 0.12857142857142856, 'gini = 0.0\\nsamples = 1\\nvalue = [1, 0]'),\n",
       " Text(0.14924571033741507, 0.15714285714285714, 'X[0] <= 0.665\\ngini = 0.278\\nsamples = 6\\nvalue = [5, 1]'),\n",
       " Text(0.14801735058155158, 0.12857142857142856, 'gini = 0.0\\nsamples = 5\\nvalue = [5, 0]'),\n",
       " Text(0.15047407009327857, 0.12857142857142856, 'gini = 0.0\\nsamples = 1\\nvalue = [0, 1]'),\n",
       " Text(0.14924571033741507, 0.18571428571428572, 'gini = 0.0\\nsamples = 4\\nvalue = [0, 4]'),\n",
       " Text(0.15047407009327857, 0.2714285714285714, 'X[2] <= 0.042\\ngini = 0.32\\nsamples = 5\\nvalue = [4, 1]'),\n",
       " Text(0.14924571033741507, 0.24285714285714285, 'gini = 0.0\\nsamples = 4\\nvalue = [4, 0]'),\n",
       " Text(0.15170242984914206, 0.24285714285714285, 'gini = 0.0\\nsamples = 1\\nvalue = [0, 1]'),\n",
       " Text(0.15293078960500556, 0.32857142857142857, 'X[1] <= 0.005\\ngini = 0.36\\nsamples = 17\\nvalue = [4, 13]'),\n",
       " Text(0.15170242984914206, 0.3, 'gini = 0.0\\nsamples = 7\\nvalue = [0, 7]'),\n",
       " Text(0.15415914936086905, 0.3, 'X[0] <= 0.329\\ngini = 0.48\\nsamples = 10\\nvalue = [4, 6]'),\n",
       " Text(0.15293078960500556, 0.2714285714285714, 'gini = 0.0\\nsamples = 2\\nvalue = [2, 0]'),\n",
       " Text(0.15538750911673258, 0.2714285714285714, 'X[2] <= 0.026\\ngini = 0.375\\nsamples = 8\\nvalue = [2, 6]'),\n",
       " Text(0.15415914936086905, 0.24285714285714285, 'X[2] <= 0.024\\ngini = 0.5\\nsamples = 4\\nvalue = [2, 2]'),\n",
       " Text(0.15293078960500556, 0.21428571428571427, 'gini = 0.0\\nsamples = 2\\nvalue = [0, 2]'),\n",
       " Text(0.15538750911673258, 0.21428571428571427, 'gini = 0.0\\nsamples = 2\\nvalue = [2, 0]'),\n",
       " Text(0.15661586887259607, 0.24285714285714285, 'gini = 0.0\\nsamples = 4\\nvalue = [0, 4]'),\n",
       " Text(0.16152930789605005, 0.35714285714285715, 'X[1] <= 0.002\\ngini = 0.366\\nsamples = 29\\nvalue = [7, 22]'),\n",
       " Text(0.16030094814018656, 0.32857142857142857, 'X[4] <= 0.001\\ngini = 0.302\\nsamples = 27\\nvalue = [5, 22]'),\n",
       " Text(0.15907258838432306, 0.3, 'gini = 0.0\\nsamples = 13\\nvalue = [0, 13]'),\n",
       " Text(0.16152930789605005, 0.3, 'X[4] <= 0.002\\ngini = 0.459\\nsamples = 14\\nvalue = [5, 9]'),\n",
       " Text(0.16030094814018656, 0.2714285714285714, 'X[2] <= 0.023\\ngini = 0.496\\nsamples = 11\\nvalue = [5, 6]'),\n",
       " Text(0.15907258838432306, 0.24285714285714285, 'gini = 0.0\\nsamples = 1\\nvalue = [1, 0]'),\n",
       " Text(0.16152930789605005, 0.24285714285714285, 'X[2] <= 0.025\\ngini = 0.48\\nsamples = 10\\nvalue = [4, 6]'),\n",
       " Text(0.16030094814018656, 0.21428571428571427, 'gini = 0.0\\nsamples = 3\\nvalue = [0, 3]'),\n",
       " Text(0.16275766765191355, 0.21428571428571427, 'X[2] <= 0.029\\ngini = 0.49\\nsamples = 7\\nvalue = [4, 3]'),\n",
       " Text(0.16152930789605005, 0.18571428571428572, 'gini = 0.0\\nsamples = 3\\nvalue = [3, 0]'),\n",
       " Text(0.16398602740777704, 0.18571428571428572, 'X[2] <= 0.046\\ngini = 0.375\\nsamples = 4\\nvalue = [1, 3]'),\n",
       " Text(0.16275766765191355, 0.15714285714285714, 'gini = 0.0\\nsamples = 3\\nvalue = [0, 3]'),\n",
       " Text(0.16521438716364056, 0.15714285714285714, 'gini = 0.0\\nsamples = 1\\nvalue = [1, 0]'),\n",
       " Text(0.16275766765191355, 0.2714285714285714, 'gini = 0.0\\nsamples = 3\\nvalue = [0, 3]'),\n",
       " Text(0.16275766765191355, 0.32857142857142857, 'gini = 0.0\\nsamples = 2\\nvalue = [2, 0]'),\n",
       " Text(0.15477332923880083, 0.44285714285714284, 'gini = 0.0\\nsamples = 2\\nvalue = [2, 0]'),\n",
       " Text(0.1584584085063913, 0.4714285714285714, 'X[2] <= 0.026\\ngini = 0.142\\nsamples = 13\\nvalue = [1, 12]'),\n",
       " Text(0.15723004875052782, 0.44285714285714284, 'X[4] <= 0.0\\ngini = 0.375\\nsamples = 4\\nvalue = [1, 3]'),\n",
       " Text(0.15600168899466432, 0.4142857142857143, 'gini = 0.0\\nsamples = 3\\nvalue = [0, 3]'),\n",
       " Text(0.1584584085063913, 0.4142857142857143, 'gini = 0.0\\nsamples = 1\\nvalue = [1, 0]'),\n",
       " Text(0.1596867682622548, 0.44285714285714284, 'gini = 0.0\\nsamples = 9\\nvalue = [0, 9]'),\n",
       " Text(0.1584584085063913, 0.5, 'gini = 0.0\\nsamples = 2\\nvalue = [2, 0]'),\n",
       " Text(0.1646002072857088, 0.5285714285714286, 'X[11] <= 0.5\\ngini = 0.227\\nsamples = 23\\nvalue = [3, 20]'),\n",
       " Text(0.1621434877739818, 0.5, 'X[2] <= 0.027\\ngini = 0.172\\nsamples = 21\\nvalue = [2, 19]'),\n",
       " Text(0.1609151280181183, 0.4714285714285714, 'gini = 0.0\\nsamples = 13\\nvalue = [0, 13]'),\n",
       " Text(0.1633718475298453, 0.4714285714285714, 'X[2] <= 0.028\\ngini = 0.375\\nsamples = 8\\nvalue = [2, 6]'),\n",
       " Text(0.1621434877739818, 0.44285714285714284, 'gini = 0.0\\nsamples = 1\\nvalue = [1, 0]'),\n",
       " Text(0.1646002072857088, 0.44285714285714284, 'X[0] <= 0.209\\ngini = 0.245\\nsamples = 7\\nvalue = [1, 6]'),\n",
       " Text(0.1633718475298453, 0.4142857142857143, 'X[3] <= 0.006\\ngini = 0.5\\nsamples = 2\\nvalue = [1, 1]'),\n",
       " Text(0.1621434877739818, 0.38571428571428573, 'gini = 0.0\\nsamples = 1\\nvalue = [1, 0]'),\n",
       " Text(0.1646002072857088, 0.38571428571428573, 'gini = 0.0\\nsamples = 1\\nvalue = [0, 1]'),\n",
       " Text(0.1658285670415723, 0.4142857142857143, 'gini = 0.0\\nsamples = 5\\nvalue = [0, 5]'),\n",
       " Text(0.1670569267974358, 0.5, 'X[2] <= 0.021\\ngini = 0.5\\nsamples = 2\\nvalue = [1, 1]'),\n",
       " Text(0.1658285670415723, 0.4714285714285714, 'gini = 0.0\\nsamples = 1\\nvalue = [1, 0]'),\n",
       " Text(0.1682852865532993, 0.4714285714285714, 'gini = 0.0\\nsamples = 1\\nvalue = [0, 1]'),\n",
       " Text(0.1756554450884803, 0.5571428571428572, 'X[1] <= 0.001\\ngini = 0.499\\nsamples = 25\\nvalue = [12, 13]'),\n",
       " Text(0.17319872557675328, 0.5285714285714286, 'X[1] <= 0.0\\ngini = 0.465\\nsamples = 19\\nvalue = [7, 12]'),\n",
       " Text(0.1719703658208898, 0.5, 'X[1] <= 0.0\\ngini = 0.498\\nsamples = 15\\nvalue = [7, 8]'),\n",
       " Text(0.1707420060650263, 0.4714285714285714, 'X[0] <= 0.228\\ngini = 0.473\\nsamples = 13\\nvalue = [5, 8]'),\n",
       " Text(0.1695136463091628, 0.44285714285714284, 'gini = 0.0\\nsamples = 2\\nvalue = [2, 0]'),\n",
       " Text(0.1719703658208898, 0.44285714285714284, 'X[3] <= 0.0\\ngini = 0.397\\nsamples = 11\\nvalue = [3, 8]'),\n",
       " Text(0.1707420060650263, 0.4142857142857143, 'gini = 0.0\\nsamples = 6\\nvalue = [0, 6]'),\n",
       " Text(0.17319872557675328, 0.4142857142857143, 'X[2] <= 0.017\\ngini = 0.48\\nsamples = 5\\nvalue = [3, 2]'),\n",
       " Text(0.1719703658208898, 0.38571428571428573, 'gini = 0.0\\nsamples = 2\\nvalue = [0, 2]'),\n",
       " Text(0.17442708533261678, 0.38571428571428573, 'gini = 0.0\\nsamples = 3\\nvalue = [3, 0]'),\n",
       " Text(0.17319872557675328, 0.4714285714285714, 'gini = 0.0\\nsamples = 2\\nvalue = [2, 0]'),\n",
       " Text(0.17442708533261678, 0.5, 'gini = 0.0\\nsamples = 4\\nvalue = [0, 4]'),\n",
       " Text(0.1781121646002073, 0.5285714285714286, 'X[2] <= 0.02\\ngini = 0.278\\nsamples = 6\\nvalue = [5, 1]'),\n",
       " Text(0.1768838048443438, 0.5, 'X[3] <= 0.002\\ngini = 0.444\\nsamples = 3\\nvalue = [2, 1]'),\n",
       " Text(0.1756554450884803, 0.4714285714285714, 'gini = 0.0\\nsamples = 1\\nvalue = [0, 1]'),\n",
       " Text(0.1781121646002073, 0.4714285714285714, 'gini = 0.0\\nsamples = 2\\nvalue = [2, 0]'),\n",
       " Text(0.17934052435607079, 0.5, 'gini = 0.0\\nsamples = 3\\nvalue = [3, 0]'),\n",
       " Text(0.15937967832328892, 0.6714285714285714, 'gini = 0.0\\nsamples = 21\\nvalue = [0, 21]'),\n",
       " Text(0.200836820083682, 0.7571428571428571, 'X[0] <= 0.69\\ngini = 0.483\\nsamples = 91\\nvalue = [54, 37]'),\n",
       " Text(0.1996084603278185, 0.7285714285714285, 'X[0] <= 0.399\\ngini = 0.49\\nsamples = 86\\nvalue = [49, 37]'),\n",
       " Text(0.18916740240297877, 0.7, 'X[4] <= 0.006\\ngini = 0.453\\nsamples = 52\\nvalue = [34, 18]'),\n",
       " Text(0.18425396337952477, 0.6714285714285714, 'X[4] <= 0.003\\ngini = 0.5\\nsamples = 26\\nvalue = [13, 13]'),\n",
       " Text(0.18179724386779778, 0.6428571428571429, 'X[0] <= 0.272\\ngini = 0.375\\nsamples = 12\\nvalue = [9, 3]'),\n",
       " Text(0.18056888411193428, 0.6142857142857143, 'X[0] <= 0.253\\ngini = 0.48\\nsamples = 5\\nvalue = [2, 3]'),\n",
       " Text(0.17934052435607079, 0.5857142857142857, 'X[2] <= 0.04\\ngini = 0.444\\nsamples = 3\\nvalue = [2, 1]'),\n",
       " Text(0.1781121646002073, 0.5571428571428572, 'gini = 0.0\\nsamples = 2\\nvalue = [2, 0]'),\n",
       " Text(0.18056888411193428, 0.5571428571428572, 'gini = 0.0\\nsamples = 1\\nvalue = [0, 1]'),\n",
       " Text(0.18179724386779778, 0.5857142857142857, 'gini = 0.0\\nsamples = 2\\nvalue = [0, 2]'),\n",
       " Text(0.18302560362366127, 0.6142857142857143, 'gini = 0.0\\nsamples = 7\\nvalue = [7, 0]'),\n",
       " Text(0.18671068289125178, 0.6428571428571429, 'X[0] <= 0.373\\ngini = 0.408\\nsamples = 14\\nvalue = [4, 10]'),\n",
       " Text(0.1854823231353883, 0.6142857142857143, 'X[9] <= 0.5\\ngini = 0.278\\nsamples = 12\\nvalue = [2, 10]'),\n",
       " Text(0.18425396337952477, 0.5857142857142857, 'X[3] <= 0.035\\ngini = 0.165\\nsamples = 11\\nvalue = [1, 10]'),\n",
       " Text(0.18302560362366127, 0.5571428571428572, 'gini = 0.0\\nsamples = 9\\nvalue = [0, 9]'),\n",
       " Text(0.1854823231353883, 0.5571428571428572, 'X[1] <= 0.001\\ngini = 0.5\\nsamples = 2\\nvalue = [1, 1]'),\n",
       " Text(0.18425396337952477, 0.5285714285714286, 'gini = 0.0\\nsamples = 1\\nvalue = [1, 0]'),\n",
       " Text(0.18671068289125178, 0.5285714285714286, 'gini = 0.0\\nsamples = 1\\nvalue = [0, 1]'),\n",
       " Text(0.18671068289125178, 0.5857142857142857, 'gini = 0.0\\nsamples = 1\\nvalue = [1, 0]'),\n",
       " Text(0.18793904264711528, 0.6142857142857143, 'gini = 0.0\\nsamples = 2\\nvalue = [2, 0]'),\n",
       " Text(0.19408084142643275, 0.6714285714285714, 'X[4] <= 0.011\\ngini = 0.311\\nsamples = 26\\nvalue = [21, 5]'),\n",
       " Text(0.19285248167056926, 0.6428571428571429, 'X[0] <= 0.184\\ngini = 0.219\\nsamples = 24\\nvalue = [21, 3]'),\n",
       " Text(0.19039576215884227, 0.6142857142857143, 'X[3] <= 0.005\\ngini = 0.5\\nsamples = 2\\nvalue = [1, 1]'),\n",
       " Text(0.18916740240297877, 0.5857142857142857, 'gini = 0.0\\nsamples = 1\\nvalue = [0, 1]'),\n",
       " Text(0.19162412191470576, 0.5857142857142857, 'gini = 0.0\\nsamples = 1\\nvalue = [1, 0]'),\n",
       " Text(0.19530920118229628, 0.6142857142857143, 'X[3] <= 0.019\\ngini = 0.165\\nsamples = 22\\nvalue = [20, 2]'),\n",
       " Text(0.19408084142643275, 0.5857142857142857, 'gini = 0.0\\nsamples = 11\\nvalue = [11, 0]'),\n",
       " Text(0.19653756093815977, 0.5857142857142857, 'X[3] <= 0.019\\ngini = 0.298\\nsamples = 11\\nvalue = [9, 2]'),\n",
       " Text(0.19530920118229628, 0.5571428571428572, 'gini = 0.0\\nsamples = 1\\nvalue = [0, 1]'),\n",
       " Text(0.19776592069402327, 0.5571428571428572, 'X[4] <= 0.008\\ngini = 0.18\\nsamples = 10\\nvalue = [9, 1]'),\n",
       " Text(0.19653756093815977, 0.5285714285714286, 'X[1] <= 0.0\\ngini = 0.444\\nsamples = 3\\nvalue = [2, 1]'),\n",
       " Text(0.19530920118229628, 0.5, 'gini = 0.0\\nsamples = 1\\nvalue = [0, 1]'),\n",
       " Text(0.19776592069402327, 0.5, 'gini = 0.0\\nsamples = 2\\nvalue = [2, 0]'),\n",
       " Text(0.19899428044988676, 0.5285714285714286, 'gini = 0.0\\nsamples = 7\\nvalue = [7, 0]'),\n",
       " Text(0.19530920118229628, 0.6428571428571429, 'gini = 0.0\\nsamples = 2\\nvalue = [0, 2]'),\n",
       " Text(0.21004951825265825, 0.7, 'X[1] <= 0.003\\ngini = 0.493\\nsamples = 34\\nvalue = [15, 19]'),\n",
       " Text(0.20882115849679475, 0.6714285714285714, 'X[2] <= 0.015\\ngini = 0.48\\nsamples = 25\\nvalue = [15, 10]'),\n",
       " Text(0.20636443898506776, 0.6428571428571429, 'X[0] <= 0.614\\ngini = 0.391\\nsamples = 15\\nvalue = [11, 4]'),\n",
       " Text(0.20513607922920427, 0.6142857142857143, 'X[4] <= 0.003\\ngini = 0.26\\nsamples = 13\\nvalue = [11, 2]'),\n",
       " Text(0.20390771947334074, 0.5857142857142857, 'X[2] <= 0.001\\ngini = 0.48\\nsamples = 5\\nvalue = [3, 2]'),\n",
       " Text(0.20267935971747725, 0.5571428571428572, 'X[5] <= 0.0\\ngini = 0.444\\nsamples = 3\\nvalue = [1, 2]'),\n",
       " Text(0.20145099996161375, 0.5285714285714286, 'gini = 0.0\\nsamples = 2\\nvalue = [0, 2]'),\n",
       " Text(0.20390771947334074, 0.5285714285714286, 'gini = 0.0\\nsamples = 1\\nvalue = [1, 0]'),\n",
       " Text(0.20513607922920427, 0.5571428571428572, 'gini = 0.0\\nsamples = 2\\nvalue = [2, 0]'),\n",
       " Text(0.20636443898506776, 0.5857142857142857, 'gini = 0.0\\nsamples = 8\\nvalue = [8, 0]'),\n",
       " Text(0.20759279874093126, 0.6142857142857143, 'gini = 0.0\\nsamples = 2\\nvalue = [0, 2]'),\n",
       " Text(0.21127787800852174, 0.6428571428571429, 'X[0] <= 0.563\\ngini = 0.48\\nsamples = 10\\nvalue = [4, 6]'),\n",
       " Text(0.21004951825265825, 0.6142857142857143, 'X[4] <= 0.002\\ngini = 0.245\\nsamples = 7\\nvalue = [1, 6]'),\n",
       " Text(0.20882115849679475, 0.5857142857142857, 'gini = 0.0\\nsamples = 1\\nvalue = [1, 0]'),\n",
       " Text(0.21127787800852174, 0.5857142857142857, 'gini = 0.0\\nsamples = 6\\nvalue = [0, 6]'),\n",
       " Text(0.21250623776438524, 0.6142857142857143, 'gini = 0.0\\nsamples = 3\\nvalue = [3, 0]'),\n",
       " Text(0.21127787800852174, 0.6714285714285714, 'gini = 0.0\\nsamples = 9\\nvalue = [0, 9]'),\n",
       " Text(0.2020651798395455, 0.7285714285714285, 'gini = 0.0\\nsamples = 5\\nvalue = [5, 0]'),\n",
       " Text(0.2674369505969061, 0.7857142857142857, 'X[1] <= 0.002\\ngini = 0.492\\nsamples = 209\\nvalue = [118, 91]'),\n",
       " Text(0.2569575064296956, 0.7571428571428571, 'X[3] <= 0.055\\ngini = 0.499\\nsamples = 137\\nvalue = [66, 71]'),\n",
       " Text(0.2557291466738321, 0.7285714285714285, 'X[2] <= 0.046\\ngini = 0.5\\nsamples = 132\\nvalue = [66, 66]'),\n",
       " Text(0.2485893055928755, 0.7, 'X[1] <= 0.0\\ngini = 0.499\\nsamples = 124\\nvalue = [65, 59]'),\n",
       " Text(0.23799470269855283, 0.6714285714285714, 'X[0] <= 0.57\\ngini = 0.488\\nsamples = 95\\nvalue = [55, 40]'),\n",
       " Text(0.22786073471267898, 0.6428571428571429, 'X[0] <= 0.31\\ngini = 0.474\\nsamples = 83\\nvalue = [51, 32]'),\n",
       " Text(0.21741967678783924, 0.6142857142857143, 'X[5] <= 0.002\\ngini = 0.5\\nsamples = 45\\nvalue = [23, 22]'),\n",
       " Text(0.21373459752024873, 0.5857142857142857, 'X[3] <= 0.033\\ngini = 0.401\\nsamples = 18\\nvalue = [13, 5]'),\n",
       " Text(0.21250623776438524, 0.5571428571428572, 'X[4] <= 0.0\\ngini = 0.36\\nsamples = 17\\nvalue = [13, 4]'),\n",
       " Text(0.21127787800852174, 0.5285714285714286, 'X[2] <= 0.024\\ngini = 0.444\\nsamples = 12\\nvalue = [8, 4]'),\n",
       " Text(0.20882115849679475, 0.5, 'X[5] <= 0.001\\ngini = 0.346\\nsamples = 9\\nvalue = [7, 2]'),\n",
       " Text(0.20759279874093126, 0.4714285714285714, 'gini = 0.0\\nsamples = 5\\nvalue = [5, 0]'),\n",
       " Text(0.21004951825265825, 0.4714285714285714, 'X[5] <= 0.002\\ngini = 0.5\\nsamples = 4\\nvalue = [2, 2]'),\n",
       " Text(0.20882115849679475, 0.44285714285714284, 'gini = 0.0\\nsamples = 2\\nvalue = [0, 2]'),\n",
       " Text(0.21127787800852174, 0.44285714285714284, 'gini = 0.0\\nsamples = 2\\nvalue = [2, 0]'),\n",
       " Text(0.21373459752024873, 0.5, 'X[0] <= 0.215\\ngini = 0.444\\nsamples = 3\\nvalue = [1, 2]'),\n",
       " Text(0.21250623776438524, 0.4714285714285714, 'gini = 0.0\\nsamples = 1\\nvalue = [1, 0]'),\n",
       " Text(0.21496295727611225, 0.4714285714285714, 'gini = 0.0\\nsamples = 2\\nvalue = [0, 2]'),\n",
       " Text(0.21373459752024873, 0.5285714285714286, 'gini = 0.0\\nsamples = 5\\nvalue = [5, 0]'),\n",
       " Text(0.21496295727611225, 0.5571428571428572, 'gini = 0.0\\nsamples = 1\\nvalue = [0, 1]'),\n",
       " Text(0.22110475605542973, 0.5857142857142857, 'X[0] <= 0.196\\ngini = 0.466\\nsamples = 27\\nvalue = [10, 17]'),\n",
       " Text(0.21987639629956623, 0.5571428571428572, 'gini = 0.0\\nsamples = 2\\nvalue = [2, 0]'),\n",
       " Text(0.22233311581129322, 0.5571428571428572, 'X[4] <= 0.002\\ngini = 0.435\\nsamples = 25\\nvalue = [8, 17]'),\n",
       " Text(0.21987639629956623, 0.5285714285714286, 'X[3] <= 0.043\\ngini = 0.375\\nsamples = 20\\nvalue = [5, 15]'),\n",
       " Text(0.21864803654370274, 0.5, 'X[2] <= 0.017\\ngini = 0.332\\nsamples = 19\\nvalue = [4, 15]'),\n",
       " Text(0.21741967678783924, 0.4714285714285714, 'X[2] <= 0.016\\ngini = 0.426\\nsamples = 13\\nvalue = [4, 9]'),\n",
       " Text(0.21619131703197575, 0.44285714285714284, 'X[10] <= 0.5\\ngini = 0.298\\nsamples = 11\\nvalue = [2, 9]'),\n",
       " Text(0.21496295727611225, 0.4142857142857143, 'X[3] <= 0.025\\ngini = 0.48\\nsamples = 5\\nvalue = [2, 3]'),\n",
       " Text(0.21373459752024873, 0.38571428571428573, 'gini = 0.0\\nsamples = 1\\nvalue = [1, 0]'),\n",
       " Text(0.21619131703197575, 0.38571428571428573, 'X[3] <= 0.028\\ngini = 0.375\\nsamples = 4\\nvalue = [1, 3]'),\n",
       " Text(0.21496295727611225, 0.35714285714285715, 'gini = 0.0\\nsamples = 2\\nvalue = [0, 2]'),\n",
       " Text(0.21741967678783924, 0.35714285714285715, 'X[0] <= 0.209\\ngini = 0.5\\nsamples = 2\\nvalue = [1, 1]'),\n",
       " Text(0.21619131703197575, 0.32857142857142857, 'gini = 0.0\\nsamples = 1\\nvalue = [1, 0]'),\n",
       " Text(0.21864803654370274, 0.32857142857142857, 'gini = 0.0\\nsamples = 1\\nvalue = [0, 1]'),\n",
       " Text(0.21741967678783924, 0.4142857142857143, 'gini = 0.0\\nsamples = 6\\nvalue = [0, 6]'),\n",
       " Text(0.21864803654370274, 0.44285714285714284, 'gini = 0.0\\nsamples = 2\\nvalue = [2, 0]'),\n",
       " Text(0.21987639629956623, 0.4714285714285714, 'gini = 0.0\\nsamples = 6\\nvalue = [0, 6]'),\n",
       " Text(0.22110475605542973, 0.5, 'gini = 0.0\\nsamples = 1\\nvalue = [1, 0]'),\n",
       " Text(0.22478983532302024, 0.5285714285714286, 'X[0] <= 0.259\\ngini = 0.48\\nsamples = 5\\nvalue = [3, 2]'),\n",
       " Text(0.22356147556715672, 0.5, 'gini = 0.0\\nsamples = 2\\nvalue = [2, 0]'),\n",
       " Text(0.22601819507888374, 0.5, 'X[4] <= 0.009\\ngini = 0.444\\nsamples = 3\\nvalue = [1, 2]'),\n",
       " Text(0.22478983532302024, 0.4714285714285714, 'gini = 0.0\\nsamples = 2\\nvalue = [0, 2]'),\n",
       " Text(0.22724655483474723, 0.4714285714285714, 'gini = 0.0\\nsamples = 1\\nvalue = [1, 0]'),\n",
       " Text(0.23830179263751872, 0.6142857142857143, 'X[5] <= 0.005\\ngini = 0.388\\nsamples = 38\\nvalue = [28, 10]'),\n",
       " Text(0.23707343288165522, 0.5857142857142857, 'X[0] <= 0.513\\ngini = 0.473\\nsamples = 26\\nvalue = [16, 10]'),\n",
       " Text(0.2333883536140647, 0.5571428571428572, 'X[5] <= 0.003\\ngini = 0.434\\nsamples = 22\\nvalue = [15, 7]'),\n",
       " Text(0.22970327434647422, 0.5285714285714286, 'X[5] <= 0.001\\ngini = 0.26\\nsamples = 13\\nvalue = [11, 2]'),\n",
       " Text(0.22847491459061073, 0.5, 'gini = 0.0\\nsamples = 1\\nvalue = [0, 1]'),\n",
       " Text(0.23093163410233772, 0.5, 'X[2] <= 0.026\\ngini = 0.153\\nsamples = 12\\nvalue = [11, 1]'),\n",
       " Text(0.22970327434647422, 0.4714285714285714, 'gini = 0.0\\nsamples = 9\\nvalue = [9, 0]'),\n",
       " Text(0.2321599938582012, 0.4714285714285714, 'X[2] <= 0.029\\ngini = 0.444\\nsamples = 3\\nvalue = [2, 1]'),\n",
       " Text(0.23093163410233772, 0.44285714285714284, 'gini = 0.0\\nsamples = 1\\nvalue = [0, 1]'),\n",
       " Text(0.2333883536140647, 0.44285714285714284, 'gini = 0.0\\nsamples = 2\\nvalue = [2, 0]'),\n",
       " Text(0.23707343288165522, 0.5285714285714286, 'X[0] <= 0.481\\ngini = 0.494\\nsamples = 9\\nvalue = [4, 5]'),\n",
       " Text(0.23584507312579173, 0.5, 'X[0] <= 0.323\\ngini = 0.408\\nsamples = 7\\nvalue = [2, 5]'),\n",
       " Text(0.23461671336992823, 0.4714285714285714, 'gini = 0.0\\nsamples = 1\\nvalue = [1, 0]'),\n",
       " Text(0.23707343288165522, 0.4714285714285714, 'X[2] <= 0.021\\ngini = 0.278\\nsamples = 6\\nvalue = [1, 5]'),\n",
       " Text(0.23584507312579173, 0.44285714285714284, 'gini = 0.0\\nsamples = 4\\nvalue = [0, 4]'),\n",
       " Text(0.23830179263751872, 0.44285714285714284, 'X[5] <= 0.003\\ngini = 0.5\\nsamples = 2\\nvalue = [1, 1]'),\n",
       " Text(0.23707343288165522, 0.4142857142857143, 'gini = 0.0\\nsamples = 1\\nvalue = [1, 0]'),\n",
       " Text(0.2395301523933822, 0.4142857142857143, 'gini = 0.0\\nsamples = 1\\nvalue = [0, 1]'),\n",
       " Text(0.23830179263751872, 0.5, 'gini = 0.0\\nsamples = 2\\nvalue = [2, 0]'),\n",
       " Text(0.2407585121492457, 0.5571428571428572, 'X[5] <= 0.004\\ngini = 0.375\\nsamples = 4\\nvalue = [1, 3]'),\n",
       " Text(0.2395301523933822, 0.5285714285714286, 'gini = 0.0\\nsamples = 3\\nvalue = [0, 3]'),\n",
       " Text(0.2419868719051092, 0.5285714285714286, 'gini = 0.0\\nsamples = 1\\nvalue = [1, 0]'),\n",
       " Text(0.2395301523933822, 0.5857142857142857, 'gini = 0.0\\nsamples = 12\\nvalue = [12, 0]'),\n",
       " Text(0.2481286706844267, 0.6428571428571429, 'X[4] <= 0.0\\ngini = 0.444\\nsamples = 12\\nvalue = [4, 8]'),\n",
       " Text(0.24567195117269972, 0.6142857142857143, 'X[2] <= 0.0\\ngini = 0.219\\nsamples = 8\\nvalue = [1, 7]'),\n",
       " Text(0.2444435914168362, 0.5857142857142857, 'X[3] <= 0.032\\ngini = 0.5\\nsamples = 2\\nvalue = [1, 1]'),\n",
       " Text(0.2432152316609727, 0.5571428571428572, 'gini = 0.0\\nsamples = 1\\nvalue = [1, 0]'),\n",
       " Text(0.24567195117269972, 0.5571428571428572, 'gini = 0.0\\nsamples = 1\\nvalue = [0, 1]'),\n",
       " Text(0.2469003109285632, 0.5857142857142857, 'gini = 0.0\\nsamples = 6\\nvalue = [0, 6]'),\n",
       " Text(0.2505853901961537, 0.6142857142857143, 'X[4] <= 0.004\\ngini = 0.375\\nsamples = 4\\nvalue = [3, 1]'),\n",
       " Text(0.2493570304402902, 0.5857142857142857, 'gini = 0.0\\nsamples = 3\\nvalue = [3, 0]'),\n",
       " Text(0.2518137499520172, 0.5857142857142857, 'gini = 0.0\\nsamples = 1\\nvalue = [0, 1]'),\n",
       " Text(0.2591839084871982, 0.6714285714285714, 'X[4] <= 0.0\\ngini = 0.452\\nsamples = 29\\nvalue = [10, 19]'),\n",
       " Text(0.2567271889754712, 0.6428571428571429, 'X[3] <= 0.049\\ngini = 0.291\\nsamples = 17\\nvalue = [3, 14]'),\n",
       " Text(0.2554988292196077, 0.6142857142857143, 'X[2] <= 0.026\\ngini = 0.219\\nsamples = 16\\nvalue = [2, 14]'),\n",
       " Text(0.2542704694637442, 0.5857142857142857, 'X[3] <= 0.036\\ngini = 0.124\\nsamples = 15\\nvalue = [1, 14]'),\n",
       " Text(0.2530421097078807, 0.5571428571428572, 'gini = 0.0\\nsamples = 11\\nvalue = [0, 11]'),\n",
       " Text(0.2554988292196077, 0.5571428571428572, 'X[3] <= 0.038\\ngini = 0.375\\nsamples = 4\\nvalue = [1, 3]'),\n",
       " Text(0.2542704694637442, 0.5285714285714286, 'gini = 0.0\\nsamples = 1\\nvalue = [1, 0]'),\n",
       " Text(0.2567271889754712, 0.5285714285714286, 'gini = 0.0\\nsamples = 3\\nvalue = [0, 3]'),\n",
       " Text(0.2567271889754712, 0.5857142857142857, 'gini = 0.0\\nsamples = 1\\nvalue = [1, 0]'),\n",
       " Text(0.2579555487313347, 0.6142857142857143, 'gini = 0.0\\nsamples = 1\\nvalue = [1, 0]'),\n",
       " Text(0.2616406279989252, 0.6428571428571429, 'X[0] <= 0.487\\ngini = 0.486\\nsamples = 12\\nvalue = [7, 5]'),\n",
       " Text(0.2604122682430617, 0.6142857142857143, 'X[1] <= 0.0\\ngini = 0.408\\nsamples = 7\\nvalue = [2, 5]'),\n",
       " Text(0.2591839084871982, 0.5857142857142857, 'gini = 0.0\\nsamples = 4\\nvalue = [0, 4]'),\n",
       " Text(0.2616406279989252, 0.5857142857142857, 'X[1] <= 0.001\\ngini = 0.444\\nsamples = 3\\nvalue = [2, 1]'),\n",
       " Text(0.2604122682430617, 0.5571428571428572, 'gini = 0.0\\nsamples = 2\\nvalue = [2, 0]'),\n",
       " Text(0.2628689877547887, 0.5571428571428572, 'gini = 0.0\\nsamples = 1\\nvalue = [0, 1]'),\n",
       " Text(0.2628689877547887, 0.6142857142857143, 'gini = 0.0\\nsamples = 5\\nvalue = [5, 0]'),\n",
       " Text(0.2628689877547887, 0.7, 'X[1] <= 0.0\\ngini = 0.219\\nsamples = 8\\nvalue = [1, 7]'),\n",
       " Text(0.2616406279989252, 0.6714285714285714, 'gini = 0.0\\nsamples = 7\\nvalue = [0, 7]'),\n",
       " Text(0.26409734751065217, 0.6714285714285714, 'gini = 0.0\\nsamples = 1\\nvalue = [1, 0]'),\n",
       " Text(0.2581858661855591, 0.7285714285714285, 'gini = 0.0\\nsamples = 5\\nvalue = [0, 5]'),\n",
       " Text(0.27791639476411656, 0.7571428571428571, 'X[1] <= 0.017\\ngini = 0.401\\nsamples = 72\\nvalue = [52, 20]'),\n",
       " Text(0.27668803500825306, 0.7285714285714285, 'X[3] <= 0.019\\ngini = 0.382\\nsamples = 70\\nvalue = [52, 18]'),\n",
       " Text(0.2702391462899697, 0.7, 'X[5] <= 0.002\\ngini = 0.266\\nsamples = 38\\nvalue = [32, 6]'),\n",
       " Text(0.26901078653410615, 0.6714285714285714, 'X[5] <= 0.002\\ngini = 0.42\\nsamples = 20\\nvalue = [14, 6]'),\n",
       " Text(0.26655406702237916, 0.6428571428571429, 'X[0] <= 0.449\\ngini = 0.305\\nsamples = 16\\nvalue = [13, 3]'),\n",
       " Text(0.26532570726651566, 0.6142857142857143, 'gini = 0.0\\nsamples = 8\\nvalue = [8, 0]'),\n",
       " Text(0.26778242677824265, 0.6142857142857143, 'X[0] <= 0.5\\ngini = 0.469\\nsamples = 8\\nvalue = [5, 3]'),\n",
       " Text(0.26655406702237916, 0.5857142857142857, 'gini = 0.0\\nsamples = 2\\nvalue = [0, 2]'),\n",
       " Text(0.26901078653410615, 0.5857142857142857, 'X[2] <= 0.045\\ngini = 0.278\\nsamples = 6\\nvalue = [5, 1]'),\n",
       " Text(0.26778242677824265, 0.5571428571428572, 'gini = 0.0\\nsamples = 5\\nvalue = [5, 0]'),\n",
       " Text(0.2702391462899697, 0.5571428571428572, 'gini = 0.0\\nsamples = 1\\nvalue = [0, 1]'),\n",
       " Text(0.2714675060458332, 0.6428571428571429, 'X[1] <= 0.003\\ngini = 0.375\\nsamples = 4\\nvalue = [1, 3]'),\n",
       " Text(0.2702391462899697, 0.6142857142857143, 'gini = 0.0\\nsamples = 1\\nvalue = [1, 0]'),\n",
       " Text(0.2726958658016967, 0.6142857142857143, 'gini = 0.0\\nsamples = 3\\nvalue = [0, 3]'),\n",
       " Text(0.2714675060458332, 0.6714285714285714, 'gini = 0.0\\nsamples = 18\\nvalue = [18, 0]'),\n",
       " Text(0.2831369237265364, 0.7, 'X[4] <= 0.001\\ngini = 0.469\\nsamples = 32\\nvalue = [20, 12]'),\n",
       " Text(0.27883766458101417, 0.6714285714285714, 'X[1] <= 0.007\\ngini = 0.386\\nsamples = 23\\nvalue = [17, 6]'),\n",
       " Text(0.2763809450692872, 0.6428571428571429, 'X[5] <= 0.003\\ngini = 0.469\\nsamples = 8\\nvalue = [3, 5]'),\n",
       " Text(0.2751525853134237, 0.6142857142857143, 'X[3] <= 0.03\\ngini = 0.375\\nsamples = 4\\nvalue = [3, 1]'),\n",
       " Text(0.2739242255575602, 0.5857142857142857, 'gini = 0.0\\nsamples = 1\\nvalue = [0, 1]'),\n",
       " Text(0.2763809450692872, 0.5857142857142857, 'gini = 0.0\\nsamples = 3\\nvalue = [3, 0]'),\n",
       " Text(0.27760930482515067, 0.6142857142857143, 'gini = 0.0\\nsamples = 4\\nvalue = [0, 4]'),\n",
       " Text(0.28129438409274116, 0.6428571428571429, 'X[5] <= 0.006\\ngini = 0.124\\nsamples = 15\\nvalue = [14, 1]'),\n",
       " Text(0.28006602433687766, 0.6142857142857143, 'gini = 0.0\\nsamples = 13\\nvalue = [13, 0]'),\n",
       " Text(0.28252274384860465, 0.6142857142857143, 'X[3] <= 0.041\\ngini = 0.5\\nsamples = 2\\nvalue = [1, 1]'),\n",
       " Text(0.28129438409274116, 0.5857142857142857, 'gini = 0.0\\nsamples = 1\\nvalue = [0, 1]'),\n",
       " Text(0.28375110360446815, 0.5857142857142857, 'gini = 0.0\\nsamples = 1\\nvalue = [1, 0]'),\n",
       " Text(0.28743618287205863, 0.6714285714285714, 'X[1] <= 0.004\\ngini = 0.444\\nsamples = 9\\nvalue = [3, 6]'),\n",
       " Text(0.28620782311619514, 0.6428571428571429, 'X[0] <= 0.241\\ngini = 0.375\\nsamples = 4\\nvalue = [3, 1]'),\n",
       " Text(0.28497946336033164, 0.6142857142857143, 'gini = 0.0\\nsamples = 1\\nvalue = [0, 1]'),\n",
       " Text(0.28743618287205863, 0.6142857142857143, 'gini = 0.0\\nsamples = 3\\nvalue = [3, 0]'),\n",
       " Text(0.2886645426279221, 0.6428571428571429, 'gini = 0.0\\nsamples = 5\\nvalue = [0, 5]'),\n",
       " Text(0.27914475451998005, 0.7285714285714285, 'gini = 0.0\\nsamples = 2\\nvalue = [0, 2]'),\n",
       " Text(0.2855936432382634, 0.8142857142857143, 'X[4] <= 0.001\\ngini = 0.059\\nsamples = 66\\nvalue = [2, 64]'),\n",
       " Text(0.2843652834823999, 0.7857142857142857, 'gini = 0.0\\nsamples = 49\\nvalue = [0, 49]'),\n",
       " Text(0.2868220029941269, 0.7857142857142857, 'X[4] <= 0.001\\ngini = 0.208\\nsamples = 17\\nvalue = [2, 15]'),\n",
       " Text(0.2855936432382634, 0.7571428571428571, 'gini = 0.0\\nsamples = 1\\nvalue = [1, 0]'),\n",
       " Text(0.2880503627499904, 0.7571428571428571, 'X[4] <= 0.002\\ngini = 0.117\\nsamples = 16\\nvalue = [1, 15]'),\n",
       " Text(0.2868220029941269, 0.7285714285714285, 'X[3] <= 0.085\\ngini = 0.444\\nsamples = 3\\nvalue = [1, 2]'),\n",
       " Text(0.2855936432382634, 0.7, 'gini = 0.0\\nsamples = 1\\nvalue = [1, 0]'),\n",
       " Text(0.2880503627499904, 0.7, 'gini = 0.0\\nsamples = 2\\nvalue = [0, 2]'),\n",
       " Text(0.2892787225058539, 0.7285714285714285, 'gini = 0.0\\nsamples = 13\\nvalue = [0, 13]'),\n",
       " Text(0.2892787225058539, 0.8428571428571429, 'X[0] <= 0.184\\ngini = 0.018\\nsamples = 111\\nvalue = [1, 110]'),\n",
       " Text(0.2880503627499904, 0.8142857142857143, 'gini = 0.0\\nsamples = 1\\nvalue = [1, 0]'),\n",
       " Text(0.2905070822617174, 0.8142857142857143, 'gini = 0.0\\nsamples = 110\\nvalue = [0, 110]'),\n",
       " Text(0.4001070016506084, 0.8714285714285714, 'X[2] <= 0.097\\ngini = 0.364\\nsamples = 651\\nvalue = [495, 156]'),\n",
       " Text(0.3868709454531496, 0.8428571428571429, 'X[3] <= 0.143\\ngini = 0.278\\nsamples = 575\\nvalue = [479, 96]'),\n",
       " Text(0.3856425856972861, 0.8142857142857143, 'X[5] <= 0.072\\ngini = 0.268\\nsamples = 570\\nvalue = [479, 91]'),\n",
       " Text(0.3751391501285939, 0.7857142857142857, 'X[6] <= 0.5\\ngini = 0.312\\nsamples = 449\\nvalue = [362, 87]'),\n",
       " Text(0.36211661740432227, 0.7571428571428571, 'X[0] <= 0.652\\ngini = 0.282\\nsamples = 413\\nvalue = [343, 70]'),\n",
       " Text(0.34774096963648227, 0.7285714285714285, 'X[9] <= 0.5\\ngini = 0.263\\nsamples = 386\\nvalue = [326, 60]'),\n",
       " Text(0.3306590917815055, 0.7, 'X[4] <= 0.0\\ngini = 0.241\\nsamples = 335\\nvalue = [288, 47]'),\n",
       " Text(0.31169628805036276, 0.6714285714285714, 'X[5] <= 0.029\\ngini = 0.276\\nsamples = 230\\nvalue = [192, 38]'),\n",
       " Text(0.29879851061379603, 0.6428571428571429, 'X[0] <= 0.462\\ngini = 0.349\\nsamples = 71\\nvalue = [55, 16]'),\n",
       " Text(0.2917354420175809, 0.6142857142857143, 'X[3] <= 0.0\\ngini = 0.305\\nsamples = 64\\nvalue = [52, 12]'),\n",
       " Text(0.28620782311619514, 0.5857142857142857, 'X[2] <= 0.02\\ngini = 0.465\\nsamples = 19\\nvalue = [12, 7]'),\n",
       " Text(0.28497946336033164, 0.5571428571428572, 'X[1] <= 0.004\\ngini = 0.492\\nsamples = 16\\nvalue = [9, 7]'),\n",
       " Text(0.28375110360446815, 0.5285714285714286, 'X[5] <= 0.025\\ngini = 0.497\\nsamples = 13\\nvalue = [6, 7]'),\n",
       " Text(0.28129438409274116, 0.5, 'X[1] <= 0.001\\ngini = 0.408\\nsamples = 7\\nvalue = [2, 5]'),\n",
       " Text(0.28006602433687766, 0.4714285714285714, 'gini = 0.0\\nsamples = 4\\nvalue = [0, 4]'),\n",
       " Text(0.28252274384860465, 0.4714285714285714, 'X[2] <= 0.014\\ngini = 0.444\\nsamples = 3\\nvalue = [2, 1]'),\n",
       " Text(0.28129438409274116, 0.44285714285714284, 'gini = 0.0\\nsamples = 1\\nvalue = [0, 1]'),\n",
       " Text(0.28375110360446815, 0.44285714285714284, 'gini = 0.0\\nsamples = 2\\nvalue = [2, 0]'),\n",
       " Text(0.28620782311619514, 0.5, 'X[5] <= 0.027\\ngini = 0.444\\nsamples = 6\\nvalue = [4, 2]'),\n",
       " Text(0.28497946336033164, 0.4714285714285714, 'gini = 0.0\\nsamples = 2\\nvalue = [2, 0]'),\n",
       " Text(0.28743618287205863, 0.4714285714285714, 'X[1] <= 0.0\\ngini = 0.5\\nsamples = 4\\nvalue = [2, 2]'),\n",
       " Text(0.28620782311619514, 0.44285714285714284, 'gini = 0.0\\nsamples = 1\\nvalue = [1, 0]'),\n",
       " Text(0.2886645426279221, 0.44285714285714284, 'X[2] <= 0.006\\ngini = 0.444\\nsamples = 3\\nvalue = [1, 2]'),\n",
       " Text(0.28743618287205863, 0.4142857142857143, 'gini = 0.0\\nsamples = 2\\nvalue = [0, 2]'),\n",
       " Text(0.2898929023837857, 0.4142857142857143, 'gini = 0.0\\nsamples = 1\\nvalue = [1, 0]'),\n",
       " Text(0.28620782311619514, 0.5285714285714286, 'gini = 0.0\\nsamples = 3\\nvalue = [3, 0]'),\n",
       " Text(0.28743618287205863, 0.5571428571428572, 'gini = 0.0\\nsamples = 3\\nvalue = [3, 0]'),\n",
       " Text(0.29726306091896665, 0.5857142857142857, 'X[1] <= 0.012\\ngini = 0.198\\nsamples = 45\\nvalue = [40, 5]'),\n",
       " Text(0.29357798165137616, 0.5571428571428572, 'X[3] <= 0.028\\ngini = 0.133\\nsamples = 42\\nvalue = [39, 3]'),\n",
       " Text(0.2898929023837857, 0.5285714285714286, 'X[0] <= 0.386\\ngini = 0.054\\nsamples = 36\\nvalue = [35, 1]'),\n",
       " Text(0.2886645426279221, 0.5, 'gini = 0.0\\nsamples = 31\\nvalue = [31, 0]'),\n",
       " Text(0.2911212621396492, 0.5, 'X[0] <= 0.399\\ngini = 0.32\\nsamples = 5\\nvalue = [4, 1]'),\n",
       " Text(0.2898929023837857, 0.4714285714285714, 'gini = 0.0\\nsamples = 1\\nvalue = [0, 1]'),\n",
       " Text(0.29234962189551267, 0.4714285714285714, 'gini = 0.0\\nsamples = 4\\nvalue = [4, 0]'),\n",
       " Text(0.29726306091896665, 0.5285714285714286, 'X[3] <= 0.037\\ngini = 0.444\\nsamples = 6\\nvalue = [4, 2]'),\n",
       " Text(0.29603470116310315, 0.5, 'X[0] <= 0.234\\ngini = 0.444\\nsamples = 3\\nvalue = [1, 2]'),\n",
       " Text(0.29480634140723966, 0.4714285714285714, 'gini = 0.0\\nsamples = 1\\nvalue = [1, 0]'),\n",
       " Text(0.29726306091896665, 0.4714285714285714, 'gini = 0.0\\nsamples = 2\\nvalue = [0, 2]'),\n",
       " Text(0.29849142067483014, 0.5, 'gini = 0.0\\nsamples = 3\\nvalue = [3, 0]'),\n",
       " Text(0.30094814018655713, 0.5571428571428572, 'X[1] <= 0.017\\ngini = 0.444\\nsamples = 3\\nvalue = [1, 2]'),\n",
       " Text(0.29971978043069364, 0.5285714285714286, 'gini = 0.0\\nsamples = 2\\nvalue = [0, 2]'),\n",
       " Text(0.30217649994242063, 0.5285714285714286, 'gini = 0.0\\nsamples = 1\\nvalue = [1, 0]'),\n",
       " Text(0.3058615792100111, 0.6142857142857143, 'X[3] <= 0.005\\ngini = 0.49\\nsamples = 7\\nvalue = [3, 4]'),\n",
       " Text(0.3046332194541476, 0.5857142857142857, 'X[2] <= 0.01\\ngini = 0.375\\nsamples = 4\\nvalue = [3, 1]'),\n",
       " Text(0.3034048596982841, 0.5571428571428572, 'gini = 0.0\\nsamples = 3\\nvalue = [3, 0]'),\n",
       " Text(0.3058615792100111, 0.5571428571428572, 'gini = 0.0\\nsamples = 1\\nvalue = [0, 1]'),\n",
       " Text(0.3070899389658746, 0.5857142857142857, 'gini = 0.0\\nsamples = 3\\nvalue = [0, 3]'),\n",
       " Text(0.3245940654869295, 0.6428571428571429, 'X[2] <= 0.001\\ngini = 0.238\\nsamples = 159\\nvalue = [137, 22]'),\n",
       " Text(0.3181451767686461, 0.6142857142857143, 'X[2] <= 0.0\\ngini = 0.273\\nsamples = 129\\nvalue = [108, 21]'),\n",
       " Text(0.31138919811139687, 0.5857142857142857, 'X[0] <= 0.171\\ngini = 0.209\\nsamples = 101\\nvalue = [89, 12]'),\n",
       " Text(0.3083182987217381, 0.5571428571428572, 'X[3] <= 0.001\\ngini = 0.5\\nsamples = 2\\nvalue = [1, 1]'),\n",
       " Text(0.3070899389658746, 0.5285714285714286, 'gini = 0.0\\nsamples = 1\\nvalue = [1, 0]'),\n",
       " Text(0.30954665847760165, 0.5285714285714286, 'gini = 0.0\\nsamples = 1\\nvalue = [0, 1]'),\n",
       " Text(0.31446009750105564, 0.5571428571428572, 'X[0] <= 0.589\\ngini = 0.198\\nsamples = 99\\nvalue = [88, 11]'),\n",
       " Text(0.31200337798932865, 0.5285714285714286, 'X[5] <= 0.049\\ngini = 0.175\\nsamples = 93\\nvalue = [84, 9]'),\n",
       " Text(0.31077501823346515, 0.5, 'X[5] <= 0.047\\ngini = 0.216\\nsamples = 73\\nvalue = [64, 9]'),\n",
       " Text(0.30954665847760165, 0.4714285714285714, 'X[5] <= 0.034\\ngini = 0.198\\nsamples = 72\\nvalue = [64, 8]'),\n",
       " Text(0.3083182987217381, 0.44285714285714284, 'gini = 0.0\\nsamples = 17\\nvalue = [17, 0]'),\n",
       " Text(0.31077501823346515, 0.44285714285714284, 'X[5] <= 0.036\\ngini = 0.249\\nsamples = 55\\nvalue = [47, 8]'),\n",
       " Text(0.3077041188438064, 0.4142857142857143, 'X[10] <= 0.5\\ngini = 0.49\\nsamples = 7\\nvalue = [3, 4]'),\n",
       " Text(0.3064757590879429, 0.38571428571428573, 'gini = 0.0\\nsamples = 2\\nvalue = [0, 2]'),\n",
       " Text(0.3089324785996699, 0.38571428571428573, 'X[0] <= 0.348\\ngini = 0.48\\nsamples = 5\\nvalue = [3, 2]'),\n",
       " Text(0.3077041188438064, 0.35714285714285715, 'X[5] <= 0.035\\ngini = 0.444\\nsamples = 3\\nvalue = [1, 2]'),\n",
       " Text(0.3064757590879429, 0.32857142857142857, 'gini = 0.0\\nsamples = 1\\nvalue = [1, 0]'),\n",
       " Text(0.3089324785996699, 0.32857142857142857, 'gini = 0.0\\nsamples = 2\\nvalue = [0, 2]'),\n",
       " Text(0.3101608383555334, 0.35714285714285715, 'gini = 0.0\\nsamples = 2\\nvalue = [2, 0]'),\n",
       " Text(0.31384591762312386, 0.4142857142857143, 'X[5] <= 0.04\\ngini = 0.153\\nsamples = 48\\nvalue = [44, 4]'),\n",
       " Text(0.31261755786726036, 0.38571428571428573, 'gini = 0.0\\nsamples = 29\\nvalue = [29, 0]'),\n",
       " Text(0.31507427737898736, 0.38571428571428573, 'X[5] <= 0.041\\ngini = 0.332\\nsamples = 19\\nvalue = [15, 4]'),\n",
       " Text(0.31261755786726036, 0.35714285714285715, 'X[4] <= 0.0\\ngini = 0.375\\nsamples = 4\\nvalue = [1, 3]'),\n",
       " Text(0.31138919811139687, 0.32857142857142857, 'gini = 0.0\\nsamples = 3\\nvalue = [0, 3]'),\n",
       " Text(0.31384591762312386, 0.32857142857142857, 'gini = 0.0\\nsamples = 1\\nvalue = [1, 0]'),\n",
       " Text(0.31753099689071435, 0.35714285714285715, 'X[3] <= 0.0\\ngini = 0.124\\nsamples = 15\\nvalue = [14, 1]'),\n",
       " Text(0.31630263713485085, 0.32857142857142857, 'gini = 0.0\\nsamples = 12\\nvalue = [12, 0]'),\n",
       " Text(0.31875935664657784, 0.32857142857142857, 'X[0] <= 0.468\\ngini = 0.444\\nsamples = 3\\nvalue = [2, 1]'),\n",
       " Text(0.31753099689071435, 0.3, 'gini = 0.0\\nsamples = 2\\nvalue = [2, 0]'),\n",
       " Text(0.3199877164024414, 0.3, 'gini = 0.0\\nsamples = 1\\nvalue = [0, 1]'),\n",
       " Text(0.31200337798932865, 0.4714285714285714, 'gini = 0.0\\nsamples = 1\\nvalue = [0, 1]'),\n",
       " Text(0.31323173774519214, 0.5, 'gini = 0.0\\nsamples = 20\\nvalue = [20, 0]'),\n",
       " Text(0.3169168170127826, 0.5285714285714286, 'X[5] <= 0.056\\ngini = 0.444\\nsamples = 6\\nvalue = [4, 2]'),\n",
       " Text(0.31568845725691913, 0.5, 'gini = 0.0\\nsamples = 4\\nvalue = [4, 0]'),\n",
       " Text(0.3181451767686461, 0.5, 'gini = 0.0\\nsamples = 2\\nvalue = [0, 2]'),\n",
       " Text(0.32490115542589537, 0.5857142857142857, 'X[5] <= 0.055\\ngini = 0.436\\nsamples = 28\\nvalue = [19, 9]'),\n",
       " Text(0.3236727956700319, 0.5571428571428572, 'X[5] <= 0.04\\ngini = 0.365\\nsamples = 25\\nvalue = [19, 6]'),\n",
       " Text(0.3224444359141684, 0.5285714285714286, 'X[5] <= 0.039\\ngini = 0.444\\nsamples = 18\\nvalue = [12, 6]'),\n",
       " Text(0.3212160761583049, 0.5, 'X[4] <= 0.0\\ngini = 0.375\\nsamples = 16\\nvalue = [12, 4]'),\n",
       " Text(0.3199877164024414, 0.4714285714285714, 'X[0] <= 0.247\\ngini = 0.32\\nsamples = 15\\nvalue = [12, 3]'),\n",
       " Text(0.31753099689071435, 0.44285714285714284, 'X[5] <= 0.036\\ngini = 0.5\\nsamples = 4\\nvalue = [2, 2]'),\n",
       " Text(0.31630263713485085, 0.4142857142857143, 'gini = 0.0\\nsamples = 2\\nvalue = [0, 2]'),\n",
       " Text(0.31875935664657784, 0.4142857142857143, 'gini = 0.0\\nsamples = 2\\nvalue = [2, 0]'),\n",
       " Text(0.3224444359141684, 0.44285714285714284, 'X[5] <= 0.038\\ngini = 0.165\\nsamples = 11\\nvalue = [10, 1]'),\n",
       " Text(0.3212160761583049, 0.4142857142857143, 'gini = 0.0\\nsamples = 9\\nvalue = [9, 0]'),\n",
       " Text(0.3236727956700319, 0.4142857142857143, 'X[1] <= 0.0\\ngini = 0.5\\nsamples = 2\\nvalue = [1, 1]'),\n",
       " Text(0.3224444359141684, 0.38571428571428573, 'gini = 0.0\\nsamples = 1\\nvalue = [0, 1]'),\n",
       " Text(0.32490115542589537, 0.38571428571428573, 'gini = 0.0\\nsamples = 1\\nvalue = [1, 0]'),\n",
       " Text(0.3224444359141684, 0.4714285714285714, 'gini = 0.0\\nsamples = 1\\nvalue = [0, 1]'),\n",
       " Text(0.3236727956700319, 0.5, 'gini = 0.0\\nsamples = 2\\nvalue = [0, 2]'),\n",
       " Text(0.32490115542589537, 0.5285714285714286, 'gini = 0.0\\nsamples = 7\\nvalue = [7, 0]'),\n",
       " Text(0.32612951518175887, 0.5571428571428572, 'gini = 0.0\\nsamples = 3\\nvalue = [0, 3]'),\n",
       " Text(0.33104295420521285, 0.6142857142857143, 'X[5] <= 0.031\\ngini = 0.064\\nsamples = 30\\nvalue = [29, 1]'),\n",
       " Text(0.32981459444934935, 0.5857142857142857, 'X[5] <= 0.031\\ngini = 0.245\\nsamples = 7\\nvalue = [6, 1]'),\n",
       " Text(0.32858623469348586, 0.5571428571428572, 'gini = 0.0\\nsamples = 5\\nvalue = [5, 0]'),\n",
       " Text(0.33104295420521285, 0.5571428571428572, 'X[0] <= 0.38\\ngini = 0.5\\nsamples = 2\\nvalue = [1, 1]'),\n",
       " Text(0.32981459444934935, 0.5285714285714286, 'gini = 0.0\\nsamples = 1\\nvalue = [0, 1]'),\n",
       " Text(0.33227131396107634, 0.5285714285714286, 'gini = 0.0\\nsamples = 1\\nvalue = [1, 0]'),\n",
       " Text(0.33227131396107634, 0.5857142857142857, 'gini = 0.0\\nsamples = 23\\nvalue = [23, 0]'),\n",
       " Text(0.3496218955126483, 0.6714285714285714, 'X[3] <= 0.016\\ngini = 0.157\\nsamples = 105\\nvalue = [96, 9]'),\n",
       " Text(0.34486200145867724, 0.6428571428571429, 'X[4] <= 0.01\\ngini = 0.114\\nsamples = 99\\nvalue = [93, 6]'),\n",
       " Text(0.3414840121300526, 0.6142857142857143, 'X[5] <= 0.059\\ngini = 0.098\\nsamples = 97\\nvalue = [92, 5]'),\n",
       " Text(0.3384131127403938, 0.5857142857142857, 'X[5] <= 0.018\\ngini = 0.081\\nsamples = 94\\nvalue = [90, 4]'),\n",
       " Text(0.3359563932286668, 0.5571428571428572, 'X[2] <= 0.023\\ngini = 0.32\\nsamples = 10\\nvalue = [8, 2]'),\n",
       " Text(0.33472803347280333, 0.5285714285714286, 'X[4] <= 0.002\\ngini = 0.198\\nsamples = 9\\nvalue = [8, 1]'),\n",
       " Text(0.33349967371693984, 0.5, 'X[0] <= 0.494\\ngini = 0.5\\nsamples = 2\\nvalue = [1, 1]'),\n",
       " Text(0.33227131396107634, 0.4714285714285714, 'gini = 0.0\\nsamples = 1\\nvalue = [0, 1]'),\n",
       " Text(0.33472803347280333, 0.4714285714285714, 'gini = 0.0\\nsamples = 1\\nvalue = [1, 0]'),\n",
       " Text(0.3359563932286668, 0.5, 'gini = 0.0\\nsamples = 7\\nvalue = [7, 0]'),\n",
       " Text(0.3371847529845303, 0.5285714285714286, 'gini = 0.0\\nsamples = 1\\nvalue = [0, 1]'),\n",
       " Text(0.34086983225212086, 0.5571428571428572, 'X[4] <= 0.003\\ngini = 0.046\\nsamples = 84\\nvalue = [82, 2]'),\n",
       " Text(0.33964147249625737, 0.5285714285714286, 'gini = 0.0\\nsamples = 49\\nvalue = [49, 0]'),\n",
       " Text(0.34209819200798436, 0.5285714285714286, 'X[4] <= 0.003\\ngini = 0.108\\nsamples = 35\\nvalue = [33, 2]'),\n",
       " Text(0.34086983225212086, 0.5, 'gini = 0.0\\nsamples = 1\\nvalue = [0, 1]'),\n",
       " Text(0.34332655176384785, 0.5, 'X[1] <= 0.004\\ngini = 0.057\\nsamples = 34\\nvalue = [33, 1]'),\n",
       " Text(0.34209819200798436, 0.4714285714285714, 'gini = 0.0\\nsamples = 27\\nvalue = [27, 0]'),\n",
       " Text(0.34455491151971135, 0.4714285714285714, 'X[1] <= 0.007\\ngini = 0.245\\nsamples = 7\\nvalue = [6, 1]'),\n",
       " Text(0.34332655176384785, 0.44285714285714284, 'gini = 0.0\\nsamples = 1\\nvalue = [0, 1]'),\n",
       " Text(0.34578327127557484, 0.44285714285714284, 'gini = 0.0\\nsamples = 6\\nvalue = [6, 0]'),\n",
       " Text(0.34455491151971135, 0.5857142857142857, 'X[4] <= 0.004\\ngini = 0.444\\nsamples = 3\\nvalue = [2, 1]'),\n",
       " Text(0.34332655176384785, 0.5571428571428572, 'gini = 0.0\\nsamples = 1\\nvalue = [0, 1]'),\n",
       " Text(0.34578327127557484, 0.5571428571428572, 'gini = 0.0\\nsamples = 2\\nvalue = [2, 0]'),\n",
       " Text(0.34823999078730183, 0.6142857142857143, 'X[3] <= 0.007\\ngini = 0.5\\nsamples = 2\\nvalue = [1, 1]'),\n",
       " Text(0.34701163103143834, 0.5857142857142857, 'gini = 0.0\\nsamples = 1\\nvalue = [0, 1]'),\n",
       " Text(0.34946835054316533, 0.5857142857142857, 'gini = 0.0\\nsamples = 1\\nvalue = [1, 0]'),\n",
       " Text(0.3543817895666193, 0.6428571428571429, 'X[1] <= 0.0\\ngini = 0.5\\nsamples = 6\\nvalue = [3, 3]'),\n",
       " Text(0.3531534298107558, 0.6142857142857143, 'X[2] <= 0.005\\ngini = 0.375\\nsamples = 4\\nvalue = [3, 1]'),\n",
       " Text(0.3519250700548923, 0.5857142857142857, 'gini = 0.0\\nsamples = 3\\nvalue = [3, 0]'),\n",
       " Text(0.3543817895666193, 0.5857142857142857, 'gini = 0.0\\nsamples = 1\\nvalue = [0, 1]'),\n",
       " Text(0.3556101493224828, 0.6142857142857143, 'gini = 0.0\\nsamples = 2\\nvalue = [0, 2]'),\n",
       " Text(0.36482284749145905, 0.7, 'X[4] <= 0.006\\ngini = 0.38\\nsamples = 51\\nvalue = [38, 13]'),\n",
       " Text(0.36359448773559555, 0.6714285714285714, 'X[2] <= 0.002\\ngini = 0.33\\nsamples = 48\\nvalue = [38, 10]'),\n",
       " Text(0.3592952285900733, 0.6428571428571429, 'X[0] <= 0.196\\ngini = 0.208\\nsamples = 34\\nvalue = [30, 4]'),\n",
       " Text(0.3580668688342098, 0.6142857142857143, 'gini = 0.0\\nsamples = 1\\nvalue = [0, 1]'),\n",
       " Text(0.36052358834593684, 0.6142857142857143, 'X[4] <= 0.001\\ngini = 0.165\\nsamples = 33\\nvalue = [30, 3]'),\n",
       " Text(0.3580668688342098, 0.5857142857142857, 'X[2] <= 0.001\\ngini = 0.067\\nsamples = 29\\nvalue = [28, 1]'),\n",
       " Text(0.3568385090783463, 0.5571428571428572, 'gini = 0.0\\nsamples = 25\\nvalue = [25, 0]'),\n",
       " Text(0.3592952285900733, 0.5571428571428572, 'X[5] <= 0.033\\ngini = 0.375\\nsamples = 4\\nvalue = [3, 1]'),\n",
       " Text(0.3580668688342098, 0.5285714285714286, 'X[5] <= 0.029\\ngini = 0.5\\nsamples = 2\\nvalue = [1, 1]'),\n",
       " Text(0.3568385090783463, 0.5, 'gini = 0.0\\nsamples = 1\\nvalue = [1, 0]'),\n",
       " Text(0.3592952285900733, 0.5, 'gini = 0.0\\nsamples = 1\\nvalue = [0, 1]'),\n",
       " Text(0.36052358834593684, 0.5285714285714286, 'gini = 0.0\\nsamples = 2\\nvalue = [2, 0]'),\n",
       " Text(0.36298030785766383, 0.5857142857142857, 'X[4] <= 0.003\\ngini = 0.5\\nsamples = 4\\nvalue = [2, 2]'),\n",
       " Text(0.36175194810180034, 0.5571428571428572, 'gini = 0.0\\nsamples = 2\\nvalue = [0, 2]'),\n",
       " Text(0.3642086676135273, 0.5571428571428572, 'gini = 0.0\\nsamples = 2\\nvalue = [2, 0]'),\n",
       " Text(0.3678937468811178, 0.6428571428571429, 'X[4] <= 0.001\\ngini = 0.49\\nsamples = 14\\nvalue = [8, 6]'),\n",
       " Text(0.3666653871252543, 0.6142857142857143, 'X[0] <= 0.272\\ngini = 0.48\\nsamples = 10\\nvalue = [4, 6]'),\n",
       " Text(0.3654370273693908, 0.5857142857142857, 'gini = 0.0\\nsamples = 3\\nvalue = [3, 0]'),\n",
       " Text(0.3678937468811178, 0.5857142857142857, 'X[1] <= 0.008\\ngini = 0.245\\nsamples = 7\\nvalue = [1, 6]'),\n",
       " Text(0.3666653871252543, 0.5571428571428572, 'gini = 0.0\\nsamples = 6\\nvalue = [0, 6]'),\n",
       " Text(0.3691221066369813, 0.5571428571428572, 'gini = 0.0\\nsamples = 1\\nvalue = [1, 0]'),\n",
       " Text(0.3691221066369813, 0.6142857142857143, 'gini = 0.0\\nsamples = 4\\nvalue = [4, 0]'),\n",
       " Text(0.36605120724732254, 0.6714285714285714, 'gini = 0.0\\nsamples = 3\\nvalue = [0, 3]'),\n",
       " Text(0.3764922651721623, 0.7285714285714285, 'X[0] <= 0.728\\ngini = 0.466\\nsamples = 27\\nvalue = [17, 10]'),\n",
       " Text(0.3728071859045718, 0.7, 'X[2] <= 0.0\\ngini = 0.49\\nsamples = 14\\nvalue = [6, 8]'),\n",
       " Text(0.3715788261487083, 0.6714285714285714, 'gini = 0.0\\nsamples = 5\\nvalue = [0, 5]'),\n",
       " Text(0.3740355456604353, 0.6714285714285714, 'X[1] <= 0.0\\ngini = 0.444\\nsamples = 9\\nvalue = [6, 3]'),\n",
       " Text(0.3728071859045718, 0.6428571428571429, 'X[5] <= 0.021\\ngini = 0.48\\nsamples = 5\\nvalue = [2, 3]'),\n",
       " Text(0.3715788261487083, 0.6142857142857143, 'gini = 0.0\\nsamples = 2\\nvalue = [0, 2]'),\n",
       " Text(0.3740355456604353, 0.6142857142857143, 'X[3] <= 0.0\\ngini = 0.444\\nsamples = 3\\nvalue = [2, 1]'),\n",
       " Text(0.3728071859045718, 0.5857142857142857, 'gini = 0.0\\nsamples = 2\\nvalue = [2, 0]'),\n",
       " Text(0.3752639054162988, 0.5857142857142857, 'gini = 0.0\\nsamples = 1\\nvalue = [0, 1]'),\n",
       " Text(0.3752639054162988, 0.6428571428571429, 'gini = 0.0\\nsamples = 4\\nvalue = [4, 0]'),\n",
       " Text(0.3801773444397528, 0.7, 'X[5] <= 0.018\\ngini = 0.26\\nsamples = 13\\nvalue = [11, 2]'),\n",
       " Text(0.37894898468388927, 0.6714285714285714, 'X[0] <= 0.766\\ngini = 0.444\\nsamples = 3\\nvalue = [1, 2]'),\n",
       " Text(0.37772062492802577, 0.6428571428571429, 'gini = 0.0\\nsamples = 1\\nvalue = [1, 0]'),\n",
       " Text(0.3801773444397528, 0.6428571428571429, 'gini = 0.0\\nsamples = 2\\nvalue = [0, 2]'),\n",
       " Text(0.3814057041956163, 0.6714285714285714, 'gini = 0.0\\nsamples = 10\\nvalue = [10, 0]'),\n",
       " Text(0.3881616828528655, 0.7571428571428571, 'X[4] <= 0.0\\ngini = 0.498\\nsamples = 36\\nvalue = [19, 17]'),\n",
       " Text(0.386933323097002, 0.7285714285714285, 'gini = 0.0\\nsamples = 4\\nvalue = [0, 4]'),\n",
       " Text(0.38939004260872906, 0.7285714285714285, 'X[5] <= 0.049\\ngini = 0.482\\nsamples = 32\\nvalue = [19, 13]'),\n",
       " Text(0.3863191432190703, 0.7, 'X[4] <= 0.002\\ngini = 0.488\\nsamples = 19\\nvalue = [8, 11]'),\n",
       " Text(0.3838624237073433, 0.6714285714285714, 'X[0] <= 0.677\\ngini = 0.219\\nsamples = 8\\nvalue = [1, 7]'),\n",
       " Text(0.3826340639514798, 0.6428571428571429, 'gini = 0.0\\nsamples = 7\\nvalue = [0, 7]'),\n",
       " Text(0.3850907834632068, 0.6428571428571429, 'gini = 0.0\\nsamples = 1\\nvalue = [1, 0]'),\n",
       " Text(0.3887758627307973, 0.6714285714285714, 'X[0] <= 0.5\\ngini = 0.463\\nsamples = 11\\nvalue = [7, 4]'),\n",
       " Text(0.3875475029749338, 0.6428571428571429, 'X[5] <= 0.026\\ngini = 0.346\\nsamples = 9\\nvalue = [7, 2]'),\n",
       " Text(0.3863191432190703, 0.6142857142857143, 'gini = 0.0\\nsamples = 6\\nvalue = [6, 0]'),\n",
       " Text(0.3887758627307973, 0.6142857142857143, 'X[2] <= 0.039\\ngini = 0.444\\nsamples = 3\\nvalue = [1, 2]'),\n",
       " Text(0.3875475029749338, 0.5857142857142857, 'gini = 0.0\\nsamples = 1\\nvalue = [1, 0]'),\n",
       " Text(0.3900042224866608, 0.5857142857142857, 'gini = 0.0\\nsamples = 2\\nvalue = [0, 2]'),\n",
       " Text(0.3900042224866608, 0.6428571428571429, 'gini = 0.0\\nsamples = 2\\nvalue = [0, 2]'),\n",
       " Text(0.39246094199838777, 0.7, 'X[3] <= 0.0\\ngini = 0.26\\nsamples = 13\\nvalue = [11, 2]'),\n",
       " Text(0.3912325822425243, 0.6714285714285714, 'gini = 0.0\\nsamples = 9\\nvalue = [9, 0]'),\n",
       " Text(0.39368930175425126, 0.6714285714285714, 'X[4] <= 0.004\\ngini = 0.5\\nsamples = 4\\nvalue = [2, 2]'),\n",
       " Text(0.39246094199838777, 0.6428571428571429, 'gini = 0.0\\nsamples = 2\\nvalue = [2, 0]'),\n",
       " Text(0.39491766151011476, 0.6428571428571429, 'gini = 0.0\\nsamples = 2\\nvalue = [0, 2]'),\n",
       " Text(0.39614602126597825, 0.7857142857142857, 'X[0] <= 0.196\\ngini = 0.064\\nsamples = 121\\nvalue = [117, 4]'),\n",
       " Text(0.39307512187631954, 0.7571428571428571, 'X[2] <= 0.011\\ngini = 0.444\\nsamples = 3\\nvalue = [2, 1]'),\n",
       " Text(0.39184676212045605, 0.7285714285714285, 'gini = 0.0\\nsamples = 2\\nvalue = [2, 0]'),\n",
       " Text(0.39430348163218304, 0.7285714285714285, 'gini = 0.0\\nsamples = 1\\nvalue = [0, 1]'),\n",
       " Text(0.399216920655637, 0.7571428571428571, 'X[2] <= 0.037\\ngini = 0.05\\nsamples = 118\\nvalue = [115, 3]'),\n",
       " Text(0.39676020114391003, 0.7285714285714285, 'X[3] <= 0.004\\ngini = 0.02\\nsamples = 98\\nvalue = [97, 1]'),\n",
       " Text(0.39553184138804653, 0.7, 'gini = 0.0\\nsamples = 86\\nvalue = [86, 0]'),\n",
       " Text(0.3979885608997735, 0.7, 'X[3] <= 0.005\\ngini = 0.153\\nsamples = 12\\nvalue = [11, 1]'),\n",
       " Text(0.39676020114391003, 0.6714285714285714, 'gini = 0.0\\nsamples = 1\\nvalue = [0, 1]'),\n",
       " Text(0.399216920655637, 0.6714285714285714, 'gini = 0.0\\nsamples = 11\\nvalue = [11, 0]'),\n",
       " Text(0.401673640167364, 0.7285714285714285, 'X[2] <= 0.039\\ngini = 0.18\\nsamples = 20\\nvalue = [18, 2]'),\n",
       " Text(0.4004452804115005, 0.7, 'gini = 0.0\\nsamples = 1\\nvalue = [0, 1]'),\n",
       " Text(0.4029019999232275, 0.7, 'X[2] <= 0.054\\ngini = 0.1\\nsamples = 19\\nvalue = [18, 1]'),\n",
       " Text(0.401673640167364, 0.6714285714285714, 'X[5] <= 0.089\\ngini = 0.375\\nsamples = 4\\nvalue = [3, 1]'),\n",
       " Text(0.4004452804115005, 0.6428571428571429, 'gini = 0.0\\nsamples = 1\\nvalue = [0, 1]'),\n",
       " Text(0.4029019999232275, 0.6428571428571429, 'gini = 0.0\\nsamples = 3\\nvalue = [3, 0]'),\n",
       " Text(0.404130359679091, 0.6714285714285714, 'gini = 0.0\\nsamples = 15\\nvalue = [15, 0]'),\n",
       " Text(0.3880993052090131, 0.8142857142857143, 'gini = 0.0\\nsamples = 5\\nvalue = [0, 5]'),\n",
       " Text(0.41334305784806724, 0.8428571428571429, 'X[5] <= 0.134\\ngini = 0.332\\nsamples = 76\\nvalue = [16, 60]'),\n",
       " Text(0.409043798702545, 0.8142857142857143, 'X[3] <= 0.039\\ngini = 0.067\\nsamples = 58\\nvalue = [2, 56]'),\n",
       " Text(0.406587079190818, 0.7857142857142857, 'X[2] <= 0.105\\ngini = 0.036\\nsamples = 55\\nvalue = [1, 54]'),\n",
       " Text(0.4053587194349545, 0.7571428571428571, 'X[5] <= 0.041\\ngini = 0.375\\nsamples = 4\\nvalue = [1, 3]'),\n",
       " Text(0.404130359679091, 0.7285714285714285, 'gini = 0.0\\nsamples = 3\\nvalue = [0, 3]'),\n",
       " Text(0.406587079190818, 0.7285714285714285, 'gini = 0.0\\nsamples = 1\\nvalue = [1, 0]'),\n",
       " Text(0.4078154389466815, 0.7571428571428571, 'gini = 0.0\\nsamples = 51\\nvalue = [0, 51]'),\n",
       " Text(0.411500518214272, 0.7857142857142857, 'X[3] <= 0.042\\ngini = 0.444\\nsamples = 3\\nvalue = [1, 2]'),\n",
       " Text(0.41027215845840853, 0.7571428571428571, 'gini = 0.0\\nsamples = 1\\nvalue = [1, 0]'),\n",
       " Text(0.4127288779701355, 0.7571428571428571, 'gini = 0.0\\nsamples = 2\\nvalue = [0, 2]'),\n",
       " Text(0.4176423169935895, 0.8142857142857143, 'X[2] <= 0.438\\ngini = 0.346\\nsamples = 18\\nvalue = [14, 4]'),\n",
       " Text(0.416413957237726, 0.7857142857142857, 'X[2] <= 0.309\\ngini = 0.124\\nsamples = 15\\nvalue = [14, 1]'),\n",
       " Text(0.4151855974818625, 0.7571428571428571, 'gini = 0.0\\nsamples = 12\\nvalue = [12, 0]'),\n",
       " Text(0.4176423169935895, 0.7571428571428571, 'X[0] <= 0.475\\ngini = 0.444\\nsamples = 3\\nvalue = [2, 1]'),\n",
       " Text(0.416413957237726, 0.7285714285714285, 'gini = 0.0\\nsamples = 2\\nvalue = [2, 0]'),\n",
       " Text(0.418870676749453, 0.7285714285714285, 'gini = 0.0\\nsamples = 1\\nvalue = [0, 1]'),\n",
       " Text(0.418870676749453, 0.7857142857142857, 'gini = 0.0\\nsamples = 3\\nvalue = [0, 3]'),\n",
       " Text(0.557360442017581, 0.9, 'X[2] <= 0.046\\ngini = 0.297\\nsamples = 915\\nvalue = [749, 166]'),\n",
       " Text(0.536163439023454, 0.8714285714285714, 'X[3] <= 0.056\\ngini = 0.274\\nsamples = 884\\nvalue = [739, 145]'),\n",
       " Text(0.5029821312041765, 0.8428571428571429, 'X[1] <= 0.051\\ngini = 0.254\\nsamples = 839\\nvalue = [714, 125]'),\n",
       " Text(0.4565179839545507, 0.8142857142857143, 'X[5] <= 0.003\\ngini = 0.33\\nsamples = 331\\nvalue = [262, 69]'),\n",
       " Text(0.44441672104717667, 0.7857142857142857, 'X[4] <= 0.011\\ngini = 0.367\\nsamples = 227\\nvalue = [172, 55]'),\n",
       " Text(0.4364899619976201, 0.7571428571428571, 'X[5] <= 0.0\\ngini = 0.358\\nsamples = 223\\nvalue = [171, 52]'),\n",
       " Text(0.4243215231660973, 0.7285714285714285, 'X[1] <= 0.042\\ngini = 0.313\\nsamples = 165\\nvalue = [133, 32]'),\n",
       " Text(0.4156462323903113, 0.7, 'X[3] <= 0.031\\ngini = 0.252\\nsamples = 115\\nvalue = [98, 17]'),\n",
       " Text(0.40873670876357915, 0.6714285714285714, 'X[2] <= 0.002\\ngini = 0.213\\nsamples = 99\\nvalue = [87, 12]'),\n",
       " Text(0.4053587194349545, 0.6428571428571429, 'X[4] <= 0.008\\ngini = 0.073\\nsamples = 53\\nvalue = [51, 2]'),\n",
       " Text(0.4029019999232275, 0.6142857142857143, 'X[9] <= 0.5\\ngini = 0.04\\nsamples = 49\\nvalue = [48, 1]'),\n",
       " Text(0.401673640167364, 0.5857142857142857, 'gini = 0.0\\nsamples = 38\\nvalue = [38, 0]'),\n",
       " Text(0.404130359679091, 0.5857142857142857, 'X[1] <= 0.035\\ngini = 0.165\\nsamples = 11\\nvalue = [10, 1]'),\n",
       " Text(0.4029019999232275, 0.5571428571428572, 'X[1] <= 0.034\\ngini = 0.32\\nsamples = 5\\nvalue = [4, 1]'),\n",
       " Text(0.401673640167364, 0.5285714285714286, 'gini = 0.0\\nsamples = 4\\nvalue = [4, 0]'),\n",
       " Text(0.404130359679091, 0.5285714285714286, 'gini = 0.0\\nsamples = 1\\nvalue = [0, 1]'),\n",
       " Text(0.4053587194349545, 0.5571428571428572, 'gini = 0.0\\nsamples = 6\\nvalue = [6, 0]'),\n",
       " Text(0.4078154389466815, 0.6142857142857143, 'X[0] <= 0.297\\ngini = 0.375\\nsamples = 4\\nvalue = [3, 1]'),\n",
       " Text(0.406587079190818, 0.5857142857142857, 'gini = 0.0\\nsamples = 3\\nvalue = [3, 0]'),\n",
       " Text(0.409043798702545, 0.5857142857142857, 'gini = 0.0\\nsamples = 1\\nvalue = [0, 1]'),\n",
       " Text(0.41211469809220375, 0.6428571428571429, 'X[2] <= 0.004\\ngini = 0.34\\nsamples = 46\\nvalue = [36, 10]'),\n",
       " Text(0.41088633833634025, 0.6142857142857143, 'gini = 0.0\\nsamples = 3\\nvalue = [0, 3]'),\n",
       " Text(0.41334305784806724, 0.6142857142857143, 'X[4] <= 0.0\\ngini = 0.273\\nsamples = 43\\nvalue = [36, 7]'),\n",
       " Text(0.41211469809220375, 0.5857142857142857, 'X[4] <= 0.0\\ngini = 0.358\\nsamples = 30\\nvalue = [23, 7]'),\n",
       " Text(0.409043798702545, 0.5571428571428572, 'X[2] <= 0.024\\ngini = 0.227\\nsamples = 23\\nvalue = [20, 3]'),\n",
       " Text(0.406587079190818, 0.5285714285714286, 'X[1] <= 0.041\\ngini = 0.095\\nsamples = 20\\nvalue = [19, 1]'),\n",
       " Text(0.4053587194349545, 0.5, 'gini = 0.0\\nsamples = 18\\nvalue = [18, 0]'),\n",
       " Text(0.4078154389466815, 0.5, 'X[3] <= 0.006\\ngini = 0.5\\nsamples = 2\\nvalue = [1, 1]'),\n",
       " Text(0.406587079190818, 0.4714285714285714, 'gini = 0.0\\nsamples = 1\\nvalue = [1, 0]'),\n",
       " Text(0.409043798702545, 0.4714285714285714, 'gini = 0.0\\nsamples = 1\\nvalue = [0, 1]'),\n",
       " Text(0.411500518214272, 0.5285714285714286, 'X[0] <= 0.551\\ngini = 0.444\\nsamples = 3\\nvalue = [1, 2]'),\n",
       " Text(0.41027215845840853, 0.5, 'gini = 0.0\\nsamples = 2\\nvalue = [0, 2]'),\n",
       " Text(0.4127288779701355, 0.5, 'gini = 0.0\\nsamples = 1\\nvalue = [1, 0]'),\n",
       " Text(0.4151855974818625, 0.5571428571428572, 'X[2] <= 0.007\\ngini = 0.49\\nsamples = 7\\nvalue = [3, 4]'),\n",
       " Text(0.413957237725999, 0.5285714285714286, 'gini = 0.0\\nsamples = 3\\nvalue = [0, 3]'),\n",
       " Text(0.416413957237726, 0.5285714285714286, 'X[2] <= 0.015\\ngini = 0.375\\nsamples = 4\\nvalue = [3, 1]'),\n",
       " Text(0.4151855974818625, 0.5, 'gini = 0.0\\nsamples = 3\\nvalue = [3, 0]'),\n",
       " Text(0.4176423169935895, 0.5, 'gini = 0.0\\nsamples = 1\\nvalue = [0, 1]'),\n",
       " Text(0.41457141760393074, 0.5857142857142857, 'gini = 0.0\\nsamples = 13\\nvalue = [13, 0]'),\n",
       " Text(0.4225557560170435, 0.6714285714285714, 'X[0] <= 0.475\\ngini = 0.43\\nsamples = 16\\nvalue = [11, 5]'),\n",
       " Text(0.42132739626118, 0.6428571428571429, 'X[3] <= 0.033\\ngini = 0.337\\nsamples = 14\\nvalue = [11, 3]'),\n",
       " Text(0.4200990365053165, 0.6142857142857143, 'X[1] <= 0.039\\ngini = 0.5\\nsamples = 6\\nvalue = [3, 3]'),\n",
       " Text(0.418870676749453, 0.5857142857142857, 'X[0] <= 0.405\\ngini = 0.375\\nsamples = 4\\nvalue = [1, 3]'),\n",
       " Text(0.4176423169935895, 0.5571428571428572, 'gini = 0.0\\nsamples = 3\\nvalue = [0, 3]'),\n",
       " Text(0.4200990365053165, 0.5571428571428572, 'gini = 0.0\\nsamples = 1\\nvalue = [1, 0]'),\n",
       " Text(0.42132739626118, 0.5857142857142857, 'gini = 0.0\\nsamples = 2\\nvalue = [2, 0]'),\n",
       " Text(0.4225557560170435, 0.6142857142857143, 'gini = 0.0\\nsamples = 8\\nvalue = [8, 0]'),\n",
       " Text(0.423784115772907, 0.6428571428571429, 'gini = 0.0\\nsamples = 2\\nvalue = [0, 2]'),\n",
       " Text(0.4329968139418832, 0.7, 'X[0] <= 0.513\\ngini = 0.42\\nsamples = 50\\nvalue = [35, 15]'),\n",
       " Text(0.43054009443015623, 0.6714285714285714, 'X[3] <= 0.026\\ngini = 0.351\\nsamples = 44\\nvalue = [34, 10]'),\n",
       " Text(0.42931173467429273, 0.6428571428571429, 'X[3] <= 0.003\\ngini = 0.308\\nsamples = 42\\nvalue = [34, 8]'),\n",
       " Text(0.42808337491842924, 0.6142857142857143, 'X[3] <= 0.0\\ngini = 0.408\\nsamples = 28\\nvalue = [20, 8]'),\n",
       " Text(0.4250124755287705, 0.5857142857142857, 'X[4] <= 0.0\\ngini = 0.298\\nsamples = 22\\nvalue = [18, 4]'),\n",
       " Text(0.4225557560170435, 0.5571428571428572, 'X[1] <= 0.05\\ngini = 0.117\\nsamples = 16\\nvalue = [15, 1]'),\n",
       " Text(0.42132739626118, 0.5285714285714286, 'gini = 0.0\\nsamples = 15\\nvalue = [15, 0]'),\n",
       " Text(0.423784115772907, 0.5285714285714286, 'gini = 0.0\\nsamples = 1\\nvalue = [0, 1]'),\n",
       " Text(0.42746919504049746, 0.5571428571428572, 'X[2] <= 0.0\\ngini = 0.5\\nsamples = 6\\nvalue = [3, 3]'),\n",
       " Text(0.42624083528463397, 0.5285714285714286, 'X[4] <= 0.008\\ngini = 0.375\\nsamples = 4\\nvalue = [3, 1]'),\n",
       " Text(0.4250124755287705, 0.5, 'gini = 0.0\\nsamples = 3\\nvalue = [3, 0]'),\n",
       " Text(0.42746919504049746, 0.5, 'gini = 0.0\\nsamples = 1\\nvalue = [0, 1]'),\n",
       " Text(0.42869755479636096, 0.5285714285714286, 'gini = 0.0\\nsamples = 2\\nvalue = [0, 2]'),\n",
       " Text(0.431154274308088, 0.5857142857142857, 'X[2] <= 0.0\\ngini = 0.444\\nsamples = 6\\nvalue = [2, 4]'),\n",
       " Text(0.4299259145522245, 0.5571428571428572, 'gini = 0.0\\nsamples = 2\\nvalue = [2, 0]'),\n",
       " Text(0.4323826340639515, 0.5571428571428572, 'gini = 0.0\\nsamples = 4\\nvalue = [0, 4]'),\n",
       " Text(0.43054009443015623, 0.6142857142857143, 'gini = 0.0\\nsamples = 14\\nvalue = [14, 0]'),\n",
       " Text(0.4317684541860197, 0.6428571428571429, 'gini = 0.0\\nsamples = 2\\nvalue = [0, 2]'),\n",
       " Text(0.4354535334536102, 0.6714285714285714, 'X[0] <= 0.652\\ngini = 0.278\\nsamples = 6\\nvalue = [1, 5]'),\n",
       " Text(0.4342251736977467, 0.6428571428571429, 'gini = 0.0\\nsamples = 5\\nvalue = [0, 5]'),\n",
       " Text(0.4366818932094737, 0.6428571428571429, 'gini = 0.0\\nsamples = 1\\nvalue = [1, 0]'),\n",
       " Text(0.4486584008291428, 0.7285714285714285, 'X[0] <= 0.69\\ngini = 0.452\\nsamples = 58\\nvalue = [38, 20]'),\n",
       " Text(0.4474300410732793, 0.7, 'X[5] <= 0.0\\ngini = 0.427\\nsamples = 55\\nvalue = [38, 17]'),\n",
       " Text(0.44159533223292774, 0.6714285714285714, 'X[3] <= 0.001\\ngini = 0.48\\nsamples = 10\\nvalue = [4, 6]'),\n",
       " Text(0.4391386127212007, 0.6428571428571429, 'X[2] <= 0.036\\ngini = 0.278\\nsamples = 6\\nvalue = [1, 5]'),\n",
       " Text(0.4379102529653372, 0.6142857142857143, 'gini = 0.0\\nsamples = 5\\nvalue = [0, 5]'),\n",
       " Text(0.44036697247706424, 0.6142857142857143, 'gini = 0.0\\nsamples = 1\\nvalue = [1, 0]'),\n",
       " Text(0.44405205174465473, 0.6428571428571429, 'X[1] <= 0.031\\ngini = 0.375\\nsamples = 4\\nvalue = [3, 1]'),\n",
       " Text(0.44282369198879123, 0.6142857142857143, 'gini = 0.0\\nsamples = 1\\nvalue = [0, 1]'),\n",
       " Text(0.4452804115005182, 0.6142857142857143, 'gini = 0.0\\nsamples = 3\\nvalue = [3, 0]'),\n",
       " Text(0.45326474991363097, 0.6714285714285714, 'X[3] <= 0.003\\ngini = 0.369\\nsamples = 45\\nvalue = [34, 11]'),\n",
       " Text(0.4489654907681087, 0.6428571428571429, 'X[5] <= 0.001\\ngini = 0.211\\nsamples = 25\\nvalue = [22, 3]'),\n",
       " Text(0.4477371310122452, 0.6142857142857143, 'gini = 0.0\\nsamples = 13\\nvalue = [13, 0]'),\n",
       " Text(0.4501938505239722, 0.6142857142857143, 'X[5] <= 0.002\\ngini = 0.375\\nsamples = 12\\nvalue = [9, 3]'),\n",
       " Text(0.4489654907681087, 0.5857142857142857, 'X[1] <= 0.04\\ngini = 0.5\\nsamples = 6\\nvalue = [3, 3]'),\n",
       " Text(0.4477371310122452, 0.5571428571428572, 'gini = 0.0\\nsamples = 2\\nvalue = [0, 2]'),\n",
       " Text(0.4501938505239722, 0.5571428571428572, 'X[1] <= 0.048\\ngini = 0.375\\nsamples = 4\\nvalue = [3, 1]'),\n",
       " Text(0.4489654907681087, 0.5285714285714286, 'gini = 0.0\\nsamples = 3\\nvalue = [3, 0]'),\n",
       " Text(0.4514222102798357, 0.5285714285714286, 'gini = 0.0\\nsamples = 1\\nvalue = [0, 1]'),\n",
       " Text(0.4514222102798357, 0.5857142857142857, 'gini = 0.0\\nsamples = 6\\nvalue = [6, 0]'),\n",
       " Text(0.4575640090591532, 0.6428571428571429, 'X[5] <= 0.002\\ngini = 0.48\\nsamples = 20\\nvalue = [12, 8]'),\n",
       " Text(0.4563356493032897, 0.6142857142857143, 'X[3] <= 0.005\\ngini = 0.415\\nsamples = 17\\nvalue = [12, 5]'),\n",
       " Text(0.4551072895474262, 0.5857142857142857, 'gini = 0.0\\nsamples = 1\\nvalue = [0, 1]'),\n",
       " Text(0.4575640090591532, 0.5857142857142857, 'X[0] <= 0.234\\ngini = 0.375\\nsamples = 16\\nvalue = [12, 4]'),\n",
       " Text(0.4551072895474262, 0.5571428571428572, 'X[5] <= 0.0\\ngini = 0.444\\nsamples = 3\\nvalue = [1, 2]'),\n",
       " Text(0.4538789297915627, 0.5285714285714286, 'gini = 0.0\\nsamples = 1\\nvalue = [1, 0]'),\n",
       " Text(0.4563356493032897, 0.5285714285714286, 'gini = 0.0\\nsamples = 2\\nvalue = [0, 2]'),\n",
       " Text(0.4600207285708802, 0.5571428571428572, 'X[5] <= 0.0\\ngini = 0.26\\nsamples = 13\\nvalue = [11, 2]'),\n",
       " Text(0.45879236881501667, 0.5285714285714286, 'X[10] <= 0.5\\ngini = 0.5\\nsamples = 4\\nvalue = [2, 2]'),\n",
       " Text(0.4575640090591532, 0.5, 'gini = 0.0\\nsamples = 1\\nvalue = [1, 0]'),\n",
       " Text(0.4600207285708802, 0.5, 'X[1] <= 0.025\\ngini = 0.444\\nsamples = 3\\nvalue = [1, 2]'),\n",
       " Text(0.45879236881501667, 0.4714285714285714, 'gini = 0.0\\nsamples = 1\\nvalue = [1, 0]'),\n",
       " Text(0.4612490883267437, 0.4714285714285714, 'gini = 0.0\\nsamples = 2\\nvalue = [0, 2]'),\n",
       " Text(0.4612490883267437, 0.5285714285714286, 'gini = 0.0\\nsamples = 9\\nvalue = [9, 0]'),\n",
       " Text(0.45879236881501667, 0.6142857142857143, 'gini = 0.0\\nsamples = 3\\nvalue = [0, 3]'),\n",
       " Text(0.4498867605850063, 0.7, 'gini = 0.0\\nsamples = 3\\nvalue = [0, 3]'),\n",
       " Text(0.4523434800967333, 0.7571428571428571, 'X[3] <= 0.006\\ngini = 0.375\\nsamples = 4\\nvalue = [1, 3]'),\n",
       " Text(0.4511151203408698, 0.7285714285714285, 'gini = 0.0\\nsamples = 3\\nvalue = [0, 3]'),\n",
       " Text(0.4535718398525968, 0.7285714285714285, 'gini = 0.0\\nsamples = 1\\nvalue = [1, 0]'),\n",
       " Text(0.4686192468619247, 0.7857142857142857, 'X[1] <= 0.026\\ngini = 0.233\\nsamples = 104\\nvalue = [90, 14]'),\n",
       " Text(0.4649341675943342, 0.7571428571428571, 'X[1] <= 0.025\\ngini = 0.403\\nsamples = 25\\nvalue = [18, 7]'),\n",
       " Text(0.4637058078384707, 0.7285714285714285, 'X[5] <= 0.005\\ngini = 0.34\\nsamples = 23\\nvalue = [18, 5]'),\n",
       " Text(0.4624774480826072, 0.7, 'gini = 0.0\\nsamples = 2\\nvalue = [0, 2]'),\n",
       " Text(0.4649341675943342, 0.7, 'X[4] <= 0.003\\ngini = 0.245\\nsamples = 21\\nvalue = [18, 3]'),\n",
       " Text(0.4637058078384707, 0.6714285714285714, 'X[0] <= 0.323\\ngini = 0.18\\nsamples = 20\\nvalue = [18, 2]'),\n",
       " Text(0.4624774480826072, 0.6428571428571429, 'X[0] <= 0.297\\ngini = 0.346\\nsamples = 9\\nvalue = [7, 2]'),\n",
       " Text(0.4612490883267437, 0.6142857142857143, 'gini = 0.0\\nsamples = 7\\nvalue = [7, 0]'),\n",
       " Text(0.4637058078384707, 0.6142857142857143, 'gini = 0.0\\nsamples = 2\\nvalue = [0, 2]'),\n",
       " Text(0.4649341675943342, 0.6428571428571429, 'gini = 0.0\\nsamples = 11\\nvalue = [11, 0]'),\n",
       " Text(0.4661625273501977, 0.6714285714285714, 'gini = 0.0\\nsamples = 1\\nvalue = [0, 1]'),\n",
       " Text(0.4661625273501977, 0.7285714285714285, 'gini = 0.0\\nsamples = 2\\nvalue = [0, 2]'),\n",
       " Text(0.4723043261295152, 0.7571428571428571, 'X[0] <= 0.873\\ngini = 0.162\\nsamples = 79\\nvalue = [72, 7]'),\n",
       " Text(0.4710759663736517, 0.7285714285714285, 'X[0] <= 0.386\\ngini = 0.142\\nsamples = 78\\nvalue = [72, 6]'),\n",
       " Text(0.4698476066177882, 0.7, 'X[3] <= 0.025\\ngini = 0.245\\nsamples = 42\\nvalue = [36, 6]'),\n",
       " Text(0.4686192468619247, 0.6714285714285714, 'X[0] <= 0.234\\ngini = 0.214\\nsamples = 41\\nvalue = [36, 5]'),\n",
       " Text(0.4673908871060612, 0.6428571428571429, 'gini = 0.0\\nsamples = 18\\nvalue = [18, 0]'),\n",
       " Text(0.4698476066177882, 0.6428571428571429, 'X[3] <= 0.002\\ngini = 0.34\\nsamples = 23\\nvalue = [18, 5]'),\n",
       " Text(0.4686192468619247, 0.6142857142857143, 'X[10] <= 0.5\\ngini = 0.473\\nsamples = 13\\nvalue = [8, 5]'),\n",
       " Text(0.4673908871060612, 0.5857142857142857, 'gini = 0.0\\nsamples = 2\\nvalue = [0, 2]'),\n",
       " Text(0.4698476066177882, 0.5857142857142857, 'X[0] <= 0.335\\ngini = 0.397\\nsamples = 11\\nvalue = [8, 3]'),\n",
       " Text(0.4673908871060612, 0.5571428571428572, 'X[5] <= 0.034\\ngini = 0.219\\nsamples = 8\\nvalue = [7, 1]'),\n",
       " Text(0.4661625273501977, 0.5285714285714286, 'gini = 0.0\\nsamples = 7\\nvalue = [7, 0]'),\n",
       " Text(0.4686192468619247, 0.5285714285714286, 'gini = 0.0\\nsamples = 1\\nvalue = [0, 1]'),\n",
       " Text(0.4723043261295152, 0.5571428571428572, 'X[7] <= 0.5\\ngini = 0.444\\nsamples = 3\\nvalue = [1, 2]'),\n",
       " Text(0.4710759663736517, 0.5285714285714286, 'gini = 0.0\\nsamples = 2\\nvalue = [0, 2]'),\n",
       " Text(0.47353268588537867, 0.5285714285714286, 'gini = 0.0\\nsamples = 1\\nvalue = [1, 0]'),\n",
       " Text(0.4710759663736517, 0.6142857142857143, 'gini = 0.0\\nsamples = 10\\nvalue = [10, 0]'),\n",
       " Text(0.4710759663736517, 0.6714285714285714, 'gini = 0.0\\nsamples = 1\\nvalue = [0, 1]'),\n",
       " Text(0.4723043261295152, 0.7, 'gini = 0.0\\nsamples = 36\\nvalue = [36, 0]'),\n",
       " Text(0.47353268588537867, 0.7285714285714285, 'gini = 0.0\\nsamples = 1\\nvalue = [0, 1]'),\n",
       " Text(0.5494462784538021, 0.8142857142857143, 'X[9] <= 0.5\\ngini = 0.196\\nsamples = 508\\nvalue = [452, 56]'),\n",
       " Text(0.5424455875014395, 0.7857142857142857, 'X[0] <= 0.835\\ngini = 0.185\\nsamples = 494\\nvalue = [443, 51]'),\n",
       " Text(0.5358143641318951, 0.7571428571428571, 'X[2] <= 0.038\\ngini = 0.18\\nsamples = 491\\nvalue = [442, 49]'),\n",
       " Text(0.5262369966603969, 0.7285714285714285, 'X[1] <= 0.103\\ngini = 0.174\\nsamples = 487\\nvalue = [440, 47]'),\n",
       " Text(0.510767340984991, 0.7, 'X[4] <= 0.01\\ngini = 0.217\\nsamples = 299\\nvalue = [262, 37]'),\n",
       " Text(0.5095389812291274, 0.6714285714285714, 'X[1] <= 0.102\\ngini = 0.208\\nsamples = 297\\nvalue = [262, 35]'),\n",
       " Text(0.508310621473264, 0.6428571428571429, 'X[0] <= 0.538\\ngini = 0.203\\nsamples = 296\\nvalue = [262, 34]'),\n",
       " Text(0.4945683467045411, 0.6142857142857143, 'X[0] <= 0.31\\ngini = 0.167\\nsamples = 239\\nvalue = [217, 22]'),\n",
       " Text(0.4809028444205597, 0.5857142857142857, 'X[1] <= 0.07\\ngini = 0.249\\nsamples = 103\\nvalue = [88, 15]'),\n",
       " Text(0.47721776515296915, 0.5571428571428572, 'X[3] <= 0.001\\ngini = 0.14\\nsamples = 66\\nvalue = [61, 5]'),\n",
       " Text(0.47598940539710566, 0.5285714285714286, 'X[4] <= 0.0\\ngini = 0.21\\nsamples = 42\\nvalue = [37, 5]'),\n",
       " Text(0.47476104564124216, 0.5, 'X[1] <= 0.056\\ngini = 0.34\\nsamples = 23\\nvalue = [18, 5]'),\n",
       " ...]"
      ]
     },
     "execution_count": 82,
     "metadata": {},
     "output_type": "execute_result"
    }
   ],
   "source": [
    "plot_tree(tree)"
   ]
  },
  {
   "cell_type": "code",
   "execution_count": null,
   "id": "1bbdb3d8-b89b-410b-a183-414842a100b3",
   "metadata": {},
   "outputs": [],
   "source": []
  }
 ],
 "metadata": {
  "kernelspec": {
   "display_name": "Python 3 (ipykernel)",
   "language": "python",
   "name": "python3"
  },
  "language_info": {
   "codemirror_mode": {
    "name": "ipython",
    "version": 3
   },
   "file_extension": ".py",
   "mimetype": "text/x-python",
   "name": "python",
   "nbconvert_exporter": "python",
   "pygments_lexer": "ipython3",
   "version": "3.9.13"
  }
 },
 "nbformat": 4,
 "nbformat_minor": 5
}
