{
 "cells": [
  {
   "cell_type": "code",
   "execution_count": 1,
   "id": "15fe6dd9-c218-4e86-b462-04e625befb58",
   "metadata": {},
   "outputs": [],
   "source": [
    "%matplotlib inline"
   ]
  },
  {
   "cell_type": "code",
   "execution_count": 7,
   "id": "65239f5e-c54e-4291-9e87-f8e93be3adb0",
   "metadata": {},
   "outputs": [],
   "source": [
    "import pandas as pd\n",
    "import numpy as np\n",
    "from matplotlib import pyplot as plt\n",
    "\n",
    "from scipy.stats import multivariate_normal"
   ]
  },
  {
   "cell_type": "markdown",
   "id": "f518a892-09ac-49f6-b37f-14947a41f7de",
   "metadata": {},
   "source": [
    "# Dimensionality Reduction"
   ]
  },
  {
   "cell_type": "markdown",
   "id": "e4ce1ec4-b07f-4239-b78a-fe0df3ef3464",
   "metadata": {},
   "source": [
    "## Live Demos"
   ]
  },
  {
   "cell_type": "code",
   "execution_count": 11,
   "id": "94a51b92-41df-4be5-baef-2822c9adfe0d",
   "metadata": {},
   "outputs": [
    {
     "data": {
      "text/plain": [
       "array([[-0.31454802, -0.45417573],\n",
       "       [ 1.33684127,  0.54975019],\n",
       "       [-0.39394188,  0.16572113],\n",
       "       ...,\n",
       "       [-0.30181042,  0.45749499],\n",
       "       [ 0.57752606,  0.079288  ],\n",
       "       [-0.77317984, -0.01181033]])"
      ]
     },
     "execution_count": 11,
     "metadata": {},
     "output_type": "execute_result"
    }
   ],
   "source": [
    "multivariate_normal(mean= [0, 0], cov= [[1, 0], [0, 1]]).rvs(size = 5000)"
   ]
  },
  {
   "cell_type": "code",
   "execution_count": null,
   "id": "9e919ef1-73b6-405a-aafe-3b7a7699a878",
   "metadata": {},
   "outputs": [],
   "source": []
  }
 ],
 "metadata": {
  "kernelspec": {
   "display_name": "Python 3 (ipykernel)",
   "language": "python",
   "name": "python3"
  },
  "language_info": {
   "codemirror_mode": {
    "name": "ipython",
    "version": 3
   },
   "file_extension": ".py",
   "mimetype": "text/x-python",
   "name": "python",
   "nbconvert_exporter": "python",
   "pygments_lexer": "ipython3",
   "version": "3.9.13"
  }
 },
 "nbformat": 4,
 "nbformat_minor": 5
}
