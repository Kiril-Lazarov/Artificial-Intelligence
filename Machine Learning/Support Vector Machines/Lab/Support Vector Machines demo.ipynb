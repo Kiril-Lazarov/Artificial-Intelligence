{
 "cells": [
  {
   "cell_type": "code",
   "execution_count": 6,
   "id": "a7bf5e5d-2789-43eb-83d4-a61284d9bfa5",
   "metadata": {},
   "outputs": [],
   "source": [
    "%matplotlib inline"
   ]
  },
  {
   "cell_type": "code",
   "execution_count": 124,
   "id": "e978e386-3156-4af2-ada0-7261a1902ac6",
   "metadata": {},
   "outputs": [],
   "source": [
    "import pandas as pd\n",
    "import numpy as np\n",
    "import matplotlib.pyplot as plt\n",
    "\n",
    "from sklearn.datasets import load_iris\n",
    "from sklearn.tree import DecisionTreeClassifier\n",
    "\n",
    "from sklearn.model_selection import train_test_split\n",
    "from sklearn.inspection import permutation_importance\n",
    "\n",
    "from sklearn.svm import SVC"
   ]
  },
  {
   "cell_type": "markdown",
   "id": "5e6d0671-639d-4d6a-8233-03b471e080f5",
   "metadata": {},
   "source": [
    "# Support Vector Machines "
   ]
  },
  {
   "cell_type": "markdown",
   "id": "9a1d5351-ce8d-4ad9-b7c0-8c73d3b308c9",
   "metadata": {},
   "source": [
    "## Demos"
   ]
  },
  {
   "cell_type": "code",
   "execution_count": 110,
   "id": "f1756b24-a364-4ecd-8f90-4e6976d2d0af",
   "metadata": {},
   "outputs": [],
   "source": [
    "attributes, labels = load_iris().data, load_iris().target"
   ]
  },
  {
   "cell_type": "code",
   "execution_count": 111,
   "id": "adf51568-fe37-48f9-9acc-a9b3007bcdf7",
   "metadata": {},
   "outputs": [],
   "source": [
    "attributes_train,attributes_test, labels_train, labels_test = train_test_split(attributes, labels, test_size = 0.15, stratify=labels)"
   ]
  },
  {
   "cell_type": "code",
   "execution_count": 112,
   "id": "ede73cac-52e2-48b9-bc29-4230a6acfd78",
   "metadata": {},
   "outputs": [],
   "source": [
    "tree = DecisionTreeClassifier(min_samples_leaf = 5)"
   ]
  },
  {
   "cell_type": "code",
   "execution_count": 113,
   "id": "321611c9-b59e-4ec6-8bc3-c1b5c9ea53d1",
   "metadata": {},
   "outputs": [
    {
     "data": {
      "text/plain": [
       "DecisionTreeClassifier(min_samples_leaf=5)"
      ]
     },
     "execution_count": 113,
     "metadata": {},
     "output_type": "execute_result"
    }
   ],
   "source": [
    "tree.fit(attributes_train, labels_train)"
   ]
  },
  {
   "cell_type": "code",
   "execution_count": 114,
   "id": "d5824c2f-70c6-41d4-9f0c-f96656c39ac6",
   "metadata": {},
   "outputs": [
    {
     "data": {
      "text/plain": [
       "0.9763779527559056"
      ]
     },
     "execution_count": 114,
     "metadata": {},
     "output_type": "execute_result"
    }
   ],
   "source": [
    "tree.score(attributes_train, labels_train)"
   ]
  },
  {
   "cell_type": "code",
   "execution_count": 115,
   "id": "3c02e6a1-ad45-4d3a-a78a-7deac1cea09f",
   "metadata": {},
   "outputs": [
    {
     "data": {
      "text/plain": [
       "0.8695652173913043"
      ]
     },
     "execution_count": 115,
     "metadata": {},
     "output_type": "execute_result"
    }
   ],
   "source": [
    "tree.score(attributes_test, labels_test)"
   ]
  },
  {
   "cell_type": "code",
   "execution_count": 116,
   "id": "2c610d51-5d7c-4376-8f96-bb03c47d430f",
   "metadata": {},
   "outputs": [
    {
     "data": {
      "text/plain": [
       "array([0.        , 0.        , 0.01319849, 0.98680151])"
      ]
     },
     "execution_count": 116,
     "metadata": {},
     "output_type": "execute_result"
    }
   ],
   "source": [
    "tree.feature_importances_"
   ]
  },
  {
   "cell_type": "code",
   "execution_count": 68,
   "id": "6ffba6fb-ebfb-4e0c-955b-06c38fe511ba",
   "metadata": {
    "collapsed": true,
    "jupyter": {
     "outputs_hidden": true
    },
    "tags": []
   },
   "outputs": [
    {
     "name": "stdout",
     "output_type": "stream",
     "text": [
      ".. _iris_dataset:\n",
      "\n",
      "Iris plants dataset\n",
      "--------------------\n",
      "\n",
      "**Data Set Characteristics:**\n",
      "\n",
      "    :Number of Instances: 150 (50 in each of three classes)\n",
      "    :Number of Attributes: 4 numeric, predictive attributes and the class\n",
      "    :Attribute Information:\n",
      "        - sepal length in cm\n",
      "        - sepal width in cm\n",
      "        - petal length in cm\n",
      "        - petal width in cm\n",
      "        - class:\n",
      "                - Iris-Setosa\n",
      "                - Iris-Versicolour\n",
      "                - Iris-Virginica\n",
      "                \n",
      "    :Summary Statistics:\n",
      "\n",
      "    ============== ==== ==== ======= ===== ====================\n",
      "                    Min  Max   Mean    SD   Class Correlation\n",
      "    ============== ==== ==== ======= ===== ====================\n",
      "    sepal length:   4.3  7.9   5.84   0.83    0.7826\n",
      "    sepal width:    2.0  4.4   3.05   0.43   -0.4194\n",
      "    petal length:   1.0  6.9   3.76   1.76    0.9490  (high!)\n",
      "    petal width:    0.1  2.5   1.20   0.76    0.9565  (high!)\n",
      "    ============== ==== ==== ======= ===== ====================\n",
      "\n",
      "    :Missing Attribute Values: None\n",
      "    :Class Distribution: 33.3% for each of 3 classes.\n",
      "    :Creator: R.A. Fisher\n",
      "    :Donor: Michael Marshall (MARSHALL%PLU@io.arc.nasa.gov)\n",
      "    :Date: July, 1988\n",
      "\n",
      "The famous Iris database, first used by Sir R.A. Fisher. The dataset is taken\n",
      "from Fisher's paper. Note that it's the same as in R, but not as in the UCI\n",
      "Machine Learning Repository, which has two wrong data points.\n",
      "\n",
      "This is perhaps the best known database to be found in the\n",
      "pattern recognition literature.  Fisher's paper is a classic in the field and\n",
      "is referenced frequently to this day.  (See Duda & Hart, for example.)  The\n",
      "data set contains 3 classes of 50 instances each, where each class refers to a\n",
      "type of iris plant.  One class is linearly separable from the other 2; the\n",
      "latter are NOT linearly separable from each other.\n",
      "\n",
      ".. topic:: References\n",
      "\n",
      "   - Fisher, R.A. \"The use of multiple measurements in taxonomic problems\"\n",
      "     Annual Eugenics, 7, Part II, 179-188 (1936); also in \"Contributions to\n",
      "     Mathematical Statistics\" (John Wiley, NY, 1950).\n",
      "   - Duda, R.O., & Hart, P.E. (1973) Pattern Classification and Scene Analysis.\n",
      "     (Q327.D83) John Wiley & Sons.  ISBN 0-471-22361-1.  See page 218.\n",
      "   - Dasarathy, B.V. (1980) \"Nosing Around the Neighborhood: A New System\n",
      "     Structure and Classification Rule for Recognition in Partially Exposed\n",
      "     Environments\".  IEEE Transactions on Pattern Analysis and Machine\n",
      "     Intelligence, Vol. PAMI-2, No. 1, 67-71.\n",
      "   - Gates, G.W. (1972) \"The Reduced Nearest Neighbor Rule\".  IEEE Transactions\n",
      "     on Information Theory, May 1972, 431-433.\n",
      "   - See also: 1988 MLC Proceedings, 54-64.  Cheeseman et al\"s AUTOCLASS II\n",
      "     conceptual clustering system finds 3 classes in the data.\n",
      "   - Many, many more ...\n"
     ]
    }
   ],
   "source": [
    "print(load_iris().DESCR)"
   ]
  },
  {
   "cell_type": "code",
   "execution_count": 117,
   "id": "c32e69e2-687b-43dd-9bd9-c1d742cbe410",
   "metadata": {},
   "outputs": [
    {
     "data": {
      "text/plain": [
       "{'importances_mean': array([0.        , 0.        , 0.        , 0.63307087]),\n",
       " 'importances_std': array([0.        , 0.        , 0.        , 0.03093997]),\n",
       " 'importances': array([[0.        , 0.        , 0.        , 0.        , 0.        ],\n",
       "        [0.        , 0.        , 0.        , 0.        , 0.        ],\n",
       "        [0.        , 0.        , 0.        , 0.        , 0.        ],\n",
       "        [0.62992126, 0.5984252 , 0.60629921, 0.68503937, 0.64566929]])}"
      ]
     },
     "execution_count": 117,
     "metadata": {},
     "output_type": "execute_result"
    }
   ],
   "source": [
    "permutation_importance(tree, attributes_train, labels_train)"
   ]
  },
  {
   "cell_type": "code",
   "execution_count": 118,
   "id": "c77c79f9-81ee-4fcf-aeb0-916067644dcf",
   "metadata": {},
   "outputs": [
    {
     "data": {
      "text/plain": [
       "array([0.        , 0.        , 0.        , 0.62834646])"
      ]
     },
     "execution_count": 118,
     "metadata": {},
     "output_type": "execute_result"
    }
   ],
   "source": [
    "permutation_importance(tree, attributes_train, labels_train)['importances_mean']"
   ]
  },
  {
   "cell_type": "code",
   "execution_count": 119,
   "id": "9f821ed2-e8ac-413f-9718-825ad89b145c",
   "metadata": {},
   "outputs": [],
   "source": [
    "# Creating new model without first two features -a.k.a. features selection\n",
    "tree_new = DecisionTreeClassifier(min_samples_leaf = 5)"
   ]
  },
  {
   "cell_type": "code",
   "execution_count": 120,
   "id": "74a566d7-344c-4856-adf7-2462be7f3064",
   "metadata": {},
   "outputs": [
    {
     "data": {
      "text/plain": [
       "DecisionTreeClassifier(min_samples_leaf=5)"
      ]
     },
     "execution_count": 120,
     "metadata": {},
     "output_type": "execute_result"
    }
   ],
   "source": [
    "tree_new.fit(attributes_train[:, 2:], labels_train)"
   ]
  },
  {
   "cell_type": "code",
   "execution_count": 121,
   "id": "96b863a3-1040-48cc-970d-314d65bec660",
   "metadata": {},
   "outputs": [],
   "source": [
    "# tree_new.score(attributes_train[:, 2:], labels_train)"
   ]
  },
  {
   "cell_type": "code",
   "execution_count": 122,
   "id": "dbb78845-e314-4bf1-97c0-6ec926e79a97",
   "metadata": {},
   "outputs": [
    {
     "data": {
      "text/plain": [
       "array([0.01319849, 0.98680151])"
      ]
     },
     "execution_count": 122,
     "metadata": {},
     "output_type": "execute_result"
    }
   ],
   "source": [
    "tree_new.feature_importances_"
   ]
  },
  {
   "cell_type": "code",
   "execution_count": 123,
   "id": "7556fed3-5b40-47ad-ac66-7a87f1f10f9c",
   "metadata": {},
   "outputs": [
    {
     "data": {
      "text/plain": [
       "array([0.        , 0.64818898])"
      ]
     },
     "execution_count": 123,
     "metadata": {},
     "output_type": "execute_result"
    }
   ],
   "source": [
    "permutation_importance(tree_new, attributes_train[:, 2:], labels_train,n_repeats=50)['importances_mean']"
   ]
  },
  {
   "cell_type": "code",
   "execution_count": null,
   "id": "62b21c4a-4d85-4ec2-819b-19ae5aa5270a",
   "metadata": {},
   "outputs": [],
   "source": []
  },
  {
   "cell_type": "code",
   "execution_count": 141,
   "id": "06fa52b1-fac8-4199-9782-521de7c91017",
   "metadata": {},
   "outputs": [],
   "source": [
    "linear_svm = SVC(C = 1e9, kernel='linear')"
   ]
  },
  {
   "cell_type": "code",
   "execution_count": 142,
   "id": "f92de11c-b21f-4f90-9b2c-7ac34c67172a",
   "metadata": {},
   "outputs": [
    {
     "data": {
      "text/plain": [
       "SVC(C=1000000000.0, kernel='linear')"
      ]
     },
     "execution_count": 142,
     "metadata": {},
     "output_type": "execute_result"
    }
   ],
   "source": [
    "linear_svm.fit(attributes_train, labels_train)"
   ]
  },
  {
   "cell_type": "code",
   "execution_count": 143,
   "id": "7ccda02a-4b24-4907-aad6-c50986d555ca",
   "metadata": {},
   "outputs": [
    {
     "data": {
      "text/plain": [
       "(array([[-4.61704135e-02,  5.21394693e-01, -1.00309152e+00,\n",
       "         -4.64149175e-01],\n",
       "        [-7.09388135e-03,  1.78890625e-01, -5.38427661e-01,\n",
       "         -2.92251262e-01],\n",
       "        [ 1.75748382e+00,  1.08715609e+01, -1.05321752e+01,\n",
       "         -4.21003432e+01]]),\n",
       " array([ 1.45194667,  1.50728785, 82.17591202]))"
      ]
     },
     "execution_count": 143,
     "metadata": {},
     "output_type": "execute_result"
    }
   ],
   "source": [
    "linear_svm.coef_, linear_svm.intercept_"
   ]
  },
  {
   "cell_type": "code",
   "execution_count": 144,
   "id": "67ea8aa1-20a2-412c-a9f7-7f70741a7d06",
   "metadata": {},
   "outputs": [
    {
     "data": {
      "text/plain": [
       "array([[4.5, 2.3, 1.3, 0.3],\n",
       "       [4.8, 3.4, 1.9, 0.2],\n",
       "       [5.1, 3.3, 1.7, 0.5],\n",
       "       [5.9, 3.2, 4.8, 1.8],\n",
       "       [6. , 2.7, 5.1, 1.6],\n",
       "       [5.1, 2.5, 3. , 1.1],\n",
       "       [6. , 3. , 4.8, 1.8],\n",
       "       [7.2, 3. , 5.8, 1.6],\n",
       "       [4.9, 2.5, 4.5, 1.7]])"
      ]
     },
     "execution_count": 144,
     "metadata": {},
     "output_type": "execute_result"
    }
   ],
   "source": [
    "linear_svm.support_vectors_"
   ]
  },
  {
   "cell_type": "code",
   "execution_count": null,
   "id": "dc04618a-dcf9-43a9-b3cd-f792669f6d31",
   "metadata": {},
   "outputs": [],
   "source": []
  }
 ],
 "metadata": {
  "kernelspec": {
   "display_name": "Python 3 (ipykernel)",
   "language": "python",
   "name": "python3"
  },
  "language_info": {
   "codemirror_mode": {
    "name": "ipython",
    "version": 3
   },
   "file_extension": ".py",
   "mimetype": "text/x-python",
   "name": "python",
   "nbconvert_exporter": "python",
   "pygments_lexer": "ipython3",
   "version": "3.9.13"
  }
 },
 "nbformat": 4,
 "nbformat_minor": 5
}
