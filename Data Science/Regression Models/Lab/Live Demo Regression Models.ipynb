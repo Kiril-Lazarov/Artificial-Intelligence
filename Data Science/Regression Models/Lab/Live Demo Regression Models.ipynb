{
 "cells": [
  {
   "cell_type": "code",
   "execution_count": 1,
   "id": "c345df7c-363d-497f-bb23-f1081e23325f",
   "metadata": {},
   "outputs": [],
   "source": [
    "%matplotlib inline"
   ]
  },
  {
   "cell_type": "code",
   "execution_count": 3,
   "id": "9c75e8bc-9228-4ae6-b41d-a565e0417e1e",
   "metadata": {},
   "outputs": [],
   "source": [
    "import numpy as np\n",
    "import matplotlib.pyplot as plt\n",
    "import pandas as pd"
   ]
  },
  {
   "cell_type": "markdown",
   "id": "bacb857f-9ec6-45c0-a09e-353b358852fc",
   "metadata": {},
   "source": [
    "# Live Demo Regression Models"
   ]
  },
  {
   "cell_type": "code",
   "execution_count": 19,
   "id": "2e4d43af-57ec-42e1-88d5-241b7b253d13",
   "metadata": {},
   "outputs": [],
   "source": [
    "# Data genenrating - linear function\n",
    "num_points = 100\n",
    "x = np.linspace(-3, 3, num_points)\n",
    "y = 2 * x + 3\n",
    "\n",
    "#Create noise - loc = 0 is the average value of the noise\n",
    "y_noise = np.random.normal(loc = 0, scale = 1, size = num_points)\n",
    "y += y_noise"
   ]
  },
  {
   "cell_type": "code",
   "execution_count": 20,
   "id": "979927b0-cedd-4d0d-8590-dc7ddc1b43b0",
   "metadata": {},
   "outputs": [
    {
     "data": {
      "image/png": "[encoded data removed]",
      "text/plain": [
       "<Figure size 640x480 with 1 Axes>"
      ]
     },
     "metadata": {},
     "output_type": "display_data"
    }
   ],
   "source": [
    "plt.scatter(x, y, c = 'r', s = 1)\n",
    "plt.show()"
   ]
  },
  {
   "cell_type": "code",
   "execution_count": null,
   "id": "4c18ac44-d706-41af-ba9f-e1688f0c9aec",
   "metadata": {},
   "outputs": [],
   "source": []
  },
  {
   "cell_type": "code",
   "execution_count": null,
   "id": "14d97ac8-b135-43b4-b5f7-a0abcb350456",
   "metadata": {},
   "outputs": [],
   "source": []
  }
 ],
 "metadata": {
  "kernelspec": {
   "display_name": "Python 3 (ipykernel)",
   "language": "python",
   "name": "python3"
  },
  "language_info": {
   "codemirror_mode": {
    "name": "ipython",
    "version": 3
   },
   "file_extension": ".py",
   "mimetype": "text/x-python",
   "name": "python",
   "nbconvert_exporter": "python",
   "pygments_lexer": "ipython3",
   "version": "3.9.13"
  }
 },
 "nbformat": 4,
 "nbformat_minor": 5
}
