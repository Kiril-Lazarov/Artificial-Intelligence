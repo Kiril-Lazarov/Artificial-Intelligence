{
 "cells": [
  {
   "cell_type": "code",
   "execution_count": 1,
   "id": "01b995b3-4063-4985-8ab5-180454981832",
   "metadata": {},
   "outputs": [],
   "source": [
    "%matplotlib inline  "
   ]
  },
  {
   "cell_type": "code",
   "execution_count": 3,
   "id": "1ae9c0c1-4044-4456-abef-2cfc07d6b4cb",
   "metadata": {},
   "outputs": [],
   "source": [
    "import matplotlib.pyplot as plt\n",
    "import numpy as np\n",
    "import pandas as pd\n",
    "\n",
    "from skimage.io import imread"
   ]
  },
  {
   "cell_type": "markdown",
   "id": "cc771284-b2b0-45da-8cc3-32c1aeec3ba4",
   "metadata": {},
   "source": [
    "# Live Demo Working with Images and Text"
   ]
  },
  {
   "cell_type": "code",
   "execution_count": 6,
   "id": "4f005bad-4979-4090-9173-ba3a216431da",
   "metadata": {},
   "outputs": [],
   "source": [
    "tiger_image = imread('Data/tiger.jpg')"
   ]
  },
  {
   "cell_type": "code",
   "execution_count": 8,
   "id": "0e8406e9-afad-455d-8312-8bb158d349f5",
   "metadata": {},
   "outputs": [
    {
     "data": {
      "text/plain": [
       "(600, 580, 3)"
      ]
     },
     "execution_count": 8,
     "metadata": {},
     "output_type": "execute_result"
    }
   ],
   "source": [
    "tiger_image.shape"
   ]
  },
  {
   "cell_type": "code",
   "execution_count": 10,
   "id": "02642d58-1fc3-4e1c-87eb-ec54761c2fea",
   "metadata": {},
   "outputs": [
    {
     "data": {
      "text/plain": [
       "dtype('uint8')"
      ]
     },
     "execution_count": 10,
     "metadata": {},
     "output_type": "execute_result"
    }
   ],
   "source": [
    "tiger_image.dtype"
   ]
  }
 ],
 "metadata": {
  "kernelspec": {
   "display_name": "Python 3 (ipykernel)",
   "language": "python",
   "name": "python3"
  },
  "language_info": {
   "codemirror_mode": {
    "name": "ipython",
    "version": 3
   },
   "file_extension": ".py",
   "mimetype": "text/x-python",
   "name": "python",
   "nbconvert_exporter": "python",
   "pygments_lexer": "ipython3",
   "version": "3.9.13"
  }
 },
 "nbformat": 4,
 "nbformat_minor": 5
}
