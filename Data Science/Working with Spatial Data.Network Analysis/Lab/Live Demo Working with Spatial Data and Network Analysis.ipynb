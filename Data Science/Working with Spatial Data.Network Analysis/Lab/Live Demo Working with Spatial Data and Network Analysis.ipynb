{
 "cells": [
  {
   "cell_type": "code",
   "execution_count": 1,
   "id": "2fee44b6-77d2-4c1c-8a76-9027029ebaeb",
   "metadata": {},
   "outputs": [],
   "source": [
    "%matplotlib inline"
   ]
  },
  {
   "cell_type": "code",
   "execution_count": 2,
   "id": "42bbd0dd-c9da-4d37-9185-a5616030057f",
   "metadata": {},
   "outputs": [],
   "source": [
    "import matplotlib.pyplot as plt\n",
    "import numpy as np\n",
    "import pandas as pd"
   ]
  },
  {
   "cell_type": "markdown",
   "id": "4dc33801-a82a-4bf2-94f0-dc8dd731c567",
   "metadata": {},
   "source": [
    "# Live Demo Working with Spatial Data. Network Analysis"
   ]
  },
  {
   "cell_type": "code",
   "execution_count": null,
   "id": "4db0a1a3-5064-411d-a1f1-f6bcdb6d22d1",
   "metadata": {},
   "outputs": [],
   "source": []
  }
 ],
 "metadata": {
  "kernelspec": {
   "display_name": "Python 3 (ipykernel)",
   "language": "python",
   "name": "python3"
  },
  "language_info": {
   "codemirror_mode": {
    "name": "ipython",
    "version": 3
   },
   "file_extension": ".py",
   "mimetype": "text/x-python",
   "name": "python",
   "nbconvert_exporter": "python",
   "pygments_lexer": "ipython3",
   "version": "3.9.13"
  }
 },
 "nbformat": 4,
 "nbformat_minor": 5
}
