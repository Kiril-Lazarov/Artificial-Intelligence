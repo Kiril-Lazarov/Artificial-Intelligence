{
 "cells": [
  {
   "cell_type": "code",
   "execution_count": 1,
   "metadata": {},
   "outputs": [],
   "source": [
    "%matplotlib inline"
   ]
  },
  {
   "cell_type": "code",
   "execution_count": 2,
   "metadata": {},
   "outputs": [
    {
     "name": "stderr",
     "output_type": "stream",
     "text": [
      "C:\\Users\\lenovo\\anaconda3\\lib\\site-packages\\paramiko\\transport.py:219: CryptographyDeprecationWarning: Blowfish has been deprecated\n",
      "  \"class\": algorithms.Blowfish,\n"
     ]
    }
   ],
   "source": [
    "import numpy as np\n",
    "import pandas as pd\n",
    "import matplotlib.pyplot as plt\n",
    "\n",
    "from nose.tools import *\n",
    "\n",
    "import geopandas as gpd\n",
    "import geodatasets\n",
    "\n",
    "from shapely.geometry import Point\n",
    "\n",
    "import networkx as nx\n",
    "# Write your imports here"
   ]
  },
  {
   "cell_type": "markdown",
   "metadata": {},
   "source": [
    "# Working with Spatial Data and Networks Lab\n",
    "## Preparing data, extracting features, visualization and modelling"
   ]
  },
  {
   "cell_type": "markdown",
   "metadata": {},
   "source": [
    "In this lab we'll explore terrorism, as described in [this](https://www.kaggle.com/START-UMD/gtd) dataset.\n",
    "\n",
    "The full codebook, describing all variables, their values, the data collection process, and many more details, is located [here](http://start.umd.edu/gtd/downloads/Codebook.pdf).\n",
    "\n",
    "We'll perform our usual process:\n",
    "* Reading and inspecting the data\n",
    "* Validating the data\n",
    "* Exploring the data\n",
    "* Creating inferences and getting to conclusions"
   ]
  },
  {
   "cell_type": "markdown",
   "metadata": {},
   "source": [
    "### Problem 1. Read the dataset (1 point)\n",
    "The dataset is provided in the `data` folder. Read it into Python. You'll likely get an encoding error, so you can use `encoding = \"cp1252\"`.\n",
    "\n",
    "Use the column `eventid` as the index, since this is a good unique identifier and it's used in the dataset (e.g. the column `related` contains the `eventid` of all related crimes).\n",
    "\n",
    "You'll see the dataset has a lot of columns. For this lab, we aren't going to need all of them, only a few. Select these columns (and rename them as described in the tests below):\n",
    "* eventid\n",
    "* iyear, imonth, iday\n",
    "* country_txt\n",
    "* region_txt\n",
    "* multiple (1 if it's a part of a multiple incident and 0 otherwise)\n",
    "* latitude, longitude\n",
    "* targtype1_txt (first target type)\n",
    "* weaptype1_text (weapon type)\n",
    "* gname (perpetrator group name)\n",
    "* nkill (total number of fatalities)\n",
    "* related (IDs of the related incidents)\n",
    "\n",
    "You'll have a total of 13 columns (the eventid which will become an index is not considered a typical column in a dataframe) and just over 170 thousand records."
   ]
  },
  {
   "cell_type": "code",
   "execution_count": 150,
   "metadata": {
    "deletable": false,
    "nbgrader": {
     "checksum": "d40e4c21756633b9aa5581db79f80450",
     "grade": false,
     "grade_id": "cell-1c744200bd2b910d",
     "locked": false,
     "schema_version": 1,
     "solution": true
    }
   },
   "outputs": [],
   "source": [
    "terrorism_data = pd.read_csv('Data/globalterrorismdb.csv', encoding = \"cp1252\", low_memory = False)"
   ]
  },
  {
   "cell_type": "code",
   "execution_count": 151,
   "metadata": {},
   "outputs": [],
   "source": [
    "weapon_type = terrorism_data.weaptype1_txt"
   ]
  },
  {
   "cell_type": "code",
   "execution_count": 152,
   "metadata": {},
   "outputs": [],
   "source": [
    "columns =  [\"eventid\", \"iyear\", \"imonth\", \"iday\", \"country_txt\", \"region_txt\", \"multiple\", \n",
    "            \"latitude\", \"longitude\", \"targtype1_txt\", \"weaptype1_text\", \"gname\", \"nkill\",\"related\"]                                            "
   ]
  },
  {
   "cell_type": "code",
   "execution_count": 153,
   "metadata": {},
   "outputs": [
    {
     "data": {
      "text/plain": [
       "['eventid',\n",
       " 'iyear',\n",
       " 'imonth',\n",
       " 'iday',\n",
       " 'country_txt',\n",
       " 'region_txt',\n",
       " 'multiple',\n",
       " 'latitude',\n",
       " 'longitude',\n",
       " 'targtype1_txt',\n",
       " 'weaptype1_text',\n",
       " 'gname',\n",
       " 'nkill',\n",
       " 'related']"
      ]
     },
     "execution_count": 153,
     "metadata": {},
     "output_type": "execute_result"
    }
   ],
   "source": [
    "columns"
   ]
  },
  {
   "cell_type": "code",
   "execution_count": 154,
   "metadata": {},
   "outputs": [
    {
     "data": {
      "text/html": [
       "<div>\n",
       "<style scoped>\n",
       "    .dataframe tbody tr th:only-of-type {\n",
       "        vertical-align: middle;\n",
       "    }\n",
       "\n",
       "    .dataframe tbody tr th {\n",
       "        vertical-align: top;\n",
       "    }\n",
       "\n",
       "    .dataframe thead th {\n",
       "        text-align: right;\n",
       "    }\n",
       "</style>\n",
       "<table border=\"1\" class=\"dataframe\">\n",
       "  <thead>\n",
       "    <tr style=\"text-align: right;\">\n",
       "      <th></th>\n",
       "      <th>eventid</th>\n",
       "      <th>iyear</th>\n",
       "      <th>imonth</th>\n",
       "      <th>iday</th>\n",
       "      <th>approxdate</th>\n",
       "      <th>extended</th>\n",
       "      <th>resolution</th>\n",
       "      <th>country</th>\n",
       "      <th>country_txt</th>\n",
       "      <th>region</th>\n",
       "      <th>...</th>\n",
       "      <th>addnotes</th>\n",
       "      <th>scite1</th>\n",
       "      <th>scite2</th>\n",
       "      <th>scite3</th>\n",
       "      <th>dbsource</th>\n",
       "      <th>INT_LOG</th>\n",
       "      <th>INT_IDEO</th>\n",
       "      <th>INT_MISC</th>\n",
       "      <th>INT_ANY</th>\n",
       "      <th>related</th>\n",
       "    </tr>\n",
       "  </thead>\n",
       "  <tbody>\n",
       "    <tr>\n",
       "      <th>0</th>\n",
       "      <td>197000000001</td>\n",
       "      <td>1970</td>\n",
       "      <td>7</td>\n",
       "      <td>2</td>\n",
       "      <td>NaN</td>\n",
       "      <td>0</td>\n",
       "      <td>NaN</td>\n",
       "      <td>58</td>\n",
       "      <td>Dominican Republic</td>\n",
       "      <td>2</td>\n",
       "      <td>...</td>\n",
       "      <td>NaN</td>\n",
       "      <td>NaN</td>\n",
       "      <td>NaN</td>\n",
       "      <td>NaN</td>\n",
       "      <td>PGIS</td>\n",
       "      <td>0</td>\n",
       "      <td>0</td>\n",
       "      <td>0</td>\n",
       "      <td>0</td>\n",
       "      <td>NaN</td>\n",
       "    </tr>\n",
       "    <tr>\n",
       "      <th>1</th>\n",
       "      <td>197000000002</td>\n",
       "      <td>1970</td>\n",
       "      <td>0</td>\n",
       "      <td>0</td>\n",
       "      <td>NaN</td>\n",
       "      <td>0</td>\n",
       "      <td>NaN</td>\n",
       "      <td>130</td>\n",
       "      <td>Mexico</td>\n",
       "      <td>1</td>\n",
       "      <td>...</td>\n",
       "      <td>NaN</td>\n",
       "      <td>NaN</td>\n",
       "      <td>NaN</td>\n",
       "      <td>NaN</td>\n",
       "      <td>PGIS</td>\n",
       "      <td>0</td>\n",
       "      <td>1</td>\n",
       "      <td>1</td>\n",
       "      <td>1</td>\n",
       "      <td>NaN</td>\n",
       "    </tr>\n",
       "    <tr>\n",
       "      <th>2</th>\n",
       "      <td>197001000001</td>\n",
       "      <td>1970</td>\n",
       "      <td>1</td>\n",
       "      <td>0</td>\n",
       "      <td>NaN</td>\n",
       "      <td>0</td>\n",
       "      <td>NaN</td>\n",
       "      <td>160</td>\n",
       "      <td>Philippines</td>\n",
       "      <td>5</td>\n",
       "      <td>...</td>\n",
       "      <td>NaN</td>\n",
       "      <td>NaN</td>\n",
       "      <td>NaN</td>\n",
       "      <td>NaN</td>\n",
       "      <td>PGIS</td>\n",
       "      <td>-9</td>\n",
       "      <td>-9</td>\n",
       "      <td>1</td>\n",
       "      <td>1</td>\n",
       "      <td>NaN</td>\n",
       "    </tr>\n",
       "    <tr>\n",
       "      <th>3</th>\n",
       "      <td>197001000002</td>\n",
       "      <td>1970</td>\n",
       "      <td>1</td>\n",
       "      <td>0</td>\n",
       "      <td>NaN</td>\n",
       "      <td>0</td>\n",
       "      <td>NaN</td>\n",
       "      <td>78</td>\n",
       "      <td>Greece</td>\n",
       "      <td>8</td>\n",
       "      <td>...</td>\n",
       "      <td>NaN</td>\n",
       "      <td>NaN</td>\n",
       "      <td>NaN</td>\n",
       "      <td>NaN</td>\n",
       "      <td>PGIS</td>\n",
       "      <td>-9</td>\n",
       "      <td>-9</td>\n",
       "      <td>1</td>\n",
       "      <td>1</td>\n",
       "      <td>NaN</td>\n",
       "    </tr>\n",
       "    <tr>\n",
       "      <th>4</th>\n",
       "      <td>197001000003</td>\n",
       "      <td>1970</td>\n",
       "      <td>1</td>\n",
       "      <td>0</td>\n",
       "      <td>NaN</td>\n",
       "      <td>0</td>\n",
       "      <td>NaN</td>\n",
       "      <td>101</td>\n",
       "      <td>Japan</td>\n",
       "      <td>4</td>\n",
       "      <td>...</td>\n",
       "      <td>NaN</td>\n",
       "      <td>NaN</td>\n",
       "      <td>NaN</td>\n",
       "      <td>NaN</td>\n",
       "      <td>PGIS</td>\n",
       "      <td>-9</td>\n",
       "      <td>-9</td>\n",
       "      <td>1</td>\n",
       "      <td>1</td>\n",
       "      <td>NaN</td>\n",
       "    </tr>\n",
       "    <tr>\n",
       "      <th>...</th>\n",
       "      <td>...</td>\n",
       "      <td>...</td>\n",
       "      <td>...</td>\n",
       "      <td>...</td>\n",
       "      <td>...</td>\n",
       "      <td>...</td>\n",
       "      <td>...</td>\n",
       "      <td>...</td>\n",
       "      <td>...</td>\n",
       "      <td>...</td>\n",
       "      <td>...</td>\n",
       "      <td>...</td>\n",
       "      <td>...</td>\n",
       "      <td>...</td>\n",
       "      <td>...</td>\n",
       "      <td>...</td>\n",
       "      <td>...</td>\n",
       "      <td>...</td>\n",
       "      <td>...</td>\n",
       "      <td>...</td>\n",
       "      <td>...</td>\n",
       "    </tr>\n",
       "    <tr>\n",
       "      <th>170345</th>\n",
       "      <td>201612310040</td>\n",
       "      <td>2016</td>\n",
       "      <td>12</td>\n",
       "      <td>31</td>\n",
       "      <td>NaN</td>\n",
       "      <td>0</td>\n",
       "      <td>NaN</td>\n",
       "      <td>146</td>\n",
       "      <td>Niger</td>\n",
       "      <td>11</td>\n",
       "      <td>...</td>\n",
       "      <td>NaN</td>\n",
       "      <td>\"15 soldiers killed, 19 injured in Niger terro...</td>\n",
       "      <td>\"Niger: Boko Haram attack kills two soldiers i...</td>\n",
       "      <td>NaN</td>\n",
       "      <td>START Primary Collection</td>\n",
       "      <td>1</td>\n",
       "      <td>1</td>\n",
       "      <td>0</td>\n",
       "      <td>1</td>\n",
       "      <td>NaN</td>\n",
       "    </tr>\n",
       "    <tr>\n",
       "      <th>170346</th>\n",
       "      <td>201612310042</td>\n",
       "      <td>2016</td>\n",
       "      <td>12</td>\n",
       "      <td>31</td>\n",
       "      <td>NaN</td>\n",
       "      <td>0</td>\n",
       "      <td>NaN</td>\n",
       "      <td>160</td>\n",
       "      <td>Philippines</td>\n",
       "      <td>5</td>\n",
       "      <td>...</td>\n",
       "      <td>NaN</td>\n",
       "      <td>\"AFP braces for more BIFF attacks in ARMM,\" Ma...</td>\n",
       "      <td>\"Asia: US Army ASD Philippine Terrorist Media ...</td>\n",
       "      <td>NaN</td>\n",
       "      <td>START Primary Collection</td>\n",
       "      <td>-9</td>\n",
       "      <td>-9</td>\n",
       "      <td>0</td>\n",
       "      <td>-9</td>\n",
       "      <td>NaN</td>\n",
       "    </tr>\n",
       "    <tr>\n",
       "      <th>170347</th>\n",
       "      <td>201612310043</td>\n",
       "      <td>2016</td>\n",
       "      <td>12</td>\n",
       "      <td>31</td>\n",
       "      <td>NaN</td>\n",
       "      <td>1</td>\n",
       "      <td>NaN</td>\n",
       "      <td>229</td>\n",
       "      <td>Democratic Republic of the Congo</td>\n",
       "      <td>11</td>\n",
       "      <td>...</td>\n",
       "      <td>NaN</td>\n",
       "      <td>\"DRC Armed Forces Dislodge Ugandan LRA Rebels ...</td>\n",
       "      <td>NaN</td>\n",
       "      <td>NaN</td>\n",
       "      <td>START Primary Collection</td>\n",
       "      <td>1</td>\n",
       "      <td>1</td>\n",
       "      <td>0</td>\n",
       "      <td>1</td>\n",
       "      <td>NaN</td>\n",
       "    </tr>\n",
       "    <tr>\n",
       "      <th>170348</th>\n",
       "      <td>201612310044</td>\n",
       "      <td>2016</td>\n",
       "      <td>12</td>\n",
       "      <td>31</td>\n",
       "      <td>NaN</td>\n",
       "      <td>0</td>\n",
       "      <td>NaN</td>\n",
       "      <td>130</td>\n",
       "      <td>Mexico</td>\n",
       "      <td>1</td>\n",
       "      <td>...</td>\n",
       "      <td>There is doubt that this incident meets terror...</td>\n",
       "      <td>\"Gunmen shoot at home of Mexican indigenous ri...</td>\n",
       "      <td>\"– Gunmen shoot at home of Mexican indigenous ...</td>\n",
       "      <td>NaN</td>\n",
       "      <td>START Primary Collection</td>\n",
       "      <td>-9</td>\n",
       "      <td>-9</td>\n",
       "      <td>0</td>\n",
       "      <td>-9</td>\n",
       "      <td>NaN</td>\n",
       "    </tr>\n",
       "    <tr>\n",
       "      <th>170349</th>\n",
       "      <td>201701270001</td>\n",
       "      <td>2016</td>\n",
       "      <td>12</td>\n",
       "      <td>30</td>\n",
       "      <td>NaN</td>\n",
       "      <td>0</td>\n",
       "      <td>NaN</td>\n",
       "      <td>195</td>\n",
       "      <td>Sudan</td>\n",
       "      <td>11</td>\n",
       "      <td>...</td>\n",
       "      <td>There is doubt that this incident meets terror...</td>\n",
       "      <td>\"Rebels To Blame For Nierteti Killing: Central...</td>\n",
       "      <td>\"Security deteriorates in West Darfur alongsid...</td>\n",
       "      <td>NaN</td>\n",
       "      <td>START Primary Collection</td>\n",
       "      <td>0</td>\n",
       "      <td>0</td>\n",
       "      <td>0</td>\n",
       "      <td>0</td>\n",
       "      <td>NaN</td>\n",
       "    </tr>\n",
       "  </tbody>\n",
       "</table>\n",
       "<p>170350 rows × 135 columns</p>\n",
       "</div>"
      ],
      "text/plain": [
       "             eventid  iyear  imonth  iday approxdate  extended resolution  \\\n",
       "0       197000000001   1970       7     2        NaN         0        NaN   \n",
       "1       197000000002   1970       0     0        NaN         0        NaN   \n",
       "2       197001000001   1970       1     0        NaN         0        NaN   \n",
       "3       197001000002   1970       1     0        NaN         0        NaN   \n",
       "4       197001000003   1970       1     0        NaN         0        NaN   \n",
       "...              ...    ...     ...   ...        ...       ...        ...   \n",
       "170345  201612310040   2016      12    31        NaN         0        NaN   \n",
       "170346  201612310042   2016      12    31        NaN         0        NaN   \n",
       "170347  201612310043   2016      12    31        NaN         1        NaN   \n",
       "170348  201612310044   2016      12    31        NaN         0        NaN   \n",
       "170349  201701270001   2016      12    30        NaN         0        NaN   \n",
       "\n",
       "        country                       country_txt  region  ...  \\\n",
       "0            58                Dominican Republic       2  ...   \n",
       "1           130                            Mexico       1  ...   \n",
       "2           160                       Philippines       5  ...   \n",
       "3            78                            Greece       8  ...   \n",
       "4           101                             Japan       4  ...   \n",
       "...         ...                               ...     ...  ...   \n",
       "170345      146                             Niger      11  ...   \n",
       "170346      160                       Philippines       5  ...   \n",
       "170347      229  Democratic Republic of the Congo      11  ...   \n",
       "170348      130                            Mexico       1  ...   \n",
       "170349      195                             Sudan      11  ...   \n",
       "\n",
       "                                                 addnotes  \\\n",
       "0                                                     NaN   \n",
       "1                                                     NaN   \n",
       "2                                                     NaN   \n",
       "3                                                     NaN   \n",
       "4                                                     NaN   \n",
       "...                                                   ...   \n",
       "170345                                                NaN   \n",
       "170346                                                NaN   \n",
       "170347                                                NaN   \n",
       "170348  There is doubt that this incident meets terror...   \n",
       "170349  There is doubt that this incident meets terror...   \n",
       "\n",
       "                                                   scite1  \\\n",
       "0                                                     NaN   \n",
       "1                                                     NaN   \n",
       "2                                                     NaN   \n",
       "3                                                     NaN   \n",
       "4                                                     NaN   \n",
       "...                                                   ...   \n",
       "170345  \"15 soldiers killed, 19 injured in Niger terro...   \n",
       "170346  \"AFP braces for more BIFF attacks in ARMM,\" Ma...   \n",
       "170347  \"DRC Armed Forces Dislodge Ugandan LRA Rebels ...   \n",
       "170348  \"Gunmen shoot at home of Mexican indigenous ri...   \n",
       "170349  \"Rebels To Blame For Nierteti Killing: Central...   \n",
       "\n",
       "                                                   scite2  scite3  \\\n",
       "0                                                     NaN     NaN   \n",
       "1                                                     NaN     NaN   \n",
       "2                                                     NaN     NaN   \n",
       "3                                                     NaN     NaN   \n",
       "4                                                     NaN     NaN   \n",
       "...                                                   ...     ...   \n",
       "170345  \"Niger: Boko Haram attack kills two soldiers i...     NaN   \n",
       "170346  \"Asia: US Army ASD Philippine Terrorist Media ...     NaN   \n",
       "170347                                                NaN     NaN   \n",
       "170348  \"– Gunmen shoot at home of Mexican indigenous ...     NaN   \n",
       "170349  \"Security deteriorates in West Darfur alongsid...     NaN   \n",
       "\n",
       "                        dbsource  INT_LOG  INT_IDEO INT_MISC INT_ANY  related  \n",
       "0                           PGIS        0         0        0       0      NaN  \n",
       "1                           PGIS        0         1        1       1      NaN  \n",
       "2                           PGIS       -9        -9        1       1      NaN  \n",
       "3                           PGIS       -9        -9        1       1      NaN  \n",
       "4                           PGIS       -9        -9        1       1      NaN  \n",
       "...                          ...      ...       ...      ...     ...      ...  \n",
       "170345  START Primary Collection        1         1        0       1      NaN  \n",
       "170346  START Primary Collection       -9        -9        0      -9      NaN  \n",
       "170347  START Primary Collection        1         1        0       1      NaN  \n",
       "170348  START Primary Collection       -9        -9        0      -9      NaN  \n",
       "170349  START Primary Collection        0         0        0       0      NaN  \n",
       "\n",
       "[170350 rows x 135 columns]"
      ]
     },
     "execution_count": 154,
     "metadata": {},
     "output_type": "execute_result"
    }
   ],
   "source": [
    "terrorism_data.reset_index(drop=True)"
   ]
  },
  {
   "cell_type": "code",
   "execution_count": 155,
   "metadata": {},
   "outputs": [],
   "source": [
    "terrorism_data = terrorism_data.drop(columns = [col for col in terrorism_data.columns.to_list() if col not in columns])"
   ]
  },
  {
   "cell_type": "code",
   "execution_count": 156,
   "metadata": {},
   "outputs": [],
   "source": [
    "terrorism_data['weapon_type'] = weapon_type"
   ]
  },
  {
   "cell_type": "code",
   "execution_count": 157,
   "metadata": {},
   "outputs": [
    {
     "data": {
      "text/plain": [
       "['eventid',\n",
       " 'iyear',\n",
       " 'imonth',\n",
       " 'iday',\n",
       " 'country_txt',\n",
       " 'region_txt',\n",
       " 'latitude',\n",
       " 'longitude',\n",
       " 'multiple',\n",
       " 'targtype1_txt',\n",
       " 'gname',\n",
       " 'nkill',\n",
       " 'related',\n",
       " 'weapon_type']"
      ]
     },
     "execution_count": 157,
     "metadata": {},
     "output_type": "execute_result"
    }
   ],
   "source": [
    "terrorism_data.columns.to_list()"
   ]
  },
  {
   "cell_type": "code",
   "execution_count": 158,
   "metadata": {},
   "outputs": [],
   "source": [
    "terrorism_data = terrorism_data.set_index('eventid')"
   ]
  },
  {
   "cell_type": "code",
   "execution_count": 159,
   "metadata": {},
   "outputs": [],
   "source": [
    "terrorism_data.columns = [col.replace('_txt', '') for col in terrorism_data.columns]\n",
    "terrorism_data = terrorism_data.rename(columns = {'iyear': 'year','imonth': 'month', 'iday': 'day',\n",
    "                                                  'targtype1': 'target_type', 'gname': 'group_name',\n",
    "                                                  'nkill': 'fatalities'}) \n"
   ]
  },
  {
   "cell_type": "code",
   "execution_count": 160,
   "metadata": {},
   "outputs": [
    {
     "data": {
      "text/plain": [
       "<bound method IndexOpsMixin.tolist of Index(['year', 'month', 'day', 'country', 'region', 'latitude', 'longitude',\n",
       "       'multiple', 'target_type', 'group_name', 'fatalities', 'related',\n",
       "       'weapon_type'],\n",
       "      dtype='object')>"
      ]
     },
     "execution_count": 160,
     "metadata": {},
     "output_type": "execute_result"
    }
   ],
   "source": [
    "terrorism_data.columns.to_list"
   ]
  },
  {
   "cell_type": "code",
   "execution_count": 164,
   "metadata": {},
   "outputs": [],
   "source": [
    "terrorism_data = terrorism_data[[\"year\", \"month\", \"day\", \"country\", \"region\", \n",
    "                \"multiple\", \"latitude\", \"longitude\", \"target_type\", \n",
    "                \"weapon_type\", \"group_name\", \"fatalities\", \"related\"]]"
   ]
  },
  {
   "cell_type": "code",
   "execution_count": 165,
   "metadata": {},
   "outputs": [
    {
     "data": {
      "text/plain": [
       "Index(['year', 'month', 'day', 'country', 'region', 'multiple', 'latitude',\n",
       "       'longitude', 'target_type', 'weapon_type', 'group_name', 'fatalities',\n",
       "       'related'],\n",
       "      dtype='object')"
      ]
     },
     "execution_count": 165,
     "metadata": {},
     "output_type": "execute_result"
    }
   ],
   "source": [
    "terrorism_data.columns"
   ]
  },
  {
   "cell_type": "code",
   "execution_count": 166,
   "metadata": {
    "deletable": false,
    "editable": false,
    "nbgrader": {
     "checksum": "2ada1a2c4fc790340bd66f55929fa365",
     "grade": true,
     "grade_id": "cell-5f34e9684b9bb47b",
     "locked": true,
     "points": 1,
     "schema_version": 1,
     "solution": false
    }
   },
   "outputs": [],
   "source": [
    "assert_is_not_none(terrorism_data)\n",
    "assert_list_equal(terrorism_data.columns.tolist(), [\"year\", \"month\", \"day\", \"country\", \"region\", \"multiple\", \"latitude\", \"longitude\", \"target_type\", \"weapon_type\", \"group_name\", \"fatalities\", \"related\"])"
   ]
  },
  {
   "cell_type": "markdown",
   "metadata": {},
   "source": [
    "### Problem 2. Convert columns (1 point)\n",
    "Convert the \"year\", \"month\" and \"day\" columns into a single date. Call the new column \"date\".\n",
    "\n",
    "Note that some months and/or days contain 0 as their values. This means that the exact month or day is not present or known. In these cases, write \"not a time\" (NaT) values in the \"date\" column. Do not remove those records!\n",
    "\n",
    "Also, convert the \"multiple\" column into a Boolean one."
   ]
  },
  {
   "cell_type": "code",
   "execution_count": null,
   "metadata": {
    "deletable": false,
    "nbgrader": {
     "checksum": "45cb70bfd0cb318c5da4eb139d61bae5",
     "grade": false,
     "grade_id": "cell-c415bca15e14b990",
     "locked": false,
     "schema_version": 1,
     "solution": true
    }
   },
   "outputs": [],
   "source": [
    "# YOUR CODE HERE\n",
    "raise NotImplementedError()"
   ]
  },
  {
   "cell_type": "code",
   "execution_count": null,
   "metadata": {
    "deletable": false,
    "editable": false,
    "nbgrader": {
     "checksum": "7d9a967ba4907372f8e7d995c68b4e4a",
     "grade": true,
     "grade_id": "cell-8f8c1f0a4e1f54be",
     "locked": true,
     "points": 1,
     "schema_version": 1,
     "solution": false
    }
   },
   "outputs": [],
   "source": [
    "assert_greater(len(terrorism_data.date), 0)\n",
    "assert_equal(terrorism_data.multiple.dtype, np.bool)"
   ]
  },
  {
   "cell_type": "markdown",
   "metadata": {},
   "source": [
    "### Problem 3. Show how the number of attacks evolves with time (1 point)\n",
    "Group all incidents by year. Create a line plot showing how the attacks evolve.\n",
    "\n",
    "Create a function which accepts a dataframe and returns the years with minimum and maximum incidents.\n",
    "\n",
    "Use this function to see the numbers for your dataset."
   ]
  },
  {
   "cell_type": "code",
   "execution_count": null,
   "metadata": {
    "deletable": false,
    "nbgrader": {
     "checksum": "4a40c90c814fcd54b021bad2b5c6aabd",
     "grade": false,
     "grade_id": "cell-d95cdafff350daaf",
     "locked": false,
     "schema_version": 1,
     "solution": true
    }
   },
   "outputs": [],
   "source": [
    "# Note: This is not autograded\n",
    "attacks_by_year = None\n",
    "# YOUR CODE HERE\n",
    "raise NotImplementedError()"
   ]
  },
  {
   "cell_type": "code",
   "execution_count": null,
   "metadata": {
    "deletable": false,
    "nbgrader": {
     "checksum": "7b0a34735fbb5853c98e1174a1bf2e84",
     "grade": false,
     "grade_id": "cell-3c2352bef75801fa",
     "locked": false,
     "schema_version": 1,
     "solution": true
    }
   },
   "outputs": [],
   "source": [
    "def get_max_and_min_incidents_years(dataframe):\n",
    "    # Don't forget to use the dataframe parameter!\n",
    "    min_incidents_year, max_incidents_year = 0, 0\n",
    "    # YOUR CODE HERE\n",
    "    raise NotImplementedError()\n",
    "    return (min_incidents_year, max_incidents_year)"
   ]
  },
  {
   "cell_type": "code",
   "execution_count": null,
   "metadata": {
    "deletable": false,
    "editable": false,
    "nbgrader": {
     "checksum": "d9cf0ea35d0c66c3a3127659731a8965",
     "grade": true,
     "grade_id": "cell-9fab4a50c075077f",
     "locked": true,
     "points": 1,
     "schema_version": 1,
     "solution": false
    }
   },
   "outputs": [],
   "source": [
    "min_year, max_year = get_max_and_min_incidents_years(terrorism_data)\n",
    "assert_equal(min_year, 1971)\n",
    "assert_equal(max_year, 2014)"
   ]
  },
  {
   "cell_type": "markdown",
   "metadata": {},
   "source": [
    "### Problem 4. Filter terror attacks (1 point)\n",
    "Get only recent attacks (from 1 Jan 2000 onwards, inclusive). Save them in the variable `recent_attacks`.\n",
    "\n",
    "Create another variable which contains attacks before that. Call that `older_attacks`.\n",
    "\n",
    "We'll compare these later."
   ]
  },
  {
   "cell_type": "code",
   "execution_count": null,
   "metadata": {
    "deletable": false,
    "nbgrader": {
     "checksum": "deb7267a394e92f397bd3241602a5267",
     "grade": false,
     "grade_id": "cell-1c3587b0a671b81e",
     "locked": false,
     "schema_version": 1,
     "solution": true
    }
   },
   "outputs": [],
   "source": [
    "recent_attacks = None\n",
    "older_attacks = None\n",
    "# YOUR CODE HERE\n",
    "raise NotImplementedError()"
   ]
  },
  {
   "cell_type": "code",
   "execution_count": null,
   "metadata": {
    "deletable": false,
    "editable": false,
    "nbgrader": {
     "checksum": "1e13a5ebb0c0860922e005052309b1d1",
     "grade": true,
     "grade_id": "cell-1af72cf0b455864f",
     "locked": true,
     "points": 1,
     "schema_version": 1,
     "solution": false
    }
   },
   "outputs": [],
   "source": [
    "assert_is_not_none(recent_attacks)\n",
    "assert_is_not_none(older_attacks)"
   ]
  },
  {
   "cell_type": "markdown",
   "metadata": {},
   "source": [
    "### Problem 5. Compare recent to older attacks (1 point)\n",
    "Create a function which accepts a dataframe and returns a `Series`. The index should be a country name, and the values should be the number of  attacks. Sort the values from highest to lowest."
   ]
  },
  {
   "cell_type": "code",
   "execution_count": null,
   "metadata": {
    "deletable": false,
    "nbgrader": {
     "checksum": "c15c6674d1ffdd3c87cd2d559abd7c5b",
     "grade": false,
     "grade_id": "cell-8e2899086cca6575",
     "locked": false,
     "schema_version": 1,
     "solution": true
    }
   },
   "outputs": [],
   "source": [
    "def get_num_attacks_by_country(dataframe):\n",
    "    # YOUR CODE HERE\n",
    "    raise NotImplementedError()"
   ]
  },
  {
   "cell_type": "code",
   "execution_count": null,
   "metadata": {
    "deletable": false,
    "editable": false,
    "nbgrader": {
     "checksum": "d42d21df4f382b1bfceaeb6124c4ed9a",
     "grade": true,
     "grade_id": "cell-c51b7c39a69134f9",
     "locked": true,
     "points": 1,
     "schema_version": 1,
     "solution": false
    }
   },
   "outputs": [],
   "source": [
    "recent_attacks_by_country = get_num_attacks_by_country(recent_attacks)\n",
    "older_attacks_by_country = get_num_attacks_by_country(older_attacks)\n",
    "print(recent_attacks_by_country)\n",
    "print(older_attacks_by_country)\n",
    "assert_equal(recent_attacks_by_country.shape, (10,))\n",
    "assert_equal(older_attacks_by_country.shape, (10,))"
   ]
  },
  {
   "cell_type": "code",
   "execution_count": null,
   "metadata": {},
   "outputs": [],
   "source": [
    "def show_graph(num_attacks, title):\n",
    "    plt.bar(range(len(num_attacks)), num_attacks)\n",
    "    plt.xticks(range(len(num_attacks)), num_attacks.index, rotation = \"vertical\")\n",
    "    plt.title(title)\n",
    "    plt.show()\n",
    "\n",
    "show_graph(older_attacks_by_country, \"Older attacks (before 2000)\")\n",
    "show_graph(recent_attacks_by_country, \"Recent attacks (since 2000)\")"
   ]
  },
  {
   "cell_type": "markdown",
   "metadata": {},
   "source": [
    "We can see that these attacks definitely changed very much. First, there are many more since 2000, and second, the top targeted countries have changed a lot: only India remains in the top chart (execute the following cell if you don't believe me)."
   ]
  },
  {
   "cell_type": "code",
   "execution_count": null,
   "metadata": {},
   "outputs": [],
   "source": [
    "set(recent_attacks_by_country.index).intersection(set(older_attacks_by_country.index))"
   ]
  },
  {
   "cell_type": "markdown",
   "metadata": {},
   "source": [
    "There's a lot more to explore in the data, but let's focus on the spatial aspect."
   ]
  },
  {
   "cell_type": "markdown",
   "metadata": {},
   "source": [
    "### Problem 6. Create a basic map (2 points)\n",
    "Plot all places where terrorist attacks have occurred.\n",
    "\n",
    "The skeleton below almost does the job. What you need to do is: first, assign the proper coordinates to the `x` and `y` variables and use them as `Point`s; second, assign the points to the `geometry` feature in the dataset (think about a possible data type conversions); and third, create a scatter plot, using a red circle (`\"o\"`), with marker size 1."
   ]
  },
  {
   "cell_type": "code",
   "execution_count": null,
   "metadata": {
    "deletable": false,
    "nbgrader": {
     "checksum": "cad861d14f9270a8725ebfa7a8d385a0",
     "grade": false,
     "grade_id": "cell-949ee28085e3121b",
     "locked": false,
     "schema_version": 1,
     "solution": true
    }
   },
   "outputs": [],
   "source": [
    "land = gpd.read_file(geodatasets.data.naturalearth.land.url)\n",
    "\n",
    "fig = plt.figure(figsize = (12, 8))\n",
    "ax = fig.gca()\n",
    "land.plot(ax = ax, color = \"green\")\n",
    "ax.set_facecolor(\"aqua\")\n",
    "\n",
    "x, y = None, None\n",
    "# YOUR CODE HERE\n",
    "raise NotImplementedError()\n",
    "plt.show()"
   ]
  },
  {
   "cell_type": "code",
   "execution_count": null,
   "metadata": {
    "deletable": false,
    "editable": false,
    "nbgrader": {
     "checksum": "c60d7fff2a36b55e539d58ee1768cc62",
     "grade": true,
     "grade_id": "cell-db1a0f33e3c947b5",
     "locked": true,
     "points": 2,
     "schema_version": 1,
     "solution": false
    }
   },
   "outputs": [],
   "source": [
    "assert_is_not_none(x)\n",
    "assert_is_not_none(y)\n"
   ]
  },
  {
   "cell_type": "markdown",
   "metadata": {},
   "source": [
    "### Problem 7. Emphasize incidents which are part of a group (0 points)\n",
    "Redraw the map above. This time, filter out the attacks which are part of a series (this is contained in the column `multiple`). Show them on the map with an orange color."
   ]
  },
  {
   "cell_type": "code",
   "execution_count": null,
   "metadata": {
    "deletable": false,
    "nbgrader": {
     "checksum": "27bedcbe995f64cb485d9c1f382b8555",
     "grade": false,
     "grade_id": "cell-c92a19d6d8714acc",
     "locked": false,
     "schema_version": 1,
     "solution": true
    }
   },
   "outputs": [],
   "source": [
    "# Note: This is not autograded\n",
    "single_attacks = None\n",
    "multiple_attacks = None\n",
    "# YOUR CODE HERE\n",
    "raise NotImplementedError()"
   ]
  },
  {
   "cell_type": "code",
   "execution_count": null,
   "metadata": {
    "deletable": false,
    "editable": false,
    "nbgrader": {
     "checksum": "09a73870417d67337ba3b7d4f20e50d0",
     "grade": true,
     "grade_id": "cell-0140c2050b753b80",
     "locked": true,
     "points": 0,
     "schema_version": 1,
     "solution": false
    }
   },
   "outputs": [],
   "source": [
    "fig = plt.figure(figsize = (12, 8))\n",
    "ax = fig.gca()\n",
    "land.plot(ax = ax, color = \"green\")\n",
    "ax.set_facecolor(\"aqua\")\n",
    "\n",
    "single_attacks.plot(ax = ax, c = \"r\", marker = \"o\", markersize = 1)\n",
    "multiple_attacks.plot(ax = ax, c = \"orange\", marker = \"o\", markersize = 1)\n",
    "plt.show()"
   ]
  },
  {
   "cell_type": "markdown",
   "metadata": {},
   "source": [
    "You can see that a lot of the attacks are parts of series, possibly organized. But, remember that we have a point on the map for every single attack. If we see how many multiple attacks there are (as a fraction of the whole), we'll get about 13.4%:"
   ]
  },
  {
   "cell_type": "code",
   "execution_count": null,
   "metadata": {},
   "outputs": [],
   "source": [
    "len(multiple_attacks) / len(terrorism_data)"
   ]
  },
  {
   "cell_type": "markdown",
   "metadata": {},
   "source": [
    "The plot we made was a little misleading. We're displaying where attacks occur but we omitted the \"density\" of attacks: each location gets a point no matter whether there was one incident, or ten thousand in that point. \n",
    "\n",
    "We can try plotting the densities instead."
   ]
  },
  {
   "cell_type": "markdown",
   "metadata": {},
   "source": [
    "### Problem 8. Plot attack densities (1 point)\n",
    "First, we need to filter out attacks with unknown (NaN) location. Do this and save it in the variable `attacks_with_locations`.\n",
    "\n",
    "The following cell prints a 2D histogram (also called a heatmap) over the world map. Execute it, it should run just fine."
   ]
  },
  {
   "cell_type": "code",
   "execution_count": null,
   "metadata": {
    "deletable": false,
    "nbgrader": {
     "checksum": "7d26bf1671643733a7d4fe1f11848ed5",
     "grade": false,
     "grade_id": "cell-e249aca4f843b587",
     "locked": false,
     "schema_version": 1,
     "solution": true
    }
   },
   "outputs": [],
   "source": [
    "attacks_with_locations = None\n",
    "# YOUR CODE HERE\n",
    "raise NotImplementedError()"
   ]
  },
  {
   "cell_type": "code",
   "execution_count": null,
   "metadata": {},
   "outputs": [],
   "source": [
    "def plot_attack_densities(attack_data, title = \"Attack densities\", num_bins = 100):\n",
    "    # Prepare histogram bins\n",
    "    lon_bins = np.linspace(-180, 180, num_bins + 1)\n",
    "    lat_bins = np.linspace(-90, 90, num_bins + 1)\n",
    "    \n",
    "    # Prepare 2D histogram\n",
    "    density, x_breaks, y_breaks = np.histogram2d(\n",
    "        attack_data.latitude,\n",
    "        attack_data.longitude, \n",
    "        [lat_bins, lon_bins])\n",
    "    lon_bins_2d, lat_bins_2d = np.meshgrid(lon_bins, lat_bins)\n",
    "    \n",
    "    fig = plt.figure(figsize = (15, 10))\n",
    "    ax = plt.gca()\n",
    "    mesh = ax.pcolormesh(lon_bins_2d, lat_bins_2d, density)\n",
    "    plt.colorbar(mesh, fraction = 0.025, ax = ax)\n",
    "    land.boundary.plot(ax = ax, edgecolor = \"k\")\n",
    "    ax.set_title(title)\n",
    "\n",
    "    plt.show()"
   ]
  },
  {
   "cell_type": "code",
   "execution_count": null,
   "metadata": {},
   "outputs": [],
   "source": [
    "plot_attack_densities(attacks_with_locations)"
   ]
  },
  {
   "cell_type": "markdown",
   "metadata": {},
   "source": [
    "We can see various \"hot points\". The hottest one, as expected from the data above, is Iraq. Actually, it has so many attacks that it overshadows most of the data in our dataset.\n",
    "\n",
    "Let's remove it and plot the data again. This is a way to estimate **importance** of something (although not a very scientific one :))."
   ]
  },
  {
   "cell_type": "code",
   "execution_count": null,
   "metadata": {
    "deletable": false,
    "nbgrader": {
     "checksum": "adf4aa6e09e4a50767b0be2c7000f044",
     "grade": false,
     "grade_id": "cell-4696a4495fae2524",
     "locked": false,
     "schema_version": 1,
     "solution": true
    }
   },
   "outputs": [],
   "source": [
    "attacks_without_iraq = None\n",
    "# YOUR CODE HERE\n",
    "raise NotImplementedError()"
   ]
  },
  {
   "cell_type": "code",
   "execution_count": null,
   "metadata": {
    "deletable": false,
    "editable": false,
    "nbgrader": {
     "checksum": "d0fcbdafdf7e0b072f3a1d37acedb17d",
     "grade": true,
     "grade_id": "cell-dffe18739baef50b",
     "locked": true,
     "points": 1,
     "schema_version": 1,
     "solution": false
    }
   },
   "outputs": [],
   "source": [
    "assert_is_not_none(attacks_with_locations)\n",
    "assert_is_not_none(attacks_without_iraq)"
   ]
  },
  {
   "cell_type": "code",
   "execution_count": null,
   "metadata": {},
   "outputs": [],
   "source": [
    "plot_attack_densities(attacks_without_iraq, \"Attack densities (Iraq omitted)\")"
   ]
  },
  {
   "cell_type": "markdown",
   "metadata": {},
   "source": [
    "Well, the map \"lit up\". Notice that the colorbar now shows completely different values.\n",
    "\n",
    "Based on these visualizations, we can conclude that the number of attacks in Iraq is really significant compared to all others.\n",
    "\n",
    "We're also able to see more hot points now, and we may try to interpret them. However, that's not what we're going to do."
   ]
  },
  {
   "cell_type": "markdown",
   "metadata": {},
   "source": [
    "### Problem 9. Create a graph of connected incidents (1 + 1 points)\n",
    "We already have incidents which are part of groups: the variable `multiple_attacks` holds them.\n",
    "\n",
    "However, it turns out that some of these hold NaNs in the `related` column.\n",
    "\n",
    "Create a new dataset which holds the `eventid` and `related` incidents of every attack in `multiple_attacks`.\n",
    "\n",
    "Filter the dataset so that it contains only valid (i.e. non-empty or NaN) `related` values.\n",
    "\n",
    "Store this dataset into `incident_relations`."
   ]
  },
  {
   "cell_type": "code",
   "execution_count": null,
   "metadata": {
    "deletable": false,
    "nbgrader": {
     "checksum": "bcba82e0b647a4fd5ab0c3c186dcfbca",
     "grade": false,
     "grade_id": "cell-a2682fbc00a9314f",
     "locked": false,
     "schema_version": 1,
     "solution": true
    }
   },
   "outputs": [],
   "source": [
    "incident_relations = None\n",
    "# YOUR CODE HERE\n",
    "raise NotImplementedError()"
   ]
  },
  {
   "cell_type": "code",
   "execution_count": null,
   "metadata": {
    "deletable": false,
    "editable": false,
    "nbgrader": {
     "checksum": "d64da3f61f8ddd44316148c656ee5e44",
     "grade": true,
     "grade_id": "cell-2760002c8cd2e6fb",
     "locked": true,
     "points": 1,
     "schema_version": 1,
     "solution": false
    }
   },
   "outputs": [],
   "source": [
    "assert_equal(incident_relations.shape, (22840, 1))"
   ]
  },
  {
   "cell_type": "markdown",
   "metadata": {},
   "source": [
    "Get all relations by splitting the column first, like so:\n",
    "```\n",
    "relations = incident_relations.related.str.split(\", \")\n",
    "```\n",
    "\n",
    "For each relation, if the id of the first and second node aren't the same, add the relation as an edge. An edge has the format `(id_1, id_2)`.\n",
    "\n",
    "The code is not very hard to understand but it definitely IS tricky to write. So I'm giving it to you for free :)."
   ]
  },
  {
   "cell_type": "code",
   "execution_count": null,
   "metadata": {},
   "outputs": [],
   "source": [
    "edges = set()\n",
    "\n",
    "relations = incident_relations.related.str.split(\"\\D+\")\n",
    "for index, related in relations.iteritems():\n",
    "    current_index = int(index)\n",
    "    for related_id in related:\n",
    "        if related_id != \"\":\n",
    "            current_related = int(related_id)\n",
    "            # (id_1, id_2) and (id_2, id_1) should be considered the same\n",
    "            # undirected edge but in the dataset, they are separate\n",
    "            # so we need to avoid double-adding edges\n",
    "            if current_index == current_related:\n",
    "                continue\n",
    "            elif current_index > current_related:\n",
    "                current_index, current_related = current_related, current_index\n",
    "            edges.add((current_index, current_related))\n",
    "print(len(edges))"
   ]
  },
  {
   "cell_type": "markdown",
   "metadata": {},
   "source": [
    "Create a graph, `attack_graph` and add all edges that you (or I :D) just calculated to it.\n",
    "\n",
    "Beware: visualization will take a lot of time, so **don't do that** (or just comment it out before submitting). I'm only testing basic properties on the graph."
   ]
  },
  {
   "cell_type": "code",
   "execution_count": null,
   "metadata": {
    "deletable": false,
    "nbgrader": {
     "checksum": "fcc7de3f266217fbde311aa5f1f27df6",
     "grade": false,
     "grade_id": "cell-cc347a3a786ca561",
     "locked": false,
     "schema_version": 1,
     "solution": true
    }
   },
   "outputs": [],
   "source": [
    "attack_graph = None\n",
    "# YOUR CODE HERE\n",
    "raise NotImplementedError()"
   ]
  },
  {
   "cell_type": "code",
   "execution_count": null,
   "metadata": {
    "deletable": false,
    "editable": false,
    "nbgrader": {
     "checksum": "ddfbaf0ec6021edc4817b7b3da8e5632",
     "grade": true,
     "grade_id": "cell-a20bcc1a8794b893",
     "locked": true,
     "points": 1,
     "schema_version": 1,
     "solution": false
    }
   },
   "outputs": [],
   "source": [
    "assert_is_not_none(attack_graph)"
   ]
  }
 ],
 "metadata": {
  "kernelspec": {
   "display_name": "Python 3 (ipykernel)",
   "language": "python",
   "name": "python3"
  },
  "language_info": {
   "codemirror_mode": {
    "name": "ipython",
    "version": 3
   },
   "file_extension": ".py",
   "mimetype": "text/x-python",
   "name": "python",
   "nbconvert_exporter": "python",
   "pygments_lexer": "ipython3",
   "version": "3.9.13"
  }
 },
 "nbformat": 4,
 "nbformat_minor": 4
}
