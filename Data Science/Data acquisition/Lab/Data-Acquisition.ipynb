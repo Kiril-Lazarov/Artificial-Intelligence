{
 "cells": [
  {
   "cell_type": "code",
   "execution_count": null,
   "id": "259463fb-0b9d-414f-95d9-60d8fed89638",
   "metadata": {},
   "outputs": [],
   "source": [
    "%matplotlib inline"
   ]
  },
  {
   "cell_type": "code",
   "execution_count": null,
   "id": "5ca43dfe-db42-4a8b-8f62-d85691880aff",
   "metadata": {},
   "outputs": [],
   "source": [
    "import pandas as pd\n",
    "import matplotlib.pyplot as plt\n",
    "import numpy as np"
   ]
  },
  {
   "cell_type": "markdown",
   "id": "fe4dd3ef-3fe2-4c1f-9cc2-715de84b243f",
   "metadata": {
    "tags": []
   },
   "source": [
    "# <center>Data Acquisition<center>\n",
    "## <center>Live Demos<center>"
   ]
  },
  {
   "cell_type": "code",
   "execution_count": 2,
   "id": "4c35c6e2-c8d7-4bb8-9975-29b68a8ad25d",
   "metadata": {},
   "outputs": [],
   "source": [
    "my_list = [1,2,3, 'Softuni', 3.14, False, [1,2, [5,6, [6]]]]"
   ]
  },
  {
   "cell_type": "code",
   "execution_count": 3,
   "id": "1363f509-a85a-4eec-8fc3-d5eb75dadfde",
   "metadata": {},
   "outputs": [
    {
     "data": {
      "text/plain": [
       "[1, 2, 3, 'Softuni', 3.14, False, [1, 2, [5, 6, [6]]]]"
      ]
     },
     "execution_count": 3,
     "metadata": {},
     "output_type": "execute_result"
    }
   ],
   "source": [
    "my_list"
   ]
  }
 ],
 "metadata": {
  "kernelspec": {
   "display_name": "Python 3 (ipykernel)",
   "language": "python",
   "name": "python3"
  },
  "language_info": {
   "codemirror_mode": {
    "name": "ipython",
    "version": 3
   },
   "file_extension": ".py",
   "mimetype": "text/x-python",
   "name": "python",
   "nbconvert_exporter": "python",
   "pygments_lexer": "ipython3",
   "version": "3.9.13"
  }
 },
 "nbformat": 4,
 "nbformat_minor": 5
}
