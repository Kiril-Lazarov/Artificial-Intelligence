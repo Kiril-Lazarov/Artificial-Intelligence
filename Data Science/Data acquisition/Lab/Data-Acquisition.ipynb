{
 "cells": [
  {
   "cell_type": "code",
   "execution_count": 7,
   "id": "259463fb-0b9d-414f-95d9-60d8fed89638",
   "metadata": {},
   "outputs": [],
   "source": [
    "%matplotlib inline"
   ]
  },
  {
   "cell_type": "code",
   "execution_count": 6,
   "id": "5ca43dfe-db42-4a8b-8f62-d85691880aff",
   "metadata": {},
   "outputs": [],
   "source": [
    "import pandas as pd\n",
    "import matplotlib.pyplot as plt\n",
    "import numpy as np"
   ]
  },
  {
   "cell_type": "markdown",
   "id": "fe4dd3ef-3fe2-4c1f-9cc2-715de84b243f",
   "metadata": {
    "tags": []
   },
   "source": [
    "# <center>Data Acquisition<center>\n",
    "## <center>Live Demos<center>"
   ]
  },
  {
   "cell_type": "code",
   "execution_count": 2,
   "id": "4c35c6e2-c8d7-4bb8-9975-29b68a8ad25d",
   "metadata": {},
   "outputs": [],
   "source": [
    "my_list = [1,2,3, 'Softuni', 3.14, False, [1,2, [5,6, [6]]]]"
   ]
  },
  {
   "cell_type": "code",
   "execution_count": 3,
   "id": "1363f509-a85a-4eec-8fc3-d5eb75dadfde",
   "metadata": {},
   "outputs": [
    {
     "data": {
      "text/plain": [
       "[1, 2, 3, 'Softuni', 3.14, False, [1, 2, [5, 6, [6]]]]"
      ]
     },
     "execution_count": 3,
     "metadata": {},
     "output_type": "execute_result"
    }
   ],
   "source": [
    "my_list"
   ]
  },
  {
   "cell_type": "code",
   "execution_count": 4,
   "id": "d4f983e0-7d1e-490b-a374-2489dd2311c3",
   "metadata": {},
   "outputs": [
    {
     "data": {
      "text/plain": [
       "list"
      ]
     },
     "execution_count": 4,
     "metadata": {},
     "output_type": "execute_result"
    }
   ],
   "source": [
    "type(my_list)"
   ]
  },
  {
   "cell_type": "code",
   "execution_count": 8,
   "id": "2474d7cb-d8de-4574-adb6-c2252367264a",
   "metadata": {},
   "outputs": [],
   "source": [
    "my_array = np.array([5, 6, 7])"
   ]
  },
  {
   "cell_type": "code",
   "execution_count": 9,
   "id": "2753a7e9-9814-445d-9e5f-90839617f749",
   "metadata": {},
   "outputs": [
    {
     "data": {
      "text/plain": [
       "numpy.ndarray"
      ]
     },
     "execution_count": 9,
     "metadata": {},
     "output_type": "execute_result"
    }
   ],
   "source": [
    "type(my_array)"
   ]
  },
  {
   "cell_type": "code",
   "execution_count": 11,
   "id": "6b3d3cc7-ecc3-47e7-bfcb-135ecf1d9903",
   "metadata": {},
   "outputs": [
    {
     "data": {
      "text/plain": [
       "dtype('int32')"
      ]
     },
     "execution_count": 11,
     "metadata": {},
     "output_type": "execute_result"
    }
   ],
   "source": [
    "my_array.dtype"
   ]
  },
  {
   "cell_type": "code",
   "execution_count": 12,
   "id": "a61d36be-48a7-4022-84ba-0dc2e873eebb",
   "metadata": {},
   "outputs": [],
   "source": [
    "my_array = np.array([5, 6, 6, False])"
   ]
  },
  {
   "cell_type": "code",
   "execution_count": 14,
   "id": "904e26c2-d497-4801-9e08-c5f9c25bfb66",
   "metadata": {},
   "outputs": [
    {
     "data": {
      "text/plain": [
       "array([5, 6, 6, 0])"
      ]
     },
     "execution_count": 14,
     "metadata": {},
     "output_type": "execute_result"
    }
   ],
   "source": [
    "my_array"
   ]
  },
  {
   "cell_type": "code",
   "execution_count": 13,
   "id": "42c502cb-1004-4c3d-8cc2-264efc93c4ba",
   "metadata": {},
   "outputs": [
    {
     "data": {
      "text/plain": [
       "dtype('int32')"
      ]
     },
     "execution_count": 13,
     "metadata": {},
     "output_type": "execute_result"
    }
   ],
   "source": [
    "my_array.dtype"
   ]
  },
  {
   "cell_type": "code",
   "execution_count": 15,
   "id": "0c74e25e-4d8a-46a2-8633-39a77f372576",
   "metadata": {},
   "outputs": [],
   "source": [
    "my_array = np.array([5, 6, 6, False, 'Peter'])"
   ]
  },
  {
   "cell_type": "code",
   "execution_count": 17,
   "id": "f34aa594-7a6a-4335-bb74-1ec3f85dc74c",
   "metadata": {},
   "outputs": [
    {
     "data": {
      "text/plain": [
       "array(['5', '6', '6', 'False', 'Peter'], dtype='<U11')"
      ]
     },
     "execution_count": 17,
     "metadata": {},
     "output_type": "execute_result"
    }
   ],
   "source": [
    "# Converts everything in the list to string \n",
    "my_array"
   ]
  },
  {
   "cell_type": "code",
   "execution_count": 16,
   "id": "dc634e01-6a71-4cc2-8536-546336d56741",
   "metadata": {},
   "outputs": [
    {
     "data": {
      "text/plain": [
       "dtype('<U11')"
      ]
     },
     "execution_count": 16,
     "metadata": {},
     "output_type": "execute_result"
    }
   ],
   "source": [
    "my_array.dtype"
   ]
  },
  {
   "cell_type": "code",
   "execution_count": 18,
   "id": "67395ab1-f686-4e3a-9cde-a42ae6211e75",
   "metadata": {},
   "outputs": [
    {
     "name": "stderr",
     "output_type": "stream",
     "text": [
      "C:\\Users\\lenovo\\AppData\\Local\\Temp\\ipykernel_2952\\3475436047.py:1: VisibleDeprecationWarning: Creating an ndarray from ragged nested sequences (which is a list-or-tuple of lists-or-tuples-or ndarrays with different lengths or shapes) is deprecated. If you meant to do this, you must specify 'dtype=object' when creating the ndarray.\n",
      "  my_array = np.array([5, 6, 6, False, 'Peter', [1, 2, 5]])\n"
     ]
    }
   ],
   "source": [
    "my_array = np.array([5, 6, 6, False, 'Peter', [1, 2, 5]])"
   ]
  },
  {
   "cell_type": "code",
   "execution_count": 19,
   "id": "6cbd27cf-d810-4e6a-9cd6-afe7239f2d2a",
   "metadata": {},
   "outputs": [
    {
     "data": {
      "text/plain": [
       "array([5, 6, 6, False, 'Peter', list([1, 2, 5])], dtype=object)"
      ]
     },
     "execution_count": 19,
     "metadata": {},
     "output_type": "execute_result"
    }
   ],
   "source": [
    "my_array"
   ]
  },
  {
   "cell_type": "code",
   "execution_count": null,
   "id": "596b7f26-8e8f-4389-991d-f4174b6b7074",
   "metadata": {},
   "outputs": [],
   "source": [
    "my_array.dt"
   ]
  }
 ],
 "metadata": {
  "kernelspec": {
   "display_name": "Python 3 (ipykernel)",
   "language": "python",
   "name": "python3"
  },
  "language_info": {
   "codemirror_mode": {
    "name": "ipython",
    "version": 3
   },
   "file_extension": ".py",
   "mimetype": "text/x-python",
   "name": "python",
   "nbconvert_exporter": "python",
   "pygments_lexer": "ipython3",
   "version": "3.9.13"
  }
 },
 "nbformat": 4,
 "nbformat_minor": 5
}
