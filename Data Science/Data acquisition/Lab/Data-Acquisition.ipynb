{
 "cells": [
  {
   "cell_type": "code",
   "execution_count": 7,
   "id": "259463fb-0b9d-414f-95d9-60d8fed89638",
   "metadata": {},
   "outputs": [],
   "source": [
    "%matplotlib inline"
   ]
  },
  {
   "cell_type": "code",
   "execution_count": 59,
   "id": "5ca43dfe-db42-4a8b-8f62-d85691880aff",
   "metadata": {},
   "outputs": [],
   "source": [
    "import pandas as pd\n",
    "import matplotlib.pyplot as plt\n",
    "import matplotlib.ticker as ticker\n",
    "import numpy as np"
   ]
  },
  {
   "cell_type": "markdown",
   "id": "fe4dd3ef-3fe2-4c1f-9cc2-715de84b243f",
   "metadata": {
    "tags": []
   },
   "source": [
    "# <center>Data Acquisition<center>\n",
    "## <center>Live Demos<center>"
   ]
  },
  {
   "cell_type": "markdown",
   "id": "468728fd-1e8b-4fc6-b041-d5a9a0111a41",
   "metadata": {},
   "source": [
    "### Data types"
   ]
  },
  {
   "cell_type": "code",
   "execution_count": 2,
   "id": "4c35c6e2-c8d7-4bb8-9975-29b68a8ad25d",
   "metadata": {},
   "outputs": [],
   "source": [
    "my_list = [1,2,3, 'Softuni', 3.14, False, [1,2, [5,6, [6]]]]"
   ]
  },
  {
   "cell_type": "code",
   "execution_count": 3,
   "id": "1363f509-a85a-4eec-8fc3-d5eb75dadfde",
   "metadata": {},
   "outputs": [
    {
     "data": {
      "text/plain": [
       "[1, 2, 3, 'Softuni', 3.14, False, [1, 2, [5, 6, [6]]]]"
      ]
     },
     "execution_count": 3,
     "metadata": {},
     "output_type": "execute_result"
    }
   ],
   "source": [
    "my_list"
   ]
  },
  {
   "cell_type": "code",
   "execution_count": 4,
   "id": "d4f983e0-7d1e-490b-a374-2489dd2311c3",
   "metadata": {},
   "outputs": [
    {
     "data": {
      "text/plain": [
       "list"
      ]
     },
     "execution_count": 4,
     "metadata": {},
     "output_type": "execute_result"
    }
   ],
   "source": [
    "type(my_list)"
   ]
  },
  {
   "cell_type": "code",
   "execution_count": 8,
   "id": "2474d7cb-d8de-4574-adb6-c2252367264a",
   "metadata": {},
   "outputs": [],
   "source": [
    "my_array = np.array([5, 6, 7])"
   ]
  },
  {
   "cell_type": "code",
   "execution_count": 9,
   "id": "2753a7e9-9814-445d-9e5f-90839617f749",
   "metadata": {},
   "outputs": [
    {
     "data": {
      "text/plain": [
       "numpy.ndarray"
      ]
     },
     "execution_count": 9,
     "metadata": {},
     "output_type": "execute_result"
    }
   ],
   "source": [
    "type(my_array)"
   ]
  },
  {
   "cell_type": "code",
   "execution_count": 11,
   "id": "6b3d3cc7-ecc3-47e7-bfcb-135ecf1d9903",
   "metadata": {},
   "outputs": [
    {
     "data": {
      "text/plain": [
       "dtype('int32')"
      ]
     },
     "execution_count": 11,
     "metadata": {},
     "output_type": "execute_result"
    }
   ],
   "source": [
    "my_array.dtype"
   ]
  },
  {
   "cell_type": "code",
   "execution_count": 12,
   "id": "a61d36be-48a7-4022-84ba-0dc2e873eebb",
   "metadata": {},
   "outputs": [],
   "source": [
    "my_array = np.array([5, 6, 6, False])"
   ]
  },
  {
   "cell_type": "code",
   "execution_count": 14,
   "id": "904e26c2-d497-4801-9e08-c5f9c25bfb66",
   "metadata": {},
   "outputs": [
    {
     "data": {
      "text/plain": [
       "array([5, 6, 6, 0])"
      ]
     },
     "execution_count": 14,
     "metadata": {},
     "output_type": "execute_result"
    }
   ],
   "source": [
    "my_array"
   ]
  },
  {
   "cell_type": "code",
   "execution_count": 13,
   "id": "42c502cb-1004-4c3d-8cc2-264efc93c4ba",
   "metadata": {},
   "outputs": [
    {
     "data": {
      "text/plain": [
       "dtype('int32')"
      ]
     },
     "execution_count": 13,
     "metadata": {},
     "output_type": "execute_result"
    }
   ],
   "source": [
    "my_array.dtype"
   ]
  },
  {
   "cell_type": "code",
   "execution_count": 15,
   "id": "0c74e25e-4d8a-46a2-8633-39a77f372576",
   "metadata": {},
   "outputs": [],
   "source": [
    "my_array = np.array([5, 6, 6, False, 'Peter'])"
   ]
  },
  {
   "cell_type": "code",
   "execution_count": 17,
   "id": "f34aa594-7a6a-4335-bb74-1ec3f85dc74c",
   "metadata": {},
   "outputs": [
    {
     "data": {
      "text/plain": [
       "array(['5', '6', '6', 'False', 'Peter'], dtype='<U11')"
      ]
     },
     "execution_count": 17,
     "metadata": {},
     "output_type": "execute_result"
    }
   ],
   "source": [
    "# Converts everything in the list to string \n",
    "my_array"
   ]
  },
  {
   "cell_type": "code",
   "execution_count": 16,
   "id": "dc634e01-6a71-4cc2-8536-546336d56741",
   "metadata": {},
   "outputs": [
    {
     "data": {
      "text/plain": [
       "dtype('<U11')"
      ]
     },
     "execution_count": 16,
     "metadata": {},
     "output_type": "execute_result"
    }
   ],
   "source": [
    "my_array.dtype"
   ]
  },
  {
   "cell_type": "code",
   "execution_count": 35,
   "id": "67395ab1-f686-4e3a-9cde-a42ae6211e75",
   "metadata": {},
   "outputs": [
    {
     "name": "stderr",
     "output_type": "stream",
     "text": [
      "C:\\Users\\lenovo\\AppData\\Local\\Temp\\ipykernel_2952\\3475436047.py:1: VisibleDeprecationWarning: Creating an ndarray from ragged nested sequences (which is a list-or-tuple of lists-or-tuples-or ndarrays with different lengths or shapes) is deprecated. If you meant to do this, you must specify 'dtype=object' when creating the ndarray.\n",
      "  my_array = np.array([5, 6, 6, False, 'Peter', [1, 2, 5]])\n"
     ]
    }
   ],
   "source": [
    "my_array = np.array([5, 6, 6, False, 'Peter', [1, 2, 5]])"
   ]
  },
  {
   "cell_type": "code",
   "execution_count": 19,
   "id": "6cbd27cf-d810-4e6a-9cd6-afe7239f2d2a",
   "metadata": {},
   "outputs": [
    {
     "data": {
      "text/plain": [
       "array([5, 6, 6, False, 'Peter', list([1, 2, 5])], dtype=object)"
      ]
     },
     "execution_count": 19,
     "metadata": {},
     "output_type": "execute_result"
    }
   ],
   "source": [
    "my_array"
   ]
  },
  {
   "cell_type": "code",
   "execution_count": 20,
   "id": "596b7f26-8e8f-4389-991d-f4174b6b7074",
   "metadata": {},
   "outputs": [
    {
     "data": {
      "text/plain": [
       "dtype('O')"
      ]
     },
     "execution_count": 20,
     "metadata": {},
     "output_type": "execute_result"
    }
   ],
   "source": [
    "my_array.dtype"
   ]
  },
  {
   "cell_type": "code",
   "execution_count": 26,
   "id": "3e2a72e0-fd72-45d6-9264-b703c82306c6",
   "metadata": {},
   "outputs": [],
   "source": [
    "series = pd.Series([1, 2, 3])"
   ]
  },
  {
   "cell_type": "code",
   "execution_count": 27,
   "id": "8ada66bb-9629-464c-a1c8-08fc73273855",
   "metadata": {},
   "outputs": [
    {
     "data": {
      "text/plain": [
       "0    1\n",
       "1    2\n",
       "2    3\n",
       "dtype: int64"
      ]
     },
     "execution_count": 27,
     "metadata": {},
     "output_type": "execute_result"
    }
   ],
   "source": [
    "series"
   ]
  },
  {
   "cell_type": "code",
   "execution_count": 32,
   "id": "fe972027-1c7d-447a-b412-2e680291b54f",
   "metadata": {},
   "outputs": [
    {
     "data": {
      "text/plain": [
       "0    1\n",
       "1    2\n",
       "2    3\n",
       "dtype: int32"
      ]
     },
     "execution_count": 32,
     "metadata": {},
     "output_type": "execute_result"
    }
   ],
   "source": [
    "# Panda`s series data type can be changed\n",
    "series = pd.Series([1, 2, 3], dtype= 'int32')\n",
    "series"
   ]
  },
  {
   "cell_type": "code",
   "execution_count": 34,
   "id": "b27cf480-9d40-4a89-a5f0-7adf102cd22a",
   "metadata": {},
   "outputs": [
    {
     "data": {
      "text/plain": [
       "0    1.000000\n",
       "1    4.398438\n",
       "2    6.000000\n",
       "dtype: float16"
      ]
     },
     "execution_count": 34,
     "metadata": {},
     "output_type": "execute_result"
    }
   ],
   "source": [
    "# or converted\n",
    "series = pd.Series([1, 4.4, 6]).astype(np.float16)\n",
    "series"
   ]
  },
  {
   "cell_type": "markdown",
   "id": "c7620989-9459-4116-b249-21e0a68780ad",
   "metadata": {},
   "source": [
    "### Reading data"
   ]
  },
  {
   "cell_type": "code",
   "execution_count": 37,
   "id": "a5112333-ef39-45ec-be51-2dfdc8e93820",
   "metadata": {},
   "outputs": [],
   "source": [
    "accidents_data = pd.read_csv('data/accidents.csv')"
   ]
  },
  {
   "cell_type": "code",
   "execution_count": 38,
   "id": "5c343b10-330a-4d6e-9ccf-2d03482fab15",
   "metadata": {},
   "outputs": [
    {
     "data": {
      "text/html": [
       "<div>\n",
       "<style scoped>\n",
       "    .dataframe tbody tr th:only-of-type {\n",
       "        vertical-align: middle;\n",
       "    }\n",
       "\n",
       "    .dataframe tbody tr th {\n",
       "        vertical-align: top;\n",
       "    }\n",
       "\n",
       "    .dataframe thead th {\n",
       "        text-align: right;\n",
       "    }\n",
       "</style>\n",
       "<table border=\"1\" class=\"dataframe\">\n",
       "  <thead>\n",
       "    <tr style=\"text-align: right;\">\n",
       "      <th></th>\n",
       "      <th>Miles from Home</th>\n",
       "      <th>% of Accidents</th>\n",
       "    </tr>\n",
       "  </thead>\n",
       "  <tbody>\n",
       "    <tr>\n",
       "      <th>0</th>\n",
       "      <td>less than 1</td>\n",
       "      <td>23</td>\n",
       "    </tr>\n",
       "    <tr>\n",
       "      <th>1</th>\n",
       "      <td>1 to 5</td>\n",
       "      <td>29</td>\n",
       "    </tr>\n",
       "    <tr>\n",
       "      <th>2</th>\n",
       "      <td>6 to 10</td>\n",
       "      <td>17</td>\n",
       "    </tr>\n",
       "    <tr>\n",
       "      <th>3</th>\n",
       "      <td>11 to 15</td>\n",
       "      <td>8</td>\n",
       "    </tr>\n",
       "    <tr>\n",
       "      <th>4</th>\n",
       "      <td>16 to 20</td>\n",
       "      <td>6</td>\n",
       "    </tr>\n",
       "    <tr>\n",
       "      <th>5</th>\n",
       "      <td>over 20</td>\n",
       "      <td>17</td>\n",
       "    </tr>\n",
       "  </tbody>\n",
       "</table>\n",
       "</div>"
      ],
      "text/plain": [
       "  Miles from Home  % of Accidents\n",
       "0     less than 1              23\n",
       "1          1 to 5              29\n",
       "2         6 to 10              17\n",
       "3        11 to 15               8\n",
       "4        16 to 20               6\n",
       "5         over 20              17"
      ]
     },
     "execution_count": 38,
     "metadata": {},
     "output_type": "execute_result"
    }
   ],
   "source": [
    "accidents_data"
   ]
  },
  {
   "cell_type": "code",
   "execution_count": 41,
   "id": "077ba53d-a24b-4e5e-abfd-ba943f08b997",
   "metadata": {},
   "outputs": [
    {
     "data": {
      "text/plain": [
       "(6, 2)"
      ]
     },
     "execution_count": 41,
     "metadata": {},
     "output_type": "execute_result"
    }
   ],
   "source": [
    "# Various functions can be called on the variable 'accidents_data'\n",
    "accidents_data.shape"
   ]
  },
  {
   "cell_type": "code",
   "execution_count": 42,
   "id": "060a2a8a-3dec-4076-8063-5dcba8d641db",
   "metadata": {},
   "outputs": [
    {
     "data": {
      "text/plain": [
       "Index(['Miles from Home', '% of Accidents'], dtype='object')"
      ]
     },
     "execution_count": 42,
     "metadata": {},
     "output_type": "execute_result"
    }
   ],
   "source": [
    "accidents_data.columns"
   ]
  },
  {
   "cell_type": "code",
   "execution_count": 44,
   "id": "d3199177-a228-47f1-bd66-0b061b32bccd",
   "metadata": {},
   "outputs": [
    {
     "data": {
      "text/plain": [
       "0    less than 1\n",
       "1         1 to 5\n",
       "2        6 to 10\n",
       "3       11 to 15\n",
       "4       16 to 20\n",
       "5        over 20\n",
       "Name: Miles from Home, dtype: object"
      ]
     },
     "execution_count": 44,
     "metadata": {},
     "output_type": "execute_result"
    }
   ],
   "source": [
    "accidents_data['Miles from Home']"
   ]
  },
  {
   "cell_type": "code",
   "execution_count": 45,
   "id": "c38d774c-c705-451c-800e-6c7acbc1073f",
   "metadata": {},
   "outputs": [
    {
     "data": {
      "text/plain": [
       "pandas.core.frame.DataFrame"
      ]
     },
     "execution_count": 45,
     "metadata": {},
     "output_type": "execute_result"
    }
   ],
   "source": [
    "type(accidents_data)"
   ]
  },
  {
   "cell_type": "code",
   "execution_count": 46,
   "id": "d3084ac7-446e-4115-9cd0-822de301edb1",
   "metadata": {},
   "outputs": [
    {
     "data": {
      "text/plain": [
       "pandas.core.series.Series"
      ]
     },
     "execution_count": 46,
     "metadata": {},
     "output_type": "execute_result"
    }
   ],
   "source": [
    "type(accidents_data['Miles from Home'])"
   ]
  },
  {
   "cell_type": "code",
   "execution_count": 47,
   "id": "2d8a57f0-57be-4cee-b495-56f66e374c7f",
   "metadata": {},
   "outputs": [
    {
     "data": {
      "text/plain": [
       "RangeIndex(start=0, stop=6, step=1)"
      ]
     },
     "execution_count": 47,
     "metadata": {},
     "output_type": "execute_result"
    }
   ],
   "source": [
    "accidents_data.index"
   ]
  },
  {
   "cell_type": "code",
   "execution_count": 49,
   "id": "14eaa42d-140a-4b84-8747-40e61bc5344e",
   "metadata": {},
   "outputs": [
    {
     "data": {
      "text/plain": [
       "'less than 1'"
      ]
     },
     "execution_count": 49,
     "metadata": {},
     "output_type": "execute_result"
    }
   ],
   "source": [
    "accidents_data['Miles from Home'][0]"
   ]
  },
  {
   "cell_type": "code",
   "execution_count": 50,
   "id": "fb9fd999-c569-48fc-9aec-e4f9442df9fe",
   "metadata": {},
   "outputs": [
    {
     "data": {
      "text/plain": [
       "'1 to 5'"
      ]
     },
     "execution_count": 50,
     "metadata": {},
     "output_type": "execute_result"
    }
   ],
   "source": [
    "accidents_data['Miles from Home'][1]"
   ]
  },
  {
   "cell_type": "code",
   "execution_count": 60,
   "id": "e2947956-4fce-4ba2-9c82-68a8f2992f57",
   "metadata": {},
   "outputs": [
    {
     "data": {
      "image/png": "[encoded data removed]",
      "text/plain": [
       "<Figure size 640x480 with 1 Axes>"
      ]
     },
     "metadata": {},
     "output_type": "display_data"
    }
   ],
   "source": [
    "# Ploting data\n",
    "plt.barh(accidents_data['Miles from Home'], accidents_data['% of Accidents'])\n",
    "plt.xticks(rotation=45)\n",
    "plt.gca().xaxis.set_major_locator(ticker.FixedLocator(plt.gca().get_xticks()))\n",
    "plt.gca().set_xticklabels([f'{x}%' for x in plt.gca().get_xticks()])\n",
    "plt.show()"
   ]
  }
 ],
 "metadata": {
  "kernelspec": {
   "display_name": "Python 3 (ipykernel)",
   "language": "python",
   "name": "python3"
  },
  "language_info": {
   "codemirror_mode": {
    "name": "ipython",
    "version": 3
   },
   "file_extension": ".py",
   "mimetype": "text/x-python",
   "name": "python",
   "nbconvert_exporter": "python",
   "pygments_lexer": "ipython3",
   "version": "3.9.13"
  }
 },
 "nbformat": 4,
 "nbformat_minor": 5
}
