{
 "cells": [
  {
   "cell_type": "code",
   "execution_count": 1,
   "id": "9b530bb8-e010-433f-a39f-b08e468e69ed",
   "metadata": {},
   "outputs": [],
   "source": [
    "%matplotlib inline"
   ]
  },
  {
   "cell_type": "code",
   "execution_count": 2,
   "id": "f5b4c544-221e-445d-94c4-824b9c5d33e0",
   "metadata": {},
   "outputs": [
    {
     "name": "stdout",
     "output_type": "stream",
     "text": [
      "pygame 2.4.0 (SDL 2.26.4, Python 3.9.13)\n",
      "Hello from the pygame community. https://www.pygame.org/contribute.html\n"
     ]
    }
   ],
   "source": [
    "import numpy as np\n",
    "import math\n",
    "import pygame\n",
    "import matplotlib.pyplot as plt\n",
    "from body import Body\n",
    "from gravity_animation import *"
   ]
  },
  {
   "cell_type": "markdown",
   "id": "4ad7e9f5-f30b-47bc-9897-ef363e1303a7",
   "metadata": {},
   "source": [
    "# <center>Project: Non-simultaneous gravitational interaction<center> \n",
    "## <center>Abstract<center>\n",
    "According to modern physical theories, the interaction between physical objects such as bodies, elementary particles, etc., is governed by four fundamental types of interactions: electromagnetic, strong nuclear, weak nuclear, and gravitational. These interactions are described as physical fields and are mediated by the exchange of special (virtual) particles. Historically, the first sufficiently well-studied and systematic interaction was gravitational, and Sir Isaac Newton deserves credit for that. The formula he derived provides a description of the interaction between two bodies with certain masses and at a specific distance from each other. However, this formula implicitly includes a very important assumption: gravitational interaction occurs instantaneously.\n",
    "\n",
    "In the late 19th century, Michelson and Morley experimentally established that the speed of light is the same regardless of the direction in which it moves. At the beginning of the 20th century, this unexpected property of light formed the basis of Einstein's Special Theory of Relativity as one of its two fundamental postulates: the speed of light in a vacuum is a constant and has the same value in all inertial reference frames. In modern understanding, the speed of light is the ultimate limit of the speed at which a physical object could move (more precisely, a physical object whose rest mass is zero). It is not possible to transmit any information at a faster speed. This automatically means that the four fundamental interactions should also occur with a finite speed: the time interval between the emission of the virtual particle and its absorption by another particle must be nonzero. Although no particle carrying the gravitational interaction has been discovered so far, it is also expected to occur with a time delay.\n",
    "\n",
    "On September 14, 2015, the Laser Interferometer Gravitational-Wave Observatory (LIGO) experiment detected gravitational waves, as predicted by the General Theory of Relativity in 1916. The object GW150914, which was detected, represents a system of two black holes located at a distance of approximately 1.3 billion light-years from Earth. The merging of the two black holes causes deformations in the geometry of spacetime, i.e., gravitational waves, which travel through the cosmic space and reach Earth after 1.3 billion years. The LIGO experiment confirms the finite speed of propagation of gravitational interaction.\n",
    "\n",
    "This project aims to accomplish the following tasks:\n",
    " *  Тo calculate the motion of a system of two or more bodies that interact gravitationally in both the simultaneous and non-simultaneous interaction modes, and to depict their motion in animation;\n",
    " *  To compare the two modes of interaction and to demonstrate the difference between them (if such a difference exists).\n",
    "    \n",
    "<br><br>\n",
    "### <center>*Part One*<center>\n",
    "## <center>Physical Explanation<center>\n",
    "\n",
    "Currently, there are two theories of gravity that have been sufficiently scientifically tested: Newton's theory of gravity (NTG) and Einstein's General Theory of Relativity (GTR). Although GTR is the more accurate theory, NTG remains sufficiently accurate for calculating gravitational interactions in physical systems involving moving objects with relatively low speeds and weak gravitational fields. There is also another significant difference between the two theories - NTG considers space, time, and matter as independent physical quantities and the motions of objects under gravitational forces as non-inertial. In contrast, GTR views space, time, and matter as deeply interconnected and mutually influencing physical quantities, and the motion of objects in gravitational fields as inertial. In GTR, gravity is not regarded as a force but as the curvature of the geometry of spacetime caused by the presence of massive bodies in a given volume of space. Since there is no force acting, according to the First Law of Mechanics, the motion of an object should be inertial. The deviation of the object's trajectory is a result of it following a so-called geodesic curve - the shortest path between two points in space.\n",
    "\n",
    "In this project, gravitational interactions will be calculated from the Newtonian perspective using the well-known formula for gravitational interaction between two bodies:\n",
    "    \n",
    "    \n",
    "$$\\vec{F} = G\\frac{m_1m_2}{r^2},\\quad\\quad\\quad\\quad(1)$$       \n",
    "    \n",
    "    \n",
    "where:\n",
    " * F is the force of attraction between the two interacting objects,\n",
    " * G is the gravitational constant, approximately equal to 6.675×10⁻¹¹ m³/(kg·s²),\n",
    " * m1 is the mass of one object,\n",
    " * m2 is the mass of the other object,\n",
    " * r is the distance between the centers of mass of the two objects. \n",
    " \n",
    "\n",
    "Let's now replace $m_1$ with M and $m_2$ with m:\n",
    "    \n",
    "$$\\vec{F} = G\\frac{Mm}{r^2},\\quad\\quad\\quad\\quad(2)$$\n",
    "    \n",
    "where $M$ is the mass of the body creating the gravitational field, and $m$ is the mass of the body located in that gravitational field and experiencing the acceleration created by the field at that point. \n",
    "    \n",
    "**Important clarification!!! In this project, the capital $M$ does not imply that the mass $M$ is greater than the lowercase $m$. It signifies that the mass $M$ is responsible for creating the gravitational field in which the body with mass $m$ is located. This principle underlies the fundamental concept in this project and will be further explained below.**\n",
    "    \n",
    "When an object is located in the gravitational field of another object, the force acting on it is given by another well-known formula of Newton:\n",
    "    \n",
    "$$\\vec{F} = m\\vec{a},\\quad\\quad\\quad\\quad(3)$$\n",
    "    \n",
    "In this case, we need to replace the acceleration $a$ with the gravitational acceleration $g$.\n",
    "    \n",
    "$$\\vec{F} = m\\vec{g},\\quad\\quad\\quad\\quad(4)$$\n",
    "\n",
    "Since the forces are equal, we can substitute (4) into (2) and obtain:\n",
    "    \n",
    "$$m\\vec{g} = G\\frac{Mm}{r^2},\\quad\\quad\\quad\\quad(5)$$ \n",
    "    \n",
    "We simplify both sides of the equation by dividing by $m$ and obtain the formula for the magnitude and direction of the gravitational acceleration generated by a body with mass M at a distance $r$:\n",
    "    \n",
    "$$\\vec{g} = G\\frac{M}{r^2},\\quad\\quad\\quad\\quad(6)$$  \n",
    "    \n",
    "From the formula, it can be seen that the magnitude of the acceleration does not depend on the mass of the attracted body (in this case $m$).\n",
    "    \n",
    "The same logic should be valid regarding the first body with mass $M$, which is located in the gravitational field of $m$. It experiences an acceleration created by the gravitational field of $m$, and its magnitude and direction will be:\n",
    "    \n",
    "$$\\vec{g} = G\\frac{m}{r^2},\\quad\\quad\\quad\\quad(7)$$\n",
    "    \n",
    "Here, the fundamental concept in this project needs to be introduced - the gravitational signal. The \"gravitational signal\" is not the hypothetical particle carrying the gravitational interaction - the graviton. The \"gravitational signal\" is simply a term that describes the transmission of specific information through space (and time). More specifically, the information it carries pertains to two things - the current location of the body at the time it is emitted and the mass of the body from which it is emitted. When body A \"absorbs\" a gravitational signal emitted by body B, it simply means that body A is subjected to an acceleration, with a magnitude and direction contained as information within the gravitational signal. \n",
    "    \n",
    "\n",
    "The next key concept in this project is that once emitted, the signal is **independent** of its source and propagates spherically and uniformly in all directions. The reverse would not be possible because the \"gravitational signal\" travels at the maximum possible speed, regardless of the form of communication with its source. Therefore, any form of communication with the source would need to occur at a speed greater than the maximum possible speed. \n",
    "        \n",
    "The acceleration acting on the body is expressed by the change in its instantaneous velocity through the computation of the first derivative of this acceleration. Since M and G are constants, we can assume:\n",
    "    \n",
    "$$a = MG,\\quad\\quad\\quad\\quad(9)$$\n",
    "    \n",
    "Then Equation (6) will have the more general form:\n",
    "    \n",
    "$$g = \\frac{a}{r^2},\\quad\\quad\\quad\\quad(10)$$\n",
    "    \n",
    "or\n",
    "    \n",
    "$$g = ar^{-2}.\\quad\\quad\\quad\\quad(11)$$\n",
    "    \n",
    "Differentiating Equation (11) with respect to the variable r:\n",
    "    \n",
    "$$g' = - 2ar^{-3},\\quad\\quad\\quad\\quad(12)$$\n",
    "    \n",
    "or \n",
    "  \n",
    "$$g' = -\\frac{2a}{r^{3}}.\\quad\\quad\\quad\\quad(13)$$\n",
    "    \n",
    "\n",
    "Substituting the value of $a$ from equation (9), we obtain:\n",
    "    \n",
    "$$g' = -\\frac{2MG}{r^{3}}.\\quad\\quad\\quad\\quad(14)$$\n",
    "    \n",
    "This is the equation for the instantaneous velocity created by the gravitational acceleration, which will be used in the code below. The minus sign indicates the direction of the force toward the body that creates the gravitational field.\n",
    "    \n",
    "    \n",
    "    \n",
    "Let's now focus on the 'mechanics' of gravitational signals. The following two graphs illustrate the difference in the effect of the gravitational field in the cases of simultaneous and non-simultaneous interaction.\n",
    "    "
   ]
  },
  {
   "cell_type": "code",
   "execution_count": 3,
   "id": "1ff7281a-698e-4b97-b990-652ea3a2c81e",
   "metadata": {},
   "outputs": [
    {
     "data": {
      "image/png": "[encoded data removed]",
      "text/plain": [
       "<Figure size 640x480 with 1 Axes>"
      ]
     },
     "metadata": {},
     "output_type": "display_data"
    }
   ],
   "source": [
    "bodyA = np.array([0,0])\n",
    "bodyB = np.array([3,2])\n",
    "\n",
    "plt.quiver(bodyB[0], bodyB[1], -2.4, -1.9, angles = \"xy\", scale_units = \"xy\", scale = 1.5, color = 'green')\n",
    "\n",
    "plt.scatter(bodyA[0],bodyA[1],s=200)\n",
    "plt.scatter(bodyB[0],bodyB[1])\n",
    "\n",
    "plt.text(bodyA[0]-0.1, bodyA[1]-1, 'A', fontsize=12, fontweight='bold')\n",
    "plt.text(bodyB[0]-0.1, bodyA[1] +1, 'B', fontsize=12, fontweight='bold')\n",
    "plt.text(bodyB[0] - 1, bodyA[1] + 2.2, 'g', fontsize=12, fontweight='bold')\n",
    "\n",
    "plt.title('The gravitational acceleration vector in the case of simultaneous interaction.')\n",
    "\n",
    "plt.xlim(-5,5)\n",
    "plt.ylim(-5,5)\n",
    "\n",
    "plt.xlabel('X')\n",
    "plt.ylabel('Y')\n",
    "\n",
    "plt.show()"
   ]
  },
  {
   "cell_type": "markdown",
   "id": "0ea5abba-e9ce-472a-bd92-4767fd2f0b5c",
   "metadata": {},
   "source": [
    "In the upper graph, body A exerts a gravitational force of attraction on body B, whose vector is directed from the center of body B towards the center of body A in the **current** position of body A. Let's see what happens to the vector of gravitational acceleration $g$ in the case of non-simultaneous interaction."
   ]
  },
  {
   "cell_type": "code",
   "execution_count": 4,
   "id": "19854757-c6e5-4547-9926-f2aad4579fc2",
   "metadata": {},
   "outputs": [
    {
     "data": {
      "image/png": "[encoded data removed]",
      "text/plain": [
       "<Figure size 640x480 with 1 Axes>"
      ]
     },
     "metadata": {},
     "output_type": "display_data"
    }
   ],
   "source": [
    "bodyA_previous_position = np.array([-2,2])\n",
    "\n",
    "plt.quiver(bodyA_previous_position[0], bodyA_previous_position[1], 1.8, -1.8, angles = \"xy\", scale_units = \"xy\", scale = 1, color = 'lightblue')\n",
    "plt.quiver(bodyB[0], bodyB[1], -1, 0, angles = \"xy\", scale_units = \"xy\", scale = 1, color = 'green')\n",
    "\n",
    "plt.scatter(bodyA_previous_position[0],bodyA_previous_position[1],s=200,color='blue')\n",
    "plt.scatter(bodyA[0],bodyA[1],s=200)\n",
    "plt.scatter(bodyB[0],bodyB[1])\n",
    "\n",
    "plt.text(bodyA[0]-0.1, bodyA[1]-1, 'A', fontsize=12, fontweight='bold')\n",
    "plt.text(bodyB[0]-0.1, bodyA[1] +1, 'B', fontsize=12, fontweight='bold')\n",
    "plt.text(bodyB[0] - 1, bodyA[1] + 2.5, 'g', fontsize=12, fontweight='bold')\n",
    "plt.text(bodyA_previous_position[0]-1, bodyA_previous_position[1]+1, 'Body A previous position', fontsize=8)\n",
    "\n",
    "plt.title('The gravitational acceleration vector in the case of non-simultaneous interaction.')\n",
    "\n",
    "plt.xlim(-5,5)\n",
    "plt.ylim(-5,5)\n",
    "\n",
    "plt.xlabel('X')\n",
    "plt.ylabel('Y')\n",
    "\n",
    "plt.show()"
   ]
  },
  {
   "cell_type": "markdown",
   "id": "6cbf29aa-c02e-4203-a4a2-f43fd474a8c7",
   "metadata": {},
   "source": [
    "As can be seen, the vector of acceleration is not directed towards the current position of body $A$, but towards the position from which the signal was emitted - body $A$ previous position. **This is the key idea of this project.** This changes both the direction and magnitude of the vector, as the distance between body $B$ and the point from which the signal was emitted is greater compared to the previous graph. The next animations will provide a better visual explanation of the non-simulataneous gravitational interaction."
   ]
  },
  {
   "cell_type": "code",
   "execution_count": 5,
   "id": "d7392ac9-863c-4cae-b1ad-2ff603cc7925",
   "metadata": {},
   "outputs": [],
   "source": [
    "# Run the animation\n",
    "еxplanatory_animation1()"
   ]
  },
  {
   "cell_type": "markdown",
   "id": "09929061-0e3a-4d6f-8466-61e1ba4aba22",
   "metadata": {},
   "source": [
    "For greater clarity, this animation considers the case where only one body - the blue body - emits a gravitational signal, while the other body - the orange body - receives the signal. When the signal reaches the orange body, its gravitational acceleration modifies its instantaneous velocity - which in this case is zero, and it starts moving towards the blue body.\n",
    "\n",
    "The second animation depicts the 'real' scenario where both objects emit and receive signals while in motion."
   ]
  },
  {
   "cell_type": "code",
   "execution_count": 7,
   "id": "67f26a7f-53a6-485f-be46-b1150dbd90a7",
   "metadata": {},
   "outputs": [],
   "source": [
    "# Run the animation\n",
    "еxplanatory_animation2()"
   ]
  },
  {
   "cell_type": "markdown",
   "id": "43b030be-4529-400d-81ba-7dd49c242db2",
   "metadata": {},
   "source": [
    "<br><br><center><em><strong>Conclusion</strong></em></center>\n",
    "\n",
    "The difference between simultaneous and non-simultaneous gravitational interaction lies in the idea that in non-simultaneous interaction, objects interact not with their current states but with their past states. This key difference reveals certain issues that impose a completely different approach when calculating the interactions between them. The next part of the presentation deals with these theoretical problems and the challenges of their implementation.\n"
   ]
  },
  {
   "cell_type": "markdown",
   "id": "aae2f336-fa4f-4c72-b835-ad866d5e033f",
   "metadata": {},
   "source": [
    "<br><br>\n",
    "### <center>*Part Two*<center>\n",
    "## <center>Mechanics of non-simultaneous gravitational interaction and its implementation<center>"
   ]
  },
  {
   "cell_type": "code",
   "execution_count": 14,
   "id": "10a0524a-7204-4409-86df-d0075fa47e98",
   "metadata": {},
   "outputs": [],
   "source": [
    "circleA = Body(0, 0, 40000, radius=10)\n",
    "circleB = Body(200, 0, 200, radius=5, color=(250, 0, 0))\n",
    "circleC = Body(0, -200, 6000, radius=5, color=(0, 0, 250))\n",
    "\n",
    "# Set initial velocities\n",
    "circleA.velocity = np.array([0, 0])\n",
    "circleB.velocity = np.array([0.2, 0.5])\n",
    "\n",
    "circleC.velocity = np.array([-1.5, 0])\n",
    "\n",
    "# Set a list with objects\n",
    "bodies = [circleA,circleB,circleC]\n",
    "# bodies = [circleA, circleB]\n",
    "\n",
    "interacting_bodies_number = len(bodies) - 1"
   ]
  },
  {
   "cell_type": "code",
   "execution_count": 15,
   "id": "5bab47c9-d810-472b-97d4-f51d416b2ac5",
   "metadata": {},
   "outputs": [],
   "source": [
    "animation(interacting_bodies_number, *bodies, simultaneous_interaction=True,trace_trajectories=False)"
   ]
  },
  {
   "cell_type": "code",
   "execution_count": 4,
   "id": "2d6b38a1-a761-40da-af89-7349332ac01b",
   "metadata": {},
   "outputs": [
    {
     "data": {
      "image/png": "[encoded data removed]",
      "text/plain": [
       "<Figure size 640x480 with 1 Axes>"
      ]
     },
     "metadata": {},
     "output_type": "display_data"
    }
   ],
   "source": [
    "%matplotlib inline\n",
    "import matplotlib.pyplot as plt\n",
    "A = np.array([4,0])\n",
    "B = np.array([2,6])\n",
    "C = np.array([6,4])\n",
    "D = np.array([0,0])\n",
    "\n",
    "plt.xlim(-3,10)\n",
    "plt.ylim(-3,10)\n",
    "plt.scatter(D[0],D[1], color= 'grey')\n",
    "plt.scatter(A[0],A[1],color='green')\n",
    "plt.scatter(B[0], B[1], color='red')\n",
    "plt.scatter(C[0],C[1],color = 'black')\n",
    "# plt.scatter(3.2727, 1.1818,color = 'yellow')\n",
    "plt.scatter( 3.272727272727273, 2.1818181818181817, color='black')\n",
    "plt.quiver(0, 0, 6,4, angles = \"xy\", scale_units = \"xy\", scale = 1, color = 'green')\n",
    "plt.quiver(A[0], A[1],-2, 6, angles = \"xy\", scale_units = \"xy\", scale = 1, color = 'red')\n",
    "# plt.quiver(0,0,C[0], C[1], angles = \"xy\", scale_units = \"xy\", scale = 1, color = 'blue')\n",
    "\n",
    "plt.show()"
   ]
  },
  {
   "cell_type": "code",
   "execution_count": 5,
   "id": "bb17538e-9c7a-4886-8371-e422bacbc771",
   "metadata": {},
   "outputs": [
    {
     "name": "stdout",
     "output_type": "stream",
     "text": [
      "[4, 0] [2, 6] [6, 4] [0, 0]\n",
      "X = 3.272727272727273 Y = 2.1818181818181817\n",
      "-3.0\n",
      "12.0\n",
      "[ 4.         -0.44444444]\n",
      "True\n"
     ]
    }
   ],
   "source": [
    "A = list(A)\n",
    "B= list(B)\n",
    "C = list(C)\n",
    "D = list(D)\n",
    "print(A,B,C,D)\n",
    "\n",
    "pos_slope = (B[1] - A[1])/(B[0] - A[0])\n",
    "pos_const = A[1] - pos_slope * A[0]\n",
    "\n",
    "signal_slope = (C[1] - D[1])/(C[0] - D[0])\n",
    "signal_const = D[1] - signal_slope * D[0]\n",
    "\n",
    "x_intersept = (signal_const - pos_const)/(pos_slope - signal_slope)\n",
    "y_intersept = pos_slope * x_intersept + pos_const\n",
    "print(f'X = {x_intersept} Y = {y_intersept}')\n",
    "a1,b1,c1 = pos_slope, A[1], pos_const \n",
    "a2,b2,c2 =  signal_slope, B[1], signal_const\n",
    "\n",
    "S = np.array([[a1, b1], [a2, b2]])\n",
    "b = np.array([-c1, -c2])\n",
    "\n",
    "print(pos_slope)\n",
    "print(pos_const)\n",
    "print(np.linalg.solve(S,b))\n",
    "print(B[1] == pos_slope * B[0] + pos_const)"
   ]
  },
  {
   "cell_type": "code",
   "execution_count": 105,
   "id": "d1e5001c-1540-4421-8266-8976965e0d53",
   "metadata": {},
   "outputs": [
    {
     "name": "stdout",
     "output_type": "stream",
     "text": [
      "Ъгълът в радиани:  0.031239833430268277\n",
      "Ъгълът в градуси:  1.7899106082460694\n",
      "0.03124491398532608\n",
      "0.9995117584851364\n"
     ]
    }
   ],
   "source": [
    "\n",
    "\n",
    "naklon = 0.03125\n",
    "angle_radians = math.atan(naklon)\n",
    "angle_degrees = math.degrees(angle_radians)\n",
    "angle_radians = math.atan(naklon)\n",
    "\n",
    "print(\"Ъгълът в радиани: \", angle_radians)\n",
    "print(\"Ъгълът в градуси: \", angle_degrees)\n",
    "print(math.sin(naklon))\n",
    "print(math.cos(naklon))"
   ]
  }
 ],
 "metadata": {
  "kernelspec": {
   "display_name": "Python 3 (ipykernel)",
   "language": "python",
   "name": "python3"
  },
  "language_info": {
   "codemirror_mode": {
    "name": "ipython",
    "version": 3
   },
   "file_extension": ".py",
   "mimetype": "text/x-python",
   "name": "python",
   "nbconvert_exporter": "python",
   "pygments_lexer": "ipython3",
   "version": "3.9.13"
  }
 },
 "nbformat": 4,
 "nbformat_minor": 5
}
