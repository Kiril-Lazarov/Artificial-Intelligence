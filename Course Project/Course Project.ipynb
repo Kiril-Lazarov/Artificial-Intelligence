{
 "cells": [
  {
   "cell_type": "code",
   "execution_count": 50,
   "id": "992019b5",
   "metadata": {},
   "outputs": [],
   "source": [
    "%matplotlib inline"
   ]
  },
  {
   "cell_type": "code",
   "execution_count": 82,
   "id": "5a9fee8f",
   "metadata": {},
   "outputs": [],
   "source": [
    "import matplotlib.pyplot as plt\n",
    "from matplotlib.animation import FuncAnimation\n",
    "from IPython import display\n",
    "import numpy as np\n",
    "import math"
   ]
  },
  {
   "cell_type": "code",
   "execution_count": null,
   "id": "8739d35b",
   "metadata": {},
   "outputs": [
    {
     "name": "stdout",
     "output_type": "stream",
     "text": [
      "Acceleration: 0.00015384615384615388 Distance: 5.0990195135927845 First derivative:      6.0343426196364335e-05 Escape velocity: 0.039609709429702614\n"
     ]
    }
   ],
   "source": [
    "class Body(plt.Circle):\n",
    "\n",
    "    G = 0.00002\n",
    "    def __init__(self, x,y,mass,radius = 0.2,color='green'):\n",
    "        self.x = x\n",
    "        self.y = y\n",
    "        self.mass = mass\n",
    "        self.body = plt.Circle((self.x,self.y), radius = radius,color = color)\n",
    "        self.velocity = np.array([0,0])\n",
    "    \n",
    "    @staticmethod\n",
    "    def calc_acceleration(M,r):\n",
    "        return Body.G * M/r**2\n",
    "\n",
    "    @staticmethod\n",
    "    def distance(point1,point2):\n",
    "        return math.sqrt((point1[0] - point2[0]) ** 2 + (point1[1] - point2[1]) ** 2)\n",
    "    \n",
    "    @staticmethod\n",
    "    def first_derivative(M,r):\n",
    "        return 2 * Body.G * M/ r **3\n",
    "    \n",
    "    @staticmethod\n",
    "    def escape_velocity(M,r):\n",
    "        return math.sqrt(2 * M * Body.G/ r)\n",
    "    \n",
    "circleA = Body(0,0,200,radius= 0.3)\n",
    "# circleA.velocity = np.array([0,0])\n",
    "circleB = Body(5,1, 5, radius= 0.1,color='red')\n",
    "\n",
    "\n",
    "circleB.velocity = np.array([-0.02, 0.03])\n",
    "\n",
    "\n",
    "dist = circleA.distance([circleA.x, circleA.y], [circleB.x, circleB.y])\n",
    "print(f'Acceleration: {circleA.calc_acceleration(circleA.mass, dist)} Distance: {dist} First derivative:\\\n",
    "      {circleA.first_derivative(circleA.mass, dist)} Escape velocity: {circleB.escape_velocity(circleA.mass,dist)}')\n",
    "\n",
    "fig = plt.figure(figsize= (5,5))\n",
    "ax = fig.add_subplot(111)\n",
    "ax.add_artist(circleA.body)\n",
    "ax.add_artist(circleB.body)\n",
    "\n",
    "lines = plt.plot([])\n",
    "line = lines[0]\n",
    "\n",
    "\n",
    "plt.xlim(-10,10)\n",
    "plt.ylim(-10,10)\n",
    "\n",
    "def animate(frame):\n",
    "    dist = circleA.distance([circleA.x, circleA.y], [circleB.x, circleB.y])\n",
    "\n",
    "    \n",
    "    #Calculations for circleB\n",
    "    first_deriv_B = circleB.first_derivative(circleA.mass, dist)\n",
    "    dist_vector_BA = [circleA.x - circleB.x, circleA.y - circleB.y]\n",
    "    velocity_vector_BA = np.array([dist_vector_BA[0] * first_deriv_B, dist_vector_BA[1] * first_deriv_B])    \n",
    "    circleB.velocity = circleB.velocity + velocity_vector_BA\n",
    "    circleB.x += circleB.velocity[0]\n",
    "    circleB.y += circleB.velocity[1]\n",
    "\n",
    "    #Calculations for circleA\n",
    "    first_deriv_A = circleA.first_derivative(circleB.mass,dist)\n",
    "    dist_vector_AB = [circleB.x - circleA.x, circleB.y - circleA.y]\n",
    "    velocity_vector_AB = np.array([dist_vector_AB[0] *first_deriv_A, dist_vector_AB[1] *first_deriv_A ])\n",
    "    circleA.velocity = circleA.velocity + velocity_vector_AB\n",
    "    \n",
    "    circleA.x+= circleA.velocity[0]\n",
    "    circleA.y += circleA.velocity[0]\n",
    "    \n",
    "\n",
    "    circleA.body.center = (circleA.x, circleA.y)\n",
    "    circleB.body.center = (circleB.x, circleB.y)\n",
    "    line.set_data((circleA.x,circleA.y))\n",
    "    line.set_data((circleB.x, circleB.y))\n",
    "    \n",
    "    \n",
    "anim = FuncAnimation(fig, animate,frames=1600, interval=10)\n",
    "video = anim.to_html5_video()\n",
    "html = display.HTML(video)\n",
    "display.display(html)\n",
    "plt.close()"
   ]
  },
  {
   "cell_type": "code",
   "execution_count": 138,
   "id": "5b0069e3",
   "metadata": {},
   "outputs": [
    {
     "name": "stdout",
     "output_type": "stream",
     "text": [
      "4.242640687119285\n",
      "[0 0]\n",
      "[3 3]\n",
      "[-3 -3]\n",
      "Result vector: \n",
      "    Specialized PolyCollection for arrows.\n",
      "\n",
      "    The only API method is set_UVC(), which can be used\n",
      "    to change the size, orientation, and color of the\n",
      "    arrows; their locations are fixed when the class is\n",
      "    instantiated.  Possibly this method will be useful\n",
      "    in animations.\n",
      "\n",
      "    Much of the work in this class is done in the draw()\n",
      "    method so that as much information as possible is available\n",
      "    about the plot.  In subsequent draw() calls, recalculation\n",
      "    is limited to things that might have changed, so there\n",
      "    should be no performance penalty from putting the calculations\n",
      "    in the draw() method.\n",
      "    \n"
     ]
    },
    {
     "data": {
      "image/png": "[encoded data removed]",
      "text/plain": [
       "<Figure size 640x480 with 1 Axes>"
      ]
     },
     "metadata": {},
     "output_type": "display_data"
    }
   ],
   "source": [
    "def calc_distance(v1,v2):\n",
    "    return math.sqrt((v1[0] - v2[0]) **2 + (v1[1] - v2[1])**2)\n",
    "\n",
    "A = np.array([0,0])\n",
    "B = np.array([3,3])\n",
    "d = circleA.distance(A,B)\n",
    "print(d)\n",
    "print(A)\n",
    "print(B)\n",
    "print(A+(-1)* B)\n",
    "plt.xlim(0,6)\n",
    "plt.ylim(0,6)\n",
    "plt.scatter(0,0)\n",
    "plt.scatter(3,3)\n",
    "result = plt.quiver(3,3,-3,-3, angles = \"xy\", scale_units = \"xy\", scale = 1, color = 'green')\n",
    "print(f'Result vector: {result.__doc__}')\n",
    "# plt.quiver(0,0,1,1, angles = \"xy\", scale_units = \"xy\", scale = 1, color = 'red')\n",
    "# plt.quiver(0,0,3,3, angles = \"xy\", scale_units = \"xy\", scale = 1, color = 'blue')\n",
    "\n",
    "plt.show()\n"
   ]
  },
  {
   "cell_type": "code",
   "execution_count": 80,
   "id": "aadd9d54",
   "metadata": {},
   "outputs": [
    {
     "data": {
      "image/png": "[encoded data removed]",
      "text/plain": [
       "<Figure size 640x480 with 1 Axes>"
      ]
     },
     "metadata": {},
     "output_type": "display_data"
    }
   ],
   "source": [
    "# Векторите\n",
    "v1 = np.array([1, 1])\n",
    "v2 = np.array([3, 2])\n",
    "\n",
    "# Изчисляване на сумата\n",
    "v_sum = v1 + v2\n",
    "\n",
    "# Начертаване на графиката\n",
    "plt.figure()\n",
    "plt.plot([0, v1[0]], [0, v1[1]], '-r', label='v1') # Червената линия е v1\n",
    "plt.plot([0, v2[0]], [0, v2[1]], '-b', label='v2') # Синята линия е v2\n",
    "plt.plot([0, v_sum[0]], [0, v_sum[1]], '-g', label='v1+v2') # Зелената линия е v1+v2\n",
    "plt.plot([1,1], [3,2])\n",
    "plt.legend(loc='upper left')\n",
    "plt.axis('equal')\n",
    "plt.grid()\n",
    "plt.show()"
   ]
  }
 ],
 "metadata": {
  "kernelspec": {
   "display_name": "Python 3 (ipykernel)",
   "language": "python",
   "name": "python3"
  },
  "language_info": {
   "codemirror_mode": {
    "name": "ipython",
    "version": 3
   },
   "file_extension": ".py",
   "mimetype": "text/x-python",
   "name": "python",
   "nbconvert_exporter": "python",
   "pygments_lexer": "ipython3",
   "version": "3.9.13"
  }
 },
 "nbformat": 4,
 "nbformat_minor": 5
}
